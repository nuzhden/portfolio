{
 "cells": [
  {
   "cell_type": "markdown",
   "metadata": {},
   "source": [
    "# Поиск клиента с неоптимальными тарифами"
   ]
  },
  {
   "cell_type": "markdown",
   "metadata": {},
   "source": [
    "Заказчик – провайдер виртуальной телефонии «Нупозвони». Его клиенты — колл-центры, которые:\n",
    "- распределяют входящие вызовы на операторов;\n",
    "- совершают исходящие вызовы силами операторов;\n",
    "- также операторы могут делать внутренние вызовы — вызовы друг между другом внутри сети виртуальной телефонии.\n",
    "\n",
    "**Цели проекта**\n",
    "- найти клиентов, которые переплачивают на текущих тарифах;\n",
    "- найти клиентов, которые сэкономят если перейдут на более дорогой тариф.\n",
    "\n",
    "**План работы**\n",
    "- загрузка данных;\n",
    "- предобработка данных;\n",
    "- исследовательский анализ (определим активных пользователей, для которых будем проводить все остальные расчеты; посчитаем ежемесячные траты пользователей; построим распределение трат пользователей по тарифам; посмотрим какие клиенты приносят выручку, сколько они платят и какие тарифы используют; определим оптимальный тариф для клиентов, которые в среднем платят больше на своем тарифе, посмотрим сколько их, что это за клиенты, как смена тарифа отразится на выручке);\n",
    "- проверка статистических гипотез (проверим различаются ли цены услуг на тарифных планах A и B; посмотрим будет ли разница в выручке до и после смены всех тарифов на оптимальный статистически значима);\n",
    "- презентация.\n",
    "\n",
    "**Исходные данные**\n",
    "- данные об использовании клиентами услуг виртуальной телефонии;\n",
    "- данные о клиентах.\n",
    "\n",
    "Датасет /datasets/telecom_dataset.csv:\n",
    "- user_id — идентификатор клиента;\n",
    "- date — дата статистики;\n",
    "- direction — направление вызовов: out — исходящий вызов, in — входящий;\n",
    "- internal — маркер внутренних и внешних вызовов;\n",
    "- operator_id — идентификатор оператора;\n",
    "- is_missed_call — маркер пропущенных вызовов;\n",
    "- calls_count — количество звонков;\n",
    "- call_duration — длительность звонка без учёта времени ожидания;\n",
    "- total_call_duration — длительность звонка с учётом времени ожидания.\n",
    "\n",
    "Датасет /datasets/telecom_clients.csv:\n",
    "- user_id — идентификатор клиента;\n",
    "- tariff_plan — тарифный план клиента;\n",
    "- date_start — дата регистрации клиента в сервисе."
   ]
  },
  {
   "cell_type": "markdown",
   "metadata": {
    "toc": true
   },
   "source": [
    "<h1>Содержание<span class=\"tocSkip\"></span></h1>\n",
    "<div class=\"toc\"><ul class=\"toc-item\"><li><span><a href=\"#Общая-информация-и-предобработка-данных\" data-toc-modified-id=\"Общая-информация-и-предобработка-данных-1\"><span class=\"toc-item-num\">1&nbsp;&nbsp;</span>Общая информация и предобработка данных</a></span><ul class=\"toc-item\"><li><span><a href=\"#Обзор-информации\" data-toc-modified-id=\"Обзор-информации-1.1\"><span class=\"toc-item-num\">1.1&nbsp;&nbsp;</span>Обзор информации</a></span></li><li><span><a href=\"#Предобработка-данных\" data-toc-modified-id=\"Предобработка-данных-1.2\"><span class=\"toc-item-num\">1.2&nbsp;&nbsp;</span>Предобработка данных</a></span></li><li><span><a href=\"#Выводы-по-разделу\" data-toc-modified-id=\"Выводы-по-разделу-1.3\"><span class=\"toc-item-num\">1.3&nbsp;&nbsp;</span>Выводы по разделу</a></span></li></ul></li><li><span><a href=\"#Исследовательский-анализ-данных\" data-toc-modified-id=\"Исследовательский-анализ-данных-2\"><span class=\"toc-item-num\">2&nbsp;&nbsp;</span>Исследовательский анализ данных</a></span><ul class=\"toc-item\"><li><span><a href=\"#Активные-пользователи\" data-toc-modified-id=\"Активные-пользователи-2.1\"><span class=\"toc-item-num\">2.1&nbsp;&nbsp;</span>Активные пользователи</a></span></li><li><span><a href=\"#Анализ-затрат-активных-пользователей\" data-toc-modified-id=\"Анализ-затрат-активных-пользователей-2.2\"><span class=\"toc-item-num\">2.2&nbsp;&nbsp;</span>Анализ затрат активных пользователей</a></span></li><li><span><a href=\"#Поиск-пользователей-с-неоптимальными-тарифами\" data-toc-modified-id=\"Поиск-пользователей-с-неоптимальными-тарифами-2.3\"><span class=\"toc-item-num\">2.3&nbsp;&nbsp;</span>Поиск пользователей с неоптимальными тарифами</a></span></li><li><span><a href=\"#Выводы-по-разделу\" data-toc-modified-id=\"Выводы-по-разделу-2.4\"><span class=\"toc-item-num\">2.4&nbsp;&nbsp;</span>Выводы по разделу</a></span></li></ul></li><li><span><a href=\"#Проверка-статистических-гипотез\" data-toc-modified-id=\"Проверка-статистических-гипотез-3\"><span class=\"toc-item-num\">3&nbsp;&nbsp;</span>Проверка статистических гипотез</a></span><ul class=\"toc-item\"><li><span><a href=\"#Цена-услуг-тарифов-A-и-B\" data-toc-modified-id=\"Цена-услуг-тарифов-A-и-B-3.1\"><span class=\"toc-item-num\">3.1&nbsp;&nbsp;</span>Цена услуг тарифов A и B</a></span></li><li><span><a href=\"#Различие-выручки-до-и-после-смены-тарифов--пользователей-на-оптимальные\" data-toc-modified-id=\"Различие-выручки-до-и-после-смены-тарифов--пользователей-на-оптимальные-3.2\"><span class=\"toc-item-num\">3.2&nbsp;&nbsp;</span>Различие выручки до и после смены тарифов  пользователей на оптимальные</a></span></li><li><span><a href=\"#Выводы-по-разделу\" data-toc-modified-id=\"Выводы-по-разделу-3.3\"><span class=\"toc-item-num\">3.3&nbsp;&nbsp;</span>Выводы по разделу</a></span></li></ul></li><li><span><a href=\"#Общий-вывод\" data-toc-modified-id=\"Общий-вывод-4\"><span class=\"toc-item-num\">4&nbsp;&nbsp;</span>Общий вывод</a></span></li></ul></div>"
   ]
  },
  {
   "cell_type": "markdown",
   "metadata": {},
   "source": [
    "## Общая информация и предобработка данных"
   ]
  },
  {
   "cell_type": "markdown",
   "metadata": {},
   "source": [
    "### Обзор информации"
   ]
  },
  {
   "cell_type": "code",
   "execution_count": 1,
   "metadata": {},
   "outputs": [],
   "source": [
    "# импортиуем библиотеки\n",
    "import pandas as pd\n",
    "import numpy as np\n",
    "from scipy import stats as st\n",
    "import matplotlib.pyplot as plt\n",
    "import seaborn as sns\n",
    "import plotly.graph_objects as go\n",
    "import plotly.express as px"
   ]
  },
  {
   "cell_type": "code",
   "execution_count": 2,
   "metadata": {},
   "outputs": [],
   "source": [
    "try:\n",
    "    dataset, clients = (\n",
    "    pd.read_csv('/datasets/telecom_dataset.csv'),\n",
    "    pd.read_csv('/datasets/telecom_clients.csv')\n",
    "    )\n",
    "except:\n",
    "    dataset, clients = (\n",
    "    pd.read_csv('https://code.s3.yandex.net/datasets/telecom_dataset.csv'),\n",
    "    pd.read_csv('https://code.s3.yandex.net/datasets/telecom_clients.csv')\n",
    "    )"
   ]
  },
  {
   "cell_type": "code",
   "execution_count": 3,
   "metadata": {},
   "outputs": [
    {
     "name": "stdout",
     "output_type": "stream",
     "text": [
      "<class 'pandas.core.frame.DataFrame'>\n",
      "RangeIndex: 53902 entries, 0 to 53901\n",
      "Data columns (total 9 columns):\n",
      " #   Column               Non-Null Count  Dtype  \n",
      "---  ------               --------------  -----  \n",
      " 0   user_id              53902 non-null  int64  \n",
      " 1   date                 53902 non-null  object \n",
      " 2   direction            53902 non-null  object \n",
      " 3   internal             53785 non-null  object \n",
      " 4   operator_id          45730 non-null  float64\n",
      " 5   is_missed_call       53902 non-null  bool   \n",
      " 6   calls_count          53902 non-null  int64  \n",
      " 7   call_duration        53902 non-null  int64  \n",
      " 8   total_call_duration  53902 non-null  int64  \n",
      "dtypes: bool(1), float64(1), int64(4), object(3)\n",
      "memory usage: 3.3+ MB\n"
     ]
    }
   ],
   "source": [
    "# изучим общую информацию о dataset\n",
    "dataset.info()"
   ]
  },
  {
   "cell_type": "code",
   "execution_count": 4,
   "metadata": {},
   "outputs": [
    {
     "data": {
      "text/html": [
       "<div>\n",
       "<style scoped>\n",
       "    .dataframe tbody tr th:only-of-type {\n",
       "        vertical-align: middle;\n",
       "    }\n",
       "\n",
       "    .dataframe tbody tr th {\n",
       "        vertical-align: top;\n",
       "    }\n",
       "\n",
       "    .dataframe thead th {\n",
       "        text-align: right;\n",
       "    }\n",
       "</style>\n",
       "<table border=\"1\" class=\"dataframe\">\n",
       "  <thead>\n",
       "    <tr style=\"text-align: right;\">\n",
       "      <th></th>\n",
       "      <th>user_id</th>\n",
       "      <th>date</th>\n",
       "      <th>direction</th>\n",
       "      <th>internal</th>\n",
       "      <th>operator_id</th>\n",
       "      <th>is_missed_call</th>\n",
       "      <th>calls_count</th>\n",
       "      <th>call_duration</th>\n",
       "      <th>total_call_duration</th>\n",
       "    </tr>\n",
       "  </thead>\n",
       "  <tbody>\n",
       "    <tr>\n",
       "      <th>0</th>\n",
       "      <td>166377</td>\n",
       "      <td>2019-08-04 00:00:00+03:00</td>\n",
       "      <td>in</td>\n",
       "      <td>False</td>\n",
       "      <td>NaN</td>\n",
       "      <td>True</td>\n",
       "      <td>2</td>\n",
       "      <td>0</td>\n",
       "      <td>4</td>\n",
       "    </tr>\n",
       "    <tr>\n",
       "      <th>1</th>\n",
       "      <td>166377</td>\n",
       "      <td>2019-08-05 00:00:00+03:00</td>\n",
       "      <td>out</td>\n",
       "      <td>True</td>\n",
       "      <td>880022.0</td>\n",
       "      <td>True</td>\n",
       "      <td>3</td>\n",
       "      <td>0</td>\n",
       "      <td>5</td>\n",
       "    </tr>\n",
       "    <tr>\n",
       "      <th>2</th>\n",
       "      <td>166377</td>\n",
       "      <td>2019-08-05 00:00:00+03:00</td>\n",
       "      <td>out</td>\n",
       "      <td>True</td>\n",
       "      <td>880020.0</td>\n",
       "      <td>True</td>\n",
       "      <td>1</td>\n",
       "      <td>0</td>\n",
       "      <td>1</td>\n",
       "    </tr>\n",
       "    <tr>\n",
       "      <th>3</th>\n",
       "      <td>166377</td>\n",
       "      <td>2019-08-05 00:00:00+03:00</td>\n",
       "      <td>out</td>\n",
       "      <td>True</td>\n",
       "      <td>880020.0</td>\n",
       "      <td>False</td>\n",
       "      <td>1</td>\n",
       "      <td>10</td>\n",
       "      <td>18</td>\n",
       "    </tr>\n",
       "    <tr>\n",
       "      <th>4</th>\n",
       "      <td>166377</td>\n",
       "      <td>2019-08-05 00:00:00+03:00</td>\n",
       "      <td>out</td>\n",
       "      <td>False</td>\n",
       "      <td>880022.0</td>\n",
       "      <td>True</td>\n",
       "      <td>3</td>\n",
       "      <td>0</td>\n",
       "      <td>25</td>\n",
       "    </tr>\n",
       "    <tr>\n",
       "      <th>5</th>\n",
       "      <td>166377</td>\n",
       "      <td>2019-08-05 00:00:00+03:00</td>\n",
       "      <td>out</td>\n",
       "      <td>False</td>\n",
       "      <td>880020.0</td>\n",
       "      <td>False</td>\n",
       "      <td>2</td>\n",
       "      <td>3</td>\n",
       "      <td>29</td>\n",
       "    </tr>\n",
       "    <tr>\n",
       "      <th>6</th>\n",
       "      <td>166377</td>\n",
       "      <td>2019-08-05 00:00:00+03:00</td>\n",
       "      <td>out</td>\n",
       "      <td>False</td>\n",
       "      <td>880020.0</td>\n",
       "      <td>True</td>\n",
       "      <td>8</td>\n",
       "      <td>0</td>\n",
       "      <td>50</td>\n",
       "    </tr>\n",
       "    <tr>\n",
       "      <th>7</th>\n",
       "      <td>166377</td>\n",
       "      <td>2019-08-05 00:00:00+03:00</td>\n",
       "      <td>in</td>\n",
       "      <td>False</td>\n",
       "      <td>NaN</td>\n",
       "      <td>True</td>\n",
       "      <td>6</td>\n",
       "      <td>0</td>\n",
       "      <td>35</td>\n",
       "    </tr>\n",
       "    <tr>\n",
       "      <th>8</th>\n",
       "      <td>166377</td>\n",
       "      <td>2019-08-05 00:00:00+03:00</td>\n",
       "      <td>out</td>\n",
       "      <td>False</td>\n",
       "      <td>880020.0</td>\n",
       "      <td>True</td>\n",
       "      <td>8</td>\n",
       "      <td>0</td>\n",
       "      <td>50</td>\n",
       "    </tr>\n",
       "    <tr>\n",
       "      <th>9</th>\n",
       "      <td>166377</td>\n",
       "      <td>2019-08-06 00:00:00+03:00</td>\n",
       "      <td>in</td>\n",
       "      <td>False</td>\n",
       "      <td>NaN</td>\n",
       "      <td>True</td>\n",
       "      <td>4</td>\n",
       "      <td>0</td>\n",
       "      <td>62</td>\n",
       "    </tr>\n",
       "  </tbody>\n",
       "</table>\n",
       "</div>"
      ],
      "text/plain": [
       "   user_id                       date direction internal  operator_id  \\\n",
       "0   166377  2019-08-04 00:00:00+03:00        in    False          NaN   \n",
       "1   166377  2019-08-05 00:00:00+03:00       out     True     880022.0   \n",
       "2   166377  2019-08-05 00:00:00+03:00       out     True     880020.0   \n",
       "3   166377  2019-08-05 00:00:00+03:00       out     True     880020.0   \n",
       "4   166377  2019-08-05 00:00:00+03:00       out    False     880022.0   \n",
       "5   166377  2019-08-05 00:00:00+03:00       out    False     880020.0   \n",
       "6   166377  2019-08-05 00:00:00+03:00       out    False     880020.0   \n",
       "7   166377  2019-08-05 00:00:00+03:00        in    False          NaN   \n",
       "8   166377  2019-08-05 00:00:00+03:00       out    False     880020.0   \n",
       "9   166377  2019-08-06 00:00:00+03:00        in    False          NaN   \n",
       "\n",
       "   is_missed_call  calls_count  call_duration  total_call_duration  \n",
       "0            True            2              0                    4  \n",
       "1            True            3              0                    5  \n",
       "2            True            1              0                    1  \n",
       "3           False            1             10                   18  \n",
       "4            True            3              0                   25  \n",
       "5           False            2              3                   29  \n",
       "6            True            8              0                   50  \n",
       "7            True            6              0                   35  \n",
       "8            True            8              0                   50  \n",
       "9            True            4              0                   62  "
      ]
     },
     "execution_count": 4,
     "metadata": {},
     "output_type": "execute_result"
    }
   ],
   "source": [
    "dataset.head(10)"
   ]
  },
  {
   "cell_type": "code",
   "execution_count": 5,
   "metadata": {},
   "outputs": [
    {
     "data": {
      "text/html": [
       "<div>\n",
       "<style scoped>\n",
       "    .dataframe tbody tr th:only-of-type {\n",
       "        vertical-align: middle;\n",
       "    }\n",
       "\n",
       "    .dataframe tbody tr th {\n",
       "        vertical-align: top;\n",
       "    }\n",
       "\n",
       "    .dataframe thead th {\n",
       "        text-align: right;\n",
       "    }\n",
       "</style>\n",
       "<table border=\"1\" class=\"dataframe\">\n",
       "  <thead>\n",
       "    <tr style=\"text-align: right;\">\n",
       "      <th></th>\n",
       "      <th>calls_count</th>\n",
       "      <th>call_duration</th>\n",
       "      <th>total_call_duration</th>\n",
       "    </tr>\n",
       "  </thead>\n",
       "  <tbody>\n",
       "    <tr>\n",
       "      <th>count</th>\n",
       "      <td>53902.000000</td>\n",
       "      <td>53902.000000</td>\n",
       "      <td>53902.000000</td>\n",
       "    </tr>\n",
       "    <tr>\n",
       "      <th>mean</th>\n",
       "      <td>16.451245</td>\n",
       "      <td>866.684427</td>\n",
       "      <td>1157.133297</td>\n",
       "    </tr>\n",
       "    <tr>\n",
       "      <th>std</th>\n",
       "      <td>62.917170</td>\n",
       "      <td>3731.791202</td>\n",
       "      <td>4403.468763</td>\n",
       "    </tr>\n",
       "    <tr>\n",
       "      <th>min</th>\n",
       "      <td>1.000000</td>\n",
       "      <td>0.000000</td>\n",
       "      <td>0.000000</td>\n",
       "    </tr>\n",
       "    <tr>\n",
       "      <th>25%</th>\n",
       "      <td>1.000000</td>\n",
       "      <td>0.000000</td>\n",
       "      <td>47.000000</td>\n",
       "    </tr>\n",
       "    <tr>\n",
       "      <th>50%</th>\n",
       "      <td>4.000000</td>\n",
       "      <td>38.000000</td>\n",
       "      <td>210.000000</td>\n",
       "    </tr>\n",
       "    <tr>\n",
       "      <th>75%</th>\n",
       "      <td>12.000000</td>\n",
       "      <td>572.000000</td>\n",
       "      <td>902.000000</td>\n",
       "    </tr>\n",
       "    <tr>\n",
       "      <th>max</th>\n",
       "      <td>4817.000000</td>\n",
       "      <td>144395.000000</td>\n",
       "      <td>166155.000000</td>\n",
       "    </tr>\n",
       "  </tbody>\n",
       "</table>\n",
       "</div>"
      ],
      "text/plain": [
       "        calls_count  call_duration  total_call_duration\n",
       "count  53902.000000   53902.000000         53902.000000\n",
       "mean      16.451245     866.684427          1157.133297\n",
       "std       62.917170    3731.791202          4403.468763\n",
       "min        1.000000       0.000000             0.000000\n",
       "25%        1.000000       0.000000            47.000000\n",
       "50%        4.000000      38.000000           210.000000\n",
       "75%       12.000000     572.000000           902.000000\n",
       "max     4817.000000  144395.000000        166155.000000"
      ]
     },
     "execution_count": 5,
     "metadata": {},
     "output_type": "execute_result"
    }
   ],
   "source": [
    "dataset[['calls_count', 'call_duration', 'total_call_duration']].describe()"
   ]
  },
  {
   "cell_type": "markdown",
   "metadata": {},
   "source": [
    "- Присутствуют пропуски в столбцах internal, operator_id;\n",
    "- столбец date необходимо привести к типу данных date, столбец operator_id – к целочисленному типу;\n",
    "- в среднем клиенты совершают 4 звонка, максимальное число звонков, представленное в датасете равняется 4817;\n",
    "- call_duration и total_call_duration представлены в секундах,далее для расчетов добавим столбец со значениями в минутах, округленными в большую сторону;\n",
    "- в столбцах calls_count, call_duration, total_call_duration присутствуют выбросы."
   ]
  },
  {
   "cell_type": "code",
   "execution_count": 6,
   "metadata": {},
   "outputs": [
    {
     "name": "stdout",
     "output_type": "stream",
     "text": [
      "<class 'pandas.core.frame.DataFrame'>\n",
      "RangeIndex: 732 entries, 0 to 731\n",
      "Data columns (total 3 columns):\n",
      " #   Column       Non-Null Count  Dtype \n",
      "---  ------       --------------  ----- \n",
      " 0   user_id      732 non-null    int64 \n",
      " 1   tariff_plan  732 non-null    object\n",
      " 2   date_start   732 non-null    object\n",
      "dtypes: int64(1), object(2)\n",
      "memory usage: 17.3+ KB\n"
     ]
    }
   ],
   "source": [
    "# изучим информацию о clients\n",
    "clients.info()"
   ]
  },
  {
   "cell_type": "code",
   "execution_count": 7,
   "metadata": {},
   "outputs": [
    {
     "data": {
      "text/html": [
       "<div>\n",
       "<style scoped>\n",
       "    .dataframe tbody tr th:only-of-type {\n",
       "        vertical-align: middle;\n",
       "    }\n",
       "\n",
       "    .dataframe tbody tr th {\n",
       "        vertical-align: top;\n",
       "    }\n",
       "\n",
       "    .dataframe thead th {\n",
       "        text-align: right;\n",
       "    }\n",
       "</style>\n",
       "<table border=\"1\" class=\"dataframe\">\n",
       "  <thead>\n",
       "    <tr style=\"text-align: right;\">\n",
       "      <th></th>\n",
       "      <th>user_id</th>\n",
       "      <th>tariff_plan</th>\n",
       "      <th>date_start</th>\n",
       "    </tr>\n",
       "  </thead>\n",
       "  <tbody>\n",
       "    <tr>\n",
       "      <th>0</th>\n",
       "      <td>166713</td>\n",
       "      <td>A</td>\n",
       "      <td>2019-08-15</td>\n",
       "    </tr>\n",
       "    <tr>\n",
       "      <th>1</th>\n",
       "      <td>166901</td>\n",
       "      <td>A</td>\n",
       "      <td>2019-08-23</td>\n",
       "    </tr>\n",
       "    <tr>\n",
       "      <th>2</th>\n",
       "      <td>168527</td>\n",
       "      <td>A</td>\n",
       "      <td>2019-10-29</td>\n",
       "    </tr>\n",
       "    <tr>\n",
       "      <th>3</th>\n",
       "      <td>167097</td>\n",
       "      <td>A</td>\n",
       "      <td>2019-09-01</td>\n",
       "    </tr>\n",
       "    <tr>\n",
       "      <th>4</th>\n",
       "      <td>168193</td>\n",
       "      <td>A</td>\n",
       "      <td>2019-10-16</td>\n",
       "    </tr>\n",
       "    <tr>\n",
       "      <th>5</th>\n",
       "      <td>167764</td>\n",
       "      <td>A</td>\n",
       "      <td>2019-09-30</td>\n",
       "    </tr>\n",
       "    <tr>\n",
       "      <th>6</th>\n",
       "      <td>167050</td>\n",
       "      <td>A</td>\n",
       "      <td>2019-08-29</td>\n",
       "    </tr>\n",
       "    <tr>\n",
       "      <th>7</th>\n",
       "      <td>168252</td>\n",
       "      <td>A</td>\n",
       "      <td>2019-10-17</td>\n",
       "    </tr>\n",
       "    <tr>\n",
       "      <th>8</th>\n",
       "      <td>168495</td>\n",
       "      <td>A</td>\n",
       "      <td>2019-10-28</td>\n",
       "    </tr>\n",
       "    <tr>\n",
       "      <th>9</th>\n",
       "      <td>167879</td>\n",
       "      <td>A</td>\n",
       "      <td>2019-10-03</td>\n",
       "    </tr>\n",
       "  </tbody>\n",
       "</table>\n",
       "</div>"
      ],
      "text/plain": [
       "   user_id tariff_plan  date_start\n",
       "0   166713           A  2019-08-15\n",
       "1   166901           A  2019-08-23\n",
       "2   168527           A  2019-10-29\n",
       "3   167097           A  2019-09-01\n",
       "4   168193           A  2019-10-16\n",
       "5   167764           A  2019-09-30\n",
       "6   167050           A  2019-08-29\n",
       "7   168252           A  2019-10-17\n",
       "8   168495           A  2019-10-28\n",
       "9   167879           A  2019-10-03"
      ]
     },
     "execution_count": 7,
     "metadata": {},
     "output_type": "execute_result"
    }
   ],
   "source": [
    "clients.head(10)"
   ]
  },
  {
   "cell_type": "markdown",
   "metadata": {},
   "source": [
    "- В датасете clients 732 строки;\n",
    "- пропуски отсутсвуют;\n",
    "- типы данных соотвествуют действительности."
   ]
  },
  {
   "cell_type": "markdown",
   "metadata": {},
   "source": [
    "### Предобработка данных"
   ]
  },
  {
   "cell_type": "markdown",
   "metadata": {},
   "source": [
    "Начнем обработку с dataset."
   ]
  },
  {
   "cell_type": "code",
   "execution_count": 8,
   "metadata": {},
   "outputs": [
    {
     "data": {
      "text/plain": [
       "user_id                   0\n",
       "date                      0\n",
       "direction                 0\n",
       "internal                117\n",
       "operator_id            8172\n",
       "is_missed_call            0\n",
       "calls_count               0\n",
       "call_duration             0\n",
       "total_call_duration       0\n",
       "dtype: int64"
      ]
     },
     "execution_count": 8,
     "metadata": {},
     "output_type": "execute_result"
    }
   ],
   "source": [
    "# количество пропусков\n",
    "dataset.isna().sum()"
   ]
  },
  {
   "cell_type": "code",
   "execution_count": 9,
   "metadata": {},
   "outputs": [
    {
     "data": {
      "text/plain": [
       "user_id                0.000\n",
       "date                   0.000\n",
       "direction              0.000\n",
       "internal               0.002\n",
       "operator_id            0.152\n",
       "is_missed_call         0.000\n",
       "calls_count            0.000\n",
       "call_duration          0.000\n",
       "total_call_duration    0.000\n",
       "dtype: float64"
      ]
     },
     "execution_count": 9,
     "metadata": {},
     "output_type": "execute_result"
    }
   ],
   "source": [
    "# доля пропусков\n",
    "round(dataset.isna().sum()/dataset.shape[0], 3)"
   ]
  },
  {
   "cell_type": "code",
   "execution_count": 10,
   "metadata": {},
   "outputs": [
    {
     "data": {
      "text/plain": [
       "57"
      ]
     },
     "execution_count": 10,
     "metadata": {},
     "output_type": "execute_result"
    }
   ],
   "source": [
    "# количество строк с пропусками в internal и operator_id однавременно\n",
    "len(dataset[dataset.isna().sum(axis=1) == 2])"
   ]
  },
  {
   "cell_type": "code",
   "execution_count": 11,
   "metadata": {
    "scrolled": true
   },
   "outputs": [
    {
     "data": {
      "text/plain": [
       "True     0.99\n",
       "False    0.01\n",
       "Name: is_missed_call, dtype: float64"
      ]
     },
     "metadata": {},
     "output_type": "display_data"
    }
   ],
   "source": [
    "# проверим гипотезу, что для пропущенных звонков часто не указывают оператора\n",
    "nan_operator_id = dataset.loc[dataset['operator_id'].isna()]\n",
    "display(nan_operator_id['is_missed_call'].value_counts(normalize=True).round(2))"
   ]
  },
  {
   "cell_type": "code",
   "execution_count": 12,
   "metadata": {},
   "outputs": [
    {
     "data": {
      "text/plain": [
       "4900"
      ]
     },
     "execution_count": 12,
     "metadata": {},
     "output_type": "execute_result"
    }
   ],
   "source": [
    "# количество явных дубликатов\n",
    "dataset.duplicated().sum()"
   ]
  },
  {
   "cell_type": "code",
   "execution_count": 13,
   "metadata": {},
   "outputs": [],
   "source": [
    "# удаляем явныe дубликаты\n",
    "dataset = dataset.drop_duplicates()"
   ]
  },
  {
   "cell_type": "code",
   "execution_count": 14,
   "metadata": {
    "scrolled": true
   },
   "outputs": [
    {
     "data": {
      "text/plain": [
       "307"
      ]
     },
     "execution_count": 14,
     "metadata": {},
     "output_type": "execute_result"
    }
   ],
   "source": [
    "# количество уникальных пользователей\n",
    "dataset['user_id'].nunique()"
   ]
  },
  {
   "cell_type": "code",
   "execution_count": 15,
   "metadata": {},
   "outputs": [
    {
     "data": {
      "text/plain": [
       "1092"
      ]
     },
     "execution_count": 15,
     "metadata": {},
     "output_type": "execute_result"
    }
   ],
   "source": [
    "# количество операторов\n",
    "dataset['operator_id'].nunique()"
   ]
  },
  {
   "cell_type": "code",
   "execution_count": 16,
   "metadata": {
    "scrolled": true
   },
   "outputs": [],
   "source": [
    "# приводим столбец date к типу данных date\n",
    "dataset['date'] = pd.to_datetime(dataset['date'], format='%Y-%m-%d').dt.tz_localize(None)\n",
    "# приводим идектификатор оператора к целочисленному типу\n",
    "dataset['operator_id'] = dataset['operator_id'].astype('Int64')"
   ]
  },
  {
   "cell_type": "code",
   "execution_count": 17,
   "metadata": {},
   "outputs": [
    {
     "data": {
      "text/plain": [
       "'В dataset представлен период с 2019-08-02 00:00:00 по 2019-11-28 00:00:00'"
      ]
     },
     "metadata": {},
     "output_type": "display_data"
    }
   ],
   "source": [
    "min_date = dataset['date'].min()\n",
    "max_date = dataset['date'].max()\n",
    "display(f'В dataset представлен период с {min_date} по {max_date}')"
   ]
  },
  {
   "cell_type": "markdown",
   "metadata": {},
   "source": [
    "На этапе обзора данных были обнаружены аномально большие значения в столбцах calls_count, call_duration, total_call_duration, рассмотрим их подробнее, чтобы обработать аномалии."
   ]
  },
  {
   "cell_type": "code",
   "execution_count": 18,
   "metadata": {
    "scrolled": true
   },
   "outputs": [
    {
     "data": {
      "text/html": [
       "<div>\n",
       "<style scoped>\n",
       "    .dataframe tbody tr th:only-of-type {\n",
       "        vertical-align: middle;\n",
       "    }\n",
       "\n",
       "    .dataframe tbody tr th {\n",
       "        vertical-align: top;\n",
       "    }\n",
       "\n",
       "    .dataframe thead th {\n",
       "        text-align: right;\n",
       "    }\n",
       "</style>\n",
       "<table border=\"1\" class=\"dataframe\">\n",
       "  <thead>\n",
       "    <tr style=\"text-align: right;\">\n",
       "      <th></th>\n",
       "      <th>user_id</th>\n",
       "      <th>date</th>\n",
       "      <th>operator_id</th>\n",
       "      <th>calls_count</th>\n",
       "      <th>call_duration</th>\n",
       "      <th>total_call_duration</th>\n",
       "    </tr>\n",
       "  </thead>\n",
       "  <tbody>\n",
       "    <tr>\n",
       "      <th>2352</th>\n",
       "      <td>166582</td>\n",
       "      <td>2019-09-25</td>\n",
       "      <td>885876</td>\n",
       "      <td>2039</td>\n",
       "      <td>40.279444</td>\n",
       "      <td>52.774722</td>\n",
       "    </tr>\n",
       "    <tr>\n",
       "      <th>2354</th>\n",
       "      <td>166582</td>\n",
       "      <td>2019-09-26</td>\n",
       "      <td>885876</td>\n",
       "      <td>1603</td>\n",
       "      <td>38.093889</td>\n",
       "      <td>47.823611</td>\n",
       "    </tr>\n",
       "    <tr>\n",
       "      <th>2320</th>\n",
       "      <td>166582</td>\n",
       "      <td>2019-09-09</td>\n",
       "      <td>885876</td>\n",
       "      <td>1700</td>\n",
       "      <td>34.033611</td>\n",
       "      <td>44.673889</td>\n",
       "    </tr>\n",
       "    <tr>\n",
       "      <th>2338</th>\n",
       "      <td>166582</td>\n",
       "      <td>2019-09-18</td>\n",
       "      <td>885876</td>\n",
       "      <td>1638</td>\n",
       "      <td>33.843333</td>\n",
       "      <td>44.216111</td>\n",
       "    </tr>\n",
       "    <tr>\n",
       "      <th>2366</th>\n",
       "      <td>166582</td>\n",
       "      <td>2019-10-02</td>\n",
       "      <td>885876</td>\n",
       "      <td>1570</td>\n",
       "      <td>33.918889</td>\n",
       "      <td>43.167222</td>\n",
       "    </tr>\n",
       "    <tr>\n",
       "      <th>2326</th>\n",
       "      <td>166582</td>\n",
       "      <td>2019-09-12</td>\n",
       "      <td>885876</td>\n",
       "      <td>1104</td>\n",
       "      <td>35.198889</td>\n",
       "      <td>42.720278</td>\n",
       "    </tr>\n",
       "    <tr>\n",
       "      <th>2348</th>\n",
       "      <td>166582</td>\n",
       "      <td>2019-09-23</td>\n",
       "      <td>885876</td>\n",
       "      <td>2186</td>\n",
       "      <td>28.945000</td>\n",
       "      <td>42.586944</td>\n",
       "    </tr>\n",
       "    <tr>\n",
       "      <th>2336</th>\n",
       "      <td>166582</td>\n",
       "      <td>2019-09-17</td>\n",
       "      <td>885876</td>\n",
       "      <td>2206</td>\n",
       "      <td>28.100833</td>\n",
       "      <td>41.801667</td>\n",
       "    </tr>\n",
       "    <tr>\n",
       "      <th>2364</th>\n",
       "      <td>166582</td>\n",
       "      <td>2019-10-01</td>\n",
       "      <td>885876</td>\n",
       "      <td>2767</td>\n",
       "      <td>24.808889</td>\n",
       "      <td>41.723056</td>\n",
       "    </tr>\n",
       "    <tr>\n",
       "      <th>2356</th>\n",
       "      <td>166582</td>\n",
       "      <td>2019-09-27</td>\n",
       "      <td>885876</td>\n",
       "      <td>1487</td>\n",
       "      <td>32.368611</td>\n",
       "      <td>41.577778</td>\n",
       "    </tr>\n",
       "  </tbody>\n",
       "</table>\n",
       "</div>"
      ],
      "text/plain": [
       "      user_id       date  operator_id  calls_count  call_duration  \\\n",
       "2352   166582 2019-09-25       885876         2039      40.279444   \n",
       "2354   166582 2019-09-26       885876         1603      38.093889   \n",
       "2320   166582 2019-09-09       885876         1700      34.033611   \n",
       "2338   166582 2019-09-18       885876         1638      33.843333   \n",
       "2366   166582 2019-10-02       885876         1570      33.918889   \n",
       "2326   166582 2019-09-12       885876         1104      35.198889   \n",
       "2348   166582 2019-09-23       885876         2186      28.945000   \n",
       "2336   166582 2019-09-17       885876         2206      28.100833   \n",
       "2364   166582 2019-10-01       885876         2767      24.808889   \n",
       "2356   166582 2019-09-27       885876         1487      32.368611   \n",
       "\n",
       "      total_call_duration  \n",
       "2352            52.774722  \n",
       "2354            47.823611  \n",
       "2320            44.673889  \n",
       "2338            44.216111  \n",
       "2366            43.167222  \n",
       "2326            42.720278  \n",
       "2348            42.586944  \n",
       "2336            41.801667  \n",
       "2364            41.723056  \n",
       "2356            41.577778  "
      ]
     },
     "execution_count": 18,
     "metadata": {},
     "output_type": "execute_result"
    }
   ],
   "source": [
    "# сгруппируем датасет по клиенту, дате и оператору\n",
    "duration_per_day = (\n",
    "    dataset.groupby(['user_id', 'date', 'operator_id'])\n",
    "    .agg({'calls_count':'sum', 'call_duration':'sum', 'total_call_duration': 'sum'})\n",
    "    .assign(call_duration = lambda x: x['call_duration']/ 3600)\n",
    "    .assign(total_call_duration = lambda x: x['total_call_duration']/ 3600)\n",
    "    .reset_index()\n",
    "    .sort_values(by = ['total_call_duration', 'calls_count'], ascending = False)\n",
    ")\n",
    "duration_per_day.head(10)"
   ]
  },
  {
   "cell_type": "markdown",
   "metadata": {},
   "source": [
    "Существет клиент, который разговаривает больше 24 часов в день, что не может соответсвовать действительности. Возможно, при сборе или хранении данных произошла какая-то ошибка или же клиент использует какие-то уловки.\n",
    "\n",
    "Обычный рабочий день 8 часов при 5ти дневной рабочей неделе, но бывает график и по 12 часов два через два. Возьмем большее число и посмотрим на клиентов и операторов длительность разговоров, которых больше 12 часов."
   ]
  },
  {
   "cell_type": "code",
   "execution_count": 19,
   "metadata": {
    "scrolled": true
   },
   "outputs": [
    {
     "data": {
      "text/plain": [
       "array([166582])"
      ]
     },
     "execution_count": 19,
     "metadata": {},
     "output_type": "execute_result"
    }
   ],
   "source": [
    "# клиенты, которые общаются больше 12 часов в день\n",
    "duration_per_day.query('call_duration > 12')['user_id'].unique()"
   ]
  },
  {
   "cell_type": "code",
   "execution_count": 20,
   "metadata": {},
   "outputs": [
    {
     "data": {
      "text/plain": [
       "array([885876, 885890, 925922])"
      ]
     },
     "execution_count": 20,
     "metadata": {},
     "output_type": "execute_result"
    }
   ],
   "source": [
    "# список операторов, которые работают больше 24 часов в день\n",
    "duration_per_day.query('call_duration > 12')['operator_id'].unique()"
   ]
  },
  {
   "cell_type": "markdown",
   "metadata": {},
   "source": [
    "Удалим из датасета информацию о клиенте с аномально большой длительностью звонков."
   ]
  },
  {
   "cell_type": "code",
   "execution_count": 21,
   "metadata": {},
   "outputs": [
    {
     "data": {
      "text/plain": [
       "0.015"
      ]
     },
     "execution_count": 21,
     "metadata": {},
     "output_type": "execute_result"
    }
   ],
   "source": [
    "# доля данных, которых мы собираемся удалить\n",
    "round(1 - (len(dataset[dataset['user_id'] != 166582])/dataset.shape[0]), 3)"
   ]
  },
  {
   "cell_type": "code",
   "execution_count": 22,
   "metadata": {},
   "outputs": [],
   "source": [
    "# удаляем строки\n",
    "dataset = dataset[dataset['user_id'] != 166582]"
   ]
  },
  {
   "cell_type": "markdown",
   "metadata": {},
   "source": [
    "- В dataset были обнаружены пропуски в столбцах operator_id (15% данных отсутсвует) и internal (меньше 1%);\n",
    "- практически всегда пропуски в столбце operator_id относятся к пропущенным звонкам;\n",
    "- 307 уникальных пользователей, 1092 оператора;\n",
    "- столбец date приведен к типу date;\n",
    "- в датафрейме представлен период с 2019-08-02 по 2019-11-28, данные за ноябрь неполные;\n",
    "- в результате предобработки удалены явные дубликаты;\n",
    "- стоит персонально разобраться с клиентом с user_id 166582 и с операторами operator_id = [885876, 885890, 925922];\n",
    "- строки с аномально большими значениями call_duration были удалены."
   ]
  },
  {
   "cell_type": "markdown",
   "metadata": {},
   "source": [
    "Теперь перейдем к обработке clients."
   ]
  },
  {
   "cell_type": "code",
   "execution_count": 23,
   "metadata": {},
   "outputs": [
    {
     "data": {
      "text/plain": [
       "0"
      ]
     },
     "execution_count": 23,
     "metadata": {},
     "output_type": "execute_result"
    }
   ],
   "source": [
    "# количество явных дубликатов\n",
    "clients.duplicated().sum()"
   ]
  },
  {
   "cell_type": "code",
   "execution_count": 24,
   "metadata": {},
   "outputs": [
    {
     "data": {
      "text/plain": [
       "732"
      ]
     },
     "execution_count": 24,
     "metadata": {},
     "output_type": "execute_result"
    }
   ],
   "source": [
    "# посмотрим на уникальное количество клиентов\n",
    "clients['user_id'].nunique()"
   ]
  },
  {
   "cell_type": "code",
   "execution_count": 25,
   "metadata": {},
   "outputs": [
    {
     "data": {
      "text/plain": [
       "'В clients представлен период с 2019-08-01 по 2019-10-31'"
      ]
     },
     "metadata": {},
     "output_type": "display_data"
    }
   ],
   "source": [
    "# посмотрим на минимальную и максимальную даты регистрации клиентов в сервисе\n",
    "min_date_start = clients['date_start'].min()\n",
    "max_date_start = clients['date_start'].max()\n",
    "display(f'В clients представлен период с {min_date_start} по {max_date_start}')"
   ]
  },
  {
   "cell_type": "markdown",
   "metadata": {},
   "source": [
    "- В clients отсутствуют дубликаты;\n",
    "- Количество клиентов 732, что больше чем в два раза выше в dataset;\n",
    "- Минимальная дата регистрации клиентов в сервисе  2019-08-01, максимальная – 2019-10-31"
   ]
  },
  {
   "cell_type": "markdown",
   "metadata": {},
   "source": [
    "### Выводы по разделу"
   ]
  },
  {
   "cell_type": "markdown",
   "metadata": {},
   "source": [
    "- Пропуски в столбцах internal (1%), operator_id (15%) были оставлены, удаление пропусков приведет к потере данных. Пропуски в operator_id принадлежат пропущенным звонкам;\n",
    "- в dataset 307 уникальных пользователей и 1092 оператора, а в clients 732 пользователя, что означает что не все пользователи являются активными;\n",
    "- в результатет предобработки столбцы приведены к нужным типам данных, дубликаты удалены;\n",
    "- стоит обратить внимание на пользователя с user_id 166582 и операторов [885876, 885890, 925922] и разобраться в причинах длительности разговоров более 24 часов в сутки."
   ]
  },
  {
   "cell_type": "markdown",
   "metadata": {},
   "source": [
    "## Исследовательский анализ данных"
   ]
  },
  {
   "cell_type": "markdown",
   "metadata": {},
   "source": [
    "### Активные пользователи"
   ]
  },
  {
   "cell_type": "code",
   "execution_count": 26,
   "metadata": {},
   "outputs": [
    {
     "data": {
      "image/png": "[encoded data removed]",
      "text/plain": [
       "<Figure size 864x432 with 1 Axes>"
      ]
     },
     "metadata": {
      "needs_background": "light"
     },
     "output_type": "display_data"
    }
   ],
   "source": [
    "# посмотрим на количество пользователей, которые пользовались услугами, во времени\n",
    "dau = dataset.groupby('date').agg({'user_id': 'nunique'}).reset_index()\n",
    "dau.plot(figsize = (12,6), x = 'date',  y = 'user_id')\n",
    "plt.title('Количество активных пользователей в разрезе времени ')\n",
    "plt.xlabel('Дата')\n",
    "plt.ylabel('Количество пользователей')\n",
    "plt.show()"
   ]
  },
  {
   "cell_type": "markdown",
   "metadata": {},
   "source": [
    "В датафрейме представлен период с 2019-08-02 по 2019-11-28, данные за ноябрь неполные, не хватает двух дней. Количество клиентов увеличивалось с августа по октябрь, к концу октября это значение стабилизировалось. В ноябре нет сильного роста или падения количество клиентов, также значения за этот месяц наиболее актуальные, поэтому пренебрежем отсутствием 2 дней в ноябре. Судя по ступенчатому виду графика, активность пользователей зависит от дня недели."
   ]
  },
  {
   "cell_type": "code",
   "execution_count": 27,
   "metadata": {},
   "outputs": [
    {
     "data": {
      "text/plain": [
       "'Количество активных пользователей 260, их доля от всех пользователей 0.85'"
      ]
     },
     "metadata": {},
     "output_type": "display_data"
    }
   ],
   "source": [
    "# активными будем считать пользователей, которые пользовались услугами связи в ноябре\n",
    "active_users_list = dataset[(pd.to_datetime(dataset['date']).dt.month == 11)]['user_id']\n",
    "display(f'Количество активных пользователей {active_users_list.nunique()},\\\n",
    " их доля от всех пользователей {active_users_list.nunique()/dataset[\"user_id\"].nunique() :.2f}')"
   ]
  },
  {
   "cell_type": "code",
   "execution_count": 28,
   "metadata": {},
   "outputs": [
    {
     "data": {
      "text/html": [
       "<div>\n",
       "<style scoped>\n",
       "    .dataframe tbody tr th:only-of-type {\n",
       "        vertical-align: middle;\n",
       "    }\n",
       "\n",
       "    .dataframe tbody tr th {\n",
       "        vertical-align: top;\n",
       "    }\n",
       "\n",
       "    .dataframe thead th {\n",
       "        text-align: right;\n",
       "    }\n",
       "</style>\n",
       "<table border=\"1\" class=\"dataframe\">\n",
       "  <thead>\n",
       "    <tr style=\"text-align: right;\">\n",
       "      <th></th>\n",
       "      <th>user_id</th>\n",
       "      <th>date</th>\n",
       "      <th>direction</th>\n",
       "      <th>internal</th>\n",
       "      <th>operator_id</th>\n",
       "      <th>is_missed_call</th>\n",
       "      <th>calls_count</th>\n",
       "      <th>call_duration</th>\n",
       "      <th>total_call_duration</th>\n",
       "      <th>month</th>\n",
       "    </tr>\n",
       "  </thead>\n",
       "  <tbody>\n",
       "    <tr>\n",
       "      <th>438</th>\n",
       "      <td>166377</td>\n",
       "      <td>2019-11-01</td>\n",
       "      <td>out</td>\n",
       "      <td>False</td>\n",
       "      <td>880028</td>\n",
       "      <td>True</td>\n",
       "      <td>17</td>\n",
       "      <td>0</td>\n",
       "      <td>647</td>\n",
       "      <td>11</td>\n",
       "    </tr>\n",
       "    <tr>\n",
       "      <th>439</th>\n",
       "      <td>166377</td>\n",
       "      <td>2019-11-01</td>\n",
       "      <td>in</td>\n",
       "      <td>False</td>\n",
       "      <td>880028</td>\n",
       "      <td>False</td>\n",
       "      <td>3</td>\n",
       "      <td>134</td>\n",
       "      <td>156</td>\n",
       "      <td>11</td>\n",
       "    </tr>\n",
       "    <tr>\n",
       "      <th>440</th>\n",
       "      <td>166377</td>\n",
       "      <td>2019-11-01</td>\n",
       "      <td>out</td>\n",
       "      <td>False</td>\n",
       "      <td>880026</td>\n",
       "      <td>False</td>\n",
       "      <td>32</td>\n",
       "      <td>2487</td>\n",
       "      <td>2814</td>\n",
       "      <td>11</td>\n",
       "    </tr>\n",
       "    <tr>\n",
       "      <th>441</th>\n",
       "      <td>166377</td>\n",
       "      <td>2019-11-01</td>\n",
       "      <td>out</td>\n",
       "      <td>False</td>\n",
       "      <td>880026</td>\n",
       "      <td>True</td>\n",
       "      <td>15</td>\n",
       "      <td>0</td>\n",
       "      <td>410</td>\n",
       "      <td>11</td>\n",
       "    </tr>\n",
       "    <tr>\n",
       "      <th>442</th>\n",
       "      <td>166377</td>\n",
       "      <td>2019-11-01</td>\n",
       "      <td>out</td>\n",
       "      <td>False</td>\n",
       "      <td>880028</td>\n",
       "      <td>False</td>\n",
       "      <td>26</td>\n",
       "      <td>2487</td>\n",
       "      <td>2771</td>\n",
       "      <td>11</td>\n",
       "    </tr>\n",
       "  </tbody>\n",
       "</table>\n",
       "</div>"
      ],
      "text/plain": [
       "     user_id       date direction internal  operator_id  is_missed_call  \\\n",
       "438   166377 2019-11-01       out    False       880028            True   \n",
       "439   166377 2019-11-01        in    False       880028           False   \n",
       "440   166377 2019-11-01       out    False       880026           False   \n",
       "441   166377 2019-11-01       out    False       880026            True   \n",
       "442   166377 2019-11-01       out    False       880028           False   \n",
       "\n",
       "     calls_count  call_duration  total_call_duration  month  \n",
       "438           17              0                  647     11  \n",
       "439            3            134                  156     11  \n",
       "440           32           2487                 2814     11  \n",
       "441           15              0                  410     11  \n",
       "442           26           2487                 2771     11  "
      ]
     },
     "execution_count": 28,
     "metadata": {},
     "output_type": "execute_result"
    }
   ],
   "source": [
    "# добавляем номер месяца\n",
    "dataset['month'] = dataset['date'].dt.month\n",
    "\n",
    "# оставляем данные для активных пользователей\n",
    "active_dataset = dataset.query('month == 11')\n",
    "active_dataset.head()"
   ]
  },
  {
   "cell_type": "markdown",
   "metadata": {},
   "source": [
    "### Анализ затрат активных пользователей"
   ]
  },
  {
   "cell_type": "markdown",
   "metadata": {},
   "source": [
    "Затраты активных пользователей складываются из платы за тариф, платы за операторов, исходящие внутренние вызовы, исходящие внешние вызовы. Для начала создадим датафрейм с информацией о стоимости услуг и присоединим его к датафремйу с информацией о клиентах."
   ]
  },
  {
   "cell_type": "code",
   "execution_count": 29,
   "metadata": {
    "scrolled": true
   },
   "outputs": [
    {
     "data": {
      "text/html": [
       "<div>\n",
       "<style scoped>\n",
       "    .dataframe tbody tr th:only-of-type {\n",
       "        vertical-align: middle;\n",
       "    }\n",
       "\n",
       "    .dataframe tbody tr th {\n",
       "        vertical-align: top;\n",
       "    }\n",
       "\n",
       "    .dataframe thead th {\n",
       "        text-align: right;\n",
       "    }\n",
       "</style>\n",
       "<table border=\"1\" class=\"dataframe\">\n",
       "  <thead>\n",
       "    <tr style=\"text-align: right;\">\n",
       "      <th></th>\n",
       "      <th>user_id</th>\n",
       "      <th>tariff_plan</th>\n",
       "      <th>date_start</th>\n",
       "      <th>tariff_cost</th>\n",
       "      <th>minute</th>\n",
       "      <th>internal_over_cost</th>\n",
       "      <th>external_cost</th>\n",
       "      <th>operator_cost</th>\n",
       "    </tr>\n",
       "  </thead>\n",
       "  <tbody>\n",
       "    <tr>\n",
       "      <th>0</th>\n",
       "      <td>166713</td>\n",
       "      <td>A</td>\n",
       "      <td>2019-08-15</td>\n",
       "      <td>4000</td>\n",
       "      <td>2000</td>\n",
       "      <td>0.1</td>\n",
       "      <td>0.3</td>\n",
       "      <td>50</td>\n",
       "    </tr>\n",
       "    <tr>\n",
       "      <th>1</th>\n",
       "      <td>166901</td>\n",
       "      <td>A</td>\n",
       "      <td>2019-08-23</td>\n",
       "      <td>4000</td>\n",
       "      <td>2000</td>\n",
       "      <td>0.1</td>\n",
       "      <td>0.3</td>\n",
       "      <td>50</td>\n",
       "    </tr>\n",
       "    <tr>\n",
       "      <th>2</th>\n",
       "      <td>168527</td>\n",
       "      <td>A</td>\n",
       "      <td>2019-10-29</td>\n",
       "      <td>4000</td>\n",
       "      <td>2000</td>\n",
       "      <td>0.1</td>\n",
       "      <td>0.3</td>\n",
       "      <td>50</td>\n",
       "    </tr>\n",
       "    <tr>\n",
       "      <th>3</th>\n",
       "      <td>167097</td>\n",
       "      <td>A</td>\n",
       "      <td>2019-09-01</td>\n",
       "      <td>4000</td>\n",
       "      <td>2000</td>\n",
       "      <td>0.1</td>\n",
       "      <td>0.3</td>\n",
       "      <td>50</td>\n",
       "    </tr>\n",
       "    <tr>\n",
       "      <th>4</th>\n",
       "      <td>168193</td>\n",
       "      <td>A</td>\n",
       "      <td>2019-10-16</td>\n",
       "      <td>4000</td>\n",
       "      <td>2000</td>\n",
       "      <td>0.1</td>\n",
       "      <td>0.3</td>\n",
       "      <td>50</td>\n",
       "    </tr>\n",
       "  </tbody>\n",
       "</table>\n",
       "</div>"
      ],
      "text/plain": [
       "   user_id tariff_plan  date_start  tariff_cost  minute  internal_over_cost  \\\n",
       "0   166713           A  2019-08-15         4000    2000                 0.1   \n",
       "1   166901           A  2019-08-23         4000    2000                 0.1   \n",
       "2   168527           A  2019-10-29         4000    2000                 0.1   \n",
       "3   167097           A  2019-09-01         4000    2000                 0.1   \n",
       "4   168193           A  2019-10-16         4000    2000                 0.1   \n",
       "\n",
       "   external_cost  operator_cost  \n",
       "0            0.3             50  \n",
       "1            0.3             50  \n",
       "2            0.3             50  \n",
       "3            0.3             50  \n",
       "4            0.3             50  "
      ]
     },
     "execution_count": 29,
     "metadata": {},
     "output_type": "execute_result"
    }
   ],
   "source": [
    "# формируем датафрейм с информацией о стоимости услуг\n",
    "costs = pd.DataFrame({'tariff_plan': ['A', 'B', 'C'], \n",
    "                     'tariff_cost': [4000, 2000, 1000],\n",
    "                     'minute': [ 2000, 500, 0],\n",
    "                     'internal_over_cost': [0.1, 0.15, 0.3], \n",
    "                     'external_cost': [0.3, 0.5, 0.7], \n",
    "                     'operator_cost': [50, 150, 300]})\n",
    "costs\n",
    "# присоединяем к client\n",
    "clients = clients.merge(costs, on = 'tariff_plan', how = 'left')\n",
    "clients.head()"
   ]
  },
  {
   "cell_type": "markdown",
   "metadata": {},
   "source": [
    "Создадим сводную таблицу с информацией о количестве операторов, количестве минут внешних и внутренних вызовов, c информацией о тарифе пользователя. Далее переведем секунды в минуты и округлим в большую сторону. На основе получившейся таблицы будем проводить расчеты трат пользователей за последний месяц."
   ]
  },
  {
   "cell_type": "code",
   "execution_count": 30,
   "metadata": {
    "scrolled": true
   },
   "outputs": [
    {
     "data": {
      "text/html": [
       "<div>\n",
       "<style scoped>\n",
       "    .dataframe tbody tr th:only-of-type {\n",
       "        vertical-align: middle;\n",
       "    }\n",
       "\n",
       "    .dataframe tbody tr th {\n",
       "        vertical-align: top;\n",
       "    }\n",
       "\n",
       "    .dataframe thead th {\n",
       "        text-align: right;\n",
       "    }\n",
       "</style>\n",
       "<table border=\"1\" class=\"dataframe\">\n",
       "  <thead>\n",
       "    <tr style=\"text-align: right;\">\n",
       "      <th></th>\n",
       "      <th>user_id</th>\n",
       "      <th>count_operators</th>\n",
       "      <th>internal</th>\n",
       "      <th>external</th>\n",
       "      <th>tariff_plan</th>\n",
       "      <th>tariff_cost</th>\n",
       "      <th>minute</th>\n",
       "      <th>internal_over_cost</th>\n",
       "      <th>external_cost</th>\n",
       "      <th>operator_cost</th>\n",
       "    </tr>\n",
       "  </thead>\n",
       "  <tbody>\n",
       "    <tr>\n",
       "      <th>0</th>\n",
       "      <td>166377</td>\n",
       "      <td>4</td>\n",
       "      <td>127.0</td>\n",
       "      <td>95384.0</td>\n",
       "      <td>B</td>\n",
       "      <td>2000</td>\n",
       "      <td>500</td>\n",
       "      <td>0.15</td>\n",
       "      <td>0.5</td>\n",
       "      <td>150</td>\n",
       "    </tr>\n",
       "    <tr>\n",
       "      <th>1</th>\n",
       "      <td>166391</td>\n",
       "      <td>1</td>\n",
       "      <td>NaN</td>\n",
       "      <td>NaN</td>\n",
       "      <td>C</td>\n",
       "      <td>1000</td>\n",
       "      <td>0</td>\n",
       "      <td>0.30</td>\n",
       "      <td>0.7</td>\n",
       "      <td>300</td>\n",
       "    </tr>\n",
       "    <tr>\n",
       "      <th>2</th>\n",
       "      <td>166392</td>\n",
       "      <td>2</td>\n",
       "      <td>NaN</td>\n",
       "      <td>NaN</td>\n",
       "      <td>C</td>\n",
       "      <td>1000</td>\n",
       "      <td>0</td>\n",
       "      <td>0.30</td>\n",
       "      <td>0.7</td>\n",
       "      <td>300</td>\n",
       "    </tr>\n",
       "    <tr>\n",
       "      <th>3</th>\n",
       "      <td>166405</td>\n",
       "      <td>8</td>\n",
       "      <td>115.0</td>\n",
       "      <td>406826.0</td>\n",
       "      <td>B</td>\n",
       "      <td>2000</td>\n",
       "      <td>500</td>\n",
       "      <td>0.15</td>\n",
       "      <td>0.5</td>\n",
       "      <td>150</td>\n",
       "    </tr>\n",
       "    <tr>\n",
       "      <th>4</th>\n",
       "      <td>166406</td>\n",
       "      <td>2</td>\n",
       "      <td>NaN</td>\n",
       "      <td>47294.0</td>\n",
       "      <td>B</td>\n",
       "      <td>2000</td>\n",
       "      <td>500</td>\n",
       "      <td>0.15</td>\n",
       "      <td>0.5</td>\n",
       "      <td>150</td>\n",
       "    </tr>\n",
       "  </tbody>\n",
       "</table>\n",
       "</div>"
      ],
      "text/plain": [
       "   user_id  count_operators  internal  external tariff_plan  tariff_cost  \\\n",
       "0   166377                4     127.0   95384.0           B         2000   \n",
       "1   166391                1       NaN       NaN           C         1000   \n",
       "2   166392                2       NaN       NaN           C         1000   \n",
       "3   166405                8     115.0  406826.0           B         2000   \n",
       "4   166406                2       NaN   47294.0           B         2000   \n",
       "\n",
       "   minute  internal_over_cost  external_cost  operator_cost  \n",
       "0     500                0.15            0.5            150  \n",
       "1       0                0.30            0.7            300  \n",
       "2       0                0.30            0.7            300  \n",
       "3     500                0.15            0.5            150  \n",
       "4     500                0.15            0.5            150  "
      ]
     },
     "execution_count": 30,
     "metadata": {},
     "output_type": "execute_result"
    }
   ],
   "source": [
    "# находим количество уникальных операторов в месяц\n",
    "operator_in_month = (\n",
    "    active_dataset.groupby('user_id')\n",
    "    .agg({'operator_id':'nunique'})\n",
    "    .reset_index()\n",
    "    .rename(columns={'operator_id': 'count_operators'})\n",
    ")\n",
    "\n",
    "# исходящие внутренние звонки\n",
    "internal = active_dataset.query('direction == \"out\" and internal == True')\\\n",
    "                       .groupby('user_id', as_index=False)['total_call_duration'].sum()\n",
    "internal = internal.rename(columns={'total_call_duration': 'internal'})\n",
    "\n",
    "external = active_dataset.query('direction == \"out\" and internal == False')\\\n",
    "                        .groupby('user_id', as_index=False)['total_call_duration'].sum()\n",
    "external = external.rename(columns={'total_call_duration': 'external'})\n",
    "\n",
    "# добавляем информацию о уникальных операторах и тарифах\n",
    "active_user = (\n",
    "    operator_in_month.merge(internal, on = 'user_id', how = 'outer')\n",
    "    .merge(external, on = 'user_id', how = 'outer')\n",
    "    .merge(clients, on = 'user_id', how = 'left')\n",
    "    .drop('date_start', axis = 1)\n",
    ")\n",
    "active_user.head()"
   ]
  },
  {
   "cell_type": "code",
   "execution_count": 31,
   "metadata": {
    "scrolled": true
   },
   "outputs": [
    {
     "data": {
      "text/html": [
       "<div>\n",
       "<style scoped>\n",
       "    .dataframe tbody tr th:only-of-type {\n",
       "        vertical-align: middle;\n",
       "    }\n",
       "\n",
       "    .dataframe tbody tr th {\n",
       "        vertical-align: top;\n",
       "    }\n",
       "\n",
       "    .dataframe thead th {\n",
       "        text-align: right;\n",
       "    }\n",
       "</style>\n",
       "<table border=\"1\" class=\"dataframe\">\n",
       "  <thead>\n",
       "    <tr style=\"text-align: right;\">\n",
       "      <th></th>\n",
       "      <th>user_id</th>\n",
       "      <th>count_operators</th>\n",
       "      <th>internal</th>\n",
       "      <th>external</th>\n",
       "      <th>tariff_plan</th>\n",
       "      <th>tariff_cost</th>\n",
       "      <th>minute</th>\n",
       "      <th>internal_over_cost</th>\n",
       "      <th>external_cost</th>\n",
       "      <th>operator_cost</th>\n",
       "    </tr>\n",
       "  </thead>\n",
       "  <tbody>\n",
       "    <tr>\n",
       "      <th>0</th>\n",
       "      <td>166377</td>\n",
       "      <td>4</td>\n",
       "      <td>3.0</td>\n",
       "      <td>1590.0</td>\n",
       "      <td>B</td>\n",
       "      <td>2000</td>\n",
       "      <td>500</td>\n",
       "      <td>0.15</td>\n",
       "      <td>0.5</td>\n",
       "      <td>150</td>\n",
       "    </tr>\n",
       "    <tr>\n",
       "      <th>1</th>\n",
       "      <td>166391</td>\n",
       "      <td>1</td>\n",
       "      <td>0.0</td>\n",
       "      <td>0.0</td>\n",
       "      <td>C</td>\n",
       "      <td>1000</td>\n",
       "      <td>0</td>\n",
       "      <td>0.30</td>\n",
       "      <td>0.7</td>\n",
       "      <td>300</td>\n",
       "    </tr>\n",
       "    <tr>\n",
       "      <th>2</th>\n",
       "      <td>166392</td>\n",
       "      <td>2</td>\n",
       "      <td>0.0</td>\n",
       "      <td>0.0</td>\n",
       "      <td>C</td>\n",
       "      <td>1000</td>\n",
       "      <td>0</td>\n",
       "      <td>0.30</td>\n",
       "      <td>0.7</td>\n",
       "      <td>300</td>\n",
       "    </tr>\n",
       "    <tr>\n",
       "      <th>3</th>\n",
       "      <td>166405</td>\n",
       "      <td>8</td>\n",
       "      <td>2.0</td>\n",
       "      <td>6781.0</td>\n",
       "      <td>B</td>\n",
       "      <td>2000</td>\n",
       "      <td>500</td>\n",
       "      <td>0.15</td>\n",
       "      <td>0.5</td>\n",
       "      <td>150</td>\n",
       "    </tr>\n",
       "    <tr>\n",
       "      <th>4</th>\n",
       "      <td>166406</td>\n",
       "      <td>2</td>\n",
       "      <td>0.0</td>\n",
       "      <td>789.0</td>\n",
       "      <td>B</td>\n",
       "      <td>2000</td>\n",
       "      <td>500</td>\n",
       "      <td>0.15</td>\n",
       "      <td>0.5</td>\n",
       "      <td>150</td>\n",
       "    </tr>\n",
       "  </tbody>\n",
       "</table>\n",
       "</div>"
      ],
      "text/plain": [
       "   user_id  count_operators  internal  external tariff_plan  tariff_cost  \\\n",
       "0   166377                4       3.0    1590.0           B         2000   \n",
       "1   166391                1       0.0       0.0           C         1000   \n",
       "2   166392                2       0.0       0.0           C         1000   \n",
       "3   166405                8       2.0    6781.0           B         2000   \n",
       "4   166406                2       0.0     789.0           B         2000   \n",
       "\n",
       "   minute  internal_over_cost  external_cost  operator_cost  \n",
       "0     500                0.15            0.5            150  \n",
       "1       0                0.30            0.7            300  \n",
       "2       0                0.30            0.7            300  \n",
       "3     500                0.15            0.5            150  \n",
       "4     500                0.15            0.5            150  "
      ]
     },
     "execution_count": 31,
     "metadata": {},
     "output_type": "execute_result"
    }
   ],
   "source": [
    "# пропуски обозначают отсутствие вызовов, заполним их нулями\n",
    "active_user = active_user.fillna(0)\n",
    "\n",
    "# переводим в минуты и округляем в большую сторону\n",
    "active_user['internal'] = np.ceil(active_user['internal'] / 60)\n",
    "active_user['external'] = np.ceil(active_user['external'] / 60)\n",
    "active_user.head()"
   ]
  },
  {
   "cell_type": "code",
   "execution_count": 32,
   "metadata": {},
   "outputs": [],
   "source": [
    "# расчитаем траты пользователей за месяц\n",
    "def cost_month(active_user, col_name):\n",
    "    operator_cost = active_user['count_operators'] * active_user['operator_cost']\n",
    "    internal_minute = (active_user['internal'] - active_user['minute']).apply(lambda x: 0 if x < 0 else x)\n",
    "    internal_cost = internal_minute * active_user['internal_over_cost']\n",
    "    external_cost = active_user['external'] * active_user['external_cost']\n",
    "    active_user[col_name] = active_user['tariff_cost'] + operator_cost + internal_cost + external_cost\n",
    "    return active_user"
   ]
  },
  {
   "cell_type": "code",
   "execution_count": 33,
   "metadata": {},
   "outputs": [
    {
     "data": {
      "text/html": [
       "<div>\n",
       "<style scoped>\n",
       "    .dataframe tbody tr th:only-of-type {\n",
       "        vertical-align: middle;\n",
       "    }\n",
       "\n",
       "    .dataframe tbody tr th {\n",
       "        vertical-align: top;\n",
       "    }\n",
       "\n",
       "    .dataframe thead th {\n",
       "        text-align: right;\n",
       "    }\n",
       "</style>\n",
       "<table border=\"1\" class=\"dataframe\">\n",
       "  <thead>\n",
       "    <tr style=\"text-align: right;\">\n",
       "      <th></th>\n",
       "      <th>user_id</th>\n",
       "      <th>count_operators</th>\n",
       "      <th>internal</th>\n",
       "      <th>external</th>\n",
       "      <th>tariff_plan</th>\n",
       "      <th>tariff_cost</th>\n",
       "      <th>minute</th>\n",
       "      <th>internal_over_cost</th>\n",
       "      <th>external_cost</th>\n",
       "      <th>operator_cost</th>\n",
       "      <th>total_cost</th>\n",
       "    </tr>\n",
       "  </thead>\n",
       "  <tbody>\n",
       "    <tr>\n",
       "      <th>0</th>\n",
       "      <td>166377</td>\n",
       "      <td>4</td>\n",
       "      <td>3.0</td>\n",
       "      <td>1590.0</td>\n",
       "      <td>B</td>\n",
       "      <td>2000</td>\n",
       "      <td>500</td>\n",
       "      <td>0.15</td>\n",
       "      <td>0.5</td>\n",
       "      <td>150</td>\n",
       "      <td>3395.0</td>\n",
       "    </tr>\n",
       "    <tr>\n",
       "      <th>1</th>\n",
       "      <td>166391</td>\n",
       "      <td>1</td>\n",
       "      <td>0.0</td>\n",
       "      <td>0.0</td>\n",
       "      <td>C</td>\n",
       "      <td>1000</td>\n",
       "      <td>0</td>\n",
       "      <td>0.30</td>\n",
       "      <td>0.7</td>\n",
       "      <td>300</td>\n",
       "      <td>1300.0</td>\n",
       "    </tr>\n",
       "    <tr>\n",
       "      <th>2</th>\n",
       "      <td>166392</td>\n",
       "      <td>2</td>\n",
       "      <td>0.0</td>\n",
       "      <td>0.0</td>\n",
       "      <td>C</td>\n",
       "      <td>1000</td>\n",
       "      <td>0</td>\n",
       "      <td>0.30</td>\n",
       "      <td>0.7</td>\n",
       "      <td>300</td>\n",
       "      <td>1600.0</td>\n",
       "    </tr>\n",
       "    <tr>\n",
       "      <th>3</th>\n",
       "      <td>166405</td>\n",
       "      <td>8</td>\n",
       "      <td>2.0</td>\n",
       "      <td>6781.0</td>\n",
       "      <td>B</td>\n",
       "      <td>2000</td>\n",
       "      <td>500</td>\n",
       "      <td>0.15</td>\n",
       "      <td>0.5</td>\n",
       "      <td>150</td>\n",
       "      <td>6590.5</td>\n",
       "    </tr>\n",
       "    <tr>\n",
       "      <th>4</th>\n",
       "      <td>166406</td>\n",
       "      <td>2</td>\n",
       "      <td>0.0</td>\n",
       "      <td>789.0</td>\n",
       "      <td>B</td>\n",
       "      <td>2000</td>\n",
       "      <td>500</td>\n",
       "      <td>0.15</td>\n",
       "      <td>0.5</td>\n",
       "      <td>150</td>\n",
       "      <td>2694.5</td>\n",
       "    </tr>\n",
       "    <tr>\n",
       "      <th>...</th>\n",
       "      <td>...</td>\n",
       "      <td>...</td>\n",
       "      <td>...</td>\n",
       "      <td>...</td>\n",
       "      <td>...</td>\n",
       "      <td>...</td>\n",
       "      <td>...</td>\n",
       "      <td>...</td>\n",
       "      <td>...</td>\n",
       "      <td>...</td>\n",
       "      <td>...</td>\n",
       "    </tr>\n",
       "    <tr>\n",
       "      <th>255</th>\n",
       "      <td>168583</td>\n",
       "      <td>2</td>\n",
       "      <td>0.0</td>\n",
       "      <td>0.0</td>\n",
       "      <td>B</td>\n",
       "      <td>2000</td>\n",
       "      <td>500</td>\n",
       "      <td>0.15</td>\n",
       "      <td>0.5</td>\n",
       "      <td>150</td>\n",
       "      <td>2300.0</td>\n",
       "    </tr>\n",
       "    <tr>\n",
       "      <th>256</th>\n",
       "      <td>168598</td>\n",
       "      <td>1</td>\n",
       "      <td>0.0</td>\n",
       "      <td>0.0</td>\n",
       "      <td>C</td>\n",
       "      <td>1000</td>\n",
       "      <td>0</td>\n",
       "      <td>0.30</td>\n",
       "      <td>0.7</td>\n",
       "      <td>300</td>\n",
       "      <td>1300.0</td>\n",
       "    </tr>\n",
       "    <tr>\n",
       "      <th>257</th>\n",
       "      <td>168601</td>\n",
       "      <td>2</td>\n",
       "      <td>0.0</td>\n",
       "      <td>554.0</td>\n",
       "      <td>C</td>\n",
       "      <td>1000</td>\n",
       "      <td>0</td>\n",
       "      <td>0.30</td>\n",
       "      <td>0.7</td>\n",
       "      <td>300</td>\n",
       "      <td>1987.8</td>\n",
       "    </tr>\n",
       "    <tr>\n",
       "      <th>258</th>\n",
       "      <td>168603</td>\n",
       "      <td>1</td>\n",
       "      <td>0.0</td>\n",
       "      <td>20.0</td>\n",
       "      <td>B</td>\n",
       "      <td>2000</td>\n",
       "      <td>500</td>\n",
       "      <td>0.15</td>\n",
       "      <td>0.5</td>\n",
       "      <td>150</td>\n",
       "      <td>2160.0</td>\n",
       "    </tr>\n",
       "    <tr>\n",
       "      <th>259</th>\n",
       "      <td>168606</td>\n",
       "      <td>1</td>\n",
       "      <td>63.0</td>\n",
       "      <td>17.0</td>\n",
       "      <td>C</td>\n",
       "      <td>1000</td>\n",
       "      <td>0</td>\n",
       "      <td>0.30</td>\n",
       "      <td>0.7</td>\n",
       "      <td>300</td>\n",
       "      <td>1330.8</td>\n",
       "    </tr>\n",
       "  </tbody>\n",
       "</table>\n",
       "<p>260 rows × 11 columns</p>\n",
       "</div>"
      ],
      "text/plain": [
       "     user_id  count_operators  internal  external tariff_plan  tariff_cost  \\\n",
       "0     166377                4       3.0    1590.0           B         2000   \n",
       "1     166391                1       0.0       0.0           C         1000   \n",
       "2     166392                2       0.0       0.0           C         1000   \n",
       "3     166405                8       2.0    6781.0           B         2000   \n",
       "4     166406                2       0.0     789.0           B         2000   \n",
       "..       ...              ...       ...       ...         ...          ...   \n",
       "255   168583                2       0.0       0.0           B         2000   \n",
       "256   168598                1       0.0       0.0           C         1000   \n",
       "257   168601                2       0.0     554.0           C         1000   \n",
       "258   168603                1       0.0      20.0           B         2000   \n",
       "259   168606                1      63.0      17.0           C         1000   \n",
       "\n",
       "     minute  internal_over_cost  external_cost  operator_cost  total_cost  \n",
       "0       500                0.15            0.5            150      3395.0  \n",
       "1         0                0.30            0.7            300      1300.0  \n",
       "2         0                0.30            0.7            300      1600.0  \n",
       "3       500                0.15            0.5            150      6590.5  \n",
       "4       500                0.15            0.5            150      2694.5  \n",
       "..      ...                 ...            ...            ...         ...  \n",
       "255     500                0.15            0.5            150      2300.0  \n",
       "256       0                0.30            0.7            300      1300.0  \n",
       "257       0                0.30            0.7            300      1987.8  \n",
       "258     500                0.15            0.5            150      2160.0  \n",
       "259       0                0.30            0.7            300      1330.8  \n",
       "\n",
       "[260 rows x 11 columns]"
      ]
     },
     "execution_count": 33,
     "metadata": {},
     "output_type": "execute_result"
    }
   ],
   "source": [
    "active_user = cost_month(active_user, 'total_cost')\n",
    "active_user"
   ]
  },
  {
   "cell_type": "code",
   "execution_count": 34,
   "metadata": {},
   "outputs": [
    {
     "data": {
      "text/html": [
       "<div>\n",
       "<style scoped>\n",
       "    .dataframe tbody tr th:only-of-type {\n",
       "        vertical-align: middle;\n",
       "    }\n",
       "\n",
       "    .dataframe tbody tr th {\n",
       "        vertical-align: top;\n",
       "    }\n",
       "\n",
       "    .dataframe thead th {\n",
       "        text-align: right;\n",
       "    }\n",
       "</style>\n",
       "<table border=\"1\" class=\"dataframe\">\n",
       "  <thead>\n",
       "    <tr style=\"text-align: right;\">\n",
       "      <th></th>\n",
       "      <th>tariff_plan</th>\n",
       "      <th>count_operators</th>\n",
       "      <th>internal</th>\n",
       "      <th>external</th>\n",
       "    </tr>\n",
       "  </thead>\n",
       "  <tbody>\n",
       "    <tr>\n",
       "      <th>0</th>\n",
       "      <td>A</td>\n",
       "      <td>7.517241</td>\n",
       "      <td>126.310345</td>\n",
       "      <td>4209.586207</td>\n",
       "    </tr>\n",
       "    <tr>\n",
       "      <th>1</th>\n",
       "      <td>B</td>\n",
       "      <td>2.947917</td>\n",
       "      <td>16.770833</td>\n",
       "      <td>579.416667</td>\n",
       "    </tr>\n",
       "    <tr>\n",
       "      <th>2</th>\n",
       "      <td>C</td>\n",
       "      <td>2.074074</td>\n",
       "      <td>6.837037</td>\n",
       "      <td>415.281481</td>\n",
       "    </tr>\n",
       "  </tbody>\n",
       "</table>\n",
       "</div>"
      ],
      "text/plain": [
       "  tariff_plan  count_operators    internal     external\n",
       "0           A         7.517241  126.310345  4209.586207\n",
       "1           B         2.947917   16.770833   579.416667\n",
       "2           C         2.074074    6.837037   415.281481"
      ]
     },
     "execution_count": 34,
     "metadata": {},
     "output_type": "execute_result"
    }
   ],
   "source": [
    "active_user_group = (\n",
    "    active_user.groupby('tariff_plan')\n",
    "    .agg({'count_operators':'mean', 'internal':'mean', 'external': 'mean'})\n",
    "    .reset_index()\n",
    ")\n",
    "active_user_group"
   ]
  },
  {
   "cell_type": "code",
   "execution_count": 35,
   "metadata": {},
   "outputs": [
    {
     "data": {
      "image/png": "[encoded data removed]",
      "text/plain": [
       "<Figure size 864x432 with 1 Axes>"
      ]
     },
     "metadata": {
      "needs_background": "light"
     },
     "output_type": "display_data"
    }
   ],
   "source": [
    "# посмотрим как распределены траты пользователей по тарифам\n",
    "plt.figure(figsize = (12, 6))\n",
    "ax = sns.scatterplot(\n",
    "    data = active_user, \n",
    "    x = 'user_id', \n",
    "    y = 'total_cost', \n",
    "    hue = 'tariff_plan'\n",
    ")\n",
    "ax.set_title('Точечный график распределения трат пользователей по тарифам за последний месяц')\n",
    "ax.set_xlabel('')\n",
    "ax.set_ylabel('Траты')\n",
    "plt.ylim (1, 10000)\n",
    "plt.axhline (y = 1000, color='black', linestyle='--')\n",
    "plt.axhline (y = 2000, color='black', linestyle='--')\n",
    "plt.axhline (y = 4000, color='black', linestyle='--')\n",
    "ax.axes.xaxis.set_ticks([])\n",
    "plt.show() "
   ]
  },
  {
   "cell_type": "code",
   "execution_count": 36,
   "metadata": {},
   "outputs": [
    {
     "data": {
      "image/png": "[encoded data removed]",
      "text/plain": [
       "<Figure size 864x432 with 1 Axes>"
      ]
     },
     "metadata": {
      "needs_background": "light"
     },
     "output_type": "display_data"
    }
   ],
   "source": [
    "# построим диаграммы размаха\n",
    "plt.figure(figsize = (12, 6))\n",
    "sns.boxplot(data = active_user, x = 'tariff_plan', y = 'total_cost')\n",
    "plt.ylim (1, 10000)\n",
    "plt.title('Диаграмма размаха трат пользователй за месяц по тарифам')\n",
    "plt.xlabel('Тариф')\n",
    "plt.ylabel('Траты пользователей за месяц')\n",
    "plt.show()"
   ]
  },
  {
   "cell_type": "markdown",
   "metadata": {},
   "source": [
    "Медианное значение для тарифа C примерно 1600, для тарифа B - 2400, для тарифа A – 4300. Для всех тарифов присутствуют выбросы."
   ]
  },
  {
   "cell_type": "code",
   "execution_count": 37,
   "metadata": {},
   "outputs": [
    {
     "data": {
      "image/png": "[encoded data removed]",
      "text/plain": [
       "<Figure size 504x504 with 1 Axes>"
      ]
     },
     "metadata": {},
     "output_type": "display_data"
    }
   ],
   "source": [
    "# доля пользователей по тарифам\n",
    "users_by_tariffs = (\n",
    "    active_user.groupby('tariff_plan')\n",
    "    .agg({'user_id':'count'})\n",
    "    .reset_index()\n",
    ")\n",
    "plt.figure(figsize = (7, 7))\n",
    "plt.pie(users_by_tariffs['user_id'], autopct='%.0f%%')\n",
    "plt.title('Доля пользователей по тарифам')\n",
    "plt.legend(labels = users_by_tariffs['tariff_plan'],  loc='upper right')\n",
    "plt.show()"
   ]
  },
  {
   "cell_type": "markdown",
   "metadata": {},
   "source": [
    "У половины пользователей тариф C, на втором месте по количеству пользователей тариф B, самая маленькая доля пользователей у тарифа A."
   ]
  },
  {
   "cell_type": "code",
   "execution_count": 38,
   "metadata": {},
   "outputs": [
    {
     "data": {
      "text/plain": [
       "'90% пользователей платят в месяц меньше 4327.75, 95% – меньше 5088.54, 99% – меньше 9215.54'"
      ]
     },
     "metadata": {},
     "output_type": "display_data"
    },
    {
     "data": {
      "text/plain": [
       "'Общая выручка со всех клиентов за месяц: 684330.25'"
      ]
     },
     "metadata": {},
     "output_type": "display_data"
    }
   ],
   "source": [
    "perce = np.percentile(active_user['total_cost'], [90, 95, 99])\n",
    "total_cost = active_user['total_cost'].sum()\n",
    "display(f'90% пользователей платят в месяц меньше {perce[0]:.2f}, 95% – меньше {perce[1]:.2f}, \\\n",
    "99% – меньше {perce[2]:.2f}')\n",
    "display(f'Общая выручка со всех клиентов за месяц: {total_cost}')"
   ]
  },
  {
   "cell_type": "code",
   "execution_count": 39,
   "metadata": {},
   "outputs": [
    {
     "data": {
      "image/png": "[encoded data removed]",
      "text/plain": [
       "<Figure size 504x504 with 1 Axes>"
      ]
     },
     "metadata": {},
     "output_type": "display_data"
    }
   ],
   "source": [
    "# доля выручки по тарифам\n",
    "revenue_by_tariffs = (\n",
    "    active_user.groupby('tariff_plan')\n",
    "    .agg({'total_cost':'sum'})\n",
    "    .reset_index()\n",
    ")\n",
    "plt.figure(figsize = (7, 7))\n",
    "plt.pie(revenue_by_tariffs['total_cost'], autopct='%.0f%%')\n",
    "plt.title('Доля выручки по тарифам')\n",
    "plt.legend(labels = revenue_by_tariffs['tariff_plan'], loc='upper right')\n",
    "plt.show()"
   ]
  },
  {
   "cell_type": "markdown",
   "metadata": {},
   "source": [
    "Тарифы B и C приносят большую часть выручки, каждый по 38%, далее идет тариф A с 24%."
   ]
  },
  {
   "cell_type": "markdown",
   "metadata": {},
   "source": [
    "### Поиск пользователей с неоптимальными тарифами"
   ]
  },
  {
   "cell_type": "code",
   "execution_count": 40,
   "metadata": {},
   "outputs": [
    {
     "data": {
      "text/html": [
       "<div>\n",
       "<style scoped>\n",
       "    .dataframe tbody tr th:only-of-type {\n",
       "        vertical-align: middle;\n",
       "    }\n",
       "\n",
       "    .dataframe tbody tr th {\n",
       "        vertical-align: top;\n",
       "    }\n",
       "\n",
       "    .dataframe thead th {\n",
       "        text-align: right;\n",
       "    }\n",
       "</style>\n",
       "<table border=\"1\" class=\"dataframe\">\n",
       "  <thead>\n",
       "    <tr style=\"text-align: right;\">\n",
       "      <th></th>\n",
       "      <th>user_id</th>\n",
       "      <th>count_operators</th>\n",
       "      <th>internal</th>\n",
       "      <th>external</th>\n",
       "      <th>tariff_plan</th>\n",
       "      <th>total_cost</th>\n",
       "      <th>total_cost_A</th>\n",
       "      <th>total_cost_B</th>\n",
       "      <th>total_cost_C</th>\n",
       "    </tr>\n",
       "  </thead>\n",
       "  <tbody>\n",
       "    <tr>\n",
       "      <th>0</th>\n",
       "      <td>166377</td>\n",
       "      <td>4</td>\n",
       "      <td>3.0</td>\n",
       "      <td>1590.0</td>\n",
       "      <td>B</td>\n",
       "      <td>3395.0</td>\n",
       "      <td>4677.0</td>\n",
       "      <td>3395.0</td>\n",
       "      <td>3313.9</td>\n",
       "    </tr>\n",
       "    <tr>\n",
       "      <th>1</th>\n",
       "      <td>166391</td>\n",
       "      <td>1</td>\n",
       "      <td>0.0</td>\n",
       "      <td>0.0</td>\n",
       "      <td>C</td>\n",
       "      <td>1300.0</td>\n",
       "      <td>4050.0</td>\n",
       "      <td>2150.0</td>\n",
       "      <td>1300.0</td>\n",
       "    </tr>\n",
       "    <tr>\n",
       "      <th>2</th>\n",
       "      <td>166392</td>\n",
       "      <td>2</td>\n",
       "      <td>0.0</td>\n",
       "      <td>0.0</td>\n",
       "      <td>C</td>\n",
       "      <td>1600.0</td>\n",
       "      <td>4100.0</td>\n",
       "      <td>2300.0</td>\n",
       "      <td>1600.0</td>\n",
       "    </tr>\n",
       "    <tr>\n",
       "      <th>3</th>\n",
       "      <td>166405</td>\n",
       "      <td>8</td>\n",
       "      <td>2.0</td>\n",
       "      <td>6781.0</td>\n",
       "      <td>B</td>\n",
       "      <td>6590.5</td>\n",
       "      <td>6434.3</td>\n",
       "      <td>6590.5</td>\n",
       "      <td>8147.3</td>\n",
       "    </tr>\n",
       "    <tr>\n",
       "      <th>4</th>\n",
       "      <td>166406</td>\n",
       "      <td>2</td>\n",
       "      <td>0.0</td>\n",
       "      <td>789.0</td>\n",
       "      <td>B</td>\n",
       "      <td>2694.5</td>\n",
       "      <td>4336.7</td>\n",
       "      <td>2694.5</td>\n",
       "      <td>2152.3</td>\n",
       "    </tr>\n",
       "  </tbody>\n",
       "</table>\n",
       "</div>"
      ],
      "text/plain": [
       "   user_id  count_operators  internal  external tariff_plan  total_cost  \\\n",
       "0   166377                4       3.0    1590.0           B      3395.0   \n",
       "1   166391                1       0.0       0.0           C      1300.0   \n",
       "2   166392                2       0.0       0.0           C      1600.0   \n",
       "3   166405                8       2.0    6781.0           B      6590.5   \n",
       "4   166406                2       0.0     789.0           B      2694.5   \n",
       "\n",
       "   total_cost_A  total_cost_B  total_cost_C  \n",
       "0        4677.0        3395.0        3313.9  \n",
       "1        4050.0        2150.0        1300.0  \n",
       "2        4100.0        2300.0        1600.0  \n",
       "3        6434.3        6590.5        8147.3  \n",
       "4        4336.7        2694.5        2152.3  "
      ]
     },
     "execution_count": 40,
     "metadata": {},
     "output_type": "execute_result"
    }
   ],
   "source": [
    "# создадим пустой датафрейм и список тарифов\n",
    "tariff_dataframe = []\n",
    "tariff_name = ['A', 'B', 'C']\n",
    "\n",
    "# для каждого тарифа делаем копию датафрейма\n",
    "for tariff in range(len(tariff_name)):\n",
    "    tariff_dataframe.append(active_user[['user_id', 'count_operators', 'internal', 'external']].copy())\n",
    "\n",
    "# расчитываем месячную плату по каждому тарифу\n",
    "for tariff in range(len(tariff_name)):\n",
    "    data = tariff_dataframe[tariff]\n",
    "    data['tariff_plan'] = tariff_name[tariff]\n",
    "    data = data.merge(costs, on='tariff_plan')\n",
    "    col_name = 'total_cost' + '_' + tariff_name[tariff]\n",
    "    cost_month(data, col_name)\n",
    "    data = data[['user_id', col_name]]\n",
    "    tariff_dataframe[tariff] = data\n",
    "    \n",
    "active_user_by_tariff = active_user[['user_id', 'count_operators', 'internal',\n",
    "                                      'external', 'tariff_plan', 'total_cost']].copy()\n",
    "\n",
    "# создаем датафрейм, в котором указаны траты за все тарифы\n",
    "for tariff in range(len(tariff_dataframe)):\n",
    "    active_user_by_tariff = active_user_by_tariff.merge(tariff_dataframe[tariff], on='user_id')\n",
    "    \n",
    "active_user_by_tariff.head()"
   ]
  },
  {
   "cell_type": "code",
   "execution_count": 41,
   "metadata": {},
   "outputs": [],
   "source": [
    "# функция для определения самого выгодного для пользователя тарифа\n",
    "def best_tariff(row):\n",
    "    tariff_name = ['A', 'B', 'C']\n",
    "    tariff_costs = []\n",
    "    for i in range(len(tariff_name)):\n",
    "        col_name = 'total_cost' + '_' + tariff_name[i]\n",
    "        tariff_costs.append(row[col_name])\n",
    "    best_tariff_cost = min(tariff_costs)\n",
    "    for i in range(len(tariff_costs)):\n",
    "        if best_tariff_cost == tariff_costs[i]:\n",
    "            return tariff_name[i]\n",
    "# функция для определения платы за самый выгодный для пользователя тариф\n",
    "def best_tariff_cost(row):\n",
    "    tariff_name = ['A', 'B', 'C']\n",
    "    tariff_costs = []\n",
    "    for i in range(len(tariff_name)):\n",
    "        col_name = 'total_cost' + '_' + tariff_name[i]\n",
    "        tariff_costs.append(row[col_name])\n",
    "    best_tariff_cost = min(tariff_costs)\n",
    "    return best_tariff_cost"
   ]
  },
  {
   "cell_type": "code",
   "execution_count": 42,
   "metadata": {
    "scrolled": true
   },
   "outputs": [
    {
     "data": {
      "text/html": [
       "<div>\n",
       "<style scoped>\n",
       "    .dataframe tbody tr th:only-of-type {\n",
       "        vertical-align: middle;\n",
       "    }\n",
       "\n",
       "    .dataframe tbody tr th {\n",
       "        vertical-align: top;\n",
       "    }\n",
       "\n",
       "    .dataframe thead th {\n",
       "        text-align: right;\n",
       "    }\n",
       "</style>\n",
       "<table border=\"1\" class=\"dataframe\">\n",
       "  <thead>\n",
       "    <tr style=\"text-align: right;\">\n",
       "      <th></th>\n",
       "      <th>user_id</th>\n",
       "      <th>count_operators</th>\n",
       "      <th>internal</th>\n",
       "      <th>external</th>\n",
       "      <th>tariff_plan</th>\n",
       "      <th>total_cost</th>\n",
       "      <th>total_cost_A</th>\n",
       "      <th>total_cost_B</th>\n",
       "      <th>total_cost_C</th>\n",
       "      <th>best_tariff</th>\n",
       "      <th>best_tariff_cost</th>\n",
       "      <th>difference</th>\n",
       "      <th>difference_percent</th>\n",
       "    </tr>\n",
       "  </thead>\n",
       "  <tbody>\n",
       "    <tr>\n",
       "      <th>0</th>\n",
       "      <td>166377</td>\n",
       "      <td>4</td>\n",
       "      <td>3.0</td>\n",
       "      <td>1590.0</td>\n",
       "      <td>B</td>\n",
       "      <td>3395.0</td>\n",
       "      <td>4677.0</td>\n",
       "      <td>3395.0</td>\n",
       "      <td>3313.9</td>\n",
       "      <td>C</td>\n",
       "      <td>3313.9</td>\n",
       "      <td>81.1</td>\n",
       "      <td>0.02</td>\n",
       "    </tr>\n",
       "    <tr>\n",
       "      <th>1</th>\n",
       "      <td>166391</td>\n",
       "      <td>1</td>\n",
       "      <td>0.0</td>\n",
       "      <td>0.0</td>\n",
       "      <td>C</td>\n",
       "      <td>1300.0</td>\n",
       "      <td>4050.0</td>\n",
       "      <td>2150.0</td>\n",
       "      <td>1300.0</td>\n",
       "      <td>C</td>\n",
       "      <td>1300.0</td>\n",
       "      <td>0.0</td>\n",
       "      <td>0.00</td>\n",
       "    </tr>\n",
       "    <tr>\n",
       "      <th>2</th>\n",
       "      <td>166392</td>\n",
       "      <td>2</td>\n",
       "      <td>0.0</td>\n",
       "      <td>0.0</td>\n",
       "      <td>C</td>\n",
       "      <td>1600.0</td>\n",
       "      <td>4100.0</td>\n",
       "      <td>2300.0</td>\n",
       "      <td>1600.0</td>\n",
       "      <td>C</td>\n",
       "      <td>1600.0</td>\n",
       "      <td>0.0</td>\n",
       "      <td>0.00</td>\n",
       "    </tr>\n",
       "    <tr>\n",
       "      <th>3</th>\n",
       "      <td>166405</td>\n",
       "      <td>8</td>\n",
       "      <td>2.0</td>\n",
       "      <td>6781.0</td>\n",
       "      <td>B</td>\n",
       "      <td>6590.5</td>\n",
       "      <td>6434.3</td>\n",
       "      <td>6590.5</td>\n",
       "      <td>8147.3</td>\n",
       "      <td>A</td>\n",
       "      <td>6434.3</td>\n",
       "      <td>156.2</td>\n",
       "      <td>0.02</td>\n",
       "    </tr>\n",
       "    <tr>\n",
       "      <th>4</th>\n",
       "      <td>166406</td>\n",
       "      <td>2</td>\n",
       "      <td>0.0</td>\n",
       "      <td>789.0</td>\n",
       "      <td>B</td>\n",
       "      <td>2694.5</td>\n",
       "      <td>4336.7</td>\n",
       "      <td>2694.5</td>\n",
       "      <td>2152.3</td>\n",
       "      <td>C</td>\n",
       "      <td>2152.3</td>\n",
       "      <td>542.2</td>\n",
       "      <td>0.20</td>\n",
       "    </tr>\n",
       "  </tbody>\n",
       "</table>\n",
       "</div>"
      ],
      "text/plain": [
       "   user_id  count_operators  internal  external tariff_plan  total_cost  \\\n",
       "0   166377                4       3.0    1590.0           B      3395.0   \n",
       "1   166391                1       0.0       0.0           C      1300.0   \n",
       "2   166392                2       0.0       0.0           C      1600.0   \n",
       "3   166405                8       2.0    6781.0           B      6590.5   \n",
       "4   166406                2       0.0     789.0           B      2694.5   \n",
       "\n",
       "   total_cost_A  total_cost_B  total_cost_C best_tariff  best_tariff_cost  \\\n",
       "0        4677.0        3395.0        3313.9           C            3313.9   \n",
       "1        4050.0        2150.0        1300.0           C            1300.0   \n",
       "2        4100.0        2300.0        1600.0           C            1600.0   \n",
       "3        6434.3        6590.5        8147.3           A            6434.3   \n",
       "4        4336.7        2694.5        2152.3           C            2152.3   \n",
       "\n",
       "   difference  difference_percent  \n",
       "0        81.1                0.02  \n",
       "1         0.0                0.00  \n",
       "2         0.0                0.00  \n",
       "3       156.2                0.02  \n",
       "4       542.2                0.20  "
      ]
     },
     "execution_count": 42,
     "metadata": {},
     "output_type": "execute_result"
    }
   ],
   "source": [
    "# добавляем название самого выгодного для пользователя тарифа, его стоимость и процент перелат\n",
    "active_user_by_tariff['best_tariff'] = active_user_by_tariff.apply(best_tariff, axis=1)\n",
    "active_user_by_tariff['best_tariff_cost'] = active_user_by_tariff.apply(best_tariff_cost, axis=1)\n",
    "active_user_by_tariff['difference'] = (active_user_by_tariff['total_cost'] \\\n",
    "- active_user_by_tariff['best_tariff_cost'])\n",
    "active_user_by_tariff['difference_percent'] = round((active_user_by_tariff['total_cost'] \\\n",
    "- active_user_by_tariff['best_tariff_cost'])/active_user_by_tariff['total_cost'], 2)\n",
    "active_user_by_tariff.head(5)"
   ]
  },
  {
   "cell_type": "code",
   "execution_count": 43,
   "metadata": {},
   "outputs": [
    {
     "data": {
      "image/png": "[encoded data removed]",
      "text/plain": [
       "<Figure size 504x504 with 1 Axes>"
      ]
     },
     "metadata": {},
     "output_type": "display_data"
    }
   ],
   "source": [
    "# доля пользователей по оптимальных тарифам\n",
    "best_tariff_group = (\n",
    "    active_user_by_tariff.groupby('best_tariff')\n",
    "    .agg({'user_id':'count'})\n",
    "    .reset_index()\n",
    ")\n",
    "plt.figure(figsize = (7, 7))\n",
    "plt.pie(best_tariff_group['user_id'], autopct='%.0f%%')\n",
    "plt.title('Доля пользователей по оптимальным тарифам')\n",
    "plt.legend(labels = best_tariff_group['best_tariff'], loc='upper right')\n",
    "plt.show()"
   ]
  },
  {
   "cell_type": "code",
   "execution_count": 44,
   "metadata": {
    "scrolled": true
   },
   "outputs": [
    {
     "data": {
      "image/png": "[encoded data removed]",
      "text/plain": [
       "<Figure size 504x504 with 1 Axes>"
      ]
     },
     "metadata": {},
     "output_type": "display_data"
    }
   ],
   "source": [
    "# выручка по оптимальным тарифам\n",
    "revenue_by_best_tariffs = (\n",
    "    active_user_by_tariff.groupby('best_tariff')\n",
    "    .agg({'best_tariff_cost':'sum'})\n",
    "    .reset_index()\n",
    ")\n",
    "plt.figure(figsize = (7, 7))\n",
    "plt.pie(revenue_by_best_tariffs['best_tariff_cost'], autopct='%.0f%%')\n",
    "plt.title('Доля выручки по оптимальным тарифам')\n",
    "plt.legend(labels = revenue_by_best_tariffs['best_tariff'], loc='upper right')\n",
    "plt.show()"
   ]
  },
  {
   "cell_type": "code",
   "execution_count": 45,
   "metadata": {},
   "outputs": [
    {
     "data": {
      "image/png": "[encoded data removed]",
      "text/plain": [
       "<Figure size 504x504 with 1 Axes>"
      ]
     },
     "metadata": {
      "needs_background": "light"
     },
     "output_type": "display_data"
    }
   ],
   "source": [
    "fig, ax = plt.subplots(figsize = (7,7))\n",
    "ax.bar(revenue_by_tariffs['tariff_plan'], revenue_by_tariffs['total_cost'], alpha = 0.7, label = 'реальный')\n",
    "ax.bar(revenue_by_best_tariffs['best_tariff'], revenue_by_best_tariffs['best_tariff_cost']\\\n",
    "       , color = 'green', alpha=0.5, label = 'оптимальный')\n",
    "ax.set_xlabel('Тариф')\n",
    "ax.set_xlabel('Выручка')\n",
    "ax.set_title('Распределение выручки по тарифам')\n",
    "ax.legend()\n",
    "plt.show()"
   ]
  },
  {
   "cell_type": "code",
   "execution_count": 46,
   "metadata": {
    "scrolled": true
   },
   "outputs": [
    {
     "data": {
      "text/plain": [
       "0.47"
      ]
     },
     "execution_count": 46,
     "metadata": {},
     "output_type": "execute_result"
    }
   ],
   "source": [
    "# доля переплачивающих клиентов\n",
    "round(len(active_user_by_tariff.query('difference > 0'))/len(active_user_by_tariff), 2)"
   ]
  },
  {
   "cell_type": "code",
   "execution_count": 47,
   "metadata": {
    "scrolled": true
   },
   "outputs": [
    {
     "data": {
      "text/plain": [
       "'Общая выручка со всех клиентов за месяц: 684330.25'"
      ]
     },
     "metadata": {},
     "output_type": "display_data"
    },
    {
     "data": {
      "text/plain": [
       "'Общая выручка с клиентов за месяц, если клиенты будут платить по самому выгодному для них тарифу: 569351.85'"
      ]
     },
     "metadata": {},
     "output_type": "display_data"
    },
    {
     "data": {
      "text/plain": [
       "'Разница между выручками: 114978.40'"
      ]
     },
     "metadata": {},
     "output_type": "display_data"
    },
    {
     "data": {
      "text/plain": [
       "'Процент потерь в выручке, если все клиенты перейдут на выгодные для них тарифы 16.80%'"
      ]
     },
     "metadata": {},
     "output_type": "display_data"
    }
   ],
   "source": [
    "best_tariff_cost = active_user_by_tariff['best_tariff_cost'].sum()\n",
    "loss_percent = ((total_cost - best_tariff_cost)/total_cost) * 100\n",
    "display(f'Общая выручка со всех клиентов за месяц: {total_cost}')\n",
    "display(f'Общая выручка с клиентов за месяц, если клиенты будут платить по самому выгодному для них тарифу: \\\n",
    "{best_tariff_cost}')\n",
    "display(f'Разница между выручками: {total_cost - best_tariff_cost :.2f}')\n",
    "display(f'Процент потерь в выручке, если все клиенты перейдут на выгодные для них тарифы {loss_percent :.2f}%')"
   ]
  },
  {
   "cell_type": "code",
   "execution_count": 48,
   "metadata": {
    "scrolled": true
   },
   "outputs": [
    {
     "data": {
      "text/html": [
       "<style  type=\"text/css\" >\n",
       "</style><table id=\"T_820b8_\" ><caption>Распределение выгодных тарифов для пользователей тарифа C</caption><thead>    <tr>        <th class=\"blank level0\" ></th>        <th class=\"col_heading level0 col0\" >best_tariff</th>        <th class=\"col_heading level0 col1\" >user_id</th>        <th class=\"col_heading level0 col2\" >percent</th>    </tr></thead><tbody>\n",
       "                <tr>\n",
       "                        <th id=\"T_820b8_level0_row0\" class=\"row_heading level0 row0\" >0</th>\n",
       "                        <td id=\"T_820b8_row0_col0\" class=\"data row0 col0\" >A</td>\n",
       "                        <td id=\"T_820b8_row0_col1\" class=\"data row0 col1\" >1</td>\n",
       "                        <td id=\"T_820b8_row0_col2\" class=\"data row0 col2\" >0.010000</td>\n",
       "            </tr>\n",
       "            <tr>\n",
       "                        <th id=\"T_820b8_level0_row1\" class=\"row_heading level0 row1\" >1</th>\n",
       "                        <td id=\"T_820b8_row1_col0\" class=\"data row1 col0\" >B</td>\n",
       "                        <td id=\"T_820b8_row1_col1\" class=\"data row1 col1\" >10</td>\n",
       "                        <td id=\"T_820b8_row1_col2\" class=\"data row1 col2\" >0.070000</td>\n",
       "            </tr>\n",
       "            <tr>\n",
       "                        <th id=\"T_820b8_level0_row2\" class=\"row_heading level0 row2\" >2</th>\n",
       "                        <td id=\"T_820b8_row2_col0\" class=\"data row2 col0\" >C</td>\n",
       "                        <td id=\"T_820b8_row2_col1\" class=\"data row2 col1\" >124</td>\n",
       "                        <td id=\"T_820b8_row2_col2\" class=\"data row2 col2\" >0.920000</td>\n",
       "            </tr>\n",
       "    </tbody></table>"
      ],
      "text/plain": [
       "<pandas.io.formats.style.Styler at 0x7f001dc4a9d0>"
      ]
     },
     "execution_count": 48,
     "metadata": {},
     "output_type": "execute_result"
    }
   ],
   "source": [
    "# посмотрим на распределение самых выгодных тарифов для пользователей тарифа C\n",
    "tariff_C = active_user_by_tariff[active_user_by_tariff['tariff_plan'] == 'C']\\\n",
    "[['user_id','tariff_plan', 'total_cost', 'best_tariff', 'best_tariff_cost','difference', 'difference_percent']]\n",
    "tariff_C_group = tariff_C.groupby('best_tariff').agg({'user_id':'count'}).reset_index()\n",
    "tariff_C_group['percent'] = round(tariff_C_group['user_id']/len(tariff_C), 2)\n",
    "tariff_C_group.style.set_caption('Распределение выгодных тарифов для пользователей тарифа C')"
   ]
  },
  {
   "cell_type": "markdown",
   "metadata": {},
   "source": [
    "Для 92% пользователей тарифа C, он является оптимальным, для 1% наиболее выгодным был бы тариф A, еще для 7% был бы выгоден тариф B."
   ]
  },
  {
   "cell_type": "code",
   "execution_count": 49,
   "metadata": {},
   "outputs": [
    {
     "data": {
      "text/html": [
       "<div>\n",
       "<style scoped>\n",
       "    .dataframe tbody tr th:only-of-type {\n",
       "        vertical-align: middle;\n",
       "    }\n",
       "\n",
       "    .dataframe tbody tr th {\n",
       "        vertical-align: top;\n",
       "    }\n",
       "\n",
       "    .dataframe thead th {\n",
       "        text-align: right;\n",
       "    }\n",
       "</style>\n",
       "<table border=\"1\" class=\"dataframe\">\n",
       "  <thead>\n",
       "    <tr style=\"text-align: right;\">\n",
       "      <th></th>\n",
       "      <th>user_id</th>\n",
       "      <th>tariff_plan</th>\n",
       "      <th>total_cost</th>\n",
       "      <th>best_tariff</th>\n",
       "      <th>best_tariff_cost</th>\n",
       "      <th>difference</th>\n",
       "      <th>difference_percent</th>\n",
       "    </tr>\n",
       "  </thead>\n",
       "  <tbody>\n",
       "    <tr>\n",
       "      <th>13</th>\n",
       "      <td>166520</td>\n",
       "      <td>C</td>\n",
       "      <td>4855.2</td>\n",
       "      <td>B</td>\n",
       "      <td>4110.0</td>\n",
       "      <td>745.2</td>\n",
       "      <td>0.15</td>\n",
       "    </tr>\n",
       "    <tr>\n",
       "      <th>58</th>\n",
       "      <td>166939</td>\n",
       "      <td>C</td>\n",
       "      <td>3139.7</td>\n",
       "      <td>B</td>\n",
       "      <td>3071.5</td>\n",
       "      <td>68.2</td>\n",
       "      <td>0.02</td>\n",
       "    </tr>\n",
       "    <tr>\n",
       "      <th>64</th>\n",
       "      <td>166983</td>\n",
       "      <td>C</td>\n",
       "      <td>4455.2</td>\n",
       "      <td>B</td>\n",
       "      <td>4201.0</td>\n",
       "      <td>254.2</td>\n",
       "      <td>0.06</td>\n",
       "    </tr>\n",
       "    <tr>\n",
       "      <th>83</th>\n",
       "      <td>167109</td>\n",
       "      <td>C</td>\n",
       "      <td>3440.6</td>\n",
       "      <td>B</td>\n",
       "      <td>3250.0</td>\n",
       "      <td>190.6</td>\n",
       "      <td>0.06</td>\n",
       "    </tr>\n",
       "    <tr>\n",
       "      <th>88</th>\n",
       "      <td>167150</td>\n",
       "      <td>C</td>\n",
       "      <td>5086.3</td>\n",
       "      <td>B</td>\n",
       "      <td>4422.5</td>\n",
       "      <td>663.8</td>\n",
       "      <td>0.13</td>\n",
       "    </tr>\n",
       "    <tr>\n",
       "      <th>144</th>\n",
       "      <td>167650</td>\n",
       "      <td>C</td>\n",
       "      <td>3874.7</td>\n",
       "      <td>B</td>\n",
       "      <td>3796.0</td>\n",
       "      <td>78.7</td>\n",
       "      <td>0.02</td>\n",
       "    </tr>\n",
       "    <tr>\n",
       "      <th>161</th>\n",
       "      <td>167827</td>\n",
       "      <td>C</td>\n",
       "      <td>8648.7</td>\n",
       "      <td>A</td>\n",
       "      <td>7042.3</td>\n",
       "      <td>1606.4</td>\n",
       "      <td>0.19</td>\n",
       "    </tr>\n",
       "    <tr>\n",
       "      <th>168</th>\n",
       "      <td>167888</td>\n",
       "      <td>C</td>\n",
       "      <td>4312.2</td>\n",
       "      <td>B</td>\n",
       "      <td>4173.0</td>\n",
       "      <td>139.2</td>\n",
       "      <td>0.03</td>\n",
       "    </tr>\n",
       "    <tr>\n",
       "      <th>205</th>\n",
       "      <td>168073</td>\n",
       "      <td>C</td>\n",
       "      <td>3112.2</td>\n",
       "      <td>B</td>\n",
       "      <td>3057.0</td>\n",
       "      <td>55.2</td>\n",
       "      <td>0.02</td>\n",
       "    </tr>\n",
       "    <tr>\n",
       "      <th>236</th>\n",
       "      <td>168336</td>\n",
       "      <td>C</td>\n",
       "      <td>6918.4</td>\n",
       "      <td>B</td>\n",
       "      <td>5381.0</td>\n",
       "      <td>1537.4</td>\n",
       "      <td>0.22</td>\n",
       "    </tr>\n",
       "    <tr>\n",
       "      <th>240</th>\n",
       "      <td>168412</td>\n",
       "      <td>C</td>\n",
       "      <td>6602.5</td>\n",
       "      <td>B</td>\n",
       "      <td>5423.0</td>\n",
       "      <td>1179.5</td>\n",
       "      <td>0.18</td>\n",
       "    </tr>\n",
       "  </tbody>\n",
       "</table>\n",
       "</div>"
      ],
      "text/plain": [
       "     user_id tariff_plan  total_cost best_tariff  best_tariff_cost  \\\n",
       "13    166520           C      4855.2           B            4110.0   \n",
       "58    166939           C      3139.7           B            3071.5   \n",
       "64    166983           C      4455.2           B            4201.0   \n",
       "83    167109           C      3440.6           B            3250.0   \n",
       "88    167150           C      5086.3           B            4422.5   \n",
       "144   167650           C      3874.7           B            3796.0   \n",
       "161   167827           C      8648.7           A            7042.3   \n",
       "168   167888           C      4312.2           B            4173.0   \n",
       "205   168073           C      3112.2           B            3057.0   \n",
       "236   168336           C      6918.4           B            5381.0   \n",
       "240   168412           C      6602.5           B            5423.0   \n",
       "\n",
       "     difference  difference_percent  \n",
       "13        745.2                0.15  \n",
       "58         68.2                0.02  \n",
       "64        254.2                0.06  \n",
       "83        190.6                0.06  \n",
       "88        663.8                0.13  \n",
       "144        78.7                0.02  \n",
       "161      1606.4                0.19  \n",
       "168       139.2                0.03  \n",
       "205        55.2                0.02  \n",
       "236      1537.4                0.22  \n",
       "240      1179.5                0.18  "
      ]
     },
     "execution_count": 49,
     "metadata": {},
     "output_type": "execute_result"
    }
   ],
   "source": [
    "# пользователи тарифа C, которым можно предложить более дорогой тариф\n",
    "upper_C = tariff_C.query('best_tariff == \"A\" or best_tariff == \"B\"')\n",
    "upper_C"
   ]
  },
  {
   "cell_type": "code",
   "execution_count": 50,
   "metadata": {},
   "outputs": [
    {
     "data": {
      "text/plain": [
       "6518.4"
      ]
     },
     "execution_count": 50,
     "metadata": {},
     "output_type": "execute_result"
    }
   ],
   "source": [
    "# посчитаем разницу в выручке для пользователей, которым выгодно с тарифа C перейти на тарифы A или B\n",
    "loss_upper_C = round(upper_C['difference'].sum(), 2)\n",
    "loss_upper_C"
   ]
  },
  {
   "cell_type": "code",
   "execution_count": 51,
   "metadata": {
    "scrolled": true
   },
   "outputs": [
    {
     "data": {
      "text/html": [
       "<style  type=\"text/css\" >\n",
       "</style><table id=\"T_8471a_\" ><caption>Распределение выгодных тарифов для пользователей тарифа B</caption><thead>    <tr>        <th class=\"blank level0\" ></th>        <th class=\"col_heading level0 col0\" >best_tariff</th>        <th class=\"col_heading level0 col1\" >user_id</th>        <th class=\"col_heading level0 col2\" >percent</th>    </tr></thead><tbody>\n",
       "                <tr>\n",
       "                        <th id=\"T_8471a_level0_row0\" class=\"row_heading level0 row0\" >0</th>\n",
       "                        <td id=\"T_8471a_row0_col0\" class=\"data row0 col0\" >A</td>\n",
       "                        <td id=\"T_8471a_row0_col1\" class=\"data row0 col1\" >4</td>\n",
       "                        <td id=\"T_8471a_row0_col2\" class=\"data row0 col2\" >0.040000</td>\n",
       "            </tr>\n",
       "            <tr>\n",
       "                        <th id=\"T_8471a_level0_row1\" class=\"row_heading level0 row1\" >1</th>\n",
       "                        <td id=\"T_8471a_row1_col0\" class=\"data row1 col0\" >B</td>\n",
       "                        <td id=\"T_8471a_row1_col1\" class=\"data row1 col1\" >8</td>\n",
       "                        <td id=\"T_8471a_row1_col2\" class=\"data row1 col2\" >0.080000</td>\n",
       "            </tr>\n",
       "            <tr>\n",
       "                        <th id=\"T_8471a_level0_row2\" class=\"row_heading level0 row2\" >2</th>\n",
       "                        <td id=\"T_8471a_row2_col0\" class=\"data row2 col0\" >C</td>\n",
       "                        <td id=\"T_8471a_row2_col1\" class=\"data row2 col1\" >84</td>\n",
       "                        <td id=\"T_8471a_row2_col2\" class=\"data row2 col2\" >0.880000</td>\n",
       "            </tr>\n",
       "    </tbody></table>"
      ],
      "text/plain": [
       "<pandas.io.formats.style.Styler at 0x7f0025e2ba00>"
      ]
     },
     "execution_count": 51,
     "metadata": {},
     "output_type": "execute_result"
    }
   ],
   "source": [
    "# посмотрим на распределение самых выгодных тарифов для пользователей тарифа B\n",
    "tariff_B = active_user_by_tariff[active_user_by_tariff['tariff_plan'] == 'B']\\\n",
    "[['user_id','tariff_plan', 'total_cost', 'best_tariff', 'best_tariff_cost','difference', 'difference_percent']]\n",
    "tariff_B_group = tariff_B.groupby('best_tariff').agg({'user_id':'count'}).reset_index()\n",
    "tariff_B_group['percent'] = round(tariff_B_group['user_id']/len(tariff_B), 2)\n",
    "tariff_B_group.style.set_caption('Распределение выгодных тарифов для пользователей тарифа B')"
   ]
  },
  {
   "cell_type": "markdown",
   "metadata": {},
   "source": [
    "Только для 8% пользователей тарифа B тариф является оптимальным, для 4% пользователей более выгодным будет тариф A, 88% пользователей выгоднее будет перейти на самый недорогой тариф."
   ]
  },
  {
   "cell_type": "code",
   "execution_count": 52,
   "metadata": {},
   "outputs": [
    {
     "data": {
      "text/html": [
       "<div>\n",
       "<style scoped>\n",
       "    .dataframe tbody tr th:only-of-type {\n",
       "        vertical-align: middle;\n",
       "    }\n",
       "\n",
       "    .dataframe tbody tr th {\n",
       "        vertical-align: top;\n",
       "    }\n",
       "\n",
       "    .dataframe thead th {\n",
       "        text-align: right;\n",
       "    }\n",
       "</style>\n",
       "<table border=\"1\" class=\"dataframe\">\n",
       "  <thead>\n",
       "    <tr style=\"text-align: right;\">\n",
       "      <th></th>\n",
       "      <th>user_id</th>\n",
       "      <th>tariff_plan</th>\n",
       "      <th>total_cost</th>\n",
       "      <th>best_tariff</th>\n",
       "      <th>best_tariff_cost</th>\n",
       "      <th>difference</th>\n",
       "      <th>difference_percent</th>\n",
       "    </tr>\n",
       "  </thead>\n",
       "  <tbody>\n",
       "    <tr>\n",
       "      <th>3</th>\n",
       "      <td>166405</td>\n",
       "      <td>B</td>\n",
       "      <td>6590.50</td>\n",
       "      <td>A</td>\n",
       "      <td>6434.3</td>\n",
       "      <td>156.20</td>\n",
       "      <td>0.02</td>\n",
       "    </tr>\n",
       "    <tr>\n",
       "      <th>24</th>\n",
       "      <td>166658</td>\n",
       "      <td>B</td>\n",
       "      <td>8833.50</td>\n",
       "      <td>A</td>\n",
       "      <td>7500.1</td>\n",
       "      <td>1333.40</td>\n",
       "      <td>0.15</td>\n",
       "    </tr>\n",
       "    <tr>\n",
       "      <th>29</th>\n",
       "      <td>166680</td>\n",
       "      <td>B</td>\n",
       "      <td>5714.50</td>\n",
       "      <td>A</td>\n",
       "      <td>5708.7</td>\n",
       "      <td>5.80</td>\n",
       "      <td>0.00</td>\n",
       "    </tr>\n",
       "    <tr>\n",
       "      <th>207</th>\n",
       "      <td>168091</td>\n",
       "      <td>B</td>\n",
       "      <td>6393.85</td>\n",
       "      <td>A</td>\n",
       "      <td>5982.0</td>\n",
       "      <td>411.85</td>\n",
       "      <td>0.06</td>\n",
       "    </tr>\n",
       "  </tbody>\n",
       "</table>\n",
       "</div>"
      ],
      "text/plain": [
       "     user_id tariff_plan  total_cost best_tariff  best_tariff_cost  \\\n",
       "3     166405           B     6590.50           A            6434.3   \n",
       "24    166658           B     8833.50           A            7500.1   \n",
       "29    166680           B     5714.50           A            5708.7   \n",
       "207   168091           B     6393.85           A            5982.0   \n",
       "\n",
       "     difference  difference_percent  \n",
       "3        156.20                0.02  \n",
       "24      1333.40                0.15  \n",
       "29         5.80                0.00  \n",
       "207      411.85                0.06  "
      ]
     },
     "execution_count": 52,
     "metadata": {},
     "output_type": "execute_result"
    }
   ],
   "source": [
    "# пользователи тарифа B, которым можно предложить более дорогой тариф\n",
    "upper_B = tariff_B.query('best_tariff == \"A\"')\n",
    "upper_B"
   ]
  },
  {
   "cell_type": "code",
   "execution_count": 53,
   "metadata": {},
   "outputs": [
    {
     "data": {
      "text/plain": [
       "1907.25"
      ]
     },
     "execution_count": 53,
     "metadata": {},
     "output_type": "execute_result"
    }
   ],
   "source": [
    "# посчитаем разницу в выручке для пользователей, которым выгодно с тарифа B перейти на тариф A\n",
    "loss_upper_B = round(upper_B['difference'].sum(), 2)\n",
    "loss_upper_B"
   ]
  },
  {
   "cell_type": "code",
   "execution_count": 54,
   "metadata": {},
   "outputs": [
    {
     "data": {
      "text/html": [
       "<style  type=\"text/css\" >\n",
       "</style><table id=\"T_22ae8_\" ><caption>Распределение выгодных тарифов для пользователей тарифа A</caption><thead>    <tr>        <th class=\"blank level0\" ></th>        <th class=\"col_heading level0 col0\" >best_tariff</th>        <th class=\"col_heading level0 col1\" >user_id</th>        <th class=\"col_heading level0 col2\" >percent</th>    </tr></thead><tbody>\n",
       "                <tr>\n",
       "                        <th id=\"T_22ae8_level0_row0\" class=\"row_heading level0 row0\" >0</th>\n",
       "                        <td id=\"T_22ae8_row0_col0\" class=\"data row0 col0\" >A</td>\n",
       "                        <td id=\"T_22ae8_row0_col1\" class=\"data row0 col1\" >5</td>\n",
       "                        <td id=\"T_22ae8_row0_col2\" class=\"data row0 col2\" >0.170000</td>\n",
       "            </tr>\n",
       "            <tr>\n",
       "                        <th id=\"T_22ae8_level0_row1\" class=\"row_heading level0 row1\" >1</th>\n",
       "                        <td id=\"T_22ae8_row1_col0\" class=\"data row1 col0\" >B</td>\n",
       "                        <td id=\"T_22ae8_row1_col1\" class=\"data row1 col1\" >4</td>\n",
       "                        <td id=\"T_22ae8_row1_col2\" class=\"data row1 col2\" >0.140000</td>\n",
       "            </tr>\n",
       "            <tr>\n",
       "                        <th id=\"T_22ae8_level0_row2\" class=\"row_heading level0 row2\" >2</th>\n",
       "                        <td id=\"T_22ae8_row2_col0\" class=\"data row2 col0\" >C</td>\n",
       "                        <td id=\"T_22ae8_row2_col1\" class=\"data row2 col1\" >20</td>\n",
       "                        <td id=\"T_22ae8_row2_col2\" class=\"data row2 col2\" >0.690000</td>\n",
       "            </tr>\n",
       "    </tbody></table>"
      ],
      "text/plain": [
       "<pandas.io.formats.style.Styler at 0x7f001dcdb2b0>"
      ]
     },
     "execution_count": 54,
     "metadata": {},
     "output_type": "execute_result"
    }
   ],
   "source": [
    "# посмотрим на распределение самых выгодных тарифов для пользователей тарифа A\n",
    "tariff_A = active_user_by_tariff[active_user_by_tariff['tariff_plan'] == 'A']\\\n",
    "[['user_id','tariff_plan', 'total_cost', 'best_tariff', 'best_tariff_cost', 'difference', 'difference_percent']]\n",
    "tariff_A_group = tariff_A.groupby('best_tariff').agg({'user_id':'count'}).reset_index()\n",
    "tariff_A_group['percent'] = round(tariff_A_group['user_id']/len(tariff_A), 2)\n",
    "tariff_A_group.style.set_caption('Распределение выгодных тарифов для пользователей тарифа A')"
   ]
  },
  {
   "cell_type": "markdown",
   "metadata": {},
   "source": [
    "Тариф A является самым выгодным только для 17% своих пользователей, 14% было бы выгодно перейти на тариф B, а еще 69% перейти на тариф C."
   ]
  },
  {
   "cell_type": "code",
   "execution_count": 55,
   "metadata": {},
   "outputs": [
    {
     "data": {
      "text/plain": [
       "'Потери в выручке, если клиенты перейдут на более дорогие, но выгодные для них тарифы 8425.65'"
      ]
     },
     "metadata": {},
     "output_type": "display_data"
    },
    {
     "data": {
      "text/plain": [
       "'Процент потерь в выручке, если клиенты перейдут на более дорогие, но выгодные для них тарифы 1.23%'"
      ]
     },
     "metadata": {},
     "output_type": "display_data"
    }
   ],
   "source": [
    "# посчитаем убытки, если пользователи перейдут на более выгодные дорогие тарифы\n",
    "loss_upper_tariff = loss_upper_B + loss_upper_C\n",
    "display(f'Потери в выручке, если клиенты перейдут на более дорогие, но выгодные для них тарифы {loss_upper_tariff}')\n",
    "display(f'Процент потерь в выручке, если клиенты перейдут на более дорогие, но выгодные для них тарифы \\\n",
    "{(loss_upper_tariff/total_cost)*100 :.2f}%')"
   ]
  },
  {
   "cell_type": "code",
   "execution_count": 56,
   "metadata": {
    "scrolled": true
   },
   "outputs": [
    {
     "data": {
      "text/html": [
       "<div>\n",
       "<style scoped>\n",
       "    .dataframe tbody tr th:only-of-type {\n",
       "        vertical-align: middle;\n",
       "    }\n",
       "\n",
       "    .dataframe tbody tr th {\n",
       "        vertical-align: top;\n",
       "    }\n",
       "\n",
       "    .dataframe thead th {\n",
       "        text-align: right;\n",
       "    }\n",
       "</style>\n",
       "<table border=\"1\" class=\"dataframe\">\n",
       "  <thead>\n",
       "    <tr style=\"text-align: right;\">\n",
       "      <th></th>\n",
       "      <th>user_id</th>\n",
       "      <th>tariff_plan</th>\n",
       "      <th>total_cost</th>\n",
       "      <th>best_tariff</th>\n",
       "      <th>best_tariff_cost</th>\n",
       "      <th>difference</th>\n",
       "      <th>difference_percent</th>\n",
       "    </tr>\n",
       "  </thead>\n",
       "  <tbody>\n",
       "    <tr>\n",
       "      <th>0</th>\n",
       "      <td>166520</td>\n",
       "      <td>C</td>\n",
       "      <td>4855.20</td>\n",
       "      <td>B</td>\n",
       "      <td>4110.0</td>\n",
       "      <td>745.20</td>\n",
       "      <td>0.15</td>\n",
       "    </tr>\n",
       "    <tr>\n",
       "      <th>1</th>\n",
       "      <td>166939</td>\n",
       "      <td>C</td>\n",
       "      <td>3139.70</td>\n",
       "      <td>B</td>\n",
       "      <td>3071.5</td>\n",
       "      <td>68.20</td>\n",
       "      <td>0.02</td>\n",
       "    </tr>\n",
       "    <tr>\n",
       "      <th>2</th>\n",
       "      <td>166983</td>\n",
       "      <td>C</td>\n",
       "      <td>4455.20</td>\n",
       "      <td>B</td>\n",
       "      <td>4201.0</td>\n",
       "      <td>254.20</td>\n",
       "      <td>0.06</td>\n",
       "    </tr>\n",
       "    <tr>\n",
       "      <th>3</th>\n",
       "      <td>167109</td>\n",
       "      <td>C</td>\n",
       "      <td>3440.60</td>\n",
       "      <td>B</td>\n",
       "      <td>3250.0</td>\n",
       "      <td>190.60</td>\n",
       "      <td>0.06</td>\n",
       "    </tr>\n",
       "    <tr>\n",
       "      <th>4</th>\n",
       "      <td>167150</td>\n",
       "      <td>C</td>\n",
       "      <td>5086.30</td>\n",
       "      <td>B</td>\n",
       "      <td>4422.5</td>\n",
       "      <td>663.80</td>\n",
       "      <td>0.13</td>\n",
       "    </tr>\n",
       "    <tr>\n",
       "      <th>5</th>\n",
       "      <td>167650</td>\n",
       "      <td>C</td>\n",
       "      <td>3874.70</td>\n",
       "      <td>B</td>\n",
       "      <td>3796.0</td>\n",
       "      <td>78.70</td>\n",
       "      <td>0.02</td>\n",
       "    </tr>\n",
       "    <tr>\n",
       "      <th>6</th>\n",
       "      <td>167827</td>\n",
       "      <td>C</td>\n",
       "      <td>8648.70</td>\n",
       "      <td>A</td>\n",
       "      <td>7042.3</td>\n",
       "      <td>1606.40</td>\n",
       "      <td>0.19</td>\n",
       "    </tr>\n",
       "    <tr>\n",
       "      <th>7</th>\n",
       "      <td>167888</td>\n",
       "      <td>C</td>\n",
       "      <td>4312.20</td>\n",
       "      <td>B</td>\n",
       "      <td>4173.0</td>\n",
       "      <td>139.20</td>\n",
       "      <td>0.03</td>\n",
       "    </tr>\n",
       "    <tr>\n",
       "      <th>8</th>\n",
       "      <td>168073</td>\n",
       "      <td>C</td>\n",
       "      <td>3112.20</td>\n",
       "      <td>B</td>\n",
       "      <td>3057.0</td>\n",
       "      <td>55.20</td>\n",
       "      <td>0.02</td>\n",
       "    </tr>\n",
       "    <tr>\n",
       "      <th>9</th>\n",
       "      <td>168336</td>\n",
       "      <td>C</td>\n",
       "      <td>6918.40</td>\n",
       "      <td>B</td>\n",
       "      <td>5381.0</td>\n",
       "      <td>1537.40</td>\n",
       "      <td>0.22</td>\n",
       "    </tr>\n",
       "    <tr>\n",
       "      <th>10</th>\n",
       "      <td>168412</td>\n",
       "      <td>C</td>\n",
       "      <td>6602.50</td>\n",
       "      <td>B</td>\n",
       "      <td>5423.0</td>\n",
       "      <td>1179.50</td>\n",
       "      <td>0.18</td>\n",
       "    </tr>\n",
       "    <tr>\n",
       "      <th>11</th>\n",
       "      <td>166405</td>\n",
       "      <td>B</td>\n",
       "      <td>6590.50</td>\n",
       "      <td>A</td>\n",
       "      <td>6434.3</td>\n",
       "      <td>156.20</td>\n",
       "      <td>0.02</td>\n",
       "    </tr>\n",
       "    <tr>\n",
       "      <th>12</th>\n",
       "      <td>166658</td>\n",
       "      <td>B</td>\n",
       "      <td>8833.50</td>\n",
       "      <td>A</td>\n",
       "      <td>7500.1</td>\n",
       "      <td>1333.40</td>\n",
       "      <td>0.15</td>\n",
       "    </tr>\n",
       "    <tr>\n",
       "      <th>13</th>\n",
       "      <td>166680</td>\n",
       "      <td>B</td>\n",
       "      <td>5714.50</td>\n",
       "      <td>A</td>\n",
       "      <td>5708.7</td>\n",
       "      <td>5.80</td>\n",
       "      <td>0.00</td>\n",
       "    </tr>\n",
       "    <tr>\n",
       "      <th>14</th>\n",
       "      <td>168091</td>\n",
       "      <td>B</td>\n",
       "      <td>6393.85</td>\n",
       "      <td>A</td>\n",
       "      <td>5982.0</td>\n",
       "      <td>411.85</td>\n",
       "      <td>0.06</td>\n",
       "    </tr>\n",
       "  </tbody>\n",
       "</table>\n",
       "</div>"
      ],
      "text/plain": [
       "    user_id tariff_plan  total_cost best_tariff  best_tariff_cost  difference  \\\n",
       "0    166520           C     4855.20           B            4110.0      745.20   \n",
       "1    166939           C     3139.70           B            3071.5       68.20   \n",
       "2    166983           C     4455.20           B            4201.0      254.20   \n",
       "3    167109           C     3440.60           B            3250.0      190.60   \n",
       "4    167150           C     5086.30           B            4422.5      663.80   \n",
       "5    167650           C     3874.70           B            3796.0       78.70   \n",
       "6    167827           C     8648.70           A            7042.3     1606.40   \n",
       "7    167888           C     4312.20           B            4173.0      139.20   \n",
       "8    168073           C     3112.20           B            3057.0       55.20   \n",
       "9    168336           C     6918.40           B            5381.0     1537.40   \n",
       "10   168412           C     6602.50           B            5423.0     1179.50   \n",
       "11   166405           B     6590.50           A            6434.3      156.20   \n",
       "12   166658           B     8833.50           A            7500.1     1333.40   \n",
       "13   166680           B     5714.50           A            5708.7        5.80   \n",
       "14   168091           B     6393.85           A            5982.0      411.85   \n",
       "\n",
       "    difference_percent  \n",
       "0                 0.15  \n",
       "1                 0.02  \n",
       "2                 0.06  \n",
       "3                 0.06  \n",
       "4                 0.13  \n",
       "5                 0.02  \n",
       "6                 0.19  \n",
       "7                 0.03  \n",
       "8                 0.02  \n",
       "9                 0.22  \n",
       "10                0.18  \n",
       "11                0.02  \n",
       "12                0.15  \n",
       "13                0.00  \n",
       "14                0.06  "
      ]
     },
     "execution_count": 56,
     "metadata": {},
     "output_type": "execute_result"
    }
   ],
   "source": [
    "# создадим один датафрейм с пользователями, которым нужно предложить повышение тарифа\n",
    "upper_tariff = upper_C.append(upper_B, ignore_index = True)\n",
    "upper_tariff"
   ]
  },
  {
   "cell_type": "markdown",
   "metadata": {},
   "source": [
    "### Выводы по разделу\n",
    "- Для проведения исследовательского анализа были выбраны клиенты, которые пользовались услугами за последний месяц;\n",
    "- для активных пользователей были посчитаны траты за месяц. Медианное значение для тарифа C составило примерно 1600, для тарифа B - 2400, для тарифа A – 4300, на всех тарифах присутствуют пользователи, которые платят сильно больше остальных;\n",
    "- больше половины всех пользователей используют тариф C (52%), на втором месте по количеству пользователей тариф B (37%), самая маленькая доля пользователей у тарифа A (11%);\n",
    "- тарифы B и C приносят большую часть выручки, каждый по 38%, далее идет тариф A с 24%;\n",
    "- 47% пользователей переплачивают на текущем тарифе;\n",
    "- большая часть пользователей платила бы меньше, если бы использовала тариф C, но тогда потери по выручке составили больше 16%;\n",
    "- если предложить пользователям смену тарифа только в большую сторону, то потери составят чуть больше 1%."
   ]
  },
  {
   "cell_type": "markdown",
   "metadata": {},
   "source": [
    "## Проверка статистических гипотез"
   ]
  },
  {
   "cell_type": "markdown",
   "metadata": {},
   "source": [
    "### Цена услуг тарифов A и B"
   ]
  },
  {
   "cell_type": "markdown",
   "metadata": {},
   "source": [
    "Проверим различается ли цена услуг на тарифных планах A и B. Сформируем гипотезы:\n",
    "\n",
    "**H0: Цена услуг на тарифных планах A и B не различается**\n",
    "\n",
    "**H1: Цена услуг различается на тарифных планах A и B**\n",
    "\n",
    "Для проверки гипотез будем использовать критерий Манна-Уитни."
   ]
  },
  {
   "cell_type": "code",
   "execution_count": 57,
   "metadata": {},
   "outputs": [
    {
     "name": "stdout",
     "output_type": "stream",
     "text": [
      "p-значение:  1.123848264922355e-12\n",
      "Отвергаем нулевую гипотезу: разница статистически значима\n"
     ]
    }
   ],
   "source": [
    "# критический уровень статистической значимости\n",
    "alpha = 0.05  \n",
    "total_cost_A = tariff_A['total_cost']\n",
    "total_cost_B = tariff_B['total_cost']\n",
    "results = st.mannwhitneyu(total_cost_A, total_cost_B)\n",
    "print('p-значение: ', results.pvalue)\n",
    "\n",
    "if results.pvalue < alpha:\n",
    "    print('Отвергаем нулевую гипотезу: разница статистически значима')\n",
    "else:\n",
    "    print(\n",
    "        'Не получилось отвергнуть нулевую гипотезу, вывод о различии сделать нельзя'\n",
    "    ) "
   ]
  },
  {
   "cell_type": "markdown",
   "metadata": {},
   "source": [
    "Разница между ценой услуг на тарифе A и B статистически значима, следовательно мы отвергаем нулевую гипотезу в пользу альтернативной."
   ]
  },
  {
   "cell_type": "code",
   "execution_count": 58,
   "metadata": {},
   "outputs": [
    {
     "data": {
      "text/plain": [
       "'Средний чек тарифа A 5638.74'"
      ]
     },
     "metadata": {},
     "output_type": "display_data"
    },
    {
     "data": {
      "text/plain": [
       "'Средний чек тарифа B 2732.14'"
      ]
     },
     "metadata": {},
     "output_type": "display_data"
    }
   ],
   "source": [
    "display(f'Средний чек тарифа A {tariff_A[\"total_cost\"].mean() :.2f}')\n",
    "display(f'Средний чек тарифа B \\\n",
    "{tariff_B[\"total_cost\"].mean() :.2f}')"
   ]
  },
  {
   "cell_type": "markdown",
   "metadata": {},
   "source": [
    "### Различие выручки до и после смены тарифов  пользователей на оптимальные"
   ]
  },
  {
   "cell_type": "markdown",
   "metadata": {},
   "source": [
    "Проверим будет ли статистически значимым измение выручки, если всем клиентам предложить изменить тариф на оптимальный. Для этого сформируем гипотезы:\n",
    "\n",
    "**H0: Выручки до и после смены тарифов не различаются**\n",
    "\n",
    "**H1: Различия между выручками до и после смены тарифов есть**\n",
    "\n",
    "Для проверки гипотез будем использовать критерий Манна-Уитни."
   ]
  },
  {
   "cell_type": "code",
   "execution_count": 59,
   "metadata": {},
   "outputs": [
    {
     "name": "stdout",
     "output_type": "stream",
     "text": [
      "p-значение:  2.71581407555702e-07\n",
      "Отвергаем нулевую гипотезу: разница статистически значима\n"
     ]
    }
   ],
   "source": [
    "# критический уровень статистической значимости\n",
    "alpha = 0.05  \n",
    "revenue_before = active_user_by_tariff['total_cost']\n",
    "revenue_after = active_user_by_tariff['best_tariff_cost']\n",
    "results = st.mannwhitneyu(revenue_before, revenue_after)\n",
    "print('p-значение: ', results.pvalue)\n",
    "\n",
    "if results.pvalue < alpha:\n",
    "    print('Отвергаем нулевую гипотезу: разница статистически значима')\n",
    "else:\n",
    "    print(\n",
    "        'Не получилось отвергнуть нулевую гипотезу, вывод о различии сделать нельзя'\n",
    "    ) "
   ]
  },
  {
   "cell_type": "code",
   "execution_count": 60,
   "metadata": {},
   "outputs": [
    {
     "data": {
      "text/plain": [
       "'Средний чек до смены тарифов пользователей 2632.04'"
      ]
     },
     "metadata": {},
     "output_type": "display_data"
    },
    {
     "data": {
      "text/plain": [
       "'Средний чек после смены тарифов пользователей на оптимальные 2189.81'"
      ]
     },
     "metadata": {},
     "output_type": "display_data"
    }
   ],
   "source": [
    "display(f'Средний чек до смены тарифов пользователей {active_user_by_tariff[\"total_cost\"].mean() :.2f}')\n",
    "display(f'Средний чек после смены тарифов пользователей на оптимальные \\\n",
    "{active_user_by_tariff[\"best_tariff_cost\"].mean() :.2f}')"
   ]
  },
  {
   "cell_type": "markdown",
   "metadata": {},
   "source": [
    "Разница между выручками до и после смены тарифов пользователей на оптимальные статистически значима, нулевая гипотеза была отвергнута. Перевод всех пользователей на оптимальные тарифы приведет к значимым потерям в выручке."
   ]
  },
  {
   "cell_type": "markdown",
   "metadata": {},
   "source": [
    "### Выводы по разделу\n",
    "- Цены услуг на тарифных планах A и B различаются;\n",
    "- разница между выручкой до и после смены всех тарифов пользователей на оптимальные статистически значима."
   ]
  },
  {
   "cell_type": "markdown",
   "metadata": {},
   "source": [
    "## Общий вывод"
   ]
  },
  {
   "cell_type": "markdown",
   "metadata": {},
   "source": [
    "Во время обзора данных были обнаружены пропуски в столбцах internal (1%), operator_id (15%). Пропуски в operator_id относятся к пропущенным звонкам, следует уделить этому внимание при сборе данных. Также во время предобрабтки были обнаружены аномалии с длительностью звонков. Стоит обратить внимание на пользователя с user_id 166582 и операторов, которые работали с этим пользователем [885876, 885890, 925922], и разобраться в причинах длительности разговоров более 24 часов в сутки.\n",
    "\n",
    "Данные для анализа были представлены за период с 2019-08-02 по 2019-11-28, количество клиентов увеличивалось с августа по конец октября, к ноябрю значения стабилизовались. Основные расчеты были проведены для пользователей, которые пользовались услугами в ноябре. Сформирована таблица active_user с тратами пользователей за месяц. Медианное значение трат для тарифа C примерно 1600, для тарифа B - 2400, для тарифа A – 4300, на всех тарифах присутствуют пользователи, которые платят сильно больше остальных. \n",
    "\n",
    "Самый популярный тариф C, им пользуется 52% пользователей, далее идет тариф B с 37% и тариф A с 11%. Тарифы B и C приносят большую часть выручки, каждый по 38%, тариф A приносит 24%. Во время работы был создан датафрейм active_user_by_tariff, с расчетами самых выгодных для пользователей тарифов. Было выяснено, что 47% пользователей переплачивают на текущем тарифе, наиболее выгодный тариф для пользователей – C. Eсли все пользователи перейдут на самый выгодный для них тариф,  разница в выручке до и после смены окажется статистически значима и составит более 16%, средняя оплата снизится с 2632 до 2190. Переход всех пользователей на оптимальные тарифы повысит их лояльность, но приведет к большим потерям в выручке, поэтому рекомендую предложить пользователям смену тарифа только в большую сторону, при таком раскладе потери составят чуть больше 1%."
   ]
  }
 ],
 "metadata": {
  "ExecuteTimeLog": [
   {
    "duration": 471,
    "start_time": "2024-05-20T14:06:17.454Z"
   },
   {
    "duration": 208,
    "start_time": "2024-05-20T14:21:48.316Z"
   },
   {
    "duration": 18,
    "start_time": "2024-05-20T14:22:41.199Z"
   },
   {
    "duration": 17,
    "start_time": "2024-05-20T14:26:01.635Z"
   },
   {
    "duration": 10,
    "start_time": "2024-05-20T14:26:43.809Z"
   },
   {
    "duration": 8,
    "start_time": "2024-05-20T14:26:52.534Z"
   },
   {
    "duration": 29,
    "start_time": "2024-05-20T14:38:11.112Z"
   },
   {
    "duration": 867,
    "start_time": "2024-05-20T14:38:48.717Z"
   },
   {
    "duration": 21,
    "start_time": "2024-05-20T14:39:07.763Z"
   },
   {
    "duration": 15,
    "start_time": "2024-05-20T14:44:37.561Z"
   },
   {
    "duration": 15,
    "start_time": "2024-05-20T14:47:14.454Z"
   },
   {
    "duration": 15,
    "start_time": "2024-05-20T14:47:29.228Z"
   },
   {
    "duration": 20,
    "start_time": "2024-05-20T14:47:45.493Z"
   },
   {
    "duration": 16,
    "start_time": "2024-05-20T14:49:11.308Z"
   },
   {
    "duration": 18,
    "start_time": "2024-05-20T14:49:24.211Z"
   },
   {
    "duration": 14,
    "start_time": "2024-05-20T14:50:04.792Z"
   },
   {
    "duration": 14,
    "start_time": "2024-05-20T14:50:27.927Z"
   },
   {
    "duration": 49,
    "start_time": "2024-05-20T14:57:56.728Z"
   },
   {
    "duration": 7,
    "start_time": "2024-05-20T14:58:01.247Z"
   },
   {
    "duration": 44,
    "start_time": "2024-05-20T14:59:53.283Z"
   },
   {
    "duration": 44,
    "start_time": "2024-05-20T15:00:07.733Z"
   },
   {
    "duration": 48,
    "start_time": "2024-05-20T15:00:33.723Z"
   },
   {
    "duration": 46,
    "start_time": "2024-05-20T15:00:46.273Z"
   },
   {
    "duration": 74,
    "start_time": "2024-05-20T15:00:51.493Z"
   },
   {
    "duration": 46,
    "start_time": "2024-05-20T15:01:39.075Z"
   },
   {
    "duration": 58,
    "start_time": "2024-05-20T15:01:54.128Z"
   },
   {
    "duration": 5,
    "start_time": "2024-05-20T15:02:41.547Z"
   },
   {
    "duration": 5,
    "start_time": "2024-05-20T15:03:07.520Z"
   },
   {
    "duration": 13,
    "start_time": "2024-05-20T15:09:20.075Z"
   },
   {
    "duration": 15,
    "start_time": "2024-05-20T15:09:32.425Z"
   },
   {
    "duration": 5144,
    "start_time": "2024-05-20T15:10:52.644Z"
   },
   {
    "duration": 1309,
    "start_time": "2024-05-20T15:11:49.165Z"
   },
   {
    "duration": 103,
    "start_time": "2024-05-20T15:11:50.476Z"
   },
   {
    "duration": 19,
    "start_time": "2024-05-20T15:11:50.581Z"
   },
   {
    "duration": 15,
    "start_time": "2024-05-20T15:11:50.601Z"
   },
   {
    "duration": 38,
    "start_time": "2024-05-20T15:11:50.618Z"
   },
   {
    "duration": 12,
    "start_time": "2024-05-20T15:11:50.657Z"
   },
   {
    "duration": 29,
    "start_time": "2024-05-20T15:11:50.670Z"
   },
   {
    "duration": 23,
    "start_time": "2024-05-20T15:11:50.700Z"
   },
   {
    "duration": 14,
    "start_time": "2024-05-20T15:11:50.725Z"
   },
   {
    "duration": 22,
    "start_time": "2024-05-20T15:11:50.740Z"
   },
   {
    "duration": 25,
    "start_time": "2024-05-20T15:11:50.763Z"
   },
   {
    "duration": 53,
    "start_time": "2024-05-20T15:11:50.790Z"
   },
   {
    "duration": 10,
    "start_time": "2024-05-20T15:11:59.321Z"
   },
   {
    "duration": 129,
    "start_time": "2024-05-20T15:13:51.319Z"
   },
   {
    "duration": 1167,
    "start_time": "2024-05-20T15:14:01.718Z"
   },
   {
    "duration": 36,
    "start_time": "2024-05-20T15:14:20.137Z"
   },
   {
    "duration": 30,
    "start_time": "2024-05-20T15:19:12.876Z"
   },
   {
    "duration": 27,
    "start_time": "2024-05-20T15:20:47.720Z"
   },
   {
    "duration": 26,
    "start_time": "2024-05-20T15:22:01.385Z"
   },
   {
    "duration": 23,
    "start_time": "2024-05-20T15:22:13.991Z"
   },
   {
    "duration": 876,
    "start_time": "2024-05-20T15:24:06.254Z"
   },
   {
    "duration": 9,
    "start_time": "2024-05-20T15:24:26.141Z"
   },
   {
    "duration": 24,
    "start_time": "2024-05-20T15:25:23.102Z"
   },
   {
    "duration": 27,
    "start_time": "2024-05-20T15:26:28.882Z"
   },
   {
    "duration": 12,
    "start_time": "2024-05-20T15:28:12.097Z"
   },
   {
    "duration": 9,
    "start_time": "2024-05-20T15:29:47.947Z"
   },
   {
    "duration": 11,
    "start_time": "2024-05-20T15:31:44.872Z"
   },
   {
    "duration": 48,
    "start_time": "2024-05-20T18:48:45.127Z"
   },
   {
    "duration": 1264,
    "start_time": "2024-05-20T18:48:49.137Z"
   },
   {
    "duration": 204,
    "start_time": "2024-05-20T18:48:50.403Z"
   },
   {
    "duration": 16,
    "start_time": "2024-05-20T18:48:50.609Z"
   },
   {
    "duration": 15,
    "start_time": "2024-05-20T18:48:50.626Z"
   },
   {
    "duration": 21,
    "start_time": "2024-05-20T18:48:50.643Z"
   },
   {
    "duration": 8,
    "start_time": "2024-05-20T18:48:50.666Z"
   },
   {
    "duration": 9,
    "start_time": "2024-05-20T18:48:50.675Z"
   },
   {
    "duration": 12,
    "start_time": "2024-05-20T18:48:50.711Z"
   },
   {
    "duration": 30,
    "start_time": "2024-05-20T18:48:50.724Z"
   },
   {
    "duration": 90,
    "start_time": "2024-05-20T18:48:50.756Z"
   },
   {
    "duration": 0,
    "start_time": "2024-05-20T18:48:50.848Z"
   },
   {
    "duration": 0,
    "start_time": "2024-05-20T18:48:50.849Z"
   },
   {
    "duration": 0,
    "start_time": "2024-05-20T18:48:50.849Z"
   },
   {
    "duration": 0,
    "start_time": "2024-05-20T18:48:50.850Z"
   },
   {
    "duration": 0,
    "start_time": "2024-05-20T18:48:50.851Z"
   },
   {
    "duration": 0,
    "start_time": "2024-05-20T18:48:50.852Z"
   },
   {
    "duration": 8,
    "start_time": "2024-05-20T18:55:53.322Z"
   },
   {
    "duration": 8,
    "start_time": "2024-05-20T18:56:16.867Z"
   },
   {
    "duration": 15,
    "start_time": "2024-05-20T18:58:09.542Z"
   },
   {
    "duration": 10,
    "start_time": "2024-05-20T18:58:15.886Z"
   },
   {
    "duration": 12,
    "start_time": "2024-05-20T18:58:22.654Z"
   },
   {
    "duration": 9,
    "start_time": "2024-05-20T19:00:45.357Z"
   },
   {
    "duration": 9,
    "start_time": "2024-05-20T19:01:38.186Z"
   },
   {
    "duration": 15,
    "start_time": "2024-05-20T19:03:03.151Z"
   },
   {
    "duration": 6,
    "start_time": "2024-05-20T19:04:41.990Z"
   },
   {
    "duration": 4,
    "start_time": "2024-05-20T19:07:56.247Z"
   },
   {
    "duration": 67,
    "start_time": "2024-05-20T19:12:30.449Z"
   },
   {
    "duration": 7,
    "start_time": "2024-05-20T19:12:36.548Z"
   },
   {
    "duration": 5,
    "start_time": "2024-05-20T19:12:51.704Z"
   },
   {
    "duration": 5,
    "start_time": "2024-05-20T19:12:54.137Z"
   },
   {
    "duration": 17,
    "start_time": "2024-05-20T19:13:55.294Z"
   },
   {
    "duration": 23,
    "start_time": "2024-05-20T19:18:59.782Z"
   },
   {
    "duration": 12,
    "start_time": "2024-05-20T19:19:12.663Z"
   },
   {
    "duration": 13,
    "start_time": "2024-05-20T19:19:37.189Z"
   },
   {
    "duration": 23,
    "start_time": "2024-05-20T19:20:18.918Z"
   },
   {
    "duration": 11,
    "start_time": "2024-05-20T19:20:35.264Z"
   },
   {
    "duration": 11,
    "start_time": "2024-05-20T19:21:22.889Z"
   },
   {
    "duration": 10,
    "start_time": "2024-05-20T19:24:29.564Z"
   },
   {
    "duration": 25,
    "start_time": "2024-05-20T19:26:01.839Z"
   },
   {
    "duration": 10,
    "start_time": "2024-05-20T19:26:04.206Z"
   },
   {
    "duration": 22,
    "start_time": "2024-05-20T19:26:09.193Z"
   },
   {
    "duration": 24,
    "start_time": "2024-05-20T19:26:11.374Z"
   },
   {
    "duration": 20,
    "start_time": "2024-05-20T19:28:37.235Z"
   },
   {
    "duration": 19,
    "start_time": "2024-05-20T19:28:59.213Z"
   },
   {
    "duration": 8,
    "start_time": "2024-05-20T19:31:46.240Z"
   },
   {
    "duration": 40,
    "start_time": "2024-05-20T19:38:37.863Z"
   },
   {
    "duration": 6,
    "start_time": "2024-05-20T19:43:10.506Z"
   },
   {
    "duration": 4,
    "start_time": "2024-05-20T19:44:40.294Z"
   },
   {
    "duration": 5,
    "start_time": "2024-05-20T19:46:08.930Z"
   },
   {
    "duration": 4,
    "start_time": "2024-05-20T19:48:15.464Z"
   },
   {
    "duration": 9,
    "start_time": "2024-05-20T19:50:09.075Z"
   },
   {
    "duration": 1331,
    "start_time": "2024-05-22T14:21:45.599Z"
   },
   {
    "duration": 412,
    "start_time": "2024-05-22T14:21:46.933Z"
   },
   {
    "duration": 20,
    "start_time": "2024-05-22T14:21:47.347Z"
   },
   {
    "duration": 56,
    "start_time": "2024-05-22T14:21:47.369Z"
   },
   {
    "duration": 30,
    "start_time": "2024-05-22T14:21:47.427Z"
   },
   {
    "duration": 10,
    "start_time": "2024-05-22T14:21:47.459Z"
   },
   {
    "duration": 29,
    "start_time": "2024-05-22T14:21:47.471Z"
   },
   {
    "duration": 26,
    "start_time": "2024-05-22T14:21:47.502Z"
   },
   {
    "duration": 31,
    "start_time": "2024-05-22T14:21:47.530Z"
   },
   {
    "duration": 38,
    "start_time": "2024-05-22T14:21:47.562Z"
   },
   {
    "duration": 14,
    "start_time": "2024-05-22T14:21:47.602Z"
   },
   {
    "duration": 13,
    "start_time": "2024-05-22T14:21:47.617Z"
   },
   {
    "duration": 19,
    "start_time": "2024-05-22T14:21:47.632Z"
   },
   {
    "duration": 33,
    "start_time": "2024-05-22T14:21:47.653Z"
   },
   {
    "duration": 12,
    "start_time": "2024-05-22T14:21:47.687Z"
   },
   {
    "duration": 31,
    "start_time": "2024-05-22T14:21:47.700Z"
   },
   {
    "duration": 33,
    "start_time": "2024-05-22T14:21:47.733Z"
   },
   {
    "duration": 6,
    "start_time": "2024-05-22T14:21:47.768Z"
   },
   {
    "duration": 7,
    "start_time": "2024-05-22T14:21:47.775Z"
   },
   {
    "duration": 24,
    "start_time": "2024-05-22T14:21:47.784Z"
   },
   {
    "duration": 22,
    "start_time": "2024-05-22T14:21:47.809Z"
   },
   {
    "duration": 15,
    "start_time": "2024-05-22T14:21:47.834Z"
   },
   {
    "duration": 10,
    "start_time": "2024-05-22T14:21:47.851Z"
   },
   {
    "duration": 161,
    "start_time": "2024-05-22T14:24:45.453Z"
   },
   {
    "duration": 121,
    "start_time": "2024-05-22T14:25:52.529Z"
   },
   {
    "duration": 174,
    "start_time": "2024-05-22T14:26:36.639Z"
   },
   {
    "duration": 182,
    "start_time": "2024-05-22T14:26:50.125Z"
   },
   {
    "duration": 54,
    "start_time": "2024-05-23T10:35:12.528Z"
   },
   {
    "duration": 1455,
    "start_time": "2024-05-23T10:35:15.643Z"
   },
   {
    "duration": 219,
    "start_time": "2024-05-23T10:35:17.103Z"
   },
   {
    "duration": 20,
    "start_time": "2024-05-23T10:35:17.324Z"
   },
   {
    "duration": 25,
    "start_time": "2024-05-23T10:35:17.346Z"
   },
   {
    "duration": 26,
    "start_time": "2024-05-23T10:35:17.373Z"
   },
   {
    "duration": 11,
    "start_time": "2024-05-23T10:35:17.400Z"
   },
   {
    "duration": 27,
    "start_time": "2024-05-23T10:35:17.412Z"
   },
   {
    "duration": 22,
    "start_time": "2024-05-23T10:35:17.441Z"
   },
   {
    "duration": 16,
    "start_time": "2024-05-23T10:35:17.465Z"
   },
   {
    "duration": 20,
    "start_time": "2024-05-23T10:35:17.483Z"
   },
   {
    "duration": 34,
    "start_time": "2024-05-23T10:35:17.505Z"
   },
   {
    "duration": 29,
    "start_time": "2024-05-23T10:35:17.542Z"
   },
   {
    "duration": 26,
    "start_time": "2024-05-23T10:35:17.572Z"
   },
   {
    "duration": 5,
    "start_time": "2024-05-23T10:35:17.601Z"
   },
   {
    "duration": 6,
    "start_time": "2024-05-23T10:35:17.630Z"
   },
   {
    "duration": 30,
    "start_time": "2024-05-23T10:35:17.638Z"
   },
   {
    "duration": 12,
    "start_time": "2024-05-23T10:35:17.670Z"
   },
   {
    "duration": 54,
    "start_time": "2024-05-23T10:35:17.684Z"
   },
   {
    "duration": 6,
    "start_time": "2024-05-23T10:35:17.740Z"
   },
   {
    "duration": 8,
    "start_time": "2024-05-23T10:35:17.747Z"
   },
   {
    "duration": 9,
    "start_time": "2024-05-23T10:35:17.757Z"
   },
   {
    "duration": 9,
    "start_time": "2024-05-23T10:36:33.853Z"
   },
   {
    "duration": 87,
    "start_time": "2024-05-23T10:38:05.461Z"
   },
   {
    "duration": 11,
    "start_time": "2024-05-23T10:43:20.011Z"
   },
   {
    "duration": 4,
    "start_time": "2024-05-23T10:43:43.327Z"
   },
   {
    "duration": 111,
    "start_time": "2024-05-23T10:43:43.333Z"
   },
   {
    "duration": 19,
    "start_time": "2024-05-23T10:43:43.446Z"
   },
   {
    "duration": 19,
    "start_time": "2024-05-23T10:43:43.467Z"
   },
   {
    "duration": 24,
    "start_time": "2024-05-23T10:43:43.489Z"
   },
   {
    "duration": 17,
    "start_time": "2024-05-23T10:43:43.515Z"
   },
   {
    "duration": 21,
    "start_time": "2024-05-23T10:43:43.534Z"
   },
   {
    "duration": 18,
    "start_time": "2024-05-23T10:43:43.556Z"
   },
   {
    "duration": 15,
    "start_time": "2024-05-23T10:43:43.576Z"
   },
   {
    "duration": 23,
    "start_time": "2024-05-23T10:43:43.593Z"
   },
   {
    "duration": 20,
    "start_time": "2024-05-23T10:43:43.618Z"
   },
   {
    "duration": 40,
    "start_time": "2024-05-23T10:43:43.639Z"
   },
   {
    "duration": 22,
    "start_time": "2024-05-23T10:43:43.681Z"
   },
   {
    "duration": 22,
    "start_time": "2024-05-23T10:43:43.707Z"
   },
   {
    "duration": 6,
    "start_time": "2024-05-23T10:43:43.731Z"
   },
   {
    "duration": 33,
    "start_time": "2024-05-23T10:43:43.738Z"
   },
   {
    "duration": 11,
    "start_time": "2024-05-23T10:43:43.773Z"
   },
   {
    "duration": 14,
    "start_time": "2024-05-23T10:43:43.786Z"
   },
   {
    "duration": 0,
    "start_time": "2024-05-23T10:43:43.802Z"
   },
   {
    "duration": 0,
    "start_time": "2024-05-23T10:43:43.803Z"
   },
   {
    "duration": 0,
    "start_time": "2024-05-23T10:43:43.804Z"
   },
   {
    "duration": 44,
    "start_time": "2024-05-23T10:44:07.108Z"
   },
   {
    "duration": 169,
    "start_time": "2024-05-23T10:52:02.019Z"
   },
   {
    "duration": 62,
    "start_time": "2024-05-23T10:56:43.356Z"
   },
   {
    "duration": 34,
    "start_time": "2024-05-23T10:56:53.102Z"
   },
   {
    "duration": 23,
    "start_time": "2024-05-23T10:57:26.809Z"
   },
   {
    "duration": 24,
    "start_time": "2024-05-23T10:57:36.627Z"
   },
   {
    "duration": 11,
    "start_time": "2024-05-23T10:58:05.845Z"
   },
   {
    "duration": 8,
    "start_time": "2024-05-23T10:58:31.069Z"
   },
   {
    "duration": 27,
    "start_time": "2024-05-23T11:00:23.970Z"
   },
   {
    "duration": 21,
    "start_time": "2024-05-23T11:00:34.333Z"
   },
   {
    "duration": 16,
    "start_time": "2024-05-23T11:04:59.600Z"
   },
   {
    "duration": 5,
    "start_time": "2024-05-23T11:06:59.737Z"
   },
   {
    "duration": 4,
    "start_time": "2024-05-23T11:13:28.130Z"
   },
   {
    "duration": 109,
    "start_time": "2024-05-23T11:13:28.136Z"
   },
   {
    "duration": 21,
    "start_time": "2024-05-23T11:13:28.247Z"
   },
   {
    "duration": 20,
    "start_time": "2024-05-23T11:13:28.271Z"
   },
   {
    "duration": 40,
    "start_time": "2024-05-23T11:13:28.294Z"
   },
   {
    "duration": 15,
    "start_time": "2024-05-23T11:13:28.337Z"
   },
   {
    "duration": 13,
    "start_time": "2024-05-23T11:13:28.355Z"
   },
   {
    "duration": 29,
    "start_time": "2024-05-23T11:13:28.370Z"
   },
   {
    "duration": 36,
    "start_time": "2024-05-23T11:13:28.401Z"
   },
   {
    "duration": 16,
    "start_time": "2024-05-23T11:13:28.439Z"
   },
   {
    "duration": 28,
    "start_time": "2024-05-23T11:13:28.457Z"
   },
   {
    "duration": 27,
    "start_time": "2024-05-23T11:13:28.487Z"
   },
   {
    "duration": 36,
    "start_time": "2024-05-23T11:13:28.516Z"
   },
   {
    "duration": 7,
    "start_time": "2024-05-23T11:13:28.555Z"
   },
   {
    "duration": 6,
    "start_time": "2024-05-23T11:13:28.564Z"
   },
   {
    "duration": 53,
    "start_time": "2024-05-23T11:13:28.572Z"
   },
   {
    "duration": 12,
    "start_time": "2024-05-23T11:13:28.626Z"
   },
   {
    "duration": 26,
    "start_time": "2024-05-23T11:13:28.640Z"
   },
   {
    "duration": 22,
    "start_time": "2024-05-23T11:13:28.668Z"
   },
   {
    "duration": 6,
    "start_time": "2024-05-23T11:13:28.692Z"
   },
   {
    "duration": 5,
    "start_time": "2024-05-23T11:13:28.700Z"
   },
   {
    "duration": 23,
    "start_time": "2024-05-23T11:13:28.707Z"
   },
   {
    "duration": 16,
    "start_time": "2024-05-23T11:13:59.403Z"
   },
   {
    "duration": 60,
    "start_time": "2024-05-23T11:24:01.222Z"
   },
   {
    "duration": 14,
    "start_time": "2024-05-23T11:24:16.749Z"
   },
   {
    "duration": 11,
    "start_time": "2024-05-23T11:24:46.787Z"
   },
   {
    "duration": 10,
    "start_time": "2024-05-23T11:24:51.461Z"
   },
   {
    "duration": 10,
    "start_time": "2024-05-23T11:24:58.140Z"
   },
   {
    "duration": 15,
    "start_time": "2024-05-23T11:25:15.838Z"
   },
   {
    "duration": 70,
    "start_time": "2024-05-23T11:25:58.856Z"
   },
   {
    "duration": 67,
    "start_time": "2024-05-23T11:27:18.319Z"
   },
   {
    "duration": 59,
    "start_time": "2024-05-23T11:28:17.861Z"
   },
   {
    "duration": 66,
    "start_time": "2024-05-23T11:28:24.591Z"
   },
   {
    "duration": 72,
    "start_time": "2024-05-23T11:30:32.649Z"
   },
   {
    "duration": 57,
    "start_time": "2024-05-23T11:31:36.833Z"
   },
   {
    "duration": 69,
    "start_time": "2024-05-23T11:31:48.117Z"
   },
   {
    "duration": 57,
    "start_time": "2024-05-23T11:36:24.458Z"
   },
   {
    "duration": 85,
    "start_time": "2024-05-23T11:36:31.752Z"
   },
   {
    "duration": 61,
    "start_time": "2024-05-23T11:36:36.148Z"
   },
   {
    "duration": 68,
    "start_time": "2024-05-23T11:36:48.671Z"
   },
   {
    "duration": 50,
    "start_time": "2024-05-23T11:38:18.076Z"
   },
   {
    "duration": 17,
    "start_time": "2024-05-23T11:41:12.923Z"
   },
   {
    "duration": 874,
    "start_time": "2024-05-23T11:41:53.369Z"
   },
   {
    "duration": 33,
    "start_time": "2024-05-23T11:42:01.809Z"
   },
   {
    "duration": 13,
    "start_time": "2024-05-23T11:42:51.844Z"
   },
   {
    "duration": 14,
    "start_time": "2024-05-23T11:43:17.098Z"
   },
   {
    "duration": 7,
    "start_time": "2024-05-23T11:43:42.063Z"
   },
   {
    "duration": 7,
    "start_time": "2024-05-23T11:44:08.029Z"
   },
   {
    "duration": 6,
    "start_time": "2024-05-23T11:44:28.893Z"
   },
   {
    "duration": 61,
    "start_time": "2024-05-23T11:58:31.465Z"
   },
   {
    "duration": 72,
    "start_time": "2024-05-23T11:58:41.802Z"
   },
   {
    "duration": 66,
    "start_time": "2024-05-23T11:58:51.672Z"
   },
   {
    "duration": 89,
    "start_time": "2024-05-23T11:59:05.087Z"
   },
   {
    "duration": 57,
    "start_time": "2024-05-23T11:59:19.282Z"
   },
   {
    "duration": 62,
    "start_time": "2024-05-23T11:59:27.251Z"
   },
   {
    "duration": 59,
    "start_time": "2024-05-23T12:00:43.789Z"
   },
   {
    "duration": 63,
    "start_time": "2024-05-23T12:01:08.003Z"
   },
   {
    "duration": 21,
    "start_time": "2024-05-23T12:01:27.145Z"
   },
   {
    "duration": 21,
    "start_time": "2024-05-23T12:01:49.722Z"
   },
   {
    "duration": 19,
    "start_time": "2024-05-23T12:02:00.825Z"
   },
   {
    "duration": 20,
    "start_time": "2024-05-23T12:02:12.165Z"
   },
   {
    "duration": 24,
    "start_time": "2024-05-23T12:08:34.825Z"
   },
   {
    "duration": 19,
    "start_time": "2024-05-23T12:08:49.760Z"
   },
   {
    "duration": 24,
    "start_time": "2024-05-23T12:10:45.628Z"
   },
   {
    "duration": 21,
    "start_time": "2024-05-23T12:11:29.373Z"
   },
   {
    "duration": 20,
    "start_time": "2024-05-23T12:11:34.437Z"
   },
   {
    "duration": 21,
    "start_time": "2024-05-23T12:11:39.482Z"
   },
   {
    "duration": 20,
    "start_time": "2024-05-23T12:12:47.870Z"
   },
   {
    "duration": 20,
    "start_time": "2024-05-23T12:12:53.094Z"
   },
   {
    "duration": 20,
    "start_time": "2024-05-23T12:13:00.026Z"
   },
   {
    "duration": 20,
    "start_time": "2024-05-23T12:13:04.604Z"
   },
   {
    "duration": 26,
    "start_time": "2024-05-23T12:13:13.357Z"
   },
   {
    "duration": 57,
    "start_time": "2024-05-23T12:15:22.787Z"
   },
   {
    "duration": 42,
    "start_time": "2024-05-23T12:15:29.990Z"
   },
   {
    "duration": 41,
    "start_time": "2024-05-23T12:17:33.415Z"
   },
   {
    "duration": 40,
    "start_time": "2024-05-23T12:18:09.241Z"
   },
   {
    "duration": 51,
    "start_time": "2024-05-23T12:18:34.258Z"
   },
   {
    "duration": 4,
    "start_time": "2024-05-23T12:22:11.549Z"
   },
   {
    "duration": 6,
    "start_time": "2024-05-23T12:22:15.589Z"
   },
   {
    "duration": 5,
    "start_time": "2024-05-23T12:22:41.687Z"
   },
   {
    "duration": 11,
    "start_time": "2024-05-23T12:27:33.404Z"
   },
   {
    "duration": 28,
    "start_time": "2024-05-23T12:27:45.263Z"
   },
   {
    "duration": 28,
    "start_time": "2024-05-23T12:27:56.675Z"
   },
   {
    "duration": 28,
    "start_time": "2024-05-23T12:28:05.361Z"
   },
   {
    "duration": 27,
    "start_time": "2024-05-23T12:28:44.430Z"
   },
   {
    "duration": 27,
    "start_time": "2024-05-23T12:30:01.684Z"
   },
   {
    "duration": 15,
    "start_time": "2024-05-23T12:31:12.972Z"
   },
   {
    "duration": 13,
    "start_time": "2024-05-23T12:32:31.393Z"
   },
   {
    "duration": 7,
    "start_time": "2024-05-23T12:32:39.074Z"
   },
   {
    "duration": 8,
    "start_time": "2024-05-23T12:33:00.595Z"
   },
   {
    "duration": 7,
    "start_time": "2024-05-23T12:33:38.466Z"
   },
   {
    "duration": 10,
    "start_time": "2024-05-23T12:34:05.876Z"
   },
   {
    "duration": 24,
    "start_time": "2024-05-23T12:34:18.028Z"
   },
   {
    "duration": 17,
    "start_time": "2024-05-23T12:34:39.523Z"
   },
   {
    "duration": 13,
    "start_time": "2024-05-23T12:34:52.417Z"
   },
   {
    "duration": 18,
    "start_time": "2024-05-23T14:01:59.276Z"
   },
   {
    "duration": 6,
    "start_time": "2024-05-23T14:02:14.146Z"
   },
   {
    "duration": 9,
    "start_time": "2024-05-23T14:02:21.928Z"
   },
   {
    "duration": 16,
    "start_time": "2024-05-23T14:02:56.831Z"
   },
   {
    "duration": 7,
    "start_time": "2024-05-23T14:03:03.789Z"
   },
   {
    "duration": 7,
    "start_time": "2024-05-23T14:03:35.767Z"
   },
   {
    "duration": 19,
    "start_time": "2024-05-23T14:04:19.186Z"
   },
   {
    "duration": 18,
    "start_time": "2024-05-23T14:04:35.405Z"
   },
   {
    "duration": 52,
    "start_time": "2024-05-23T14:07:43.883Z"
   },
   {
    "duration": 7,
    "start_time": "2024-05-23T14:20:20.489Z"
   },
   {
    "duration": 8,
    "start_time": "2024-05-23T14:21:03.692Z"
   },
   {
    "duration": 88,
    "start_time": "2024-05-23T14:26:41.470Z"
   },
   {
    "duration": 12,
    "start_time": "2024-05-23T14:26:48.952Z"
   },
   {
    "duration": 6,
    "start_time": "2024-05-23T14:26:53.955Z"
   },
   {
    "duration": 16,
    "start_time": "2024-05-23T14:26:54.444Z"
   },
   {
    "duration": 8,
    "start_time": "2024-05-23T14:28:30.743Z"
   },
   {
    "duration": 18,
    "start_time": "2024-05-23T14:29:30.015Z"
   },
   {
    "duration": 9,
    "start_time": "2024-05-23T14:30:41.084Z"
   },
   {
    "duration": 9,
    "start_time": "2024-05-23T14:31:02.677Z"
   },
   {
    "duration": 79,
    "start_time": "2024-05-23T14:31:14.565Z"
   },
   {
    "duration": 6,
    "start_time": "2024-05-23T14:31:27.157Z"
   },
   {
    "duration": 4,
    "start_time": "2024-05-23T14:31:39.029Z"
   },
   {
    "duration": 106,
    "start_time": "2024-05-23T14:31:39.035Z"
   },
   {
    "duration": 19,
    "start_time": "2024-05-23T14:31:39.143Z"
   },
   {
    "duration": 12,
    "start_time": "2024-05-23T14:31:39.163Z"
   },
   {
    "duration": 34,
    "start_time": "2024-05-23T14:31:39.177Z"
   },
   {
    "duration": 10,
    "start_time": "2024-05-23T14:31:39.213Z"
   },
   {
    "duration": 8,
    "start_time": "2024-05-23T14:31:39.229Z"
   },
   {
    "duration": 17,
    "start_time": "2024-05-23T14:31:39.238Z"
   },
   {
    "duration": 16,
    "start_time": "2024-05-23T14:31:39.256Z"
   },
   {
    "duration": 14,
    "start_time": "2024-05-23T14:31:39.273Z"
   },
   {
    "duration": 9,
    "start_time": "2024-05-23T14:31:39.289Z"
   },
   {
    "duration": 54,
    "start_time": "2024-05-23T14:31:39.299Z"
   },
   {
    "duration": 25,
    "start_time": "2024-05-23T14:31:39.354Z"
   },
   {
    "duration": 6,
    "start_time": "2024-05-23T14:31:39.382Z"
   },
   {
    "duration": 27,
    "start_time": "2024-05-23T14:31:39.389Z"
   },
   {
    "duration": 48,
    "start_time": "2024-05-23T14:31:39.418Z"
   },
   {
    "duration": 13,
    "start_time": "2024-05-23T14:31:39.468Z"
   },
   {
    "duration": 68,
    "start_time": "2024-05-23T14:31:39.483Z"
   },
   {
    "duration": 7,
    "start_time": "2024-05-23T14:31:39.552Z"
   },
   {
    "duration": 21,
    "start_time": "2024-05-23T14:31:39.561Z"
   },
   {
    "duration": 18,
    "start_time": "2024-05-23T14:31:39.583Z"
   },
   {
    "duration": 13,
    "start_time": "2024-05-23T14:31:39.603Z"
   },
   {
    "duration": 14,
    "start_time": "2024-05-23T14:31:39.617Z"
   },
   {
    "duration": 10,
    "start_time": "2024-05-23T14:31:39.632Z"
   },
   {
    "duration": 13,
    "start_time": "2024-05-23T14:31:39.644Z"
   },
   {
    "duration": 16,
    "start_time": "2024-05-23T14:32:10.394Z"
   },
   {
    "duration": 7,
    "start_time": "2024-05-23T14:32:29.191Z"
   },
   {
    "duration": 7,
    "start_time": "2024-05-23T14:32:36.421Z"
   },
   {
    "duration": 6,
    "start_time": "2024-05-23T14:32:58.696Z"
   },
   {
    "duration": 7,
    "start_time": "2024-05-23T14:33:11.365Z"
   },
   {
    "duration": 8,
    "start_time": "2024-05-23T14:33:25.616Z"
   },
   {
    "duration": 9,
    "start_time": "2024-05-23T14:34:39.403Z"
   },
   {
    "duration": 10,
    "start_time": "2024-05-23T14:35:07.874Z"
   },
   {
    "duration": 3,
    "start_time": "2024-05-23T14:35:18.559Z"
   },
   {
    "duration": 112,
    "start_time": "2024-05-23T14:35:18.564Z"
   },
   {
    "duration": 19,
    "start_time": "2024-05-23T14:35:18.678Z"
   },
   {
    "duration": 12,
    "start_time": "2024-05-23T14:35:18.699Z"
   },
   {
    "duration": 37,
    "start_time": "2024-05-23T14:35:18.713Z"
   },
   {
    "duration": 10,
    "start_time": "2024-05-23T14:35:18.753Z"
   },
   {
    "duration": 30,
    "start_time": "2024-05-23T14:35:18.765Z"
   },
   {
    "duration": 45,
    "start_time": "2024-05-23T14:35:18.797Z"
   },
   {
    "duration": 34,
    "start_time": "2024-05-23T14:35:18.844Z"
   },
   {
    "duration": 35,
    "start_time": "2024-05-23T14:35:18.880Z"
   },
   {
    "duration": 36,
    "start_time": "2024-05-23T14:35:18.917Z"
   },
   {
    "duration": 46,
    "start_time": "2024-05-23T14:35:18.955Z"
   },
   {
    "duration": 23,
    "start_time": "2024-05-23T14:35:19.003Z"
   },
   {
    "duration": 6,
    "start_time": "2024-05-23T14:35:19.029Z"
   },
   {
    "duration": 29,
    "start_time": "2024-05-23T14:35:19.037Z"
   },
   {
    "duration": 44,
    "start_time": "2024-05-23T14:35:19.068Z"
   },
   {
    "duration": 12,
    "start_time": "2024-05-23T14:35:19.114Z"
   },
   {
    "duration": 109,
    "start_time": "2024-05-23T14:35:19.127Z"
   },
   {
    "duration": 8,
    "start_time": "2024-05-23T14:35:19.238Z"
   },
   {
    "duration": 12,
    "start_time": "2024-05-23T14:35:19.247Z"
   },
   {
    "duration": 12,
    "start_time": "2024-05-23T14:35:19.261Z"
   },
   {
    "duration": 12,
    "start_time": "2024-05-23T14:35:19.274Z"
   },
   {
    "duration": 9,
    "start_time": "2024-05-23T14:35:19.287Z"
   },
   {
    "duration": 27,
    "start_time": "2024-05-23T14:35:19.298Z"
   },
   {
    "duration": 8,
    "start_time": "2024-05-23T14:35:48.594Z"
   },
   {
    "duration": 8,
    "start_time": "2024-05-23T14:35:55.569Z"
   },
   {
    "duration": 9,
    "start_time": "2024-05-23T14:36:03.318Z"
   },
   {
    "duration": 9,
    "start_time": "2024-05-23T14:38:28.312Z"
   },
   {
    "duration": 6,
    "start_time": "2024-05-23T14:39:06.674Z"
   },
   {
    "duration": 9,
    "start_time": "2024-05-23T14:39:27.457Z"
   },
   {
    "duration": 7,
    "start_time": "2024-05-23T14:39:32.028Z"
   },
   {
    "duration": 3,
    "start_time": "2024-05-23T14:39:33.888Z"
   },
   {
    "duration": 117,
    "start_time": "2024-05-23T14:39:33.892Z"
   },
   {
    "duration": 20,
    "start_time": "2024-05-23T14:39:34.010Z"
   },
   {
    "duration": 12,
    "start_time": "2024-05-23T14:39:34.032Z"
   },
   {
    "duration": 27,
    "start_time": "2024-05-23T14:39:34.046Z"
   },
   {
    "duration": 10,
    "start_time": "2024-05-23T14:39:34.074Z"
   },
   {
    "duration": 10,
    "start_time": "2024-05-23T14:39:34.086Z"
   },
   {
    "duration": 41,
    "start_time": "2024-05-23T14:39:34.097Z"
   },
   {
    "duration": 16,
    "start_time": "2024-05-23T14:39:34.141Z"
   },
   {
    "duration": 13,
    "start_time": "2024-05-23T14:39:34.159Z"
   },
   {
    "duration": 7,
    "start_time": "2024-05-23T14:39:34.175Z"
   },
   {
    "duration": 56,
    "start_time": "2024-05-23T14:39:34.184Z"
   },
   {
    "duration": 21,
    "start_time": "2024-05-23T14:39:34.242Z"
   },
   {
    "duration": 4,
    "start_time": "2024-05-23T14:39:34.267Z"
   },
   {
    "duration": 15,
    "start_time": "2024-05-23T14:39:34.273Z"
   },
   {
    "duration": 48,
    "start_time": "2024-05-23T14:39:34.290Z"
   },
   {
    "duration": 12,
    "start_time": "2024-05-23T14:39:34.339Z"
   },
   {
    "duration": 67,
    "start_time": "2024-05-23T14:39:34.352Z"
   },
   {
    "duration": 14,
    "start_time": "2024-05-23T14:39:34.420Z"
   },
   {
    "duration": 9,
    "start_time": "2024-05-23T14:39:34.435Z"
   },
   {
    "duration": 10,
    "start_time": "2024-05-23T14:39:34.446Z"
   },
   {
    "duration": 6,
    "start_time": "2024-05-23T14:39:34.458Z"
   },
   {
    "duration": 6,
    "start_time": "2024-05-23T14:39:34.465Z"
   },
   {
    "duration": 7,
    "start_time": "2024-05-23T14:39:34.472Z"
   },
   {
    "duration": 8,
    "start_time": "2024-05-23T14:39:34.480Z"
   },
   {
    "duration": 9,
    "start_time": "2024-05-23T14:39:58.926Z"
   },
   {
    "duration": 23,
    "start_time": "2024-05-23T14:40:27.204Z"
   },
   {
    "duration": 1330,
    "start_time": "2024-05-23T20:30:18.458Z"
   },
   {
    "duration": 393,
    "start_time": "2024-05-23T20:30:19.790Z"
   },
   {
    "duration": 22,
    "start_time": "2024-05-23T20:30:20.185Z"
   },
   {
    "duration": 18,
    "start_time": "2024-05-23T20:30:20.209Z"
   },
   {
    "duration": 27,
    "start_time": "2024-05-23T20:30:20.230Z"
   },
   {
    "duration": 10,
    "start_time": "2024-05-23T20:30:20.270Z"
   },
   {
    "duration": 34,
    "start_time": "2024-05-23T20:30:20.281Z"
   },
   {
    "duration": 26,
    "start_time": "2024-05-23T20:30:20.317Z"
   },
   {
    "duration": 14,
    "start_time": "2024-05-23T20:30:20.344Z"
   },
   {
    "duration": 18,
    "start_time": "2024-05-23T20:30:20.360Z"
   },
   {
    "duration": 24,
    "start_time": "2024-05-23T20:30:20.380Z"
   },
   {
    "duration": 33,
    "start_time": "2024-05-23T20:30:20.406Z"
   },
   {
    "duration": 23,
    "start_time": "2024-05-23T20:30:20.441Z"
   },
   {
    "duration": 5,
    "start_time": "2024-05-23T20:30:20.467Z"
   },
   {
    "duration": 15,
    "start_time": "2024-05-23T20:30:20.473Z"
   },
   {
    "duration": 31,
    "start_time": "2024-05-23T20:30:20.490Z"
   },
   {
    "duration": 10,
    "start_time": "2024-05-23T20:30:20.522Z"
   },
   {
    "duration": 64,
    "start_time": "2024-05-23T20:30:20.534Z"
   },
   {
    "duration": 6,
    "start_time": "2024-05-23T20:30:20.600Z"
   },
   {
    "duration": 7,
    "start_time": "2024-05-23T20:30:20.608Z"
   },
   {
    "duration": 10,
    "start_time": "2024-05-23T20:30:20.616Z"
   },
   {
    "duration": 7,
    "start_time": "2024-05-23T20:30:20.627Z"
   },
   {
    "duration": 5,
    "start_time": "2024-05-23T20:30:20.635Z"
   },
   {
    "duration": 30,
    "start_time": "2024-05-23T20:30:20.641Z"
   },
   {
    "duration": 4,
    "start_time": "2024-05-23T20:30:20.673Z"
   },
   {
    "duration": 6,
    "start_time": "2024-05-23T20:30:57.460Z"
   },
   {
    "duration": 7,
    "start_time": "2024-05-23T20:30:59.712Z"
   },
   {
    "duration": 108,
    "start_time": "2024-05-23T20:42:06.054Z"
   },
   {
    "duration": 9,
    "start_time": "2024-05-23T20:43:03.132Z"
   },
   {
    "duration": 3,
    "start_time": "2024-05-23T20:43:41.671Z"
   },
   {
    "duration": 100,
    "start_time": "2024-05-23T20:43:41.676Z"
   },
   {
    "duration": 17,
    "start_time": "2024-05-23T20:43:41.777Z"
   },
   {
    "duration": 11,
    "start_time": "2024-05-23T20:43:41.796Z"
   },
   {
    "duration": 30,
    "start_time": "2024-05-23T20:43:41.809Z"
   },
   {
    "duration": 9,
    "start_time": "2024-05-23T20:43:41.841Z"
   },
   {
    "duration": 24,
    "start_time": "2024-05-23T20:43:41.851Z"
   },
   {
    "duration": 27,
    "start_time": "2024-05-23T20:43:41.877Z"
   },
   {
    "duration": 13,
    "start_time": "2024-05-23T20:43:41.906Z"
   },
   {
    "duration": 13,
    "start_time": "2024-05-23T20:43:41.920Z"
   },
   {
    "duration": 8,
    "start_time": "2024-05-23T20:43:41.934Z"
   },
   {
    "duration": 38,
    "start_time": "2024-05-23T20:43:41.943Z"
   },
   {
    "duration": 19,
    "start_time": "2024-05-23T20:43:41.982Z"
   },
   {
    "duration": 5,
    "start_time": "2024-05-23T20:43:42.004Z"
   },
   {
    "duration": 5,
    "start_time": "2024-05-23T20:43:42.010Z"
   },
   {
    "duration": 55,
    "start_time": "2024-05-23T20:43:42.016Z"
   },
   {
    "duration": 11,
    "start_time": "2024-05-23T20:43:42.073Z"
   },
   {
    "duration": 58,
    "start_time": "2024-05-23T20:43:42.085Z"
   },
   {
    "duration": 6,
    "start_time": "2024-05-23T20:43:42.144Z"
   },
   {
    "duration": 19,
    "start_time": "2024-05-23T20:43:42.152Z"
   },
   {
    "duration": 8,
    "start_time": "2024-05-23T20:43:42.172Z"
   },
   {
    "duration": 9,
    "start_time": "2024-05-23T20:43:42.181Z"
   },
   {
    "duration": 8,
    "start_time": "2024-05-23T20:43:42.191Z"
   },
   {
    "duration": 7,
    "start_time": "2024-05-23T20:43:42.200Z"
   },
   {
    "duration": 9,
    "start_time": "2024-05-23T20:43:42.208Z"
   },
   {
    "duration": 17,
    "start_time": "2024-05-23T20:43:42.218Z"
   },
   {
    "duration": 10,
    "start_time": "2024-05-23T20:43:53.225Z"
   },
   {
    "duration": 284,
    "start_time": "2024-05-23T20:47:16.834Z"
   },
   {
    "duration": 15,
    "start_time": "2024-05-23T20:49:17.897Z"
   },
   {
    "duration": 8,
    "start_time": "2024-05-23T20:49:52.371Z"
   },
   {
    "duration": 25,
    "start_time": "2024-05-23T20:50:12.541Z"
   },
   {
    "duration": 17,
    "start_time": "2024-05-23T20:50:57.138Z"
   },
   {
    "duration": 18,
    "start_time": "2024-05-23T20:51:05.166Z"
   },
   {
    "duration": 17,
    "start_time": "2024-05-23T20:52:19.829Z"
   },
   {
    "duration": 19,
    "start_time": "2024-05-23T20:52:31.259Z"
   },
   {
    "duration": 18,
    "start_time": "2024-05-23T20:53:09.604Z"
   },
   {
    "duration": 20,
    "start_time": "2024-05-23T20:53:20.121Z"
   },
   {
    "duration": 78,
    "start_time": "2024-05-23T20:54:07.326Z"
   },
   {
    "duration": 53,
    "start_time": "2024-05-23T20:55:18.937Z"
   },
   {
    "duration": 51,
    "start_time": "2024-05-23T20:55:28.221Z"
   },
   {
    "duration": 58,
    "start_time": "2024-05-23T20:55:47.357Z"
   },
   {
    "duration": 20,
    "start_time": "2024-05-23T20:56:27.329Z"
   },
   {
    "duration": 20,
    "start_time": "2024-05-23T20:56:52.646Z"
   },
   {
    "duration": 22,
    "start_time": "2024-05-23T20:57:05.473Z"
   },
   {
    "duration": 21,
    "start_time": "2024-05-23T20:57:27.582Z"
   },
   {
    "duration": 32,
    "start_time": "2024-05-23T21:00:44.525Z"
   },
   {
    "duration": 33,
    "start_time": "2024-05-23T21:01:00.276Z"
   },
   {
    "duration": 84,
    "start_time": "2024-05-23T21:01:32.892Z"
   },
   {
    "duration": 35,
    "start_time": "2024-05-23T21:05:42.423Z"
   },
   {
    "duration": 34,
    "start_time": "2024-05-23T21:05:53.344Z"
   },
   {
    "duration": 7,
    "start_time": "2024-05-23T21:06:39.064Z"
   },
   {
    "duration": 4,
    "start_time": "2024-05-23T21:06:53.818Z"
   },
   {
    "duration": 3,
    "start_time": "2024-05-23T21:07:03.612Z"
   },
   {
    "duration": 23,
    "start_time": "2024-05-23T21:29:16.567Z"
   },
   {
    "duration": 8,
    "start_time": "2024-05-23T21:29:18.599Z"
   },
   {
    "duration": 20,
    "start_time": "2024-05-23T21:29:20.674Z"
   },
   {
    "duration": 18,
    "start_time": "2024-05-23T21:31:37.140Z"
   },
   {
    "duration": 32,
    "start_time": "2024-05-23T21:40:01.311Z"
   },
   {
    "duration": 35,
    "start_time": "2024-05-23T21:40:41.319Z"
   },
   {
    "duration": 21,
    "start_time": "2024-05-23T21:42:01.034Z"
   },
   {
    "duration": 81,
    "start_time": "2024-05-23T21:42:22.921Z"
   },
   {
    "duration": 7,
    "start_time": "2024-05-23T21:42:39.854Z"
   },
   {
    "duration": 19,
    "start_time": "2024-05-23T21:42:47.337Z"
   },
   {
    "duration": 20,
    "start_time": "2024-05-23T21:43:14.075Z"
   },
   {
    "duration": 25,
    "start_time": "2024-05-23T21:44:19.543Z"
   },
   {
    "duration": 60,
    "start_time": "2024-05-25T20:00:43.897Z"
   },
   {
    "duration": 1272,
    "start_time": "2024-05-25T20:00:46.800Z"
   },
   {
    "duration": 208,
    "start_time": "2024-05-25T20:00:48.074Z"
   },
   {
    "duration": 26,
    "start_time": "2024-05-25T20:00:48.284Z"
   },
   {
    "duration": 13,
    "start_time": "2024-05-25T20:00:48.311Z"
   },
   {
    "duration": 20,
    "start_time": "2024-05-25T20:00:48.326Z"
   },
   {
    "duration": 19,
    "start_time": "2024-05-25T20:00:48.348Z"
   },
   {
    "duration": 8,
    "start_time": "2024-05-25T20:00:48.368Z"
   },
   {
    "duration": 16,
    "start_time": "2024-05-25T20:00:48.378Z"
   },
   {
    "duration": 13,
    "start_time": "2024-05-25T20:00:48.396Z"
   },
   {
    "duration": 14,
    "start_time": "2024-05-25T20:00:48.410Z"
   },
   {
    "duration": 40,
    "start_time": "2024-05-25T20:00:48.426Z"
   },
   {
    "duration": 21,
    "start_time": "2024-05-25T20:00:48.467Z"
   },
   {
    "duration": 23,
    "start_time": "2024-05-25T20:00:48.489Z"
   },
   {
    "duration": 5,
    "start_time": "2024-05-25T20:00:48.514Z"
   },
   {
    "duration": 5,
    "start_time": "2024-05-25T20:00:48.520Z"
   },
   {
    "duration": 58,
    "start_time": "2024-05-25T20:00:48.527Z"
   },
   {
    "duration": 10,
    "start_time": "2024-05-25T20:00:48.586Z"
   },
   {
    "duration": 42,
    "start_time": "2024-05-25T20:00:48.598Z"
   },
   {
    "duration": 24,
    "start_time": "2024-05-25T20:00:48.641Z"
   },
   {
    "duration": 5,
    "start_time": "2024-05-25T20:00:48.667Z"
   },
   {
    "duration": 7,
    "start_time": "2024-05-25T20:00:48.674Z"
   },
   {
    "duration": 5,
    "start_time": "2024-05-25T20:00:48.683Z"
   },
   {
    "duration": 4,
    "start_time": "2024-05-25T20:00:48.690Z"
   },
   {
    "duration": 7,
    "start_time": "2024-05-25T20:00:48.695Z"
   },
   {
    "duration": 4,
    "start_time": "2024-05-25T20:00:48.704Z"
   },
   {
    "duration": 56,
    "start_time": "2024-05-25T20:00:48.709Z"
   },
   {
    "duration": 0,
    "start_time": "2024-05-25T20:00:48.766Z"
   },
   {
    "duration": 0,
    "start_time": "2024-05-25T20:00:48.767Z"
   },
   {
    "duration": 0,
    "start_time": "2024-05-25T20:00:48.768Z"
   },
   {
    "duration": 62,
    "start_time": "2024-05-25T20:00:57.687Z"
   },
   {
    "duration": 80,
    "start_time": "2024-05-25T20:01:36.382Z"
   },
   {
    "duration": 63,
    "start_time": "2024-05-25T20:01:39.505Z"
   },
   {
    "duration": 279,
    "start_time": "2024-05-25T20:04:02.424Z"
   },
   {
    "duration": 201,
    "start_time": "2024-05-25T20:05:02.480Z"
   },
   {
    "duration": 190,
    "start_time": "2024-05-25T20:05:07.875Z"
   },
   {
    "duration": 189,
    "start_time": "2024-05-25T20:05:14.155Z"
   },
   {
    "duration": 7,
    "start_time": "2024-05-25T20:07:21.537Z"
   },
   {
    "duration": 209,
    "start_time": "2024-05-25T20:08:06.948Z"
   },
   {
    "duration": 223,
    "start_time": "2024-05-25T20:08:30.421Z"
   },
   {
    "duration": 303,
    "start_time": "2024-05-25T20:08:40.791Z"
   },
   {
    "duration": 203,
    "start_time": "2024-05-25T20:31:04.310Z"
   },
   {
    "duration": 979,
    "start_time": "2024-05-25T20:32:27.606Z"
   },
   {
    "duration": 863,
    "start_time": "2024-05-25T20:34:51.817Z"
   },
   {
    "duration": 6,
    "start_time": "2024-05-25T20:35:51.035Z"
   },
   {
    "duration": 10,
    "start_time": "2024-05-25T20:36:03.836Z"
   },
   {
    "duration": 171,
    "start_time": "2024-05-25T20:36:15.985Z"
   },
   {
    "duration": 233,
    "start_time": "2024-05-25T20:36:35.486Z"
   },
   {
    "duration": 178,
    "start_time": "2024-05-25T20:36:46.145Z"
   },
   {
    "duration": 7,
    "start_time": "2024-05-25T20:37:00.442Z"
   },
   {
    "duration": 203,
    "start_time": "2024-05-25T20:37:46.764Z"
   },
   {
    "duration": 11,
    "start_time": "2024-05-25T20:38:09.985Z"
   },
   {
    "duration": 212,
    "start_time": "2024-05-25T20:39:45.886Z"
   },
   {
    "duration": 3,
    "start_time": "2024-05-25T20:40:06.874Z"
   },
   {
    "duration": 223,
    "start_time": "2024-05-25T20:40:12.045Z"
   },
   {
    "duration": 9,
    "start_time": "2024-05-25T20:40:33.231Z"
   },
   {
    "duration": 25,
    "start_time": "2024-05-25T20:40:43.144Z"
   },
   {
    "duration": 19,
    "start_time": "2024-05-25T20:40:47.971Z"
   },
   {
    "duration": 10,
    "start_time": "2024-05-25T20:42:20.285Z"
   },
   {
    "duration": 17,
    "start_time": "2024-05-25T21:05:17.638Z"
   },
   {
    "duration": 24,
    "start_time": "2024-05-25T21:05:33.733Z"
   },
   {
    "duration": 24,
    "start_time": "2024-05-25T21:07:15.203Z"
   },
   {
    "duration": 653,
    "start_time": "2024-05-25T21:11:59.250Z"
   },
   {
    "duration": 631,
    "start_time": "2024-05-25T21:12:07.183Z"
   },
   {
    "duration": 12,
    "start_time": "2024-05-25T21:12:35.393Z"
   },
   {
    "duration": 17,
    "start_time": "2024-05-25T21:12:56.460Z"
   },
   {
    "duration": 3,
    "start_time": "2024-05-25T21:13:33.521Z"
   },
   {
    "duration": 121,
    "start_time": "2024-05-25T21:13:33.526Z"
   },
   {
    "duration": 16,
    "start_time": "2024-05-25T21:13:33.649Z"
   },
   {
    "duration": 19,
    "start_time": "2024-05-25T21:13:33.667Z"
   },
   {
    "duration": 41,
    "start_time": "2024-05-25T21:13:33.688Z"
   },
   {
    "duration": 14,
    "start_time": "2024-05-25T21:13:33.731Z"
   },
   {
    "duration": 36,
    "start_time": "2024-05-25T21:13:33.746Z"
   },
   {
    "duration": 40,
    "start_time": "2024-05-25T21:13:33.784Z"
   },
   {
    "duration": 25,
    "start_time": "2024-05-25T21:13:33.826Z"
   },
   {
    "duration": 13,
    "start_time": "2024-05-25T21:13:33.852Z"
   },
   {
    "duration": 44,
    "start_time": "2024-05-25T21:13:33.867Z"
   },
   {
    "duration": 32,
    "start_time": "2024-05-25T21:13:33.913Z"
   },
   {
    "duration": 27,
    "start_time": "2024-05-25T21:13:33.946Z"
   },
   {
    "duration": 15,
    "start_time": "2024-05-25T21:13:33.975Z"
   },
   {
    "duration": 36,
    "start_time": "2024-05-25T21:13:33.991Z"
   },
   {
    "duration": 33,
    "start_time": "2024-05-25T21:13:34.028Z"
   },
   {
    "duration": 13,
    "start_time": "2024-05-25T21:13:34.062Z"
   },
   {
    "duration": 73,
    "start_time": "2024-05-25T21:13:34.077Z"
   },
   {
    "duration": 6,
    "start_time": "2024-05-25T21:13:34.152Z"
   },
   {
    "duration": 30,
    "start_time": "2024-05-25T21:13:34.160Z"
   },
   {
    "duration": 38,
    "start_time": "2024-05-25T21:13:34.192Z"
   },
   {
    "duration": 23,
    "start_time": "2024-05-25T21:13:34.232Z"
   },
   {
    "duration": 31,
    "start_time": "2024-05-25T21:13:34.256Z"
   },
   {
    "duration": 12,
    "start_time": "2024-05-25T21:13:34.289Z"
   },
   {
    "duration": 22,
    "start_time": "2024-05-25T21:13:34.303Z"
   },
   {
    "duration": 272,
    "start_time": "2024-05-25T21:13:34.327Z"
   },
   {
    "duration": 24,
    "start_time": "2024-05-25T21:13:34.601Z"
   },
   {
    "duration": 8,
    "start_time": "2024-05-25T21:13:34.626Z"
   },
   {
    "duration": 38,
    "start_time": "2024-05-25T21:13:34.636Z"
   },
   {
    "duration": 20,
    "start_time": "2024-05-25T21:14:34.337Z"
   },
   {
    "duration": 19,
    "start_time": "2024-05-25T21:15:22.423Z"
   },
   {
    "duration": 10,
    "start_time": "2024-05-25T21:15:43.478Z"
   },
   {
    "duration": 9,
    "start_time": "2024-05-25T21:16:18.461Z"
   },
   {
    "duration": 11,
    "start_time": "2024-05-25T21:17:02.502Z"
   },
   {
    "duration": 20,
    "start_time": "2024-05-25T21:17:03.146Z"
   },
   {
    "duration": 918,
    "start_time": "2024-05-25T21:17:25.511Z"
   },
   {
    "duration": 3,
    "start_time": "2024-05-25T21:17:52.487Z"
   },
   {
    "duration": 127,
    "start_time": "2024-05-25T21:17:52.491Z"
   },
   {
    "duration": 24,
    "start_time": "2024-05-25T21:17:52.620Z"
   },
   {
    "duration": 14,
    "start_time": "2024-05-25T21:17:52.646Z"
   },
   {
    "duration": 29,
    "start_time": "2024-05-25T21:17:52.662Z"
   },
   {
    "duration": 12,
    "start_time": "2024-05-25T21:17:52.693Z"
   },
   {
    "duration": 10,
    "start_time": "2024-05-25T21:17:52.706Z"
   },
   {
    "duration": 15,
    "start_time": "2024-05-25T21:17:52.718Z"
   },
   {
    "duration": 34,
    "start_time": "2024-05-25T21:17:52.735Z"
   },
   {
    "duration": 12,
    "start_time": "2024-05-25T21:17:52.771Z"
   },
   {
    "duration": 8,
    "start_time": "2024-05-25T21:17:52.785Z"
   },
   {
    "duration": 19,
    "start_time": "2024-05-25T21:17:52.795Z"
   },
   {
    "duration": 49,
    "start_time": "2024-05-25T21:17:52.816Z"
   },
   {
    "duration": 5,
    "start_time": "2024-05-25T21:17:52.869Z"
   },
   {
    "duration": 5,
    "start_time": "2024-05-25T21:17:52.876Z"
   },
   {
    "duration": 26,
    "start_time": "2024-05-25T21:17:52.883Z"
   },
   {
    "duration": 10,
    "start_time": "2024-05-25T21:17:52.910Z"
   },
   {
    "duration": 75,
    "start_time": "2024-05-25T21:17:52.922Z"
   },
   {
    "duration": 7,
    "start_time": "2024-05-25T21:17:52.999Z"
   },
   {
    "duration": 7,
    "start_time": "2024-05-25T21:17:53.007Z"
   },
   {
    "duration": 8,
    "start_time": "2024-05-25T21:17:53.016Z"
   },
   {
    "duration": 6,
    "start_time": "2024-05-25T21:17:53.025Z"
   },
   {
    "duration": 33,
    "start_time": "2024-05-25T21:17:53.033Z"
   },
   {
    "duration": 4,
    "start_time": "2024-05-25T21:17:53.068Z"
   },
   {
    "duration": 5,
    "start_time": "2024-05-25T21:17:53.074Z"
   },
   {
    "duration": 225,
    "start_time": "2024-05-25T21:17:53.081Z"
   },
   {
    "duration": 19,
    "start_time": "2024-05-25T21:17:53.307Z"
   },
   {
    "duration": 18,
    "start_time": "2024-05-25T21:17:53.328Z"
   },
   {
    "duration": 58,
    "start_time": "2024-05-25T21:17:53.365Z"
   },
   {
    "duration": 58,
    "start_time": "2024-05-25T21:18:04.563Z"
   },
   {
    "duration": 10,
    "start_time": "2024-05-25T21:18:16.864Z"
   },
   {
    "duration": 19,
    "start_time": "2024-05-25T21:19:21.570Z"
   },
   {
    "duration": 12,
    "start_time": "2024-05-25T21:21:25.536Z"
   },
   {
    "duration": 5,
    "start_time": "2024-05-25T21:21:26.361Z"
   },
   {
    "duration": 40,
    "start_time": "2024-05-25T21:21:27.517Z"
   },
   {
    "duration": 3,
    "start_time": "2024-05-25T21:21:30.576Z"
   },
   {
    "duration": 148,
    "start_time": "2024-05-25T21:21:30.581Z"
   },
   {
    "duration": 17,
    "start_time": "2024-05-25T21:21:30.730Z"
   },
   {
    "duration": 56,
    "start_time": "2024-05-25T21:21:30.749Z"
   },
   {
    "duration": 44,
    "start_time": "2024-05-25T21:21:30.807Z"
   },
   {
    "duration": 33,
    "start_time": "2024-05-25T21:21:30.853Z"
   },
   {
    "duration": 50,
    "start_time": "2024-05-25T21:21:30.888Z"
   },
   {
    "duration": 51,
    "start_time": "2024-05-25T21:21:30.939Z"
   },
   {
    "duration": 44,
    "start_time": "2024-05-25T21:21:30.991Z"
   },
   {
    "duration": 81,
    "start_time": "2024-05-25T21:21:31.037Z"
   },
   {
    "duration": 62,
    "start_time": "2024-05-25T21:21:31.119Z"
   },
   {
    "duration": 53,
    "start_time": "2024-05-25T21:21:31.182Z"
   },
   {
    "duration": 57,
    "start_time": "2024-05-25T21:21:31.236Z"
   },
   {
    "duration": 38,
    "start_time": "2024-05-25T21:21:31.296Z"
   },
   {
    "duration": 28,
    "start_time": "2024-05-25T21:21:31.335Z"
   },
   {
    "duration": 69,
    "start_time": "2024-05-25T21:21:31.365Z"
   },
   {
    "duration": 21,
    "start_time": "2024-05-25T21:21:31.436Z"
   },
   {
    "duration": 91,
    "start_time": "2024-05-25T21:21:31.458Z"
   },
   {
    "duration": 54,
    "start_time": "2024-05-25T21:21:31.550Z"
   },
   {
    "duration": 26,
    "start_time": "2024-05-25T21:21:31.606Z"
   },
   {
    "duration": 26,
    "start_time": "2024-05-25T21:21:31.635Z"
   },
   {
    "duration": 29,
    "start_time": "2024-05-25T21:21:31.662Z"
   },
   {
    "duration": 27,
    "start_time": "2024-05-25T21:21:31.693Z"
   },
   {
    "duration": 14,
    "start_time": "2024-05-25T21:21:31.722Z"
   },
   {
    "duration": 17,
    "start_time": "2024-05-25T21:21:31.738Z"
   },
   {
    "duration": 217,
    "start_time": "2024-05-25T21:21:31.757Z"
   },
   {
    "duration": 21,
    "start_time": "2024-05-25T21:21:31.975Z"
   },
   {
    "duration": 44,
    "start_time": "2024-05-25T21:21:31.998Z"
   },
   {
    "duration": 7,
    "start_time": "2024-05-25T21:22:22.334Z"
   },
   {
    "duration": 12,
    "start_time": "2024-05-25T21:22:37.284Z"
   },
   {
    "duration": 15,
    "start_time": "2024-05-25T21:22:45.987Z"
   },
   {
    "duration": 7,
    "start_time": "2024-05-25T21:24:38.101Z"
   },
   {
    "duration": 62,
    "start_time": "2024-05-25T21:27:05.702Z"
   },
   {
    "duration": 15,
    "start_time": "2024-05-25T21:27:28.414Z"
   },
   {
    "duration": 20,
    "start_time": "2024-05-25T21:27:46.840Z"
   },
   {
    "duration": 19,
    "start_time": "2024-05-25T21:28:02.341Z"
   },
   {
    "duration": 66,
    "start_time": "2024-05-25T21:29:23.841Z"
   },
   {
    "duration": 378,
    "start_time": "2024-05-25T21:29:36.772Z"
   },
   {
    "duration": 20,
    "start_time": "2024-05-25T21:30:11.796Z"
   },
   {
    "duration": 108,
    "start_time": "2024-05-25T21:31:56.227Z"
   },
   {
    "duration": 57,
    "start_time": "2024-05-25T21:32:15.054Z"
   },
   {
    "duration": 61,
    "start_time": "2024-05-25T21:32:28.417Z"
   },
   {
    "duration": 20,
    "start_time": "2024-05-25T21:32:42.954Z"
   },
   {
    "duration": 19,
    "start_time": "2024-05-25T21:32:59.441Z"
   },
   {
    "duration": 21,
    "start_time": "2024-05-25T21:36:18.767Z"
   },
   {
    "duration": 26,
    "start_time": "2024-05-25T21:40:36.127Z"
   },
   {
    "duration": 33,
    "start_time": "2024-05-25T21:44:12.765Z"
   },
   {
    "duration": 58,
    "start_time": "2024-05-25T21:52:58.794Z"
   },
   {
    "duration": 4,
    "start_time": "2024-05-25T21:53:12.184Z"
   },
   {
    "duration": 14,
    "start_time": "2024-05-25T21:55:19.897Z"
   },
   {
    "duration": 10,
    "start_time": "2024-05-25T21:55:26.827Z"
   },
   {
    "duration": 8,
    "start_time": "2024-05-25T21:55:31.209Z"
   },
   {
    "duration": 24,
    "start_time": "2024-05-25T21:55:37.068Z"
   },
   {
    "duration": 12,
    "start_time": "2024-05-25T21:56:38.904Z"
   },
   {
    "duration": 57,
    "start_time": "2024-05-25T21:56:51.459Z"
   },
   {
    "duration": 36,
    "start_time": "2024-05-25T22:01:06.305Z"
   },
   {
    "duration": 35,
    "start_time": "2024-05-25T22:02:29.434Z"
   },
   {
    "duration": 3,
    "start_time": "2024-05-25T22:05:01.356Z"
   },
   {
    "duration": 153,
    "start_time": "2024-05-25T22:05:01.360Z"
   },
   {
    "duration": 18,
    "start_time": "2024-05-25T22:05:01.515Z"
   },
   {
    "duration": 23,
    "start_time": "2024-05-25T22:05:01.535Z"
   },
   {
    "duration": 140,
    "start_time": "2024-05-25T22:05:01.560Z"
   },
   {
    "duration": 15,
    "start_time": "2024-05-25T22:05:01.701Z"
   },
   {
    "duration": 24,
    "start_time": "2024-05-25T22:05:01.718Z"
   },
   {
    "duration": 51,
    "start_time": "2024-05-25T22:05:01.744Z"
   },
   {
    "duration": 14,
    "start_time": "2024-05-25T22:05:01.796Z"
   },
   {
    "duration": 13,
    "start_time": "2024-05-25T22:05:01.811Z"
   },
   {
    "duration": 7,
    "start_time": "2024-05-25T22:05:01.825Z"
   },
   {
    "duration": 25,
    "start_time": "2024-05-25T22:05:01.834Z"
   },
   {
    "duration": 32,
    "start_time": "2024-05-25T22:05:01.861Z"
   },
   {
    "duration": 5,
    "start_time": "2024-05-25T22:05:01.896Z"
   },
   {
    "duration": 19,
    "start_time": "2024-05-25T22:05:01.903Z"
   },
   {
    "duration": 20,
    "start_time": "2024-05-25T22:05:01.923Z"
   },
   {
    "duration": 45,
    "start_time": "2024-05-25T22:05:01.945Z"
   },
   {
    "duration": 50,
    "start_time": "2024-05-25T22:05:01.992Z"
   },
   {
    "duration": 7,
    "start_time": "2024-05-25T22:05:02.044Z"
   },
   {
    "duration": 16,
    "start_time": "2024-05-25T22:05:02.052Z"
   },
   {
    "duration": 13,
    "start_time": "2024-05-25T22:05:02.069Z"
   },
   {
    "duration": 24,
    "start_time": "2024-05-25T22:05:02.084Z"
   },
   {
    "duration": 39,
    "start_time": "2024-05-25T22:05:02.109Z"
   },
   {
    "duration": 33,
    "start_time": "2024-05-25T22:05:02.149Z"
   },
   {
    "duration": 24,
    "start_time": "2024-05-25T22:05:02.184Z"
   },
   {
    "duration": 224,
    "start_time": "2024-05-25T22:05:02.209Z"
   },
   {
    "duration": 21,
    "start_time": "2024-05-25T22:05:02.435Z"
   },
   {
    "duration": 18,
    "start_time": "2024-05-25T22:05:02.465Z"
   },
   {
    "duration": 18,
    "start_time": "2024-05-25T22:05:02.485Z"
   },
   {
    "duration": 74,
    "start_time": "2024-05-25T22:05:02.505Z"
   },
   {
    "duration": 44,
    "start_time": "2024-05-25T22:05:40.066Z"
   },
   {
    "duration": 46,
    "start_time": "2024-05-25T22:07:00.458Z"
   },
   {
    "duration": 44,
    "start_time": "2024-05-25T22:10:08.436Z"
   },
   {
    "duration": 45,
    "start_time": "2024-05-25T22:11:19.941Z"
   },
   {
    "duration": 61,
    "start_time": "2024-05-25T22:13:58.111Z"
   },
   {
    "duration": 43,
    "start_time": "2024-05-25T22:14:05.155Z"
   },
   {
    "duration": 42,
    "start_time": "2024-05-25T22:14:16.606Z"
   },
   {
    "duration": 56,
    "start_time": "2024-05-25T22:15:18.882Z"
   },
   {
    "duration": 43,
    "start_time": "2024-05-25T22:15:35.678Z"
   },
   {
    "duration": 26,
    "start_time": "2024-05-25T22:16:01.890Z"
   },
   {
    "duration": 46,
    "start_time": "2024-05-25T22:16:38.488Z"
   },
   {
    "duration": 44,
    "start_time": "2024-05-25T22:17:06.525Z"
   },
   {
    "duration": 3,
    "start_time": "2024-05-25T22:17:15.270Z"
   },
   {
    "duration": 118,
    "start_time": "2024-05-25T22:17:15.276Z"
   },
   {
    "duration": 16,
    "start_time": "2024-05-25T22:17:15.396Z"
   },
   {
    "duration": 10,
    "start_time": "2024-05-25T22:17:15.413Z"
   },
   {
    "duration": 21,
    "start_time": "2024-05-25T22:17:15.425Z"
   },
   {
    "duration": 9,
    "start_time": "2024-05-25T22:17:15.448Z"
   },
   {
    "duration": 25,
    "start_time": "2024-05-25T22:17:15.459Z"
   },
   {
    "duration": 20,
    "start_time": "2024-05-25T22:17:15.485Z"
   },
   {
    "duration": 33,
    "start_time": "2024-05-25T22:17:15.506Z"
   },
   {
    "duration": 16,
    "start_time": "2024-05-25T22:17:15.541Z"
   },
   {
    "duration": 15,
    "start_time": "2024-05-25T22:17:15.558Z"
   },
   {
    "duration": 19,
    "start_time": "2024-05-25T22:17:15.574Z"
   },
   {
    "duration": 22,
    "start_time": "2024-05-25T22:17:15.595Z"
   },
   {
    "duration": 5,
    "start_time": "2024-05-25T22:17:15.620Z"
   },
   {
    "duration": 25,
    "start_time": "2024-05-25T22:17:15.626Z"
   },
   {
    "duration": 34,
    "start_time": "2024-05-25T22:17:15.653Z"
   },
   {
    "duration": 6,
    "start_time": "2024-05-25T22:17:15.689Z"
   },
   {
    "duration": 40,
    "start_time": "2024-05-25T22:17:15.696Z"
   },
   {
    "duration": 6,
    "start_time": "2024-05-25T22:17:15.738Z"
   },
   {
    "duration": 40,
    "start_time": "2024-05-25T22:17:15.746Z"
   },
   {
    "duration": 12,
    "start_time": "2024-05-25T22:17:15.788Z"
   },
   {
    "duration": 7,
    "start_time": "2024-05-25T22:17:15.801Z"
   },
   {
    "duration": 16,
    "start_time": "2024-05-25T22:17:15.809Z"
   },
   {
    "duration": 5,
    "start_time": "2024-05-25T22:17:15.827Z"
   },
   {
    "duration": 5,
    "start_time": "2024-05-25T22:17:15.834Z"
   },
   {
    "duration": 220,
    "start_time": "2024-05-25T22:17:15.841Z"
   },
   {
    "duration": 20,
    "start_time": "2024-05-25T22:17:16.062Z"
   },
   {
    "duration": 17,
    "start_time": "2024-05-25T22:17:16.083Z"
   },
   {
    "duration": 18,
    "start_time": "2024-05-25T22:17:16.102Z"
   },
   {
    "duration": 78,
    "start_time": "2024-05-25T22:17:16.121Z"
   },
   {
    "duration": 4,
    "start_time": "2024-05-25T22:17:40.714Z"
   },
   {
    "duration": 96,
    "start_time": "2024-05-25T22:17:40.720Z"
   },
   {
    "duration": 16,
    "start_time": "2024-05-25T22:17:40.818Z"
   },
   {
    "duration": 55,
    "start_time": "2024-05-25T22:17:40.835Z"
   },
   {
    "duration": 23,
    "start_time": "2024-05-25T22:17:40.892Z"
   },
   {
    "duration": 9,
    "start_time": "2024-05-25T22:17:40.916Z"
   },
   {
    "duration": 9,
    "start_time": "2024-05-25T22:17:40.926Z"
   },
   {
    "duration": 13,
    "start_time": "2024-05-25T22:17:40.936Z"
   },
   {
    "duration": 22,
    "start_time": "2024-05-25T22:17:40.950Z"
   },
   {
    "duration": 13,
    "start_time": "2024-05-25T22:17:40.973Z"
   },
   {
    "duration": 9,
    "start_time": "2024-05-25T22:17:40.987Z"
   },
   {
    "duration": 24,
    "start_time": "2024-05-25T22:17:40.997Z"
   },
   {
    "duration": 19,
    "start_time": "2024-05-25T22:17:41.022Z"
   },
   {
    "duration": 4,
    "start_time": "2024-05-25T22:17:41.043Z"
   },
   {
    "duration": 5,
    "start_time": "2024-05-25T22:17:41.065Z"
   },
   {
    "duration": 13,
    "start_time": "2024-05-25T22:17:41.071Z"
   },
   {
    "duration": 4,
    "start_time": "2024-05-25T22:17:41.086Z"
   },
   {
    "duration": 51,
    "start_time": "2024-05-25T22:17:41.091Z"
   },
   {
    "duration": 6,
    "start_time": "2024-05-25T22:17:41.144Z"
   },
   {
    "duration": 7,
    "start_time": "2024-05-25T22:17:41.164Z"
   },
   {
    "duration": 13,
    "start_time": "2024-05-25T22:17:41.172Z"
   },
   {
    "duration": 5,
    "start_time": "2024-05-25T22:17:41.187Z"
   },
   {
    "duration": 8,
    "start_time": "2024-05-25T22:17:41.193Z"
   },
   {
    "duration": 5,
    "start_time": "2024-05-25T22:17:41.202Z"
   },
   {
    "duration": 5,
    "start_time": "2024-05-25T22:17:41.208Z"
   },
   {
    "duration": 215,
    "start_time": "2024-05-25T22:17:41.214Z"
   },
   {
    "duration": 19,
    "start_time": "2024-05-25T22:17:41.431Z"
   },
   {
    "duration": 29,
    "start_time": "2024-05-25T22:17:41.452Z"
   },
   {
    "duration": 19,
    "start_time": "2024-05-25T22:17:41.482Z"
   },
   {
    "duration": 63,
    "start_time": "2024-05-25T22:17:41.502Z"
   },
   {
    "duration": 42,
    "start_time": "2024-05-25T22:18:46.736Z"
   },
   {
    "duration": 42,
    "start_time": "2024-05-25T22:19:04.156Z"
   },
   {
    "duration": 44,
    "start_time": "2024-05-25T22:19:52.991Z"
   },
   {
    "duration": 45,
    "start_time": "2024-05-26T09:19:06.687Z"
   },
   {
    "duration": 1359,
    "start_time": "2024-05-26T09:19:09.583Z"
   },
   {
    "duration": 206,
    "start_time": "2024-05-26T09:19:10.945Z"
   },
   {
    "duration": 23,
    "start_time": "2024-05-26T09:19:11.153Z"
   },
   {
    "duration": 23,
    "start_time": "2024-05-26T09:19:11.182Z"
   },
   {
    "duration": 26,
    "start_time": "2024-05-26T09:19:11.207Z"
   },
   {
    "duration": 16,
    "start_time": "2024-05-26T09:19:11.235Z"
   },
   {
    "duration": 8,
    "start_time": "2024-05-26T09:19:11.252Z"
   },
   {
    "duration": 14,
    "start_time": "2024-05-26T09:19:11.262Z"
   },
   {
    "duration": 14,
    "start_time": "2024-05-26T09:19:11.277Z"
   },
   {
    "duration": 11,
    "start_time": "2024-05-26T09:19:11.293Z"
   },
   {
    "duration": 7,
    "start_time": "2024-05-26T09:19:11.306Z"
   },
   {
    "duration": 49,
    "start_time": "2024-05-26T09:19:11.314Z"
   },
   {
    "duration": 23,
    "start_time": "2024-05-26T09:19:11.365Z"
   },
   {
    "duration": 5,
    "start_time": "2024-05-26T09:19:11.390Z"
   },
   {
    "duration": 5,
    "start_time": "2024-05-26T09:19:11.396Z"
   },
   {
    "duration": 15,
    "start_time": "2024-05-26T09:19:11.402Z"
   },
   {
    "duration": 6,
    "start_time": "2024-05-26T09:19:11.444Z"
   },
   {
    "duration": 40,
    "start_time": "2024-05-26T09:19:11.452Z"
   },
   {
    "duration": 6,
    "start_time": "2024-05-26T09:19:11.494Z"
   },
   {
    "duration": 5,
    "start_time": "2024-05-26T09:19:11.502Z"
   },
   {
    "duration": 38,
    "start_time": "2024-05-26T09:19:11.509Z"
   },
   {
    "duration": 6,
    "start_time": "2024-05-26T09:19:11.549Z"
   },
   {
    "duration": 5,
    "start_time": "2024-05-26T09:19:11.557Z"
   },
   {
    "duration": 4,
    "start_time": "2024-05-26T09:19:11.563Z"
   },
   {
    "duration": 7,
    "start_time": "2024-05-26T09:19:11.568Z"
   },
   {
    "duration": 245,
    "start_time": "2024-05-26T09:19:11.576Z"
   },
   {
    "duration": 28,
    "start_time": "2024-05-26T09:19:11.822Z"
   },
   {
    "duration": 19,
    "start_time": "2024-05-26T09:19:11.851Z"
   },
   {
    "duration": 21,
    "start_time": "2024-05-26T09:19:11.871Z"
   },
   {
    "duration": 74,
    "start_time": "2024-05-26T09:19:11.893Z"
   },
   {
    "duration": 10,
    "start_time": "2024-05-26T09:19:11.969Z"
   },
   {
    "duration": 42,
    "start_time": "2024-05-26T21:15:13.779Z"
   },
   {
    "duration": 1242,
    "start_time": "2024-05-26T21:15:16.999Z"
   },
   {
    "duration": 202,
    "start_time": "2024-05-26T21:15:18.243Z"
   },
   {
    "duration": 14,
    "start_time": "2024-05-26T21:15:18.447Z"
   },
   {
    "duration": 13,
    "start_time": "2024-05-26T21:15:18.462Z"
   },
   {
    "duration": 18,
    "start_time": "2024-05-26T21:15:18.478Z"
   },
   {
    "duration": 8,
    "start_time": "2024-05-26T21:15:18.497Z"
   },
   {
    "duration": 7,
    "start_time": "2024-05-26T21:15:18.506Z"
   },
   {
    "duration": 12,
    "start_time": "2024-05-26T21:15:18.514Z"
   },
   {
    "duration": 10,
    "start_time": "2024-05-26T21:15:18.527Z"
   },
   {
    "duration": 10,
    "start_time": "2024-05-26T21:15:18.538Z"
   },
   {
    "duration": 7,
    "start_time": "2024-05-26T21:15:18.549Z"
   },
   {
    "duration": 50,
    "start_time": "2024-05-26T21:15:18.557Z"
   },
   {
    "duration": 21,
    "start_time": "2024-05-26T21:15:18.608Z"
   },
   {
    "duration": 4,
    "start_time": "2024-05-26T21:15:18.631Z"
   },
   {
    "duration": 4,
    "start_time": "2024-05-26T21:15:18.636Z"
   },
   {
    "duration": 16,
    "start_time": "2024-05-26T21:15:18.641Z"
   },
   {
    "duration": 4,
    "start_time": "2024-05-26T21:15:18.658Z"
   },
   {
    "duration": 54,
    "start_time": "2024-05-26T21:15:18.663Z"
   },
   {
    "duration": 6,
    "start_time": "2024-05-26T21:15:18.718Z"
   },
   {
    "duration": 5,
    "start_time": "2024-05-26T21:15:18.725Z"
   },
   {
    "duration": 7,
    "start_time": "2024-05-26T21:15:18.731Z"
   },
   {
    "duration": 6,
    "start_time": "2024-05-26T21:15:18.739Z"
   },
   {
    "duration": 4,
    "start_time": "2024-05-26T21:15:18.746Z"
   },
   {
    "duration": 7,
    "start_time": "2024-05-26T21:15:18.751Z"
   },
   {
    "duration": 7,
    "start_time": "2024-05-26T21:15:18.759Z"
   },
   {
    "duration": 207,
    "start_time": "2024-05-26T21:15:18.767Z"
   },
   {
    "duration": 16,
    "start_time": "2024-05-26T21:15:18.975Z"
   },
   {
    "duration": 21,
    "start_time": "2024-05-26T21:15:18.992Z"
   },
   {
    "duration": 16,
    "start_time": "2024-05-26T21:15:19.014Z"
   },
   {
    "duration": 72,
    "start_time": "2024-05-26T21:15:19.031Z"
   },
   {
    "duration": 103,
    "start_time": "2024-05-26T21:15:19.104Z"
   },
   {
    "duration": 14,
    "start_time": "2024-05-26T21:15:42.665Z"
   },
   {
    "duration": 9,
    "start_time": "2024-05-26T21:15:56.545Z"
   },
   {
    "duration": 56,
    "start_time": "2024-05-26T21:16:34.506Z"
   },
   {
    "duration": 4,
    "start_time": "2024-05-26T21:16:45.782Z"
   },
   {
    "duration": 11,
    "start_time": "2024-05-26T21:16:55.057Z"
   },
   {
    "duration": 10,
    "start_time": "2024-05-26T21:17:12.942Z"
   },
   {
    "duration": 2,
    "start_time": "2024-05-26T21:17:34.357Z"
   },
   {
    "duration": 97,
    "start_time": "2024-05-26T21:17:34.361Z"
   },
   {
    "duration": 13,
    "start_time": "2024-05-26T21:17:34.459Z"
   },
   {
    "duration": 8,
    "start_time": "2024-05-26T21:17:34.474Z"
   },
   {
    "duration": 17,
    "start_time": "2024-05-26T21:17:34.484Z"
   },
   {
    "duration": 8,
    "start_time": "2024-05-26T21:17:34.502Z"
   },
   {
    "duration": 28,
    "start_time": "2024-05-26T21:17:34.511Z"
   },
   {
    "duration": 10,
    "start_time": "2024-05-26T21:17:34.540Z"
   },
   {
    "duration": 15,
    "start_time": "2024-05-26T21:17:34.551Z"
   },
   {
    "duration": 10,
    "start_time": "2024-05-26T21:17:34.567Z"
   },
   {
    "duration": 10,
    "start_time": "2024-05-26T21:17:34.578Z"
   },
   {
    "duration": 17,
    "start_time": "2024-05-26T21:17:34.589Z"
   },
   {
    "duration": 16,
    "start_time": "2024-05-26T21:17:34.607Z"
   },
   {
    "duration": 4,
    "start_time": "2024-05-26T21:17:34.625Z"
   },
   {
    "duration": 5,
    "start_time": "2024-05-26T21:17:34.630Z"
   },
   {
    "duration": 11,
    "start_time": "2024-05-26T21:17:34.636Z"
   },
   {
    "duration": 6,
    "start_time": "2024-05-26T21:17:34.648Z"
   },
   {
    "duration": 50,
    "start_time": "2024-05-26T21:17:34.655Z"
   },
   {
    "duration": 5,
    "start_time": "2024-05-26T21:17:34.706Z"
   },
   {
    "duration": 11,
    "start_time": "2024-05-26T21:17:34.712Z"
   },
   {
    "duration": 10,
    "start_time": "2024-05-26T21:17:34.724Z"
   },
   {
    "duration": 4,
    "start_time": "2024-05-26T21:17:34.735Z"
   },
   {
    "duration": 10,
    "start_time": "2024-05-26T21:17:34.740Z"
   },
   {
    "duration": 9,
    "start_time": "2024-05-26T21:17:34.751Z"
   },
   {
    "duration": 4,
    "start_time": "2024-05-26T21:17:34.761Z"
   },
   {
    "duration": 179,
    "start_time": "2024-05-26T21:17:34.767Z"
   },
   {
    "duration": 15,
    "start_time": "2024-05-26T21:17:34.948Z"
   },
   {
    "duration": 14,
    "start_time": "2024-05-26T21:17:34.964Z"
   },
   {
    "duration": 29,
    "start_time": "2024-05-26T21:17:34.980Z"
   },
   {
    "duration": 41,
    "start_time": "2024-05-26T21:17:35.010Z"
   },
   {
    "duration": 9,
    "start_time": "2024-05-26T21:17:35.052Z"
   },
   {
    "duration": 3,
    "start_time": "2024-05-26T21:18:02.327Z"
   },
   {
    "duration": 15,
    "start_time": "2024-05-26T21:18:09.187Z"
   },
   {
    "duration": 15,
    "start_time": "2024-05-26T21:18:15.062Z"
   },
   {
    "duration": 3,
    "start_time": "2024-05-26T21:18:18.687Z"
   },
   {
    "duration": 155,
    "start_time": "2024-05-26T21:18:18.692Z"
   },
   {
    "duration": 14,
    "start_time": "2024-05-26T21:18:18.848Z"
   },
   {
    "duration": 75,
    "start_time": "2024-05-26T21:18:18.863Z"
   },
   {
    "duration": 37,
    "start_time": "2024-05-26T21:18:18.941Z"
   },
   {
    "duration": 16,
    "start_time": "2024-05-26T21:18:18.980Z"
   },
   {
    "duration": 33,
    "start_time": "2024-05-26T21:18:18.998Z"
   },
   {
    "duration": 19,
    "start_time": "2024-05-26T21:18:19.032Z"
   },
   {
    "duration": 13,
    "start_time": "2024-05-26T21:18:19.052Z"
   },
   {
    "duration": 14,
    "start_time": "2024-05-26T21:18:19.067Z"
   },
   {
    "duration": 9,
    "start_time": "2024-05-26T21:18:19.082Z"
   },
   {
    "duration": 29,
    "start_time": "2024-05-26T21:18:19.092Z"
   },
   {
    "duration": 16,
    "start_time": "2024-05-26T21:18:19.122Z"
   },
   {
    "duration": 4,
    "start_time": "2024-05-26T21:18:19.140Z"
   },
   {
    "duration": 9,
    "start_time": "2024-05-26T21:18:19.146Z"
   },
   {
    "duration": 18,
    "start_time": "2024-05-26T21:18:19.156Z"
   },
   {
    "duration": 78,
    "start_time": "2024-05-26T21:18:19.176Z"
   },
   {
    "duration": 33,
    "start_time": "2024-05-26T21:18:19.255Z"
   },
   {
    "duration": 5,
    "start_time": "2024-05-26T21:18:19.289Z"
   },
   {
    "duration": 12,
    "start_time": "2024-05-26T21:18:19.296Z"
   },
   {
    "duration": 7,
    "start_time": "2024-05-26T21:18:19.309Z"
   },
   {
    "duration": 13,
    "start_time": "2024-05-26T21:18:19.317Z"
   },
   {
    "duration": 6,
    "start_time": "2024-05-26T21:18:19.331Z"
   },
   {
    "duration": 5,
    "start_time": "2024-05-26T21:18:19.338Z"
   },
   {
    "duration": 9,
    "start_time": "2024-05-26T21:18:19.344Z"
   },
   {
    "duration": 180,
    "start_time": "2024-05-26T21:18:19.354Z"
   },
   {
    "duration": 74,
    "start_time": "2024-05-26T21:18:19.535Z"
   },
   {
    "duration": 24,
    "start_time": "2024-05-26T21:18:19.610Z"
   },
   {
    "duration": 17,
    "start_time": "2024-05-26T21:18:19.636Z"
   },
   {
    "duration": 60,
    "start_time": "2024-05-26T21:18:19.655Z"
   },
   {
    "duration": 16,
    "start_time": "2024-05-26T21:18:19.716Z"
   },
   {
    "duration": 4,
    "start_time": "2024-05-26T21:19:25.102Z"
   },
   {
    "duration": 15,
    "start_time": "2024-05-26T21:19:33.443Z"
   },
   {
    "duration": 14,
    "start_time": "2024-05-26T21:19:46.223Z"
   },
   {
    "duration": 2,
    "start_time": "2024-05-26T21:19:49.002Z"
   },
   {
    "duration": 127,
    "start_time": "2024-05-26T21:19:49.005Z"
   },
   {
    "duration": 13,
    "start_time": "2024-05-26T21:19:49.133Z"
   },
   {
    "duration": 15,
    "start_time": "2024-05-26T21:19:49.148Z"
   },
   {
    "duration": 19,
    "start_time": "2024-05-26T21:19:49.165Z"
   },
   {
    "duration": 49,
    "start_time": "2024-05-26T21:19:49.185Z"
   },
   {
    "duration": 7,
    "start_time": "2024-05-26T21:19:49.235Z"
   },
   {
    "duration": 12,
    "start_time": "2024-05-26T21:19:49.243Z"
   },
   {
    "duration": 11,
    "start_time": "2024-05-26T21:19:49.257Z"
   },
   {
    "duration": 10,
    "start_time": "2024-05-26T21:19:49.270Z"
   },
   {
    "duration": 6,
    "start_time": "2024-05-26T21:19:49.281Z"
   },
   {
    "duration": 22,
    "start_time": "2024-05-26T21:19:49.288Z"
   },
   {
    "duration": 16,
    "start_time": "2024-05-26T21:19:49.311Z"
   },
   {
    "duration": 3,
    "start_time": "2024-05-26T21:19:49.329Z"
   },
   {
    "duration": 5,
    "start_time": "2024-05-26T21:19:49.333Z"
   },
   {
    "duration": 16,
    "start_time": "2024-05-26T21:19:49.339Z"
   },
   {
    "duration": 6,
    "start_time": "2024-05-26T21:19:49.356Z"
   },
   {
    "duration": 46,
    "start_time": "2024-05-26T21:19:49.363Z"
   },
   {
    "duration": 5,
    "start_time": "2024-05-26T21:19:49.411Z"
   },
   {
    "duration": 8,
    "start_time": "2024-05-26T21:19:49.417Z"
   },
   {
    "duration": 13,
    "start_time": "2024-05-26T21:19:49.426Z"
   },
   {
    "duration": 14,
    "start_time": "2024-05-26T21:19:49.440Z"
   },
   {
    "duration": 11,
    "start_time": "2024-05-26T21:19:49.455Z"
   },
   {
    "duration": 12,
    "start_time": "2024-05-26T21:19:49.467Z"
   },
   {
    "duration": 21,
    "start_time": "2024-05-26T21:19:49.480Z"
   },
   {
    "duration": 226,
    "start_time": "2024-05-26T21:19:49.502Z"
   },
   {
    "duration": 21,
    "start_time": "2024-05-26T21:19:49.730Z"
   },
   {
    "duration": 19,
    "start_time": "2024-05-26T21:19:49.752Z"
   },
   {
    "duration": 16,
    "start_time": "2024-05-26T21:19:49.772Z"
   },
   {
    "duration": 47,
    "start_time": "2024-05-26T21:19:49.801Z"
   },
   {
    "duration": 15,
    "start_time": "2024-05-26T21:19:49.850Z"
   },
   {
    "duration": 3,
    "start_time": "2024-05-26T21:19:55.011Z"
   },
   {
    "duration": 68,
    "start_time": "2024-05-26T21:26:32.216Z"
   },
   {
    "duration": 4,
    "start_time": "2024-05-26T21:26:38.367Z"
   },
   {
    "duration": 9,
    "start_time": "2024-05-26T21:26:46.708Z"
   },
   {
    "duration": 20,
    "start_time": "2024-05-26T21:26:53.147Z"
   },
   {
    "duration": 27,
    "start_time": "2024-05-26T21:44:24.980Z"
   },
   {
    "duration": 14,
    "start_time": "2024-05-26T21:45:04.112Z"
   },
   {
    "duration": 880,
    "start_time": "2024-05-26T21:45:19.395Z"
   },
   {
    "duration": 2,
    "start_time": "2024-05-26T21:45:28.197Z"
   },
   {
    "duration": 101,
    "start_time": "2024-05-26T21:45:28.201Z"
   },
   {
    "duration": 12,
    "start_time": "2024-05-26T21:45:28.304Z"
   },
   {
    "duration": 9,
    "start_time": "2024-05-26T21:45:28.317Z"
   },
   {
    "duration": 19,
    "start_time": "2024-05-26T21:45:28.328Z"
   },
   {
    "duration": 8,
    "start_time": "2024-05-26T21:45:28.348Z"
   },
   {
    "duration": 8,
    "start_time": "2024-05-26T21:45:28.357Z"
   },
   {
    "duration": 36,
    "start_time": "2024-05-26T21:45:28.366Z"
   },
   {
    "duration": 11,
    "start_time": "2024-05-26T21:45:28.403Z"
   },
   {
    "duration": 9,
    "start_time": "2024-05-26T21:45:28.415Z"
   },
   {
    "duration": 7,
    "start_time": "2024-05-26T21:45:28.425Z"
   },
   {
    "duration": 35,
    "start_time": "2024-05-26T21:45:28.433Z"
   },
   {
    "duration": 36,
    "start_time": "2024-05-26T21:45:28.470Z"
   },
   {
    "duration": 4,
    "start_time": "2024-05-26T21:45:28.509Z"
   },
   {
    "duration": 25,
    "start_time": "2024-05-26T21:45:28.514Z"
   },
   {
    "duration": 13,
    "start_time": "2024-05-26T21:45:28.540Z"
   },
   {
    "duration": 29,
    "start_time": "2024-05-26T21:45:28.554Z"
   },
   {
    "duration": 45,
    "start_time": "2024-05-26T21:45:28.585Z"
   },
   {
    "duration": 5,
    "start_time": "2024-05-26T21:45:28.632Z"
   },
   {
    "duration": 5,
    "start_time": "2024-05-26T21:45:28.638Z"
   },
   {
    "duration": 13,
    "start_time": "2024-05-26T21:45:28.644Z"
   },
   {
    "duration": 5,
    "start_time": "2024-05-26T21:45:28.658Z"
   },
   {
    "duration": 29,
    "start_time": "2024-05-26T21:45:28.664Z"
   },
   {
    "duration": 9,
    "start_time": "2024-05-26T21:45:28.695Z"
   },
   {
    "duration": 8,
    "start_time": "2024-05-26T21:45:28.705Z"
   },
   {
    "duration": 178,
    "start_time": "2024-05-26T21:45:28.714Z"
   },
   {
    "duration": 17,
    "start_time": "2024-05-26T21:45:28.894Z"
   },
   {
    "duration": 16,
    "start_time": "2024-05-26T21:45:28.912Z"
   },
   {
    "duration": 15,
    "start_time": "2024-05-26T21:45:28.929Z"
   },
   {
    "duration": 58,
    "start_time": "2024-05-26T21:45:28.945Z"
   },
   {
    "duration": 12,
    "start_time": "2024-05-26T21:45:29.004Z"
   },
   {
    "duration": 2,
    "start_time": "2024-05-26T22:08:49.030Z"
   },
   {
    "duration": 117,
    "start_time": "2024-05-26T22:08:49.034Z"
   },
   {
    "duration": 17,
    "start_time": "2024-05-26T22:08:49.152Z"
   },
   {
    "duration": 16,
    "start_time": "2024-05-26T22:08:49.171Z"
   },
   {
    "duration": 25,
    "start_time": "2024-05-26T22:08:49.189Z"
   },
   {
    "duration": 10,
    "start_time": "2024-05-26T22:08:49.216Z"
   },
   {
    "duration": 6,
    "start_time": "2024-05-26T22:08:49.228Z"
   },
   {
    "duration": 23,
    "start_time": "2024-05-26T22:08:49.235Z"
   },
   {
    "duration": 16,
    "start_time": "2024-05-26T22:08:49.260Z"
   },
   {
    "duration": 25,
    "start_time": "2024-05-26T22:08:49.277Z"
   },
   {
    "duration": 15,
    "start_time": "2024-05-26T22:08:49.303Z"
   },
   {
    "duration": 18,
    "start_time": "2024-05-26T22:08:49.320Z"
   },
   {
    "duration": 16,
    "start_time": "2024-05-26T22:08:49.340Z"
   },
   {
    "duration": 4,
    "start_time": "2024-05-26T22:08:49.358Z"
   },
   {
    "duration": 10,
    "start_time": "2024-05-26T22:08:49.363Z"
   },
   {
    "duration": 42,
    "start_time": "2024-05-26T22:08:49.375Z"
   },
   {
    "duration": 11,
    "start_time": "2024-05-26T22:08:49.418Z"
   },
   {
    "duration": 33,
    "start_time": "2024-05-26T22:08:49.430Z"
   },
   {
    "duration": 5,
    "start_time": "2024-05-26T22:08:49.464Z"
   },
   {
    "duration": 6,
    "start_time": "2024-05-26T22:08:49.470Z"
   },
   {
    "duration": 7,
    "start_time": "2024-05-26T22:08:49.477Z"
   },
   {
    "duration": 5,
    "start_time": "2024-05-26T22:08:49.485Z"
   },
   {
    "duration": 4,
    "start_time": "2024-05-26T22:08:49.501Z"
   },
   {
    "duration": 4,
    "start_time": "2024-05-26T22:08:49.506Z"
   },
   {
    "duration": 10,
    "start_time": "2024-05-26T22:08:49.511Z"
   },
   {
    "duration": 181,
    "start_time": "2024-05-26T22:08:49.522Z"
   },
   {
    "duration": 15,
    "start_time": "2024-05-26T22:08:49.705Z"
   },
   {
    "duration": 14,
    "start_time": "2024-05-26T22:08:49.721Z"
   },
   {
    "duration": 17,
    "start_time": "2024-05-26T22:08:49.736Z"
   },
   {
    "duration": 57,
    "start_time": "2024-05-26T22:08:49.754Z"
   },
   {
    "duration": 870,
    "start_time": "2024-05-26T22:08:49.812Z"
   },
   {
    "duration": 885,
    "start_time": "2024-05-26T22:09:28.444Z"
   },
   {
    "duration": 845,
    "start_time": "2024-05-26T22:09:49.425Z"
   },
   {
    "duration": 10,
    "start_time": "2024-05-26T22:10:07.882Z"
   },
   {
    "duration": 24,
    "start_time": "2024-05-26T22:10:17.796Z"
   },
   {
    "duration": 2,
    "start_time": "2024-05-26T22:10:42.213Z"
   },
   {
    "duration": 93,
    "start_time": "2024-05-26T22:10:42.216Z"
   },
   {
    "duration": 14,
    "start_time": "2024-05-26T22:10:42.311Z"
   },
   {
    "duration": 11,
    "start_time": "2024-05-26T22:10:42.326Z"
   },
   {
    "duration": 26,
    "start_time": "2024-05-26T22:10:42.339Z"
   },
   {
    "duration": 7,
    "start_time": "2024-05-26T22:10:42.366Z"
   },
   {
    "duration": 18,
    "start_time": "2024-05-26T22:10:42.374Z"
   },
   {
    "duration": 9,
    "start_time": "2024-05-26T22:10:42.393Z"
   },
   {
    "duration": 11,
    "start_time": "2024-05-26T22:10:42.403Z"
   },
   {
    "duration": 8,
    "start_time": "2024-05-26T22:10:42.415Z"
   },
   {
    "duration": 11,
    "start_time": "2024-05-26T22:10:42.425Z"
   },
   {
    "duration": 16,
    "start_time": "2024-05-26T22:10:42.437Z"
   },
   {
    "duration": 16,
    "start_time": "2024-05-26T22:10:42.454Z"
   },
   {
    "duration": 3,
    "start_time": "2024-05-26T22:10:42.472Z"
   },
   {
    "duration": 10,
    "start_time": "2024-05-26T22:10:42.477Z"
   },
   {
    "duration": 10,
    "start_time": "2024-05-26T22:10:42.501Z"
   },
   {
    "duration": 4,
    "start_time": "2024-05-26T22:10:42.513Z"
   },
   {
    "duration": 45,
    "start_time": "2024-05-26T22:10:42.518Z"
   },
   {
    "duration": 5,
    "start_time": "2024-05-26T22:10:42.564Z"
   },
   {
    "duration": 18,
    "start_time": "2024-05-26T22:10:42.571Z"
   },
   {
    "duration": 10,
    "start_time": "2024-05-26T22:10:42.590Z"
   },
   {
    "duration": 4,
    "start_time": "2024-05-26T22:10:42.601Z"
   },
   {
    "duration": 12,
    "start_time": "2024-05-26T22:10:42.607Z"
   },
   {
    "duration": 5,
    "start_time": "2024-05-26T22:10:42.620Z"
   },
   {
    "duration": 4,
    "start_time": "2024-05-26T22:10:42.626Z"
   },
   {
    "duration": 176,
    "start_time": "2024-05-26T22:10:42.631Z"
   },
   {
    "duration": 59,
    "start_time": "2024-05-26T22:10:42.809Z"
   },
   {
    "duration": 15,
    "start_time": "2024-05-26T22:10:42.869Z"
   },
   {
    "duration": 30,
    "start_time": "2024-05-26T22:10:42.885Z"
   },
   {
    "duration": 38,
    "start_time": "2024-05-26T22:10:42.916Z"
   },
   {
    "duration": 47,
    "start_time": "2024-05-26T22:10:42.955Z"
   },
   {
    "duration": 31,
    "start_time": "2024-05-26T22:12:40.337Z"
   },
   {
    "duration": 24,
    "start_time": "2024-05-26T22:14:12.948Z"
   },
   {
    "duration": 1192,
    "start_time": "2024-05-26T22:15:18.287Z"
   },
   {
    "duration": 25,
    "start_time": "2024-05-26T22:16:56.283Z"
   },
   {
    "duration": 3,
    "start_time": "2024-05-26T22:18:19.801Z"
   },
   {
    "duration": 91,
    "start_time": "2024-05-26T22:18:19.805Z"
   },
   {
    "duration": 12,
    "start_time": "2024-05-26T22:18:19.898Z"
   },
   {
    "duration": 22,
    "start_time": "2024-05-26T22:18:19.911Z"
   },
   {
    "duration": 31,
    "start_time": "2024-05-26T22:18:19.935Z"
   },
   {
    "duration": 15,
    "start_time": "2024-05-26T22:18:19.968Z"
   },
   {
    "duration": 14,
    "start_time": "2024-05-26T22:18:19.984Z"
   },
   {
    "duration": 25,
    "start_time": "2024-05-26T22:18:19.999Z"
   },
   {
    "duration": 13,
    "start_time": "2024-05-26T22:18:20.025Z"
   },
   {
    "duration": 15,
    "start_time": "2024-05-26T22:18:20.039Z"
   },
   {
    "duration": 19,
    "start_time": "2024-05-26T22:18:20.055Z"
   },
   {
    "duration": 20,
    "start_time": "2024-05-26T22:18:20.075Z"
   },
   {
    "duration": 18,
    "start_time": "2024-05-26T22:18:20.096Z"
   },
   {
    "duration": 4,
    "start_time": "2024-05-26T22:18:20.116Z"
   },
   {
    "duration": 9,
    "start_time": "2024-05-26T22:18:20.122Z"
   },
   {
    "duration": 18,
    "start_time": "2024-05-26T22:18:20.132Z"
   },
   {
    "duration": 4,
    "start_time": "2024-05-26T22:18:20.151Z"
   },
   {
    "duration": 34,
    "start_time": "2024-05-26T22:18:20.156Z"
   },
   {
    "duration": 15,
    "start_time": "2024-05-26T22:18:20.191Z"
   },
   {
    "duration": 8,
    "start_time": "2024-05-26T22:18:20.207Z"
   },
   {
    "duration": 8,
    "start_time": "2024-05-26T22:18:20.217Z"
   },
   {
    "duration": 5,
    "start_time": "2024-05-26T22:18:20.226Z"
   },
   {
    "duration": 21,
    "start_time": "2024-05-26T22:18:20.233Z"
   },
   {
    "duration": 11,
    "start_time": "2024-05-26T22:18:20.255Z"
   },
   {
    "duration": 37,
    "start_time": "2024-05-26T22:18:20.267Z"
   },
   {
    "duration": 228,
    "start_time": "2024-05-26T22:18:20.306Z"
   },
   {
    "duration": 16,
    "start_time": "2024-05-26T22:18:20.536Z"
   },
   {
    "duration": 40,
    "start_time": "2024-05-26T22:18:20.553Z"
   },
   {
    "duration": 16,
    "start_time": "2024-05-26T22:18:20.594Z"
   },
   {
    "duration": 41,
    "start_time": "2024-05-26T22:18:20.611Z"
   },
   {
    "duration": 27,
    "start_time": "2024-05-26T22:18:20.654Z"
   },
   {
    "duration": 87,
    "start_time": "2024-05-26T22:26:58.866Z"
   },
   {
    "duration": 7,
    "start_time": "2024-05-26T22:27:17.777Z"
   },
   {
    "duration": 6,
    "start_time": "2024-05-26T22:27:32.767Z"
   },
   {
    "duration": 12,
    "start_time": "2024-05-26T22:27:41.681Z"
   },
   {
    "duration": 892,
    "start_time": "2024-05-26T22:28:24.368Z"
   },
   {
    "duration": 14,
    "start_time": "2024-05-26T22:28:35.254Z"
   },
   {
    "duration": 1717,
    "start_time": "2024-05-28T20:36:51.824Z"
   },
   {
    "duration": 397,
    "start_time": "2024-05-28T20:36:53.544Z"
   },
   {
    "duration": 22,
    "start_time": "2024-05-28T20:36:53.942Z"
   },
   {
    "duration": 20,
    "start_time": "2024-05-28T20:36:53.966Z"
   },
   {
    "duration": 36,
    "start_time": "2024-05-28T20:36:53.988Z"
   },
   {
    "duration": 15,
    "start_time": "2024-05-28T20:36:54.026Z"
   },
   {
    "duration": 13,
    "start_time": "2024-05-28T20:36:54.043Z"
   },
   {
    "duration": 48,
    "start_time": "2024-05-28T20:36:54.058Z"
   },
   {
    "duration": 19,
    "start_time": "2024-05-28T20:36:54.108Z"
   },
   {
    "duration": 14,
    "start_time": "2024-05-28T20:36:54.129Z"
   },
   {
    "duration": 47,
    "start_time": "2024-05-28T20:36:54.145Z"
   },
   {
    "duration": 26,
    "start_time": "2024-05-28T20:36:54.193Z"
   },
   {
    "duration": 25,
    "start_time": "2024-05-28T20:36:54.221Z"
   },
   {
    "duration": 5,
    "start_time": "2024-05-28T20:36:54.249Z"
   },
   {
    "duration": 32,
    "start_time": "2024-05-28T20:36:54.256Z"
   },
   {
    "duration": 23,
    "start_time": "2024-05-28T20:36:54.290Z"
   },
   {
    "duration": 6,
    "start_time": "2024-05-28T20:36:54.315Z"
   },
   {
    "duration": 42,
    "start_time": "2024-05-28T20:36:54.323Z"
   },
   {
    "duration": 16,
    "start_time": "2024-05-28T20:36:54.380Z"
   },
   {
    "duration": 9,
    "start_time": "2024-05-28T20:36:54.397Z"
   },
   {
    "duration": 13,
    "start_time": "2024-05-28T20:36:54.408Z"
   },
   {
    "duration": 9,
    "start_time": "2024-05-28T20:36:54.423Z"
   },
   {
    "duration": 6,
    "start_time": "2024-05-28T20:36:54.434Z"
   },
   {
    "duration": 18,
    "start_time": "2024-05-28T20:36:54.442Z"
   },
   {
    "duration": 38,
    "start_time": "2024-05-28T20:36:54.485Z"
   },
   {
    "duration": 306,
    "start_time": "2024-05-28T20:36:54.525Z"
   },
   {
    "duration": 24,
    "start_time": "2024-05-28T20:36:54.833Z"
   },
   {
    "duration": 38,
    "start_time": "2024-05-28T20:36:54.858Z"
   },
   {
    "duration": 23,
    "start_time": "2024-05-28T20:36:54.897Z"
   },
   {
    "duration": 27,
    "start_time": "2024-05-28T20:36:54.921Z"
   },
   {
    "duration": 53,
    "start_time": "2024-05-28T20:36:54.950Z"
   },
   {
    "duration": 15,
    "start_time": "2024-05-28T20:36:55.004Z"
   },
   {
    "duration": 39,
    "start_time": "2024-05-28T20:37:14.857Z"
   },
   {
    "duration": 136,
    "start_time": "2024-05-28T20:45:45.459Z"
   },
   {
    "duration": 33,
    "start_time": "2024-05-28T20:45:49.292Z"
   },
   {
    "duration": 49,
    "start_time": "2024-05-28T20:46:13.025Z"
   },
   {
    "duration": 41,
    "start_time": "2024-05-28T20:46:51.491Z"
   },
   {
    "duration": 55,
    "start_time": "2024-05-28T20:51:02.173Z"
   },
   {
    "duration": 66,
    "start_time": "2024-05-28T20:55:34.470Z"
   },
   {
    "duration": 40,
    "start_time": "2024-05-28T20:56:10.421Z"
   },
   {
    "duration": 51,
    "start_time": "2024-05-28T20:56:53.399Z"
   },
   {
    "duration": 64,
    "start_time": "2024-05-28T20:57:31.968Z"
   },
   {
    "duration": 1150,
    "start_time": "2024-05-28T20:58:20.258Z"
   },
   {
    "duration": 56,
    "start_time": "2024-05-28T20:58:50.161Z"
   },
   {
    "duration": 6,
    "start_time": "2024-05-28T20:58:53.862Z"
   },
   {
    "duration": 26,
    "start_time": "2024-05-28T21:02:23.670Z"
   },
   {
    "duration": 22,
    "start_time": "2024-05-28T21:02:36.902Z"
   },
   {
    "duration": 49,
    "start_time": "2024-05-28T21:02:44.053Z"
   },
   {
    "duration": 15,
    "start_time": "2024-05-28T21:02:50.546Z"
   },
   {
    "duration": 19,
    "start_time": "2024-05-28T21:02:57.255Z"
   },
   {
    "duration": 33,
    "start_time": "2024-05-28T21:03:03.091Z"
   },
   {
    "duration": 47,
    "start_time": "2024-05-28T21:08:40.766Z"
   },
   {
    "duration": 56,
    "start_time": "2024-05-28T21:08:41.603Z"
   },
   {
    "duration": 1212,
    "start_time": "2024-05-28T21:08:42.404Z"
   },
   {
    "duration": 3,
    "start_time": "2024-05-28T21:09:03.826Z"
   },
   {
    "duration": 109,
    "start_time": "2024-05-28T21:09:03.873Z"
   },
   {
    "duration": 22,
    "start_time": "2024-05-28T21:09:03.984Z"
   },
   {
    "duration": 14,
    "start_time": "2024-05-28T21:09:04.008Z"
   },
   {
    "duration": 26,
    "start_time": "2024-05-28T21:09:04.024Z"
   },
   {
    "duration": 11,
    "start_time": "2024-05-28T21:09:04.080Z"
   },
   {
    "duration": 10,
    "start_time": "2024-05-28T21:09:04.093Z"
   },
   {
    "duration": 15,
    "start_time": "2024-05-28T21:09:04.105Z"
   },
   {
    "duration": 17,
    "start_time": "2024-05-28T21:09:04.122Z"
   },
   {
    "duration": 53,
    "start_time": "2024-05-28T21:09:04.140Z"
   },
   {
    "duration": 9,
    "start_time": "2024-05-28T21:09:04.195Z"
   },
   {
    "duration": 26,
    "start_time": "2024-05-28T21:09:04.206Z"
   },
   {
    "duration": 52,
    "start_time": "2024-05-28T21:09:04.233Z"
   },
   {
    "duration": 6,
    "start_time": "2024-05-28T21:09:04.286Z"
   },
   {
    "duration": 30,
    "start_time": "2024-05-28T21:09:04.296Z"
   },
   {
    "duration": 16,
    "start_time": "2024-05-28T21:09:04.327Z"
   },
   {
    "duration": 6,
    "start_time": "2024-05-28T21:09:04.345Z"
   },
   {
    "duration": 58,
    "start_time": "2024-05-28T21:09:04.352Z"
   },
   {
    "duration": 8,
    "start_time": "2024-05-28T21:09:04.411Z"
   },
   {
    "duration": 12,
    "start_time": "2024-05-28T21:09:04.421Z"
   },
   {
    "duration": 17,
    "start_time": "2024-05-28T21:09:04.434Z"
   },
   {
    "duration": 6,
    "start_time": "2024-05-28T21:09:04.453Z"
   },
   {
    "duration": 6,
    "start_time": "2024-05-28T21:09:04.481Z"
   },
   {
    "duration": 7,
    "start_time": "2024-05-28T21:09:04.489Z"
   },
   {
    "duration": 8,
    "start_time": "2024-05-28T21:09:04.498Z"
   },
   {
    "duration": 268,
    "start_time": "2024-05-28T21:09:04.508Z"
   },
   {
    "duration": 24,
    "start_time": "2024-05-28T21:09:04.780Z"
   },
   {
    "duration": 26,
    "start_time": "2024-05-28T21:09:04.806Z"
   },
   {
    "duration": 52,
    "start_time": "2024-05-28T21:09:04.834Z"
   },
   {
    "duration": 51,
    "start_time": "2024-05-28T21:09:04.888Z"
   },
   {
    "duration": 1024,
    "start_time": "2024-05-28T21:09:04.942Z"
   },
   {
    "duration": 0,
    "start_time": "2024-05-28T21:09:05.968Z"
   },
   {
    "duration": 28,
    "start_time": "2024-05-28T21:10:00.443Z"
   },
   {
    "duration": 71,
    "start_time": "2024-05-28T21:10:01.077Z"
   },
   {
    "duration": 1048,
    "start_time": "2024-05-28T21:10:01.941Z"
   },
   {
    "duration": 4,
    "start_time": "2024-05-28T21:10:12.838Z"
   },
   {
    "duration": 103,
    "start_time": "2024-05-28T21:10:12.844Z"
   },
   {
    "duration": 20,
    "start_time": "2024-05-28T21:10:12.949Z"
   },
   {
    "duration": 12,
    "start_time": "2024-05-28T21:10:12.971Z"
   },
   {
    "duration": 28,
    "start_time": "2024-05-28T21:10:12.986Z"
   },
   {
    "duration": 10,
    "start_time": "2024-05-28T21:10:13.016Z"
   },
   {
    "duration": 10,
    "start_time": "2024-05-28T21:10:13.028Z"
   },
   {
    "duration": 41,
    "start_time": "2024-05-28T21:10:13.040Z"
   },
   {
    "duration": 15,
    "start_time": "2024-05-28T21:10:13.083Z"
   },
   {
    "duration": 29,
    "start_time": "2024-05-28T21:10:13.100Z"
   },
   {
    "duration": 9,
    "start_time": "2024-05-28T21:10:13.131Z"
   },
   {
    "duration": 50,
    "start_time": "2024-05-28T21:10:13.143Z"
   },
   {
    "duration": 35,
    "start_time": "2024-05-28T21:10:13.195Z"
   },
   {
    "duration": 6,
    "start_time": "2024-05-28T21:10:13.234Z"
   },
   {
    "duration": 46,
    "start_time": "2024-05-28T21:10:13.242Z"
   },
   {
    "duration": 34,
    "start_time": "2024-05-28T21:10:13.290Z"
   },
   {
    "duration": 7,
    "start_time": "2024-05-28T21:10:13.326Z"
   },
   {
    "duration": 51,
    "start_time": "2024-05-28T21:10:13.335Z"
   },
   {
    "duration": 9,
    "start_time": "2024-05-28T21:10:13.388Z"
   },
   {
    "duration": 14,
    "start_time": "2024-05-28T21:10:13.399Z"
   },
   {
    "duration": 16,
    "start_time": "2024-05-28T21:10:13.415Z"
   },
   {
    "duration": 10,
    "start_time": "2024-05-28T21:10:13.433Z"
   },
   {
    "duration": 21,
    "start_time": "2024-05-28T21:10:13.445Z"
   },
   {
    "duration": 12,
    "start_time": "2024-05-28T21:10:13.480Z"
   },
   {
    "duration": 27,
    "start_time": "2024-05-28T21:10:13.494Z"
   },
   {
    "duration": 250,
    "start_time": "2024-05-28T21:10:13.523Z"
   },
   {
    "duration": 127,
    "start_time": "2024-05-28T21:10:13.774Z"
   },
   {
    "duration": 26,
    "start_time": "2024-05-28T21:10:13.903Z"
   },
   {
    "duration": 23,
    "start_time": "2024-05-28T21:10:13.930Z"
   },
   {
    "duration": 69,
    "start_time": "2024-05-28T21:10:13.954Z"
   },
   {
    "duration": 14,
    "start_time": "2024-05-28T21:10:14.024Z"
   },
   {
    "duration": 50,
    "start_time": "2024-05-28T21:10:14.040Z"
   },
   {
    "duration": 51,
    "start_time": "2024-05-28T21:14:36.880Z"
   },
   {
    "duration": 4,
    "start_time": "2024-05-28T21:14:42.469Z"
   },
   {
    "duration": 58,
    "start_time": "2024-05-28T21:17:30.482Z"
   },
   {
    "duration": 12,
    "start_time": "2024-05-28T21:17:44.872Z"
   },
   {
    "duration": 7,
    "start_time": "2024-05-28T21:18:41.416Z"
   },
   {
    "duration": 9,
    "start_time": "2024-05-28T21:19:17.667Z"
   },
   {
    "duration": 23,
    "start_time": "2024-05-28T21:22:06.131Z"
   },
   {
    "duration": 24,
    "start_time": "2024-05-28T21:23:45.027Z"
   },
   {
    "duration": 17,
    "start_time": "2024-05-28T21:25:07.419Z"
   },
   {
    "duration": 11,
    "start_time": "2024-05-28T21:30:52.636Z"
   },
   {
    "duration": 209,
    "start_time": "2024-05-28T21:31:10.458Z"
   },
   {
    "duration": 62,
    "start_time": "2024-05-28T21:32:03.757Z"
   },
   {
    "duration": 52,
    "start_time": "2024-05-28T21:33:00.476Z"
   },
   {
    "duration": 186,
    "start_time": "2024-05-28T21:33:12.289Z"
   },
   {
    "duration": 190,
    "start_time": "2024-05-28T21:33:22.545Z"
   },
   {
    "duration": 223,
    "start_time": "2024-05-28T21:37:26.903Z"
   },
   {
    "duration": 201,
    "start_time": "2024-05-28T21:38:18.674Z"
   },
   {
    "duration": 226,
    "start_time": "2024-05-28T21:38:27.363Z"
   },
   {
    "duration": 184,
    "start_time": "2024-05-28T21:38:46.671Z"
   },
   {
    "duration": 195,
    "start_time": "2024-05-28T21:38:52.171Z"
   },
   {
    "duration": 202,
    "start_time": "2024-05-28T21:39:00.435Z"
   },
   {
    "duration": 308,
    "start_time": "2024-05-28T21:39:09.925Z"
   },
   {
    "duration": 214,
    "start_time": "2024-05-28T21:39:20.575Z"
   },
   {
    "duration": 208,
    "start_time": "2024-05-28T21:39:25.650Z"
   },
   {
    "duration": 235,
    "start_time": "2024-05-28T21:39:33.207Z"
   },
   {
    "duration": 265,
    "start_time": "2024-05-28T21:39:39.103Z"
   },
   {
    "duration": 239,
    "start_time": "2024-05-28T21:39:48.359Z"
   },
   {
    "duration": 16,
    "start_time": "2024-05-28T21:45:42.758Z"
   },
   {
    "duration": 15,
    "start_time": "2024-05-28T21:45:58.970Z"
   },
   {
    "duration": 295,
    "start_time": "2024-05-28T21:46:08.653Z"
   },
   {
    "duration": 248,
    "start_time": "2024-05-28T21:47:16.134Z"
   },
   {
    "duration": 201,
    "start_time": "2024-05-28T21:47:20.120Z"
   },
   {
    "duration": 241,
    "start_time": "2024-05-28T21:47:24.848Z"
   },
   {
    "duration": 355,
    "start_time": "2024-05-28T21:52:02.564Z"
   },
   {
    "duration": 212,
    "start_time": "2024-05-28T21:52:39.441Z"
   },
   {
    "duration": 221,
    "start_time": "2024-05-28T21:53:00.680Z"
   },
   {
    "duration": 237,
    "start_time": "2024-05-28T21:53:11.191Z"
   },
   {
    "duration": 11,
    "start_time": "2024-05-28T21:58:28.576Z"
   },
   {
    "duration": 241,
    "start_time": "2024-05-28T21:58:56.024Z"
   },
   {
    "duration": 291,
    "start_time": "2024-05-28T22:04:02.841Z"
   },
   {
    "duration": 230,
    "start_time": "2024-05-28T22:04:09.272Z"
   },
   {
    "duration": 233,
    "start_time": "2024-05-28T22:04:13.888Z"
   },
   {
    "duration": 372,
    "start_time": "2024-05-28T22:07:28.086Z"
   },
   {
    "duration": 248,
    "start_time": "2024-05-28T22:07:40.390Z"
   },
   {
    "duration": 375,
    "start_time": "2024-05-28T22:08:58.925Z"
   },
   {
    "duration": 329,
    "start_time": "2024-05-28T22:09:17.599Z"
   },
   {
    "duration": 383,
    "start_time": "2024-05-28T22:10:03.841Z"
   },
   {
    "duration": 448,
    "start_time": "2024-05-28T22:12:06.939Z"
   },
   {
    "duration": 311,
    "start_time": "2024-05-28T22:12:38.186Z"
   },
   {
    "duration": 314,
    "start_time": "2024-05-28T22:13:40.906Z"
   },
   {
    "duration": 13,
    "start_time": "2024-05-28T22:19:50.809Z"
   },
   {
    "duration": 124,
    "start_time": "2024-05-28T22:20:47.089Z"
   },
   {
    "duration": 96,
    "start_time": "2024-05-28T22:21:04.389Z"
   },
   {
    "duration": 70,
    "start_time": "2024-05-28T22:25:10.635Z"
   },
   {
    "duration": 4,
    "start_time": "2024-05-28T22:25:39.734Z"
   },
   {
    "duration": 7,
    "start_time": "2024-05-28T22:37:04.805Z"
   },
   {
    "duration": 6,
    "start_time": "2024-05-28T22:38:52.681Z"
   },
   {
    "duration": 58,
    "start_time": "2024-05-28T22:40:26.630Z"
   },
   {
    "duration": 7,
    "start_time": "2024-05-28T22:40:37.561Z"
   },
   {
    "duration": 118,
    "start_time": "2024-05-28T22:43:29.138Z"
   },
   {
    "duration": 3493,
    "start_time": "2024-05-28T22:43:52.873Z"
   },
   {
    "duration": 170,
    "start_time": "2024-05-28T22:46:06.885Z"
   },
   {
    "duration": 941,
    "start_time": "2024-05-28T22:47:51.154Z"
   },
   {
    "duration": 51,
    "start_time": "2024-05-29T10:45:16.143Z"
   },
   {
    "duration": 1549,
    "start_time": "2024-05-29T10:45:19.272Z"
   },
   {
    "duration": 390,
    "start_time": "2024-05-29T10:45:20.824Z"
   },
   {
    "duration": 27,
    "start_time": "2024-05-29T10:45:21.216Z"
   },
   {
    "duration": 19,
    "start_time": "2024-05-29T10:45:21.245Z"
   },
   {
    "duration": 28,
    "start_time": "2024-05-29T10:45:21.265Z"
   },
   {
    "duration": 10,
    "start_time": "2024-05-29T10:45:21.294Z"
   },
   {
    "duration": 25,
    "start_time": "2024-05-29T10:45:21.306Z"
   },
   {
    "duration": 30,
    "start_time": "2024-05-29T10:45:21.333Z"
   },
   {
    "duration": 27,
    "start_time": "2024-05-29T10:45:21.365Z"
   },
   {
    "duration": 28,
    "start_time": "2024-05-29T10:45:21.394Z"
   },
   {
    "duration": 35,
    "start_time": "2024-05-29T10:45:21.424Z"
   },
   {
    "duration": 41,
    "start_time": "2024-05-29T10:45:21.461Z"
   },
   {
    "duration": 26,
    "start_time": "2024-05-29T10:45:21.504Z"
   },
   {
    "duration": 5,
    "start_time": "2024-05-29T10:45:21.534Z"
   },
   {
    "duration": 22,
    "start_time": "2024-05-29T10:45:21.540Z"
   },
   {
    "duration": 19,
    "start_time": "2024-05-29T10:45:21.564Z"
   },
   {
    "duration": 9,
    "start_time": "2024-05-29T10:45:21.585Z"
   },
   {
    "duration": 70,
    "start_time": "2024-05-29T10:45:21.596Z"
   },
   {
    "duration": 9,
    "start_time": "2024-05-29T10:45:21.667Z"
   },
   {
    "duration": 17,
    "start_time": "2024-05-29T10:45:21.678Z"
   },
   {
    "duration": 14,
    "start_time": "2024-05-29T10:45:21.696Z"
   },
   {
    "duration": 7,
    "start_time": "2024-05-29T10:45:21.712Z"
   },
   {
    "duration": 16,
    "start_time": "2024-05-29T10:45:21.721Z"
   },
   {
    "duration": 33,
    "start_time": "2024-05-29T10:45:21.738Z"
   },
   {
    "duration": 12,
    "start_time": "2024-05-29T10:45:21.773Z"
   },
   {
    "duration": 267,
    "start_time": "2024-05-29T10:45:21.787Z"
   },
   {
    "duration": 25,
    "start_time": "2024-05-29T10:45:22.056Z"
   },
   {
    "duration": 36,
    "start_time": "2024-05-29T10:45:22.083Z"
   },
   {
    "duration": 22,
    "start_time": "2024-05-29T10:45:22.121Z"
   },
   {
    "duration": 43,
    "start_time": "2024-05-29T10:45:22.159Z"
   },
   {
    "duration": 14,
    "start_time": "2024-05-29T10:45:22.204Z"
   },
   {
    "duration": 38,
    "start_time": "2024-05-29T10:45:22.220Z"
   },
   {
    "duration": 359,
    "start_time": "2024-05-29T10:45:22.260Z"
   },
   {
    "duration": 7,
    "start_time": "2024-05-29T10:45:22.620Z"
   },
   {
    "duration": 211,
    "start_time": "2024-05-29T10:45:22.629Z"
   },
   {
    "duration": 81,
    "start_time": "2024-05-29T10:46:51.816Z"
   },
   {
    "duration": 24,
    "start_time": "2024-05-29T10:46:57.034Z"
   },
   {
    "duration": 29,
    "start_time": "2024-05-29T11:30:12.914Z"
   },
   {
    "duration": 226,
    "start_time": "2024-05-29T11:32:39.865Z"
   },
   {
    "duration": 132,
    "start_time": "2024-05-29T11:33:38.349Z"
   },
   {
    "duration": 147,
    "start_time": "2024-05-29T11:34:19.559Z"
   },
   {
    "duration": 13,
    "start_time": "2024-05-29T11:39:04.647Z"
   },
   {
    "duration": 11,
    "start_time": "2024-05-29T11:39:13.306Z"
   },
   {
    "duration": 12,
    "start_time": "2024-05-29T11:39:20.680Z"
   },
   {
    "duration": 112,
    "start_time": "2024-05-29T11:39:58.729Z"
   },
   {
    "duration": 11,
    "start_time": "2024-05-29T11:40:11.052Z"
   },
   {
    "duration": 145,
    "start_time": "2024-05-29T11:46:04.836Z"
   },
   {
    "duration": 129,
    "start_time": "2024-05-29T11:46:41.413Z"
   },
   {
    "duration": 122,
    "start_time": "2024-05-29T11:47:03.145Z"
   },
   {
    "duration": 127,
    "start_time": "2024-05-29T11:50:41.934Z"
   },
   {
    "duration": 10,
    "start_time": "2024-05-29T11:51:14.880Z"
   },
   {
    "duration": 10,
    "start_time": "2024-05-29T11:51:29.829Z"
   },
   {
    "duration": 126,
    "start_time": "2024-05-29T11:51:40.135Z"
   },
   {
    "duration": 92,
    "start_time": "2024-05-29T11:55:01.007Z"
   },
   {
    "duration": 78,
    "start_time": "2024-05-29T11:55:13.231Z"
   },
   {
    "duration": 53,
    "start_time": "2024-05-29T11:56:25.949Z"
   },
   {
    "duration": 81,
    "start_time": "2024-05-29T11:56:33.150Z"
   },
   {
    "duration": 80,
    "start_time": "2024-05-29T11:56:41.826Z"
   },
   {
    "duration": 85,
    "start_time": "2024-05-29T11:57:01.334Z"
   },
   {
    "duration": 89,
    "start_time": "2024-05-29T11:57:38.162Z"
   },
   {
    "duration": 256,
    "start_time": "2024-05-29T12:05:08.736Z"
   },
   {
    "duration": 141,
    "start_time": "2024-05-29T12:05:37.028Z"
   },
   {
    "duration": 140,
    "start_time": "2024-05-29T12:06:09.021Z"
   },
   {
    "duration": 154,
    "start_time": "2024-05-29T12:06:46.622Z"
   },
   {
    "duration": 187,
    "start_time": "2024-05-29T12:07:54.343Z"
   },
   {
    "duration": 138,
    "start_time": "2024-05-29T12:11:54.524Z"
   },
   {
    "duration": 149,
    "start_time": "2024-05-29T12:12:12.507Z"
   },
   {
    "duration": 160,
    "start_time": "2024-05-29T12:12:21.959Z"
   },
   {
    "duration": 111,
    "start_time": "2024-05-29T12:13:19.106Z"
   },
   {
    "duration": 126,
    "start_time": "2024-05-29T12:13:26.436Z"
   },
   {
    "duration": 57,
    "start_time": "2024-05-29T12:13:40.815Z"
   },
   {
    "duration": 116,
    "start_time": "2024-05-29T12:13:45.180Z"
   },
   {
    "duration": 72,
    "start_time": "2024-05-29T12:14:22.061Z"
   },
   {
    "duration": 7,
    "start_time": "2024-05-29T12:14:32.580Z"
   },
   {
    "duration": 7,
    "start_time": "2024-05-29T12:14:56.535Z"
   },
   {
    "duration": 6,
    "start_time": "2024-05-29T12:15:11.668Z"
   },
   {
    "duration": 6,
    "start_time": "2024-05-29T12:15:20.880Z"
   },
   {
    "duration": 81,
    "start_time": "2024-05-29T12:15:25.049Z"
   },
   {
    "duration": 7,
    "start_time": "2024-05-29T12:15:29.216Z"
   },
   {
    "duration": 1357,
    "start_time": "2024-05-29T18:48:31.972Z"
   },
   {
    "duration": 361,
    "start_time": "2024-05-29T18:48:33.331Z"
   },
   {
    "duration": 17,
    "start_time": "2024-05-29T18:48:33.693Z"
   },
   {
    "duration": 14,
    "start_time": "2024-05-29T18:48:33.711Z"
   },
   {
    "duration": 21,
    "start_time": "2024-05-29T18:48:33.726Z"
   },
   {
    "duration": 10,
    "start_time": "2024-05-29T18:48:33.748Z"
   },
   {
    "duration": 16,
    "start_time": "2024-05-29T18:48:33.759Z"
   },
   {
    "duration": 14,
    "start_time": "2024-05-29T18:48:33.777Z"
   },
   {
    "duration": 12,
    "start_time": "2024-05-29T18:48:33.792Z"
   },
   {
    "duration": 11,
    "start_time": "2024-05-29T18:48:33.805Z"
   },
   {
    "duration": 7,
    "start_time": "2024-05-29T18:48:33.817Z"
   },
   {
    "duration": 22,
    "start_time": "2024-05-29T18:48:33.825Z"
   },
   {
    "duration": 25,
    "start_time": "2024-05-29T18:48:33.872Z"
   },
   {
    "duration": 5,
    "start_time": "2024-05-29T18:48:33.901Z"
   },
   {
    "duration": 6,
    "start_time": "2024-05-29T18:48:33.908Z"
   },
   {
    "duration": 15,
    "start_time": "2024-05-29T18:48:33.916Z"
   },
   {
    "duration": 6,
    "start_time": "2024-05-29T18:48:33.933Z"
   },
   {
    "duration": 39,
    "start_time": "2024-05-29T18:48:33.971Z"
   },
   {
    "duration": 6,
    "start_time": "2024-05-29T18:48:34.012Z"
   },
   {
    "duration": 7,
    "start_time": "2024-05-29T18:48:34.020Z"
   },
   {
    "duration": 8,
    "start_time": "2024-05-29T18:48:34.029Z"
   },
   {
    "duration": 32,
    "start_time": "2024-05-29T18:48:34.039Z"
   },
   {
    "duration": 6,
    "start_time": "2024-05-29T18:48:34.073Z"
   },
   {
    "duration": 6,
    "start_time": "2024-05-29T18:48:34.080Z"
   },
   {
    "duration": 5,
    "start_time": "2024-05-29T18:48:34.088Z"
   },
   {
    "duration": 234,
    "start_time": "2024-05-29T18:48:34.095Z"
   },
   {
    "duration": 18,
    "start_time": "2024-05-29T18:48:34.330Z"
   },
   {
    "duration": 29,
    "start_time": "2024-05-29T18:48:34.349Z"
   },
   {
    "duration": 14,
    "start_time": "2024-05-29T18:48:34.380Z"
   },
   {
    "duration": 45,
    "start_time": "2024-05-29T18:48:34.395Z"
   },
   {
    "duration": 35,
    "start_time": "2024-05-29T18:48:34.442Z"
   },
   {
    "duration": 17,
    "start_time": "2024-05-29T18:48:34.479Z"
   },
   {
    "duration": 412,
    "start_time": "2024-05-29T18:48:34.497Z"
   },
   {
    "duration": 151,
    "start_time": "2024-05-29T18:48:34.910Z"
   },
   {
    "duration": 109,
    "start_time": "2024-05-29T18:48:35.062Z"
   },
   {
    "duration": 5,
    "start_time": "2024-05-29T18:48:35.173Z"
   },
   {
    "duration": 112,
    "start_time": "2024-05-29T18:48:35.179Z"
   },
   {
    "duration": 101,
    "start_time": "2024-05-29T19:03:31.327Z"
   },
   {
    "duration": 13,
    "start_time": "2024-05-29T19:04:12.376Z"
   },
   {
    "duration": 5,
    "start_time": "2024-05-29T19:04:54.859Z"
   },
   {
    "duration": 18,
    "start_time": "2024-05-29T19:05:13.086Z"
   },
   {
    "duration": 12,
    "start_time": "2024-05-29T19:15:35.476Z"
   },
   {
    "duration": 10,
    "start_time": "2024-05-29T19:26:20.388Z"
   },
   {
    "duration": 110,
    "start_time": "2024-05-29T19:30:15.075Z"
   },
   {
    "duration": 10,
    "start_time": "2024-05-29T19:30:29.219Z"
   },
   {
    "duration": 37,
    "start_time": "2024-05-29T19:30:31.030Z"
   },
   {
    "duration": 3,
    "start_time": "2024-05-29T19:30:41.315Z"
   },
   {
    "duration": 105,
    "start_time": "2024-05-29T19:30:41.320Z"
   },
   {
    "duration": 14,
    "start_time": "2024-05-29T19:30:41.427Z"
   },
   {
    "duration": 10,
    "start_time": "2024-05-29T19:30:41.442Z"
   },
   {
    "duration": 26,
    "start_time": "2024-05-29T19:30:41.453Z"
   },
   {
    "duration": 9,
    "start_time": "2024-05-29T19:30:41.480Z"
   },
   {
    "duration": 19,
    "start_time": "2024-05-29T19:30:41.490Z"
   },
   {
    "duration": 20,
    "start_time": "2024-05-29T19:30:41.510Z"
   },
   {
    "duration": 15,
    "start_time": "2024-05-29T19:30:41.532Z"
   },
   {
    "duration": 12,
    "start_time": "2024-05-29T19:30:41.548Z"
   },
   {
    "duration": 14,
    "start_time": "2024-05-29T19:30:41.561Z"
   },
   {
    "duration": 24,
    "start_time": "2024-05-29T19:30:41.576Z"
   },
   {
    "duration": 18,
    "start_time": "2024-05-29T19:30:41.601Z"
   },
   {
    "duration": 4,
    "start_time": "2024-05-29T19:30:41.622Z"
   },
   {
    "duration": 4,
    "start_time": "2024-05-29T19:30:41.628Z"
   },
   {
    "duration": 15,
    "start_time": "2024-05-29T19:30:41.633Z"
   },
   {
    "duration": 24,
    "start_time": "2024-05-29T19:30:41.649Z"
   },
   {
    "duration": 39,
    "start_time": "2024-05-29T19:30:41.675Z"
   },
   {
    "duration": 6,
    "start_time": "2024-05-29T19:30:41.716Z"
   },
   {
    "duration": 7,
    "start_time": "2024-05-29T19:30:41.723Z"
   },
   {
    "duration": 10,
    "start_time": "2024-05-29T19:30:41.731Z"
   },
   {
    "duration": 5,
    "start_time": "2024-05-29T19:30:41.742Z"
   },
   {
    "duration": 24,
    "start_time": "2024-05-29T19:30:41.748Z"
   },
   {
    "duration": 6,
    "start_time": "2024-05-29T19:30:41.773Z"
   },
   {
    "duration": 21,
    "start_time": "2024-05-29T19:30:41.780Z"
   },
   {
    "duration": 214,
    "start_time": "2024-05-29T19:30:41.803Z"
   },
   {
    "duration": 19,
    "start_time": "2024-05-29T19:30:42.018Z"
   },
   {
    "duration": 21,
    "start_time": "2024-05-29T19:30:42.039Z"
   },
   {
    "duration": 11,
    "start_time": "2024-05-29T19:30:42.070Z"
   },
   {
    "duration": 39,
    "start_time": "2024-05-29T19:30:42.083Z"
   },
   {
    "duration": 11,
    "start_time": "2024-05-29T19:30:42.124Z"
   },
   {
    "duration": 1122,
    "start_time": "2024-05-29T19:30:42.136Z"
   },
   {
    "duration": 0,
    "start_time": "2024-05-29T19:30:43.260Z"
   },
   {
    "duration": 0,
    "start_time": "2024-05-29T19:30:43.260Z"
   },
   {
    "duration": 0,
    "start_time": "2024-05-29T19:30:43.261Z"
   },
   {
    "duration": 0,
    "start_time": "2024-05-29T19:30:43.263Z"
   },
   {
    "duration": 0,
    "start_time": "2024-05-29T19:30:43.264Z"
   },
   {
    "duration": 0,
    "start_time": "2024-05-29T19:30:43.265Z"
   },
   {
    "duration": 4,
    "start_time": "2024-05-29T19:39:50.452Z"
   },
   {
    "duration": 7,
    "start_time": "2024-05-29T19:44:09.711Z"
   },
   {
    "duration": 19,
    "start_time": "2024-05-29T19:44:17.956Z"
   },
   {
    "duration": 10,
    "start_time": "2024-05-29T19:48:29.537Z"
   },
   {
    "duration": 4,
    "start_time": "2024-05-29T19:48:50.607Z"
   },
   {
    "duration": 3,
    "start_time": "2024-05-29T19:48:57.626Z"
   },
   {
    "duration": 92,
    "start_time": "2024-05-29T19:48:57.631Z"
   },
   {
    "duration": 15,
    "start_time": "2024-05-29T19:48:57.725Z"
   },
   {
    "duration": 10,
    "start_time": "2024-05-29T19:48:57.742Z"
   },
   {
    "duration": 24,
    "start_time": "2024-05-29T19:48:57.753Z"
   },
   {
    "duration": 9,
    "start_time": "2024-05-29T19:48:57.778Z"
   },
   {
    "duration": 7,
    "start_time": "2024-05-29T19:48:57.788Z"
   },
   {
    "duration": 14,
    "start_time": "2024-05-29T19:48:57.796Z"
   },
   {
    "duration": 12,
    "start_time": "2024-05-29T19:48:57.811Z"
   },
   {
    "duration": 11,
    "start_time": "2024-05-29T19:48:57.826Z"
   },
   {
    "duration": 7,
    "start_time": "2024-05-29T19:48:57.839Z"
   },
   {
    "duration": 21,
    "start_time": "2024-05-29T19:48:57.872Z"
   },
   {
    "duration": 21,
    "start_time": "2024-05-29T19:48:57.894Z"
   },
   {
    "duration": 5,
    "start_time": "2024-05-29T19:48:57.916Z"
   },
   {
    "duration": 12,
    "start_time": "2024-05-29T19:48:57.923Z"
   },
   {
    "duration": 40,
    "start_time": "2024-05-29T19:48:57.936Z"
   },
   {
    "duration": 5,
    "start_time": "2024-05-29T19:48:57.978Z"
   },
   {
    "duration": 40,
    "start_time": "2024-05-29T19:48:57.985Z"
   },
   {
    "duration": 7,
    "start_time": "2024-05-29T19:48:58.026Z"
   },
   {
    "duration": 7,
    "start_time": "2024-05-29T19:48:58.034Z"
   },
   {
    "duration": 32,
    "start_time": "2024-05-29T19:48:58.043Z"
   },
   {
    "duration": 6,
    "start_time": "2024-05-29T19:48:58.077Z"
   },
   {
    "duration": 5,
    "start_time": "2024-05-29T19:48:58.084Z"
   },
   {
    "duration": 12,
    "start_time": "2024-05-29T19:48:58.090Z"
   },
   {
    "duration": 5,
    "start_time": "2024-05-29T19:48:58.103Z"
   },
   {
    "duration": 208,
    "start_time": "2024-05-29T19:48:58.109Z"
   },
   {
    "duration": 18,
    "start_time": "2024-05-29T19:48:58.318Z"
   },
   {
    "duration": 36,
    "start_time": "2024-05-29T19:48:58.339Z"
   },
   {
    "duration": 14,
    "start_time": "2024-05-29T19:48:58.376Z"
   },
   {
    "duration": 39,
    "start_time": "2024-05-29T19:48:58.391Z"
   },
   {
    "duration": 16,
    "start_time": "2024-05-29T19:48:58.432Z"
   },
   {
    "duration": 22,
    "start_time": "2024-05-29T19:48:58.450Z"
   },
   {
    "duration": 23,
    "start_time": "2024-05-29T19:48:58.473Z"
   },
   {
    "duration": 275,
    "start_time": "2024-05-29T19:48:58.498Z"
   },
   {
    "duration": 148,
    "start_time": "2024-05-29T19:48:58.774Z"
   },
   {
    "duration": 106,
    "start_time": "2024-05-29T19:48:58.923Z"
   },
   {
    "duration": 5,
    "start_time": "2024-05-29T19:48:59.031Z"
   },
   {
    "duration": 107,
    "start_time": "2024-05-29T19:48:59.037Z"
   },
   {
    "duration": 11,
    "start_time": "2024-05-29T19:48:59.145Z"
   },
   {
    "duration": 15,
    "start_time": "2024-05-29T20:01:09.972Z"
   },
   {
    "duration": 39,
    "start_time": "2024-05-29T20:01:23.917Z"
   },
   {
    "duration": 16,
    "start_time": "2024-05-29T20:01:27.964Z"
   },
   {
    "duration": 4,
    "start_time": "2024-05-29T20:02:25.146Z"
   },
   {
    "duration": 7,
    "start_time": "2024-05-29T20:02:25.837Z"
   },
   {
    "duration": 20,
    "start_time": "2024-05-29T20:02:37.489Z"
   },
   {
    "duration": 274,
    "start_time": "2024-05-29T20:02:50.208Z"
   },
   {
    "duration": 142,
    "start_time": "2024-05-29T20:02:52.874Z"
   },
   {
    "duration": 176,
    "start_time": "2024-05-29T20:02:55.323Z"
   },
   {
    "duration": 6,
    "start_time": "2024-05-29T20:02:57.282Z"
   },
   {
    "duration": 103,
    "start_time": "2024-05-29T20:02:57.947Z"
   },
   {
    "duration": 8,
    "start_time": "2024-05-29T20:05:02.214Z"
   },
   {
    "duration": 4,
    "start_time": "2024-05-29T20:05:14.773Z"
   },
   {
    "duration": 20,
    "start_time": "2024-05-29T20:05:15.450Z"
   },
   {
    "duration": 15,
    "start_time": "2024-05-29T20:11:35.659Z"
   },
   {
    "duration": 15,
    "start_time": "2024-05-29T20:15:02.336Z"
   },
   {
    "duration": 1117,
    "start_time": "2024-05-29T20:15:13.979Z"
   },
   {
    "duration": 38,
    "start_time": "2024-05-29T20:16:06.535Z"
   },
   {
    "duration": 39,
    "start_time": "2024-05-29T20:17:55.214Z"
   },
   {
    "duration": 3,
    "start_time": "2024-05-29T20:36:03.087Z"
   },
   {
    "duration": 924,
    "start_time": "2024-05-29T20:36:03.628Z"
   },
   {
    "duration": 3,
    "start_time": "2024-05-29T20:37:34.918Z"
   },
   {
    "duration": 6,
    "start_time": "2024-05-29T20:48:57.409Z"
   },
   {
    "duration": 3,
    "start_time": "2024-05-29T20:49:01.066Z"
   },
   {
    "duration": 2,
    "start_time": "2024-05-29T20:49:01.715Z"
   },
   {
    "duration": 11,
    "start_time": "2024-05-29T20:49:02.338Z"
   },
   {
    "duration": 3,
    "start_time": "2024-05-29T20:50:10.910Z"
   },
   {
    "duration": 3,
    "start_time": "2024-05-29T20:50:14.121Z"
   },
   {
    "duration": 3,
    "start_time": "2024-05-29T20:50:14.789Z"
   },
   {
    "duration": 1357,
    "start_time": "2024-05-29T20:50:15.397Z"
   },
   {
    "duration": 3,
    "start_time": "2024-05-29T20:50:45.252Z"
   },
   {
    "duration": 4,
    "start_time": "2024-05-29T20:50:45.735Z"
   },
   {
    "duration": 10,
    "start_time": "2024-05-29T20:50:46.454Z"
   },
   {
    "duration": 24,
    "start_time": "2024-05-29T20:51:06.356Z"
   },
   {
    "duration": 3,
    "start_time": "2024-05-29T20:55:06.995Z"
   },
   {
    "duration": 3,
    "start_time": "2024-05-29T20:55:07.513Z"
   },
   {
    "duration": 18,
    "start_time": "2024-05-29T20:55:08.000Z"
   },
   {
    "duration": 7,
    "start_time": "2024-05-29T20:55:29.317Z"
   },
   {
    "duration": 3,
    "start_time": "2024-05-29T20:56:36.033Z"
   },
   {
    "duration": 3,
    "start_time": "2024-05-29T20:56:36.450Z"
   },
   {
    "duration": 16,
    "start_time": "2024-05-29T20:56:36.838Z"
   },
   {
    "duration": 3,
    "start_time": "2024-05-29T20:57:57.891Z"
   },
   {
    "duration": 3,
    "start_time": "2024-05-29T20:57:58.414Z"
   },
   {
    "duration": 930,
    "start_time": "2024-05-29T20:57:58.895Z"
   },
   {
    "duration": 3,
    "start_time": "2024-05-29T20:58:41.066Z"
   },
   {
    "duration": 3,
    "start_time": "2024-05-29T20:58:41.465Z"
   },
   {
    "duration": 953,
    "start_time": "2024-05-29T20:58:41.811Z"
   },
   {
    "duration": 1003,
    "start_time": "2024-05-29T21:00:28.235Z"
   },
   {
    "duration": 7,
    "start_time": "2024-06-03T19:20:52.688Z"
   },
   {
    "duration": 3,
    "start_time": "2024-06-03T19:20:53.186Z"
   },
   {
    "duration": 41,
    "start_time": "2024-06-03T19:20:57.243Z"
   },
   {
    "duration": 1272,
    "start_time": "2024-06-03T19:21:16.071Z"
   },
   {
    "duration": 205,
    "start_time": "2024-06-03T19:21:17.345Z"
   },
   {
    "duration": 14,
    "start_time": "2024-06-03T19:21:17.552Z"
   },
   {
    "duration": 12,
    "start_time": "2024-06-03T19:21:17.567Z"
   },
   {
    "duration": 19,
    "start_time": "2024-06-03T19:21:17.581Z"
   },
   {
    "duration": 16,
    "start_time": "2024-06-03T19:21:17.601Z"
   },
   {
    "duration": 50,
    "start_time": "2024-06-03T19:21:17.618Z"
   },
   {
    "duration": 31,
    "start_time": "2024-06-03T19:21:17.669Z"
   },
   {
    "duration": 14,
    "start_time": "2024-06-03T19:21:17.701Z"
   },
   {
    "duration": 35,
    "start_time": "2024-06-03T19:21:17.716Z"
   },
   {
    "duration": 10,
    "start_time": "2024-06-03T19:21:17.752Z"
   },
   {
    "duration": 22,
    "start_time": "2024-06-03T19:21:17.763Z"
   },
   {
    "duration": 21,
    "start_time": "2024-06-03T19:21:17.787Z"
   },
   {
    "duration": 4,
    "start_time": "2024-06-03T19:21:17.810Z"
   },
   {
    "duration": 19,
    "start_time": "2024-06-03T19:21:17.816Z"
   },
   {
    "duration": 21,
    "start_time": "2024-06-03T19:21:17.836Z"
   },
   {
    "duration": 4,
    "start_time": "2024-06-03T19:21:17.859Z"
   },
   {
    "duration": 39,
    "start_time": "2024-06-03T19:21:17.864Z"
   },
   {
    "duration": 5,
    "start_time": "2024-06-03T19:21:17.905Z"
   },
   {
    "duration": 8,
    "start_time": "2024-06-03T19:21:17.912Z"
   },
   {
    "duration": 17,
    "start_time": "2024-06-03T19:21:17.921Z"
   },
   {
    "duration": 8,
    "start_time": "2024-06-03T19:21:17.939Z"
   },
   {
    "duration": 3,
    "start_time": "2024-06-03T19:21:17.949Z"
   },
   {
    "duration": 10,
    "start_time": "2024-06-03T19:21:17.954Z"
   },
   {
    "duration": 5,
    "start_time": "2024-06-03T19:21:17.965Z"
   },
   {
    "duration": 187,
    "start_time": "2024-06-03T19:21:17.970Z"
   },
   {
    "duration": 15,
    "start_time": "2024-06-03T19:21:18.158Z"
   },
   {
    "duration": 29,
    "start_time": "2024-06-03T19:21:18.175Z"
   },
   {
    "duration": 13,
    "start_time": "2024-06-03T19:21:18.206Z"
   },
   {
    "duration": 33,
    "start_time": "2024-06-03T19:21:18.220Z"
   },
   {
    "duration": 10,
    "start_time": "2024-06-03T19:21:18.254Z"
   },
   {
    "duration": 23,
    "start_time": "2024-06-03T19:21:18.266Z"
   },
   {
    "duration": 45,
    "start_time": "2024-06-03T19:21:18.290Z"
   },
   {
    "duration": 384,
    "start_time": "2024-06-03T19:21:18.336Z"
   },
   {
    "duration": 127,
    "start_time": "2024-06-03T19:21:18.721Z"
   },
   {
    "duration": 91,
    "start_time": "2024-06-03T19:21:18.849Z"
   },
   {
    "duration": 5,
    "start_time": "2024-06-03T19:21:18.942Z"
   },
   {
    "duration": 97,
    "start_time": "2024-06-03T19:21:18.948Z"
   },
   {
    "duration": 33,
    "start_time": "2024-06-03T19:21:19.046Z"
   },
   {
    "duration": 5,
    "start_time": "2024-06-03T19:21:19.080Z"
   },
   {
    "duration": 14,
    "start_time": "2024-06-03T19:21:19.088Z"
   },
   {
    "duration": 942,
    "start_time": "2024-06-03T19:21:19.103Z"
   },
   {
    "duration": 858,
    "start_time": "2024-06-03T19:21:57.413Z"
   },
   {
    "duration": 4,
    "start_time": "2024-06-03T19:22:08.890Z"
   },
   {
    "duration": 924,
    "start_time": "2024-06-03T19:22:15.689Z"
   },
   {
    "duration": 3,
    "start_time": "2024-06-03T19:22:18.141Z"
   },
   {
    "duration": 982,
    "start_time": "2024-06-03T19:22:18.742Z"
   },
   {
    "duration": 3,
    "start_time": "2024-06-03T19:22:46.906Z"
   },
   {
    "duration": 19,
    "start_time": "2024-06-03T19:22:48.667Z"
   },
   {
    "duration": 20,
    "start_time": "2024-06-03T19:24:02.586Z"
   },
   {
    "duration": 10,
    "start_time": "2024-06-03T21:18:09.504Z"
   },
   {
    "duration": 51,
    "start_time": "2024-06-03T21:18:10.333Z"
   },
   {
    "duration": 1569,
    "start_time": "2024-06-03T21:18:13.210Z"
   },
   {
    "duration": 397,
    "start_time": "2024-06-03T21:18:14.781Z"
   },
   {
    "duration": 21,
    "start_time": "2024-06-03T21:18:15.180Z"
   },
   {
    "duration": 34,
    "start_time": "2024-06-03T21:18:15.202Z"
   },
   {
    "duration": 53,
    "start_time": "2024-06-03T21:18:15.238Z"
   },
   {
    "duration": 9,
    "start_time": "2024-06-03T21:18:15.293Z"
   },
   {
    "duration": 39,
    "start_time": "2024-06-03T21:18:15.304Z"
   },
   {
    "duration": 34,
    "start_time": "2024-06-03T21:18:15.345Z"
   },
   {
    "duration": 46,
    "start_time": "2024-06-03T21:18:15.381Z"
   },
   {
    "duration": 56,
    "start_time": "2024-06-03T21:18:15.428Z"
   },
   {
    "duration": 14,
    "start_time": "2024-06-03T21:18:15.486Z"
   },
   {
    "duration": 62,
    "start_time": "2024-06-03T21:18:15.501Z"
   },
   {
    "duration": 36,
    "start_time": "2024-06-03T21:18:15.565Z"
   },
   {
    "duration": 7,
    "start_time": "2024-06-03T21:18:15.604Z"
   },
   {
    "duration": 7,
    "start_time": "2024-06-03T21:18:15.612Z"
   },
   {
    "duration": 46,
    "start_time": "2024-06-03T21:18:15.620Z"
   },
   {
    "duration": 6,
    "start_time": "2024-06-03T21:18:15.670Z"
   },
   {
    "duration": 49,
    "start_time": "2024-06-03T21:18:15.678Z"
   },
   {
    "duration": 7,
    "start_time": "2024-06-03T21:18:15.729Z"
   },
   {
    "duration": 21,
    "start_time": "2024-06-03T21:18:15.738Z"
   },
   {
    "duration": 29,
    "start_time": "2024-06-03T21:18:15.760Z"
   },
   {
    "duration": 11,
    "start_time": "2024-06-03T21:18:15.791Z"
   },
   {
    "duration": 5,
    "start_time": "2024-06-03T21:18:15.803Z"
   },
   {
    "duration": 6,
    "start_time": "2024-06-03T21:18:15.810Z"
   },
   {
    "duration": 5,
    "start_time": "2024-06-03T21:18:15.817Z"
   },
   {
    "duration": 279,
    "start_time": "2024-06-03T21:18:15.823Z"
   },
   {
    "duration": 24,
    "start_time": "2024-06-03T21:18:16.103Z"
   },
   {
    "duration": 38,
    "start_time": "2024-06-03T21:18:16.128Z"
   },
   {
    "duration": 22,
    "start_time": "2024-06-03T21:18:16.168Z"
   },
   {
    "duration": 48,
    "start_time": "2024-06-03T21:18:16.192Z"
   },
   {
    "duration": 38,
    "start_time": "2024-06-03T21:18:16.242Z"
   },
   {
    "duration": 17,
    "start_time": "2024-06-03T21:18:16.282Z"
   },
   {
    "duration": 29,
    "start_time": "2024-06-03T21:18:16.300Z"
   },
   {
    "duration": 382,
    "start_time": "2024-06-03T21:18:16.331Z"
   },
   {
    "duration": 165,
    "start_time": "2024-06-03T21:18:16.715Z"
   },
   {
    "duration": 126,
    "start_time": "2024-06-03T21:18:16.882Z"
   },
   {
    "duration": 6,
    "start_time": "2024-06-03T21:18:17.011Z"
   },
   {
    "duration": 140,
    "start_time": "2024-06-03T21:18:17.019Z"
   },
   {
    "duration": 48,
    "start_time": "2024-06-03T21:18:17.161Z"
   },
   {
    "duration": 4,
    "start_time": "2024-06-03T21:18:17.211Z"
   },
   {
    "duration": 52,
    "start_time": "2024-06-03T21:18:17.219Z"
   },
   {
    "duration": 4,
    "start_time": "2024-06-03T21:19:12.105Z"
   },
   {
    "duration": 34,
    "start_time": "2024-06-03T21:19:14.243Z"
   },
   {
    "duration": 4,
    "start_time": "2024-06-03T21:24:31.655Z"
   },
   {
    "duration": 28,
    "start_time": "2024-06-03T21:24:33.587Z"
   },
   {
    "duration": 5,
    "start_time": "2024-06-03T21:25:39.517Z"
   },
   {
    "duration": 41,
    "start_time": "2024-06-03T21:25:40.003Z"
   },
   {
    "duration": 7,
    "start_time": "2024-06-03T21:27:36.943Z"
   },
   {
    "duration": 37,
    "start_time": "2024-06-03T21:27:37.397Z"
   },
   {
    "duration": 77,
    "start_time": "2024-06-03T21:28:48.689Z"
   },
   {
    "duration": 5,
    "start_time": "2024-06-03T21:28:54.664Z"
   },
   {
    "duration": 14,
    "start_time": "2024-06-03T21:28:55.178Z"
   },
   {
    "duration": 32,
    "start_time": "2024-06-03T21:29:05.706Z"
   },
   {
    "duration": 15,
    "start_time": "2024-06-03T21:31:34.881Z"
   },
   {
    "duration": 40,
    "start_time": "2024-06-03T21:31:46.011Z"
   },
   {
    "duration": 33,
    "start_time": "2024-06-03T21:31:54.289Z"
   },
   {
    "duration": 7,
    "start_time": "2024-06-03T21:37:22.066Z"
   },
   {
    "duration": 25,
    "start_time": "2024-06-03T21:37:42.451Z"
   },
   {
    "duration": 15,
    "start_time": "2024-06-03T21:39:06.797Z"
   },
   {
    "duration": 18,
    "start_time": "2024-06-03T21:39:09.272Z"
   },
   {
    "duration": 10,
    "start_time": "2024-06-03T21:39:09.934Z"
   },
   {
    "duration": 10,
    "start_time": "2024-06-03T21:39:21.933Z"
   },
   {
    "duration": 58,
    "start_time": "2024-06-03T21:42:32.056Z"
   },
   {
    "duration": 60,
    "start_time": "2024-06-03T21:42:37.139Z"
   },
   {
    "duration": 22,
    "start_time": "2024-06-03T21:44:28.157Z"
   },
   {
    "duration": 12,
    "start_time": "2024-06-03T21:44:46.598Z"
   },
   {
    "duration": 16,
    "start_time": "2024-06-03T21:46:53.733Z"
   },
   {
    "duration": 18,
    "start_time": "2024-06-03T21:47:03.481Z"
   },
   {
    "duration": 16,
    "start_time": "2024-06-03T21:47:17.718Z"
   },
   {
    "duration": 12,
    "start_time": "2024-06-03T21:47:59.370Z"
   },
   {
    "duration": 18,
    "start_time": "2024-06-03T21:48:51.921Z"
   },
   {
    "duration": 13,
    "start_time": "2024-06-03T21:50:23.249Z"
   },
   {
    "duration": 12,
    "start_time": "2024-06-03T21:50:34.917Z"
   },
   {
    "duration": 12,
    "start_time": "2024-06-03T21:51:03.896Z"
   },
   {
    "duration": 11,
    "start_time": "2024-06-03T21:51:10.768Z"
   },
   {
    "duration": 13,
    "start_time": "2024-06-03T21:51:17.052Z"
   },
   {
    "duration": 19,
    "start_time": "2024-06-03T21:54:39.069Z"
   },
   {
    "duration": 8,
    "start_time": "2024-06-03T21:54:56.545Z"
   },
   {
    "duration": 6,
    "start_time": "2024-06-03T21:55:13.768Z"
   },
   {
    "duration": 17,
    "start_time": "2024-06-03T21:55:18.062Z"
   },
   {
    "duration": 7,
    "start_time": "2024-06-03T21:55:22.312Z"
   },
   {
    "duration": 1150,
    "start_time": "2024-06-03T21:55:54.839Z"
   },
   {
    "duration": 10,
    "start_time": "2024-06-03T21:56:09.776Z"
   },
   {
    "duration": 12,
    "start_time": "2024-06-03T21:56:23.706Z"
   },
   {
    "duration": 10,
    "start_time": "2024-06-03T21:57:15.611Z"
   },
   {
    "duration": 45,
    "start_time": "2024-06-07T08:48:54.828Z"
   },
   {
    "duration": 1196,
    "start_time": "2024-06-07T08:48:59.951Z"
   },
   {
    "duration": 355,
    "start_time": "2024-06-07T08:49:01.149Z"
   },
   {
    "duration": 14,
    "start_time": "2024-06-07T08:49:01.505Z"
   },
   {
    "duration": 94,
    "start_time": "2024-06-07T08:49:01.521Z"
   },
   {
    "duration": 72,
    "start_time": "2024-06-07T08:49:01.617Z"
   },
   {
    "duration": 25,
    "start_time": "2024-06-07T08:49:01.690Z"
   },
   {
    "duration": 38,
    "start_time": "2024-06-07T08:49:01.716Z"
   },
   {
    "duration": 78,
    "start_time": "2024-06-07T08:49:01.755Z"
   },
   {
    "duration": 50,
    "start_time": "2024-06-07T08:49:01.834Z"
   },
   {
    "duration": 131,
    "start_time": "2024-06-07T08:49:01.885Z"
   },
   {
    "duration": 165,
    "start_time": "2024-06-07T08:49:02.017Z"
   },
   {
    "duration": 161,
    "start_time": "2024-06-07T08:49:02.183Z"
   },
   {
    "duration": 51,
    "start_time": "2024-06-07T08:49:02.346Z"
   },
   {
    "duration": 6,
    "start_time": "2024-06-07T08:49:02.400Z"
   },
   {
    "duration": 8,
    "start_time": "2024-06-07T08:49:02.408Z"
   },
   {
    "duration": 29,
    "start_time": "2024-06-07T08:49:02.417Z"
   },
   {
    "duration": 7,
    "start_time": "2024-06-07T08:49:02.447Z"
   },
   {
    "duration": 45,
    "start_time": "2024-06-07T08:49:02.455Z"
   },
   {
    "duration": 6,
    "start_time": "2024-06-07T08:49:02.501Z"
   },
   {
    "duration": 19,
    "start_time": "2024-06-07T08:49:02.508Z"
   },
   {
    "duration": 32,
    "start_time": "2024-06-07T08:49:02.528Z"
   },
   {
    "duration": 95,
    "start_time": "2024-06-07T08:49:02.561Z"
   },
   {
    "duration": 18,
    "start_time": "2024-06-07T08:49:02.657Z"
   },
   {
    "duration": 38,
    "start_time": "2024-06-07T08:49:02.676Z"
   },
   {
    "duration": 30,
    "start_time": "2024-06-07T08:49:02.715Z"
   },
   {
    "duration": 227,
    "start_time": "2024-06-07T08:49:02.746Z"
   },
   {
    "duration": 27,
    "start_time": "2024-06-07T08:49:02.975Z"
   },
   {
    "duration": 23,
    "start_time": "2024-06-07T08:49:03.003Z"
   },
   {
    "duration": 24,
    "start_time": "2024-06-07T08:49:03.027Z"
   },
   {
    "duration": 44,
    "start_time": "2024-06-07T08:49:03.052Z"
   },
   {
    "duration": 21,
    "start_time": "2024-06-07T08:49:03.097Z"
   },
   {
    "duration": 28,
    "start_time": "2024-06-07T08:49:03.119Z"
   },
   {
    "duration": 33,
    "start_time": "2024-06-07T08:49:03.148Z"
   },
   {
    "duration": 332,
    "start_time": "2024-06-07T08:49:03.182Z"
   },
   {
    "duration": 138,
    "start_time": "2024-06-07T08:49:03.515Z"
   },
   {
    "duration": 101,
    "start_time": "2024-06-07T08:49:03.654Z"
   },
   {
    "duration": 5,
    "start_time": "2024-06-07T08:49:03.757Z"
   },
   {
    "duration": 107,
    "start_time": "2024-06-07T08:49:03.764Z"
   },
   {
    "duration": 40,
    "start_time": "2024-06-07T08:49:03.873Z"
   },
   {
    "duration": 4,
    "start_time": "2024-06-07T08:49:03.914Z"
   },
   {
    "duration": 41,
    "start_time": "2024-06-07T08:49:03.921Z"
   },
   {
    "duration": 64,
    "start_time": "2024-06-07T08:49:03.964Z"
   },
   {
    "duration": 0,
    "start_time": "2024-06-07T08:49:04.029Z"
   },
   {
    "duration": 0,
    "start_time": "2024-06-07T08:49:04.030Z"
   },
   {
    "duration": 0,
    "start_time": "2024-06-07T08:49:04.031Z"
   },
   {
    "duration": 0,
    "start_time": "2024-06-07T08:49:04.032Z"
   },
   {
    "duration": 0,
    "start_time": "2024-06-07T08:49:04.033Z"
   },
   {
    "duration": 0,
    "start_time": "2024-06-07T08:49:04.034Z"
   },
   {
    "duration": 11,
    "start_time": "2024-06-07T08:49:16.577Z"
   },
   {
    "duration": 8,
    "start_time": "2024-06-07T08:50:12.730Z"
   },
   {
    "duration": 18,
    "start_time": "2024-06-07T08:50:55.505Z"
   },
   {
    "duration": 12,
    "start_time": "2024-06-07T08:51:17.260Z"
   },
   {
    "duration": 9,
    "start_time": "2024-06-07T08:52:02.774Z"
   },
   {
    "duration": 12,
    "start_time": "2024-06-07T08:52:35.873Z"
   },
   {
    "duration": 21,
    "start_time": "2024-06-07T08:55:14.633Z"
   },
   {
    "duration": 7,
    "start_time": "2024-06-07T09:22:04.646Z"
   },
   {
    "duration": 12,
    "start_time": "2024-06-07T09:22:30.109Z"
   },
   {
    "duration": 12,
    "start_time": "2024-06-07T09:22:57.941Z"
   },
   {
    "duration": 4,
    "start_time": "2024-06-07T09:26:38.914Z"
   },
   {
    "duration": 3,
    "start_time": "2024-06-07T09:26:48.246Z"
   },
   {
    "duration": 5,
    "start_time": "2024-06-07T09:28:37.099Z"
   },
   {
    "duration": 6,
    "start_time": "2024-06-07T09:31:07.398Z"
   },
   {
    "duration": 5,
    "start_time": "2024-06-07T09:31:43.979Z"
   },
   {
    "duration": 6,
    "start_time": "2024-06-07T09:33:10.686Z"
   },
   {
    "duration": 5,
    "start_time": "2024-06-07T09:33:49.557Z"
   },
   {
    "duration": 7,
    "start_time": "2024-06-07T09:34:10.078Z"
   },
   {
    "duration": 63,
    "start_time": "2024-06-07T09:37:41.338Z"
   },
   {
    "duration": 7,
    "start_time": "2024-06-07T09:38:02.303Z"
   },
   {
    "duration": 7,
    "start_time": "2024-06-07T09:38:35.507Z"
   },
   {
    "duration": 11,
    "start_time": "2024-06-07T09:38:44.863Z"
   },
   {
    "duration": 6,
    "start_time": "2024-06-07T09:38:52.998Z"
   },
   {
    "duration": 172,
    "start_time": "2024-06-07T09:45:15.147Z"
   },
   {
    "duration": 222,
    "start_time": "2024-06-07T09:45:43.343Z"
   },
   {
    "duration": 278,
    "start_time": "2024-06-07T09:50:34.230Z"
   },
   {
    "duration": 50,
    "start_time": "2024-06-08T18:03:17.918Z"
   },
   {
    "duration": 1543,
    "start_time": "2024-06-08T18:03:20.763Z"
   },
   {
    "duration": 221,
    "start_time": "2024-06-08T18:03:22.308Z"
   },
   {
    "duration": 23,
    "start_time": "2024-06-08T18:03:22.531Z"
   },
   {
    "duration": 33,
    "start_time": "2024-06-08T18:03:22.556Z"
   },
   {
    "duration": 36,
    "start_time": "2024-06-08T18:03:22.591Z"
   },
   {
    "duration": 10,
    "start_time": "2024-06-08T18:03:22.629Z"
   },
   {
    "duration": 26,
    "start_time": "2024-06-08T18:03:22.641Z"
   },
   {
    "duration": 38,
    "start_time": "2024-06-08T18:03:22.669Z"
   },
   {
    "duration": 67,
    "start_time": "2024-06-08T18:03:22.709Z"
   },
   {
    "duration": 42,
    "start_time": "2024-06-08T18:03:22.779Z"
   },
   {
    "duration": 25,
    "start_time": "2024-06-08T18:03:22.823Z"
   },
   {
    "duration": 32,
    "start_time": "2024-06-08T18:03:22.849Z"
   },
   {
    "duration": 26,
    "start_time": "2024-06-08T18:03:22.882Z"
   },
   {
    "duration": 11,
    "start_time": "2024-06-08T18:03:22.910Z"
   },
   {
    "duration": 13,
    "start_time": "2024-06-08T18:03:22.922Z"
   },
   {
    "duration": 41,
    "start_time": "2024-06-08T18:03:22.937Z"
   },
   {
    "duration": 30,
    "start_time": "2024-06-08T18:03:22.979Z"
   },
   {
    "duration": 59,
    "start_time": "2024-06-08T18:03:23.011Z"
   },
   {
    "duration": 8,
    "start_time": "2024-06-08T18:03:23.072Z"
   },
   {
    "duration": 23,
    "start_time": "2024-06-08T18:03:23.082Z"
   },
   {
    "duration": 13,
    "start_time": "2024-06-08T18:03:23.107Z"
   },
   {
    "duration": 8,
    "start_time": "2024-06-08T18:03:23.122Z"
   },
   {
    "duration": 20,
    "start_time": "2024-06-08T18:03:23.131Z"
   },
   {
    "duration": 24,
    "start_time": "2024-06-08T18:03:23.152Z"
   },
   {
    "duration": 23,
    "start_time": "2024-06-08T18:03:23.178Z"
   },
   {
    "duration": 283,
    "start_time": "2024-06-08T18:03:23.203Z"
   },
   {
    "duration": 25,
    "start_time": "2024-06-08T18:03:23.489Z"
   },
   {
    "duration": 39,
    "start_time": "2024-06-08T18:03:23.518Z"
   },
   {
    "duration": 20,
    "start_time": "2024-06-08T18:03:23.559Z"
   },
   {
    "duration": 73,
    "start_time": "2024-06-08T18:03:23.581Z"
   },
   {
    "duration": 15,
    "start_time": "2024-06-08T18:03:23.655Z"
   },
   {
    "duration": 29,
    "start_time": "2024-06-08T18:03:23.672Z"
   },
   {
    "duration": 35,
    "start_time": "2024-06-08T18:03:23.703Z"
   },
   {
    "duration": 414,
    "start_time": "2024-06-08T18:03:23.740Z"
   },
   {
    "duration": 164,
    "start_time": "2024-06-08T18:03:24.156Z"
   },
   {
    "duration": 124,
    "start_time": "2024-06-08T18:03:24.322Z"
   },
   {
    "duration": 6,
    "start_time": "2024-06-08T18:03:24.448Z"
   },
   {
    "duration": 147,
    "start_time": "2024-06-08T18:03:24.456Z"
   },
   {
    "duration": 55,
    "start_time": "2024-06-08T18:03:24.605Z"
   },
   {
    "duration": 5,
    "start_time": "2024-06-08T18:03:24.662Z"
   },
   {
    "duration": 37,
    "start_time": "2024-06-08T18:03:24.668Z"
   },
   {
    "duration": 8,
    "start_time": "2024-06-08T18:03:24.707Z"
   },
   {
    "duration": 32,
    "start_time": "2024-06-08T18:03:24.716Z"
   },
   {
    "duration": 38,
    "start_time": "2024-06-08T18:03:24.749Z"
   },
   {
    "duration": 56,
    "start_time": "2024-06-08T18:03:24.789Z"
   },
   {
    "duration": 51,
    "start_time": "2024-06-08T18:03:24.846Z"
   },
   {
    "duration": 49,
    "start_time": "2024-06-08T18:03:24.899Z"
   },
   {
    "duration": 15,
    "start_time": "2024-06-08T18:04:05.726Z"
   },
   {
    "duration": 13,
    "start_time": "2024-06-08T18:04:07.288Z"
   },
   {
    "duration": 12,
    "start_time": "2024-06-08T18:04:31.566Z"
   },
   {
    "duration": 17,
    "start_time": "2024-06-08T18:12:33.520Z"
   },
   {
    "duration": 13,
    "start_time": "2024-06-08T18:15:09.659Z"
   },
   {
    "duration": 15,
    "start_time": "2024-06-08T18:15:13.065Z"
   },
   {
    "duration": 13,
    "start_time": "2024-06-08T18:15:14.912Z"
   },
   {
    "duration": 14,
    "start_time": "2024-06-08T18:15:16.354Z"
   },
   {
    "duration": 15,
    "start_time": "2024-06-08T18:15:18.693Z"
   },
   {
    "duration": 37,
    "start_time": "2024-06-08T18:16:51.434Z"
   },
   {
    "duration": 14,
    "start_time": "2024-06-08T18:17:46.726Z"
   },
   {
    "duration": 14,
    "start_time": "2024-06-08T18:18:29.245Z"
   },
   {
    "duration": 13,
    "start_time": "2024-06-08T18:18:33.164Z"
   },
   {
    "duration": 16,
    "start_time": "2024-06-08T18:18:48.203Z"
   },
   {
    "duration": 91,
    "start_time": "2024-06-08T18:20:13.820Z"
   },
   {
    "duration": 9,
    "start_time": "2024-06-08T18:20:15.350Z"
   },
   {
    "duration": 4,
    "start_time": "2024-06-08T18:20:40.037Z"
   },
   {
    "duration": 127,
    "start_time": "2024-06-08T18:20:40.043Z"
   },
   {
    "duration": 30,
    "start_time": "2024-06-08T18:20:40.172Z"
   },
   {
    "duration": 17,
    "start_time": "2024-06-08T18:20:40.205Z"
   },
   {
    "duration": 28,
    "start_time": "2024-06-08T18:20:40.224Z"
   },
   {
    "duration": 11,
    "start_time": "2024-06-08T18:20:40.253Z"
   },
   {
    "duration": 13,
    "start_time": "2024-06-08T18:20:40.265Z"
   },
   {
    "duration": 25,
    "start_time": "2024-06-08T18:20:40.280Z"
   },
   {
    "duration": 47,
    "start_time": "2024-06-08T18:20:40.308Z"
   },
   {
    "duration": 24,
    "start_time": "2024-06-08T18:20:40.357Z"
   },
   {
    "duration": 18,
    "start_time": "2024-06-08T18:20:40.383Z"
   },
   {
    "duration": 37,
    "start_time": "2024-06-08T18:20:40.403Z"
   },
   {
    "duration": 22,
    "start_time": "2024-06-08T18:20:40.446Z"
   },
   {
    "duration": 5,
    "start_time": "2024-06-08T18:20:40.472Z"
   },
   {
    "duration": 5,
    "start_time": "2024-06-08T18:20:40.479Z"
   },
   {
    "duration": 15,
    "start_time": "2024-06-08T18:20:40.486Z"
   },
   {
    "duration": 6,
    "start_time": "2024-06-08T18:20:40.503Z"
   },
   {
    "duration": 90,
    "start_time": "2024-06-08T18:20:40.512Z"
   },
   {
    "duration": 10,
    "start_time": "2024-06-08T18:20:40.604Z"
   },
   {
    "duration": 33,
    "start_time": "2024-06-08T18:20:40.616Z"
   },
   {
    "duration": 9,
    "start_time": "2024-06-08T18:20:40.651Z"
   },
   {
    "duration": 20,
    "start_time": "2024-06-08T18:20:40.662Z"
   },
   {
    "duration": 7,
    "start_time": "2024-06-08T18:20:40.683Z"
   },
   {
    "duration": 16,
    "start_time": "2024-06-08T18:20:40.692Z"
   },
   {
    "duration": 5,
    "start_time": "2024-06-08T18:20:40.709Z"
   },
   {
    "duration": 313,
    "start_time": "2024-06-08T18:20:40.716Z"
   },
   {
    "duration": 29,
    "start_time": "2024-06-08T18:20:41.031Z"
   },
   {
    "duration": 23,
    "start_time": "2024-06-08T18:20:41.062Z"
   },
   {
    "duration": 17,
    "start_time": "2024-06-08T18:20:41.087Z"
   },
   {
    "duration": 69,
    "start_time": "2024-06-08T18:20:41.106Z"
   },
   {
    "duration": 15,
    "start_time": "2024-06-08T18:20:41.176Z"
   },
   {
    "duration": 9,
    "start_time": "2024-06-08T18:20:41.192Z"
   },
   {
    "duration": 26,
    "start_time": "2024-06-08T18:20:41.202Z"
   },
   {
    "duration": 340,
    "start_time": "2024-06-08T18:20:41.245Z"
   },
   {
    "duration": 194,
    "start_time": "2024-06-08T18:20:41.586Z"
   },
   {
    "duration": 129,
    "start_time": "2024-06-08T18:20:41.782Z"
   },
   {
    "duration": 7,
    "start_time": "2024-06-08T18:20:41.913Z"
   },
   {
    "duration": 148,
    "start_time": "2024-06-08T18:20:41.922Z"
   },
   {
    "duration": 47,
    "start_time": "2024-06-08T18:20:42.072Z"
   },
   {
    "duration": 5,
    "start_time": "2024-06-08T18:20:42.121Z"
   },
   {
    "duration": 52,
    "start_time": "2024-06-08T18:20:42.130Z"
   },
   {
    "duration": 16,
    "start_time": "2024-06-08T18:20:42.184Z"
   },
   {
    "duration": 53,
    "start_time": "2024-06-08T18:20:42.202Z"
   },
   {
    "duration": 25,
    "start_time": "2024-06-08T18:20:42.257Z"
   },
   {
    "duration": 20,
    "start_time": "2024-06-08T18:20:42.284Z"
   },
   {
    "duration": 12,
    "start_time": "2024-06-08T18:20:42.306Z"
   },
   {
    "duration": 28,
    "start_time": "2024-06-08T18:20:42.319Z"
   },
   {
    "duration": 14,
    "start_time": "2024-06-08T18:21:08.800Z"
   },
   {
    "duration": 14,
    "start_time": "2024-06-08T18:21:12.303Z"
   },
   {
    "duration": 15,
    "start_time": "2024-06-08T18:21:28.319Z"
   },
   {
    "duration": 14,
    "start_time": "2024-06-08T18:21:45.359Z"
   },
   {
    "duration": 9,
    "start_time": "2024-06-08T18:25:18.356Z"
   },
   {
    "duration": 6,
    "start_time": "2024-06-08T18:25:21.688Z"
   },
   {
    "duration": 5,
    "start_time": "2024-06-08T18:25:23.545Z"
   },
   {
    "duration": 5,
    "start_time": "2024-06-08T18:25:39.368Z"
   },
   {
    "duration": 5,
    "start_time": "2024-06-08T18:26:01.084Z"
   },
   {
    "duration": 4,
    "start_time": "2024-06-08T18:26:01.533Z"
   },
   {
    "duration": 5,
    "start_time": "2024-06-08T18:26:59.544Z"
   },
   {
    "duration": 19,
    "start_time": "2024-06-08T18:27:14.691Z"
   },
   {
    "duration": 12,
    "start_time": "2024-06-08T18:27:23.733Z"
   },
   {
    "duration": 5,
    "start_time": "2024-06-08T18:28:34.417Z"
   },
   {
    "duration": 6,
    "start_time": "2024-06-08T18:28:45.500Z"
   },
   {
    "duration": 5,
    "start_time": "2024-06-08T18:29:24.720Z"
   },
   {
    "duration": 5,
    "start_time": "2024-06-08T18:33:11.884Z"
   },
   {
    "duration": 9,
    "start_time": "2024-06-08T18:34:03.520Z"
   },
   {
    "duration": 9,
    "start_time": "2024-06-08T18:34:11.839Z"
   },
   {
    "duration": 6,
    "start_time": "2024-06-08T18:34:17.107Z"
   },
   {
    "duration": 5,
    "start_time": "2024-06-08T18:37:21.701Z"
   },
   {
    "duration": 13,
    "start_time": "2024-06-08T18:37:31.663Z"
   },
   {
    "duration": 4,
    "start_time": "2024-06-08T18:37:48.934Z"
   },
   {
    "duration": 4,
    "start_time": "2024-06-08T18:39:20.089Z"
   },
   {
    "duration": 4,
    "start_time": "2024-06-08T18:39:40.442Z"
   },
   {
    "duration": 12,
    "start_time": "2024-06-08T18:43:40.163Z"
   },
   {
    "duration": 5,
    "start_time": "2024-06-08T18:43:46.137Z"
   },
   {
    "duration": 5,
    "start_time": "2024-06-08T18:43:56.093Z"
   },
   {
    "duration": 6,
    "start_time": "2024-06-08T18:44:04.563Z"
   },
   {
    "duration": 16,
    "start_time": "2024-06-08T18:54:42.820Z"
   },
   {
    "duration": 17,
    "start_time": "2024-06-08T18:55:16.474Z"
   },
   {
    "duration": 20,
    "start_time": "2024-06-08T18:55:19.337Z"
   },
   {
    "duration": 16,
    "start_time": "2024-06-08T18:55:35.514Z"
   },
   {
    "duration": 14,
    "start_time": "2024-06-08T18:55:36.590Z"
   },
   {
    "duration": 14,
    "start_time": "2024-06-08T18:55:50.371Z"
   },
   {
    "duration": 5,
    "start_time": "2024-06-08T18:55:51.428Z"
   },
   {
    "duration": 16,
    "start_time": "2024-06-08T18:55:54.162Z"
   },
   {
    "duration": 19,
    "start_time": "2024-06-08T18:56:11.769Z"
   },
   {
    "duration": 16,
    "start_time": "2024-06-08T18:56:12.916Z"
   },
   {
    "duration": 17,
    "start_time": "2024-06-08T18:56:16.667Z"
   },
   {
    "duration": 44,
    "start_time": "2024-06-08T20:33:13.189Z"
   },
   {
    "duration": 1334,
    "start_time": "2024-06-08T20:33:16.704Z"
   },
   {
    "duration": 346,
    "start_time": "2024-06-08T20:33:18.040Z"
   },
   {
    "duration": 19,
    "start_time": "2024-06-08T20:33:18.388Z"
   },
   {
    "duration": 17,
    "start_time": "2024-06-08T20:33:18.409Z"
   },
   {
    "duration": 26,
    "start_time": "2024-06-08T20:33:18.428Z"
   },
   {
    "duration": 8,
    "start_time": "2024-06-08T20:33:18.455Z"
   },
   {
    "duration": 10,
    "start_time": "2024-06-08T20:33:18.464Z"
   },
   {
    "duration": 27,
    "start_time": "2024-06-08T20:33:18.476Z"
   },
   {
    "duration": 21,
    "start_time": "2024-06-08T20:33:18.505Z"
   },
   {
    "duration": 16,
    "start_time": "2024-06-08T20:33:18.527Z"
   },
   {
    "duration": 17,
    "start_time": "2024-06-08T20:33:18.545Z"
   },
   {
    "duration": 28,
    "start_time": "2024-06-08T20:33:18.563Z"
   },
   {
    "duration": 31,
    "start_time": "2024-06-08T20:33:18.592Z"
   },
   {
    "duration": 5,
    "start_time": "2024-06-08T20:33:18.626Z"
   },
   {
    "duration": 30,
    "start_time": "2024-06-08T20:33:18.633Z"
   },
   {
    "duration": 48,
    "start_time": "2024-06-08T20:33:18.665Z"
   },
   {
    "duration": 5,
    "start_time": "2024-06-08T20:33:18.715Z"
   },
   {
    "duration": 35,
    "start_time": "2024-06-08T20:33:18.721Z"
   },
   {
    "duration": 7,
    "start_time": "2024-06-08T20:33:18.758Z"
   },
   {
    "duration": 5,
    "start_time": "2024-06-08T20:33:18.766Z"
   },
   {
    "duration": 7,
    "start_time": "2024-06-08T20:33:18.772Z"
   },
   {
    "duration": 34,
    "start_time": "2024-06-08T20:33:18.780Z"
   },
   {
    "duration": 18,
    "start_time": "2024-06-08T20:33:18.816Z"
   },
   {
    "duration": 6,
    "start_time": "2024-06-08T20:33:18.835Z"
   },
   {
    "duration": 10,
    "start_time": "2024-06-08T20:33:18.842Z"
   },
   {
    "duration": 212,
    "start_time": "2024-06-08T20:33:18.853Z"
   },
   {
    "duration": 16,
    "start_time": "2024-06-08T20:33:19.066Z"
   },
   {
    "duration": 29,
    "start_time": "2024-06-08T20:33:19.083Z"
   },
   {
    "duration": 13,
    "start_time": "2024-06-08T20:33:19.113Z"
   },
   {
    "duration": 34,
    "start_time": "2024-06-08T20:33:19.127Z"
   },
   {
    "duration": 11,
    "start_time": "2024-06-08T20:33:19.162Z"
   },
   {
    "duration": 6,
    "start_time": "2024-06-08T20:33:19.174Z"
   },
   {
    "duration": 42,
    "start_time": "2024-06-08T20:33:19.181Z"
   },
   {
    "duration": 322,
    "start_time": "2024-06-08T20:33:19.224Z"
   },
   {
    "duration": 164,
    "start_time": "2024-06-08T20:33:19.547Z"
   },
   {
    "duration": 117,
    "start_time": "2024-06-08T20:33:19.712Z"
   },
   {
    "duration": 6,
    "start_time": "2024-06-08T20:33:19.831Z"
   },
   {
    "duration": 105,
    "start_time": "2024-06-08T20:33:19.839Z"
   },
   {
    "duration": 37,
    "start_time": "2024-06-08T20:33:19.945Z"
   },
   {
    "duration": 4,
    "start_time": "2024-06-08T20:33:19.983Z"
   },
   {
    "duration": 36,
    "start_time": "2024-06-08T20:33:19.990Z"
   },
   {
    "duration": 7,
    "start_time": "2024-06-08T20:33:20.027Z"
   },
   {
    "duration": 22,
    "start_time": "2024-06-08T20:33:20.035Z"
   },
   {
    "duration": 25,
    "start_time": "2024-06-08T20:33:20.058Z"
   },
   {
    "duration": 15,
    "start_time": "2024-06-08T20:33:20.085Z"
   },
   {
    "duration": 33,
    "start_time": "2024-06-08T20:33:20.108Z"
   },
   {
    "duration": 36,
    "start_time": "2024-06-08T20:33:20.142Z"
   },
   {
    "duration": 24,
    "start_time": "2024-06-08T20:33:20.180Z"
   },
   {
    "duration": 35,
    "start_time": "2024-06-08T20:33:20.205Z"
   },
   {
    "duration": 21,
    "start_time": "2024-06-08T20:33:20.242Z"
   },
   {
    "duration": 31,
    "start_time": "2024-06-08T20:33:20.264Z"
   },
   {
    "duration": 140,
    "start_time": "2024-06-08T20:33:37.288Z"
   },
   {
    "duration": 191,
    "start_time": "2024-06-08T20:34:20.191Z"
   },
   {
    "duration": 152,
    "start_time": "2024-06-08T20:34:49.846Z"
   },
   {
    "duration": 134,
    "start_time": "2024-06-08T20:35:04.758Z"
   },
   {
    "duration": 33,
    "start_time": "2024-06-08T20:35:51.340Z"
   },
   {
    "duration": 304,
    "start_time": "2024-06-08T21:34:34.105Z"
   },
   {
    "duration": 321,
    "start_time": "2024-06-08T21:34:41.503Z"
   },
   {
    "duration": 281,
    "start_time": "2024-06-08T21:35:00.416Z"
   },
   {
    "duration": 144,
    "start_time": "2024-06-08T21:35:04.546Z"
   },
   {
    "duration": 156,
    "start_time": "2024-06-08T21:35:14.201Z"
   },
   {
    "duration": 6,
    "start_time": "2024-06-08T21:35:17.715Z"
   },
   {
    "duration": 63,
    "start_time": "2024-06-08T21:36:02.877Z"
   },
   {
    "duration": 6,
    "start_time": "2024-06-08T21:36:09.916Z"
   },
   {
    "duration": 12,
    "start_time": "2024-06-08T21:37:23.602Z"
   },
   {
    "duration": 18,
    "start_time": "2024-06-08T21:37:43.440Z"
   },
   {
    "duration": 10,
    "start_time": "2024-06-08T21:37:48.244Z"
   },
   {
    "duration": 28,
    "start_time": "2024-06-08T21:37:48.761Z"
   },
   {
    "duration": 7,
    "start_time": "2024-06-08T21:38:07.091Z"
   },
   {
    "duration": 6,
    "start_time": "2024-06-08T21:40:18.850Z"
   },
   {
    "duration": 7,
    "start_time": "2024-06-08T21:40:30.870Z"
   },
   {
    "duration": 27,
    "start_time": "2024-06-08T21:40:42.039Z"
   },
   {
    "duration": 16,
    "start_time": "2024-06-08T21:42:13.550Z"
   },
   {
    "duration": 11,
    "start_time": "2024-06-08T21:43:55.802Z"
   },
   {
    "duration": 80,
    "start_time": "2024-06-08T21:48:05.915Z"
   },
   {
    "duration": 21,
    "start_time": "2024-06-08T21:57:34.111Z"
   },
   {
    "duration": 6,
    "start_time": "2024-06-08T21:57:43.434Z"
   },
   {
    "duration": 6,
    "start_time": "2024-06-08T21:57:58.564Z"
   },
   {
    "duration": 5,
    "start_time": "2024-06-08T21:58:28.214Z"
   },
   {
    "duration": 6,
    "start_time": "2024-06-08T21:58:44.324Z"
   },
   {
    "duration": 5,
    "start_time": "2024-06-08T22:01:34.380Z"
   },
   {
    "duration": 6,
    "start_time": "2024-06-08T22:01:39.174Z"
   },
   {
    "duration": 7,
    "start_time": "2024-06-08T22:02:21.200Z"
   },
   {
    "duration": 20,
    "start_time": "2024-06-08T22:06:04.862Z"
   },
   {
    "duration": 8,
    "start_time": "2024-06-08T22:07:37.257Z"
   },
   {
    "duration": 11,
    "start_time": "2024-06-08T22:08:11.216Z"
   },
   {
    "duration": 8,
    "start_time": "2024-06-08T22:08:19.775Z"
   },
   {
    "duration": 8,
    "start_time": "2024-06-08T22:09:07.611Z"
   },
   {
    "duration": 7,
    "start_time": "2024-06-08T22:10:14.998Z"
   },
   {
    "duration": 9,
    "start_time": "2024-06-08T22:10:35.501Z"
   },
   {
    "duration": 9,
    "start_time": "2024-06-08T22:40:08.598Z"
   },
   {
    "duration": 3,
    "start_time": "2024-06-08T22:41:19.125Z"
   },
   {
    "duration": 6,
    "start_time": "2024-06-08T22:41:23.896Z"
   },
   {
    "duration": 4,
    "start_time": "2024-06-08T22:44:01.832Z"
   },
   {
    "duration": 6,
    "start_time": "2024-06-08T22:44:13.638Z"
   },
   {
    "duration": 4,
    "start_time": "2024-06-08T22:44:20.641Z"
   },
   {
    "duration": 8,
    "start_time": "2024-06-08T22:45:18.774Z"
   },
   {
    "duration": 52,
    "start_time": "2024-06-08T22:47:57.933Z"
   },
   {
    "duration": 4,
    "start_time": "2024-06-08T22:48:15.245Z"
   },
   {
    "duration": 4,
    "start_time": "2024-06-08T22:48:31.522Z"
   },
   {
    "duration": 4,
    "start_time": "2024-06-08T22:48:47.503Z"
   },
   {
    "duration": 4,
    "start_time": "2024-06-08T22:49:02.305Z"
   },
   {
    "duration": 4,
    "start_time": "2024-06-08T22:49:18.771Z"
   },
   {
    "duration": 58,
    "start_time": "2024-06-08T22:49:31.981Z"
   },
   {
    "duration": 4,
    "start_time": "2024-06-08T22:49:42.771Z"
   },
   {
    "duration": 68,
    "start_time": "2024-06-08T22:51:12.339Z"
   },
   {
    "duration": 5,
    "start_time": "2024-06-08T22:51:40.755Z"
   },
   {
    "duration": 5,
    "start_time": "2024-06-08T22:51:49.427Z"
   },
   {
    "duration": 6,
    "start_time": "2024-06-08T23:03:40.620Z"
   },
   {
    "duration": 109,
    "start_time": "2024-06-08T23:06:32.782Z"
   },
   {
    "duration": 6,
    "start_time": "2024-06-08T23:06:48.416Z"
   },
   {
    "duration": 46,
    "start_time": "2024-06-09T20:25:16.452Z"
   },
   {
    "duration": 1397,
    "start_time": "2024-06-09T20:25:30.662Z"
   },
   {
    "duration": 212,
    "start_time": "2024-06-09T20:25:32.061Z"
   },
   {
    "duration": 19,
    "start_time": "2024-06-09T20:25:32.275Z"
   },
   {
    "duration": 14,
    "start_time": "2024-06-09T20:25:32.296Z"
   },
   {
    "duration": 23,
    "start_time": "2024-06-09T20:25:32.311Z"
   },
   {
    "duration": 10,
    "start_time": "2024-06-09T20:25:32.335Z"
   },
   {
    "duration": 24,
    "start_time": "2024-06-09T20:25:32.346Z"
   },
   {
    "duration": 16,
    "start_time": "2024-06-09T20:25:32.372Z"
   },
   {
    "duration": 16,
    "start_time": "2024-06-09T20:25:32.390Z"
   },
   {
    "duration": 12,
    "start_time": "2024-06-09T20:25:32.407Z"
   },
   {
    "duration": 7,
    "start_time": "2024-06-09T20:25:32.420Z"
   },
   {
    "duration": 45,
    "start_time": "2024-06-09T20:25:32.428Z"
   },
   {
    "duration": 22,
    "start_time": "2024-06-09T20:25:32.474Z"
   },
   {
    "duration": 4,
    "start_time": "2024-06-09T20:25:32.499Z"
   },
   {
    "duration": 11,
    "start_time": "2024-06-09T20:25:32.505Z"
   },
   {
    "duration": 23,
    "start_time": "2024-06-09T20:25:32.517Z"
   },
   {
    "duration": 4,
    "start_time": "2024-06-09T20:25:32.542Z"
   },
   {
    "duration": 50,
    "start_time": "2024-06-09T20:25:32.547Z"
   },
   {
    "duration": 5,
    "start_time": "2024-06-09T20:25:32.599Z"
   },
   {
    "duration": 6,
    "start_time": "2024-06-09T20:25:32.606Z"
   },
   {
    "duration": 7,
    "start_time": "2024-06-09T20:25:32.614Z"
   },
   {
    "duration": 6,
    "start_time": "2024-06-09T20:25:32.622Z"
   },
   {
    "duration": 5,
    "start_time": "2024-06-09T20:25:32.629Z"
   },
   {
    "duration": 31,
    "start_time": "2024-06-09T20:25:32.635Z"
   },
   {
    "duration": 5,
    "start_time": "2024-06-09T20:25:32.667Z"
   },
   {
    "duration": 227,
    "start_time": "2024-06-09T20:25:32.674Z"
   },
   {
    "duration": 21,
    "start_time": "2024-06-09T20:25:32.902Z"
   },
   {
    "duration": 24,
    "start_time": "2024-06-09T20:25:32.925Z"
   },
   {
    "duration": 15,
    "start_time": "2024-06-09T20:25:32.964Z"
   },
   {
    "duration": 40,
    "start_time": "2024-06-09T20:25:32.981Z"
   },
   {
    "duration": 15,
    "start_time": "2024-06-09T20:25:33.022Z"
   },
   {
    "duration": 59,
    "start_time": "2024-06-09T20:25:33.039Z"
   },
   {
    "duration": 91,
    "start_time": "2024-06-09T20:25:33.099Z"
   },
   {
    "duration": 15,
    "start_time": "2024-06-09T20:25:33.192Z"
   },
   {
    "duration": 396,
    "start_time": "2024-06-09T20:25:33.208Z"
   },
   {
    "duration": 142,
    "start_time": "2024-06-09T20:25:33.606Z"
   },
   {
    "duration": 119,
    "start_time": "2024-06-09T20:25:33.750Z"
   },
   {
    "duration": 6,
    "start_time": "2024-06-09T20:25:33.870Z"
   },
   {
    "duration": 112,
    "start_time": "2024-06-09T20:25:33.878Z"
   },
   {
    "duration": 46,
    "start_time": "2024-06-09T20:25:33.994Z"
   },
   {
    "duration": 4,
    "start_time": "2024-06-09T20:25:34.043Z"
   },
   {
    "duration": 39,
    "start_time": "2024-06-09T20:25:34.049Z"
   },
   {
    "duration": 66,
    "start_time": "2024-06-09T20:25:34.089Z"
   },
   {
    "duration": 9,
    "start_time": "2024-06-09T20:25:34.157Z"
   },
   {
    "duration": 11,
    "start_time": "2024-06-09T20:25:34.168Z"
   },
   {
    "duration": 13,
    "start_time": "2024-06-09T20:25:34.180Z"
   },
   {
    "duration": 5,
    "start_time": "2024-06-09T20:25:34.194Z"
   },
   {
    "duration": 13,
    "start_time": "2024-06-09T20:25:34.200Z"
   },
   {
    "duration": 13,
    "start_time": "2024-06-09T20:25:34.214Z"
   },
   {
    "duration": 6,
    "start_time": "2024-06-09T20:25:34.228Z"
   },
   {
    "duration": 16,
    "start_time": "2024-06-09T20:25:34.266Z"
   },
   {
    "duration": 6,
    "start_time": "2024-06-09T20:25:34.284Z"
   },
   {
    "duration": 14,
    "start_time": "2024-06-09T20:25:34.292Z"
   },
   {
    "duration": 10,
    "start_time": "2024-06-09T20:25:34.308Z"
   },
   {
    "duration": 6,
    "start_time": "2024-06-09T20:25:34.320Z"
   },
   {
    "duration": 39,
    "start_time": "2024-06-09T20:25:34.327Z"
   },
   {
    "duration": 6,
    "start_time": "2024-06-09T20:25:34.367Z"
   },
   {
    "duration": 7,
    "start_time": "2024-06-09T20:28:53.260Z"
   },
   {
    "duration": 74,
    "start_time": "2024-06-09T20:29:10.607Z"
   },
   {
    "duration": 65,
    "start_time": "2024-06-09T20:30:43.515Z"
   },
   {
    "duration": 69,
    "start_time": "2024-06-09T20:30:48.702Z"
   },
   {
    "duration": 44,
    "start_time": "2024-06-09T20:31:21.542Z"
   },
   {
    "duration": 14,
    "start_time": "2024-06-09T20:31:30.466Z"
   },
   {
    "duration": 12,
    "start_time": "2024-06-09T20:31:47.584Z"
   },
   {
    "duration": 10,
    "start_time": "2024-06-09T20:31:52.062Z"
   },
   {
    "duration": 16,
    "start_time": "2024-06-09T20:32:01.785Z"
   },
   {
    "duration": 18,
    "start_time": "2024-06-09T20:48:05.689Z"
   },
   {
    "duration": 14,
    "start_time": "2024-06-09T20:48:26.130Z"
   },
   {
    "duration": 3,
    "start_time": "2024-06-09T20:48:41.973Z"
   },
   {
    "duration": 135,
    "start_time": "2024-06-09T20:48:41.977Z"
   },
   {
    "duration": 16,
    "start_time": "2024-06-09T20:48:42.113Z"
   },
   {
    "duration": 11,
    "start_time": "2024-06-09T20:48:42.130Z"
   },
   {
    "duration": 83,
    "start_time": "2024-06-09T20:48:42.143Z"
   },
   {
    "duration": 47,
    "start_time": "2024-06-09T20:48:42.227Z"
   },
   {
    "duration": 7,
    "start_time": "2024-06-09T20:48:42.276Z"
   },
   {
    "duration": 12,
    "start_time": "2024-06-09T20:48:42.284Z"
   },
   {
    "duration": 12,
    "start_time": "2024-06-09T20:48:42.298Z"
   },
   {
    "duration": 12,
    "start_time": "2024-06-09T20:48:42.312Z"
   },
   {
    "duration": 40,
    "start_time": "2024-06-09T20:48:42.325Z"
   },
   {
    "duration": 20,
    "start_time": "2024-06-09T20:48:42.367Z"
   },
   {
    "duration": 19,
    "start_time": "2024-06-09T20:48:42.389Z"
   },
   {
    "duration": 4,
    "start_time": "2024-06-09T20:48:42.411Z"
   },
   {
    "duration": 17,
    "start_time": "2024-06-09T20:48:42.417Z"
   },
   {
    "duration": 30,
    "start_time": "2024-06-09T20:48:42.435Z"
   },
   {
    "duration": 6,
    "start_time": "2024-06-09T20:48:42.467Z"
   },
   {
    "duration": 34,
    "start_time": "2024-06-09T20:48:42.474Z"
   },
   {
    "duration": 7,
    "start_time": "2024-06-09T20:48:42.510Z"
   },
   {
    "duration": 6,
    "start_time": "2024-06-09T20:48:42.518Z"
   },
   {
    "duration": 40,
    "start_time": "2024-06-09T20:48:42.526Z"
   },
   {
    "duration": 7,
    "start_time": "2024-06-09T20:48:42.567Z"
   },
   {
    "duration": 5,
    "start_time": "2024-06-09T20:48:42.575Z"
   },
   {
    "duration": 4,
    "start_time": "2024-06-09T20:48:42.582Z"
   },
   {
    "duration": 4,
    "start_time": "2024-06-09T20:48:42.588Z"
   },
   {
    "duration": 219,
    "start_time": "2024-06-09T20:48:42.594Z"
   },
   {
    "duration": 19,
    "start_time": "2024-06-09T20:48:42.815Z"
   },
   {
    "duration": 39,
    "start_time": "2024-06-09T20:48:42.835Z"
   },
   {
    "duration": 14,
    "start_time": "2024-06-09T20:48:42.875Z"
   },
   {
    "duration": 35,
    "start_time": "2024-06-09T20:48:42.890Z"
   },
   {
    "duration": 12,
    "start_time": "2024-06-09T20:48:42.927Z"
   },
   {
    "duration": 24,
    "start_time": "2024-06-09T20:48:42.941Z"
   },
   {
    "duration": 20,
    "start_time": "2024-06-09T20:48:42.966Z"
   },
   {
    "duration": 14,
    "start_time": "2024-06-09T20:48:42.987Z"
   },
   {
    "duration": 347,
    "start_time": "2024-06-09T20:48:43.003Z"
   },
   {
    "duration": 143,
    "start_time": "2024-06-09T20:48:43.352Z"
   },
   {
    "duration": 105,
    "start_time": "2024-06-09T20:48:43.496Z"
   },
   {
    "duration": 6,
    "start_time": "2024-06-09T20:48:43.603Z"
   },
   {
    "duration": 114,
    "start_time": "2024-06-09T20:48:43.611Z"
   },
   {
    "duration": 61,
    "start_time": "2024-06-09T20:48:43.727Z"
   },
   {
    "duration": 5,
    "start_time": "2024-06-09T20:48:43.791Z"
   },
   {
    "duration": 32,
    "start_time": "2024-06-09T20:48:43.797Z"
   },
   {
    "duration": 8,
    "start_time": "2024-06-09T20:48:43.830Z"
   },
   {
    "duration": 30,
    "start_time": "2024-06-09T20:48:43.839Z"
   },
   {
    "duration": 19,
    "start_time": "2024-06-09T20:48:43.870Z"
   },
   {
    "duration": 18,
    "start_time": "2024-06-09T20:48:43.891Z"
   },
   {
    "duration": 12,
    "start_time": "2024-06-09T20:48:43.911Z"
   },
   {
    "duration": 16,
    "start_time": "2024-06-09T20:48:43.924Z"
   },
   {
    "duration": 27,
    "start_time": "2024-06-09T20:48:43.942Z"
   },
   {
    "duration": 77,
    "start_time": "2024-06-09T20:48:43.970Z"
   },
   {
    "duration": 21,
    "start_time": "2024-06-09T20:48:44.048Z"
   },
   {
    "duration": 22,
    "start_time": "2024-06-09T20:48:44.071Z"
   },
   {
    "duration": 21,
    "start_time": "2024-06-09T20:48:44.095Z"
   },
   {
    "duration": 11,
    "start_time": "2024-06-09T20:48:44.118Z"
   },
   {
    "duration": 5,
    "start_time": "2024-06-09T20:48:44.130Z"
   },
   {
    "duration": 6,
    "start_time": "2024-06-09T20:48:44.137Z"
   },
   {
    "duration": 18,
    "start_time": "2024-06-09T20:48:44.144Z"
   },
   {
    "duration": 10,
    "start_time": "2024-06-09T20:49:09.709Z"
   },
   {
    "duration": 10,
    "start_time": "2024-06-09T20:49:19.237Z"
   },
   {
    "duration": 14,
    "start_time": "2024-06-09T20:49:27.021Z"
   },
   {
    "duration": 9,
    "start_time": "2024-06-09T20:49:32.237Z"
   },
   {
    "duration": 14,
    "start_time": "2024-06-09T20:51:06.326Z"
   },
   {
    "duration": 12,
    "start_time": "2024-06-09T20:52:27.241Z"
   },
   {
    "duration": 55,
    "start_time": "2024-06-09T20:53:11.512Z"
   },
   {
    "duration": 16,
    "start_time": "2024-06-09T20:54:02.974Z"
   },
   {
    "duration": 20,
    "start_time": "2024-06-09T20:54:11.146Z"
   },
   {
    "duration": 15,
    "start_time": "2024-06-09T20:54:18.311Z"
   },
   {
    "duration": 1401,
    "start_time": "2024-06-15T05:32:06.393Z"
   },
   {
    "duration": 361,
    "start_time": "2024-06-15T05:32:07.796Z"
   },
   {
    "duration": 16,
    "start_time": "2024-06-15T05:32:08.158Z"
   },
   {
    "duration": 13,
    "start_time": "2024-06-15T05:32:08.176Z"
   },
   {
    "duration": 21,
    "start_time": "2024-06-15T05:32:08.191Z"
   },
   {
    "duration": 10,
    "start_time": "2024-06-15T05:32:08.213Z"
   },
   {
    "duration": 12,
    "start_time": "2024-06-15T05:32:08.224Z"
   },
   {
    "duration": 12,
    "start_time": "2024-06-15T05:32:08.238Z"
   },
   {
    "duration": 14,
    "start_time": "2024-06-15T05:32:08.252Z"
   },
   {
    "duration": 18,
    "start_time": "2024-06-15T05:32:08.269Z"
   },
   {
    "duration": 8,
    "start_time": "2024-06-15T05:32:08.310Z"
   },
   {
    "duration": 22,
    "start_time": "2024-06-15T05:32:08.320Z"
   },
   {
    "duration": 25,
    "start_time": "2024-06-15T05:32:08.343Z"
   },
   {
    "duration": 5,
    "start_time": "2024-06-15T05:32:08.370Z"
   },
   {
    "duration": 9,
    "start_time": "2024-06-15T05:32:08.377Z"
   },
   {
    "duration": 33,
    "start_time": "2024-06-15T05:32:08.387Z"
   },
   {
    "duration": 6,
    "start_time": "2024-06-15T05:32:08.422Z"
   },
   {
    "duration": 35,
    "start_time": "2024-06-15T05:32:08.429Z"
   },
   {
    "duration": 6,
    "start_time": "2024-06-15T05:32:08.465Z"
   },
   {
    "duration": 12,
    "start_time": "2024-06-15T05:32:08.472Z"
   },
   {
    "duration": 29,
    "start_time": "2024-06-15T05:32:08.485Z"
   },
   {
    "duration": 6,
    "start_time": "2024-06-15T05:32:08.515Z"
   },
   {
    "duration": 5,
    "start_time": "2024-06-15T05:32:08.522Z"
   },
   {
    "duration": 8,
    "start_time": "2024-06-15T05:32:08.528Z"
   },
   {
    "duration": 4,
    "start_time": "2024-06-15T05:32:08.537Z"
   },
   {
    "duration": 233,
    "start_time": "2024-06-15T05:32:08.543Z"
   },
   {
    "duration": 20,
    "start_time": "2024-06-15T05:32:08.778Z"
   },
   {
    "duration": 18,
    "start_time": "2024-06-15T05:32:08.812Z"
   },
   {
    "duration": 19,
    "start_time": "2024-06-15T05:32:08.832Z"
   },
   {
    "duration": 59,
    "start_time": "2024-06-15T05:32:08.852Z"
   },
   {
    "duration": 12,
    "start_time": "2024-06-15T05:32:08.912Z"
   },
   {
    "duration": 9,
    "start_time": "2024-06-15T05:32:08.926Z"
   },
   {
    "duration": 23,
    "start_time": "2024-06-15T05:32:08.936Z"
   },
   {
    "duration": 12,
    "start_time": "2024-06-15T05:32:08.960Z"
   },
   {
    "duration": 379,
    "start_time": "2024-06-15T05:32:08.974Z"
   },
   {
    "duration": 164,
    "start_time": "2024-06-15T05:32:09.354Z"
   },
   {
    "duration": 108,
    "start_time": "2024-06-15T05:32:09.520Z"
   },
   {
    "duration": 6,
    "start_time": "2024-06-15T05:32:09.630Z"
   },
   {
    "duration": 114,
    "start_time": "2024-06-15T05:32:09.638Z"
   },
   {
    "duration": 41,
    "start_time": "2024-06-15T05:32:09.754Z"
   },
   {
    "duration": 6,
    "start_time": "2024-06-15T05:32:09.810Z"
   },
   {
    "duration": 67,
    "start_time": "2024-06-15T05:32:09.818Z"
   },
   {
    "duration": 6,
    "start_time": "2024-06-15T05:32:09.887Z"
   },
   {
    "duration": 31,
    "start_time": "2024-06-15T05:32:09.894Z"
   },
   {
    "duration": 15,
    "start_time": "2024-06-15T05:32:09.927Z"
   },
   {
    "duration": 18,
    "start_time": "2024-06-15T05:32:09.943Z"
   },
   {
    "duration": 6,
    "start_time": "2024-06-15T05:32:09.962Z"
   },
   {
    "duration": 28,
    "start_time": "2024-06-15T05:32:09.970Z"
   },
   {
    "duration": 16,
    "start_time": "2024-06-15T05:32:10.000Z"
   },
   {
    "duration": 6,
    "start_time": "2024-06-15T05:32:10.018Z"
   },
   {
    "duration": 27,
    "start_time": "2024-06-15T05:32:10.025Z"
   },
   {
    "duration": 9,
    "start_time": "2024-06-15T05:32:10.054Z"
   },
   {
    "duration": 30,
    "start_time": "2024-06-15T05:32:10.064Z"
   },
   {
    "duration": 10,
    "start_time": "2024-06-15T05:32:10.096Z"
   },
   {
    "duration": 25,
    "start_time": "2024-06-15T05:32:10.107Z"
   },
   {
    "duration": 6,
    "start_time": "2024-06-15T05:32:10.134Z"
   },
   {
    "duration": 6,
    "start_time": "2024-06-15T05:32:10.141Z"
   },
   {
    "duration": 47,
    "start_time": "2024-06-15T10:22:42.404Z"
   },
   {
    "duration": 1278,
    "start_time": "2024-06-15T10:22:47.867Z"
   },
   {
    "duration": 365,
    "start_time": "2024-06-15T10:22:49.147Z"
   },
   {
    "duration": 16,
    "start_time": "2024-06-15T10:22:49.513Z"
   },
   {
    "duration": 13,
    "start_time": "2024-06-15T10:22:49.530Z"
   },
   {
    "duration": 18,
    "start_time": "2024-06-15T10:22:49.544Z"
   },
   {
    "duration": 9,
    "start_time": "2024-06-15T10:22:49.563Z"
   },
   {
    "duration": 26,
    "start_time": "2024-06-15T10:22:49.573Z"
   },
   {
    "duration": 12,
    "start_time": "2024-06-15T10:22:49.600Z"
   },
   {
    "duration": 12,
    "start_time": "2024-06-15T10:22:49.613Z"
   },
   {
    "duration": 34,
    "start_time": "2024-06-15T10:22:49.626Z"
   },
   {
    "duration": 46,
    "start_time": "2024-06-15T10:22:49.662Z"
   },
   {
    "duration": 19,
    "start_time": "2024-06-15T10:22:49.709Z"
   },
   {
    "duration": 20,
    "start_time": "2024-06-15T10:22:49.729Z"
   },
   {
    "duration": 4,
    "start_time": "2024-06-15T10:22:49.752Z"
   },
   {
    "duration": 14,
    "start_time": "2024-06-15T10:22:49.757Z"
   },
   {
    "duration": 18,
    "start_time": "2024-06-15T10:22:49.773Z"
   },
   {
    "duration": 4,
    "start_time": "2024-06-15T10:22:49.792Z"
   },
   {
    "duration": 34,
    "start_time": "2024-06-15T10:22:49.797Z"
   },
   {
    "duration": 6,
    "start_time": "2024-06-15T10:22:49.832Z"
   },
   {
    "duration": 20,
    "start_time": "2024-06-15T10:22:49.839Z"
   },
   {
    "duration": 36,
    "start_time": "2024-06-15T10:22:49.861Z"
   },
   {
    "duration": 6,
    "start_time": "2024-06-15T10:22:49.899Z"
   },
   {
    "duration": 9,
    "start_time": "2024-06-15T10:22:49.906Z"
   },
   {
    "duration": 3,
    "start_time": "2024-06-15T10:22:49.916Z"
   },
   {
    "duration": 6,
    "start_time": "2024-06-15T10:22:49.921Z"
   },
   {
    "duration": 202,
    "start_time": "2024-06-15T10:22:49.928Z"
   },
   {
    "duration": 16,
    "start_time": "2024-06-15T10:22:50.132Z"
   },
   {
    "duration": 17,
    "start_time": "2024-06-15T10:22:50.149Z"
   },
   {
    "duration": 29,
    "start_time": "2024-06-15T10:22:50.167Z"
   },
   {
    "duration": 32,
    "start_time": "2024-06-15T10:22:50.197Z"
   },
   {
    "duration": 10,
    "start_time": "2024-06-15T10:22:50.230Z"
   },
   {
    "duration": 36,
    "start_time": "2024-06-15T10:22:50.242Z"
   },
   {
    "duration": 21,
    "start_time": "2024-06-15T10:22:50.279Z"
   },
   {
    "duration": 10,
    "start_time": "2024-06-15T10:22:50.301Z"
   },
   {
    "duration": 339,
    "start_time": "2024-06-15T10:22:50.312Z"
   },
   {
    "duration": 136,
    "start_time": "2024-06-15T10:22:50.652Z"
   },
   {
    "duration": 108,
    "start_time": "2024-06-15T10:22:50.789Z"
   },
   {
    "duration": 6,
    "start_time": "2024-06-15T10:22:50.898Z"
   },
   {
    "duration": 95,
    "start_time": "2024-06-15T10:22:50.905Z"
   },
   {
    "duration": 33,
    "start_time": "2024-06-15T10:22:51.002Z"
   },
   {
    "duration": 4,
    "start_time": "2024-06-15T10:22:51.039Z"
   },
   {
    "duration": 41,
    "start_time": "2024-06-15T10:22:51.044Z"
   },
   {
    "duration": 166,
    "start_time": "2024-06-15T10:22:51.087Z"
   },
   {
    "duration": 0,
    "start_time": "2024-06-15T10:22:51.255Z"
   },
   {
    "duration": 0,
    "start_time": "2024-06-15T10:22:51.256Z"
   },
   {
    "duration": 0,
    "start_time": "2024-06-15T10:22:51.257Z"
   },
   {
    "duration": 0,
    "start_time": "2024-06-15T10:22:51.258Z"
   },
   {
    "duration": 0,
    "start_time": "2024-06-15T10:22:51.259Z"
   },
   {
    "duration": 0,
    "start_time": "2024-06-15T10:22:51.261Z"
   },
   {
    "duration": 0,
    "start_time": "2024-06-15T10:22:51.262Z"
   },
   {
    "duration": 0,
    "start_time": "2024-06-15T10:22:51.263Z"
   },
   {
    "duration": 0,
    "start_time": "2024-06-15T10:22:51.264Z"
   },
   {
    "duration": 0,
    "start_time": "2024-06-15T10:22:51.284Z"
   },
   {
    "duration": 0,
    "start_time": "2024-06-15T10:22:51.285Z"
   },
   {
    "duration": 0,
    "start_time": "2024-06-15T10:22:51.286Z"
   },
   {
    "duration": 0,
    "start_time": "2024-06-15T10:22:51.287Z"
   },
   {
    "duration": 0,
    "start_time": "2024-06-15T10:22:51.288Z"
   },
   {
    "duration": 0,
    "start_time": "2024-06-15T10:22:51.289Z"
   },
   {
    "duration": 2712,
    "start_time": "2024-06-15T10:25:34.265Z"
   },
   {
    "duration": 89,
    "start_time": "2024-06-15T10:28:17.643Z"
   },
   {
    "duration": 157,
    "start_time": "2024-06-15T10:28:43.763Z"
   },
   {
    "duration": 68,
    "start_time": "2024-06-15T11:04:45.697Z"
   },
   {
    "duration": 75,
    "start_time": "2024-06-15T11:08:13.424Z"
   },
   {
    "duration": 69,
    "start_time": "2024-06-15T11:09:19.033Z"
   },
   {
    "duration": 6,
    "start_time": "2024-06-15T11:11:40.855Z"
   },
   {
    "duration": 1031,
    "start_time": "2024-06-15T11:12:39.058Z"
   },
   {
    "duration": 994,
    "start_time": "2024-06-15T11:12:44.954Z"
   },
   {
    "duration": 81,
    "start_time": "2024-06-15T11:13:27.677Z"
   },
   {
    "duration": 85,
    "start_time": "2024-06-15T11:15:25.572Z"
   },
   {
    "duration": 90,
    "start_time": "2024-06-15T11:15:48.506Z"
   },
   {
    "duration": 83,
    "start_time": "2024-06-15T11:16:06.259Z"
   },
   {
    "duration": 111,
    "start_time": "2024-06-15T11:19:02.133Z"
   },
   {
    "duration": 12,
    "start_time": "2024-06-15T11:19:40.814Z"
   },
   {
    "duration": 101,
    "start_time": "2024-06-15T11:19:57.341Z"
   },
   {
    "duration": 81,
    "start_time": "2024-06-15T11:20:38.399Z"
   },
   {
    "duration": 106,
    "start_time": "2024-06-15T11:21:13.724Z"
   },
   {
    "duration": 112,
    "start_time": "2024-06-15T11:21:38.440Z"
   },
   {
    "duration": 157,
    "start_time": "2024-06-15T11:22:31.209Z"
   },
   {
    "duration": 123,
    "start_time": "2024-06-15T11:24:48.284Z"
   },
   {
    "duration": 2,
    "start_time": "2024-06-15T11:24:59.971Z"
   },
   {
    "duration": 90,
    "start_time": "2024-06-15T11:24:59.975Z"
   },
   {
    "duration": 13,
    "start_time": "2024-06-15T11:25:00.066Z"
   },
   {
    "duration": 55,
    "start_time": "2024-06-15T11:25:00.080Z"
   },
   {
    "duration": 34,
    "start_time": "2024-06-15T11:25:00.137Z"
   },
   {
    "duration": 9,
    "start_time": "2024-06-15T11:25:00.172Z"
   },
   {
    "duration": 33,
    "start_time": "2024-06-15T11:25:00.182Z"
   },
   {
    "duration": 29,
    "start_time": "2024-06-15T11:25:00.217Z"
   },
   {
    "duration": 46,
    "start_time": "2024-06-15T11:25:00.247Z"
   },
   {
    "duration": 40,
    "start_time": "2024-06-15T11:25:00.294Z"
   },
   {
    "duration": 53,
    "start_time": "2024-06-15T11:25:00.335Z"
   },
   {
    "duration": 58,
    "start_time": "2024-06-15T11:25:00.389Z"
   },
   {
    "duration": 52,
    "start_time": "2024-06-15T11:25:00.448Z"
   },
   {
    "duration": 37,
    "start_time": "2024-06-15T11:25:00.503Z"
   },
   {
    "duration": 51,
    "start_time": "2024-06-15T11:25:00.541Z"
   },
   {
    "duration": 53,
    "start_time": "2024-06-15T11:25:00.593Z"
   },
   {
    "duration": 36,
    "start_time": "2024-06-15T11:25:00.648Z"
   },
   {
    "duration": 69,
    "start_time": "2024-06-15T11:25:00.686Z"
   },
   {
    "duration": 29,
    "start_time": "2024-06-15T11:25:00.756Z"
   },
   {
    "duration": 59,
    "start_time": "2024-06-15T11:25:00.786Z"
   },
   {
    "duration": 78,
    "start_time": "2024-06-15T11:25:00.846Z"
   },
   {
    "duration": 19,
    "start_time": "2024-06-15T11:25:00.925Z"
   },
   {
    "duration": 31,
    "start_time": "2024-06-15T11:25:00.945Z"
   },
   {
    "duration": 24,
    "start_time": "2024-06-15T11:25:00.977Z"
   },
   {
    "duration": 51,
    "start_time": "2024-06-15T11:25:01.002Z"
   },
   {
    "duration": 194,
    "start_time": "2024-06-15T11:25:01.055Z"
   },
   {
    "duration": 15,
    "start_time": "2024-06-15T11:25:01.250Z"
   },
   {
    "duration": 38,
    "start_time": "2024-06-15T11:25:01.266Z"
   },
   {
    "duration": 32,
    "start_time": "2024-06-15T11:25:01.306Z"
   },
   {
    "duration": 102,
    "start_time": "2024-06-15T11:25:01.340Z"
   },
   {
    "duration": 11,
    "start_time": "2024-06-15T11:25:01.443Z"
   },
   {
    "duration": 17,
    "start_time": "2024-06-15T11:25:01.455Z"
   },
   {
    "duration": 20,
    "start_time": "2024-06-15T11:25:01.473Z"
   },
   {
    "duration": 45,
    "start_time": "2024-06-15T11:25:01.495Z"
   },
   {
    "duration": 315,
    "start_time": "2024-06-15T11:25:01.541Z"
   },
   {
    "duration": 144,
    "start_time": "2024-06-15T11:25:01.857Z"
   },
   {
    "duration": 97,
    "start_time": "2024-06-15T11:25:02.003Z"
   },
   {
    "duration": 5,
    "start_time": "2024-06-15T11:25:02.101Z"
   },
   {
    "duration": 104,
    "start_time": "2024-06-15T11:25:02.107Z"
   },
   {
    "duration": 36,
    "start_time": "2024-06-15T11:25:02.212Z"
   },
   {
    "duration": 4,
    "start_time": "2024-06-15T11:25:02.251Z"
   },
   {
    "duration": 38,
    "start_time": "2024-06-15T11:25:02.256Z"
   },
   {
    "duration": 98,
    "start_time": "2024-06-15T11:25:02.295Z"
   },
   {
    "duration": 5,
    "start_time": "2024-06-15T11:25:02.394Z"
   },
   {
    "duration": 125,
    "start_time": "2024-06-15T11:25:02.400Z"
   },
   {
    "duration": 6,
    "start_time": "2024-06-15T11:25:02.526Z"
   },
   {
    "duration": 25,
    "start_time": "2024-06-15T11:25:02.533Z"
   },
   {
    "duration": 10,
    "start_time": "2024-06-15T11:25:02.560Z"
   },
   {
    "duration": 26,
    "start_time": "2024-06-15T11:25:02.571Z"
   },
   {
    "duration": 10,
    "start_time": "2024-06-15T11:25:02.598Z"
   },
   {
    "duration": 11,
    "start_time": "2024-06-15T11:25:02.609Z"
   },
   {
    "duration": 10,
    "start_time": "2024-06-15T11:25:02.621Z"
   },
   {
    "duration": 22,
    "start_time": "2024-06-15T11:25:02.632Z"
   },
   {
    "duration": 14,
    "start_time": "2024-06-15T11:25:02.655Z"
   },
   {
    "duration": 26,
    "start_time": "2024-06-15T11:25:02.670Z"
   },
   {
    "duration": 20,
    "start_time": "2024-06-15T11:25:02.698Z"
   },
   {
    "duration": 7,
    "start_time": "2024-06-15T11:25:02.720Z"
   },
   {
    "duration": 6,
    "start_time": "2024-06-15T11:25:02.728Z"
   },
   {
    "duration": 9,
    "start_time": "2024-06-15T11:25:02.736Z"
   },
   {
    "duration": 17,
    "start_time": "2024-06-15T11:25:02.747Z"
   },
   {
    "duration": 120,
    "start_time": "2024-06-15T11:34:39.103Z"
   },
   {
    "duration": 14,
    "start_time": "2024-06-15T11:43:51.319Z"
   },
   {
    "duration": 111,
    "start_time": "2024-06-15T11:44:18.975Z"
   },
   {
    "duration": 12,
    "start_time": "2024-06-15T11:44:26.065Z"
   },
   {
    "duration": 11,
    "start_time": "2024-06-15T11:44:55.509Z"
   },
   {
    "duration": 10,
    "start_time": "2024-06-15T11:45:26.095Z"
   },
   {
    "duration": 10,
    "start_time": "2024-06-15T11:45:54.832Z"
   },
   {
    "duration": 11,
    "start_time": "2024-06-15T11:46:16.964Z"
   },
   {
    "duration": 10,
    "start_time": "2024-06-15T11:46:24.720Z"
   },
   {
    "duration": 83,
    "start_time": "2024-06-15T12:12:59.666Z"
   },
   {
    "duration": 962,
    "start_time": "2024-06-15T12:13:17.949Z"
   },
   {
    "duration": 1036,
    "start_time": "2024-06-15T12:13:51.675Z"
   },
   {
    "duration": 85,
    "start_time": "2024-06-15T12:14:00.171Z"
   },
   {
    "duration": 92,
    "start_time": "2024-06-15T12:14:15.425Z"
   },
   {
    "duration": 1116,
    "start_time": "2024-06-15T12:56:58.981Z"
   },
   {
    "duration": 91,
    "start_time": "2024-06-15T12:57:00.099Z"
   },
   {
    "duration": 14,
    "start_time": "2024-06-15T12:57:00.192Z"
   },
   {
    "duration": 32,
    "start_time": "2024-06-15T12:57:00.207Z"
   },
   {
    "duration": 68,
    "start_time": "2024-06-15T12:57:00.240Z"
   },
   {
    "duration": 8,
    "start_time": "2024-06-15T12:57:00.309Z"
   },
   {
    "duration": 33,
    "start_time": "2024-06-15T12:57:00.318Z"
   },
   {
    "duration": 53,
    "start_time": "2024-06-15T12:57:00.352Z"
   },
   {
    "duration": 64,
    "start_time": "2024-06-15T12:57:00.407Z"
   },
   {
    "duration": 26,
    "start_time": "2024-06-15T12:57:00.473Z"
   },
   {
    "duration": 32,
    "start_time": "2024-06-15T12:57:00.500Z"
   },
   {
    "duration": 32,
    "start_time": "2024-06-15T12:57:00.533Z"
   },
   {
    "duration": 46,
    "start_time": "2024-06-15T12:57:00.566Z"
   },
   {
    "duration": 23,
    "start_time": "2024-06-15T12:57:00.613Z"
   },
   {
    "duration": 32,
    "start_time": "2024-06-15T12:57:00.638Z"
   },
   {
    "duration": 30,
    "start_time": "2024-06-15T12:57:00.672Z"
   },
   {
    "duration": 39,
    "start_time": "2024-06-15T12:57:00.704Z"
   },
   {
    "duration": 62,
    "start_time": "2024-06-15T12:57:00.745Z"
   },
   {
    "duration": 6,
    "start_time": "2024-06-15T12:57:00.808Z"
   },
   {
    "duration": 37,
    "start_time": "2024-06-15T12:57:00.815Z"
   },
   {
    "duration": 40,
    "start_time": "2024-06-15T12:57:00.853Z"
   },
   {
    "duration": 62,
    "start_time": "2024-06-15T12:57:00.894Z"
   },
   {
    "duration": 24,
    "start_time": "2024-06-15T12:57:00.958Z"
   },
   {
    "duration": 44,
    "start_time": "2024-06-15T12:57:00.984Z"
   },
   {
    "duration": 38,
    "start_time": "2024-06-15T12:57:01.029Z"
   },
   {
    "duration": 288,
    "start_time": "2024-06-15T12:57:01.069Z"
   },
   {
    "duration": 16,
    "start_time": "2024-06-15T12:57:01.358Z"
   },
   {
    "duration": 17,
    "start_time": "2024-06-15T12:57:01.385Z"
   },
   {
    "duration": 15,
    "start_time": "2024-06-15T12:57:01.403Z"
   },
   {
    "duration": 74,
    "start_time": "2024-06-15T12:57:01.420Z"
   },
   {
    "duration": 14,
    "start_time": "2024-06-15T12:57:01.495Z"
   },
   {
    "duration": 37,
    "start_time": "2024-06-15T12:57:01.510Z"
   },
   {
    "duration": 36,
    "start_time": "2024-06-15T12:57:01.548Z"
   },
   {
    "duration": 26,
    "start_time": "2024-06-15T12:57:01.586Z"
   },
   {
    "duration": 343,
    "start_time": "2024-06-15T12:57:01.613Z"
   },
   {
    "duration": 137,
    "start_time": "2024-06-15T12:57:01.958Z"
   },
   {
    "duration": 101,
    "start_time": "2024-06-15T12:57:02.096Z"
   },
   {
    "duration": 6,
    "start_time": "2024-06-15T12:57:02.200Z"
   },
   {
    "duration": 108,
    "start_time": "2024-06-15T12:57:02.207Z"
   },
   {
    "duration": 37,
    "start_time": "2024-06-15T12:57:02.316Z"
   },
   {
    "duration": 4,
    "start_time": "2024-06-15T12:57:02.355Z"
   },
   {
    "duration": 42,
    "start_time": "2024-06-15T12:57:02.360Z"
   },
   {
    "duration": 102,
    "start_time": "2024-06-15T12:57:02.404Z"
   },
   {
    "duration": 149,
    "start_time": "2024-06-15T12:57:02.507Z"
   },
   {
    "duration": 149,
    "start_time": "2024-06-15T12:57:02.657Z"
   },
   {
    "duration": 6,
    "start_time": "2024-06-15T12:57:02.807Z"
   },
   {
    "duration": 7,
    "start_time": "2024-06-15T12:57:02.814Z"
   },
   {
    "duration": 39,
    "start_time": "2024-06-15T12:57:02.822Z"
   },
   {
    "duration": 31,
    "start_time": "2024-06-15T12:57:02.862Z"
   },
   {
    "duration": 15,
    "start_time": "2024-06-15T12:57:02.895Z"
   },
   {
    "duration": 10,
    "start_time": "2024-06-15T12:57:02.911Z"
   },
   {
    "duration": 12,
    "start_time": "2024-06-15T12:57:02.923Z"
   },
   {
    "duration": 8,
    "start_time": "2024-06-15T12:57:02.936Z"
   },
   {
    "duration": 10,
    "start_time": "2024-06-15T12:57:02.945Z"
   },
   {
    "duration": 4,
    "start_time": "2024-06-15T12:57:02.956Z"
   },
   {
    "duration": 28,
    "start_time": "2024-06-15T12:57:02.961Z"
   },
   {
    "duration": 7,
    "start_time": "2024-06-15T12:57:02.990Z"
   },
   {
    "duration": 4,
    "start_time": "2024-06-15T12:57:02.999Z"
   },
   {
    "duration": 10,
    "start_time": "2024-06-15T12:57:03.004Z"
   },
   {
    "duration": 6,
    "start_time": "2024-06-15T12:57:03.015Z"
   }
  ],
  "kernelspec": {
   "display_name": "Python 3 (ipykernel)",
   "language": "python",
   "name": "python3"
  },
  "language_info": {
   "codemirror_mode": {
    "name": "ipython",
    "version": 3
   },
   "file_extension": ".py",
   "mimetype": "text/x-python",
   "name": "python",
   "nbconvert_exporter": "python",
   "pygments_lexer": "ipython3",
   "version": "3.12.4"
  },
  "toc": {
   "base_numbering": 1,
   "nav_menu": {},
   "number_sections": true,
   "sideBar": true,
   "skip_h1_title": true,
   "title_cell": "Содержание",
   "title_sidebar": "Contents",
   "toc_cell": true,
   "toc_position": {
    "height": "calc(100% - 180px)",
    "left": "10px",
    "top": "150px",
    "width": "384px"
   },
   "toc_section_display": true,
   "toc_window_display": true
  }
 },
 "nbformat": 4,
 "nbformat_minor": 4
}
