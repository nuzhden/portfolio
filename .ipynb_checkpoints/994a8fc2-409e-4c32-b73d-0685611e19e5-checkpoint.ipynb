{
 "cells": [
  {
   "cell_type": "markdown",
   "metadata": {},
   "source": [
    "<div style=\"border:solid green 2px; padding: 20px\">\n",
    "\n",
    "<b>Привет, Ксения\n",
    "    !</b>\n",
    "\n",
    "Меня зовут Алина Соловьева и я буду проверять твою работу. Попробую помочь сделать тебе её еще лучше! В Практикуме принято общение на ты, но если это дискомфортно, то сообщи об этом)\n",
    "\n",
    "Ниже ты найдешь мои комментарии - пожалуйста, не перемещай, не изменяй и не удаляй их. Я буду использовать цветовую разметку:\n",
    "\n",
    "<div class=\"alert alert-danger\">\n",
    "<b>Комментарий ревьюера:</b>☁️Так выделены самые важные замечания. Без их отработки проект не будет принят. </div>\n",
    "\n",
    "<div class=\"alert alert-warning\">\n",
    "<b>Комментарий ревьюера:</b>⛅️ Так выделены небольшие замечания.Такие замечания в проекте допустимы, это пространство для улучшений в будущем.\n",
    "</div>\n",
    "\n",
    "<div class=\"alert alert-success\">\n",
    "<b>Комментарий ревьюера:</b>☀️Так я выделяю успешные идеи.</div>\n",
    "\n",
    "Давай работать над проектом в диалоге: если ты что-то меняешь в проекте или отвечаешь на мои комментарии — пиши об этом. Мне будет легче отследить изменения, если ты выделишь свои комментарии:\n",
    "\n",
    "<div class=\"alert alert-info\"> <b>Комментарий студента:</b> Например, вот так.</div>    \n",
    "\n",
    "Всё это поможет выполнить повторную проверку твоего проекта оперативнее."
   ]
  },
  {
   "cell_type": "markdown",
   "metadata": {},
   "source": [
    "# Исследование объявлений о продаже квартир"
   ]
  },
  {
   "cell_type": "markdown",
   "metadata": {},
   "source": [
    "**Цели и задачи проекта**<br>\n",
    "Цель проекта - определение рыночной стоимости объектов недвижимости Санкт-Петербурга и соседних населенных пунктов. Задачи: изучить и описать параметры, изучить как быстро продавались квартиры, установить какие факторы больше всего влияют на рыночную стоимость, посчитать среднюю цену одного квадратного метра, определить зависимость стоимости объектов от расстояния до центра города.<br>\n",
    "**План работы**<br>\n",
    "Изучить общую информацию, провести предобработку данных, добавить нужные расчеты, провести исследовательский анализ данных<br>"
   ]
  },
  {
   "cell_type": "markdown",
   "metadata": {
    "toc": true
   },
   "source": [
    "<h1>Содержание<span class=\"tocSkip\"></span></h1>\n",
    "<div class=\"toc\"><ul class=\"toc-item\"><li><span><a href=\"#Изучение-общей-информации\" data-toc-modified-id=\"Изучение-общей-информации-1\"><span class=\"toc-item-num\">1&nbsp;&nbsp;</span>Изучение общей информации</a></span></li><li><span><a href=\"#Предобработка-данных\" data-toc-modified-id=\"Предобработка-данных-2\"><span class=\"toc-item-num\">2&nbsp;&nbsp;</span>Предобработка данных</a></span></li><li><span><a href=\"#Добавление-новых-столбцов\" data-toc-modified-id=\"Добавление-новых-столбцов-3\"><span class=\"toc-item-num\">3&nbsp;&nbsp;</span>Добавление новых столбцов</a></span></li><li><span><a href=\"#Исследовательский-анализ-данных\" data-toc-modified-id=\"Исследовательский-анализ-данных-4\"><span class=\"toc-item-num\">4&nbsp;&nbsp;</span>Исследовательский анализ данных</a></span></li><li><span><a href=\"#Общий-вывод\" data-toc-modified-id=\"Общий-вывод-5\"><span class=\"toc-item-num\">5&nbsp;&nbsp;</span>Общий вывод</a></span></li></ul></div>"
   ]
  },
  {
   "cell_type": "markdown",
   "metadata": {},
   "source": [
    "\n",
    "<div class=\"alert alert-success\">\n",
    "<b>Комментарий ревьюера:</b>☀️Хорошо, что есть введение - это важная часть проекта.</div>"
   ]
  },
  {
   "cell_type": "markdown",
   "metadata": {},
   "source": [
    "### Изучение общей информации"
   ]
  },
  {
   "cell_type": "code",
   "execution_count": 1,
   "metadata": {},
   "outputs": [],
   "source": [
    "#импортируем библиотеки\n",
    "import pandas as pd\n",
    "import matplotlib.pyplot as plt\n",
    "import seaborn as sns"
   ]
  },
  {
   "cell_type": "code",
   "execution_count": 2,
   "metadata": {},
   "outputs": [],
   "source": [
    "#открываем файл\n",
    "data = pd.read_csv('/datasets/real_estate_data.csv', sep='\\t')  "
   ]
  },
  {
   "cell_type": "markdown",
   "metadata": {},
   "source": [
    "\n",
    "<div class=\"alert alert-warning\">\n",
    "<b>Комментарий ревьюера:</b>☀️В будущем для подгрузки данных рекомендую использовать конструкцию try-except или os.path, так удобнее работать с файлом локально. Также советую разделять импорт библиотек и чтение файла по ячейкам.</div>"
   ]
  },
  {
   "cell_type": "code",
   "execution_count": 3,
   "metadata": {},
   "outputs": [
    {
     "name": "stdout",
     "output_type": "stream",
     "text": [
      "<class 'pandas.core.frame.DataFrame'>\n",
      "RangeIndex: 23699 entries, 0 to 23698\n",
      "Data columns (total 22 columns):\n",
      " #   Column                Non-Null Count  Dtype  \n",
      "---  ------                --------------  -----  \n",
      " 0   total_images          23699 non-null  int64  \n",
      " 1   last_price            23699 non-null  float64\n",
      " 2   total_area            23699 non-null  float64\n",
      " 3   first_day_exposition  23699 non-null  object \n",
      " 4   rooms                 23699 non-null  int64  \n",
      " 5   ceiling_height        14504 non-null  float64\n",
      " 6   floors_total          23613 non-null  float64\n",
      " 7   living_area           21796 non-null  float64\n",
      " 8   floor                 23699 non-null  int64  \n",
      " 9   is_apartment          2775 non-null   object \n",
      " 10  studio                23699 non-null  bool   \n",
      " 11  open_plan             23699 non-null  bool   \n",
      " 12  kitchen_area          21421 non-null  float64\n",
      " 13  balcony               12180 non-null  float64\n",
      " 14  locality_name         23650 non-null  object \n",
      " 15  airports_nearest      18157 non-null  float64\n",
      " 16  cityCenters_nearest   18180 non-null  float64\n",
      " 17  parks_around3000      18181 non-null  float64\n",
      " 18  parks_nearest         8079 non-null   float64\n",
      " 19  ponds_around3000      18181 non-null  float64\n",
      " 20  ponds_nearest         9110 non-null   float64\n",
      " 21  days_exposition       20518 non-null  float64\n",
      "dtypes: bool(2), float64(14), int64(3), object(3)\n",
      "memory usage: 3.7+ MB\n"
     ]
    }
   ],
   "source": [
    "#выводим основную информацию о датафрейме\n",
    "data.info()"
   ]
  },
  {
   "cell_type": "code",
   "execution_count": 4,
   "metadata": {
    "scrolled": true
   },
   "outputs": [
    {
     "data": {
      "text/html": [
       "<div>\n",
       "<style scoped>\n",
       "    .dataframe tbody tr th:only-of-type {\n",
       "        vertical-align: middle;\n",
       "    }\n",
       "\n",
       "    .dataframe tbody tr th {\n",
       "        vertical-align: top;\n",
       "    }\n",
       "\n",
       "    .dataframe thead th {\n",
       "        text-align: right;\n",
       "    }\n",
       "</style>\n",
       "<table border=\"1\" class=\"dataframe\">\n",
       "  <thead>\n",
       "    <tr style=\"text-align: right;\">\n",
       "      <th></th>\n",
       "      <th>total_images</th>\n",
       "      <th>last_price</th>\n",
       "      <th>total_area</th>\n",
       "      <th>first_day_exposition</th>\n",
       "      <th>rooms</th>\n",
       "      <th>ceiling_height</th>\n",
       "      <th>floors_total</th>\n",
       "      <th>living_area</th>\n",
       "      <th>floor</th>\n",
       "      <th>is_apartment</th>\n",
       "      <th>...</th>\n",
       "      <th>kitchen_area</th>\n",
       "      <th>balcony</th>\n",
       "      <th>locality_name</th>\n",
       "      <th>airports_nearest</th>\n",
       "      <th>cityCenters_nearest</th>\n",
       "      <th>parks_around3000</th>\n",
       "      <th>parks_nearest</th>\n",
       "      <th>ponds_around3000</th>\n",
       "      <th>ponds_nearest</th>\n",
       "      <th>days_exposition</th>\n",
       "    </tr>\n",
       "  </thead>\n",
       "  <tbody>\n",
       "    <tr>\n",
       "      <th>0</th>\n",
       "      <td>20</td>\n",
       "      <td>13000000.0</td>\n",
       "      <td>108.00</td>\n",
       "      <td>2019-03-07T00:00:00</td>\n",
       "      <td>3</td>\n",
       "      <td>2.70</td>\n",
       "      <td>16.0</td>\n",
       "      <td>51.00</td>\n",
       "      <td>8</td>\n",
       "      <td>NaN</td>\n",
       "      <td>...</td>\n",
       "      <td>25.00</td>\n",
       "      <td>NaN</td>\n",
       "      <td>Санкт-Петербург</td>\n",
       "      <td>18863.0</td>\n",
       "      <td>16028.0</td>\n",
       "      <td>1.0</td>\n",
       "      <td>482.0</td>\n",
       "      <td>2.0</td>\n",
       "      <td>755.0</td>\n",
       "      <td>NaN</td>\n",
       "    </tr>\n",
       "    <tr>\n",
       "      <th>1</th>\n",
       "      <td>7</td>\n",
       "      <td>3350000.0</td>\n",
       "      <td>40.40</td>\n",
       "      <td>2018-12-04T00:00:00</td>\n",
       "      <td>1</td>\n",
       "      <td>NaN</td>\n",
       "      <td>11.0</td>\n",
       "      <td>18.60</td>\n",
       "      <td>1</td>\n",
       "      <td>NaN</td>\n",
       "      <td>...</td>\n",
       "      <td>11.00</td>\n",
       "      <td>2.0</td>\n",
       "      <td>посёлок Шушары</td>\n",
       "      <td>12817.0</td>\n",
       "      <td>18603.0</td>\n",
       "      <td>0.0</td>\n",
       "      <td>NaN</td>\n",
       "      <td>0.0</td>\n",
       "      <td>NaN</td>\n",
       "      <td>81.0</td>\n",
       "    </tr>\n",
       "    <tr>\n",
       "      <th>2</th>\n",
       "      <td>10</td>\n",
       "      <td>5196000.0</td>\n",
       "      <td>56.00</td>\n",
       "      <td>2015-08-20T00:00:00</td>\n",
       "      <td>2</td>\n",
       "      <td>NaN</td>\n",
       "      <td>5.0</td>\n",
       "      <td>34.30</td>\n",
       "      <td>4</td>\n",
       "      <td>NaN</td>\n",
       "      <td>...</td>\n",
       "      <td>8.30</td>\n",
       "      <td>0.0</td>\n",
       "      <td>Санкт-Петербург</td>\n",
       "      <td>21741.0</td>\n",
       "      <td>13933.0</td>\n",
       "      <td>1.0</td>\n",
       "      <td>90.0</td>\n",
       "      <td>2.0</td>\n",
       "      <td>574.0</td>\n",
       "      <td>558.0</td>\n",
       "    </tr>\n",
       "    <tr>\n",
       "      <th>3</th>\n",
       "      <td>0</td>\n",
       "      <td>64900000.0</td>\n",
       "      <td>159.00</td>\n",
       "      <td>2015-07-24T00:00:00</td>\n",
       "      <td>3</td>\n",
       "      <td>NaN</td>\n",
       "      <td>14.0</td>\n",
       "      <td>NaN</td>\n",
       "      <td>9</td>\n",
       "      <td>NaN</td>\n",
       "      <td>...</td>\n",
       "      <td>NaN</td>\n",
       "      <td>0.0</td>\n",
       "      <td>Санкт-Петербург</td>\n",
       "      <td>28098.0</td>\n",
       "      <td>6800.0</td>\n",
       "      <td>2.0</td>\n",
       "      <td>84.0</td>\n",
       "      <td>3.0</td>\n",
       "      <td>234.0</td>\n",
       "      <td>424.0</td>\n",
       "    </tr>\n",
       "    <tr>\n",
       "      <th>4</th>\n",
       "      <td>2</td>\n",
       "      <td>10000000.0</td>\n",
       "      <td>100.00</td>\n",
       "      <td>2018-06-19T00:00:00</td>\n",
       "      <td>2</td>\n",
       "      <td>3.03</td>\n",
       "      <td>14.0</td>\n",
       "      <td>32.00</td>\n",
       "      <td>13</td>\n",
       "      <td>NaN</td>\n",
       "      <td>...</td>\n",
       "      <td>41.00</td>\n",
       "      <td>NaN</td>\n",
       "      <td>Санкт-Петербург</td>\n",
       "      <td>31856.0</td>\n",
       "      <td>8098.0</td>\n",
       "      <td>2.0</td>\n",
       "      <td>112.0</td>\n",
       "      <td>1.0</td>\n",
       "      <td>48.0</td>\n",
       "      <td>121.0</td>\n",
       "    </tr>\n",
       "    <tr>\n",
       "      <th>5</th>\n",
       "      <td>10</td>\n",
       "      <td>2890000.0</td>\n",
       "      <td>30.40</td>\n",
       "      <td>2018-09-10T00:00:00</td>\n",
       "      <td>1</td>\n",
       "      <td>NaN</td>\n",
       "      <td>12.0</td>\n",
       "      <td>14.40</td>\n",
       "      <td>5</td>\n",
       "      <td>NaN</td>\n",
       "      <td>...</td>\n",
       "      <td>9.10</td>\n",
       "      <td>NaN</td>\n",
       "      <td>городской посёлок Янино-1</td>\n",
       "      <td>NaN</td>\n",
       "      <td>NaN</td>\n",
       "      <td>NaN</td>\n",
       "      <td>NaN</td>\n",
       "      <td>NaN</td>\n",
       "      <td>NaN</td>\n",
       "      <td>55.0</td>\n",
       "    </tr>\n",
       "    <tr>\n",
       "      <th>6</th>\n",
       "      <td>6</td>\n",
       "      <td>3700000.0</td>\n",
       "      <td>37.30</td>\n",
       "      <td>2017-11-02T00:00:00</td>\n",
       "      <td>1</td>\n",
       "      <td>NaN</td>\n",
       "      <td>26.0</td>\n",
       "      <td>10.60</td>\n",
       "      <td>6</td>\n",
       "      <td>NaN</td>\n",
       "      <td>...</td>\n",
       "      <td>14.40</td>\n",
       "      <td>1.0</td>\n",
       "      <td>посёлок Парголово</td>\n",
       "      <td>52996.0</td>\n",
       "      <td>19143.0</td>\n",
       "      <td>0.0</td>\n",
       "      <td>NaN</td>\n",
       "      <td>0.0</td>\n",
       "      <td>NaN</td>\n",
       "      <td>155.0</td>\n",
       "    </tr>\n",
       "    <tr>\n",
       "      <th>7</th>\n",
       "      <td>5</td>\n",
       "      <td>7915000.0</td>\n",
       "      <td>71.60</td>\n",
       "      <td>2019-04-18T00:00:00</td>\n",
       "      <td>2</td>\n",
       "      <td>NaN</td>\n",
       "      <td>24.0</td>\n",
       "      <td>NaN</td>\n",
       "      <td>22</td>\n",
       "      <td>NaN</td>\n",
       "      <td>...</td>\n",
       "      <td>18.90</td>\n",
       "      <td>2.0</td>\n",
       "      <td>Санкт-Петербург</td>\n",
       "      <td>23982.0</td>\n",
       "      <td>11634.0</td>\n",
       "      <td>0.0</td>\n",
       "      <td>NaN</td>\n",
       "      <td>0.0</td>\n",
       "      <td>NaN</td>\n",
       "      <td>NaN</td>\n",
       "    </tr>\n",
       "    <tr>\n",
       "      <th>8</th>\n",
       "      <td>20</td>\n",
       "      <td>2900000.0</td>\n",
       "      <td>33.16</td>\n",
       "      <td>2018-05-23T00:00:00</td>\n",
       "      <td>1</td>\n",
       "      <td>NaN</td>\n",
       "      <td>27.0</td>\n",
       "      <td>15.43</td>\n",
       "      <td>26</td>\n",
       "      <td>NaN</td>\n",
       "      <td>...</td>\n",
       "      <td>8.81</td>\n",
       "      <td>NaN</td>\n",
       "      <td>посёлок Мурино</td>\n",
       "      <td>NaN</td>\n",
       "      <td>NaN</td>\n",
       "      <td>NaN</td>\n",
       "      <td>NaN</td>\n",
       "      <td>NaN</td>\n",
       "      <td>NaN</td>\n",
       "      <td>189.0</td>\n",
       "    </tr>\n",
       "    <tr>\n",
       "      <th>9</th>\n",
       "      <td>18</td>\n",
       "      <td>5400000.0</td>\n",
       "      <td>61.00</td>\n",
       "      <td>2017-02-26T00:00:00</td>\n",
       "      <td>3</td>\n",
       "      <td>2.50</td>\n",
       "      <td>9.0</td>\n",
       "      <td>43.60</td>\n",
       "      <td>7</td>\n",
       "      <td>NaN</td>\n",
       "      <td>...</td>\n",
       "      <td>6.50</td>\n",
       "      <td>2.0</td>\n",
       "      <td>Санкт-Петербург</td>\n",
       "      <td>50898.0</td>\n",
       "      <td>15008.0</td>\n",
       "      <td>0.0</td>\n",
       "      <td>NaN</td>\n",
       "      <td>0.0</td>\n",
       "      <td>NaN</td>\n",
       "      <td>289.0</td>\n",
       "    </tr>\n",
       "    <tr>\n",
       "      <th>10</th>\n",
       "      <td>5</td>\n",
       "      <td>5050000.0</td>\n",
       "      <td>39.60</td>\n",
       "      <td>2017-11-16T00:00:00</td>\n",
       "      <td>1</td>\n",
       "      <td>2.67</td>\n",
       "      <td>12.0</td>\n",
       "      <td>20.30</td>\n",
       "      <td>3</td>\n",
       "      <td>NaN</td>\n",
       "      <td>...</td>\n",
       "      <td>8.50</td>\n",
       "      <td>NaN</td>\n",
       "      <td>Санкт-Петербург</td>\n",
       "      <td>38357.0</td>\n",
       "      <td>13878.0</td>\n",
       "      <td>1.0</td>\n",
       "      <td>310.0</td>\n",
       "      <td>2.0</td>\n",
       "      <td>553.0</td>\n",
       "      <td>137.0</td>\n",
       "    </tr>\n",
       "    <tr>\n",
       "      <th>11</th>\n",
       "      <td>9</td>\n",
       "      <td>3300000.0</td>\n",
       "      <td>44.00</td>\n",
       "      <td>2018-08-27T00:00:00</td>\n",
       "      <td>2</td>\n",
       "      <td>NaN</td>\n",
       "      <td>5.0</td>\n",
       "      <td>31.00</td>\n",
       "      <td>4</td>\n",
       "      <td>False</td>\n",
       "      <td>...</td>\n",
       "      <td>6.00</td>\n",
       "      <td>1.0</td>\n",
       "      <td>Ломоносов</td>\n",
       "      <td>48252.0</td>\n",
       "      <td>51677.0</td>\n",
       "      <td>0.0</td>\n",
       "      <td>NaN</td>\n",
       "      <td>0.0</td>\n",
       "      <td>NaN</td>\n",
       "      <td>7.0</td>\n",
       "    </tr>\n",
       "    <tr>\n",
       "      <th>12</th>\n",
       "      <td>10</td>\n",
       "      <td>3890000.0</td>\n",
       "      <td>54.00</td>\n",
       "      <td>2016-06-30T00:00:00</td>\n",
       "      <td>2</td>\n",
       "      <td>NaN</td>\n",
       "      <td>5.0</td>\n",
       "      <td>30.00</td>\n",
       "      <td>5</td>\n",
       "      <td>NaN</td>\n",
       "      <td>...</td>\n",
       "      <td>9.00</td>\n",
       "      <td>0.0</td>\n",
       "      <td>Сертолово</td>\n",
       "      <td>NaN</td>\n",
       "      <td>NaN</td>\n",
       "      <td>NaN</td>\n",
       "      <td>NaN</td>\n",
       "      <td>NaN</td>\n",
       "      <td>NaN</td>\n",
       "      <td>90.0</td>\n",
       "    </tr>\n",
       "    <tr>\n",
       "      <th>13</th>\n",
       "      <td>20</td>\n",
       "      <td>3550000.0</td>\n",
       "      <td>42.80</td>\n",
       "      <td>2017-07-01T00:00:00</td>\n",
       "      <td>2</td>\n",
       "      <td>2.56</td>\n",
       "      <td>5.0</td>\n",
       "      <td>27.00</td>\n",
       "      <td>5</td>\n",
       "      <td>NaN</td>\n",
       "      <td>...</td>\n",
       "      <td>5.20</td>\n",
       "      <td>1.0</td>\n",
       "      <td>Петергоф</td>\n",
       "      <td>37868.0</td>\n",
       "      <td>33058.0</td>\n",
       "      <td>1.0</td>\n",
       "      <td>294.0</td>\n",
       "      <td>3.0</td>\n",
       "      <td>298.0</td>\n",
       "      <td>366.0</td>\n",
       "    </tr>\n",
       "    <tr>\n",
       "      <th>14</th>\n",
       "      <td>1</td>\n",
       "      <td>4400000.0</td>\n",
       "      <td>36.00</td>\n",
       "      <td>2016-06-23T00:00:00</td>\n",
       "      <td>1</td>\n",
       "      <td>NaN</td>\n",
       "      <td>6.0</td>\n",
       "      <td>17.00</td>\n",
       "      <td>1</td>\n",
       "      <td>NaN</td>\n",
       "      <td>...</td>\n",
       "      <td>8.00</td>\n",
       "      <td>0.0</td>\n",
       "      <td>Пушкин</td>\n",
       "      <td>20782.0</td>\n",
       "      <td>30759.0</td>\n",
       "      <td>0.0</td>\n",
       "      <td>NaN</td>\n",
       "      <td>1.0</td>\n",
       "      <td>96.0</td>\n",
       "      <td>203.0</td>\n",
       "    </tr>\n",
       "    <tr>\n",
       "      <th>15</th>\n",
       "      <td>16</td>\n",
       "      <td>4650000.0</td>\n",
       "      <td>39.00</td>\n",
       "      <td>2017-11-18T00:00:00</td>\n",
       "      <td>1</td>\n",
       "      <td>NaN</td>\n",
       "      <td>14.0</td>\n",
       "      <td>20.50</td>\n",
       "      <td>5</td>\n",
       "      <td>NaN</td>\n",
       "      <td>...</td>\n",
       "      <td>7.60</td>\n",
       "      <td>1.0</td>\n",
       "      <td>Санкт-Петербург</td>\n",
       "      <td>12900.0</td>\n",
       "      <td>14259.0</td>\n",
       "      <td>1.0</td>\n",
       "      <td>590.0</td>\n",
       "      <td>1.0</td>\n",
       "      <td>296.0</td>\n",
       "      <td>19.0</td>\n",
       "    </tr>\n",
       "    <tr>\n",
       "      <th>16</th>\n",
       "      <td>11</td>\n",
       "      <td>6700000.0</td>\n",
       "      <td>82.00</td>\n",
       "      <td>2017-11-23T00:00:00</td>\n",
       "      <td>3</td>\n",
       "      <td>3.05</td>\n",
       "      <td>5.0</td>\n",
       "      <td>55.60</td>\n",
       "      <td>1</td>\n",
       "      <td>NaN</td>\n",
       "      <td>...</td>\n",
       "      <td>9.00</td>\n",
       "      <td>NaN</td>\n",
       "      <td>Санкт-Петербург</td>\n",
       "      <td>22108.0</td>\n",
       "      <td>10698.0</td>\n",
       "      <td>3.0</td>\n",
       "      <td>420.0</td>\n",
       "      <td>0.0</td>\n",
       "      <td>NaN</td>\n",
       "      <td>397.0</td>\n",
       "    </tr>\n",
       "    <tr>\n",
       "      <th>17</th>\n",
       "      <td>6</td>\n",
       "      <td>4180000.0</td>\n",
       "      <td>36.00</td>\n",
       "      <td>2016-09-09T00:00:00</td>\n",
       "      <td>1</td>\n",
       "      <td>NaN</td>\n",
       "      <td>17.0</td>\n",
       "      <td>16.50</td>\n",
       "      <td>7</td>\n",
       "      <td>NaN</td>\n",
       "      <td>...</td>\n",
       "      <td>11.00</td>\n",
       "      <td>1.0</td>\n",
       "      <td>Санкт-Петербург</td>\n",
       "      <td>33564.0</td>\n",
       "      <td>14616.0</td>\n",
       "      <td>0.0</td>\n",
       "      <td>NaN</td>\n",
       "      <td>1.0</td>\n",
       "      <td>859.0</td>\n",
       "      <td>571.0</td>\n",
       "    </tr>\n",
       "    <tr>\n",
       "      <th>18</th>\n",
       "      <td>8</td>\n",
       "      <td>3250000.0</td>\n",
       "      <td>31.00</td>\n",
       "      <td>2017-01-27T00:00:00</td>\n",
       "      <td>1</td>\n",
       "      <td>2.50</td>\n",
       "      <td>5.0</td>\n",
       "      <td>19.40</td>\n",
       "      <td>2</td>\n",
       "      <td>NaN</td>\n",
       "      <td>...</td>\n",
       "      <td>5.60</td>\n",
       "      <td>1.0</td>\n",
       "      <td>Санкт-Петербург</td>\n",
       "      <td>44060.0</td>\n",
       "      <td>10842.0</td>\n",
       "      <td>1.0</td>\n",
       "      <td>759.0</td>\n",
       "      <td>0.0</td>\n",
       "      <td>NaN</td>\n",
       "      <td>168.0</td>\n",
       "    </tr>\n",
       "    <tr>\n",
       "      <th>19</th>\n",
       "      <td>16</td>\n",
       "      <td>14200000.0</td>\n",
       "      <td>121.00</td>\n",
       "      <td>2019-01-09T00:00:00</td>\n",
       "      <td>3</td>\n",
       "      <td>2.75</td>\n",
       "      <td>16.0</td>\n",
       "      <td>76.00</td>\n",
       "      <td>8</td>\n",
       "      <td>NaN</td>\n",
       "      <td>...</td>\n",
       "      <td>12.00</td>\n",
       "      <td>NaN</td>\n",
       "      <td>Санкт-Петербург</td>\n",
       "      <td>38900.0</td>\n",
       "      <td>12843.0</td>\n",
       "      <td>0.0</td>\n",
       "      <td>NaN</td>\n",
       "      <td>0.0</td>\n",
       "      <td>NaN</td>\n",
       "      <td>97.0</td>\n",
       "    </tr>\n",
       "  </tbody>\n",
       "</table>\n",
       "<p>20 rows × 22 columns</p>\n",
       "</div>"
      ],
      "text/plain": [
       "    total_images  last_price  total_area first_day_exposition  rooms  \\\n",
       "0             20  13000000.0      108.00  2019-03-07T00:00:00      3   \n",
       "1              7   3350000.0       40.40  2018-12-04T00:00:00      1   \n",
       "2             10   5196000.0       56.00  2015-08-20T00:00:00      2   \n",
       "3              0  64900000.0      159.00  2015-07-24T00:00:00      3   \n",
       "4              2  10000000.0      100.00  2018-06-19T00:00:00      2   \n",
       "5             10   2890000.0       30.40  2018-09-10T00:00:00      1   \n",
       "6              6   3700000.0       37.30  2017-11-02T00:00:00      1   \n",
       "7              5   7915000.0       71.60  2019-04-18T00:00:00      2   \n",
       "8             20   2900000.0       33.16  2018-05-23T00:00:00      1   \n",
       "9             18   5400000.0       61.00  2017-02-26T00:00:00      3   \n",
       "10             5   5050000.0       39.60  2017-11-16T00:00:00      1   \n",
       "11             9   3300000.0       44.00  2018-08-27T00:00:00      2   \n",
       "12            10   3890000.0       54.00  2016-06-30T00:00:00      2   \n",
       "13            20   3550000.0       42.80  2017-07-01T00:00:00      2   \n",
       "14             1   4400000.0       36.00  2016-06-23T00:00:00      1   \n",
       "15            16   4650000.0       39.00  2017-11-18T00:00:00      1   \n",
       "16            11   6700000.0       82.00  2017-11-23T00:00:00      3   \n",
       "17             6   4180000.0       36.00  2016-09-09T00:00:00      1   \n",
       "18             8   3250000.0       31.00  2017-01-27T00:00:00      1   \n",
       "19            16  14200000.0      121.00  2019-01-09T00:00:00      3   \n",
       "\n",
       "    ceiling_height  floors_total  living_area  floor is_apartment  ...  \\\n",
       "0             2.70          16.0        51.00      8          NaN  ...   \n",
       "1              NaN          11.0        18.60      1          NaN  ...   \n",
       "2              NaN           5.0        34.30      4          NaN  ...   \n",
       "3              NaN          14.0          NaN      9          NaN  ...   \n",
       "4             3.03          14.0        32.00     13          NaN  ...   \n",
       "5              NaN          12.0        14.40      5          NaN  ...   \n",
       "6              NaN          26.0        10.60      6          NaN  ...   \n",
       "7              NaN          24.0          NaN     22          NaN  ...   \n",
       "8              NaN          27.0        15.43     26          NaN  ...   \n",
       "9             2.50           9.0        43.60      7          NaN  ...   \n",
       "10            2.67          12.0        20.30      3          NaN  ...   \n",
       "11             NaN           5.0        31.00      4        False  ...   \n",
       "12             NaN           5.0        30.00      5          NaN  ...   \n",
       "13            2.56           5.0        27.00      5          NaN  ...   \n",
       "14             NaN           6.0        17.00      1          NaN  ...   \n",
       "15             NaN          14.0        20.50      5          NaN  ...   \n",
       "16            3.05           5.0        55.60      1          NaN  ...   \n",
       "17             NaN          17.0        16.50      7          NaN  ...   \n",
       "18            2.50           5.0        19.40      2          NaN  ...   \n",
       "19            2.75          16.0        76.00      8          NaN  ...   \n",
       "\n",
       "    kitchen_area  balcony              locality_name  airports_nearest  \\\n",
       "0          25.00      NaN            Санкт-Петербург           18863.0   \n",
       "1          11.00      2.0             посёлок Шушары           12817.0   \n",
       "2           8.30      0.0            Санкт-Петербург           21741.0   \n",
       "3            NaN      0.0            Санкт-Петербург           28098.0   \n",
       "4          41.00      NaN            Санкт-Петербург           31856.0   \n",
       "5           9.10      NaN  городской посёлок Янино-1               NaN   \n",
       "6          14.40      1.0          посёлок Парголово           52996.0   \n",
       "7          18.90      2.0            Санкт-Петербург           23982.0   \n",
       "8           8.81      NaN             посёлок Мурино               NaN   \n",
       "9           6.50      2.0            Санкт-Петербург           50898.0   \n",
       "10          8.50      NaN            Санкт-Петербург           38357.0   \n",
       "11          6.00      1.0                  Ломоносов           48252.0   \n",
       "12          9.00      0.0                  Сертолово               NaN   \n",
       "13          5.20      1.0                   Петергоф           37868.0   \n",
       "14          8.00      0.0                     Пушкин           20782.0   \n",
       "15          7.60      1.0            Санкт-Петербург           12900.0   \n",
       "16          9.00      NaN            Санкт-Петербург           22108.0   \n",
       "17         11.00      1.0            Санкт-Петербург           33564.0   \n",
       "18          5.60      1.0            Санкт-Петербург           44060.0   \n",
       "19         12.00      NaN            Санкт-Петербург           38900.0   \n",
       "\n",
       "   cityCenters_nearest  parks_around3000  parks_nearest  ponds_around3000  \\\n",
       "0              16028.0               1.0          482.0               2.0   \n",
       "1              18603.0               0.0            NaN               0.0   \n",
       "2              13933.0               1.0           90.0               2.0   \n",
       "3               6800.0               2.0           84.0               3.0   \n",
       "4               8098.0               2.0          112.0               1.0   \n",
       "5                  NaN               NaN            NaN               NaN   \n",
       "6              19143.0               0.0            NaN               0.0   \n",
       "7              11634.0               0.0            NaN               0.0   \n",
       "8                  NaN               NaN            NaN               NaN   \n",
       "9              15008.0               0.0            NaN               0.0   \n",
       "10             13878.0               1.0          310.0               2.0   \n",
       "11             51677.0               0.0            NaN               0.0   \n",
       "12                 NaN               NaN            NaN               NaN   \n",
       "13             33058.0               1.0          294.0               3.0   \n",
       "14             30759.0               0.0            NaN               1.0   \n",
       "15             14259.0               1.0          590.0               1.0   \n",
       "16             10698.0               3.0          420.0               0.0   \n",
       "17             14616.0               0.0            NaN               1.0   \n",
       "18             10842.0               1.0          759.0               0.0   \n",
       "19             12843.0               0.0            NaN               0.0   \n",
       "\n",
       "    ponds_nearest  days_exposition  \n",
       "0           755.0              NaN  \n",
       "1             NaN             81.0  \n",
       "2           574.0            558.0  \n",
       "3           234.0            424.0  \n",
       "4            48.0            121.0  \n",
       "5             NaN             55.0  \n",
       "6             NaN            155.0  \n",
       "7             NaN              NaN  \n",
       "8             NaN            189.0  \n",
       "9             NaN            289.0  \n",
       "10          553.0            137.0  \n",
       "11            NaN              7.0  \n",
       "12            NaN             90.0  \n",
       "13          298.0            366.0  \n",
       "14           96.0            203.0  \n",
       "15          296.0             19.0  \n",
       "16            NaN            397.0  \n",
       "17          859.0            571.0  \n",
       "18            NaN            168.0  \n",
       "19            NaN             97.0  \n",
       "\n",
       "[20 rows x 22 columns]"
      ]
     },
     "execution_count": 4,
     "metadata": {},
     "output_type": "execute_result"
    }
   ],
   "source": [
    "#выводим первые двадцать строчек датафрейма\n",
    "data.head(20)"
   ]
  },
  {
   "cell_type": "code",
   "execution_count": 5,
   "metadata": {},
   "outputs": [
    {
     "data": {
      "text/html": [
       "<div>\n",
       "<style scoped>\n",
       "    .dataframe tbody tr th:only-of-type {\n",
       "        vertical-align: middle;\n",
       "    }\n",
       "\n",
       "    .dataframe tbody tr th {\n",
       "        vertical-align: top;\n",
       "    }\n",
       "\n",
       "    .dataframe thead th {\n",
       "        text-align: right;\n",
       "    }\n",
       "</style>\n",
       "<table border=\"1\" class=\"dataframe\">\n",
       "  <thead>\n",
       "    <tr style=\"text-align: right;\">\n",
       "      <th></th>\n",
       "      <th>total_images</th>\n",
       "      <th>last_price</th>\n",
       "      <th>total_area</th>\n",
       "      <th>rooms</th>\n",
       "      <th>ceiling_height</th>\n",
       "      <th>floors_total</th>\n",
       "      <th>living_area</th>\n",
       "      <th>floor</th>\n",
       "      <th>kitchen_area</th>\n",
       "      <th>balcony</th>\n",
       "      <th>airports_nearest</th>\n",
       "      <th>cityCenters_nearest</th>\n",
       "      <th>parks_around3000</th>\n",
       "      <th>parks_nearest</th>\n",
       "      <th>ponds_around3000</th>\n",
       "      <th>ponds_nearest</th>\n",
       "      <th>days_exposition</th>\n",
       "    </tr>\n",
       "  </thead>\n",
       "  <tbody>\n",
       "    <tr>\n",
       "      <th>count</th>\n",
       "      <td>23699.000000</td>\n",
       "      <td>2.369900e+04</td>\n",
       "      <td>23699.000000</td>\n",
       "      <td>23699.000000</td>\n",
       "      <td>14504.000000</td>\n",
       "      <td>23613.000000</td>\n",
       "      <td>21796.000000</td>\n",
       "      <td>23699.000000</td>\n",
       "      <td>21421.000000</td>\n",
       "      <td>12180.000000</td>\n",
       "      <td>18157.000000</td>\n",
       "      <td>18180.000000</td>\n",
       "      <td>18181.000000</td>\n",
       "      <td>8079.000000</td>\n",
       "      <td>18181.000000</td>\n",
       "      <td>9110.000000</td>\n",
       "      <td>20518.000000</td>\n",
       "    </tr>\n",
       "    <tr>\n",
       "      <th>mean</th>\n",
       "      <td>9.858475</td>\n",
       "      <td>6.541549e+06</td>\n",
       "      <td>60.348651</td>\n",
       "      <td>2.070636</td>\n",
       "      <td>2.771499</td>\n",
       "      <td>10.673824</td>\n",
       "      <td>34.457852</td>\n",
       "      <td>5.892358</td>\n",
       "      <td>10.569807</td>\n",
       "      <td>1.150082</td>\n",
       "      <td>28793.672193</td>\n",
       "      <td>14191.277833</td>\n",
       "      <td>0.611408</td>\n",
       "      <td>490.804555</td>\n",
       "      <td>0.770255</td>\n",
       "      <td>517.980900</td>\n",
       "      <td>180.888634</td>\n",
       "    </tr>\n",
       "    <tr>\n",
       "      <th>std</th>\n",
       "      <td>5.682529</td>\n",
       "      <td>1.088701e+07</td>\n",
       "      <td>35.654083</td>\n",
       "      <td>1.078405</td>\n",
       "      <td>1.261056</td>\n",
       "      <td>6.597173</td>\n",
       "      <td>22.030445</td>\n",
       "      <td>4.885249</td>\n",
       "      <td>5.905438</td>\n",
       "      <td>1.071300</td>\n",
       "      <td>12630.880622</td>\n",
       "      <td>8608.386210</td>\n",
       "      <td>0.802074</td>\n",
       "      <td>342.317995</td>\n",
       "      <td>0.938346</td>\n",
       "      <td>277.720643</td>\n",
       "      <td>219.727988</td>\n",
       "    </tr>\n",
       "    <tr>\n",
       "      <th>min</th>\n",
       "      <td>0.000000</td>\n",
       "      <td>1.219000e+04</td>\n",
       "      <td>12.000000</td>\n",
       "      <td>0.000000</td>\n",
       "      <td>1.000000</td>\n",
       "      <td>1.000000</td>\n",
       "      <td>2.000000</td>\n",
       "      <td>1.000000</td>\n",
       "      <td>1.300000</td>\n",
       "      <td>0.000000</td>\n",
       "      <td>0.000000</td>\n",
       "      <td>181.000000</td>\n",
       "      <td>0.000000</td>\n",
       "      <td>1.000000</td>\n",
       "      <td>0.000000</td>\n",
       "      <td>13.000000</td>\n",
       "      <td>1.000000</td>\n",
       "    </tr>\n",
       "    <tr>\n",
       "      <th>25%</th>\n",
       "      <td>6.000000</td>\n",
       "      <td>3.400000e+06</td>\n",
       "      <td>40.000000</td>\n",
       "      <td>1.000000</td>\n",
       "      <td>2.520000</td>\n",
       "      <td>5.000000</td>\n",
       "      <td>18.600000</td>\n",
       "      <td>2.000000</td>\n",
       "      <td>7.000000</td>\n",
       "      <td>0.000000</td>\n",
       "      <td>18585.000000</td>\n",
       "      <td>9238.000000</td>\n",
       "      <td>0.000000</td>\n",
       "      <td>288.000000</td>\n",
       "      <td>0.000000</td>\n",
       "      <td>294.000000</td>\n",
       "      <td>45.000000</td>\n",
       "    </tr>\n",
       "    <tr>\n",
       "      <th>50%</th>\n",
       "      <td>9.000000</td>\n",
       "      <td>4.650000e+06</td>\n",
       "      <td>52.000000</td>\n",
       "      <td>2.000000</td>\n",
       "      <td>2.650000</td>\n",
       "      <td>9.000000</td>\n",
       "      <td>30.000000</td>\n",
       "      <td>4.000000</td>\n",
       "      <td>9.100000</td>\n",
       "      <td>1.000000</td>\n",
       "      <td>26726.000000</td>\n",
       "      <td>13098.500000</td>\n",
       "      <td>0.000000</td>\n",
       "      <td>455.000000</td>\n",
       "      <td>1.000000</td>\n",
       "      <td>502.000000</td>\n",
       "      <td>95.000000</td>\n",
       "    </tr>\n",
       "    <tr>\n",
       "      <th>75%</th>\n",
       "      <td>14.000000</td>\n",
       "      <td>6.800000e+06</td>\n",
       "      <td>69.900000</td>\n",
       "      <td>3.000000</td>\n",
       "      <td>2.800000</td>\n",
       "      <td>16.000000</td>\n",
       "      <td>42.300000</td>\n",
       "      <td>8.000000</td>\n",
       "      <td>12.000000</td>\n",
       "      <td>2.000000</td>\n",
       "      <td>37273.000000</td>\n",
       "      <td>16293.000000</td>\n",
       "      <td>1.000000</td>\n",
       "      <td>612.000000</td>\n",
       "      <td>1.000000</td>\n",
       "      <td>729.000000</td>\n",
       "      <td>232.000000</td>\n",
       "    </tr>\n",
       "    <tr>\n",
       "      <th>max</th>\n",
       "      <td>50.000000</td>\n",
       "      <td>7.630000e+08</td>\n",
       "      <td>900.000000</td>\n",
       "      <td>19.000000</td>\n",
       "      <td>100.000000</td>\n",
       "      <td>60.000000</td>\n",
       "      <td>409.700000</td>\n",
       "      <td>33.000000</td>\n",
       "      <td>112.000000</td>\n",
       "      <td>5.000000</td>\n",
       "      <td>84869.000000</td>\n",
       "      <td>65968.000000</td>\n",
       "      <td>3.000000</td>\n",
       "      <td>3190.000000</td>\n",
       "      <td>3.000000</td>\n",
       "      <td>1344.000000</td>\n",
       "      <td>1580.000000</td>\n",
       "    </tr>\n",
       "  </tbody>\n",
       "</table>\n",
       "</div>"
      ],
      "text/plain": [
       "       total_images    last_price    total_area         rooms  ceiling_height  \\\n",
       "count  23699.000000  2.369900e+04  23699.000000  23699.000000    14504.000000   \n",
       "mean       9.858475  6.541549e+06     60.348651      2.070636        2.771499   \n",
       "std        5.682529  1.088701e+07     35.654083      1.078405        1.261056   \n",
       "min        0.000000  1.219000e+04     12.000000      0.000000        1.000000   \n",
       "25%        6.000000  3.400000e+06     40.000000      1.000000        2.520000   \n",
       "50%        9.000000  4.650000e+06     52.000000      2.000000        2.650000   \n",
       "75%       14.000000  6.800000e+06     69.900000      3.000000        2.800000   \n",
       "max       50.000000  7.630000e+08    900.000000     19.000000      100.000000   \n",
       "\n",
       "       floors_total   living_area         floor  kitchen_area       balcony  \\\n",
       "count  23613.000000  21796.000000  23699.000000  21421.000000  12180.000000   \n",
       "mean      10.673824     34.457852      5.892358     10.569807      1.150082   \n",
       "std        6.597173     22.030445      4.885249      5.905438      1.071300   \n",
       "min        1.000000      2.000000      1.000000      1.300000      0.000000   \n",
       "25%        5.000000     18.600000      2.000000      7.000000      0.000000   \n",
       "50%        9.000000     30.000000      4.000000      9.100000      1.000000   \n",
       "75%       16.000000     42.300000      8.000000     12.000000      2.000000   \n",
       "max       60.000000    409.700000     33.000000    112.000000      5.000000   \n",
       "\n",
       "       airports_nearest  cityCenters_nearest  parks_around3000  parks_nearest  \\\n",
       "count      18157.000000         18180.000000      18181.000000    8079.000000   \n",
       "mean       28793.672193         14191.277833          0.611408     490.804555   \n",
       "std        12630.880622          8608.386210          0.802074     342.317995   \n",
       "min            0.000000           181.000000          0.000000       1.000000   \n",
       "25%        18585.000000          9238.000000          0.000000     288.000000   \n",
       "50%        26726.000000         13098.500000          0.000000     455.000000   \n",
       "75%        37273.000000         16293.000000          1.000000     612.000000   \n",
       "max        84869.000000         65968.000000          3.000000    3190.000000   \n",
       "\n",
       "       ponds_around3000  ponds_nearest  days_exposition  \n",
       "count      18181.000000    9110.000000     20518.000000  \n",
       "mean           0.770255     517.980900       180.888634  \n",
       "std            0.938346     277.720643       219.727988  \n",
       "min            0.000000      13.000000         1.000000  \n",
       "25%            0.000000     294.000000        45.000000  \n",
       "50%            1.000000     502.000000        95.000000  \n",
       "75%            1.000000     729.000000       232.000000  \n",
       "max            3.000000    1344.000000      1580.000000  "
      ]
     },
     "execution_count": 5,
     "metadata": {},
     "output_type": "execute_result"
    }
   ],
   "source": [
    "#смотрим на статистическое описание датафрейма\n",
    "data.describe()"
   ]
  },
  {
   "cell_type": "code",
   "execution_count": 6,
   "metadata": {
    "scrolled": true
   },
   "outputs": [
    {
     "data": {
      "text/plain": [
       "array([[<AxesSubplot:title={'center':'total_images'}>,\n",
       "        <AxesSubplot:title={'center':'last_price'}>,\n",
       "        <AxesSubplot:title={'center':'total_area'}>,\n",
       "        <AxesSubplot:title={'center':'rooms'}>],\n",
       "       [<AxesSubplot:title={'center':'ceiling_height'}>,\n",
       "        <AxesSubplot:title={'center':'floors_total'}>,\n",
       "        <AxesSubplot:title={'center':'living_area'}>,\n",
       "        <AxesSubplot:title={'center':'floor'}>],\n",
       "       [<AxesSubplot:title={'center':'kitchen_area'}>,\n",
       "        <AxesSubplot:title={'center':'balcony'}>,\n",
       "        <AxesSubplot:title={'center':'airports_nearest'}>,\n",
       "        <AxesSubplot:title={'center':'cityCenters_nearest'}>],\n",
       "       [<AxesSubplot:title={'center':'parks_around3000'}>,\n",
       "        <AxesSubplot:title={'center':'parks_nearest'}>,\n",
       "        <AxesSubplot:title={'center':'ponds_around3000'}>,\n",
       "        <AxesSubplot:title={'center':'ponds_nearest'}>],\n",
       "       [<AxesSubplot:title={'center':'days_exposition'}>, <AxesSubplot:>,\n",
       "        <AxesSubplot:>, <AxesSubplot:>]], dtype=object)"
      ]
     },
     "execution_count": 6,
     "metadata": {},
     "output_type": "execute_result"
    },
    {
     "data": {
      "image/png": "[encoded data removed]",
      "text/plain": [
       "<Figure size 1080x1440 with 20 Axes>"
      ]
     },
     "metadata": {
      "needs_background": "light"
     },
     "output_type": "display_data"
    }
   ],
   "source": [
    "#строим гистограммы для датафрейма\n",
    "data.hist(figsize=(15, 20))"
   ]
  },
  {
   "cell_type": "markdown",
   "metadata": {},
   "source": [
    "**Вывод по разделу**<br>\n",
    "- В данных много пропусков, которые могут быть связаны как с человеческим фактором, так и с технической ошибкой.<br> \n",
    "- В некоторых столбцах для удобства необходимо заменить тип данных с float64 на int64.<br> \n",
    "- Cледует избавиться от явных и неявных дубликатов.<br> \n",
    "- В данных присутствуют слишком большие и слишком маленькие значения, которые могут исказить результаты исследования.<br>"
   ]
  },
  {
   "cell_type": "markdown",
   "metadata": {},
   "source": [
    "\n",
    "<div class=\"alert alert-success\">\n",
    "<b>Комментарий ревьюера:</b>☀️Отличный первичный взгляд на данные!</div>"
   ]
  },
  {
   "cell_type": "markdown",
   "metadata": {},
   "source": [
    "### Предобработка данных"
   ]
  },
  {
   "cell_type": "markdown",
   "metadata": {},
   "source": [
    "**2.1 Удаление пропусков**"
   ]
  },
  {
   "cell_type": "code",
   "execution_count": 7,
   "metadata": {
    "scrolled": true
   },
   "outputs": [
    {
     "data": {
      "text/plain": [
       "total_images                0\n",
       "last_price                  0\n",
       "total_area                  0\n",
       "first_day_exposition        0\n",
       "rooms                       0\n",
       "ceiling_height           9195\n",
       "floors_total               86\n",
       "living_area              1903\n",
       "floor                       0\n",
       "is_apartment            20924\n",
       "studio                      0\n",
       "open_plan                   0\n",
       "kitchen_area             2278\n",
       "balcony                 11519\n",
       "locality_name              49\n",
       "airports_nearest         5542\n",
       "cityCenters_nearest      5519\n",
       "parks_around3000         5518\n",
       "parks_nearest           15620\n",
       "ponds_around3000         5518\n",
       "ponds_nearest           14589\n",
       "days_exposition          3181\n",
       "dtype: int64"
      ]
     },
     "execution_count": 7,
     "metadata": {},
     "output_type": "execute_result"
    }
   ],
   "source": [
    "#получим количество пропущенных значений для всех столбцов\n",
    "data.isna().sum()"
   ]
  },
  {
   "cell_type": "markdown",
   "metadata": {},
   "source": [
    "- В столбце **ceiling_height** пропущенные значения можно заменить медиаными значениями по населенному пункту.<br>\n",
    "- В столбце **living_area** пропущенные значения можно заменить медианными по количеству комнат.<br>\n",
    "- В столбце **balcony** пропущенные значения скорее всего значат, что балкона нет, значит их можно заменить нулями.<br>\n",
    "- В столбце **is_apartment** пропущенные значения скорее всего свидетельствуют о том, что жилье не является апартаментами, поэтому их можно заменить на False.<br>\n",
    "-  **floors_total** и **kitchen_area** не имеют прямой взаимосвязи с другими столбцами, поэтому пропущенные значения в них трогать не будем.<br>\n",
    "- Причина пропусков в столбцах, которые заполняют продавцы скорее всего связана с тем, что ячейки не являются обязательными для заполнения.Пропущенные значения в остальных столбцах связаны с техническими ошибками.<br>\n",
    "- Строки с пропущенными значениями в столбцaх **locality_name** и **floors_total** можно удалить, потому что их процент незначителен, а данные паметры является основополагающим для других расчетов.<br>\n",
    "- Пропущенные значения в остальных столбцах(удаленность центра, парков, аэропорта, прудов и их количество) оставим,так как прямой взаимосвязи с другими параметрами нет. Данные параметры не являеются основными в данном исследовании, для анализа можно будет использовать срезы данных."
   ]
  },
  {
   "cell_type": "markdown",
   "metadata": {},
   "source": [
    "\n",
    "<div class=\"alert alert-danger\">\n",
    "<b>Комментарий ревьюера:</b>Пропуск в is_apartment скорее всего свидетельствует о том, что жилье не является апартаментаим, поэтому корректно будет заменить на False.</div>"
   ]
  },
  {
   "cell_type": "markdown",
   "metadata": {},
   "source": [
    "<div class=\"alert alert-info\">Окей, исправила ниже</div> "
   ]
  },
  {
   "cell_type": "markdown",
   "metadata": {},
   "source": [
    "<div class=\"alert alert-success\">\n",
    "<b>Комментарий ревьюера v2.0:</b>☀️Спасибо! </div>"
   ]
  },
  {
   "cell_type": "code",
   "execution_count": 8,
   "metadata": {},
   "outputs": [],
   "source": [
    "#удаляем строки с неуказанной локацией и количеством этажей в доме\n",
    "data = data.dropna(subset = ['locality_name'])\n",
    "data = data.dropna(subset = ['floors_total'])"
   ]
  },
  {
   "cell_type": "markdown",
   "metadata": {},
   "source": [
    "\n",
    "<div class=\"alert alert-success\">\n",
    "<b>Комментарий ревьюера:</b>☀️Да, эти пропуски действительно можно удалить в силу небольшого объема.</div>"
   ]
  },
  {
   "cell_type": "code",
   "execution_count": 9,
   "metadata": {},
   "outputs": [],
   "source": [
    "#заменяем пропущенные значения количества балконов нулями\n",
    "data['balcony'] = data['balcony'].fillna(0)"
   ]
  },
  {
   "cell_type": "markdown",
   "metadata": {},
   "source": [
    "\n",
    "<div class=\"alert alert-success\">\n",
    "<b>Комментарий ревьюера:</b>☀️Хорошо!</div>"
   ]
  },
  {
   "cell_type": "code",
   "execution_count": 10,
   "metadata": {},
   "outputs": [],
   "source": [
    "#заменяем пропущенные в столбце is_apartment на false\n",
    "data['is_apartment'] = data['is_apartment'].fillna(False)"
   ]
  },
  {
   "cell_type": "markdown",
   "metadata": {},
   "source": [
    "Жилая площадь - это площадь комнат, следовательно пропущенные значения можно заменить медианными по количеству комнат.<br>\n",
    "С площадью кухни дела обстоят сложнее, в общую площадь входят все части квартиры: коридоры, кладовки, балконы (но с коэффициентом), жилая площадь. Поэтому нельзя просто взять и вычесть из общей площади жилую, и получить площадь кухни. Алгоритм должен быть сложнее, поэтому оставим пропущенные значения как есть."
   ]
  },
  {
   "cell_type": "markdown",
   "metadata": {},
   "source": [
    "\n",
    "<div class=\"alert alert-warning\">\n",
    "<b>Комментарий ревьюера:</b>☀️Можно не вычитать, а попробовать восстановить через коэффициент отношения к общей площади.</div>"
   ]
  },
  {
   "cell_type": "code",
   "execution_count": 11,
   "metadata": {},
   "outputs": [],
   "source": [
    "#заменяем пропущенные значения жилой площади медианными по количеству комнат\n",
    "for room in data['rooms'].unique():\n",
    "    data.loc[(data['rooms'] == room) & (data['living_area'].isna()), 'living_area'] = \\\n",
    "    data.loc[data['rooms'] == room, 'living_area'].median()"
   ]
  },
  {
   "cell_type": "markdown",
   "metadata": {},
   "source": [
    "**2.2 Изменение типов данных**"
   ]
  },
  {
   "cell_type": "markdown",
   "metadata": {},
   "source": [
    "Количество балконов, цена, количество этажей - это целые числа, поэтому для удобства восприятия необходимо поменять их тип на int."
   ]
  },
  {
   "cell_type": "code",
   "execution_count": 12,
   "metadata": {},
   "outputs": [],
   "source": [
    "#всем целым числам поменяем тип данных с flot64 на int64\n",
    "data['balcony'] = data['balcony'].astype(int)\n",
    "data['last_price'] = data['last_price'].astype(int)\n",
    "data['floors_total'] = data['floors_total'].astype(int)"
   ]
  },
  {
   "cell_type": "code",
   "execution_count": 13,
   "metadata": {},
   "outputs": [],
   "source": [
    "#поменяем формат времени на дату без времени\n",
    "data['first_day_exposition'] = pd.to_datetime(data['first_day_exposition'], format = '%Y-%m-%d')"
   ]
  },
  {
   "cell_type": "markdown",
   "metadata": {},
   "source": [
    "**2.3 Обработка дубликатов**"
   ]
  },
  {
   "cell_type": "markdown",
   "metadata": {},
   "source": [
    "Проверим и удалим в случае наличия явные строки дубликаты."
   ]
  },
  {
   "cell_type": "code",
   "execution_count": 14,
   "metadata": {},
   "outputs": [
    {
     "data": {
      "text/plain": [
       "0"
      ]
     },
     "execution_count": 14,
     "metadata": {},
     "output_type": "execute_result"
    }
   ],
   "source": [
    "#количество строк дубликатов в данных\n",
    "data.duplicated().sum()"
   ]
  },
  {
   "cell_type": "code",
   "execution_count": 15,
   "metadata": {},
   "outputs": [
    {
     "data": {
      "text/plain": [
       "array(['Санкт-Петербург', 'посёлок Шушары', 'городской посёлок Янино-1',\n",
       "       'посёлок Парголово', 'посёлок Мурино', 'Ломоносов', 'Сертолово',\n",
       "       'Петергоф', 'Пушкин', 'деревня Кудрово', 'Коммунар', 'Колпино',\n",
       "       'поселок городского типа Красный Бор', 'Гатчина', 'поселок Мурино',\n",
       "       'деревня Фёдоровское', 'Выборг', 'Кронштадт', 'Кировск',\n",
       "       'деревня Новое Девяткино', 'посёлок Металлострой',\n",
       "       'посёлок городского типа Лебяжье',\n",
       "       'посёлок городского типа Сиверский', 'поселок Молодцово',\n",
       "       'поселок городского типа Кузьмоловский',\n",
       "       'садовое товарищество Новая Ропша', 'Павловск',\n",
       "       'деревня Пикколово', 'Всеволожск', 'Волхов', 'Кингисепп',\n",
       "       'Приозерск', 'Сестрорецк', 'деревня Куттузи', 'посёлок Аннино',\n",
       "       'поселок городского типа Ефимовский', 'посёлок Плодовое',\n",
       "       'деревня Заклинье', 'поселок Торковичи', 'поселок Первомайское',\n",
       "       'Красное Село', 'посёлок Понтонный', 'Сясьстрой', 'деревня Старая',\n",
       "       'деревня Лесколово', 'посёлок Новый Свет', 'Сланцы',\n",
       "       'село Путилово', 'Ивангород', 'Мурино', 'Шлиссельбург',\n",
       "       'Никольское', 'Зеленогорск', 'Сосновый Бор', 'поселок Новый Свет',\n",
       "       'деревня Оржицы', 'деревня Кальтино', 'Кудрово',\n",
       "       'поселок Романовка', 'посёлок Бугры', 'поселок Бугры',\n",
       "       'поселок городского типа Рощино', 'Кириши', 'Луга', 'Волосово',\n",
       "       'Отрадное', 'село Павлово', 'поселок Оредеж', 'село Копорье',\n",
       "       'посёлок городского типа Красный Бор', 'посёлок Молодёжное',\n",
       "       'Тихвин', 'посёлок Победа', 'деревня Нурма',\n",
       "       'поселок городского типа Синявино', 'Тосно',\n",
       "       'посёлок городского типа Кузьмоловский', 'посёлок Стрельна',\n",
       "       'Бокситогорск', 'посёлок Александровская', 'деревня Лопухинка',\n",
       "       'Пикалёво', 'поселок Терволово',\n",
       "       'поселок городского типа Советский', 'Подпорожье',\n",
       "       'посёлок Петровское', 'посёлок городского типа Токсово',\n",
       "       'поселок Сельцо', 'посёлок городского типа Вырица',\n",
       "       'деревня Кипень', 'деревня Келози', 'деревня Вартемяги',\n",
       "       'посёлок Тельмана', 'поселок Севастьяново',\n",
       "       'городской поселок Большая Ижора', 'городской посёлок Павлово',\n",
       "       'деревня Агалатово', 'посёлок Новогорелово',\n",
       "       'городской посёлок Лесогорский', 'деревня Лаголово',\n",
       "       'поселок Цвелодубово', 'поселок городского типа Рахья',\n",
       "       'поселок городского типа Вырица', 'деревня Белогорка',\n",
       "       'поселок Заводской', 'городской посёлок Новоселье',\n",
       "       'деревня Большие Колпаны', 'деревня Горбунки', 'деревня Батово',\n",
       "       'деревня Заневка', 'деревня Иссад', 'Приморск',\n",
       "       'городской посёлок Фёдоровское', 'деревня Мистолово',\n",
       "       'Новая Ладога', 'поселок Зимитицы', 'поселок Барышево',\n",
       "       'деревня Разметелево', 'поселок городского типа имени Свердлова',\n",
       "       'деревня Пеники', 'поселок Рябово', 'деревня Пудомяги',\n",
       "       'поселок станции Корнево', 'деревня Низино', 'деревня Бегуницы',\n",
       "       'посёлок Поляны', 'городской посёлок Мга', 'поселок Елизаветино',\n",
       "       'посёлок городского типа Кузнечное', 'деревня Колтуши',\n",
       "       'поселок Запорожское', 'посёлок городского типа Рощино',\n",
       "       'деревня Гостилицы', 'деревня Малое Карлино',\n",
       "       'посёлок Мичуринское', 'посёлок городского типа имени Морозова',\n",
       "       'посёлок Песочный', 'посёлок Сосново', 'деревня Аро',\n",
       "       'поселок Ильичёво', 'посёлок городского типа Тайцы',\n",
       "       'деревня Малое Верево', 'деревня Извара', 'поселок станции Вещево',\n",
       "       'село Паша', 'деревня Калитино',\n",
       "       'посёлок городского типа Ульяновка', 'деревня Чудской Бор',\n",
       "       'поселок городского типа Дубровка', 'деревня Мины',\n",
       "       'поселок Войсковицы', 'посёлок городского типа имени Свердлова',\n",
       "       'деревня Коркино', 'посёлок Ропша',\n",
       "       'поселок городского типа Приладожский', 'посёлок Щеглово',\n",
       "       'посёлок Гаврилово', 'Лодейное Поле', 'деревня Рабитицы',\n",
       "       'поселок городского типа Никольский', 'деревня Кузьмолово',\n",
       "       'деревня Малые Колпаны', 'поселок Тельмана',\n",
       "       'посёлок Петро-Славянка', 'городской посёлок Назия',\n",
       "       'посёлок Репино', 'посёлок Ильичёво', 'поселок Углово',\n",
       "       'поселок Старая Малукса', 'садовое товарищество Рахья',\n",
       "       'поселок Аннино', 'поселок Победа', 'деревня Меньково',\n",
       "       'деревня Старые Бегуницы', 'посёлок Сапёрный', 'поселок Семрино',\n",
       "       'поселок Гаврилово', 'поселок Глажево', 'поселок Кобринское',\n",
       "       'деревня Гарболово', 'деревня Юкки',\n",
       "       'поселок станции Приветнинское', 'деревня Мануйлово',\n",
       "       'деревня Пчева', 'поселок Поляны', 'поселок Цвылёво',\n",
       "       'поселок Мельниково', 'посёлок Пудость', 'посёлок Усть-Луга',\n",
       "       'Светогорск', 'Любань', 'поселок Селезнёво',\n",
       "       'поселок городского типа Рябово', 'Каменногорск', 'деревня Кривко',\n",
       "       'поселок Глебычево', 'деревня Парицы', 'поселок Жилпосёлок',\n",
       "       'посёлок городского типа Мга', 'городской поселок Янино-1',\n",
       "       'посёлок Войскорово', 'село Никольское', 'посёлок Терволово',\n",
       "       'поселок Стеклянный', 'посёлок городского типа Важины',\n",
       "       'посёлок Мыза-Ивановка', 'село Русско-Высоцкое',\n",
       "       'поселок городского типа Лебяжье',\n",
       "       'поселок городского типа Форносово', 'село Старая Ладога',\n",
       "       'поселок Житково', 'городской посёлок Виллози', 'деревня Лампово',\n",
       "       'деревня Шпаньково', 'деревня Лаврики', 'посёлок Сумино',\n",
       "       'посёлок Возрождение', 'деревня Старосиверская',\n",
       "       'посёлок Кикерино', 'поселок Возрождение',\n",
       "       'деревня Старое Хинколово', 'посёлок Пригородный',\n",
       "       'посёлок Торфяное', 'городской посёлок Будогощь',\n",
       "       'поселок Суходолье', 'поселок Красная Долина', 'деревня Хапо-Ое',\n",
       "       'поселок городского типа Дружная Горка', 'поселок Лисий Нос',\n",
       "       'деревня Яльгелево', 'посёлок Стеклянный', 'село Рождествено',\n",
       "       'деревня Старополье', 'посёлок Левашово', 'деревня Сяськелево',\n",
       "       'деревня Камышовка',\n",
       "       'садоводческое некоммерческое товарищество Лесная Поляна',\n",
       "       'деревня Хязельки', 'поселок Жилгородок',\n",
       "       'посёлок городского типа Павлово', 'деревня Ялгино',\n",
       "       'поселок Новый Учхоз', 'городской посёлок Рощино',\n",
       "       'поселок Гончарово', 'поселок Почап', 'посёлок Сапёрное',\n",
       "       'посёлок Платформа 69-й километр', 'поселок Каложицы',\n",
       "       'деревня Фалилеево', 'деревня Пельгора',\n",
       "       'поселок городского типа Лесогорский', 'деревня Торошковичи',\n",
       "       'посёлок Белоостров', 'посёлок Алексеевка', 'поселок Серебрянский',\n",
       "       'поселок Лукаши', 'поселок Петровское', 'деревня Щеглово',\n",
       "       'поселок Мичуринское', 'деревня Тарасово', 'поселок Кингисеппский',\n",
       "       'посёлок при железнодорожной станции Вещево', 'поселок Ушаки',\n",
       "       'деревня Котлы', 'деревня Сижно', 'деревня Торосово',\n",
       "       'посёлок Форт Красная Горка', 'деревня Новолисино',\n",
       "       'посёлок станции Громово', 'деревня Глинка', 'посёлок Мельниково',\n",
       "       'поселок городского типа Назия', 'деревня Старая Пустошь',\n",
       "       'поселок Коммунары', 'поселок Починок',\n",
       "       'посёлок городского типа Вознесенье', 'деревня Разбегаево',\n",
       "       'посёлок городского типа Рябово', 'поселок Гладкое',\n",
       "       'посёлок при железнодорожной станции Приветнинское',\n",
       "       'поселок Тёсово-4', 'посёлок Жилгородок', 'деревня Бор',\n",
       "       'посёлок Коробицыно', 'деревня Большая Вруда', 'деревня Курковицы',\n",
       "       'посёлок Лисий Нос', 'городской посёлок Советский',\n",
       "       'посёлок Кобралово', 'деревня Суоранда', 'поселок Кобралово',\n",
       "       'поселок городского типа Кондратьево',\n",
       "       'коттеджный поселок Счастье', 'поселок Любань', 'деревня Реброво',\n",
       "       'деревня Зимитицы', 'деревня Тойворово', 'поселок Семиозерье',\n",
       "       'поселок Лесное', 'поселок Совхозный', 'поселок Усть-Луга',\n",
       "       'посёлок Ленинское', 'посёлок Суйда',\n",
       "       'посёлок городского типа Форносово', 'деревня Нижние Осельки',\n",
       "       'посёлок станции Свирь', 'поселок Перово', 'Высоцк',\n",
       "       'поселок Гарболово', 'село Шум', 'поселок Котельский',\n",
       "       'поселок станции Лужайка', 'деревня Большая Пустомержа',\n",
       "       'поселок Красносельское', 'деревня Вахнова Кара', 'деревня Пижма',\n",
       "       'коттеджный поселок Кивеннапа Север', 'поселок Коробицыно',\n",
       "       'поселок Ромашки', 'посёлок Перово', 'деревня Каськово',\n",
       "       'деревня Куровицы', 'посёлок Плоское', 'поселок Сумино',\n",
       "       'поселок городского типа Большая Ижора', 'поселок Кирпичное',\n",
       "       'деревня Ям-Тесово', 'деревня Раздолье', 'деревня Терпилицы',\n",
       "       'поселок городского типа Токсово', 'посёлок Шугозеро',\n",
       "       'деревня Ваганово', 'поселок Пушное', 'садовое товарищество Садко',\n",
       "       'посёлок Усть-Ижора', 'деревня Выскатка',\n",
       "       'городской посёлок Свирьстрой', 'поселок Громово',\n",
       "       'деревня Кисельня', 'посёлок Старая Малукса',\n",
       "       'деревня Трубников Бор', 'поселок Калитино',\n",
       "       'посёлок Высокоключевой', 'садовое товарищество Приладожский',\n",
       "       'посёлок Пансионат Зелёный Бор', 'деревня Ненимяки',\n",
       "       'поселок Пансионат Зелёный Бор', 'деревня Снегирёвка',\n",
       "       'деревня Рапполово', 'деревня Пустынка', 'поселок Рабитицы',\n",
       "       'деревня Большой Сабск', 'деревня Русско', 'деревня Лупполово',\n",
       "       'деревня Большое Рейзино', 'деревня Малая Романовка',\n",
       "       'поселок Дружноселье', 'поселок Пчевжа', 'поселок Володарское',\n",
       "       'деревня Нижняя', 'коттеджный посёлок Лесное', 'деревня Тихковицы',\n",
       "       'деревня Борисова Грива', 'посёлок Дзержинского'], dtype=object)"
      ]
     },
     "execution_count": 15,
     "metadata": {},
     "output_type": "execute_result"
    }
   ],
   "source": [
    "#уникальные названия населенных пунктов\n",
    "data['locality_name'].unique()"
   ]
  },
  {
   "cell_type": "code",
   "execution_count": 16,
   "metadata": {},
   "outputs": [
    {
     "data": {
      "text/plain": [
       "364"
      ]
     },
     "execution_count": 16,
     "metadata": {},
     "output_type": "execute_result"
    }
   ],
   "source": [
    "#количество названий населенных пунктов до обработки\n",
    "data['locality_name'].nunique()"
   ]
  },
  {
   "cell_type": "code",
   "execution_count": 17,
   "metadata": {},
   "outputs": [],
   "source": [
    "replace_list = ['посёлок ', 'поселок ', 'городского типа ', 'садовое товарищество ', 'деревня ', 'коттеджный ', 'городской ', 'село ', 'при железнодорожной', 'станции ', 'имени ', 'садоводческое некоммерческое товарищество ']\n",
    "for rep in replace_list:\n",
    "    data['locality_name'] = data['locality_name'].str.replace(rep,'')\n",
    "data['locality_name'] = data['locality_name'].str.replace('ё', 'е')"
   ]
  },
  {
   "cell_type": "code",
   "execution_count": 18,
   "metadata": {},
   "outputs": [
    {
     "data": {
      "text/plain": [
       "307"
      ]
     },
     "execution_count": 18,
     "metadata": {},
     "output_type": "execute_result"
    }
   ],
   "source": [
    "#количество уникальных названий населенных пунктов после удаления неявных дубликатов\n",
    "data['locality_name'].nunique()"
   ]
  },
  {
   "cell_type": "markdown",
   "metadata": {},
   "source": [
    "\n",
    "<div class=\"alert alert-warning\">\n",
    "<b>Комментарий ревьюера:</b>☀️Можно еще проверить количество уникальных значений до и после обработки с помощью\n",
    "\n",
    "    \n",
    "    nunique()\n",
    "</div>"
   ]
  },
  {
   "cell_type": "markdown",
   "metadata": {},
   "source": [
    "**2.4 Удаление пропусков(продолжение)**"
   ]
  },
  {
   "cell_type": "code",
   "execution_count": 19,
   "metadata": {},
   "outputs": [
    {
     "name": "stderr",
     "output_type": "stream",
     "text": [
      "/opt/conda/lib/python3.9/site-packages/numpy/lib/nanfunctions.py:1117: RuntimeWarning: Mean of empty slice\n",
      "  return np.nanmean(a, axis, out=out, keepdims=keepdims)\n",
      "/opt/conda/lib/python3.9/site-packages/numpy/lib/nanfunctions.py:1117: RuntimeWarning: Mean of empty slice\n",
      "  return np.nanmean(a, axis, out=out, keepdims=keepdims)\n",
      "/opt/conda/lib/python3.9/site-packages/numpy/lib/nanfunctions.py:1117: RuntimeWarning: Mean of empty slice\n",
      "  return np.nanmean(a, axis, out=out, keepdims=keepdims)\n",
      "/opt/conda/lib/python3.9/site-packages/numpy/lib/nanfunctions.py:1117: RuntimeWarning: Mean of empty slice\n",
      "  return np.nanmean(a, axis, out=out, keepdims=keepdims)\n",
      "/opt/conda/lib/python3.9/site-packages/numpy/lib/nanfunctions.py:1117: RuntimeWarning: Mean of empty slice\n",
      "  return np.nanmean(a, axis, out=out, keepdims=keepdims)\n",
      "/opt/conda/lib/python3.9/site-packages/numpy/lib/nanfunctions.py:1117: RuntimeWarning: Mean of empty slice\n",
      "  return np.nanmean(a, axis, out=out, keepdims=keepdims)\n",
      "/opt/conda/lib/python3.9/site-packages/numpy/lib/nanfunctions.py:1117: RuntimeWarning: Mean of empty slice\n",
      "  return np.nanmean(a, axis, out=out, keepdims=keepdims)\n",
      "/opt/conda/lib/python3.9/site-packages/numpy/lib/nanfunctions.py:1117: RuntimeWarning: Mean of empty slice\n",
      "  return np.nanmean(a, axis, out=out, keepdims=keepdims)\n",
      "/opt/conda/lib/python3.9/site-packages/numpy/lib/nanfunctions.py:1117: RuntimeWarning: Mean of empty slice\n",
      "  return np.nanmean(a, axis, out=out, keepdims=keepdims)\n",
      "/opt/conda/lib/python3.9/site-packages/numpy/lib/nanfunctions.py:1117: RuntimeWarning: Mean of empty slice\n",
      "  return np.nanmean(a, axis, out=out, keepdims=keepdims)\n",
      "/opt/conda/lib/python3.9/site-packages/numpy/lib/nanfunctions.py:1117: RuntimeWarning: Mean of empty slice\n",
      "  return np.nanmean(a, axis, out=out, keepdims=keepdims)\n",
      "/opt/conda/lib/python3.9/site-packages/numpy/lib/nanfunctions.py:1117: RuntimeWarning: Mean of empty slice\n",
      "  return np.nanmean(a, axis, out=out, keepdims=keepdims)\n",
      "/opt/conda/lib/python3.9/site-packages/numpy/lib/nanfunctions.py:1117: RuntimeWarning: Mean of empty slice\n",
      "  return np.nanmean(a, axis, out=out, keepdims=keepdims)\n",
      "/opt/conda/lib/python3.9/site-packages/numpy/lib/nanfunctions.py:1117: RuntimeWarning: Mean of empty slice\n",
      "  return np.nanmean(a, axis, out=out, keepdims=keepdims)\n",
      "/opt/conda/lib/python3.9/site-packages/numpy/lib/nanfunctions.py:1117: RuntimeWarning: Mean of empty slice\n",
      "  return np.nanmean(a, axis, out=out, keepdims=keepdims)\n",
      "/opt/conda/lib/python3.9/site-packages/numpy/lib/nanfunctions.py:1117: RuntimeWarning: Mean of empty slice\n",
      "  return np.nanmean(a, axis, out=out, keepdims=keepdims)\n",
      "/opt/conda/lib/python3.9/site-packages/numpy/lib/nanfunctions.py:1117: RuntimeWarning: Mean of empty slice\n",
      "  return np.nanmean(a, axis, out=out, keepdims=keepdims)\n",
      "/opt/conda/lib/python3.9/site-packages/numpy/lib/nanfunctions.py:1117: RuntimeWarning: Mean of empty slice\n",
      "  return np.nanmean(a, axis, out=out, keepdims=keepdims)\n",
      "/opt/conda/lib/python3.9/site-packages/numpy/lib/nanfunctions.py:1117: RuntimeWarning: Mean of empty slice\n",
      "  return np.nanmean(a, axis, out=out, keepdims=keepdims)\n",
      "/opt/conda/lib/python3.9/site-packages/numpy/lib/nanfunctions.py:1117: RuntimeWarning: Mean of empty slice\n",
      "  return np.nanmean(a, axis, out=out, keepdims=keepdims)\n",
      "/opt/conda/lib/python3.9/site-packages/numpy/lib/nanfunctions.py:1117: RuntimeWarning: Mean of empty slice\n",
      "  return np.nanmean(a, axis, out=out, keepdims=keepdims)\n",
      "/opt/conda/lib/python3.9/site-packages/numpy/lib/nanfunctions.py:1117: RuntimeWarning: Mean of empty slice\n",
      "  return np.nanmean(a, axis, out=out, keepdims=keepdims)\n",
      "/opt/conda/lib/python3.9/site-packages/numpy/lib/nanfunctions.py:1117: RuntimeWarning: Mean of empty slice\n",
      "  return np.nanmean(a, axis, out=out, keepdims=keepdims)\n",
      "/opt/conda/lib/python3.9/site-packages/numpy/lib/nanfunctions.py:1117: RuntimeWarning: Mean of empty slice\n",
      "  return np.nanmean(a, axis, out=out, keepdims=keepdims)\n",
      "/opt/conda/lib/python3.9/site-packages/numpy/lib/nanfunctions.py:1117: RuntimeWarning: Mean of empty slice\n",
      "  return np.nanmean(a, axis, out=out, keepdims=keepdims)\n",
      "/opt/conda/lib/python3.9/site-packages/numpy/lib/nanfunctions.py:1117: RuntimeWarning: Mean of empty slice\n",
      "  return np.nanmean(a, axis, out=out, keepdims=keepdims)\n",
      "/opt/conda/lib/python3.9/site-packages/numpy/lib/nanfunctions.py:1117: RuntimeWarning: Mean of empty slice\n",
      "  return np.nanmean(a, axis, out=out, keepdims=keepdims)\n",
      "/opt/conda/lib/python3.9/site-packages/numpy/lib/nanfunctions.py:1117: RuntimeWarning: Mean of empty slice\n",
      "  return np.nanmean(a, axis, out=out, keepdims=keepdims)\n",
      "/opt/conda/lib/python3.9/site-packages/numpy/lib/nanfunctions.py:1117: RuntimeWarning: Mean of empty slice\n",
      "  return np.nanmean(a, axis, out=out, keepdims=keepdims)\n",
      "/opt/conda/lib/python3.9/site-packages/numpy/lib/nanfunctions.py:1117: RuntimeWarning: Mean of empty slice\n",
      "  return np.nanmean(a, axis, out=out, keepdims=keepdims)\n",
      "/opt/conda/lib/python3.9/site-packages/numpy/lib/nanfunctions.py:1117: RuntimeWarning: Mean of empty slice\n",
      "  return np.nanmean(a, axis, out=out, keepdims=keepdims)\n",
      "/opt/conda/lib/python3.9/site-packages/numpy/lib/nanfunctions.py:1117: RuntimeWarning: Mean of empty slice\n",
      "  return np.nanmean(a, axis, out=out, keepdims=keepdims)\n",
      "/opt/conda/lib/python3.9/site-packages/numpy/lib/nanfunctions.py:1117: RuntimeWarning: Mean of empty slice\n",
      "  return np.nanmean(a, axis, out=out, keepdims=keepdims)\n",
      "/opt/conda/lib/python3.9/site-packages/numpy/lib/nanfunctions.py:1117: RuntimeWarning: Mean of empty slice\n",
      "  return np.nanmean(a, axis, out=out, keepdims=keepdims)\n",
      "/opt/conda/lib/python3.9/site-packages/numpy/lib/nanfunctions.py:1117: RuntimeWarning: Mean of empty slice\n",
      "  return np.nanmean(a, axis, out=out, keepdims=keepdims)\n",
      "/opt/conda/lib/python3.9/site-packages/numpy/lib/nanfunctions.py:1117: RuntimeWarning: Mean of empty slice\n",
      "  return np.nanmean(a, axis, out=out, keepdims=keepdims)\n",
      "/opt/conda/lib/python3.9/site-packages/numpy/lib/nanfunctions.py:1117: RuntimeWarning: Mean of empty slice\n",
      "  return np.nanmean(a, axis, out=out, keepdims=keepdims)\n",
      "/opt/conda/lib/python3.9/site-packages/numpy/lib/nanfunctions.py:1117: RuntimeWarning: Mean of empty slice\n",
      "  return np.nanmean(a, axis, out=out, keepdims=keepdims)\n",
      "/opt/conda/lib/python3.9/site-packages/numpy/lib/nanfunctions.py:1117: RuntimeWarning: Mean of empty slice\n",
      "  return np.nanmean(a, axis, out=out, keepdims=keepdims)\n",
      "/opt/conda/lib/python3.9/site-packages/numpy/lib/nanfunctions.py:1117: RuntimeWarning: Mean of empty slice\n",
      "  return np.nanmean(a, axis, out=out, keepdims=keepdims)\n",
      "/opt/conda/lib/python3.9/site-packages/numpy/lib/nanfunctions.py:1117: RuntimeWarning: Mean of empty slice\n",
      "  return np.nanmean(a, axis, out=out, keepdims=keepdims)\n",
      "/opt/conda/lib/python3.9/site-packages/numpy/lib/nanfunctions.py:1117: RuntimeWarning: Mean of empty slice\n",
      "  return np.nanmean(a, axis, out=out, keepdims=keepdims)\n",
      "/opt/conda/lib/python3.9/site-packages/numpy/lib/nanfunctions.py:1117: RuntimeWarning: Mean of empty slice\n",
      "  return np.nanmean(a, axis, out=out, keepdims=keepdims)\n",
      "/opt/conda/lib/python3.9/site-packages/numpy/lib/nanfunctions.py:1117: RuntimeWarning: Mean of empty slice\n",
      "  return np.nanmean(a, axis, out=out, keepdims=keepdims)\n",
      "/opt/conda/lib/python3.9/site-packages/numpy/lib/nanfunctions.py:1117: RuntimeWarning: Mean of empty slice\n",
      "  return np.nanmean(a, axis, out=out, keepdims=keepdims)\n",
      "/opt/conda/lib/python3.9/site-packages/numpy/lib/nanfunctions.py:1117: RuntimeWarning: Mean of empty slice\n",
      "  return np.nanmean(a, axis, out=out, keepdims=keepdims)\n",
      "/opt/conda/lib/python3.9/site-packages/numpy/lib/nanfunctions.py:1117: RuntimeWarning: Mean of empty slice\n",
      "  return np.nanmean(a, axis, out=out, keepdims=keepdims)\n",
      "/opt/conda/lib/python3.9/site-packages/numpy/lib/nanfunctions.py:1117: RuntimeWarning: Mean of empty slice\n",
      "  return np.nanmean(a, axis, out=out, keepdims=keepdims)\n",
      "/opt/conda/lib/python3.9/site-packages/numpy/lib/nanfunctions.py:1117: RuntimeWarning: Mean of empty slice\n",
      "  return np.nanmean(a, axis, out=out, keepdims=keepdims)\n",
      "/opt/conda/lib/python3.9/site-packages/numpy/lib/nanfunctions.py:1117: RuntimeWarning: Mean of empty slice\n",
      "  return np.nanmean(a, axis, out=out, keepdims=keepdims)\n",
      "/opt/conda/lib/python3.9/site-packages/numpy/lib/nanfunctions.py:1117: RuntimeWarning: Mean of empty slice\n",
      "  return np.nanmean(a, axis, out=out, keepdims=keepdims)\n",
      "/opt/conda/lib/python3.9/site-packages/numpy/lib/nanfunctions.py:1117: RuntimeWarning: Mean of empty slice\n",
      "  return np.nanmean(a, axis, out=out, keepdims=keepdims)\n",
      "/opt/conda/lib/python3.9/site-packages/numpy/lib/nanfunctions.py:1117: RuntimeWarning: Mean of empty slice\n",
      "  return np.nanmean(a, axis, out=out, keepdims=keepdims)\n",
      "/opt/conda/lib/python3.9/site-packages/numpy/lib/nanfunctions.py:1117: RuntimeWarning: Mean of empty slice\n",
      "  return np.nanmean(a, axis, out=out, keepdims=keepdims)\n",
      "/opt/conda/lib/python3.9/site-packages/numpy/lib/nanfunctions.py:1117: RuntimeWarning: Mean of empty slice\n",
      "  return np.nanmean(a, axis, out=out, keepdims=keepdims)\n",
      "/opt/conda/lib/python3.9/site-packages/numpy/lib/nanfunctions.py:1117: RuntimeWarning: Mean of empty slice\n",
      "  return np.nanmean(a, axis, out=out, keepdims=keepdims)\n",
      "/opt/conda/lib/python3.9/site-packages/numpy/lib/nanfunctions.py:1117: RuntimeWarning: Mean of empty slice\n",
      "  return np.nanmean(a, axis, out=out, keepdims=keepdims)\n",
      "/opt/conda/lib/python3.9/site-packages/numpy/lib/nanfunctions.py:1117: RuntimeWarning: Mean of empty slice\n",
      "  return np.nanmean(a, axis, out=out, keepdims=keepdims)\n",
      "/opt/conda/lib/python3.9/site-packages/numpy/lib/nanfunctions.py:1117: RuntimeWarning: Mean of empty slice\n",
      "  return np.nanmean(a, axis, out=out, keepdims=keepdims)\n",
      "/opt/conda/lib/python3.9/site-packages/numpy/lib/nanfunctions.py:1117: RuntimeWarning: Mean of empty slice\n",
      "  return np.nanmean(a, axis, out=out, keepdims=keepdims)\n",
      "/opt/conda/lib/python3.9/site-packages/numpy/lib/nanfunctions.py:1117: RuntimeWarning: Mean of empty slice\n",
      "  return np.nanmean(a, axis, out=out, keepdims=keepdims)\n",
      "/opt/conda/lib/python3.9/site-packages/numpy/lib/nanfunctions.py:1117: RuntimeWarning: Mean of empty slice\n",
      "  return np.nanmean(a, axis, out=out, keepdims=keepdims)\n",
      "/opt/conda/lib/python3.9/site-packages/numpy/lib/nanfunctions.py:1117: RuntimeWarning: Mean of empty slice\n",
      "  return np.nanmean(a, axis, out=out, keepdims=keepdims)\n",
      "/opt/conda/lib/python3.9/site-packages/numpy/lib/nanfunctions.py:1117: RuntimeWarning: Mean of empty slice\n",
      "  return np.nanmean(a, axis, out=out, keepdims=keepdims)\n"
     ]
    }
   ],
   "source": [
    "#заменяем пропущенные значения высоты потолка медианными по населенному пункту\n",
    "for locality in data['locality_name'].unique():\n",
    "        data.loc[(data['locality_name'] == locality) & (data['ceiling_height'].isna()), 'ceiling_height'] = \\\n",
    "        data.loc[data['locality_name'] == locality, 'ceiling_height'].median()"
   ]
  },
  {
   "cell_type": "code",
   "execution_count": 20,
   "metadata": {},
   "outputs": [
    {
     "data": {
      "text/plain": [
       "total_images                0\n",
       "last_price                  0\n",
       "total_area                  0\n",
       "first_day_exposition        0\n",
       "rooms                       0\n",
       "ceiling_height             95\n",
       "floors_total                0\n",
       "living_area                 0\n",
       "floor                       0\n",
       "is_apartment                0\n",
       "studio                      0\n",
       "open_plan                   0\n",
       "kitchen_area             2222\n",
       "balcony                     0\n",
       "locality_name               0\n",
       "airports_nearest         5524\n",
       "cityCenters_nearest      5501\n",
       "parks_around3000         5500\n",
       "parks_nearest           15535\n",
       "ponds_around3000         5500\n",
       "ponds_nearest           14529\n",
       "days_exposition          3171\n",
       "dtype: int64"
      ]
     },
     "execution_count": 20,
     "metadata": {},
     "output_type": "execute_result"
    }
   ],
   "source": [
    "#оставшиеся пропущенные значения \n",
    "data.isna().sum()"
   ]
  },
  {
   "cell_type": "markdown",
   "metadata": {},
   "source": [
    "Значения высоты потолков больше 20 скорее всего связано с тем, что была неправильно поставлена запятая, в результате значения увеличились на порядок. Исправим это домножением на 0.1"
   ]
  },
  {
   "cell_type": "code",
   "execution_count": 21,
   "metadata": {},
   "outputs": [],
   "source": [
    "#заменяем нереалистичные значения высоты потолков\n",
    "def ceiling_height_real(height):\n",
    "    if height >= 20:\n",
    "        return height * 0.1\n",
    "    else:\n",
    "        return height\n",
    "data['ceiling_height'] = data['ceiling_height'].apply(ceiling_height_real)"
   ]
  },
  {
   "cell_type": "markdown",
   "metadata": {},
   "source": [
    "**Вывод по разделу**\n",
    "- Были заменены пропущенные значения в столбцах ceiling_height, living_area, balcony.\n",
    "- В столбцах balcony, last_price, floors_total для удобства тип данных с float64 был  изменен на int64. Также в столбце first_day_exposition формат даты был изменен на дату без времени.\n",
    "- В столбце locality_name были удалены неявные дубликаты.\n",
    "- В результате предобработки данных, введенных пользователями, осталось огромное количество пропусков в столбце is_apartment. Возможно этот столбец был необязательным для заполнения, разработчикам следует проверить форму. Также стоит обратить внимание на столбец kitchen_area.\n",
    "- Следует уделить особое внимание автоматическому сбору данных. Скорее всего произошел сбой в работе геосервисов."
   ]
  },
  {
   "cell_type": "markdown",
   "metadata": {},
   "source": [
    "\n",
    "<div class=\"alert alert-success\">\n",
    "<b>Комментарий ревьюера:</b>☀️Все необходимые шаги в предобработке данных были выполнены.</div>"
   ]
  },
  {
   "cell_type": "markdown",
   "metadata": {},
   "source": [
    "### Добавление новых столбцов"
   ]
  },
  {
   "cell_type": "markdown",
   "metadata": {},
   "source": [
    "Для расчета цены одного квадратного метра поделим стоимость объекта на его общую площадь."
   ]
  },
  {
   "cell_type": "code",
   "execution_count": 22,
   "metadata": {},
   "outputs": [],
   "source": [
    "data['squaremeter_price'] = data['last_price']/data['total_area']"
   ]
  },
  {
   "cell_type": "markdown",
   "metadata": {},
   "source": [
    "Добавим столбец с номером дня недели публикации объявления, где 0 - понедельник, 1 – вторник и т.д. Также добавим столбецы с номером месяца и года публикации."
   ]
  },
  {
   "cell_type": "code",
   "execution_count": 23,
   "metadata": {},
   "outputs": [],
   "source": [
    "data['dayweek_exposition'] = data['first_day_exposition'].dt.weekday\n",
    "data['month_exposition'] = data['first_day_exposition'].dt.month\n",
    "data['year_exposition'] = data['first_day_exposition'].dt.year"
   ]
  },
  {
   "cell_type": "markdown",
   "metadata": {},
   "source": [
    "Для определения типа этажа квартиры напишем функцию, а затем с помощью apply применим к каждой строке датафрейма."
   ]
  },
  {
   "cell_type": "code",
   "execution_count": 24,
   "metadata": {},
   "outputs": [],
   "source": [
    "def floor_category(row):\n",
    "    floors_total = row['floors_total']\n",
    "    floor = row['floor']\n",
    "    if floor == 1:\n",
    "        return 'первый'\n",
    "    elif floor == floors_total:\n",
    "        return 'последний'\n",
    "    elif 1 < floor < floors_total:\n",
    "        return 'другой'\n",
    "data['floor_category'] = data.apply(floor_category, axis = 1)"
   ]
  },
  {
   "cell_type": "markdown",
   "metadata": {},
   "source": [
    "Добавим столбец с расстоянием до центра города в киллометрах, для этого значения столбца cityCenters_nearest поделим на 1000 и округлим до целых чисел."
   ]
  },
  {
   "cell_type": "code",
   "execution_count": 25,
   "metadata": {},
   "outputs": [],
   "source": [
    "data['city_centers_nearest_km'] = ( data['cityCenters_nearest'] / 1000 ).round(0)"
   ]
  },
  {
   "cell_type": "code",
   "execution_count": 26,
   "metadata": {},
   "outputs": [
    {
     "data": {
      "text/html": [
       "<div>\n",
       "<style scoped>\n",
       "    .dataframe tbody tr th:only-of-type {\n",
       "        vertical-align: middle;\n",
       "    }\n",
       "\n",
       "    .dataframe tbody tr th {\n",
       "        vertical-align: top;\n",
       "    }\n",
       "\n",
       "    .dataframe thead th {\n",
       "        text-align: right;\n",
       "    }\n",
       "</style>\n",
       "<table border=\"1\" class=\"dataframe\">\n",
       "  <thead>\n",
       "    <tr style=\"text-align: right;\">\n",
       "      <th></th>\n",
       "      <th>total_images</th>\n",
       "      <th>last_price</th>\n",
       "      <th>total_area</th>\n",
       "      <th>first_day_exposition</th>\n",
       "      <th>rooms</th>\n",
       "      <th>ceiling_height</th>\n",
       "      <th>floors_total</th>\n",
       "      <th>living_area</th>\n",
       "      <th>floor</th>\n",
       "      <th>is_apartment</th>\n",
       "      <th>...</th>\n",
       "      <th>parks_nearest</th>\n",
       "      <th>ponds_around3000</th>\n",
       "      <th>ponds_nearest</th>\n",
       "      <th>days_exposition</th>\n",
       "      <th>squaremeter_price</th>\n",
       "      <th>dayweek_exposition</th>\n",
       "      <th>month_exposition</th>\n",
       "      <th>year_exposition</th>\n",
       "      <th>floor_category</th>\n",
       "      <th>city_centers_nearest_km</th>\n",
       "    </tr>\n",
       "  </thead>\n",
       "  <tbody>\n",
       "    <tr>\n",
       "      <th>0</th>\n",
       "      <td>20</td>\n",
       "      <td>13000000</td>\n",
       "      <td>108.00</td>\n",
       "      <td>2019-03-07</td>\n",
       "      <td>3</td>\n",
       "      <td>2.700</td>\n",
       "      <td>16</td>\n",
       "      <td>51.00</td>\n",
       "      <td>8</td>\n",
       "      <td>False</td>\n",
       "      <td>...</td>\n",
       "      <td>482.0</td>\n",
       "      <td>2.0</td>\n",
       "      <td>755.0</td>\n",
       "      <td>NaN</td>\n",
       "      <td>120370.370370</td>\n",
       "      <td>3</td>\n",
       "      <td>3</td>\n",
       "      <td>2019</td>\n",
       "      <td>другой</td>\n",
       "      <td>16.0</td>\n",
       "    </tr>\n",
       "    <tr>\n",
       "      <th>1</th>\n",
       "      <td>7</td>\n",
       "      <td>3350000</td>\n",
       "      <td>40.40</td>\n",
       "      <td>2018-12-04</td>\n",
       "      <td>1</td>\n",
       "      <td>2.615</td>\n",
       "      <td>11</td>\n",
       "      <td>18.60</td>\n",
       "      <td>1</td>\n",
       "      <td>False</td>\n",
       "      <td>...</td>\n",
       "      <td>NaN</td>\n",
       "      <td>0.0</td>\n",
       "      <td>NaN</td>\n",
       "      <td>81.0</td>\n",
       "      <td>82920.792079</td>\n",
       "      <td>1</td>\n",
       "      <td>12</td>\n",
       "      <td>2018</td>\n",
       "      <td>первый</td>\n",
       "      <td>19.0</td>\n",
       "    </tr>\n",
       "    <tr>\n",
       "      <th>2</th>\n",
       "      <td>10</td>\n",
       "      <td>5196000</td>\n",
       "      <td>56.00</td>\n",
       "      <td>2015-08-20</td>\n",
       "      <td>2</td>\n",
       "      <td>2.700</td>\n",
       "      <td>5</td>\n",
       "      <td>34.30</td>\n",
       "      <td>4</td>\n",
       "      <td>False</td>\n",
       "      <td>...</td>\n",
       "      <td>90.0</td>\n",
       "      <td>2.0</td>\n",
       "      <td>574.0</td>\n",
       "      <td>558.0</td>\n",
       "      <td>92785.714286</td>\n",
       "      <td>3</td>\n",
       "      <td>8</td>\n",
       "      <td>2015</td>\n",
       "      <td>другой</td>\n",
       "      <td>14.0</td>\n",
       "    </tr>\n",
       "    <tr>\n",
       "      <th>3</th>\n",
       "      <td>0</td>\n",
       "      <td>64900000</td>\n",
       "      <td>159.00</td>\n",
       "      <td>2015-07-24</td>\n",
       "      <td>3</td>\n",
       "      <td>2.700</td>\n",
       "      <td>14</td>\n",
       "      <td>45.00</td>\n",
       "      <td>9</td>\n",
       "      <td>False</td>\n",
       "      <td>...</td>\n",
       "      <td>84.0</td>\n",
       "      <td>3.0</td>\n",
       "      <td>234.0</td>\n",
       "      <td>424.0</td>\n",
       "      <td>408176.100629</td>\n",
       "      <td>4</td>\n",
       "      <td>7</td>\n",
       "      <td>2015</td>\n",
       "      <td>другой</td>\n",
       "      <td>7.0</td>\n",
       "    </tr>\n",
       "    <tr>\n",
       "      <th>4</th>\n",
       "      <td>2</td>\n",
       "      <td>10000000</td>\n",
       "      <td>100.00</td>\n",
       "      <td>2018-06-19</td>\n",
       "      <td>2</td>\n",
       "      <td>3.030</td>\n",
       "      <td>14</td>\n",
       "      <td>32.00</td>\n",
       "      <td>13</td>\n",
       "      <td>False</td>\n",
       "      <td>...</td>\n",
       "      <td>112.0</td>\n",
       "      <td>1.0</td>\n",
       "      <td>48.0</td>\n",
       "      <td>121.0</td>\n",
       "      <td>100000.000000</td>\n",
       "      <td>1</td>\n",
       "      <td>6</td>\n",
       "      <td>2018</td>\n",
       "      <td>другой</td>\n",
       "      <td>8.0</td>\n",
       "    </tr>\n",
       "    <tr>\n",
       "      <th>5</th>\n",
       "      <td>10</td>\n",
       "      <td>2890000</td>\n",
       "      <td>30.40</td>\n",
       "      <td>2018-09-10</td>\n",
       "      <td>1</td>\n",
       "      <td>2.650</td>\n",
       "      <td>12</td>\n",
       "      <td>14.40</td>\n",
       "      <td>5</td>\n",
       "      <td>False</td>\n",
       "      <td>...</td>\n",
       "      <td>NaN</td>\n",
       "      <td>NaN</td>\n",
       "      <td>NaN</td>\n",
       "      <td>55.0</td>\n",
       "      <td>95065.789474</td>\n",
       "      <td>0</td>\n",
       "      <td>9</td>\n",
       "      <td>2018</td>\n",
       "      <td>другой</td>\n",
       "      <td>NaN</td>\n",
       "    </tr>\n",
       "    <tr>\n",
       "      <th>6</th>\n",
       "      <td>6</td>\n",
       "      <td>3700000</td>\n",
       "      <td>37.30</td>\n",
       "      <td>2017-11-02</td>\n",
       "      <td>1</td>\n",
       "      <td>2.640</td>\n",
       "      <td>26</td>\n",
       "      <td>10.60</td>\n",
       "      <td>6</td>\n",
       "      <td>False</td>\n",
       "      <td>...</td>\n",
       "      <td>NaN</td>\n",
       "      <td>0.0</td>\n",
       "      <td>NaN</td>\n",
       "      <td>155.0</td>\n",
       "      <td>99195.710456</td>\n",
       "      <td>3</td>\n",
       "      <td>11</td>\n",
       "      <td>2017</td>\n",
       "      <td>другой</td>\n",
       "      <td>19.0</td>\n",
       "    </tr>\n",
       "    <tr>\n",
       "      <th>7</th>\n",
       "      <td>5</td>\n",
       "      <td>7915000</td>\n",
       "      <td>71.60</td>\n",
       "      <td>2019-04-18</td>\n",
       "      <td>2</td>\n",
       "      <td>2.700</td>\n",
       "      <td>24</td>\n",
       "      <td>30.50</td>\n",
       "      <td>22</td>\n",
       "      <td>False</td>\n",
       "      <td>...</td>\n",
       "      <td>NaN</td>\n",
       "      <td>0.0</td>\n",
       "      <td>NaN</td>\n",
       "      <td>NaN</td>\n",
       "      <td>110544.692737</td>\n",
       "      <td>3</td>\n",
       "      <td>4</td>\n",
       "      <td>2019</td>\n",
       "      <td>другой</td>\n",
       "      <td>12.0</td>\n",
       "    </tr>\n",
       "    <tr>\n",
       "      <th>8</th>\n",
       "      <td>20</td>\n",
       "      <td>2900000</td>\n",
       "      <td>33.16</td>\n",
       "      <td>2018-05-23</td>\n",
       "      <td>1</td>\n",
       "      <td>2.700</td>\n",
       "      <td>27</td>\n",
       "      <td>15.43</td>\n",
       "      <td>26</td>\n",
       "      <td>False</td>\n",
       "      <td>...</td>\n",
       "      <td>NaN</td>\n",
       "      <td>NaN</td>\n",
       "      <td>NaN</td>\n",
       "      <td>189.0</td>\n",
       "      <td>87454.764777</td>\n",
       "      <td>2</td>\n",
       "      <td>5</td>\n",
       "      <td>2018</td>\n",
       "      <td>другой</td>\n",
       "      <td>NaN</td>\n",
       "    </tr>\n",
       "    <tr>\n",
       "      <th>9</th>\n",
       "      <td>18</td>\n",
       "      <td>5400000</td>\n",
       "      <td>61.00</td>\n",
       "      <td>2017-02-26</td>\n",
       "      <td>3</td>\n",
       "      <td>2.500</td>\n",
       "      <td>9</td>\n",
       "      <td>43.60</td>\n",
       "      <td>7</td>\n",
       "      <td>False</td>\n",
       "      <td>...</td>\n",
       "      <td>NaN</td>\n",
       "      <td>0.0</td>\n",
       "      <td>NaN</td>\n",
       "      <td>289.0</td>\n",
       "      <td>88524.590164</td>\n",
       "      <td>6</td>\n",
       "      <td>2</td>\n",
       "      <td>2017</td>\n",
       "      <td>другой</td>\n",
       "      <td>15.0</td>\n",
       "    </tr>\n",
       "    <tr>\n",
       "      <th>10</th>\n",
       "      <td>5</td>\n",
       "      <td>5050000</td>\n",
       "      <td>39.60</td>\n",
       "      <td>2017-11-16</td>\n",
       "      <td>1</td>\n",
       "      <td>2.670</td>\n",
       "      <td>12</td>\n",
       "      <td>20.30</td>\n",
       "      <td>3</td>\n",
       "      <td>False</td>\n",
       "      <td>...</td>\n",
       "      <td>310.0</td>\n",
       "      <td>2.0</td>\n",
       "      <td>553.0</td>\n",
       "      <td>137.0</td>\n",
       "      <td>127525.252525</td>\n",
       "      <td>3</td>\n",
       "      <td>11</td>\n",
       "      <td>2017</td>\n",
       "      <td>другой</td>\n",
       "      <td>14.0</td>\n",
       "    </tr>\n",
       "    <tr>\n",
       "      <th>11</th>\n",
       "      <td>9</td>\n",
       "      <td>3300000</td>\n",
       "      <td>44.00</td>\n",
       "      <td>2018-08-27</td>\n",
       "      <td>2</td>\n",
       "      <td>2.550</td>\n",
       "      <td>5</td>\n",
       "      <td>31.00</td>\n",
       "      <td>4</td>\n",
       "      <td>False</td>\n",
       "      <td>...</td>\n",
       "      <td>NaN</td>\n",
       "      <td>0.0</td>\n",
       "      <td>NaN</td>\n",
       "      <td>7.0</td>\n",
       "      <td>75000.000000</td>\n",
       "      <td>0</td>\n",
       "      <td>8</td>\n",
       "      <td>2018</td>\n",
       "      <td>другой</td>\n",
       "      <td>52.0</td>\n",
       "    </tr>\n",
       "    <tr>\n",
       "      <th>12</th>\n",
       "      <td>10</td>\n",
       "      <td>3890000</td>\n",
       "      <td>54.00</td>\n",
       "      <td>2016-06-30</td>\n",
       "      <td>2</td>\n",
       "      <td>2.600</td>\n",
       "      <td>5</td>\n",
       "      <td>30.00</td>\n",
       "      <td>5</td>\n",
       "      <td>False</td>\n",
       "      <td>...</td>\n",
       "      <td>NaN</td>\n",
       "      <td>NaN</td>\n",
       "      <td>NaN</td>\n",
       "      <td>90.0</td>\n",
       "      <td>72037.037037</td>\n",
       "      <td>3</td>\n",
       "      <td>6</td>\n",
       "      <td>2016</td>\n",
       "      <td>последний</td>\n",
       "      <td>NaN</td>\n",
       "    </tr>\n",
       "    <tr>\n",
       "      <th>13</th>\n",
       "      <td>20</td>\n",
       "      <td>3550000</td>\n",
       "      <td>42.80</td>\n",
       "      <td>2017-07-01</td>\n",
       "      <td>2</td>\n",
       "      <td>2.560</td>\n",
       "      <td>5</td>\n",
       "      <td>27.00</td>\n",
       "      <td>5</td>\n",
       "      <td>False</td>\n",
       "      <td>...</td>\n",
       "      <td>294.0</td>\n",
       "      <td>3.0</td>\n",
       "      <td>298.0</td>\n",
       "      <td>366.0</td>\n",
       "      <td>82943.925234</td>\n",
       "      <td>5</td>\n",
       "      <td>7</td>\n",
       "      <td>2017</td>\n",
       "      <td>последний</td>\n",
       "      <td>33.0</td>\n",
       "    </tr>\n",
       "    <tr>\n",
       "      <th>14</th>\n",
       "      <td>1</td>\n",
       "      <td>4400000</td>\n",
       "      <td>36.00</td>\n",
       "      <td>2016-06-23</td>\n",
       "      <td>1</td>\n",
       "      <td>2.600</td>\n",
       "      <td>6</td>\n",
       "      <td>17.00</td>\n",
       "      <td>1</td>\n",
       "      <td>False</td>\n",
       "      <td>...</td>\n",
       "      <td>NaN</td>\n",
       "      <td>1.0</td>\n",
       "      <td>96.0</td>\n",
       "      <td>203.0</td>\n",
       "      <td>122222.222222</td>\n",
       "      <td>3</td>\n",
       "      <td>6</td>\n",
       "      <td>2016</td>\n",
       "      <td>первый</td>\n",
       "      <td>31.0</td>\n",
       "    </tr>\n",
       "    <tr>\n",
       "      <th>15</th>\n",
       "      <td>16</td>\n",
       "      <td>4650000</td>\n",
       "      <td>39.00</td>\n",
       "      <td>2017-11-18</td>\n",
       "      <td>1</td>\n",
       "      <td>2.700</td>\n",
       "      <td>14</td>\n",
       "      <td>20.50</td>\n",
       "      <td>5</td>\n",
       "      <td>False</td>\n",
       "      <td>...</td>\n",
       "      <td>590.0</td>\n",
       "      <td>1.0</td>\n",
       "      <td>296.0</td>\n",
       "      <td>19.0</td>\n",
       "      <td>119230.769231</td>\n",
       "      <td>5</td>\n",
       "      <td>11</td>\n",
       "      <td>2017</td>\n",
       "      <td>другой</td>\n",
       "      <td>14.0</td>\n",
       "    </tr>\n",
       "    <tr>\n",
       "      <th>16</th>\n",
       "      <td>11</td>\n",
       "      <td>6700000</td>\n",
       "      <td>82.00</td>\n",
       "      <td>2017-11-23</td>\n",
       "      <td>3</td>\n",
       "      <td>3.050</td>\n",
       "      <td>5</td>\n",
       "      <td>55.60</td>\n",
       "      <td>1</td>\n",
       "      <td>False</td>\n",
       "      <td>...</td>\n",
       "      <td>420.0</td>\n",
       "      <td>0.0</td>\n",
       "      <td>NaN</td>\n",
       "      <td>397.0</td>\n",
       "      <td>81707.317073</td>\n",
       "      <td>3</td>\n",
       "      <td>11</td>\n",
       "      <td>2017</td>\n",
       "      <td>первый</td>\n",
       "      <td>11.0</td>\n",
       "    </tr>\n",
       "    <tr>\n",
       "      <th>17</th>\n",
       "      <td>6</td>\n",
       "      <td>4180000</td>\n",
       "      <td>36.00</td>\n",
       "      <td>2016-09-09</td>\n",
       "      <td>1</td>\n",
       "      <td>2.700</td>\n",
       "      <td>17</td>\n",
       "      <td>16.50</td>\n",
       "      <td>7</td>\n",
       "      <td>False</td>\n",
       "      <td>...</td>\n",
       "      <td>NaN</td>\n",
       "      <td>1.0</td>\n",
       "      <td>859.0</td>\n",
       "      <td>571.0</td>\n",
       "      <td>116111.111111</td>\n",
       "      <td>4</td>\n",
       "      <td>9</td>\n",
       "      <td>2016</td>\n",
       "      <td>другой</td>\n",
       "      <td>15.0</td>\n",
       "    </tr>\n",
       "    <tr>\n",
       "      <th>18</th>\n",
       "      <td>8</td>\n",
       "      <td>3250000</td>\n",
       "      <td>31.00</td>\n",
       "      <td>2017-01-27</td>\n",
       "      <td>1</td>\n",
       "      <td>2.500</td>\n",
       "      <td>5</td>\n",
       "      <td>19.40</td>\n",
       "      <td>2</td>\n",
       "      <td>False</td>\n",
       "      <td>...</td>\n",
       "      <td>759.0</td>\n",
       "      <td>0.0</td>\n",
       "      <td>NaN</td>\n",
       "      <td>168.0</td>\n",
       "      <td>104838.709677</td>\n",
       "      <td>4</td>\n",
       "      <td>1</td>\n",
       "      <td>2017</td>\n",
       "      <td>другой</td>\n",
       "      <td>11.0</td>\n",
       "    </tr>\n",
       "    <tr>\n",
       "      <th>19</th>\n",
       "      <td>16</td>\n",
       "      <td>14200000</td>\n",
       "      <td>121.00</td>\n",
       "      <td>2019-01-09</td>\n",
       "      <td>3</td>\n",
       "      <td>2.750</td>\n",
       "      <td>16</td>\n",
       "      <td>76.00</td>\n",
       "      <td>8</td>\n",
       "      <td>False</td>\n",
       "      <td>...</td>\n",
       "      <td>NaN</td>\n",
       "      <td>0.0</td>\n",
       "      <td>NaN</td>\n",
       "      <td>97.0</td>\n",
       "      <td>117355.371901</td>\n",
       "      <td>2</td>\n",
       "      <td>1</td>\n",
       "      <td>2019</td>\n",
       "      <td>другой</td>\n",
       "      <td>13.0</td>\n",
       "    </tr>\n",
       "  </tbody>\n",
       "</table>\n",
       "<p>20 rows × 28 columns</p>\n",
       "</div>"
      ],
      "text/plain": [
       "    total_images  last_price  total_area first_day_exposition  rooms  \\\n",
       "0             20    13000000      108.00           2019-03-07      3   \n",
       "1              7     3350000       40.40           2018-12-04      1   \n",
       "2             10     5196000       56.00           2015-08-20      2   \n",
       "3              0    64900000      159.00           2015-07-24      3   \n",
       "4              2    10000000      100.00           2018-06-19      2   \n",
       "5             10     2890000       30.40           2018-09-10      1   \n",
       "6              6     3700000       37.30           2017-11-02      1   \n",
       "7              5     7915000       71.60           2019-04-18      2   \n",
       "8             20     2900000       33.16           2018-05-23      1   \n",
       "9             18     5400000       61.00           2017-02-26      3   \n",
       "10             5     5050000       39.60           2017-11-16      1   \n",
       "11             9     3300000       44.00           2018-08-27      2   \n",
       "12            10     3890000       54.00           2016-06-30      2   \n",
       "13            20     3550000       42.80           2017-07-01      2   \n",
       "14             1     4400000       36.00           2016-06-23      1   \n",
       "15            16     4650000       39.00           2017-11-18      1   \n",
       "16            11     6700000       82.00           2017-11-23      3   \n",
       "17             6     4180000       36.00           2016-09-09      1   \n",
       "18             8     3250000       31.00           2017-01-27      1   \n",
       "19            16    14200000      121.00           2019-01-09      3   \n",
       "\n",
       "    ceiling_height  floors_total  living_area  floor  is_apartment  ...  \\\n",
       "0            2.700            16        51.00      8         False  ...   \n",
       "1            2.615            11        18.60      1         False  ...   \n",
       "2            2.700             5        34.30      4         False  ...   \n",
       "3            2.700            14        45.00      9         False  ...   \n",
       "4            3.030            14        32.00     13         False  ...   \n",
       "5            2.650            12        14.40      5         False  ...   \n",
       "6            2.640            26        10.60      6         False  ...   \n",
       "7            2.700            24        30.50     22         False  ...   \n",
       "8            2.700            27        15.43     26         False  ...   \n",
       "9            2.500             9        43.60      7         False  ...   \n",
       "10           2.670            12        20.30      3         False  ...   \n",
       "11           2.550             5        31.00      4         False  ...   \n",
       "12           2.600             5        30.00      5         False  ...   \n",
       "13           2.560             5        27.00      5         False  ...   \n",
       "14           2.600             6        17.00      1         False  ...   \n",
       "15           2.700            14        20.50      5         False  ...   \n",
       "16           3.050             5        55.60      1         False  ...   \n",
       "17           2.700            17        16.50      7         False  ...   \n",
       "18           2.500             5        19.40      2         False  ...   \n",
       "19           2.750            16        76.00      8         False  ...   \n",
       "\n",
       "    parks_nearest  ponds_around3000  ponds_nearest  days_exposition  \\\n",
       "0           482.0               2.0          755.0              NaN   \n",
       "1             NaN               0.0            NaN             81.0   \n",
       "2            90.0               2.0          574.0            558.0   \n",
       "3            84.0               3.0          234.0            424.0   \n",
       "4           112.0               1.0           48.0            121.0   \n",
       "5             NaN               NaN            NaN             55.0   \n",
       "6             NaN               0.0            NaN            155.0   \n",
       "7             NaN               0.0            NaN              NaN   \n",
       "8             NaN               NaN            NaN            189.0   \n",
       "9             NaN               0.0            NaN            289.0   \n",
       "10          310.0               2.0          553.0            137.0   \n",
       "11            NaN               0.0            NaN              7.0   \n",
       "12            NaN               NaN            NaN             90.0   \n",
       "13          294.0               3.0          298.0            366.0   \n",
       "14            NaN               1.0           96.0            203.0   \n",
       "15          590.0               1.0          296.0             19.0   \n",
       "16          420.0               0.0            NaN            397.0   \n",
       "17            NaN               1.0          859.0            571.0   \n",
       "18          759.0               0.0            NaN            168.0   \n",
       "19            NaN               0.0            NaN             97.0   \n",
       "\n",
       "   squaremeter_price  dayweek_exposition  month_exposition  year_exposition  \\\n",
       "0      120370.370370                   3                 3             2019   \n",
       "1       82920.792079                   1                12             2018   \n",
       "2       92785.714286                   3                 8             2015   \n",
       "3      408176.100629                   4                 7             2015   \n",
       "4      100000.000000                   1                 6             2018   \n",
       "5       95065.789474                   0                 9             2018   \n",
       "6       99195.710456                   3                11             2017   \n",
       "7      110544.692737                   3                 4             2019   \n",
       "8       87454.764777                   2                 5             2018   \n",
       "9       88524.590164                   6                 2             2017   \n",
       "10     127525.252525                   3                11             2017   \n",
       "11      75000.000000                   0                 8             2018   \n",
       "12      72037.037037                   3                 6             2016   \n",
       "13      82943.925234                   5                 7             2017   \n",
       "14     122222.222222                   3                 6             2016   \n",
       "15     119230.769231                   5                11             2017   \n",
       "16      81707.317073                   3                11             2017   \n",
       "17     116111.111111                   4                 9             2016   \n",
       "18     104838.709677                   4                 1             2017   \n",
       "19     117355.371901                   2                 1             2019   \n",
       "\n",
       "    floor_category  city_centers_nearest_km  \n",
       "0           другой                     16.0  \n",
       "1           первый                     19.0  \n",
       "2           другой                     14.0  \n",
       "3           другой                      7.0  \n",
       "4           другой                      8.0  \n",
       "5           другой                      NaN  \n",
       "6           другой                     19.0  \n",
       "7           другой                     12.0  \n",
       "8           другой                      NaN  \n",
       "9           другой                     15.0  \n",
       "10          другой                     14.0  \n",
       "11          другой                     52.0  \n",
       "12       последний                      NaN  \n",
       "13       последний                     33.0  \n",
       "14          первый                     31.0  \n",
       "15          другой                     14.0  \n",
       "16          первый                     11.0  \n",
       "17          другой                     15.0  \n",
       "18          другой                     11.0  \n",
       "19          другой                     13.0  \n",
       "\n",
       "[20 rows x 28 columns]"
      ]
     },
     "execution_count": 26,
     "metadata": {},
     "output_type": "execute_result"
    }
   ],
   "source": [
    "data.head(20)"
   ]
  },
  {
   "cell_type": "markdown",
   "metadata": {},
   "source": [
    "**Вывод по разделу**<br>\n",
    "Для проведения исследования были расчитаны следующие параметры:\n",
    "- цена одного квадратного метра\n",
    "- номер дня недели, месяца и года публикации объявления\n",
    "- тип этажа (первый, последний, другой)\n",
    "- расстояние до центра города в киллометрах<br>\n",
    "Первые двадцать строк обновленного датафрейма можно увидеть выше."
   ]
  },
  {
   "cell_type": "markdown",
   "metadata": {},
   "source": [
    "\n",
    "<div class=\"alert alert-success\">\n",
    "<b>Комментарий ревьюера:</b>☀️Новые столбцы добавлены корректно.</div>"
   ]
  },
  {
   "cell_type": "markdown",
   "metadata": {},
   "source": [
    "### Исследовательский анализ данных"
   ]
  },
  {
   "cell_type": "markdown",
   "metadata": {},
   "source": [
    "**4.1 Исследование основных параметров**"
   ]
  },
  {
   "cell_type": "code",
   "execution_count": 27,
   "metadata": {
    "scrolled": true
   },
   "outputs": [
    {
     "data": {
      "text/plain": [
       "23565"
      ]
     },
     "execution_count": 27,
     "metadata": {},
     "output_type": "execute_result"
    }
   ],
   "source": [
    "#создадим переменную с количеством строк в датафрейме\n",
    "data_shape = data.shape[0]\n",
    "data_shape"
   ]
  },
  {
   "cell_type": "code",
   "execution_count": 28,
   "metadata": {},
   "outputs": [
    {
     "data": {
      "text/plain": [
       "count    23565.000000\n",
       "mean        60.322824\n",
       "std         35.657060\n",
       "min         12.000000\n",
       "25%         40.000000\n",
       "50%         52.000000\n",
       "75%         69.700000\n",
       "max        900.000000\n",
       "Name: total_area, dtype: float64"
      ]
     },
     "execution_count": 28,
     "metadata": {},
     "output_type": "execute_result"
    }
   ],
   "source": [
    "#исследуем общую площадь квартир\n",
    "data['total_area'].describe()"
   ]
  },
  {
   "cell_type": "code",
   "execution_count": 29,
   "metadata": {},
   "outputs": [
    {
     "data": {
      "text/plain": [
       "<AxesSubplot:>"
      ]
     },
     "execution_count": 29,
     "metadata": {},
     "output_type": "execute_result"
    },
    {
     "data": {
      "image/png": "[encoded data removed]",
      "text/plain": [
       "<Figure size 432x288 with 1 Axes>"
      ]
     },
     "metadata": {
      "needs_background": "light"
     },
     "output_type": "display_data"
    }
   ],
   "source": [
    "#построим диаграмму размаха\n",
    "data.boxplot('total_area', vert = False)"
   ]
  },
  {
   "cell_type": "code",
   "execution_count": 30,
   "metadata": {},
   "outputs": [],
   "source": [
    "#сохраним данные без выбросов в новой переменной\n",
    "data_filtered = data.query('total_area < 100')"
   ]
  },
  {
   "cell_type": "code",
   "execution_count": 31,
   "metadata": {
    "scrolled": true
   },
   "outputs": [
    {
     "data": {
      "text/plain": [
       "0.9197538722681944"
      ]
     },
     "execution_count": 31,
     "metadata": {},
     "output_type": "execute_result"
    }
   ],
   "source": [
    "#количество оставшихся данных\n",
    "data_filtered.shape[0]/data_shape"
   ]
  },
  {
   "cell_type": "markdown",
   "metadata": {},
   "source": [
    "\n",
    "<div class=\"alert alert-danger\">\n",
    "<b>Комментарий ревьюера:</b>Нужно обязательно следить за объемом данных, от которых мы избавляемся, чтобы не потерять слишком большую часть. Можно записывать отфильтрованные данные в отдельную переменную, например, data_filtered. Можно первоначальный размер датасета сохранить в переменную df_shape = df.shape[0]. Можно смотреть количество строк, которые ты планируешь срезать.</div>"
   ]
  },
  {
   "cell_type": "code",
   "execution_count": 32,
   "metadata": {},
   "outputs": [
    {
     "data": {
      "image/png": "[encoded data removed]",
      "text/plain": [
       "<Figure size 432x288 with 1 Axes>"
      ]
     },
     "metadata": {
      "needs_background": "light"
     },
     "output_type": "display_data"
    }
   ],
   "source": [
    "plt.hist(data_filtered['total_area'], bins = 50, range = (12,100))\n",
    "plt.title('Исследование общей площади квартир')\n",
    "plt.xlabel('Количество квадратных метров')\n",
    "plt.ylabel('Количество объявлений')\n",
    "plt.show()"
   ]
  },
  {
   "cell_type": "markdown",
   "metadata": {},
   "source": [
    "\n",
    "<div class=\"alert alert-success\">\n",
    "<b>Комментарий ревьюера:</b>☀️Здорово, что ты подписываешь оси и заголовок. В будущем нужно будет оформлять каждый график полностью (подпись осей, заголовок, легенда при необходимости).  Есть небольшое правило - графики должны быть ясны вне контекста, и ты этому правилу следуешь.</div>"
   ]
  },
  {
   "cell_type": "markdown",
   "metadata": {},
   "source": [
    "Большинство квартир имеют площадь от 30 до 70 квадратных метров. Пики на графике могут соотноситься с количеством комнат, однокомнатные квартиры 30-45, двухкомнатные 55-65 и трехкомнатные 66-70."
   ]
  },
  {
   "cell_type": "code",
   "execution_count": 33,
   "metadata": {},
   "outputs": [
    {
     "data": {
      "text/plain": [
       "count    21674.000000\n",
       "mean        30.093857\n",
       "std         12.372026\n",
       "min          2.000000\n",
       "25%         18.000000\n",
       "50%         29.599999\n",
       "75%         39.000000\n",
       "max         91.785000\n",
       "Name: living_area, dtype: float64"
      ]
     },
     "execution_count": 33,
     "metadata": {},
     "output_type": "execute_result"
    }
   ],
   "source": [
    "#исследуем жилую площадь квартир\n",
    "data_filtered['living_area'].describe()"
   ]
  },
  {
   "cell_type": "code",
   "execution_count": 34,
   "metadata": {},
   "outputs": [
    {
     "data": {
      "text/plain": [
       "<AxesSubplot:>"
      ]
     },
     "execution_count": 34,
     "metadata": {},
     "output_type": "execute_result"
    },
    {
     "data": {
      "image/png": "[encoded data removed]",
      "text/plain": [
       "<Figure size 432x288 with 1 Axes>"
      ]
     },
     "metadata": {
      "needs_background": "light"
     },
     "output_type": "display_data"
    }
   ],
   "source": [
    "#построим диаграмму с усами для жилой площади\n",
    "data_filtered.boxplot('living_area', vert=False)"
   ]
  },
  {
   "cell_type": "code",
   "execution_count": 35,
   "metadata": {},
   "outputs": [],
   "source": [
    "#избавимся от выбросов\n",
    "data_filtered = data_filtered.query('living_area <= 70')"
   ]
  },
  {
   "cell_type": "code",
   "execution_count": 36,
   "metadata": {},
   "outputs": [
    {
     "data": {
      "text/plain": [
       "0.9181837470825377"
      ]
     },
     "execution_count": 36,
     "metadata": {},
     "output_type": "execute_result"
    }
   ],
   "source": [
    "#количество оставшихся данных\n",
    "data_filtered.shape[0]/data_shape"
   ]
  },
  {
   "cell_type": "markdown",
   "metadata": {},
   "source": [
    "\n",
    "<div class=\"alert alert-danger\">\n",
    "<b>Комментарий ревьюера:</b>Напомню, что это грубая ошибка - срезать данные без проверки. </div>"
   ]
  },
  {
   "cell_type": "markdown",
   "metadata": {},
   "source": [
    "\n",
    "<div class=\"alert alert-danger\">\n",
    "<b>Комментарий ревьюера:</b>Например, сейчас в ходе обработки потеряно более 40% данных.</div>"
   ]
  },
  {
   "cell_type": "markdown",
   "metadata": {},
   "source": [
    "<div class=\"alert alert-success\">\n",
    "<b>Комментарий ревьюера v2.0:</b>☀️Сейчас потерян допустимый объем данный. Максимум мы можем избавиться от 10%.</div>"
   ]
  },
  {
   "cell_type": "code",
   "execution_count": 37,
   "metadata": {},
   "outputs": [
    {
     "data": {
      "image/png": "[encoded data removed]",
      "text/plain": [
       "<Figure size 432x288 with 1 Axes>"
      ]
     },
     "metadata": {
      "needs_background": "light"
     },
     "output_type": "display_data"
    }
   ],
   "source": [
    "plt.hist(data_filtered['living_area'], bins = 40, range = (2,70))\n",
    "plt.title('Исследование жилой площади')\n",
    "plt.xlabel('Количество квадратных метров')\n",
    "plt.ylabel('Количество объявлений')\n",
    "plt.show()"
   ]
  },
  {
   "cell_type": "markdown",
   "metadata": {},
   "source": [
    "На графике видно три пика, скорее всего они относятся к однокомнатным, двухкомнатным  и трехкомнатным квартирам."
   ]
  },
  {
   "cell_type": "code",
   "execution_count": 38,
   "metadata": {},
   "outputs": [
    {
     "data": {
      "text/plain": [
       "count    19591.000000\n",
       "mean         9.680365\n",
       "std          3.988366\n",
       "min          1.300000\n",
       "25%          7.000000\n",
       "50%          9.000000\n",
       "75%         11.000000\n",
       "max         50.000000\n",
       "Name: kitchen_area, dtype: float64"
      ]
     },
     "execution_count": 38,
     "metadata": {},
     "output_type": "execute_result"
    }
   ],
   "source": [
    "#исследование площади кухни\n",
    "data_filtered['kitchen_area'].describe()"
   ]
  },
  {
   "cell_type": "code",
   "execution_count": 39,
   "metadata": {},
   "outputs": [
    {
     "data": {
      "text/plain": [
       "<AxesSubplot:>"
      ]
     },
     "execution_count": 39,
     "metadata": {},
     "output_type": "execute_result"
    },
    {
     "data": {
      "image/png": "[encoded data removed]",
      "text/plain": [
       "<Figure size 432x288 with 1 Axes>"
      ]
     },
     "metadata": {
      "needs_background": "light"
     },
     "output_type": "display_data"
    }
   ],
   "source": [
    "data_filtered.boxplot('kitchen_area', vert=False)"
   ]
  },
  {
   "cell_type": "code",
   "execution_count": 40,
   "metadata": {},
   "outputs": [],
   "source": [
    "#удалим выбросы\n",
    "data_filtered = data_filtered.query('kitchen_area <= 17')"
   ]
  },
  {
   "cell_type": "code",
   "execution_count": 41,
   "metadata": {},
   "outputs": [
    {
     "data": {
      "text/plain": [
       "0.7967748779970295"
      ]
     },
     "execution_count": 41,
     "metadata": {},
     "output_type": "execute_result"
    }
   ],
   "source": [
    "#количество оставшихся данных\n",
    "data_filtered.shape[0]/data_shape"
   ]
  },
  {
   "cell_type": "code",
   "execution_count": 42,
   "metadata": {},
   "outputs": [
    {
     "data": {
      "image/png": "[encoded data removed]",
      "text/plain": [
       "<Figure size 432x288 with 1 Axes>"
      ]
     },
     "metadata": {
      "needs_background": "light"
     },
     "output_type": "display_data"
    }
   ],
   "source": [
    "plt.hist(data_filtered['kitchen_area'], bins = 100, range = (1,17))\n",
    "plt.title('Исследование площади кухни')\n",
    "plt.xlabel('Количество квадратных метров')\n",
    "plt.ylabel('Количество объявлений')\n",
    "plt.show()"
   ]
  },
  {
   "cell_type": "markdown",
   "metadata": {},
   "source": [
    "Чаще всего кухни имеют стандартную площадь 6,7,8,9,10 метров."
   ]
  },
  {
   "cell_type": "code",
   "execution_count": 43,
   "metadata": {},
   "outputs": [
    {
     "data": {
      "text/plain": [
       "count    1.877600e+04\n",
       "mean     4.916516e+06\n",
       "std      2.568144e+06\n",
       "min      4.300000e+05\n",
       "25%      3.350000e+06\n",
       "50%      4.400000e+06\n",
       "75%      5.900000e+06\n",
       "max      4.000000e+07\n",
       "Name: last_price, dtype: float64"
      ]
     },
     "execution_count": 43,
     "metadata": {},
     "output_type": "execute_result"
    }
   ],
   "source": [
    "#исследование цены объекта\n",
    "data_filtered['last_price'].describe()"
   ]
  },
  {
   "cell_type": "code",
   "execution_count": 44,
   "metadata": {
    "scrolled": true
   },
   "outputs": [
    {
     "data": {
      "text/plain": [
       "<AxesSubplot:>"
      ]
     },
     "execution_count": 44,
     "metadata": {},
     "output_type": "execute_result"
    },
    {
     "data": {
      "image/png": "[encoded data removed]",
      "text/plain": [
       "<Figure size 432x288 with 1 Axes>"
      ]
     },
     "metadata": {
      "needs_background": "light"
     },
     "output_type": "display_data"
    }
   ],
   "source": [
    "#построим диаграмму размаха для цены\n",
    "data_filtered.boxplot('last_price', vert=False)"
   ]
  },
  {
   "cell_type": "code",
   "execution_count": 45,
   "metadata": {},
   "outputs": [],
   "source": [
    "#удалим выбросы\n",
    "data_filtered = data_filtered.query('last_price <= 9000000')"
   ]
  },
  {
   "cell_type": "code",
   "execution_count": 46,
   "metadata": {},
   "outputs": [
    {
     "data": {
      "text/plain": [
       "0.7487375344791004"
      ]
     },
     "execution_count": 46,
     "metadata": {},
     "output_type": "execute_result"
    }
   ],
   "source": [
    "#количество оставшихся данных\n",
    "data_filtered.shape[0]/data_shape"
   ]
  },
  {
   "cell_type": "code",
   "execution_count": 47,
   "metadata": {
    "scrolled": true
   },
   "outputs": [
    {
     "data": {
      "image/png": "[encoded data removed]",
      "text/plain": [
       "<Figure size 432x288 with 1 Axes>"
      ]
     },
     "metadata": {
      "needs_background": "light"
     },
     "output_type": "display_data"
    }
   ],
   "source": [
    "plt.hist(data_filtered['last_price'], bins = 40, range = (1,9000000))\n",
    "plt.title('Исследование цены объекта')\n",
    "plt.xlabel('Цена объекта')\n",
    "plt.ylabel('Количество объявлений')\n",
    "plt.show()"
   ]
  },
  {
   "cell_type": "markdown",
   "metadata": {},
   "source": [
    "Большинство квартир стоит около 4 миллионов. Распределение можно назвать нормальным."
   ]
  },
  {
   "cell_type": "code",
   "execution_count": 48,
   "metadata": {},
   "outputs": [
    {
     "data": {
      "text/plain": [
       "count    17644.000000\n",
       "mean         1.879506\n",
       "std          0.844540\n",
       "min          1.000000\n",
       "25%          1.000000\n",
       "50%          2.000000\n",
       "75%          2.000000\n",
       "max          6.000000\n",
       "Name: rooms, dtype: float64"
      ]
     },
     "execution_count": 48,
     "metadata": {},
     "output_type": "execute_result"
    }
   ],
   "source": [
    "#исследование количества комнат\n",
    "data_filtered['rooms'].describe()"
   ]
  },
  {
   "cell_type": "code",
   "execution_count": 49,
   "metadata": {
    "scrolled": true
   },
   "outputs": [
    {
     "data": {
      "text/plain": [
       "<AxesSubplot:>"
      ]
     },
     "execution_count": 49,
     "metadata": {},
     "output_type": "execute_result"
    },
    {
     "data": {
      "image/png": "[encoded data removed]",
      "text/plain": [
       "<Figure size 432x288 with 1 Axes>"
      ]
     },
     "metadata": {
      "needs_background": "light"
     },
     "output_type": "display_data"
    }
   ],
   "source": [
    "#построим диаграмму размаха для количества комнат\n",
    "data_filtered.boxplot('rooms', vert=False)"
   ]
  },
  {
   "cell_type": "code",
   "execution_count": 50,
   "metadata": {},
   "outputs": [],
   "source": [
    "data_filtered = data_filtered.query('rooms <= 3')"
   ]
  },
  {
   "cell_type": "code",
   "execution_count": 51,
   "metadata": {
    "scrolled": true
   },
   "outputs": [
    {
     "data": {
      "text/plain": [
       "0.728453214513049"
      ]
     },
     "execution_count": 51,
     "metadata": {},
     "output_type": "execute_result"
    }
   ],
   "source": [
    "#количество оставшихся данных\n",
    "data_filtered.shape[0]/data_shape"
   ]
  },
  {
   "cell_type": "code",
   "execution_count": 52,
   "metadata": {},
   "outputs": [
    {
     "data": {
      "image/png": "[encoded data removed]",
      "text/plain": [
       "<Figure size 432x288 with 1 Axes>"
      ]
     },
     "metadata": {
      "needs_background": "light"
     },
     "output_type": "display_data"
    }
   ],
   "source": [
    "rooms_freqs = data_filtered['rooms'].value_counts()\n",
    "rooms_freqs.plot.bar()\n",
    "plt.title('Исследование количества комнат')\n",
    "plt.xlabel('Количество комнат')\n",
    "plt.ylabel('Количество объявлений')\n",
    "plt.show()"
   ]
  },
  {
   "cell_type": "markdown",
   "metadata": {},
   "source": [
    "\n",
    "<div class=\"alert alert-danger\">\n",
    "<b>Комментарий ревьюера:</b>Обрати внимание на значения по оси абсцисс. Число комнат - целое.</div>"
   ]
  },
  {
   "cell_type": "markdown",
   "metadata": {},
   "source": [
    "<div class=\"alert alert-info\">Изменила тип графика на bar.</div> "
   ]
  },
  {
   "cell_type": "markdown",
   "metadata": {},
   "source": [
    "<div class=\"alert alert-success\">\n",
    "<b>Комментарий ревьюера v2.0:</b>☀️Супер! </div>"
   ]
  },
  {
   "cell_type": "markdown",
   "metadata": {},
   "source": [
    "Большe всего однакомнатных и двухкомнатных квартир, чуть меньше трехкомнатных."
   ]
  },
  {
   "cell_type": "code",
   "execution_count": 53,
   "metadata": {
    "scrolled": false
   },
   "outputs": [
    {
     "data": {
      "text/plain": [
       "count    17098.000000\n",
       "mean         2.662041\n",
       "std          0.202855\n",
       "min          1.000000\n",
       "25%          2.550000\n",
       "50%          2.650000\n",
       "75%          2.700000\n",
       "max         14.000000\n",
       "Name: ceiling_height, dtype: float64"
      ]
     },
     "execution_count": 53,
     "metadata": {},
     "output_type": "execute_result"
    }
   ],
   "source": [
    "#исследование высоты потолков\n",
    "data_filtered['ceiling_height'].describe()"
   ]
  },
  {
   "cell_type": "code",
   "execution_count": 54,
   "metadata": {},
   "outputs": [
    {
     "data": {
      "text/plain": [
       "<AxesSubplot:>"
      ]
     },
     "execution_count": 54,
     "metadata": {},
     "output_type": "execute_result"
    },
    {
     "data": {
      "image/png": "[encoded data removed]",
      "text/plain": [
       "<Figure size 432x288 with 1 Axes>"
      ]
     },
     "metadata": {
      "needs_background": "light"
     },
     "output_type": "display_data"
    }
   ],
   "source": [
    "data_filtered.boxplot('ceiling_height', vert=False)"
   ]
  },
  {
   "cell_type": "code",
   "execution_count": 55,
   "metadata": {},
   "outputs": [],
   "source": [
    "#удаляем редкие значения \n",
    "data_filtered = data_filtered.query('2.4 <= ceiling_height <= 2.9')"
   ]
  },
  {
   "cell_type": "code",
   "execution_count": 56,
   "metadata": {},
   "outputs": [
    {
     "data": {
      "text/plain": [
       "0.6789306174411203"
      ]
     },
     "execution_count": 56,
     "metadata": {},
     "output_type": "execute_result"
    }
   ],
   "source": [
    "#количество оставшихся данных\n",
    "data_filtered.shape[0]/data_shape"
   ]
  },
  {
   "cell_type": "code",
   "execution_count": 57,
   "metadata": {
    "scrolled": false
   },
   "outputs": [
    {
     "data": {
      "image/png": "[encoded data removed]",
      "text/plain": [
       "<Figure size 432x288 with 1 Axes>"
      ]
     },
     "metadata": {
      "needs_background": "light"
     },
     "output_type": "display_data"
    }
   ],
   "source": [
    "plt.hist(data_filtered['ceiling_height'], bins = 40, range = (2.4, 2.9))\n",
    "plt.title('Исследование высоты потолков')\n",
    "plt.xlabel('Высота потолков в квартире')\n",
    "plt.ylabel('Количество объявлений')\n",
    "plt.show()"
   ]
  },
  {
   "cell_type": "markdown",
   "metadata": {},
   "source": [
    "\n",
    "<div class=\"alert alert-success\">\n",
    "<b>Комментарий ревьюера:</b>☀️Здесь все отлично :)</div>"
   ]
  },
  {
   "cell_type": "markdown",
   "metadata": {},
   "source": [
    "Большинство квартир имеют стандартные потолки около 2,7 метров."
   ]
  },
  {
   "cell_type": "code",
   "execution_count": 58,
   "metadata": {},
   "outputs": [
    {
     "data": {
      "text/plain": [
       "0.6789306174411203"
      ]
     },
     "execution_count": 58,
     "metadata": {},
     "output_type": "execute_result"
    }
   ],
   "source": [
    "#количество оставшихся данных\n",
    "data_filtered.shape[0]/data_shape"
   ]
  },
  {
   "cell_type": "code",
   "execution_count": 59,
   "metadata": {
    "scrolled": false
   },
   "outputs": [
    {
     "data": {
      "text/plain": [
       "count    15999.000000\n",
       "mean         5.979624\n",
       "std          4.854550\n",
       "min          1.000000\n",
       "25%          2.000000\n",
       "50%          5.000000\n",
       "75%          8.000000\n",
       "max         27.000000\n",
       "Name: floor, dtype: float64"
      ]
     },
     "execution_count": 59,
     "metadata": {},
     "output_type": "execute_result"
    }
   ],
   "source": [
    "#исследование номера этажа квартиры\n",
    "data_filtered['floor'].describe()"
   ]
  },
  {
   "cell_type": "code",
   "execution_count": 60,
   "metadata": {
    "scrolled": true
   },
   "outputs": [
    {
     "data": {
      "image/png": "[encoded data removed]",
      "text/plain": [
       "<Figure size 432x288 with 1 Axes>"
      ]
     },
     "metadata": {
      "needs_background": "light"
     },
     "output_type": "display_data"
    }
   ],
   "source": [
    "plt.hist(data_filtered['floor'], bins = 60, range = (1,30))\n",
    "plt.title('Исследование номера этажа квартиры')\n",
    "plt.xlabel('Номер этажа')\n",
    "plt.ylabel('Количество объявлений')\n",
    "plt.show()"
   ]
  },
  {
   "cell_type": "markdown",
   "metadata": {},
   "source": [
    "Большинство людей живут c 1 по 5 этаж, с ростом этажей количество объявлений уменьшается. "
   ]
  },
  {
   "cell_type": "code",
   "execution_count": 61,
   "metadata": {},
   "outputs": [
    {
     "data": {
      "text/plain": [
       "count    23565.000000\n",
       "mean        10.675875\n",
       "std          6.594823\n",
       "min          1.000000\n",
       "25%          5.000000\n",
       "50%          9.000000\n",
       "75%         16.000000\n",
       "max         60.000000\n",
       "Name: floors_total, dtype: float64"
      ]
     },
     "execution_count": 61,
     "metadata": {},
     "output_type": "execute_result"
    }
   ],
   "source": [
    "#исследование общего количества этажей в доме\n",
    "data['floors_total'].describe()"
   ]
  },
  {
   "cell_type": "code",
   "execution_count": 62,
   "metadata": {},
   "outputs": [],
   "source": [
    "data_filtered = data_filtered.query('floors_total <= 30')"
   ]
  },
  {
   "cell_type": "code",
   "execution_count": 63,
   "metadata": {
    "scrolled": true
   },
   "outputs": [
    {
     "data": {
      "image/png": "[encoded data removed]",
      "text/plain": [
       "<Figure size 432x288 with 1 Axes>"
      ]
     },
     "metadata": {
      "needs_background": "light"
     },
     "output_type": "display_data"
    }
   ],
   "source": [
    "plt.hist(data_filtered['floors_total'], bins = 40, range = (1,30))\n",
    "plt.title('Исследование общего количества этажей в доме')\n",
    "plt.xlabel('Общее количество этажей в доме')\n",
    "plt.ylabel('Количество объявлений')\n",
    "plt.show()"
   ]
  },
  {
   "cell_type": "code",
   "execution_count": 64,
   "metadata": {},
   "outputs": [
    {
     "data": {
      "text/plain": [
       "0.6784213876511775"
      ]
     },
     "execution_count": 64,
     "metadata": {},
     "output_type": "execute_result"
    }
   ],
   "source": [
    "#количество оставшихся данных\n",
    "data_filtered.shape[0]/data_shape"
   ]
  },
  {
   "cell_type": "markdown",
   "metadata": {},
   "source": [
    "Из графика видно, что большинство домов имеют этажность 5, на втором месте 9 этажные дома."
   ]
  },
  {
   "cell_type": "code",
   "execution_count": 65,
   "metadata": {
    "scrolled": false
   },
   "outputs": [
    {
     "data": {
      "text/plain": [
       "count    11723.000000\n",
       "mean     15993.219057\n",
       "std       8348.741946\n",
       "min        399.000000\n",
       "25%      11592.000000\n",
       "50%      14211.000000\n",
       "75%      17084.000000\n",
       "max      65968.000000\n",
       "Name: cityCenters_nearest, dtype: float64"
      ]
     },
     "execution_count": 65,
     "metadata": {},
     "output_type": "execute_result"
    }
   ],
   "source": [
    "#исследование расстояния до центра города в метрах\n",
    "data_filtered['cityCenters_nearest'].describe()"
   ]
  },
  {
   "cell_type": "code",
   "execution_count": 66,
   "metadata": {},
   "outputs": [
    {
     "data": {
      "image/png": "[encoded data removed]",
      "text/plain": [
       "<Figure size 432x288 with 1 Axes>"
      ]
     },
     "metadata": {
      "needs_background": "light"
     },
     "output_type": "display_data"
    }
   ],
   "source": [
    "plt.hist(data_filtered['cityCenters_nearest'], bins = 20, range = (0,60000))\n",
    "plt.title('Исследование расстояния до центра города')\n",
    "plt.xlabel('Расстояние до центра города')\n",
    "plt.ylabel('Количество объявлений')\n",
    "plt.show()"
   ]
  },
  {
   "cell_type": "markdown",
   "metadata": {},
   "source": [
    "Большинство квартир из объявлений находятся в 10-15 км от центра, что соотвуствует спальным густо населенным районам Петербурга."
   ]
  },
  {
   "cell_type": "code",
   "execution_count": 67,
   "metadata": {
    "scrolled": true
   },
   "outputs": [
    {
     "data": {
      "text/plain": [
       "count    4519.000000\n",
       "mean      493.325293\n",
       "std       322.569802\n",
       "min         1.000000\n",
       "25%       303.000000\n",
       "50%       464.000000\n",
       "75%       618.000000\n",
       "max      3190.000000\n",
       "Name: parks_nearest, dtype: float64"
      ]
     },
     "execution_count": 67,
     "metadata": {},
     "output_type": "execute_result"
    }
   ],
   "source": [
    "#исследование расстояния до ближайшего парка в метрах\n",
    "data_filtered['parks_nearest'].describe()"
   ]
  },
  {
   "cell_type": "code",
   "execution_count": 68,
   "metadata": {
    "scrolled": true
   },
   "outputs": [
    {
     "data": {
      "image/png": "[encoded data removed]",
      "text/plain": [
       "<Figure size 432x288 with 1 Axes>"
      ]
     },
     "metadata": {
      "needs_background": "light"
     },
     "output_type": "display_data"
    }
   ],
   "source": [
    "plt.hist(data_filtered['parks_nearest'], bins = 40, range = (0,3200))\n",
    "plt.title('Исследование расстояния до ближайшего парка')\n",
    "plt.xlabel('Расстояние до ближайшего парка')\n",
    "plt.ylabel('Количество объявлений')\n",
    "plt.show()"
   ]
  },
  {
   "cell_type": "markdown",
   "metadata": {},
   "source": [
    "В среднем удаленность до ближайшего парка примерно 500м."
   ]
  },
  {
   "cell_type": "code",
   "execution_count": 69,
   "metadata": {},
   "outputs": [
    {
     "data": {
      "text/plain": [
       "count    15987.000000\n",
       "mean         2.563458\n",
       "std          1.789854\n",
       "min          0.000000\n",
       "25%          1.000000\n",
       "50%          3.000000\n",
       "75%          4.000000\n",
       "max          6.000000\n",
       "Name: dayweek_exposition, dtype: float64"
      ]
     },
     "execution_count": 69,
     "metadata": {},
     "output_type": "execute_result"
    }
   ],
   "source": [
    "#исследование дня объявления \n",
    "data_filtered['dayweek_exposition'].describe()"
   ]
  },
  {
   "cell_type": "code",
   "execution_count": 70,
   "metadata": {
    "scrolled": true
   },
   "outputs": [
    {
     "data": {
      "image/png": "[encoded data removed]",
      "text/plain": [
       "<Figure size 432x288 with 1 Axes>"
      ]
     },
     "metadata": {
      "needs_background": "light"
     },
     "output_type": "display_data"
    }
   ],
   "source": [
    "plt.hist(data_filtered['dayweek_exposition'], bins = 40, range = (0,6))\n",
    "plt.title('Исследование дня объявления')\n",
    "plt.xlabel('День объявления')\n",
    "plt.ylabel('Количество объявлений')\n",
    "plt.show()"
   ]
  },
  {
   "cell_type": "markdown",
   "metadata": {},
   "source": [
    "В будние дни объявления выкладывают чаще, чем в выходные."
   ]
  },
  {
   "cell_type": "markdown",
   "metadata": {},
   "source": [
    "\n",
    "<div class=\"alert alert-success\">\n",
    "<b>Комментарий ревьюера:</b>☀️Да, это ожидаемо  и логично, в принципе.</div>"
   ]
  },
  {
   "cell_type": "code",
   "execution_count": 71,
   "metadata": {},
   "outputs": [
    {
     "data": {
      "text/plain": [
       "count    15987.000000\n",
       "mean         6.412210\n",
       "std          3.456776\n",
       "min          1.000000\n",
       "25%          3.000000\n",
       "50%          6.000000\n",
       "75%         10.000000\n",
       "max         12.000000\n",
       "Name: month_exposition, dtype: float64"
      ]
     },
     "execution_count": 71,
     "metadata": {},
     "output_type": "execute_result"
    }
   ],
   "source": [
    "#исследование месяца объявления\n",
    "data_filtered['month_exposition'].describe()"
   ]
  },
  {
   "cell_type": "code",
   "execution_count": 72,
   "metadata": {},
   "outputs": [
    {
     "data": {
      "image/png": "[encoded data removed]",
      "text/plain": [
       "<Figure size 432x288 with 1 Axes>"
      ]
     },
     "metadata": {
      "needs_background": "light"
     },
     "output_type": "display_data"
    }
   ],
   "source": [
    "plt.hist(data_filtered['month_exposition'], bins = 40, range = (1,12))\n",
    "plt.title('Исследование месяца объявления')\n",
    "plt.xlabel('Месяц объявления')\n",
    "plt.ylabel('Количество объявлений')\n",
    "plt.show()"
   ]
  },
  {
   "cell_type": "markdown",
   "metadata": {},
   "source": [
    "Реже всего объявления выкладывают в декабре, январе, мае и в летние месяцы. Возможно, это связано c государственными праздниками и отпусками. "
   ]
  },
  {
   "cell_type": "markdown",
   "metadata": {},
   "source": [
    "\n",
    "<div class=\"alert alert-success\">\n",
    "<b>Комментарий ревьюера:</b>☀️Хорошее предположение ;)</div>"
   ]
  },
  {
   "cell_type": "code",
   "execution_count": 73,
   "metadata": {
    "scrolled": false
   },
   "outputs": [
    {
     "data": {
      "text/html": [
       "<div>\n",
       "<style scoped>\n",
       "    .dataframe tbody tr th:only-of-type {\n",
       "        vertical-align: middle;\n",
       "    }\n",
       "\n",
       "    .dataframe tbody tr th {\n",
       "        vertical-align: top;\n",
       "    }\n",
       "\n",
       "    .dataframe thead th {\n",
       "        text-align: right;\n",
       "    }\n",
       "</style>\n",
       "<table border=\"1\" class=\"dataframe\">\n",
       "  <thead>\n",
       "    <tr style=\"text-align: right;\">\n",
       "      <th></th>\n",
       "      <th>total_images</th>\n",
       "      <th>last_price</th>\n",
       "      <th>total_area</th>\n",
       "      <th>rooms</th>\n",
       "      <th>ceiling_height</th>\n",
       "      <th>floors_total</th>\n",
       "      <th>living_area</th>\n",
       "      <th>floor</th>\n",
       "      <th>kitchen_area</th>\n",
       "      <th>balcony</th>\n",
       "      <th>...</th>\n",
       "      <th>parks_around3000</th>\n",
       "      <th>parks_nearest</th>\n",
       "      <th>ponds_around3000</th>\n",
       "      <th>ponds_nearest</th>\n",
       "      <th>days_exposition</th>\n",
       "      <th>squaremeter_price</th>\n",
       "      <th>dayweek_exposition</th>\n",
       "      <th>month_exposition</th>\n",
       "      <th>year_exposition</th>\n",
       "      <th>city_centers_nearest_km</th>\n",
       "    </tr>\n",
       "  </thead>\n",
       "  <tbody>\n",
       "    <tr>\n",
       "      <th>count</th>\n",
       "      <td>15987.000000</td>\n",
       "      <td>1.598700e+04</td>\n",
       "      <td>15987.000000</td>\n",
       "      <td>15987.000000</td>\n",
       "      <td>15987.000000</td>\n",
       "      <td>15987.000000</td>\n",
       "      <td>15987.000000</td>\n",
       "      <td>15987.000000</td>\n",
       "      <td>15987.000000</td>\n",
       "      <td>15987.000000</td>\n",
       "      <td>...</td>\n",
       "      <td>11723.000000</td>\n",
       "      <td>4519.000000</td>\n",
       "      <td>11723.000000</td>\n",
       "      <td>5292.000000</td>\n",
       "      <td>14136.000000</td>\n",
       "      <td>15987.000000</td>\n",
       "      <td>15987.000000</td>\n",
       "      <td>15987.000000</td>\n",
       "      <td>15987.000000</td>\n",
       "      <td>11723.000000</td>\n",
       "    </tr>\n",
       "    <tr>\n",
       "      <th>mean</th>\n",
       "      <td>9.759242</td>\n",
       "      <td>4.352155e+06</td>\n",
       "      <td>49.255875</td>\n",
       "      <td>1.800213</td>\n",
       "      <td>2.628818</td>\n",
       "      <td>10.931632</td>\n",
       "      <td>27.989485</td>\n",
       "      <td>5.975167</td>\n",
       "      <td>8.874287</td>\n",
       "      <td>0.639832</td>\n",
       "      <td>...</td>\n",
       "      <td>0.496631</td>\n",
       "      <td>493.325293</td>\n",
       "      <td>0.632603</td>\n",
       "      <td>545.450869</td>\n",
       "      <td>169.677702</td>\n",
       "      <td>89811.813537</td>\n",
       "      <td>2.563458</td>\n",
       "      <td>6.412210</td>\n",
       "      <td>2017.388441</td>\n",
       "      <td>15.991982</td>\n",
       "    </tr>\n",
       "    <tr>\n",
       "      <th>std</th>\n",
       "      <td>5.452996</td>\n",
       "      <td>1.654832e+06</td>\n",
       "      <td>14.322972</td>\n",
       "      <td>0.771371</td>\n",
       "      <td>0.097240</td>\n",
       "      <td>6.473489</td>\n",
       "      <td>10.658110</td>\n",
       "      <td>4.850274</td>\n",
       "      <td>2.625310</td>\n",
       "      <td>0.936965</td>\n",
       "      <td>...</td>\n",
       "      <td>0.715122</td>\n",
       "      <td>322.569802</td>\n",
       "      <td>0.827907</td>\n",
       "      <td>276.297984</td>\n",
       "      <td>205.776369</td>\n",
       "      <td>27438.193973</td>\n",
       "      <td>1.789854</td>\n",
       "      <td>3.456776</td>\n",
       "      <td>1.015080</td>\n",
       "      <td>8.349980</td>\n",
       "    </tr>\n",
       "    <tr>\n",
       "      <th>min</th>\n",
       "      <td>0.000000</td>\n",
       "      <td>4.300000e+05</td>\n",
       "      <td>14.000000</td>\n",
       "      <td>1.000000</td>\n",
       "      <td>2.400000</td>\n",
       "      <td>1.000000</td>\n",
       "      <td>3.000000</td>\n",
       "      <td>1.000000</td>\n",
       "      <td>1.300000</td>\n",
       "      <td>0.000000</td>\n",
       "      <td>...</td>\n",
       "      <td>0.000000</td>\n",
       "      <td>1.000000</td>\n",
       "      <td>0.000000</td>\n",
       "      <td>19.000000</td>\n",
       "      <td>1.000000</td>\n",
       "      <td>9615.384615</td>\n",
       "      <td>0.000000</td>\n",
       "      <td>1.000000</td>\n",
       "      <td>2014.000000</td>\n",
       "      <td>0.000000</td>\n",
       "    </tr>\n",
       "    <tr>\n",
       "      <th>25%</th>\n",
       "      <td>6.000000</td>\n",
       "      <td>3.220000e+06</td>\n",
       "      <td>38.000000</td>\n",
       "      <td>1.000000</td>\n",
       "      <td>2.550000</td>\n",
       "      <td>5.000000</td>\n",
       "      <td>18.000000</td>\n",
       "      <td>2.000000</td>\n",
       "      <td>6.800000</td>\n",
       "      <td>0.000000</td>\n",
       "      <td>...</td>\n",
       "      <td>0.000000</td>\n",
       "      <td>303.000000</td>\n",
       "      <td>0.000000</td>\n",
       "      <td>331.000000</td>\n",
       "      <td>41.000000</td>\n",
       "      <td>73490.343193</td>\n",
       "      <td>1.000000</td>\n",
       "      <td>3.000000</td>\n",
       "      <td>2017.000000</td>\n",
       "      <td>12.000000</td>\n",
       "    </tr>\n",
       "    <tr>\n",
       "      <th>50%</th>\n",
       "      <td>9.000000</td>\n",
       "      <td>4.150000e+06</td>\n",
       "      <td>46.000000</td>\n",
       "      <td>2.000000</td>\n",
       "      <td>2.650000</td>\n",
       "      <td>9.000000</td>\n",
       "      <td>28.000000</td>\n",
       "      <td>5.000000</td>\n",
       "      <td>8.500000</td>\n",
       "      <td>0.000000</td>\n",
       "      <td>...</td>\n",
       "      <td>0.000000</td>\n",
       "      <td>464.000000</td>\n",
       "      <td>0.000000</td>\n",
       "      <td>534.500000</td>\n",
       "      <td>92.000000</td>\n",
       "      <td>91095.890411</td>\n",
       "      <td>3.000000</td>\n",
       "      <td>6.000000</td>\n",
       "      <td>2017.000000</td>\n",
       "      <td>14.000000</td>\n",
       "    </tr>\n",
       "    <tr>\n",
       "      <th>75%</th>\n",
       "      <td>14.000000</td>\n",
       "      <td>5.300000e+06</td>\n",
       "      <td>59.000000</td>\n",
       "      <td>2.000000</td>\n",
       "      <td>2.700000</td>\n",
       "      <td>16.000000</td>\n",
       "      <td>35.000000</td>\n",
       "      <td>8.000000</td>\n",
       "      <td>10.500000</td>\n",
       "      <td>1.000000</td>\n",
       "      <td>...</td>\n",
       "      <td>1.000000</td>\n",
       "      <td>618.000000</td>\n",
       "      <td>1.000000</td>\n",
       "      <td>755.000000</td>\n",
       "      <td>216.000000</td>\n",
       "      <td>106451.612903</td>\n",
       "      <td>4.000000</td>\n",
       "      <td>10.000000</td>\n",
       "      <td>2018.000000</td>\n",
       "      <td>17.000000</td>\n",
       "    </tr>\n",
       "    <tr>\n",
       "      <th>max</th>\n",
       "      <td>39.000000</td>\n",
       "      <td>9.000000e+06</td>\n",
       "      <td>99.100000</td>\n",
       "      <td>3.000000</td>\n",
       "      <td>2.900000</td>\n",
       "      <td>29.000000</td>\n",
       "      <td>68.100000</td>\n",
       "      <td>27.000000</td>\n",
       "      <td>17.000000</td>\n",
       "      <td>5.000000</td>\n",
       "      <td>...</td>\n",
       "      <td>3.000000</td>\n",
       "      <td>3190.000000</td>\n",
       "      <td>3.000000</td>\n",
       "      <td>1344.000000</td>\n",
       "      <td>1580.000000</td>\n",
       "      <td>248484.848485</td>\n",
       "      <td>6.000000</td>\n",
       "      <td>12.000000</td>\n",
       "      <td>2019.000000</td>\n",
       "      <td>66.000000</td>\n",
       "    </tr>\n",
       "  </tbody>\n",
       "</table>\n",
       "<p>8 rows × 22 columns</p>\n",
       "</div>"
      ],
      "text/plain": [
       "       total_images    last_price    total_area         rooms  ceiling_height  \\\n",
       "count  15987.000000  1.598700e+04  15987.000000  15987.000000    15987.000000   \n",
       "mean       9.759242  4.352155e+06     49.255875      1.800213        2.628818   \n",
       "std        5.452996  1.654832e+06     14.322972      0.771371        0.097240   \n",
       "min        0.000000  4.300000e+05     14.000000      1.000000        2.400000   \n",
       "25%        6.000000  3.220000e+06     38.000000      1.000000        2.550000   \n",
       "50%        9.000000  4.150000e+06     46.000000      2.000000        2.650000   \n",
       "75%       14.000000  5.300000e+06     59.000000      2.000000        2.700000   \n",
       "max       39.000000  9.000000e+06     99.100000      3.000000        2.900000   \n",
       "\n",
       "       floors_total   living_area         floor  kitchen_area       balcony  \\\n",
       "count  15987.000000  15987.000000  15987.000000  15987.000000  15987.000000   \n",
       "mean      10.931632     27.989485      5.975167      8.874287      0.639832   \n",
       "std        6.473489     10.658110      4.850274      2.625310      0.936965   \n",
       "min        1.000000      3.000000      1.000000      1.300000      0.000000   \n",
       "25%        5.000000     18.000000      2.000000      6.800000      0.000000   \n",
       "50%        9.000000     28.000000      5.000000      8.500000      0.000000   \n",
       "75%       16.000000     35.000000      8.000000     10.500000      1.000000   \n",
       "max       29.000000     68.100000     27.000000     17.000000      5.000000   \n",
       "\n",
       "       ...  parks_around3000  parks_nearest  ponds_around3000  ponds_nearest  \\\n",
       "count  ...      11723.000000    4519.000000      11723.000000    5292.000000   \n",
       "mean   ...          0.496631     493.325293          0.632603     545.450869   \n",
       "std    ...          0.715122     322.569802          0.827907     276.297984   \n",
       "min    ...          0.000000       1.000000          0.000000      19.000000   \n",
       "25%    ...          0.000000     303.000000          0.000000     331.000000   \n",
       "50%    ...          0.000000     464.000000          0.000000     534.500000   \n",
       "75%    ...          1.000000     618.000000          1.000000     755.000000   \n",
       "max    ...          3.000000    3190.000000          3.000000    1344.000000   \n",
       "\n",
       "       days_exposition  squaremeter_price  dayweek_exposition  \\\n",
       "count     14136.000000       15987.000000        15987.000000   \n",
       "mean        169.677702       89811.813537            2.563458   \n",
       "std         205.776369       27438.193973            1.789854   \n",
       "min           1.000000        9615.384615            0.000000   \n",
       "25%          41.000000       73490.343193            1.000000   \n",
       "50%          92.000000       91095.890411            3.000000   \n",
       "75%         216.000000      106451.612903            4.000000   \n",
       "max        1580.000000      248484.848485            6.000000   \n",
       "\n",
       "       month_exposition  year_exposition  city_centers_nearest_km  \n",
       "count      15987.000000     15987.000000             11723.000000  \n",
       "mean           6.412210      2017.388441                15.991982  \n",
       "std            3.456776         1.015080                 8.349980  \n",
       "min            1.000000      2014.000000                 0.000000  \n",
       "25%            3.000000      2017.000000                12.000000  \n",
       "50%            6.000000      2017.000000                14.000000  \n",
       "75%           10.000000      2018.000000                17.000000  \n",
       "max           12.000000      2019.000000                66.000000  \n",
       "\n",
       "[8 rows x 22 columns]"
      ]
     },
     "execution_count": 73,
     "metadata": {},
     "output_type": "execute_result"
    }
   ],
   "source": [
    "data_filtered.describe()"
   ]
  },
  {
   "cell_type": "markdown",
   "metadata": {},
   "source": [
    "После удаления выбросов данные стали адекватнее."
   ]
  },
  {
   "cell_type": "markdown",
   "metadata": {},
   "source": [
    "**4.2 Как быстро продавались квартиры**"
   ]
  },
  {
   "cell_type": "code",
   "execution_count": 74,
   "metadata": {},
   "outputs": [
    {
     "data": {
      "text/plain": [
       "count    14136.000000\n",
       "mean       169.677702\n",
       "std        205.776369\n",
       "min          1.000000\n",
       "25%         41.000000\n",
       "50%         92.000000\n",
       "75%        216.000000\n",
       "max       1580.000000\n",
       "Name: days_exposition, dtype: float64"
      ]
     },
     "execution_count": 74,
     "metadata": {},
     "output_type": "execute_result"
    }
   ],
   "source": [
    "data_filtered['days_exposition'].describe()"
   ]
  },
  {
   "cell_type": "code",
   "execution_count": 75,
   "metadata": {},
   "outputs": [
    {
     "data": {
      "text/plain": [
       "169.6777023203169"
      ]
     },
     "execution_count": 75,
     "metadata": {},
     "output_type": "execute_result"
    }
   ],
   "source": [
    "data_filtered['days_exposition'].mean()"
   ]
  },
  {
   "cell_type": "code",
   "execution_count": 76,
   "metadata": {
    "scrolled": true
   },
   "outputs": [
    {
     "data": {
      "image/png": "[encoded data removed]",
      "text/plain": [
       "<Figure size 432x288 with 1 Axes>"
      ]
     },
     "metadata": {
      "needs_background": "light"
     },
     "output_type": "display_data"
    }
   ],
   "source": [
    "plt.hist(data_filtered['days_exposition'], bins = 100, range = (0, 300))\n",
    "plt.title('Как быстро продавались квартиры')\n",
    "plt.xlabel('Количество дней')\n",
    "plt.ylabel('Количество объявлений')\n",
    "plt.show()"
   ]
  },
  {
   "cell_type": "markdown",
   "metadata": {},
   "source": [
    "Медианное значение продажи квартиры 92 дня, среднее время продажи квартиры 170 дней.<br>\n",
    "Продажи меньше чем за 41 день можно назвать быстрыми, продажи больше чем за 216 дней можно назвать долгими."
   ]
  },
  {
   "cell_type": "markdown",
   "metadata": {},
   "source": [
    "\n",
    "<div class=\"alert alert-success\">\n",
    "<b>Комментарий ревьюера:</b>☀️Тут не могу не согласиться ;)</div>"
   ]
  },
  {
   "cell_type": "markdown",
   "metadata": {},
   "source": [
    "**4.3 Факторы влияющие на стоимость квартиры**"
   ]
  },
  {
   "cell_type": "code",
   "execution_count": 77,
   "metadata": {},
   "outputs": [
    {
     "data": {
      "image/png": "[encoded data removed]",
      "text/plain": [
       "<Figure size 360x360 with 1 Axes>"
      ]
     },
     "metadata": {
      "needs_background": "light"
     },
     "output_type": "display_data"
    }
   ],
   "source": [
    "(\n",
    "data_filtered.pivot_table(index ='total_area', values ='last_price')\n",
    "    .plot(grid = True, style = 'o', figsize = (5,5))\n",
    ")\n",
    "plt.title('Зависимость стоимости от площaди')\n",
    "plt.xlabel('Количество квадратных метров')\n",
    "plt.ylabel('Стоимость квартиры')\n",
    "plt.show()"
   ]
  },
  {
   "cell_type": "code",
   "execution_count": 78,
   "metadata": {
    "scrolled": true
   },
   "outputs": [
    {
     "name": "stdout",
     "output_type": "stream",
     "text": [
      "0.6042801222399357\n"
     ]
    }
   ],
   "source": [
    "#коэффициент корреляции\n",
    "print(data_filtered['last_price'].corr(data['total_area']))"
   ]
  },
  {
   "cell_type": "markdown",
   "metadata": {},
   "source": [
    "С увеличением количества квадратных метров стоимость квартиры увеличивается, коэффициент линейной связи 0.6. "
   ]
  },
  {
   "cell_type": "markdown",
   "metadata": {},
   "source": [
    "\n",
    "<div class=\"alert alert-success\">\n",
    "<b>Комментарий ревьюера:</b>☀️Коэффициент корреляции в совокупности с диаграммой рассеяния - мощный инструмент для выявления взаимосвязей ;)</div>"
   ]
  },
  {
   "cell_type": "code",
   "execution_count": 79,
   "metadata": {},
   "outputs": [
    {
     "data": {
      "image/png": "[encoded data removed]",
      "text/plain": [
       "<Figure size 360x360 with 1 Axes>"
      ]
     },
     "metadata": {
      "needs_background": "light"
     },
     "output_type": "display_data"
    }
   ],
   "source": [
    "(\n",
    "data_filtered.pivot_table(index ='living_area', values ='last_price')\n",
    "    .plot(grid = True, style = 'o', figsize = (5,5))\n",
    ")\n",
    "plt.title('Зависимость стоимости от жилой площади')\n",
    "plt.xlabel('Количество квадратных метров')\n",
    "plt.ylabel('Стоимость квартиры')\n",
    "plt.show()"
   ]
  },
  {
   "cell_type": "code",
   "execution_count": 80,
   "metadata": {},
   "outputs": [
    {
     "name": "stdout",
     "output_type": "stream",
     "text": [
      "0.4657458247898453\n"
     ]
    }
   ],
   "source": [
    "#коэффициент корреляции\n",
    "print(data_filtered['last_price'].corr(data['living_area']))"
   ]
  },
  {
   "cell_type": "markdown",
   "metadata": {},
   "source": [
    "Количество жилых квадратных метров влияет на стоимость квартиры достаточно сильно, но не всегда эта связь линейна."
   ]
  },
  {
   "cell_type": "code",
   "execution_count": 81,
   "metadata": {
    "scrolled": false
   },
   "outputs": [
    {
     "data": {
      "image/png": "[encoded data removed]",
      "text/plain": [
       "<Figure size 360x360 with 1 Axes>"
      ]
     },
     "metadata": {
      "needs_background": "light"
     },
     "output_type": "display_data"
    }
   ],
   "source": [
    "(\n",
    "data_filtered.pivot_table(index ='kitchen_area', values ='last_price')\n",
    "    .plot(grid = True, style = 'o', figsize = (5,5))\n",
    ")\n",
    "plt.title('Зависимость стоимости от площaди кухни')\n",
    "plt.xlabel('Количество квадратных метров')\n",
    "plt.ylabel('Стоимость квартиры')\n",
    "plt.show()"
   ]
  },
  {
   "cell_type": "code",
   "execution_count": 82,
   "metadata": {},
   "outputs": [
    {
     "name": "stdout",
     "output_type": "stream",
     "text": [
      "0.4252785460996262\n"
     ]
    }
   ],
   "source": [
    "#коэффициент корреляции\n",
    "print(data_filtered['kitchen_area'].corr(data['last_price']))"
   ]
  },
  {
   "cell_type": "markdown",
   "metadata": {},
   "source": [
    "Коэфициент линейной связи стоимости квартиры и площади кухни 0.42."
   ]
  },
  {
   "cell_type": "code",
   "execution_count": 83,
   "metadata": {},
   "outputs": [
    {
     "data": {
      "image/png": "[encoded data removed]",
      "text/plain": [
       "<Figure size 360x360 with 1 Axes>"
      ]
     },
     "metadata": {
      "needs_background": "light"
     },
     "output_type": "display_data"
    }
   ],
   "source": [
    "#строим график зависимости стоимости квартиры от количества комнат для среза данных с 1 до 5 комнат\n",
    "(\n",
    "data_filtered.pivot_table(index ='rooms', values ='last_price', aggfunc='median')\n",
    "    .plot(grid = True, style = 'o-', figsize = (5,5))\n",
    ")\n",
    "plt.title('Зависимость стоимости от количества комнат')\n",
    "plt.xlabel('Количество комнат')\n",
    "plt.ylabel('Стоимость квартиры')\n",
    "plt.show()"
   ]
  },
  {
   "cell_type": "markdown",
   "metadata": {},
   "source": [
    "С увеличением количества комнат стоимость увеличивается, однако все отрезки имеют разный коэффициент наклона. Сильнее все рост стоимости в переходе от однокомнатных квартир к двухкомнатным."
   ]
  },
  {
   "cell_type": "code",
   "execution_count": 84,
   "metadata": {
    "scrolled": false
   },
   "outputs": [
    {
     "data": {
      "image/png": "[encoded data removed]",
      "text/plain": [
       "<Figure size 360x360 with 1 Axes>"
      ]
     },
     "metadata": {
      "needs_background": "light"
     },
     "output_type": "display_data"
    }
   ],
   "source": [
    "#строим график зависимости стоимости от типа этажа квартиры\n",
    "(\n",
    "data_filtered.pivot_table(index ='floor_category', values ='last_price')\n",
    "    .plot(grid = True, style = 'o-', figsize = (5,5))\n",
    ")\n",
    "plt.title('Зависимость стоимости от типа этажа')\n",
    "plt.xlabel('Тип этажа')\n",
    "plt.ylabel('Стоимость квартиры')\n",
    "plt.show()"
   ]
  },
  {
   "cell_type": "markdown",
   "metadata": {},
   "source": [
    "Квартиры на первых этажах обычно дешевле, чем квартиры на других этажах. Квартиры на последних этажах дешевле, чем квартиры на других этажах."
   ]
  },
  {
   "cell_type": "markdown",
   "metadata": {},
   "source": [
    "\n",
    "<div class=\"alert alert-success\">\n",
    "<b>Комментарий ревьюера:</b>☀️Да, похоже на то.</div>"
   ]
  },
  {
   "cell_type": "code",
   "execution_count": 85,
   "metadata": {
    "scrolled": false
   },
   "outputs": [
    {
     "data": {
      "image/png": "[encoded data removed]",
      "text/plain": [
       "<Figure size 360x360 with 1 Axes>"
      ]
     },
     "metadata": {
      "needs_background": "light"
     },
     "output_type": "display_data"
    }
   ],
   "source": [
    "#строим график зависимости стоимости от дня недели публикации объявления\n",
    "(\n",
    "data_filtered.pivot_table(index ='dayweek_exposition', values ='last_price', aggfunc = 'median')\n",
    "    .plot(grid = True, style = 'o-', figsize = (5,5))\n",
    ")\n",
    "plt.title('Зависимость стоимости от дня недели')\n",
    "plt.xlabel('День недели')\n",
    "plt.ylabel('Стоимость квартиры')\n",
    "plt.show()"
   ]
  },
  {
   "cell_type": "markdown",
   "metadata": {},
   "source": [
    "Квартиры дешевеют к концу рабочей недели."
   ]
  },
  {
   "cell_type": "code",
   "execution_count": 86,
   "metadata": {},
   "outputs": [
    {
     "data": {
      "image/png": "[encoded data removed]",
      "text/plain": [
       "<Figure size 360x360 with 1 Axes>"
      ]
     },
     "metadata": {
      "needs_background": "light"
     },
     "output_type": "display_data"
    }
   ],
   "source": [
    "#строим график зависимости стоимости от месяца публикации объявления\n",
    "(\n",
    "data_filtered.pivot_table(index ='month_exposition', values ='last_price')\n",
    "    .plot(grid = True, style = 'o-', figsize = (5,5))\n",
    ")\n",
    "plt.title('Зависимость стоимости от месяца')\n",
    "plt.xlabel('Месяц')\n",
    "plt.ylabel('Стоимость квартиры')\n",
    "plt.show()"
   ]
  },
  {
   "cell_type": "markdown",
   "metadata": {},
   "source": [
    "Самые дорогие квартиры в апреле и декабре. Самые дешевые в июне."
   ]
  },
  {
   "cell_type": "code",
   "execution_count": 87,
   "metadata": {},
   "outputs": [
    {
     "data": {
      "image/png": "[encoded data removed]",
      "text/plain": [
       "<Figure size 360x360 with 1 Axes>"
      ]
     },
     "metadata": {
      "needs_background": "light"
     },
     "output_type": "display_data"
    }
   ],
   "source": [
    "#строим график зависимости стоимости от года публикации объявления\n",
    "(\n",
    "data_filtered.pivot_table(index ='year_exposition', values ='last_price')\n",
    "    .plot(grid = True, style = 'o-', figsize = (5,5))\n",
    ")\n",
    "plt.title('Зависимость стоимости от года')\n",
    "plt.xlabel('Месяц')\n",
    "plt.ylabel('Стоимость квартиры')\n",
    "plt.show()"
   ]
  },
  {
   "cell_type": "markdown",
   "metadata": {},
   "source": [
    "Пик стоимости квартир приходится на 2019 год, что логично. Цены в 2014 и 2015 выше, чем цены 2016-2018."
   ]
  },
  {
   "cell_type": "markdown",
   "metadata": {},
   "source": [
    "**4.4 Средняя цена одного квадратного метра для десяти населенных пунктов с наибольшим количеством объявлений**"
   ]
  },
  {
   "cell_type": "code",
   "execution_count": 88,
   "metadata": {},
   "outputs": [],
   "source": [
    "#создаем массив с названиями 10 населенных пунктов с самым большим количеством объявлений\n",
    "top_ten_city = data_filtered['locality_name'].value_counts().head(10)"
   ]
  },
  {
   "cell_type": "code",
   "execution_count": 89,
   "metadata": {},
   "outputs": [
    {
     "data": {
      "text/plain": [
       "Санкт-Петербург    9764\n",
       "Мурино              452\n",
       "Шушары              381\n",
       "Кудрово             344\n",
       "Всеволожск          327\n",
       "Колпино             279\n",
       "Парголово           275\n",
       "Гатчина             267\n",
       "Пушкин              252\n",
       "Петергоф            170\n",
       "Name: locality_name, dtype: int64"
      ]
     },
     "execution_count": 89,
     "metadata": {},
     "output_type": "execute_result"
    }
   ],
   "source": [
    "top_ten_city"
   ]
  },
  {
   "cell_type": "code",
   "execution_count": 90,
   "metadata": {},
   "outputs": [
    {
     "data": {
      "text/html": [
       "<div>\n",
       "<style scoped>\n",
       "    .dataframe tbody tr th:only-of-type {\n",
       "        vertical-align: middle;\n",
       "    }\n",
       "\n",
       "    .dataframe tbody tr th {\n",
       "        vertical-align: top;\n",
       "    }\n",
       "\n",
       "    .dataframe thead th {\n",
       "        text-align: right;\n",
       "    }\n",
       "</style>\n",
       "<table border=\"1\" class=\"dataframe\">\n",
       "  <thead>\n",
       "    <tr style=\"text-align: right;\">\n",
       "      <th></th>\n",
       "      <th>advertisements</th>\n",
       "      <th>squaremeter_price</th>\n",
       "    </tr>\n",
       "    <tr>\n",
       "      <th>locality_name</th>\n",
       "      <th></th>\n",
       "      <th></th>\n",
       "    </tr>\n",
       "  </thead>\n",
       "  <tbody>\n",
       "    <tr>\n",
       "      <th>Санкт-Петербург</th>\n",
       "      <td>9764</td>\n",
       "      <td>103357</td>\n",
       "    </tr>\n",
       "    <tr>\n",
       "      <th>Мурино</th>\n",
       "      <td>452</td>\n",
       "      <td>86129</td>\n",
       "    </tr>\n",
       "    <tr>\n",
       "      <th>Шушары</th>\n",
       "      <td>381</td>\n",
       "      <td>78451</td>\n",
       "    </tr>\n",
       "    <tr>\n",
       "      <th>Кудрово</th>\n",
       "      <td>344</td>\n",
       "      <td>95175</td>\n",
       "    </tr>\n",
       "    <tr>\n",
       "      <th>Всеволожск</th>\n",
       "      <td>327</td>\n",
       "      <td>66916</td>\n",
       "    </tr>\n",
       "    <tr>\n",
       "      <th>Колпино</th>\n",
       "      <td>279</td>\n",
       "      <td>75680</td>\n",
       "    </tr>\n",
       "    <tr>\n",
       "      <th>Парголово</th>\n",
       "      <td>275</td>\n",
       "      <td>91212</td>\n",
       "    </tr>\n",
       "    <tr>\n",
       "      <th>Гатчина</th>\n",
       "      <td>267</td>\n",
       "      <td>68154</td>\n",
       "    </tr>\n",
       "    <tr>\n",
       "      <th>Пушкин</th>\n",
       "      <td>252</td>\n",
       "      <td>98804</td>\n",
       "    </tr>\n",
       "    <tr>\n",
       "      <th>Петергоф</th>\n",
       "      <td>170</td>\n",
       "      <td>82041</td>\n",
       "    </tr>\n",
       "  </tbody>\n",
       "</table>\n",
       "</div>"
      ],
      "text/plain": [
       "                 advertisements  squaremeter_price\n",
       "locality_name                                     \n",
       "Санкт-Петербург            9764             103357\n",
       "Мурино                      452              86129\n",
       "Шушары                      381              78451\n",
       "Кудрово                     344              95175\n",
       "Всеволожск                  327              66916\n",
       "Колпино                     279              75680\n",
       "Парголово                   275              91212\n",
       "Гатчина                     267              68154\n",
       "Пушкин                      252              98804\n",
       "Петергоф                    170              82041"
      ]
     },
     "metadata": {},
     "output_type": "display_data"
    }
   ],
   "source": [
    "#строим сводную таблицу с названиями населенных пунктов, количеством объвлений и цене одного квадратного метра\n",
    "data_pivot_locality = data_filtered.query('locality_name in @top_ten_city.index').pivot_table(index = 'locality_name', values='squaremeter_price', aggfunc = ['count', 'mean'])\n",
    "data_pivot_locality.columns = ['advertisements','squaremeter_price']\n",
    "data_pivot_locality['squaremeter_price'] = data_pivot_locality['squaremeter_price'].astype(int)\n",
    "display(data_pivot_locality.sort_values(by = 'advertisements', ascending = False))"
   ]
  },
  {
   "cell_type": "code",
   "execution_count": 91,
   "metadata": {
    "scrolled": true
   },
   "outputs": [
    {
     "data": {
      "text/html": [
       "<div>\n",
       "<style scoped>\n",
       "    .dataframe tbody tr th:only-of-type {\n",
       "        vertical-align: middle;\n",
       "    }\n",
       "\n",
       "    .dataframe tbody tr th {\n",
       "        vertical-align: top;\n",
       "    }\n",
       "\n",
       "    .dataframe thead th {\n",
       "        text-align: right;\n",
       "    }\n",
       "</style>\n",
       "<table border=\"1\" class=\"dataframe\">\n",
       "  <thead>\n",
       "    <tr style=\"text-align: right;\">\n",
       "      <th></th>\n",
       "      <th>advertisements</th>\n",
       "      <th>squaremeter_price</th>\n",
       "    </tr>\n",
       "    <tr>\n",
       "      <th>locality_name</th>\n",
       "      <th></th>\n",
       "      <th></th>\n",
       "    </tr>\n",
       "  </thead>\n",
       "  <tbody>\n",
       "    <tr>\n",
       "      <th>Санкт-Петербург</th>\n",
       "      <td>9764</td>\n",
       "      <td>103357</td>\n",
       "    </tr>\n",
       "  </tbody>\n",
       "</table>\n",
       "</div>"
      ],
      "text/plain": [
       "                 advertisements  squaremeter_price\n",
       "locality_name                                     \n",
       "Санкт-Петербург            9764             103357"
      ]
     },
     "execution_count": 91,
     "metadata": {},
     "output_type": "execute_result"
    }
   ],
   "source": [
    "#самая высокая средняя цена квадратного метра\n",
    "data_pivot_locality[data_pivot_locality['squaremeter_price'] == data_pivot_locality['squaremeter_price'].max()]"
   ]
  },
  {
   "cell_type": "code",
   "execution_count": 92,
   "metadata": {},
   "outputs": [
    {
     "data": {
      "text/html": [
       "<div>\n",
       "<style scoped>\n",
       "    .dataframe tbody tr th:only-of-type {\n",
       "        vertical-align: middle;\n",
       "    }\n",
       "\n",
       "    .dataframe tbody tr th {\n",
       "        vertical-align: top;\n",
       "    }\n",
       "\n",
       "    .dataframe thead th {\n",
       "        text-align: right;\n",
       "    }\n",
       "</style>\n",
       "<table border=\"1\" class=\"dataframe\">\n",
       "  <thead>\n",
       "    <tr style=\"text-align: right;\">\n",
       "      <th></th>\n",
       "      <th>advertisements</th>\n",
       "      <th>squaremeter_price</th>\n",
       "    </tr>\n",
       "    <tr>\n",
       "      <th>locality_name</th>\n",
       "      <th></th>\n",
       "      <th></th>\n",
       "    </tr>\n",
       "  </thead>\n",
       "  <tbody>\n",
       "    <tr>\n",
       "      <th>Всеволожск</th>\n",
       "      <td>327</td>\n",
       "      <td>66916</td>\n",
       "    </tr>\n",
       "  </tbody>\n",
       "</table>\n",
       "</div>"
      ],
      "text/plain": [
       "               advertisements  squaremeter_price\n",
       "locality_name                                   \n",
       "Всеволожск                327              66916"
      ]
     },
     "execution_count": 92,
     "metadata": {},
     "output_type": "execute_result"
    }
   ],
   "source": [
    "#самая низка средняя цена квадратного метра\n",
    "data_pivot_locality[data_pivot_locality['squaremeter_price'] == data_pivot_locality['squaremeter_price'].min()]"
   ]
  },
  {
   "cell_type": "markdown",
   "metadata": {},
   "source": [
    "Самое большое количество объявлений и самая высокая средняя стоимость квадратного метра в Санкт-Петербурге. Самая низкая средняя стоимость во Всеволожске."
   ]
  },
  {
   "cell_type": "markdown",
   "metadata": {},
   "source": [
    "\n",
    "<div class=\"alert alert-warning\">\n",
    "<b>Комментарий ревьюера:</b>☀️Согласна. Получить первую (самую верхнюю) строку с максимальной стоимостью кв м можно еще с помощью .head(1)</div>"
   ]
  },
  {
   "cell_type": "markdown",
   "metadata": {},
   "source": [
    "**4.5 Зависимость стоимости квартир от расстояния до центра Санкт-Петербурга**"
   ]
  },
  {
   "cell_type": "code",
   "execution_count": 93,
   "metadata": {},
   "outputs": [],
   "source": [
    "#заменяем пропущенноу расстояние до центра города на 99\n",
    "data_filtered['city_centers_nearest_km'] = data_filtered['city_centers_nearest_km'].fillna(99).astype(int)"
   ]
  },
  {
   "cell_type": "code",
   "execution_count": 94,
   "metadata": {},
   "outputs": [
    {
     "data": {
      "text/html": [
       "<div>\n",
       "<style scoped>\n",
       "    .dataframe tbody tr th:only-of-type {\n",
       "        vertical-align: middle;\n",
       "    }\n",
       "\n",
       "    .dataframe tbody tr th {\n",
       "        vertical-align: top;\n",
       "    }\n",
       "\n",
       "    .dataframe thead th {\n",
       "        text-align: right;\n",
       "    }\n",
       "</style>\n",
       "<table border=\"1\" class=\"dataframe\">\n",
       "  <thead>\n",
       "    <tr style=\"text-align: right;\">\n",
       "      <th></th>\n",
       "      <th>last_price</th>\n",
       "    </tr>\n",
       "    <tr>\n",
       "      <th>city_centers_nearest_km</th>\n",
       "      <th></th>\n",
       "    </tr>\n",
       "  </thead>\n",
       "  <tbody>\n",
       "    <tr>\n",
       "      <th>0</th>\n",
       "      <td>6.466667e+06</td>\n",
       "    </tr>\n",
       "    <tr>\n",
       "      <th>1</th>\n",
       "      <td>6.787458e+06</td>\n",
       "    </tr>\n",
       "    <tr>\n",
       "      <th>2</th>\n",
       "      <td>6.621429e+06</td>\n",
       "    </tr>\n",
       "    <tr>\n",
       "      <th>3</th>\n",
       "      <td>6.004929e+06</td>\n",
       "    </tr>\n",
       "    <tr>\n",
       "      <th>4</th>\n",
       "      <td>6.312713e+06</td>\n",
       "    </tr>\n",
       "    <tr>\n",
       "      <th>5</th>\n",
       "      <td>6.452316e+06</td>\n",
       "    </tr>\n",
       "    <tr>\n",
       "      <th>6</th>\n",
       "      <td>5.916858e+06</td>\n",
       "    </tr>\n",
       "    <tr>\n",
       "      <th>7</th>\n",
       "      <td>5.798682e+06</td>\n",
       "    </tr>\n",
       "    <tr>\n",
       "      <th>8</th>\n",
       "      <td>5.454545e+06</td>\n",
       "    </tr>\n",
       "    <tr>\n",
       "      <th>9</th>\n",
       "      <td>4.886472e+06</td>\n",
       "    </tr>\n",
       "    <tr>\n",
       "      <th>10</th>\n",
       "      <td>4.841056e+06</td>\n",
       "    </tr>\n",
       "    <tr>\n",
       "      <th>11</th>\n",
       "      <td>4.892890e+06</td>\n",
       "    </tr>\n",
       "    <tr>\n",
       "      <th>12</th>\n",
       "      <td>5.006261e+06</td>\n",
       "    </tr>\n",
       "    <tr>\n",
       "      <th>13</th>\n",
       "      <td>5.129754e+06</td>\n",
       "    </tr>\n",
       "    <tr>\n",
       "      <th>14</th>\n",
       "      <td>4.981611e+06</td>\n",
       "    </tr>\n",
       "    <tr>\n",
       "      <th>15</th>\n",
       "      <td>4.918052e+06</td>\n",
       "    </tr>\n",
       "    <tr>\n",
       "      <th>16</th>\n",
       "      <td>4.806367e+06</td>\n",
       "    </tr>\n",
       "    <tr>\n",
       "      <th>17</th>\n",
       "      <td>4.659885e+06</td>\n",
       "    </tr>\n",
       "    <tr>\n",
       "      <th>18</th>\n",
       "      <td>4.555749e+06</td>\n",
       "    </tr>\n",
       "    <tr>\n",
       "      <th>19</th>\n",
       "      <td>4.621967e+06</td>\n",
       "    </tr>\n",
       "    <tr>\n",
       "      <th>20</th>\n",
       "      <td>4.611579e+06</td>\n",
       "    </tr>\n",
       "    <tr>\n",
       "      <th>21</th>\n",
       "      <td>4.686569e+06</td>\n",
       "    </tr>\n",
       "    <tr>\n",
       "      <th>22</th>\n",
       "      <td>4.868059e+06</td>\n",
       "    </tr>\n",
       "    <tr>\n",
       "      <th>23</th>\n",
       "      <td>4.573552e+06</td>\n",
       "    </tr>\n",
       "    <tr>\n",
       "      <th>24</th>\n",
       "      <td>3.944083e+06</td>\n",
       "    </tr>\n",
       "    <tr>\n",
       "      <th>25</th>\n",
       "      <td>4.384375e+06</td>\n",
       "    </tr>\n",
       "    <tr>\n",
       "      <th>26</th>\n",
       "      <td>3.861833e+06</td>\n",
       "    </tr>\n",
       "    <tr>\n",
       "      <th>27</th>\n",
       "      <td>2.250000e+06</td>\n",
       "    </tr>\n",
       "    <tr>\n",
       "      <th>28</th>\n",
       "      <td>4.597500e+06</td>\n",
       "    </tr>\n",
       "    <tr>\n",
       "      <th>29</th>\n",
       "      <td>4.640000e+06</td>\n",
       "    </tr>\n",
       "  </tbody>\n",
       "</table>\n",
       "</div>"
      ],
      "text/plain": [
       "                           last_price\n",
       "city_centers_nearest_km              \n",
       "0                        6.466667e+06\n",
       "1                        6.787458e+06\n",
       "2                        6.621429e+06\n",
       "3                        6.004929e+06\n",
       "4                        6.312713e+06\n",
       "5                        6.452316e+06\n",
       "6                        5.916858e+06\n",
       "7                        5.798682e+06\n",
       "8                        5.454545e+06\n",
       "9                        4.886472e+06\n",
       "10                       4.841056e+06\n",
       "11                       4.892890e+06\n",
       "12                       5.006261e+06\n",
       "13                       5.129754e+06\n",
       "14                       4.981611e+06\n",
       "15                       4.918052e+06\n",
       "16                       4.806367e+06\n",
       "17                       4.659885e+06\n",
       "18                       4.555749e+06\n",
       "19                       4.621967e+06\n",
       "20                       4.611579e+06\n",
       "21                       4.686569e+06\n",
       "22                       4.868059e+06\n",
       "23                       4.573552e+06\n",
       "24                       3.944083e+06\n",
       "25                       4.384375e+06\n",
       "26                       3.861833e+06\n",
       "27                       2.250000e+06\n",
       "28                       4.597500e+06\n",
       "29                       4.640000e+06"
      ]
     },
     "metadata": {},
     "output_type": "display_data"
    }
   ],
   "source": [
    "#строим таблицу со средней стоимость на каждый киллометр\n",
    "data_pivot_nearest_km = data_filtered.query('locality_name == \"Санкт-Петербург\" and city_centers_nearest_km != 99').pivot_table(index= 'city_centers_nearest_km', values = 'last_price')\n",
    "display(data_pivot_nearest_km)"
   ]
  },
  {
   "cell_type": "code",
   "execution_count": 95,
   "metadata": {
    "scrolled": true
   },
   "outputs": [
    {
     "data": {
      "image/png": "[encoded data removed]",
      "text/plain": [
       "<Figure size 360x360 with 1 Axes>"
      ]
     },
     "metadata": {
      "needs_background": "light"
     },
     "output_type": "display_data"
    }
   ],
   "source": [
    "(\n",
    "    data_pivot_nearest_km.plot(grid = True, style = 'o-', figsize = (5,5))\n",
    ")\n",
    "plt.title('Зависимость стоимости от расстояния до центра города')\n",
    "plt.xlabel('Расстояние до центра')\n",
    "plt.ylabel('Стоимость квартиры')\n",
    "plt.show()"
   ]
  },
  {
   "cell_type": "markdown",
   "metadata": {},
   "source": [
    "Стоимость квартир в основном уменьшается при удалении от центра, однако на графике присутсвуют явные пики, скорее всего это зависит от типов зданий (старый фонд, сталинки, хрущевки, новостройки). Каждый тип имеет собственные планировки квартир, городскую среду. В Петербурге типы зданий плавно переходят друг в друга в зависимости от расстояния до центра. Можно утверждать что в самом центре больше всего старого фонда, в середине сталинок, а затем хрущевок и брежневок, а ближе к окраине преобладают новостройки.<br>\n",
    "Старый фонд это тема, которую нужно рассматривать отдельно. Сталинки ценятся больше хрущевок, из-за площади, планировки и высоты потолков. Новостройки строят в большинстве своем на окраине, их стоимость выше,чем стоимость хрущевок и брежневок, из-за того что они новые, возможно поэтому наблюдается пик в районе 20км."
   ]
  },
  {
   "cell_type": "markdown",
   "metadata": {},
   "source": [
    "\n",
    "<div class=\"alert alert-danger\">\n",
    "<b>Комментарий ревьюера:</b>После корректировки проекта, а конкретно после более аккуратного удаления аномалий, здесь нужно пересчитать результаты, возможно, что-то изменится.</div>"
   ]
  },
  {
   "cell_type": "markdown",
   "metadata": {},
   "source": [
    "**Вывод по разделу:**<br>\n",
    "В данной главе были проведены исследования:\n",
    "- влияния основных параметров на стоимость квартир\n",
    "- быстроты продажи квартир\n",
    "- других факторов, влияющих на стоимость квартир\n",
    "- составлен список средних цен в 10 самых популярных населенных пунктах\n",
    "- зависимости стоимости квартир от расстояния до центра СПб"
   ]
  },
  {
   "cell_type": "markdown",
   "metadata": {},
   "source": [
    "### Общий вывод"
   ]
  },
  {
   "cell_type": "markdown",
   "metadata": {},
   "source": [
    "Исследование посвящено анализу рынка недвижимости в Санкт-Петербурге и соседних населенных пунктах за несколько лет. Входными данными являются данные Яндекс Недвижимости. В датафрейме для каждого объявления доступны два типа данных: вписанные пользователей, полученные автоматически с помощью геосервисов.<br>\n",
    "\n",
    "Первый раздел посвящен изучению общей информации. При поверхностной рассмотрении датасета было выяснено, что в данных присутствует большое количество пропусков. Скорее всего в данных, вписанных пользователем, пропуски связаны с человеческим фактором, остальные пропуски результат технической ошибки. Разработчикам рекомендуется проверить все ли поля обязательны для заполнения, указать рекомендуемые значения,а также проверить ошибки, связанные с передачей данных от геосервиса. Для удобства восприятия и анализа информации разработчикам следует поменять типы данных.<br>\n",
    "\n",
    "Во второй главе была проведена предобработка данных. Везде где возможно, были заменены пропуски. Большое количество пропусков осталось в столбце is_apartment, при дальнейшем сборе данных разработчикам нужно обратить особое внимание на этот столбец. В большом количестве столбцов использовать тип flot64 нерационально, поэтому рекомендуется его заменить. В столбце locality_name были удалены неявные дубликаты, для устранения этой проблемы можно либо поменять поле ввода на поле выбора, либо для поля ввода задать условия (первая буква большая, исключается буква ё, исключаются тип населенного пункта).<br>\n",
    "\n",
    "В третьем разделе были добавлены новые столбцы с параметрами, необходимыми для проведения исследовательство анализа данных. К ним относятся цена одного квадратного метра; номер дня недели, месяца и года публикации объявления; тип этажа (первый, последний, другой); расстояние до центра города в киллометрах.<br>\n",
    "\n",
    "Четвертый раздел посвящен непосредственно исследовательскому анализу данных. Данная глава разделена на несколько подразделов.<br>\n",
    "\n",
    "В первом подразделе были исследованы общие параметры и сделаны следующие выводы. Чаще всего люди продают однокомнатные и духкомнатные квартиры с площадами 30-45 и 55-65 соотвественно. Большое количество и трехкомнатных квартир с площадями 66-70. Жилая площадь квартир лежит в трех наиболее встечающихся областях, что соотвествует 1,2,3комнатным квартирам. Обычно площадь кухни от 6 до 12 квадратных метров, в этом диапазоне есть несколько типовых вариантов. Большинство квартир имеют стандартные потолки в 2,7м. В Петербурге и ЛО больше всего 5ти и 9ти этажных домов, поэтому люди чаще живут с 1 по 5 этаж. Распределение стоимости квартир является нормальным. Больше всего объявлений выкладывают в течении рабочей неделе и в месяца с наименьшим количеством выходных и отпусков.<br>\n",
    "\n",
    "Второй подраздел посвящен быстроте продажи квартир. В результате исследований медианное время продажи состовило 92 дня, а среднее время 170 дней. Продажи меньше чем за 41 день дня можно назвать быстрыми, продажи больше чем за 216 дней можно назвать долгими.<br>\n",
    "\n",
    "В третьем подразделе были рассмотрены факторы влияющие на стоимость квартиры. Стоимость квартиры зависит от полной площади квартиры, однако не всегда эта связь является линейной. Также стоимость зависит от жилой площади, но коэффициент линейной связи в этом случае меньше. С увеличение количества комнат стоимость увеличивается, что логично, ведь площадь в большинстве случаев становится больше. Квартиры на первом и последнем этажах стоят дешевле, чем квартиры на других этажах. Стоимость также зависит от дня недели и месяца, к концу недели квартиры продаются дешевле, по месяцам заивисимость сложнее, предполагаю, что она связана с отпусками, учебой, госпраздниками, близостью к концу и началу года. Стоимость жилья меняется от года к году, пик стоимости приходится на 2014 год, затем цены начинают падать, с 2017 года цена опять растут и к 2019 превышают стоимость в 2015 году. На стоимость квартир влияют политические и экономические факторы, уровнем инфляции, ставкой по ипотеке, стоимость стройматерилов.<br>\n",
    "\n",
    "В четвертом подразделе была расчитана средняя стоимость квартир для 10 наиболее популярных населенных пунктов. Самое большое количество объявлений и самая высокая средняя стоимость квадратного метра в Санкт-Петербурге. Самая низкая средняя стоимость во Всеволожске. Также был построен график зависимости стоимости квартир в Санкт-Петербурге от расстояния до центра.Стоимость квартир в основном уменьшается при удалении от центра, однако на графике присутсвуют явные пики, это может зависеть от типа застройки, благополучия района и других факторов.<br>\n",
    "\n",
    "В результате работы были выполнены все поставленные задачи. "
   ]
  },
  {
   "cell_type": "markdown",
   "metadata": {},
   "source": [
    "\n",
    "<div class=\"alert alert-success\">\n",
    "<b>Комментарий ревьюера:</b>☀️Спасибо за содержательный общий вывод!</div>"
   ]
  },
  {
   "cell_type": "markdown",
   "metadata": {},
   "source": [
    "\n",
    "<div class=\"alert alert-warning\">\n",
    "<b>Комментарий ревьюера:</b>☀️Ксения, спасибо тебе за твой проект. Все получилось отлично, однако есть моменты, которые нужно доработать. Подробнее о них ты узнаешь в моих комментариях по ходу проекта. Пожалуйста, ознакомься с ними и оставь свои :) Отправляю тебе проект на доработку и жду на повторное ревью. Желаю успехов!! :) Молодец!</div>"
   ]
  },
  {
   "cell_type": "markdown",
   "metadata": {},
   "source": [
    "<div class=\"alert alert-success\">\n",
    "<b>Комментарий ревьюера v2.0:</b>☀️Ксения, сейчас проект принят! Спасибо за исправления, которые ты внесла. Поздравляю тебя! Желаю успехов на поприще аналитики ;) </div>"
   ]
  },
  {
   "cell_type": "markdown",
   "metadata": {},
   "source": [
    "**Чек-лист готовности проекта**\n",
    "\n",
    "Поставьте 'x' в выполненных пунктах. Далее нажмите Shift+Enter."
   ]
  },
  {
   "cell_type": "markdown",
   "metadata": {},
   "source": [
    "- [x]  открыт файл\n",
    "- [x]  файлы изучены (выведены первые строки, метод `info()`, гистограммы и т.д.)\n",
    "- [x]  определены пропущенные значения\n",
    "- [x]  заполнены пропущенные значения там, где это возможно\n",
    "- [x]  есть пояснение, какие пропущенные значения обнаружены\n",
    "- [x]  изменены типы данных\n",
    "- [x]  есть пояснение, в каких столбцах изменены типы и почему\n",
    "- [x]  устранены неявные дубликаты в названиях населённых пунктов\n",
    "- [x]  устранены редкие и выбивающиеся значения (аномалии) во всех столбцах\n",
    "- [x]  посчитано и добавлено в таблицу: цена одного квадратного метра\n",
    "- [x]  посчитано и добавлено в таблицу: день публикации объявления (0 - понедельник, 1 - вторник и т.д.)\n",
    "- [x]  посчитано и добавлено в таблицу: месяц публикации объявления\n",
    "- [x]  посчитано и добавлено в таблицу: год публикации объявления\n",
    "- [x]  посчитано и добавлено в таблицу: тип этажа квартиры (значения — «первый», «последний», «другой»)\n",
    "- [x]  посчитано и добавлено в таблицу: расстояние в км до центра города\n",
    "- [x]  изучены и описаны следующие параметры:\n",
    "        - общая площадь;\n",
    "        - жилая площадь;\n",
    "        - площадь кухни;\n",
    "        - цена объекта;\n",
    "        - количество комнат;\n",
    "        - высота потолков;\n",
    "        - этаж квартиры;\n",
    "        - тип этажа квартиры («первый», «последний», «другой»);\n",
    "        - общее количество этажей в доме;\n",
    "        - расстояние до центра города в метрах;\n",
    "        - расстояние до ближайшего аэропорта;\n",
    "        - расстояние до ближайшего парка;\n",
    "        - день и месяц публикации объявления\n",
    "- [x]  построены гистограммы для каждого параметра\n",
    "- [x]  выполнено задание: \"Изучите, как быстро продавались квартиры (столбец days_exposition). Этот параметр показывает, сколько дней «висело» каждое объявление.\n",
    "    - Постройте гистограмму.\n",
    "    - Посчитайте среднее и медиану.\n",
    "    - В ячейке типа markdown опишите, сколько обычно занимает продажа. Какие продажи можно считать быстрыми, а какие — необычно долгими?\"\n",
    "- [x]  выполнено задание: \"Какие факторы больше всего влияют на общую (полную) стоимость объекта? Постройте графики, которые покажут зависимость цены от указанных ниже параметров. Для подготовки данных перед визуализацией вы можете использовать сводные таблицы.\"\n",
    "        - общей площади;\n",
    "        - жилой площади;\n",
    "        - площади кухни;\n",
    "        - количество комнат;\n",
    "        - типа этажа, на котором расположена квартира (первый, последний, другой);\n",
    "        - даты размещения (день недели, месяц, год);\n",
    "- [x]  выполнено задание: \"Посчитайте среднюю цену одного квадратного метра в 10 населённых пунктах с наибольшим числом объявлений. Выделите населённые пункты с самой высокой и низкой стоимостью квадратного метра. Эти данные можно найти по имени в столбце `locality_name`.\"\n",
    "- [x]  выполнено задание: \"Ранее вы посчитали расстояние до центра в километрах. Теперь выделите квартиры в Санкт-Петербурге с помощью столбца `locality_name` и вычислите среднюю цену каждого километра. Опишите, как стоимость объектов зависит от расстояния до центра города.\"\n",
    "- [x]  в каждом этапе есть промежуточные выводы\n",
    "- [x]  есть общий вывод"
   ]
  }
 ],
 "metadata": {
  "ExecuteTimeLog": [
   {
    "duration": 546,
    "start_time": "2023-08-24T12:11:33.221Z"
   },
   {
    "duration": 14,
    "start_time": "2023-08-24T12:12:06.698Z"
   },
   {
    "duration": 8,
    "start_time": "2023-08-24T12:14:22.691Z"
   },
   {
    "duration": 13,
    "start_time": "2023-08-24T12:14:39.393Z"
   },
   {
    "duration": 11,
    "start_time": "2023-08-24T12:17:48.876Z"
   },
   {
    "duration": 405,
    "start_time": "2023-08-24T12:18:59.371Z"
   },
   {
    "duration": 13,
    "start_time": "2023-08-24T12:23:39.057Z"
   },
   {
    "duration": 14,
    "start_time": "2023-08-24T12:23:41.057Z"
   },
   {
    "duration": 86,
    "start_time": "2023-08-24T12:23:47.406Z"
   },
   {
    "duration": 14,
    "start_time": "2023-08-24T12:23:55.971Z"
   },
   {
    "duration": 84,
    "start_time": "2023-08-24T12:24:05.459Z"
   },
   {
    "duration": 7,
    "start_time": "2023-08-24T12:24:25.595Z"
   },
   {
    "duration": 14,
    "start_time": "2023-08-24T12:32:38.173Z"
   },
   {
    "duration": 93,
    "start_time": "2023-08-24T12:34:51.123Z"
   },
   {
    "duration": 16,
    "start_time": "2023-08-24T12:34:51.219Z"
   },
   {
    "duration": 42,
    "start_time": "2023-08-24T12:34:51.237Z"
   },
   {
    "duration": 38,
    "start_time": "2023-08-24T12:36:09.118Z"
   },
   {
    "duration": 2018,
    "start_time": "2023-08-24T12:37:43.411Z"
   },
   {
    "duration": 13,
    "start_time": "2023-08-24T13:14:38.891Z"
   },
   {
    "duration": 8,
    "start_time": "2023-08-24T13:16:30.003Z"
   },
   {
    "duration": 8,
    "start_time": "2023-08-24T13:20:51.722Z"
   },
   {
    "duration": 9,
    "start_time": "2023-08-24T13:21:42.003Z"
   },
   {
    "duration": 14,
    "start_time": "2023-08-24T13:21:59.049Z"
   },
   {
    "duration": 7,
    "start_time": "2023-08-24T13:22:05.670Z"
   },
   {
    "duration": 7,
    "start_time": "2023-08-24T13:41:31.528Z"
   },
   {
    "duration": 77,
    "start_time": "2023-08-27T17:28:00.310Z"
   },
   {
    "duration": 559,
    "start_time": "2023-08-27T17:28:36.768Z"
   },
   {
    "duration": 16,
    "start_time": "2023-08-27T17:28:37.329Z"
   },
   {
    "duration": 67,
    "start_time": "2023-08-27T17:28:37.347Z"
   },
   {
    "duration": 2781,
    "start_time": "2023-08-27T17:28:37.416Z"
   },
   {
    "duration": 10,
    "start_time": "2023-08-27T17:28:40.202Z"
   },
   {
    "duration": 5,
    "start_time": "2023-08-27T17:28:40.215Z"
   },
   {
    "duration": 56,
    "start_time": "2023-08-27T17:28:40.222Z"
   },
   {
    "duration": 35,
    "start_time": "2023-08-27T17:28:56.040Z"
   },
   {
    "duration": 63,
    "start_time": "2023-08-27T17:29:19.424Z"
   },
   {
    "duration": 161,
    "start_time": "2023-08-27T17:30:06.260Z"
   },
   {
    "duration": 189,
    "start_time": "2023-08-27T17:30:19.046Z"
   },
   {
    "duration": 250,
    "start_time": "2023-08-27T17:30:23.502Z"
   },
   {
    "duration": 8,
    "start_time": "2023-08-27T17:55:45.817Z"
   },
   {
    "duration": 10,
    "start_time": "2023-08-27T17:55:54.718Z"
   },
   {
    "duration": 7,
    "start_time": "2023-08-27T17:56:09.493Z"
   },
   {
    "duration": 9,
    "start_time": "2023-08-27T17:57:05.154Z"
   },
   {
    "duration": 132,
    "start_time": "2023-08-27T18:02:40.085Z"
   },
   {
    "duration": 6,
    "start_time": "2023-08-27T18:04:51.847Z"
   },
   {
    "duration": 7,
    "start_time": "2023-08-27T18:05:35.985Z"
   },
   {
    "duration": 8,
    "start_time": "2023-08-27T18:05:54.642Z"
   },
   {
    "duration": 7,
    "start_time": "2023-08-27T18:06:07.399Z"
   },
   {
    "duration": 12,
    "start_time": "2023-08-27T18:06:24.370Z"
   },
   {
    "duration": 6,
    "start_time": "2023-08-27T18:07:25.620Z"
   },
   {
    "duration": 8,
    "start_time": "2023-08-27T18:07:34.343Z"
   },
   {
    "duration": 7,
    "start_time": "2023-08-27T18:12:07.900Z"
   },
   {
    "duration": 8,
    "start_time": "2023-08-27T18:13:23.987Z"
   },
   {
    "duration": 10,
    "start_time": "2023-08-27T18:13:30.985Z"
   },
   {
    "duration": 6,
    "start_time": "2023-08-27T18:14:08.341Z"
   },
   {
    "duration": 8,
    "start_time": "2023-08-27T18:14:28.623Z"
   },
   {
    "duration": 9,
    "start_time": "2023-08-27T18:14:37.024Z"
   },
   {
    "duration": 6,
    "start_time": "2023-08-27T18:14:56.535Z"
   },
   {
    "duration": 6,
    "start_time": "2023-08-27T18:32:19.388Z"
   },
   {
    "duration": 6,
    "start_time": "2023-08-27T18:32:24.820Z"
   },
   {
    "duration": 17,
    "start_time": "2023-08-27T18:33:13.553Z"
   },
   {
    "duration": 10,
    "start_time": "2023-08-27T18:54:02.985Z"
   },
   {
    "duration": 141,
    "start_time": "2023-08-27T19:03:16.038Z"
   },
   {
    "duration": 10,
    "start_time": "2023-08-27T19:03:42.411Z"
   },
   {
    "duration": 167,
    "start_time": "2023-08-27T19:04:07.293Z"
   },
   {
    "duration": 12,
    "start_time": "2023-08-27T19:04:20.199Z"
   },
   {
    "duration": 14,
    "start_time": "2023-08-27T19:05:45.908Z"
   },
   {
    "duration": 12,
    "start_time": "2023-08-27T19:07:39.596Z"
   },
   {
    "duration": 24,
    "start_time": "2023-08-27T19:08:03.551Z"
   },
   {
    "duration": 13,
    "start_time": "2023-08-27T19:08:17.342Z"
   },
   {
    "duration": 12,
    "start_time": "2023-08-27T19:09:05.126Z"
   },
   {
    "duration": 14,
    "start_time": "2023-08-27T19:09:16.105Z"
   },
   {
    "duration": 26,
    "start_time": "2023-08-27T19:09:22.184Z"
   },
   {
    "duration": 13,
    "start_time": "2023-08-27T19:09:36.019Z"
   },
   {
    "duration": 53,
    "start_time": "2023-08-29T10:39:19.508Z"
   },
   {
    "duration": 721,
    "start_time": "2023-08-29T10:39:41.664Z"
   },
   {
    "duration": 16,
    "start_time": "2023-08-29T10:39:42.387Z"
   },
   {
    "duration": 47,
    "start_time": "2023-08-29T10:39:42.405Z"
   },
   {
    "duration": 2517,
    "start_time": "2023-08-29T10:39:42.453Z"
   },
   {
    "duration": 11,
    "start_time": "2023-08-29T10:39:44.972Z"
   },
   {
    "duration": 9,
    "start_time": "2023-08-29T10:39:44.985Z"
   },
   {
    "duration": 3246,
    "start_time": "2023-08-29T10:51:38.788Z"
   },
   {
    "duration": 2644,
    "start_time": "2023-08-29T10:51:44.139Z"
   },
   {
    "duration": 8,
    "start_time": "2023-08-29T10:51:55.367Z"
   },
   {
    "duration": 4,
    "start_time": "2023-08-29T13:11:57.914Z"
   },
   {
    "duration": 6,
    "start_time": "2023-08-29T13:12:58.969Z"
   },
   {
    "duration": 9,
    "start_time": "2023-08-29T13:14:40.657Z"
   },
   {
    "duration": 34,
    "start_time": "2023-08-29T13:39:55.236Z"
   },
   {
    "duration": 8,
    "start_time": "2023-08-29T13:42:37.800Z"
   },
   {
    "duration": 7,
    "start_time": "2023-08-29T13:43:28.226Z"
   },
   {
    "duration": 78,
    "start_time": "2023-08-29T13:48:52.525Z"
   },
   {
    "duration": 75,
    "start_time": "2023-08-29T13:49:58.363Z"
   },
   {
    "duration": 7,
    "start_time": "2023-08-29T13:50:07.590Z"
   },
   {
    "duration": 52,
    "start_time": "2023-08-30T13:53:14.412Z"
   },
   {
    "duration": 770,
    "start_time": "2023-08-30T13:53:27.350Z"
   },
   {
    "duration": 17,
    "start_time": "2023-08-30T13:53:28.123Z"
   },
   {
    "duration": 56,
    "start_time": "2023-08-30T13:53:28.143Z"
   },
   {
    "duration": 2645,
    "start_time": "2023-08-30T13:53:28.202Z"
   },
   {
    "duration": 12,
    "start_time": "2023-08-30T13:53:30.849Z"
   },
   {
    "duration": 72,
    "start_time": "2023-08-30T13:53:30.862Z"
   },
   {
    "duration": 40,
    "start_time": "2023-08-30T13:53:30.936Z"
   },
   {
    "duration": 119,
    "start_time": "2023-08-30T13:53:30.977Z"
   },
   {
    "duration": 0,
    "start_time": "2023-08-30T13:53:31.097Z"
   },
   {
    "duration": 0,
    "start_time": "2023-08-30T13:53:31.099Z"
   },
   {
    "duration": 0,
    "start_time": "2023-08-30T13:53:31.100Z"
   },
   {
    "duration": 0,
    "start_time": "2023-08-30T13:53:31.101Z"
   },
   {
    "duration": 0,
    "start_time": "2023-08-30T13:53:31.102Z"
   },
   {
    "duration": 16,
    "start_time": "2023-08-30T13:55:23.778Z"
   },
   {
    "duration": 22,
    "start_time": "2023-08-30T14:37:46.636Z"
   },
   {
    "duration": 15,
    "start_time": "2023-08-30T14:37:56.793Z"
   },
   {
    "duration": 22,
    "start_time": "2023-08-30T14:38:05.277Z"
   },
   {
    "duration": 21,
    "start_time": "2023-08-30T14:38:12.701Z"
   },
   {
    "duration": 15,
    "start_time": "2023-08-30T14:38:44.040Z"
   },
   {
    "duration": 21,
    "start_time": "2023-08-30T14:38:52.534Z"
   },
   {
    "duration": 16,
    "start_time": "2023-08-30T14:39:07.879Z"
   },
   {
    "duration": 5,
    "start_time": "2023-08-30T14:39:13.929Z"
   },
   {
    "duration": 115,
    "start_time": "2023-08-30T14:41:10.844Z"
   },
   {
    "duration": 24,
    "start_time": "2023-08-30T14:41:10.961Z"
   },
   {
    "duration": 77,
    "start_time": "2023-08-30T14:41:10.987Z"
   },
   {
    "duration": 2292,
    "start_time": "2023-08-30T14:41:11.066Z"
   },
   {
    "duration": 13,
    "start_time": "2023-08-30T14:41:13.361Z"
   },
   {
    "duration": 32,
    "start_time": "2023-08-30T14:41:13.376Z"
   },
   {
    "duration": 12,
    "start_time": "2023-08-30T14:41:13.410Z"
   },
   {
    "duration": 9,
    "start_time": "2023-08-30T14:41:13.424Z"
   },
   {
    "duration": 17,
    "start_time": "2023-08-30T14:41:13.434Z"
   },
   {
    "duration": 0,
    "start_time": "2023-08-30T14:41:13.454Z"
   },
   {
    "duration": 0,
    "start_time": "2023-08-30T14:41:13.455Z"
   },
   {
    "duration": 0,
    "start_time": "2023-08-30T14:41:13.457Z"
   },
   {
    "duration": 0,
    "start_time": "2023-08-30T14:41:13.459Z"
   },
   {
    "duration": 114,
    "start_time": "2023-08-30T14:41:59.611Z"
   },
   {
    "duration": 20,
    "start_time": "2023-08-30T14:41:59.727Z"
   },
   {
    "duration": 61,
    "start_time": "2023-08-30T14:41:59.749Z"
   },
   {
    "duration": 2342,
    "start_time": "2023-08-30T14:41:59.812Z"
   },
   {
    "duration": 12,
    "start_time": "2023-08-30T14:42:02.157Z"
   },
   {
    "duration": 36,
    "start_time": "2023-08-30T14:42:02.171Z"
   },
   {
    "duration": 37,
    "start_time": "2023-08-30T14:42:02.210Z"
   },
   {
    "duration": 67,
    "start_time": "2023-08-30T14:42:02.250Z"
   },
   {
    "duration": 89,
    "start_time": "2023-08-30T14:42:02.320Z"
   },
   {
    "duration": 0,
    "start_time": "2023-08-30T14:42:02.413Z"
   },
   {
    "duration": 0,
    "start_time": "2023-08-30T14:42:02.415Z"
   },
   {
    "duration": 1,
    "start_time": "2023-08-30T14:42:02.417Z"
   },
   {
    "duration": 0,
    "start_time": "2023-08-30T14:42:02.419Z"
   },
   {
    "duration": 14,
    "start_time": "2023-08-30T14:42:52.704Z"
   },
   {
    "duration": 12,
    "start_time": "2023-08-30T14:42:59.534Z"
   },
   {
    "duration": 70,
    "start_time": "2023-08-30T14:59:26.221Z"
   },
   {
    "duration": 103,
    "start_time": "2023-08-30T15:00:40.950Z"
   },
   {
    "duration": 17,
    "start_time": "2023-08-30T15:00:41.055Z"
   },
   {
    "duration": 82,
    "start_time": "2023-08-30T15:00:41.074Z"
   },
   {
    "duration": 2099,
    "start_time": "2023-08-30T15:00:41.159Z"
   },
   {
    "duration": 19,
    "start_time": "2023-08-30T15:00:43.262Z"
   },
   {
    "duration": 40,
    "start_time": "2023-08-30T15:00:43.284Z"
   },
   {
    "duration": 42,
    "start_time": "2023-08-30T15:00:43.327Z"
   },
   {
    "duration": 21,
    "start_time": "2023-08-30T15:00:43.373Z"
   },
   {
    "duration": 14,
    "start_time": "2023-08-30T15:00:43.397Z"
   },
   {
    "duration": 48,
    "start_time": "2023-08-30T15:00:43.414Z"
   },
   {
    "duration": 8,
    "start_time": "2023-08-30T15:00:43.463Z"
   },
   {
    "duration": 93,
    "start_time": "2023-08-30T15:00:43.473Z"
   },
   {
    "duration": 8,
    "start_time": "2023-08-30T15:00:43.568Z"
   },
   {
    "duration": 103,
    "start_time": "2023-08-30T15:01:07.293Z"
   },
   {
    "duration": 1794,
    "start_time": "2023-08-30T15:03:59.285Z"
   },
   {
    "duration": 134,
    "start_time": "2023-08-30T15:04:30.549Z"
   },
   {
    "duration": 7,
    "start_time": "2023-08-30T15:04:50.354Z"
   },
   {
    "duration": 309,
    "start_time": "2023-08-30T15:07:37.047Z"
   },
   {
    "duration": 7,
    "start_time": "2023-08-30T15:07:39.413Z"
   },
   {
    "duration": 157,
    "start_time": "2023-08-30T15:09:01.877Z"
   },
   {
    "duration": 7,
    "start_time": "2023-08-30T15:09:04.038Z"
   },
   {
    "duration": 6,
    "start_time": "2023-08-30T15:09:25.704Z"
   },
   {
    "duration": 159,
    "start_time": "2023-08-30T15:09:28.058Z"
   },
   {
    "duration": 8,
    "start_time": "2023-08-30T15:09:33.069Z"
   },
   {
    "duration": 94,
    "start_time": "2023-08-30T15:10:05.155Z"
   },
   {
    "duration": 16,
    "start_time": "2023-08-30T15:10:05.251Z"
   },
   {
    "duration": 53,
    "start_time": "2023-08-30T15:10:05.269Z"
   },
   {
    "duration": 1957,
    "start_time": "2023-08-30T15:10:05.325Z"
   },
   {
    "duration": 18,
    "start_time": "2023-08-30T15:10:07.284Z"
   },
   {
    "duration": 26,
    "start_time": "2023-08-30T15:10:07.304Z"
   },
   {
    "duration": 20,
    "start_time": "2023-08-30T15:10:07.332Z"
   },
   {
    "duration": 14,
    "start_time": "2023-08-30T15:10:07.354Z"
   },
   {
    "duration": 38,
    "start_time": "2023-08-30T15:10:07.370Z"
   },
   {
    "duration": 44,
    "start_time": "2023-08-30T15:10:07.412Z"
   },
   {
    "duration": 7,
    "start_time": "2023-08-30T15:10:07.458Z"
   },
   {
    "duration": 164,
    "start_time": "2023-08-30T15:10:07.466Z"
   },
   {
    "duration": 7,
    "start_time": "2023-08-30T15:10:07.632Z"
   },
   {
    "duration": 57,
    "start_time": "2023-09-05T15:53:18.542Z"
   },
   {
    "duration": 624,
    "start_time": "2023-09-05T15:53:29.479Z"
   },
   {
    "duration": 20,
    "start_time": "2023-09-05T15:53:30.106Z"
   },
   {
    "duration": 143,
    "start_time": "2023-09-05T15:53:30.128Z"
   },
   {
    "duration": 2797,
    "start_time": "2023-09-05T15:53:30.273Z"
   },
   {
    "duration": 14,
    "start_time": "2023-09-05T15:53:33.073Z"
   },
   {
    "duration": 21,
    "start_time": "2023-09-05T15:53:33.089Z"
   },
   {
    "duration": 79,
    "start_time": "2023-09-05T15:53:33.112Z"
   },
   {
    "duration": 79,
    "start_time": "2023-09-05T15:53:33.194Z"
   },
   {
    "duration": 10,
    "start_time": "2023-09-05T15:53:33.275Z"
   },
   {
    "duration": 37,
    "start_time": "2023-09-05T15:53:33.287Z"
   },
   {
    "duration": 58,
    "start_time": "2023-09-05T15:53:33.327Z"
   },
   {
    "duration": 10,
    "start_time": "2023-09-05T15:53:33.387Z"
   },
   {
    "duration": 189,
    "start_time": "2023-09-05T15:53:33.400Z"
   },
   {
    "duration": 7,
    "start_time": "2023-09-05T15:53:33.592Z"
   },
   {
    "duration": 257,
    "start_time": "2023-09-05T15:56:15.398Z"
   },
   {
    "duration": 35,
    "start_time": "2023-09-05T15:56:31.472Z"
   },
   {
    "duration": 49,
    "start_time": "2023-09-05T15:56:38.259Z"
   },
   {
    "duration": 42,
    "start_time": "2023-09-05T16:01:19.484Z"
   },
   {
    "duration": 8,
    "start_time": "2023-09-05T16:01:28.999Z"
   },
   {
    "duration": 9,
    "start_time": "2023-09-05T16:07:41.571Z"
   },
   {
    "duration": 9,
    "start_time": "2023-09-05T16:07:57.687Z"
   },
   {
    "duration": 38,
    "start_time": "2023-09-05T16:08:29.930Z"
   },
   {
    "duration": 11,
    "start_time": "2023-09-05T16:08:40.780Z"
   },
   {
    "duration": 8,
    "start_time": "2023-09-05T16:09:22.362Z"
   },
   {
    "duration": 12,
    "start_time": "2023-09-05T16:09:53.667Z"
   },
   {
    "duration": 4,
    "start_time": "2023-09-05T16:10:29.243Z"
   },
   {
    "duration": 4,
    "start_time": "2023-09-05T16:10:39.794Z"
   },
   {
    "duration": 39,
    "start_time": "2023-09-05T16:10:47.187Z"
   },
   {
    "duration": 1872,
    "start_time": "2023-09-05T16:12:49.864Z"
   },
   {
    "duration": 4,
    "start_time": "2023-09-05T16:13:02.693Z"
   },
   {
    "duration": 7,
    "start_time": "2023-09-05T16:13:25.636Z"
   },
   {
    "duration": 1915,
    "start_time": "2023-09-05T16:14:02.012Z"
   },
   {
    "duration": 1091,
    "start_time": "2023-09-18T18:00:33.813Z"
   },
   {
    "duration": 16,
    "start_time": "2023-09-18T18:00:34.906Z"
   },
   {
    "duration": 46,
    "start_time": "2023-09-18T18:00:34.924Z"
   },
   {
    "duration": 2812,
    "start_time": "2023-09-18T18:00:34.981Z"
   },
   {
    "duration": 12,
    "start_time": "2023-09-18T18:00:37.796Z"
   },
   {
    "duration": 859,
    "start_time": "2023-09-18T18:00:37.810Z"
   },
   {
    "duration": 0,
    "start_time": "2023-09-18T18:00:38.671Z"
   },
   {
    "duration": 0,
    "start_time": "2023-09-18T18:00:38.672Z"
   },
   {
    "duration": 0,
    "start_time": "2023-09-18T18:00:38.674Z"
   },
   {
    "duration": 0,
    "start_time": "2023-09-18T18:00:38.676Z"
   },
   {
    "duration": 0,
    "start_time": "2023-09-18T18:00:38.677Z"
   },
   {
    "duration": 0,
    "start_time": "2023-09-18T18:00:38.679Z"
   },
   {
    "duration": 0,
    "start_time": "2023-09-18T18:00:38.680Z"
   },
   {
    "duration": 0,
    "start_time": "2023-09-18T18:00:38.681Z"
   },
   {
    "duration": 0,
    "start_time": "2023-09-18T18:00:38.682Z"
   },
   {
    "duration": 1679,
    "start_time": "2023-09-18T18:01:36.694Z"
   },
   {
    "duration": 13,
    "start_time": "2023-09-18T18:11:36.965Z"
   },
   {
    "duration": 12,
    "start_time": "2023-09-18T18:11:45.890Z"
   },
   {
    "duration": 120,
    "start_time": "2023-09-18T18:16:05.036Z"
   },
   {
    "duration": 16,
    "start_time": "2023-09-18T18:16:05.158Z"
   },
   {
    "duration": 67,
    "start_time": "2023-09-18T18:16:05.176Z"
   },
   {
    "duration": 2363,
    "start_time": "2023-09-18T18:16:05.245Z"
   },
   {
    "duration": 11,
    "start_time": "2023-09-18T18:16:07.611Z"
   },
   {
    "duration": 20,
    "start_time": "2023-09-18T18:16:07.624Z"
   },
   {
    "duration": 0,
    "start_time": "2023-09-18T18:16:07.646Z"
   },
   {
    "duration": 0,
    "start_time": "2023-09-18T18:16:07.648Z"
   },
   {
    "duration": 0,
    "start_time": "2023-09-18T18:16:07.650Z"
   },
   {
    "duration": 0,
    "start_time": "2023-09-18T18:16:07.652Z"
   },
   {
    "duration": 0,
    "start_time": "2023-09-18T18:16:07.653Z"
   },
   {
    "duration": 0,
    "start_time": "2023-09-18T18:16:07.686Z"
   },
   {
    "duration": 0,
    "start_time": "2023-09-18T18:16:07.687Z"
   },
   {
    "duration": 0,
    "start_time": "2023-09-18T18:16:07.688Z"
   },
   {
    "duration": 0,
    "start_time": "2023-09-18T18:16:07.688Z"
   },
   {
    "duration": 15,
    "start_time": "2023-09-18T18:18:11.132Z"
   },
   {
    "duration": 2086,
    "start_time": "2023-09-18T18:19:30.933Z"
   },
   {
    "duration": 9,
    "start_time": "2023-09-18T18:21:27.506Z"
   },
   {
    "duration": 12,
    "start_time": "2023-09-18T18:21:30.179Z"
   },
   {
    "duration": 10,
    "start_time": "2023-09-18T18:31:02.621Z"
   },
   {
    "duration": 11,
    "start_time": "2023-09-18T19:05:06.259Z"
   },
   {
    "duration": 98,
    "start_time": "2023-09-18T19:05:06.272Z"
   },
   {
    "duration": 24,
    "start_time": "2023-09-18T19:05:06.372Z"
   },
   {
    "duration": 39,
    "start_time": "2023-09-18T19:05:06.399Z"
   },
   {
    "duration": 2268,
    "start_time": "2023-09-18T19:05:06.440Z"
   },
   {
    "duration": 10,
    "start_time": "2023-09-18T19:05:08.710Z"
   },
   {
    "duration": 9,
    "start_time": "2023-09-18T19:05:08.721Z"
   },
   {
    "duration": 14,
    "start_time": "2023-09-18T19:05:08.731Z"
   },
   {
    "duration": 3,
    "start_time": "2023-09-18T19:05:08.747Z"
   },
   {
    "duration": 60,
    "start_time": "2023-09-18T19:05:08.752Z"
   },
   {
    "duration": 139,
    "start_time": "2023-09-18T19:05:08.814Z"
   },
   {
    "duration": 0,
    "start_time": "2023-09-18T19:05:08.955Z"
   },
   {
    "duration": 0,
    "start_time": "2023-09-18T19:05:08.957Z"
   },
   {
    "duration": 0,
    "start_time": "2023-09-18T19:05:08.958Z"
   },
   {
    "duration": 0,
    "start_time": "2023-09-18T19:05:08.960Z"
   },
   {
    "duration": 0,
    "start_time": "2023-09-18T19:05:08.961Z"
   },
   {
    "duration": 0,
    "start_time": "2023-09-18T19:05:08.962Z"
   },
   {
    "duration": 101,
    "start_time": "2023-09-18T19:06:53.714Z"
   },
   {
    "duration": 10,
    "start_time": "2023-09-18T19:06:59.027Z"
   },
   {
    "duration": 11,
    "start_time": "2023-09-18T19:12:11.729Z"
   },
   {
    "duration": 11,
    "start_time": "2023-09-18T19:15:12.219Z"
   },
   {
    "duration": 9,
    "start_time": "2023-09-18T19:17:23.426Z"
   },
   {
    "duration": 43,
    "start_time": "2023-09-20T19:44:01.515Z"
   },
   {
    "duration": 6,
    "start_time": "2023-09-20T19:44:31.029Z"
   },
   {
    "duration": 6,
    "start_time": "2023-09-20T19:44:39.588Z"
   },
   {
    "duration": 0,
    "start_time": "2023-09-20T19:44:39.595Z"
   },
   {
    "duration": 0,
    "start_time": "2023-09-20T19:44:39.596Z"
   },
   {
    "duration": 0,
    "start_time": "2023-09-20T19:44:39.598Z"
   },
   {
    "duration": 0,
    "start_time": "2023-09-20T19:44:39.599Z"
   },
   {
    "duration": 0,
    "start_time": "2023-09-20T19:44:39.600Z"
   },
   {
    "duration": 487,
    "start_time": "2023-09-20T19:46:27.711Z"
   },
   {
    "duration": 13,
    "start_time": "2023-09-20T19:46:28.199Z"
   },
   {
    "duration": 14,
    "start_time": "2023-09-20T19:46:28.213Z"
   },
   {
    "duration": 33,
    "start_time": "2023-09-20T19:46:28.228Z"
   },
   {
    "duration": 2031,
    "start_time": "2023-09-20T19:46:28.263Z"
   },
   {
    "duration": 9,
    "start_time": "2023-09-20T19:46:30.296Z"
   },
   {
    "duration": 49,
    "start_time": "2023-09-20T19:46:30.307Z"
   },
   {
    "duration": 42,
    "start_time": "2023-09-20T19:46:30.358Z"
   },
   {
    "duration": 47,
    "start_time": "2023-09-20T19:46:30.402Z"
   },
   {
    "duration": 47,
    "start_time": "2023-09-20T19:46:30.450Z"
   },
   {
    "duration": 80,
    "start_time": "2023-09-20T19:46:30.499Z"
   },
   {
    "duration": 84,
    "start_time": "2023-09-20T19:46:30.580Z"
   },
   {
    "duration": 0,
    "start_time": "2023-09-20T19:46:30.666Z"
   },
   {
    "duration": 0,
    "start_time": "2023-09-20T19:46:30.668Z"
   },
   {
    "duration": 0,
    "start_time": "2023-09-20T19:46:30.669Z"
   },
   {
    "duration": 0,
    "start_time": "2023-09-20T19:46:30.670Z"
   },
   {
    "duration": 0,
    "start_time": "2023-09-20T19:46:30.672Z"
   },
   {
    "duration": 0,
    "start_time": "2023-09-20T19:46:30.673Z"
   },
   {
    "duration": 6,
    "start_time": "2023-09-20T19:48:40.073Z"
   },
   {
    "duration": 6,
    "start_time": "2023-09-20T19:49:31.586Z"
   },
   {
    "duration": 7,
    "start_time": "2023-09-20T19:49:49.238Z"
   },
   {
    "duration": 1439,
    "start_time": "2023-09-20T19:51:48.858Z"
   },
   {
    "duration": 1433,
    "start_time": "2023-09-20T19:51:57.889Z"
   },
   {
    "duration": 6,
    "start_time": "2023-09-20T20:01:04.585Z"
   },
   {
    "duration": 6,
    "start_time": "2023-09-20T20:01:22.125Z"
   },
   {
    "duration": 7,
    "start_time": "2023-09-20T20:01:43.209Z"
   },
   {
    "duration": 6,
    "start_time": "2023-09-20T20:03:13.800Z"
   },
   {
    "duration": 4,
    "start_time": "2023-09-20T20:04:08.334Z"
   },
   {
    "duration": 5,
    "start_time": "2023-09-20T20:04:10.906Z"
   },
   {
    "duration": 28,
    "start_time": "2023-09-20T20:10:25.375Z"
   },
   {
    "duration": 14,
    "start_time": "2023-09-20T20:11:05.223Z"
   },
   {
    "duration": 5,
    "start_time": "2023-09-20T20:12:26.562Z"
   },
   {
    "duration": 6,
    "start_time": "2023-09-20T20:13:20.571Z"
   },
   {
    "duration": 6,
    "start_time": "2023-09-20T20:13:39.985Z"
   },
   {
    "duration": 9,
    "start_time": "2023-09-20T20:13:57.465Z"
   },
   {
    "duration": 7,
    "start_time": "2023-09-20T20:14:03.298Z"
   },
   {
    "duration": 54,
    "start_time": "2023-09-20T20:15:25.547Z"
   },
   {
    "duration": 77,
    "start_time": "2023-09-21T15:26:47.252Z"
   },
   {
    "duration": 7,
    "start_time": "2023-09-21T15:26:54.061Z"
   },
   {
    "duration": 797,
    "start_time": "2023-09-21T15:27:00.137Z"
   },
   {
    "duration": 21,
    "start_time": "2023-09-21T15:27:00.936Z"
   },
   {
    "duration": 105,
    "start_time": "2023-09-21T15:27:00.959Z"
   },
   {
    "duration": 2378,
    "start_time": "2023-09-21T15:27:01.066Z"
   },
   {
    "duration": 155,
    "start_time": "2023-09-21T15:35:44.527Z"
   },
   {
    "duration": 84,
    "start_time": "2023-09-21T15:43:13.142Z"
   },
   {
    "duration": 1584,
    "start_time": "2023-09-21T15:46:12.700Z"
   },
   {
    "duration": 2078,
    "start_time": "2023-09-21T15:46:29.857Z"
   },
   {
    "duration": 8,
    "start_time": "2023-09-21T15:46:44.859Z"
   },
   {
    "duration": 10,
    "start_time": "2023-09-21T15:46:56.163Z"
   },
   {
    "duration": 109,
    "start_time": "2023-09-21T16:09:36.113Z"
   },
   {
    "duration": 20,
    "start_time": "2023-09-21T16:09:36.226Z"
   },
   {
    "duration": 55,
    "start_time": "2023-09-21T16:09:36.250Z"
   },
   {
    "duration": 115,
    "start_time": "2023-09-21T16:09:36.307Z"
   },
   {
    "duration": 1756,
    "start_time": "2023-09-21T16:09:36.425Z"
   },
   {
    "duration": 13,
    "start_time": "2023-09-21T16:09:38.183Z"
   },
   {
    "duration": 28,
    "start_time": "2023-09-21T16:09:38.197Z"
   },
   {
    "duration": 17,
    "start_time": "2023-09-21T16:09:38.226Z"
   },
   {
    "duration": 20,
    "start_time": "2023-09-21T16:09:38.245Z"
   },
   {
    "duration": 69,
    "start_time": "2023-09-21T16:09:38.266Z"
   },
   {
    "duration": 7,
    "start_time": "2023-09-21T16:09:38.336Z"
   },
   {
    "duration": 117,
    "start_time": "2023-09-21T16:09:38.344Z"
   },
   {
    "duration": 33,
    "start_time": "2023-09-21T16:09:38.463Z"
   },
   {
    "duration": 34,
    "start_time": "2023-09-21T16:09:38.498Z"
   },
   {
    "duration": 37,
    "start_time": "2023-09-21T16:09:38.534Z"
   },
   {
    "duration": 11,
    "start_time": "2023-09-21T16:09:38.572Z"
   },
   {
    "duration": 165,
    "start_time": "2023-09-21T16:09:38.584Z"
   },
   {
    "duration": 1174,
    "start_time": "2023-09-21T16:09:38.751Z"
   },
   {
    "duration": 116,
    "start_time": "2023-09-21T16:14:48.521Z"
   },
   {
    "duration": 13,
    "start_time": "2023-09-21T16:14:48.639Z"
   },
   {
    "duration": 52,
    "start_time": "2023-09-21T16:14:48.654Z"
   },
   {
    "duration": 90,
    "start_time": "2023-09-21T16:14:48.707Z"
   },
   {
    "duration": 1799,
    "start_time": "2023-09-21T16:14:48.799Z"
   },
   {
    "duration": 10,
    "start_time": "2023-09-21T16:14:50.600Z"
   },
   {
    "duration": 28,
    "start_time": "2023-09-21T16:14:50.612Z"
   },
   {
    "duration": 18,
    "start_time": "2023-09-21T16:14:50.641Z"
   },
   {
    "duration": 17,
    "start_time": "2023-09-21T16:14:50.660Z"
   },
   {
    "duration": 36,
    "start_time": "2023-09-21T16:14:50.679Z"
   },
   {
    "duration": 6,
    "start_time": "2023-09-21T16:14:50.717Z"
   },
   {
    "duration": 72,
    "start_time": "2023-09-21T16:14:50.725Z"
   },
   {
    "duration": 16,
    "start_time": "2023-09-21T16:14:50.798Z"
   },
   {
    "duration": 32,
    "start_time": "2023-09-21T16:14:50.817Z"
   },
   {
    "duration": 43,
    "start_time": "2023-09-21T16:14:50.851Z"
   },
   {
    "duration": 6,
    "start_time": "2023-09-21T16:14:50.895Z"
   },
   {
    "duration": 161,
    "start_time": "2023-09-21T16:14:50.903Z"
   },
   {
    "duration": 1115,
    "start_time": "2023-09-21T16:14:51.065Z"
   },
   {
    "duration": 99,
    "start_time": "2023-09-21T16:37:07.582Z"
   },
   {
    "duration": 13,
    "start_time": "2023-09-21T16:37:07.683Z"
   },
   {
    "duration": 48,
    "start_time": "2023-09-21T16:37:07.697Z"
   },
   {
    "duration": 79,
    "start_time": "2023-09-21T16:37:07.747Z"
   },
   {
    "duration": 1790,
    "start_time": "2023-09-21T16:37:07.828Z"
   },
   {
    "duration": 9,
    "start_time": "2023-09-21T16:37:09.619Z"
   },
   {
    "duration": 43,
    "start_time": "2023-09-21T16:37:09.629Z"
   },
   {
    "duration": 17,
    "start_time": "2023-09-21T16:37:09.674Z"
   },
   {
    "duration": 21,
    "start_time": "2023-09-21T16:37:09.692Z"
   },
   {
    "duration": 48,
    "start_time": "2023-09-21T16:37:09.714Z"
   },
   {
    "duration": 120,
    "start_time": "2023-09-21T16:37:09.764Z"
   },
   {
    "duration": 0,
    "start_time": "2023-09-21T16:37:09.885Z"
   },
   {
    "duration": 0,
    "start_time": "2023-09-21T16:37:09.886Z"
   },
   {
    "duration": 0,
    "start_time": "2023-09-21T16:37:09.888Z"
   },
   {
    "duration": 0,
    "start_time": "2023-09-21T16:37:09.889Z"
   },
   {
    "duration": 0,
    "start_time": "2023-09-21T16:37:09.890Z"
   },
   {
    "duration": 0,
    "start_time": "2023-09-21T16:37:09.891Z"
   },
   {
    "duration": 0,
    "start_time": "2023-09-21T16:37:09.892Z"
   },
   {
    "duration": 326,
    "start_time": "2023-09-21T16:38:25.419Z"
   },
   {
    "duration": 47,
    "start_time": "2023-09-27T11:06:36.626Z"
   },
   {
    "duration": 7,
    "start_time": "2023-09-27T11:07:19.068Z"
   },
   {
    "duration": 572,
    "start_time": "2023-09-27T11:07:33.995Z"
   },
   {
    "duration": 15,
    "start_time": "2023-09-27T11:07:34.569Z"
   },
   {
    "duration": 66,
    "start_time": "2023-09-27T11:07:34.586Z"
   },
   {
    "duration": 77,
    "start_time": "2023-09-27T11:07:34.653Z"
   },
   {
    "duration": 2258,
    "start_time": "2023-09-27T11:07:34.733Z"
   },
   {
    "duration": 10,
    "start_time": "2023-09-27T11:07:36.992Z"
   },
   {
    "duration": 17,
    "start_time": "2023-09-27T11:07:37.003Z"
   },
   {
    "duration": 18,
    "start_time": "2023-09-27T11:07:37.022Z"
   },
   {
    "duration": 19,
    "start_time": "2023-09-27T11:07:37.042Z"
   },
   {
    "duration": 47,
    "start_time": "2023-09-27T11:07:37.063Z"
   },
   {
    "duration": 14,
    "start_time": "2023-09-27T11:07:37.111Z"
   },
   {
    "duration": 25,
    "start_time": "2023-09-27T11:07:37.126Z"
   },
   {
    "duration": 27,
    "start_time": "2023-09-27T11:07:37.152Z"
   },
   {
    "duration": 6,
    "start_time": "2023-09-27T11:07:37.182Z"
   },
   {
    "duration": 159,
    "start_time": "2023-09-27T11:07:37.189Z"
   },
   {
    "duration": 1194,
    "start_time": "2023-09-27T11:07:37.349Z"
   },
   {
    "duration": 11,
    "start_time": "2023-09-27T11:08:49.226Z"
   },
   {
    "duration": 47,
    "start_time": "2023-09-27T11:19:52.428Z"
   },
   {
    "duration": 4,
    "start_time": "2023-09-27T11:20:08.417Z"
   },
   {
    "duration": 1814,
    "start_time": "2023-09-27T11:27:57.908Z"
   },
   {
    "duration": 1496,
    "start_time": "2023-09-27T11:28:12.555Z"
   },
   {
    "duration": 1467,
    "start_time": "2023-09-27T11:29:15.104Z"
   },
   {
    "duration": 11,
    "start_time": "2023-09-27T11:29:32.046Z"
   },
   {
    "duration": 10,
    "start_time": "2023-09-27T11:29:38.176Z"
   },
   {
    "duration": 7,
    "start_time": "2023-09-27T11:30:33.775Z"
   },
   {
    "duration": 6,
    "start_time": "2023-09-27T11:30:47.007Z"
   },
   {
    "duration": 7,
    "start_time": "2023-09-27T11:31:10.506Z"
   },
   {
    "duration": 10,
    "start_time": "2023-09-27T13:23:09.674Z"
   },
   {
    "duration": 5,
    "start_time": "2023-09-27T13:23:12.573Z"
   },
   {
    "duration": 6,
    "start_time": "2023-09-27T13:27:03.372Z"
   },
   {
    "duration": 1493,
    "start_time": "2023-09-27T13:27:36.295Z"
   },
   {
    "duration": 7,
    "start_time": "2023-09-27T13:27:42.287Z"
   },
   {
    "duration": 1742,
    "start_time": "2023-09-27T13:31:58.009Z"
   },
   {
    "duration": 11,
    "start_time": "2023-09-27T13:32:18.255Z"
   },
   {
    "duration": 5,
    "start_time": "2023-09-27T13:32:33.958Z"
   },
   {
    "duration": 77,
    "start_time": "2023-09-27T13:49:06.382Z"
   },
   {
    "duration": 156,
    "start_time": "2023-09-27T13:49:15.808Z"
   },
   {
    "duration": 88,
    "start_time": "2023-09-27T13:49:27.170Z"
   },
   {
    "duration": 285,
    "start_time": "2023-09-27T13:49:38.556Z"
   },
   {
    "duration": 34,
    "start_time": "2023-09-27T13:51:06.123Z"
   },
   {
    "duration": 83,
    "start_time": "2023-09-27T13:52:06.136Z"
   },
   {
    "duration": 357,
    "start_time": "2023-09-27T13:52:13.862Z"
   },
   {
    "duration": 34,
    "start_time": "2023-09-27T13:52:17.609Z"
   },
   {
    "duration": 47,
    "start_time": "2023-10-03T13:57:28.033Z"
   },
   {
    "duration": 1058,
    "start_time": "2023-10-03T13:57:37.480Z"
   },
   {
    "duration": 15,
    "start_time": "2023-10-03T13:57:38.540Z"
   },
   {
    "duration": 224,
    "start_time": "2023-10-03T13:57:38.557Z"
   },
   {
    "duration": 134,
    "start_time": "2023-10-03T13:57:38.783Z"
   },
   {
    "duration": 2442,
    "start_time": "2023-10-03T13:57:38.919Z"
   },
   {
    "duration": 9,
    "start_time": "2023-10-03T13:57:41.363Z"
   },
   {
    "duration": 43,
    "start_time": "2023-10-03T13:57:41.374Z"
   },
   {
    "duration": 17,
    "start_time": "2023-10-03T13:57:41.418Z"
   },
   {
    "duration": 25,
    "start_time": "2023-10-03T13:57:41.436Z"
   },
   {
    "duration": 53,
    "start_time": "2023-10-03T13:57:41.462Z"
   },
   {
    "duration": 6,
    "start_time": "2023-10-03T13:57:41.516Z"
   },
   {
    "duration": 36,
    "start_time": "2023-10-03T13:57:41.524Z"
   },
   {
    "duration": 59,
    "start_time": "2023-10-03T13:57:41.561Z"
   },
   {
    "duration": 11,
    "start_time": "2023-10-03T13:57:41.622Z"
   },
   {
    "duration": 173,
    "start_time": "2023-10-03T13:57:41.634Z"
   },
   {
    "duration": 1151,
    "start_time": "2023-10-03T13:57:41.809Z"
   },
   {
    "duration": 8,
    "start_time": "2023-10-03T13:57:42.961Z"
   },
   {
    "duration": 105,
    "start_time": "2023-10-03T13:57:42.971Z"
   },
   {
    "duration": 0,
    "start_time": "2023-10-03T13:57:43.078Z"
   },
   {
    "duration": 0,
    "start_time": "2023-10-03T13:57:43.079Z"
   },
   {
    "duration": 0,
    "start_time": "2023-10-03T13:57:43.080Z"
   },
   {
    "duration": 0,
    "start_time": "2023-10-03T13:57:43.081Z"
   },
   {
    "duration": 0,
    "start_time": "2023-10-03T13:57:43.082Z"
   },
   {
    "duration": 34,
    "start_time": "2023-10-03T13:58:43.269Z"
   },
   {
    "duration": 91,
    "start_time": "2023-10-03T13:59:00.327Z"
   },
   {
    "duration": 65,
    "start_time": "2023-10-03T13:59:00.420Z"
   },
   {
    "duration": 57,
    "start_time": "2023-10-03T13:59:00.487Z"
   },
   {
    "duration": 101,
    "start_time": "2023-10-03T13:59:00.545Z"
   },
   {
    "duration": 1901,
    "start_time": "2023-10-03T13:59:00.649Z"
   },
   {
    "duration": 9,
    "start_time": "2023-10-03T13:59:02.552Z"
   },
   {
    "duration": 103,
    "start_time": "2023-10-03T13:59:02.562Z"
   },
   {
    "duration": 48,
    "start_time": "2023-10-03T13:59:02.667Z"
   },
   {
    "duration": 5,
    "start_time": "2023-10-03T13:59:02.717Z"
   },
   {
    "duration": 28,
    "start_time": "2023-10-03T13:59:02.724Z"
   },
   {
    "duration": 4,
    "start_time": "2023-10-03T13:59:02.754Z"
   },
   {
    "duration": 24,
    "start_time": "2023-10-03T13:59:02.760Z"
   },
   {
    "duration": 29,
    "start_time": "2023-10-03T13:59:02.785Z"
   },
   {
    "duration": 6,
    "start_time": "2023-10-03T13:59:02.816Z"
   },
   {
    "duration": 177,
    "start_time": "2023-10-03T13:59:02.824Z"
   },
   {
    "duration": 1133,
    "start_time": "2023-10-03T13:59:03.002Z"
   },
   {
    "duration": 18,
    "start_time": "2023-10-03T13:59:04.136Z"
   },
   {
    "duration": 80,
    "start_time": "2023-10-03T13:59:04.155Z"
   },
   {
    "duration": 0,
    "start_time": "2023-10-03T13:59:04.236Z"
   },
   {
    "duration": 0,
    "start_time": "2023-10-03T13:59:04.237Z"
   },
   {
    "duration": 0,
    "start_time": "2023-10-03T13:59:04.238Z"
   },
   {
    "duration": 0,
    "start_time": "2023-10-03T13:59:04.239Z"
   },
   {
    "duration": 0,
    "start_time": "2023-10-03T13:59:04.240Z"
   },
   {
    "duration": 5,
    "start_time": "2023-10-03T13:59:58.082Z"
   },
   {
    "duration": 49,
    "start_time": "2023-10-03T13:59:58.089Z"
   },
   {
    "duration": 280,
    "start_time": "2023-10-03T13:59:58.140Z"
   },
   {
    "duration": 4,
    "start_time": "2023-10-03T13:59:58.421Z"
   },
   {
    "duration": 37,
    "start_time": "2023-10-03T13:59:58.426Z"
   },
   {
    "duration": 42,
    "start_time": "2023-10-03T14:01:25.439Z"
   },
   {
    "duration": 5,
    "start_time": "2023-10-03T14:01:45.872Z"
   },
   {
    "duration": 9,
    "start_time": "2023-10-03T14:29:20.920Z"
   },
   {
    "duration": 106,
    "start_time": "2023-10-03T14:29:41.976Z"
   },
   {
    "duration": 160,
    "start_time": "2023-10-03T14:29:51.308Z"
   },
   {
    "duration": 150,
    "start_time": "2023-10-03T14:30:05.627Z"
   },
   {
    "duration": 146,
    "start_time": "2023-10-03T14:30:20.261Z"
   },
   {
    "duration": 217,
    "start_time": "2023-10-03T14:32:36.166Z"
   },
   {
    "duration": 272,
    "start_time": "2023-10-03T14:32:42.138Z"
   },
   {
    "duration": 177,
    "start_time": "2023-10-03T14:32:46.237Z"
   },
   {
    "duration": 156,
    "start_time": "2023-10-03T14:32:51.604Z"
   },
   {
    "duration": 147,
    "start_time": "2023-10-03T14:32:57.479Z"
   },
   {
    "duration": 274,
    "start_time": "2023-10-03T14:33:04.566Z"
   },
   {
    "duration": 149,
    "start_time": "2023-10-03T14:33:13.492Z"
   },
   {
    "duration": 148,
    "start_time": "2023-10-03T14:38:42.618Z"
   },
   {
    "duration": 141,
    "start_time": "2023-10-03T14:40:41.205Z"
   },
   {
    "duration": 182,
    "start_time": "2023-10-03T14:41:18.717Z"
   },
   {
    "duration": 257,
    "start_time": "2023-10-03T14:41:35.198Z"
   },
   {
    "duration": 145,
    "start_time": "2023-10-03T14:43:36.978Z"
   },
   {
    "duration": 247,
    "start_time": "2023-10-03T14:43:46.022Z"
   },
   {
    "duration": 143,
    "start_time": "2023-10-03T14:47:42.002Z"
   },
   {
    "duration": 142,
    "start_time": "2023-10-03T14:48:04.194Z"
   },
   {
    "duration": 144,
    "start_time": "2023-10-03T14:48:40.006Z"
   },
   {
    "duration": 154,
    "start_time": "2023-10-03T14:48:52.729Z"
   },
   {
    "duration": 159,
    "start_time": "2023-10-03T14:49:00.317Z"
   },
   {
    "duration": 156,
    "start_time": "2023-10-03T14:51:06.999Z"
   },
   {
    "duration": 143,
    "start_time": "2023-10-03T14:51:15.716Z"
   },
   {
    "duration": 155,
    "start_time": "2023-10-03T14:51:27.162Z"
   },
   {
    "duration": 289,
    "start_time": "2023-10-03T14:51:35.652Z"
   },
   {
    "duration": 155,
    "start_time": "2023-10-03T14:54:22.312Z"
   },
   {
    "duration": 162,
    "start_time": "2023-10-03T14:54:35.745Z"
   },
   {
    "duration": 183,
    "start_time": "2023-10-03T14:54:51.978Z"
   },
   {
    "duration": 156,
    "start_time": "2023-10-03T14:54:58.093Z"
   },
   {
    "duration": 145,
    "start_time": "2023-10-03T14:55:08.537Z"
   },
   {
    "duration": 165,
    "start_time": "2023-10-03T14:55:18.319Z"
   },
   {
    "duration": 147,
    "start_time": "2023-10-03T14:55:27.499Z"
   },
   {
    "duration": 155,
    "start_time": "2023-10-03T14:55:41.976Z"
   },
   {
    "duration": 194,
    "start_time": "2023-10-03T14:55:45.918Z"
   },
   {
    "duration": 136,
    "start_time": "2023-10-03T14:55:54.235Z"
   },
   {
    "duration": 156,
    "start_time": "2023-10-03T14:59:27.484Z"
   },
   {
    "duration": 1398,
    "start_time": "2023-10-03T15:05:24.206Z"
   },
   {
    "duration": 1080,
    "start_time": "2023-10-05T17:35:25.497Z"
   },
   {
    "duration": 18,
    "start_time": "2023-10-05T17:35:26.580Z"
   },
   {
    "duration": 45,
    "start_time": "2023-10-05T17:35:26.600Z"
   },
   {
    "duration": 82,
    "start_time": "2023-10-05T17:35:26.659Z"
   },
   {
    "duration": 2385,
    "start_time": "2023-10-05T17:35:26.744Z"
   },
   {
    "duration": 15,
    "start_time": "2023-10-05T17:35:29.132Z"
   },
   {
    "duration": 14,
    "start_time": "2023-10-05T17:35:29.150Z"
   },
   {
    "duration": 23,
    "start_time": "2023-10-05T17:35:29.166Z"
   },
   {
    "duration": 12,
    "start_time": "2023-10-05T17:35:29.192Z"
   },
   {
    "duration": 67,
    "start_time": "2023-10-05T17:35:29.209Z"
   },
   {
    "duration": 8,
    "start_time": "2023-10-05T17:35:29.285Z"
   },
   {
    "duration": 14,
    "start_time": "2023-10-05T17:35:29.296Z"
   },
   {
    "duration": 32,
    "start_time": "2023-10-05T17:35:29.313Z"
   },
   {
    "duration": 19,
    "start_time": "2023-10-05T17:35:29.347Z"
   },
   {
    "duration": 218,
    "start_time": "2023-10-05T17:35:29.369Z"
   },
   {
    "duration": 1555,
    "start_time": "2023-10-05T17:35:29.588Z"
   },
   {
    "duration": 16,
    "start_time": "2023-10-05T17:35:31.160Z"
   },
   {
    "duration": 49,
    "start_time": "2023-10-05T17:35:31.178Z"
   },
   {
    "duration": 57,
    "start_time": "2023-10-05T17:35:31.229Z"
   },
   {
    "duration": 393,
    "start_time": "2023-10-05T17:35:31.288Z"
   },
   {
    "duration": 107,
    "start_time": "2023-10-05T17:35:31.683Z"
   },
   {
    "duration": 0,
    "start_time": "2023-10-05T17:35:31.792Z"
   },
   {
    "duration": 0,
    "start_time": "2023-10-05T17:35:31.794Z"
   },
   {
    "duration": 0,
    "start_time": "2023-10-05T17:35:31.796Z"
   },
   {
    "duration": 0,
    "start_time": "2023-10-05T17:35:31.797Z"
   },
   {
    "duration": 0,
    "start_time": "2023-10-05T17:35:31.799Z"
   },
   {
    "duration": 0,
    "start_time": "2023-10-05T17:35:31.800Z"
   },
   {
    "duration": 0,
    "start_time": "2023-10-05T17:35:31.802Z"
   },
   {
    "duration": 0,
    "start_time": "2023-10-05T17:35:31.804Z"
   },
   {
    "duration": 0,
    "start_time": "2023-10-05T17:35:31.805Z"
   },
   {
    "duration": 0,
    "start_time": "2023-10-05T17:35:31.806Z"
   },
   {
    "duration": 6,
    "start_time": "2023-10-05T17:41:03.196Z"
   },
   {
    "duration": 89,
    "start_time": "2023-10-05T17:41:03.203Z"
   },
   {
    "duration": 224,
    "start_time": "2023-10-05T17:41:03.294Z"
   },
   {
    "duration": 212,
    "start_time": "2023-10-05T17:41:03.520Z"
   },
   {
    "duration": 207,
    "start_time": "2023-10-05T17:41:03.736Z"
   },
   {
    "duration": 397,
    "start_time": "2023-10-05T17:41:03.945Z"
   },
   {
    "duration": 216,
    "start_time": "2023-10-05T17:41:04.344Z"
   },
   {
    "duration": 191,
    "start_time": "2023-10-05T17:41:04.565Z"
   },
   {
    "duration": 223,
    "start_time": "2023-10-05T17:41:04.759Z"
   },
   {
    "duration": 220,
    "start_time": "2023-10-05T17:41:04.985Z"
   },
   {
    "duration": 212,
    "start_time": "2023-10-05T17:41:32.602Z"
   },
   {
    "duration": 238,
    "start_time": "2023-10-05T17:41:39.363Z"
   },
   {
    "duration": 166,
    "start_time": "2023-10-05T17:41:47.464Z"
   },
   {
    "duration": 201,
    "start_time": "2023-10-05T17:41:52.400Z"
   },
   {
    "duration": 194,
    "start_time": "2023-10-05T17:42:09.835Z"
   },
   {
    "duration": 265,
    "start_time": "2023-10-05T17:56:48.072Z"
   },
   {
    "duration": 188,
    "start_time": "2023-10-05T17:57:39.764Z"
   },
   {
    "duration": 197,
    "start_time": "2023-10-05T17:58:02.026Z"
   },
   {
    "duration": 223,
    "start_time": "2023-10-05T17:58:06.324Z"
   },
   {
    "duration": 198,
    "start_time": "2023-10-05T17:58:22.562Z"
   },
   {
    "duration": 204,
    "start_time": "2023-10-05T17:59:31.277Z"
   },
   {
    "duration": 199,
    "start_time": "2023-10-05T18:01:57.649Z"
   },
   {
    "duration": 99,
    "start_time": "2023-10-05T18:14:18.319Z"
   },
   {
    "duration": 223,
    "start_time": "2023-10-05T18:14:23.016Z"
   },
   {
    "duration": 291,
    "start_time": "2023-10-05T18:14:31.725Z"
   },
   {
    "duration": 178,
    "start_time": "2023-10-05T18:14:39.370Z"
   },
   {
    "duration": 373,
    "start_time": "2023-10-05T18:14:46.779Z"
   },
   {
    "duration": 222,
    "start_time": "2023-10-05T18:14:58.030Z"
   },
   {
    "duration": 223,
    "start_time": "2023-10-05T18:15:09.219Z"
   },
   {
    "duration": 229,
    "start_time": "2023-10-05T18:15:17.296Z"
   },
   {
    "duration": 230,
    "start_time": "2023-10-05T18:15:25.510Z"
   },
   {
    "duration": 206,
    "start_time": "2023-10-05T18:15:41.622Z"
   },
   {
    "duration": 4,
    "start_time": "2023-10-05T18:24:17.792Z"
   },
   {
    "duration": 83,
    "start_time": "2023-10-05T18:25:27.785Z"
   },
   {
    "duration": 235,
    "start_time": "2023-10-05T18:25:34.628Z"
   },
   {
    "duration": 208,
    "start_time": "2023-10-05T18:25:51.202Z"
   },
   {
    "duration": 248,
    "start_time": "2023-10-05T18:25:58.174Z"
   },
   {
    "duration": 291,
    "start_time": "2023-10-05T18:26:09.076Z"
   },
   {
    "duration": 200,
    "start_time": "2023-10-05T18:28:06.397Z"
   },
   {
    "duration": 371,
    "start_time": "2023-10-05T18:28:14.679Z"
   },
   {
    "duration": 196,
    "start_time": "2023-10-05T18:28:21.987Z"
   },
   {
    "duration": 252,
    "start_time": "2023-10-05T18:30:20.620Z"
   },
   {
    "duration": 238,
    "start_time": "2023-10-05T18:30:32.178Z"
   },
   {
    "duration": 215,
    "start_time": "2023-10-05T18:30:48.171Z"
   },
   {
    "duration": 170,
    "start_time": "2023-10-05T18:31:05.184Z"
   },
   {
    "duration": 1785,
    "start_time": "2023-10-05T18:31:52.298Z"
   },
   {
    "duration": 2229,
    "start_time": "2023-10-05T18:31:58.984Z"
   },
   {
    "duration": 1611,
    "start_time": "2023-10-05T18:32:14.779Z"
   },
   {
    "duration": 176,
    "start_time": "2023-10-05T18:32:47.376Z"
   },
   {
    "duration": 202,
    "start_time": "2023-10-05T18:32:55.644Z"
   },
   {
    "duration": 194,
    "start_time": "2023-10-05T18:33:01.140Z"
   },
   {
    "duration": 222,
    "start_time": "2023-10-05T18:39:21.307Z"
   },
   {
    "duration": 11,
    "start_time": "2023-10-05T18:40:21.392Z"
   },
   {
    "duration": 20,
    "start_time": "2023-10-05T18:47:52.672Z"
   },
   {
    "duration": 1384,
    "start_time": "2023-10-06T19:31:45.791Z"
   },
   {
    "duration": 17,
    "start_time": "2023-10-06T19:31:47.178Z"
   },
   {
    "duration": 60,
    "start_time": "2023-10-06T19:31:47.197Z"
   },
   {
    "duration": 102,
    "start_time": "2023-10-06T19:31:47.259Z"
   },
   {
    "duration": 2328,
    "start_time": "2023-10-06T19:31:47.363Z"
   },
   {
    "duration": 15,
    "start_time": "2023-10-06T19:31:49.693Z"
   },
   {
    "duration": 112,
    "start_time": "2023-10-06T19:31:49.710Z"
   },
   {
    "duration": 24,
    "start_time": "2023-10-06T19:31:49.824Z"
   },
   {
    "duration": 24,
    "start_time": "2023-10-06T19:31:49.850Z"
   },
   {
    "duration": 71,
    "start_time": "2023-10-06T19:31:49.876Z"
   },
   {
    "duration": 7,
    "start_time": "2023-10-06T19:31:49.949Z"
   },
   {
    "duration": 15,
    "start_time": "2023-10-06T19:31:49.957Z"
   },
   {
    "duration": 64,
    "start_time": "2023-10-06T19:31:49.974Z"
   },
   {
    "duration": 11,
    "start_time": "2023-10-06T19:31:50.041Z"
   },
   {
    "duration": 202,
    "start_time": "2023-10-06T19:31:50.053Z"
   },
   {
    "duration": 1432,
    "start_time": "2023-10-06T19:31:50.257Z"
   },
   {
    "duration": 30,
    "start_time": "2023-10-06T19:31:51.691Z"
   },
   {
    "duration": 34,
    "start_time": "2023-10-06T19:31:51.724Z"
   },
   {
    "duration": 50,
    "start_time": "2023-10-06T19:31:51.759Z"
   },
   {
    "duration": 322,
    "start_time": "2023-10-06T19:31:51.818Z"
   },
   {
    "duration": 3,
    "start_time": "2023-10-06T19:31:52.142Z"
   },
   {
    "duration": 73,
    "start_time": "2023-10-06T19:31:52.147Z"
   },
   {
    "duration": 252,
    "start_time": "2023-10-06T19:31:52.225Z"
   },
   {
    "duration": 9,
    "start_time": "2023-10-06T19:31:52.479Z"
   },
   {
    "duration": 401,
    "start_time": "2023-10-06T19:31:52.489Z"
   },
   {
    "duration": 27,
    "start_time": "2023-10-06T19:31:52.892Z"
   },
   {
    "duration": 223,
    "start_time": "2023-10-06T19:31:52.922Z"
   },
   {
    "duration": 289,
    "start_time": "2023-10-06T19:31:53.147Z"
   },
   {
    "duration": 234,
    "start_time": "2023-10-06T19:31:53.438Z"
   },
   {
    "duration": 270,
    "start_time": "2023-10-06T19:31:53.674Z"
   },
   {
    "duration": 221,
    "start_time": "2023-10-06T19:31:53.946Z"
   },
   {
    "duration": 272,
    "start_time": "2023-10-06T19:31:54.168Z"
   },
   {
    "duration": 252,
    "start_time": "2023-10-06T19:31:54.442Z"
   },
   {
    "duration": 299,
    "start_time": "2023-10-06T19:31:54.697Z"
   },
   {
    "duration": 212,
    "start_time": "2023-10-06T19:31:55.017Z"
   },
   {
    "duration": 205,
    "start_time": "2023-10-06T19:31:55.231Z"
   },
   {
    "duration": 12,
    "start_time": "2023-10-06T19:33:30.558Z"
   },
   {
    "duration": 171,
    "start_time": "2023-10-06T19:34:27.735Z"
   },
   {
    "duration": 454,
    "start_time": "2023-10-06T19:34:40.126Z"
   },
   {
    "duration": 234,
    "start_time": "2023-10-06T19:43:03.825Z"
   },
   {
    "duration": 246,
    "start_time": "2023-10-06T19:43:10.622Z"
   },
   {
    "duration": 316,
    "start_time": "2023-10-06T19:43:19.344Z"
   },
   {
    "duration": 217,
    "start_time": "2023-10-06T19:43:26.468Z"
   },
   {
    "duration": 242,
    "start_time": "2023-10-06T19:43:32.326Z"
   },
   {
    "duration": 226,
    "start_time": "2023-10-06T19:47:14.192Z"
   },
   {
    "duration": 394,
    "start_time": "2023-10-06T19:47:24.196Z"
   },
   {
    "duration": 216,
    "start_time": "2023-10-06T19:47:45.231Z"
   },
   {
    "duration": 11,
    "start_time": "2023-10-06T19:48:45.031Z"
   },
   {
    "duration": 9,
    "start_time": "2023-10-06T19:53:43.032Z"
   },
   {
    "duration": 481,
    "start_time": "2023-10-06T19:58:16.402Z"
   },
   {
    "duration": 241,
    "start_time": "2023-10-06T19:59:12.050Z"
   },
   {
    "duration": 9,
    "start_time": "2023-10-06T20:00:57.671Z"
   },
   {
    "duration": 11,
    "start_time": "2023-10-06T20:03:01.796Z"
   },
   {
    "duration": 4,
    "start_time": "2023-10-06T20:03:50.470Z"
   },
   {
    "duration": 208,
    "start_time": "2023-10-06T20:19:42.457Z"
   },
   {
    "duration": 227,
    "start_time": "2023-10-06T20:19:47.800Z"
   },
   {
    "duration": 237,
    "start_time": "2023-10-06T20:27:21.096Z"
   },
   {
    "duration": 12,
    "start_time": "2023-10-06T20:41:25.978Z"
   },
   {
    "duration": 230,
    "start_time": "2023-10-06T20:41:53.137Z"
   },
   {
    "duration": 269,
    "start_time": "2023-10-06T20:42:00.281Z"
   },
   {
    "duration": 51,
    "start_time": "2023-10-07T13:41:59.147Z"
   },
   {
    "duration": 1066,
    "start_time": "2023-10-07T13:42:07.227Z"
   },
   {
    "duration": 12,
    "start_time": "2023-10-07T13:42:08.295Z"
   },
   {
    "duration": 44,
    "start_time": "2023-10-07T13:42:08.308Z"
   },
   {
    "duration": 63,
    "start_time": "2023-10-07T13:42:08.353Z"
   },
   {
    "duration": 1608,
    "start_time": "2023-10-07T13:42:08.417Z"
   },
   {
    "duration": 8,
    "start_time": "2023-10-07T13:42:10.027Z"
   },
   {
    "duration": 44,
    "start_time": "2023-10-07T13:42:10.037Z"
   },
   {
    "duration": 16,
    "start_time": "2023-10-07T13:42:10.082Z"
   },
   {
    "duration": 14,
    "start_time": "2023-10-07T13:42:10.099Z"
   },
   {
    "duration": 48,
    "start_time": "2023-10-07T13:42:10.114Z"
   },
   {
    "duration": 6,
    "start_time": "2023-10-07T13:42:10.172Z"
   },
   {
    "duration": 16,
    "start_time": "2023-10-07T13:42:10.179Z"
   },
   {
    "duration": 80,
    "start_time": "2023-10-07T13:42:10.196Z"
   },
   {
    "duration": 6,
    "start_time": "2023-10-07T13:42:10.279Z"
   },
   {
    "duration": 146,
    "start_time": "2023-10-07T13:42:10.287Z"
   },
   {
    "duration": 997,
    "start_time": "2023-10-07T13:42:10.435Z"
   },
   {
    "duration": 17,
    "start_time": "2023-10-07T13:42:11.434Z"
   },
   {
    "duration": 6,
    "start_time": "2023-10-07T13:42:11.462Z"
   },
   {
    "duration": 13,
    "start_time": "2023-10-07T13:42:11.477Z"
   },
   {
    "duration": 298,
    "start_time": "2023-10-07T13:42:11.491Z"
   },
   {
    "duration": 3,
    "start_time": "2023-10-07T13:42:11.790Z"
   },
   {
    "duration": 26,
    "start_time": "2023-10-07T13:42:11.794Z"
   },
   {
    "duration": 47,
    "start_time": "2023-10-07T13:42:11.821Z"
   },
   {
    "duration": 148,
    "start_time": "2023-10-07T13:42:11.872Z"
   },
   {
    "duration": 7,
    "start_time": "2023-10-07T13:42:12.021Z"
   },
   {
    "duration": 163,
    "start_time": "2023-10-07T13:42:12.029Z"
   },
   {
    "duration": 7,
    "start_time": "2023-10-07T13:42:12.193Z"
   },
   {
    "duration": 254,
    "start_time": "2023-10-07T13:42:12.201Z"
   },
   {
    "duration": 20,
    "start_time": "2023-10-07T13:42:12.456Z"
   },
   {
    "duration": 195,
    "start_time": "2023-10-07T13:42:12.480Z"
   },
   {
    "duration": 11,
    "start_time": "2023-10-07T13:42:12.679Z"
   },
   {
    "duration": 187,
    "start_time": "2023-10-07T13:42:12.692Z"
   },
   {
    "duration": 7,
    "start_time": "2023-10-07T13:42:12.881Z"
   },
   {
    "duration": 148,
    "start_time": "2023-10-07T13:42:12.889Z"
   },
   {
    "duration": 48,
    "start_time": "2023-10-07T13:42:13.038Z"
   },
   {
    "duration": 0,
    "start_time": "2023-10-07T13:42:13.087Z"
   },
   {
    "duration": 0,
    "start_time": "2023-10-07T13:42:13.088Z"
   },
   {
    "duration": 0,
    "start_time": "2023-10-07T13:42:13.089Z"
   },
   {
    "duration": 0,
    "start_time": "2023-10-07T13:42:13.090Z"
   },
   {
    "duration": 0,
    "start_time": "2023-10-07T13:42:13.091Z"
   },
   {
    "duration": 0,
    "start_time": "2023-10-07T13:42:13.092Z"
   },
   {
    "duration": 186,
    "start_time": "2023-10-07T13:42:51.794Z"
   },
   {
    "duration": 169,
    "start_time": "2023-10-07T13:44:10.712Z"
   },
   {
    "duration": 8,
    "start_time": "2023-10-07T13:48:35.188Z"
   },
   {
    "duration": 148,
    "start_time": "2023-10-07T13:49:38.280Z"
   },
   {
    "duration": 144,
    "start_time": "2023-10-07T13:49:46.789Z"
   },
   {
    "duration": 162,
    "start_time": "2023-10-07T13:49:51.756Z"
   },
   {
    "duration": 159,
    "start_time": "2023-10-07T13:50:03.305Z"
   },
   {
    "duration": 188,
    "start_time": "2023-10-07T13:50:30.078Z"
   },
   {
    "duration": 10,
    "start_time": "2023-10-07T13:57:01.471Z"
   },
   {
    "duration": 221,
    "start_time": "2023-10-07T13:57:36.555Z"
   },
   {
    "duration": 137,
    "start_time": "2023-10-07T14:05:38.200Z"
   },
   {
    "duration": 161,
    "start_time": "2023-10-07T14:05:48.517Z"
   },
   {
    "duration": 165,
    "start_time": "2023-10-07T14:05:53.283Z"
   },
   {
    "duration": 143,
    "start_time": "2023-10-07T14:06:03.790Z"
   },
   {
    "duration": 8,
    "start_time": "2023-10-07T14:07:38.680Z"
   },
   {
    "duration": 141,
    "start_time": "2023-10-07T14:08:04.679Z"
   },
   {
    "duration": 124,
    "start_time": "2023-10-07T14:08:56.183Z"
   },
   {
    "duration": 7,
    "start_time": "2023-10-07T14:19:29.620Z"
   },
   {
    "duration": 153,
    "start_time": "2023-10-07T14:20:10.575Z"
   },
   {
    "duration": 11,
    "start_time": "2023-10-07T14:21:47.971Z"
   },
   {
    "duration": 135,
    "start_time": "2023-10-07T14:21:58.663Z"
   },
   {
    "duration": 1260,
    "start_time": "2023-10-07T14:26:37.172Z"
   },
   {
    "duration": 7,
    "start_time": "2023-10-07T14:27:36.173Z"
   },
   {
    "duration": 141,
    "start_time": "2023-10-07T14:27:43.975Z"
   },
   {
    "duration": 82,
    "start_time": "2023-10-07T14:43:51.471Z"
   },
   {
    "duration": 31,
    "start_time": "2023-10-07T14:56:39.436Z"
   },
   {
    "duration": 28,
    "start_time": "2023-10-07T14:59:24.128Z"
   },
   {
    "duration": 4,
    "start_time": "2023-10-07T15:09:06.781Z"
   },
   {
    "duration": 1010,
    "start_time": "2023-10-07T15:10:47.378Z"
   },
   {
    "duration": 8,
    "start_time": "2023-10-07T15:23:06.920Z"
   },
   {
    "duration": 22,
    "start_time": "2023-10-07T15:43:43.432Z"
   },
   {
    "duration": 151,
    "start_time": "2023-10-07T15:45:59.417Z"
   },
   {
    "duration": 212,
    "start_time": "2023-10-07T15:46:09.661Z"
   },
   {
    "duration": 149,
    "start_time": "2023-10-07T15:46:16.022Z"
   },
   {
    "duration": 11,
    "start_time": "2023-10-07T15:48:41.133Z"
   },
   {
    "duration": 7,
    "start_time": "2023-10-07T15:50:05.886Z"
   },
   {
    "duration": 141,
    "start_time": "2023-10-07T15:50:13.884Z"
   },
   {
    "duration": 143,
    "start_time": "2023-10-07T15:50:22.691Z"
   },
   {
    "duration": 10,
    "start_time": "2023-10-07T15:50:43.257Z"
   },
   {
    "duration": 144,
    "start_time": "2023-10-07T15:50:48.163Z"
   },
   {
    "duration": 168,
    "start_time": "2023-10-07T15:50:54.398Z"
   },
   {
    "duration": 16,
    "start_time": "2023-10-07T15:52:04.643Z"
   },
   {
    "duration": 150,
    "start_time": "2023-10-07T15:52:06.569Z"
   },
   {
    "duration": 188,
    "start_time": "2023-10-07T15:52:22.503Z"
   },
   {
    "duration": 43,
    "start_time": "2023-10-07T15:52:35.060Z"
   },
   {
    "duration": 7,
    "start_time": "2023-10-07T15:52:43.507Z"
   },
   {
    "duration": 161,
    "start_time": "2023-10-07T15:52:47.119Z"
   },
   {
    "duration": 8,
    "start_time": "2023-10-07T15:53:23.816Z"
   },
   {
    "duration": 173,
    "start_time": "2023-10-07T15:53:25.485Z"
   },
   {
    "duration": 7,
    "start_time": "2023-10-07T15:53:39.606Z"
   },
   {
    "duration": 208,
    "start_time": "2023-10-07T15:53:41.116Z"
   },
   {
    "duration": 7,
    "start_time": "2023-10-07T15:53:59.215Z"
   },
   {
    "duration": 7,
    "start_time": "2023-10-07T15:54:02.205Z"
   },
   {
    "duration": 220,
    "start_time": "2023-10-07T15:54:03.444Z"
   },
   {
    "duration": 152,
    "start_time": "2023-10-07T15:54:08.724Z"
   },
   {
    "duration": 7,
    "start_time": "2023-10-07T15:54:31.159Z"
   },
   {
    "duration": 181,
    "start_time": "2023-10-07T15:54:32.537Z"
   },
   {
    "duration": 137,
    "start_time": "2023-10-07T15:56:02.622Z"
   },
   {
    "duration": 12,
    "start_time": "2023-10-07T15:56:09.140Z"
   },
   {
    "duration": 140,
    "start_time": "2023-10-07T15:56:11.626Z"
   },
   {
    "duration": 8,
    "start_time": "2023-10-07T15:58:24.704Z"
   },
   {
    "duration": 145,
    "start_time": "2023-10-07T15:58:26.810Z"
   },
   {
    "duration": 152,
    "start_time": "2023-10-07T15:58:32.407Z"
   },
   {
    "duration": 7,
    "start_time": "2023-10-07T15:58:51.998Z"
   },
   {
    "duration": 141,
    "start_time": "2023-10-07T15:58:56.826Z"
   },
   {
    "duration": 145,
    "start_time": "2023-10-07T15:59:19.989Z"
   },
   {
    "duration": 9,
    "start_time": "2023-10-07T16:07:22.513Z"
   },
   {
    "duration": 138,
    "start_time": "2023-10-07T16:07:23.819Z"
   },
   {
    "duration": 133,
    "start_time": "2023-10-07T16:07:31.395Z"
   },
   {
    "duration": 6,
    "start_time": "2023-10-07T16:07:50.037Z"
   },
   {
    "duration": 7,
    "start_time": "2023-10-07T16:08:03.225Z"
   },
   {
    "duration": 207,
    "start_time": "2023-10-07T16:08:04.700Z"
   },
   {
    "duration": 7,
    "start_time": "2023-10-07T16:08:09.874Z"
   },
   {
    "duration": 2,
    "start_time": "2023-10-07T16:08:24.691Z"
   },
   {
    "duration": 6,
    "start_time": "2023-10-07T16:08:26.845Z"
   },
   {
    "duration": 7,
    "start_time": "2023-10-07T16:08:31.015Z"
   },
   {
    "duration": 81,
    "start_time": "2023-10-07T16:08:38.551Z"
   },
   {
    "duration": 11,
    "start_time": "2023-10-07T16:08:38.633Z"
   },
   {
    "duration": 29,
    "start_time": "2023-10-07T16:08:38.645Z"
   },
   {
    "duration": 65,
    "start_time": "2023-10-07T16:08:38.675Z"
   },
   {
    "duration": 1426,
    "start_time": "2023-10-07T16:08:38.741Z"
   },
   {
    "duration": 7,
    "start_time": "2023-10-07T16:08:40.168Z"
   },
   {
    "duration": 8,
    "start_time": "2023-10-07T16:08:40.177Z"
   },
   {
    "duration": 2,
    "start_time": "2023-10-07T16:08:40.186Z"
   },
   {
    "duration": 32,
    "start_time": "2023-10-07T16:08:40.190Z"
   },
   {
    "duration": 17,
    "start_time": "2023-10-07T16:08:40.222Z"
   },
   {
    "duration": 6,
    "start_time": "2023-10-07T16:08:40.240Z"
   },
   {
    "duration": 21,
    "start_time": "2023-10-07T16:08:40.247Z"
   },
   {
    "duration": 7,
    "start_time": "2023-10-07T16:08:40.269Z"
   },
   {
    "duration": 130,
    "start_time": "2023-10-07T16:08:40.279Z"
   },
   {
    "duration": 854,
    "start_time": "2023-10-07T16:08:40.410Z"
   },
   {
    "duration": 7,
    "start_time": "2023-10-07T16:08:41.266Z"
   },
   {
    "duration": 71,
    "start_time": "2023-10-07T16:08:41.274Z"
   },
   {
    "duration": 30,
    "start_time": "2023-10-07T16:08:41.346Z"
   },
   {
    "duration": 313,
    "start_time": "2023-10-07T16:08:41.377Z"
   },
   {
    "duration": 3,
    "start_time": "2023-10-07T16:08:41.691Z"
   },
   {
    "duration": 25,
    "start_time": "2023-10-07T16:08:41.695Z"
   },
   {
    "duration": 18,
    "start_time": "2023-10-07T16:08:41.721Z"
   },
   {
    "duration": 8,
    "start_time": "2023-10-07T16:08:41.740Z"
   },
   {
    "duration": 133,
    "start_time": "2023-10-07T16:08:41.749Z"
   },
   {
    "duration": 6,
    "start_time": "2023-10-07T16:08:41.883Z"
   },
   {
    "duration": 10,
    "start_time": "2023-10-07T16:08:41.890Z"
   },
   {
    "duration": 143,
    "start_time": "2023-10-07T16:08:41.901Z"
   },
   {
    "duration": 6,
    "start_time": "2023-10-07T16:08:42.045Z"
   },
   {
    "duration": 7,
    "start_time": "2023-10-07T16:08:42.052Z"
   },
   {
    "duration": 157,
    "start_time": "2023-10-07T16:08:42.060Z"
   },
   {
    "duration": 7,
    "start_time": "2023-10-07T16:08:42.218Z"
   },
   {
    "duration": 15,
    "start_time": "2023-10-07T16:08:42.226Z"
   },
   {
    "duration": 148,
    "start_time": "2023-10-07T16:08:42.242Z"
   },
   {
    "duration": 6,
    "start_time": "2023-10-07T16:08:42.391Z"
   },
   {
    "duration": 6,
    "start_time": "2023-10-07T16:08:42.399Z"
   },
   {
    "duration": 181,
    "start_time": "2023-10-07T16:08:42.406Z"
   },
   {
    "duration": 9,
    "start_time": "2023-10-07T16:08:42.588Z"
   },
   {
    "duration": 2,
    "start_time": "2023-10-07T16:08:42.599Z"
   },
   {
    "duration": 161,
    "start_time": "2023-10-07T16:08:42.603Z"
   },
   {
    "duration": 6,
    "start_time": "2023-10-07T16:08:42.766Z"
   },
   {
    "duration": 6,
    "start_time": "2023-10-07T16:08:42.774Z"
   },
   {
    "duration": 156,
    "start_time": "2023-10-07T16:08:42.781Z"
   },
   {
    "duration": 6,
    "start_time": "2023-10-07T16:08:42.939Z"
   },
   {
    "duration": 153,
    "start_time": "2023-10-07T16:08:42.946Z"
   },
   {
    "duration": 7,
    "start_time": "2023-10-07T16:08:43.100Z"
   },
   {
    "duration": 202,
    "start_time": "2023-10-07T16:08:43.108Z"
   },
   {
    "duration": 7,
    "start_time": "2023-10-07T16:08:43.311Z"
   },
   {
    "duration": 161,
    "start_time": "2023-10-07T16:08:43.319Z"
   },
   {
    "duration": 6,
    "start_time": "2023-10-07T16:08:43.481Z"
   },
   {
    "duration": 146,
    "start_time": "2023-10-07T16:08:43.488Z"
   },
   {
    "duration": 6,
    "start_time": "2023-10-07T16:08:43.635Z"
   },
   {
    "duration": 139,
    "start_time": "2023-10-07T16:08:43.643Z"
   },
   {
    "duration": 128,
    "start_time": "2023-10-07T16:10:08.181Z"
   },
   {
    "duration": 7,
    "start_time": "2023-10-07T16:11:08.456Z"
   },
   {
    "duration": 136,
    "start_time": "2023-10-07T16:11:10.127Z"
   },
   {
    "duration": 6,
    "start_time": "2023-10-07T16:12:09.394Z"
   },
   {
    "duration": 134,
    "start_time": "2023-10-07T16:12:52.577Z"
   },
   {
    "duration": 8,
    "start_time": "2023-10-07T16:12:55.010Z"
   },
   {
    "duration": 7,
    "start_time": "2023-10-07T18:12:14.859Z"
   },
   {
    "duration": 136,
    "start_time": "2023-10-07T18:16:34.764Z"
   },
   {
    "duration": 146,
    "start_time": "2023-10-07T18:16:47.380Z"
   },
   {
    "duration": 135,
    "start_time": "2023-10-07T18:17:04.870Z"
   },
   {
    "duration": 141,
    "start_time": "2023-10-07T18:17:17.275Z"
   },
   {
    "duration": 253,
    "start_time": "2023-10-07T18:17:32.646Z"
   },
   {
    "duration": 125,
    "start_time": "2023-10-07T18:17:47.388Z"
   },
   {
    "duration": 141,
    "start_time": "2023-10-07T18:18:00.934Z"
   },
   {
    "duration": 193,
    "start_time": "2023-10-07T18:18:33.018Z"
   },
   {
    "duration": 60,
    "start_time": "2023-10-07T18:20:49.291Z"
   },
   {
    "duration": 5,
    "start_time": "2023-10-07T18:22:06.603Z"
   },
   {
    "duration": 6,
    "start_time": "2023-10-07T18:22:28.597Z"
   },
   {
    "duration": 7,
    "start_time": "2023-10-07T18:22:47.677Z"
   },
   {
    "duration": 190,
    "start_time": "2023-10-07T18:24:11.604Z"
   },
   {
    "duration": 182,
    "start_time": "2023-10-07T18:24:21.445Z"
   },
   {
    "duration": 4,
    "start_time": "2023-10-07T18:27:12.766Z"
   },
   {
    "duration": 9,
    "start_time": "2023-10-07T18:28:09.701Z"
   },
   {
    "duration": 141,
    "start_time": "2023-10-07T18:28:11.078Z"
   },
   {
    "duration": 7,
    "start_time": "2023-10-07T18:28:19.154Z"
   },
   {
    "duration": 134,
    "start_time": "2023-10-07T18:28:20.688Z"
   },
   {
    "duration": 228,
    "start_time": "2023-10-07T18:28:32.808Z"
   },
   {
    "duration": 7,
    "start_time": "2023-10-07T18:28:43.939Z"
   },
   {
    "duration": 141,
    "start_time": "2023-10-07T18:28:45.325Z"
   },
   {
    "duration": 154,
    "start_time": "2023-10-07T18:28:50.073Z"
   },
   {
    "duration": 7,
    "start_time": "2023-10-07T18:28:53.357Z"
   },
   {
    "duration": 142,
    "start_time": "2023-10-07T18:28:58.751Z"
   },
   {
    "duration": 131,
    "start_time": "2023-10-07T18:52:40.703Z"
   },
   {
    "duration": 70,
    "start_time": "2023-10-07T18:56:18.331Z"
   },
   {
    "duration": 72,
    "start_time": "2023-10-07T18:56:40.962Z"
   },
   {
    "duration": 123,
    "start_time": "2023-10-07T18:57:08.903Z"
   },
   {
    "duration": 106,
    "start_time": "2023-10-07T18:58:03.196Z"
   },
   {
    "duration": 124,
    "start_time": "2023-10-07T18:58:18.277Z"
   },
   {
    "duration": 136,
    "start_time": "2023-10-07T19:01:04.403Z"
   },
   {
    "duration": 122,
    "start_time": "2023-10-07T19:01:09.219Z"
   },
   {
    "duration": 128,
    "start_time": "2023-10-07T19:02:02.999Z"
   },
   {
    "duration": 4,
    "start_time": "2023-10-07T19:06:51.555Z"
   },
   {
    "duration": 3,
    "start_time": "2023-10-07T19:07:16.937Z"
   },
   {
    "duration": 139,
    "start_time": "2023-10-07T19:22:53.067Z"
   },
   {
    "duration": 4,
    "start_time": "2023-10-07T19:23:26.905Z"
   },
   {
    "duration": 139,
    "start_time": "2023-10-07T19:25:24.816Z"
   },
   {
    "duration": 3,
    "start_time": "2023-10-07T19:25:47.507Z"
   },
   {
    "duration": 5,
    "start_time": "2023-10-07T19:26:02.499Z"
   },
   {
    "duration": 3,
    "start_time": "2023-10-07T19:26:22.758Z"
   },
   {
    "duration": 224,
    "start_time": "2023-10-07T19:26:26.488Z"
   },
   {
    "duration": 185,
    "start_time": "2023-10-07T19:27:02.956Z"
   },
   {
    "duration": 139,
    "start_time": "2023-10-07T19:30:10.734Z"
   },
   {
    "duration": 125,
    "start_time": "2023-10-07T19:30:22.123Z"
   },
   {
    "duration": 3,
    "start_time": "2023-10-07T19:31:08.855Z"
   },
   {
    "duration": 113,
    "start_time": "2023-10-07T19:33:19.169Z"
   },
   {
    "duration": 4,
    "start_time": "2023-10-07T19:34:06.427Z"
   },
   {
    "duration": 115,
    "start_time": "2023-10-07T19:34:29.828Z"
   },
   {
    "duration": 3,
    "start_time": "2023-10-07T19:34:33.867Z"
   },
   {
    "duration": 1165,
    "start_time": "2023-10-07T19:34:52.190Z"
   },
   {
    "duration": 345,
    "start_time": "2023-10-07T19:35:05.564Z"
   },
   {
    "duration": 123,
    "start_time": "2023-10-07T19:36:30.915Z"
   },
   {
    "duration": 126,
    "start_time": "2023-10-07T19:37:42.243Z"
   },
   {
    "duration": 4,
    "start_time": "2023-10-07T19:38:29.657Z"
   },
   {
    "duration": 119,
    "start_time": "2023-10-07T19:39:11.503Z"
   },
   {
    "duration": 109,
    "start_time": "2023-10-07T19:39:34.519Z"
   },
   {
    "duration": 114,
    "start_time": "2023-10-07T19:39:39.181Z"
   },
   {
    "duration": 116,
    "start_time": "2023-10-07T19:41:08.557Z"
   },
   {
    "duration": 108,
    "start_time": "2023-10-07T19:44:49.219Z"
   },
   {
    "duration": 132,
    "start_time": "2023-10-07T19:45:01.284Z"
   },
   {
    "duration": 130,
    "start_time": "2023-10-07T19:45:25.622Z"
   },
   {
    "duration": 132,
    "start_time": "2023-10-07T19:45:51.623Z"
   },
   {
    "duration": 148,
    "start_time": "2023-10-07T19:46:04.939Z"
   },
   {
    "duration": 4,
    "start_time": "2023-10-07T19:46:10.120Z"
   },
   {
    "duration": 153,
    "start_time": "2023-10-07T19:46:25.675Z"
   },
   {
    "duration": 4,
    "start_time": "2023-10-07T19:46:28.742Z"
   },
   {
    "duration": 240,
    "start_time": "2023-10-07T19:46:43.787Z"
   },
   {
    "duration": 4,
    "start_time": "2023-10-07T19:46:54.085Z"
   },
   {
    "duration": 107,
    "start_time": "2023-10-07T19:48:55.213Z"
   },
   {
    "duration": 11,
    "start_time": "2023-10-07T19:49:58.411Z"
   },
   {
    "duration": 139,
    "start_time": "2023-10-07T19:50:07.767Z"
   },
   {
    "duration": 9,
    "start_time": "2023-10-07T19:52:46.371Z"
   },
   {
    "duration": 131,
    "start_time": "2023-10-07T19:52:48.509Z"
   },
   {
    "duration": 125,
    "start_time": "2023-10-07T19:53:07.098Z"
   },
   {
    "duration": 132,
    "start_time": "2023-10-07T19:53:21.938Z"
   },
   {
    "duration": 138,
    "start_time": "2023-10-07T19:54:22.965Z"
   },
   {
    "duration": 118,
    "start_time": "2023-10-07T19:54:36.600Z"
   },
   {
    "duration": 140,
    "start_time": "2023-10-07T19:54:45.068Z"
   },
   {
    "duration": 125,
    "start_time": "2023-10-07T19:54:56.466Z"
   },
   {
    "duration": 148,
    "start_time": "2023-10-07T19:55:04.770Z"
   },
   {
    "duration": 202,
    "start_time": "2023-10-07T19:55:15.142Z"
   },
   {
    "duration": 171,
    "start_time": "2023-10-07T19:55:21.613Z"
   },
   {
    "duration": 9,
    "start_time": "2023-10-07T20:09:50.816Z"
   },
   {
    "duration": 135,
    "start_time": "2023-10-07T20:14:44.008Z"
   },
   {
    "duration": 117,
    "start_time": "2023-10-07T20:15:35.750Z"
   },
   {
    "duration": 126,
    "start_time": "2023-10-07T20:15:44.433Z"
   },
   {
    "duration": 122,
    "start_time": "2023-10-07T20:15:58.714Z"
   },
   {
    "duration": 200,
    "start_time": "2023-10-07T20:16:13.283Z"
   },
   {
    "duration": 125,
    "start_time": "2023-10-07T20:16:48.386Z"
   },
   {
    "duration": 61,
    "start_time": "2023-10-12T14:01:37.745Z"
   },
   {
    "duration": 1226,
    "start_time": "2023-10-12T14:01:48.899Z"
   },
   {
    "duration": 24,
    "start_time": "2023-10-12T14:01:50.131Z"
   },
   {
    "duration": 64,
    "start_time": "2023-10-12T14:01:50.157Z"
   },
   {
    "duration": 107,
    "start_time": "2023-10-12T14:01:50.223Z"
   },
   {
    "duration": 2296,
    "start_time": "2023-10-12T14:01:50.333Z"
   },
   {
    "duration": 15,
    "start_time": "2023-10-12T14:01:52.632Z"
   },
   {
    "duration": 20,
    "start_time": "2023-10-12T14:01:52.649Z"
   },
   {
    "duration": 12,
    "start_time": "2023-10-12T14:01:52.671Z"
   },
   {
    "duration": 42,
    "start_time": "2023-10-12T14:01:52.685Z"
   },
   {
    "duration": 7,
    "start_time": "2023-10-12T14:01:52.729Z"
   },
   {
    "duration": 9,
    "start_time": "2023-10-12T14:01:52.738Z"
   },
   {
    "duration": 42,
    "start_time": "2023-10-12T14:01:52.749Z"
   },
   {
    "duration": 8,
    "start_time": "2023-10-12T14:01:52.793Z"
   },
   {
    "duration": 198,
    "start_time": "2023-10-12T14:01:52.804Z"
   },
   {
    "duration": 1505,
    "start_time": "2023-10-12T14:01:53.004Z"
   },
   {
    "duration": 13,
    "start_time": "2023-10-12T14:01:54.511Z"
   },
   {
    "duration": 5,
    "start_time": "2023-10-12T14:01:54.527Z"
   },
   {
    "duration": 25,
    "start_time": "2023-10-12T14:01:54.534Z"
   },
   {
    "duration": 333,
    "start_time": "2023-10-12T14:01:54.561Z"
   },
   {
    "duration": 5,
    "start_time": "2023-10-12T14:01:54.897Z"
   },
   {
    "duration": 57,
    "start_time": "2023-10-12T14:01:54.904Z"
   },
   {
    "duration": 19,
    "start_time": "2023-10-12T14:01:54.962Z"
   },
   {
    "duration": 52,
    "start_time": "2023-10-12T14:01:54.983Z"
   },
   {
    "duration": 226,
    "start_time": "2023-10-12T14:01:55.037Z"
   },
   {
    "duration": 20,
    "start_time": "2023-10-12T14:01:55.266Z"
   },
   {
    "duration": 12,
    "start_time": "2023-10-12T14:01:55.288Z"
   },
   {
    "duration": 231,
    "start_time": "2023-10-12T14:01:55.302Z"
   },
   {
    "duration": 10,
    "start_time": "2023-10-12T14:01:55.535Z"
   },
   {
    "duration": 15,
    "start_time": "2023-10-12T14:01:55.546Z"
   },
   {
    "duration": 246,
    "start_time": "2023-10-12T14:01:55.564Z"
   },
   {
    "duration": 12,
    "start_time": "2023-10-12T14:01:55.813Z"
   },
   {
    "duration": 14,
    "start_time": "2023-10-12T14:01:55.827Z"
   },
   {
    "duration": 318,
    "start_time": "2023-10-12T14:01:55.843Z"
   },
   {
    "duration": 20,
    "start_time": "2023-10-12T14:01:56.163Z"
   },
   {
    "duration": 19,
    "start_time": "2023-10-12T14:01:56.185Z"
   },
   {
    "duration": 250,
    "start_time": "2023-10-12T14:01:56.207Z"
   },
   {
    "duration": 11,
    "start_time": "2023-10-12T14:01:56.459Z"
   },
   {
    "duration": 133,
    "start_time": "2023-10-12T14:01:56.472Z"
   },
   {
    "duration": 0,
    "start_time": "2023-10-12T14:01:56.608Z"
   },
   {
    "duration": 0,
    "start_time": "2023-10-12T14:01:56.611Z"
   },
   {
    "duration": 0,
    "start_time": "2023-10-12T14:01:56.613Z"
   },
   {
    "duration": 0,
    "start_time": "2023-10-12T14:01:56.614Z"
   },
   {
    "duration": 0,
    "start_time": "2023-10-12T14:01:56.615Z"
   },
   {
    "duration": 0,
    "start_time": "2023-10-12T14:01:56.617Z"
   },
   {
    "duration": 0,
    "start_time": "2023-10-12T14:01:56.618Z"
   },
   {
    "duration": 0,
    "start_time": "2023-10-12T14:01:56.620Z"
   },
   {
    "duration": 0,
    "start_time": "2023-10-12T14:01:56.621Z"
   },
   {
    "duration": 0,
    "start_time": "2023-10-12T14:01:56.623Z"
   },
   {
    "duration": 0,
    "start_time": "2023-10-12T14:01:56.624Z"
   },
   {
    "duration": 0,
    "start_time": "2023-10-12T14:01:56.626Z"
   },
   {
    "duration": 0,
    "start_time": "2023-10-12T14:01:56.627Z"
   },
   {
    "duration": 0,
    "start_time": "2023-10-12T14:01:56.629Z"
   },
   {
    "duration": 0,
    "start_time": "2023-10-12T14:01:56.630Z"
   },
   {
    "duration": 0,
    "start_time": "2023-10-12T14:01:56.632Z"
   },
   {
    "duration": 0,
    "start_time": "2023-10-12T14:01:56.633Z"
   },
   {
    "duration": 0,
    "start_time": "2023-10-12T14:01:56.635Z"
   },
   {
    "duration": 0,
    "start_time": "2023-10-12T14:01:56.636Z"
   },
   {
    "duration": 0,
    "start_time": "2023-10-12T14:01:56.638Z"
   },
   {
    "duration": 0,
    "start_time": "2023-10-12T14:01:56.640Z"
   },
   {
    "duration": 0,
    "start_time": "2023-10-12T14:01:56.641Z"
   },
   {
    "duration": 0,
    "start_time": "2023-10-12T14:01:56.645Z"
   },
   {
    "duration": 0,
    "start_time": "2023-10-12T14:01:56.647Z"
   },
   {
    "duration": 0,
    "start_time": "2023-10-12T14:01:56.647Z"
   },
   {
    "duration": 0,
    "start_time": "2023-10-12T14:01:56.649Z"
   },
   {
    "duration": 0,
    "start_time": "2023-10-12T14:01:56.650Z"
   },
   {
    "duration": 0,
    "start_time": "2023-10-12T14:01:56.682Z"
   },
   {
    "duration": 0,
    "start_time": "2023-10-12T14:01:56.683Z"
   },
   {
    "duration": 0,
    "start_time": "2023-10-12T14:01:56.687Z"
   },
   {
    "duration": 0,
    "start_time": "2023-10-12T14:01:56.688Z"
   },
   {
    "duration": 0,
    "start_time": "2023-10-12T14:01:56.690Z"
   },
   {
    "duration": 0,
    "start_time": "2023-10-12T14:01:56.691Z"
   },
   {
    "duration": 0,
    "start_time": "2023-10-12T14:01:56.693Z"
   },
   {
    "duration": 12,
    "start_time": "2023-10-12T14:02:56.582Z"
   },
   {
    "duration": 22,
    "start_time": "2023-10-12T14:02:56.597Z"
   },
   {
    "duration": 281,
    "start_time": "2023-10-12T14:02:56.621Z"
   },
   {
    "duration": 10,
    "start_time": "2023-10-12T14:02:56.904Z"
   },
   {
    "duration": 217,
    "start_time": "2023-10-12T14:02:56.917Z"
   },
   {
    "duration": 9,
    "start_time": "2023-10-12T14:02:57.136Z"
   },
   {
    "duration": 263,
    "start_time": "2023-10-12T14:02:57.147Z"
   },
   {
    "duration": 12,
    "start_time": "2023-10-12T14:02:57.412Z"
   },
   {
    "duration": 182,
    "start_time": "2023-10-12T14:02:57.426Z"
   },
   {
    "duration": 12,
    "start_time": "2023-10-12T14:02:57.610Z"
   },
   {
    "duration": 222,
    "start_time": "2023-10-12T14:02:57.625Z"
   },
   {
    "duration": 10,
    "start_time": "2023-10-12T14:02:57.849Z"
   },
   {
    "duration": 195,
    "start_time": "2023-10-12T14:02:57.861Z"
   },
   {
    "duration": 21,
    "start_time": "2023-10-12T14:02:58.060Z"
   },
   {
    "duration": 201,
    "start_time": "2023-10-12T14:02:58.083Z"
   },
   {
    "duration": 85,
    "start_time": "2023-10-12T14:02:58.285Z"
   },
   {
    "duration": 9,
    "start_time": "2023-10-12T14:02:58.381Z"
   },
   {
    "duration": 9,
    "start_time": "2023-10-12T14:02:58.392Z"
   },
   {
    "duration": 383,
    "start_time": "2023-10-12T14:02:58.403Z"
   },
   {
    "duration": 173,
    "start_time": "2023-10-12T14:02:58.788Z"
   },
   {
    "duration": 6,
    "start_time": "2023-10-12T14:02:58.963Z"
   },
   {
    "duration": 185,
    "start_time": "2023-10-12T14:02:58.981Z"
   },
   {
    "duration": 18,
    "start_time": "2023-10-12T14:02:59.167Z"
   },
   {
    "duration": 202,
    "start_time": "2023-10-12T14:02:59.187Z"
   },
   {
    "duration": 6,
    "start_time": "2023-10-12T14:02:59.390Z"
   },
   {
    "duration": 199,
    "start_time": "2023-10-12T14:02:59.398Z"
   },
   {
    "duration": 176,
    "start_time": "2023-10-12T14:02:59.599Z"
   },
   {
    "duration": 186,
    "start_time": "2023-10-12T14:02:59.777Z"
   },
   {
    "duration": 96,
    "start_time": "2023-10-12T14:02:59.965Z"
   },
   {
    "duration": 0,
    "start_time": "2023-10-12T14:03:00.063Z"
   },
   {
    "duration": 0,
    "start_time": "2023-10-12T14:03:00.065Z"
   },
   {
    "duration": 0,
    "start_time": "2023-10-12T14:03:00.066Z"
   },
   {
    "duration": 0,
    "start_time": "2023-10-12T14:03:00.067Z"
   },
   {
    "duration": 0,
    "start_time": "2023-10-12T14:03:00.069Z"
   },
   {
    "duration": 158,
    "start_time": "2023-10-12T14:03:35.487Z"
   },
   {
    "duration": 108,
    "start_time": "2023-10-12T14:03:35.646Z"
   },
   {
    "duration": 0,
    "start_time": "2023-10-12T14:03:35.755Z"
   },
   {
    "duration": 0,
    "start_time": "2023-10-12T14:03:35.756Z"
   },
   {
    "duration": 0,
    "start_time": "2023-10-12T14:03:35.757Z"
   },
   {
    "duration": 163,
    "start_time": "2023-10-12T14:03:51.747Z"
   },
   {
    "duration": 96,
    "start_time": "2023-10-12T14:03:51.912Z"
   },
   {
    "duration": 0,
    "start_time": "2023-10-12T14:03:52.010Z"
   },
   {
    "duration": 39,
    "start_time": "2023-10-12T14:04:19.905Z"
   },
   {
    "duration": 16,
    "start_time": "2023-10-12T14:04:29.066Z"
   },
   {
    "duration": 8,
    "start_time": "2023-10-12T14:06:33.764Z"
   },
   {
    "duration": 109,
    "start_time": "2023-10-12T14:32:50.587Z"
   },
   {
    "duration": 8,
    "start_time": "2023-10-12T14:33:14.901Z"
   },
   {
    "duration": 7,
    "start_time": "2023-10-12T14:33:52.524Z"
   },
   {
    "duration": 8,
    "start_time": "2023-10-12T14:35:54.304Z"
   },
   {
    "duration": 10,
    "start_time": "2023-10-12T14:36:07.613Z"
   },
   {
    "duration": 14,
    "start_time": "2023-10-12T14:36:46.357Z"
   },
   {
    "duration": 12,
    "start_time": "2023-10-12T14:36:58.916Z"
   },
   {
    "duration": 20,
    "start_time": "2023-10-12T14:42:10.657Z"
   },
   {
    "duration": 29,
    "start_time": "2023-10-12T14:54:11.542Z"
   },
   {
    "duration": 6,
    "start_time": "2023-10-12T14:54:42.125Z"
   },
   {
    "duration": 6,
    "start_time": "2023-10-12T14:54:51.506Z"
   },
   {
    "duration": 14,
    "start_time": "2023-10-12T14:54:54.546Z"
   },
   {
    "duration": 21,
    "start_time": "2023-10-12T14:55:24.846Z"
   },
   {
    "duration": 30,
    "start_time": "2023-10-12T14:57:03.495Z"
   },
   {
    "duration": 6,
    "start_time": "2023-10-12T14:57:11.570Z"
   },
   {
    "duration": 20,
    "start_time": "2023-10-12T14:57:32.130Z"
   },
   {
    "duration": 19,
    "start_time": "2023-10-12T15:02:22.394Z"
   },
   {
    "duration": 215,
    "start_time": "2023-10-12T15:03:58.120Z"
   },
   {
    "duration": 30,
    "start_time": "2023-10-12T15:04:50.341Z"
   },
   {
    "duration": 4,
    "start_time": "2023-10-12T15:05:28.494Z"
   },
   {
    "duration": 27,
    "start_time": "2023-10-12T15:26:45.710Z"
   },
   {
    "duration": 28,
    "start_time": "2023-10-12T15:27:56.437Z"
   },
   {
    "duration": 27,
    "start_time": "2023-10-12T15:28:38.678Z"
   },
   {
    "duration": 26,
    "start_time": "2023-10-12T15:28:58.023Z"
   },
   {
    "duration": 6,
    "start_time": "2023-10-12T15:36:52.619Z"
   },
   {
    "duration": 25,
    "start_time": "2023-10-12T15:37:55.815Z"
   },
   {
    "duration": 31,
    "start_time": "2023-10-12T15:38:15.667Z"
   },
   {
    "duration": 29,
    "start_time": "2023-10-12T15:38:33.169Z"
   },
   {
    "duration": 31,
    "start_time": "2023-10-12T15:39:15.530Z"
   },
   {
    "duration": 5,
    "start_time": "2023-10-12T15:39:20.015Z"
   },
   {
    "duration": 10,
    "start_time": "2023-10-12T15:43:06.580Z"
   },
   {
    "duration": 3,
    "start_time": "2023-10-12T15:44:36.713Z"
   },
   {
    "duration": 3,
    "start_time": "2023-10-12T15:44:41.954Z"
   },
   {
    "duration": 11,
    "start_time": "2023-10-12T15:46:05.254Z"
   },
   {
    "duration": 4,
    "start_time": "2023-10-12T15:46:46.283Z"
   },
   {
    "duration": 4,
    "start_time": "2023-10-12T15:46:47.882Z"
   },
   {
    "duration": 7,
    "start_time": "2023-10-12T15:47:54.049Z"
   },
   {
    "duration": 7,
    "start_time": "2023-10-12T15:47:57.049Z"
   },
   {
    "duration": 26,
    "start_time": "2023-10-12T15:50:35.719Z"
   },
   {
    "duration": 25,
    "start_time": "2023-10-12T15:50:44.252Z"
   },
   {
    "duration": 105,
    "start_time": "2023-10-12T15:59:20.317Z"
   },
   {
    "duration": 5,
    "start_time": "2023-10-12T16:06:26.717Z"
   },
   {
    "duration": 16,
    "start_time": "2023-10-12T16:13:09.221Z"
   },
   {
    "duration": 31,
    "start_time": "2023-10-12T16:13:56.063Z"
   },
   {
    "duration": 10,
    "start_time": "2023-10-12T16:14:20.181Z"
   },
   {
    "duration": 20,
    "start_time": "2023-10-12T16:14:23.731Z"
   },
   {
    "duration": 11,
    "start_time": "2023-10-12T16:15:34.696Z"
   },
   {
    "duration": 81,
    "start_time": "2023-10-12T16:16:14.017Z"
   },
   {
    "duration": 16,
    "start_time": "2023-10-12T16:21:55.777Z"
   },
   {
    "duration": 175,
    "start_time": "2023-10-12T16:21:57.457Z"
   },
   {
    "duration": 161,
    "start_time": "2023-10-12T16:22:11.508Z"
   },
   {
    "duration": 10,
    "start_time": "2023-10-12T16:22:18.387Z"
   },
   {
    "duration": 5,
    "start_time": "2023-10-12T16:22:42.714Z"
   },
   {
    "duration": 22,
    "start_time": "2023-10-12T16:22:47.000Z"
   },
   {
    "duration": 174,
    "start_time": "2023-10-12T16:25:10.194Z"
   },
   {
    "duration": 96,
    "start_time": "2023-10-12T16:26:35.644Z"
   },
   {
    "duration": 114,
    "start_time": "2023-10-12T16:28:28.780Z"
   },
   {
    "duration": 80,
    "start_time": "2023-10-12T16:29:00.799Z"
   },
   {
    "duration": 20,
    "start_time": "2023-10-12T16:30:01.821Z"
   },
   {
    "duration": 256,
    "start_time": "2023-10-12T16:30:39.932Z"
   },
   {
    "duration": 158,
    "start_time": "2023-10-12T16:31:41.170Z"
   },
   {
    "duration": 1171,
    "start_time": "2023-10-17T16:49:51.074Z"
   },
   {
    "duration": 17,
    "start_time": "2023-10-17T16:49:52.247Z"
   },
   {
    "duration": 45,
    "start_time": "2023-10-17T16:49:52.265Z"
   },
   {
    "duration": 73,
    "start_time": "2023-10-17T16:49:52.312Z"
   },
   {
    "duration": 2075,
    "start_time": "2023-10-17T16:49:52.387Z"
   },
   {
    "duration": 10,
    "start_time": "2023-10-17T16:49:54.464Z"
   },
   {
    "duration": 32,
    "start_time": "2023-10-17T16:49:54.475Z"
   },
   {
    "duration": 10,
    "start_time": "2023-10-17T16:49:54.508Z"
   },
   {
    "duration": 51,
    "start_time": "2023-10-17T16:49:54.520Z"
   },
   {
    "duration": 8,
    "start_time": "2023-10-17T16:49:54.576Z"
   },
   {
    "duration": 71,
    "start_time": "2023-10-17T16:49:54.586Z"
   },
   {
    "duration": 38,
    "start_time": "2023-10-17T16:49:54.659Z"
   },
   {
    "duration": 8,
    "start_time": "2023-10-17T16:49:54.699Z"
   },
   {
    "duration": 175,
    "start_time": "2023-10-17T16:49:54.711Z"
   },
   {
    "duration": 1227,
    "start_time": "2023-10-17T16:49:54.887Z"
   },
   {
    "duration": 8,
    "start_time": "2023-10-17T16:49:56.116Z"
   },
   {
    "duration": 29,
    "start_time": "2023-10-17T16:49:56.126Z"
   },
   {
    "duration": 23,
    "start_time": "2023-10-17T16:49:56.157Z"
   },
   {
    "duration": 276,
    "start_time": "2023-10-17T16:49:56.182Z"
   },
   {
    "duration": 4,
    "start_time": "2023-10-17T16:49:56.460Z"
   },
   {
    "duration": 43,
    "start_time": "2023-10-17T16:49:56.465Z"
   },
   {
    "duration": 22,
    "start_time": "2023-10-17T16:49:56.509Z"
   },
   {
    "duration": 21,
    "start_time": "2023-10-17T16:49:56.533Z"
   },
   {
    "duration": 173,
    "start_time": "2023-10-17T16:49:56.555Z"
   },
   {
    "duration": 8,
    "start_time": "2023-10-17T16:49:56.730Z"
   },
   {
    "duration": 32,
    "start_time": "2023-10-17T16:49:56.740Z"
   },
   {
    "duration": 203,
    "start_time": "2023-10-17T16:49:56.774Z"
   },
   {
    "duration": 9,
    "start_time": "2023-10-17T16:49:56.978Z"
   },
   {
    "duration": 34,
    "start_time": "2023-10-17T16:49:56.988Z"
   },
   {
    "duration": 200,
    "start_time": "2023-10-17T16:49:57.023Z"
   },
   {
    "duration": 9,
    "start_time": "2023-10-17T16:49:57.224Z"
   },
   {
    "duration": 35,
    "start_time": "2023-10-17T16:49:57.234Z"
   },
   {
    "duration": 252,
    "start_time": "2023-10-17T16:49:57.271Z"
   },
   {
    "duration": 8,
    "start_time": "2023-10-17T16:49:57.524Z"
   },
   {
    "duration": 14,
    "start_time": "2023-10-17T16:49:57.534Z"
   },
   {
    "duration": 199,
    "start_time": "2023-10-17T16:49:57.550Z"
   },
   {
    "duration": 10,
    "start_time": "2023-10-17T16:49:57.750Z"
   },
   {
    "duration": 10,
    "start_time": "2023-10-17T16:49:57.761Z"
   },
   {
    "duration": 29,
    "start_time": "2023-10-17T16:49:57.772Z"
   },
   {
    "duration": 195,
    "start_time": "2023-10-17T16:49:57.803Z"
   },
   {
    "duration": 8,
    "start_time": "2023-10-17T16:49:58.002Z"
   },
   {
    "duration": 207,
    "start_time": "2023-10-17T16:49:58.011Z"
   },
   {
    "duration": 9,
    "start_time": "2023-10-17T16:49:58.220Z"
   },
   {
    "duration": 201,
    "start_time": "2023-10-17T16:49:58.230Z"
   },
   {
    "duration": 9,
    "start_time": "2023-10-17T16:49:58.433Z"
   },
   {
    "duration": 13,
    "start_time": "2023-10-17T16:49:58.443Z"
   },
   {
    "duration": 183,
    "start_time": "2023-10-17T16:49:58.457Z"
   },
   {
    "duration": 11,
    "start_time": "2023-10-17T16:49:58.642Z"
   },
   {
    "duration": 193,
    "start_time": "2023-10-17T16:49:58.655Z"
   },
   {
    "duration": 9,
    "start_time": "2023-10-17T16:49:58.850Z"
   },
   {
    "duration": 200,
    "start_time": "2023-10-17T16:49:58.861Z"
   },
   {
    "duration": 9,
    "start_time": "2023-10-17T16:49:59.062Z"
   },
   {
    "duration": 205,
    "start_time": "2023-10-17T16:49:59.072Z"
   },
   {
    "duration": 85,
    "start_time": "2023-10-17T16:49:59.279Z"
   },
   {
    "duration": 8,
    "start_time": "2023-10-17T16:49:59.366Z"
   },
   {
    "duration": 17,
    "start_time": "2023-10-17T16:49:59.376Z"
   },
   {
    "duration": 346,
    "start_time": "2023-10-17T16:49:59.400Z"
   },
   {
    "duration": 162,
    "start_time": "2023-10-17T16:49:59.748Z"
   },
   {
    "duration": 4,
    "start_time": "2023-10-17T16:49:59.912Z"
   },
   {
    "duration": 188,
    "start_time": "2023-10-17T16:49:59.918Z"
   },
   {
    "duration": 5,
    "start_time": "2023-10-17T16:50:00.107Z"
   },
   {
    "duration": 258,
    "start_time": "2023-10-17T16:50:00.113Z"
   },
   {
    "duration": 5,
    "start_time": "2023-10-17T16:50:00.373Z"
   },
   {
    "duration": 260,
    "start_time": "2023-10-17T16:50:00.380Z"
   },
   {
    "duration": 181,
    "start_time": "2023-10-17T16:50:00.641Z"
   },
   {
    "duration": 180,
    "start_time": "2023-10-17T16:50:00.823Z"
   },
   {
    "duration": 180,
    "start_time": "2023-10-17T16:50:01.005Z"
   },
   {
    "duration": 166,
    "start_time": "2023-10-17T16:50:01.186Z"
   },
   {
    "duration": 4,
    "start_time": "2023-10-17T16:50:01.354Z"
   },
   {
    "duration": 345,
    "start_time": "2023-10-17T16:50:01.360Z"
   },
   {
    "duration": 140,
    "start_time": "2023-10-17T16:50:01.706Z"
   },
   {
    "duration": 57,
    "start_time": "2023-10-17T16:50:01.848Z"
   },
   {
    "duration": 31,
    "start_time": "2023-10-17T16:50:01.907Z"
   },
   {
    "duration": 33,
    "start_time": "2023-10-17T16:50:01.940Z"
   },
   {
    "duration": 76,
    "start_time": "2023-10-17T16:50:01.975Z"
   },
   {
    "duration": 186,
    "start_time": "2023-10-17T16:50:02.053Z"
   },
   {
    "duration": 774,
    "start_time": "2023-10-18T12:14:58.714Z"
   },
   {
    "duration": 13,
    "start_time": "2023-10-18T12:14:59.490Z"
   },
   {
    "duration": 43,
    "start_time": "2023-10-18T12:14:59.504Z"
   },
   {
    "duration": 62,
    "start_time": "2023-10-18T12:14:59.549Z"
   },
   {
    "duration": 1745,
    "start_time": "2023-10-18T12:14:59.612Z"
   },
   {
    "duration": 11,
    "start_time": "2023-10-18T12:15:01.359Z"
   },
   {
    "duration": 90,
    "start_time": "2023-10-18T12:15:01.371Z"
   },
   {
    "duration": 46,
    "start_time": "2023-10-18T12:15:01.463Z"
   },
   {
    "duration": 86,
    "start_time": "2023-10-18T12:15:01.511Z"
   },
   {
    "duration": 15,
    "start_time": "2023-10-18T12:15:01.601Z"
   },
   {
    "duration": 36,
    "start_time": "2023-10-18T12:15:01.618Z"
   },
   {
    "duration": 59,
    "start_time": "2023-10-18T12:15:01.655Z"
   },
   {
    "duration": 32,
    "start_time": "2023-10-18T12:15:01.715Z"
   },
   {
    "duration": 195,
    "start_time": "2023-10-18T12:15:01.748Z"
   },
   {
    "duration": 1072,
    "start_time": "2023-10-18T12:15:01.944Z"
   },
   {
    "duration": 7,
    "start_time": "2023-10-18T12:15:03.018Z"
   },
   {
    "duration": 27,
    "start_time": "2023-10-18T12:15:03.026Z"
   },
   {
    "duration": 24,
    "start_time": "2023-10-18T12:15:03.055Z"
   },
   {
    "duration": 293,
    "start_time": "2023-10-18T12:15:03.081Z"
   },
   {
    "duration": 3,
    "start_time": "2023-10-18T12:15:03.376Z"
   },
   {
    "duration": 49,
    "start_time": "2023-10-18T12:15:03.388Z"
   },
   {
    "duration": 9,
    "start_time": "2023-10-18T12:15:03.439Z"
   },
   {
    "duration": 24,
    "start_time": "2023-10-18T12:15:03.450Z"
   },
   {
    "duration": 194,
    "start_time": "2023-10-18T12:15:03.476Z"
   },
   {
    "duration": 7,
    "start_time": "2023-10-18T12:15:03.672Z"
   },
   {
    "duration": 23,
    "start_time": "2023-10-18T12:15:03.681Z"
   },
   {
    "duration": 170,
    "start_time": "2023-10-18T12:15:03.705Z"
   },
   {
    "duration": 8,
    "start_time": "2023-10-18T12:15:03.879Z"
   },
   {
    "duration": 21,
    "start_time": "2023-10-18T12:15:03.888Z"
   },
   {
    "duration": 180,
    "start_time": "2023-10-18T12:15:03.911Z"
   },
   {
    "duration": 8,
    "start_time": "2023-10-18T12:15:04.092Z"
   },
   {
    "duration": 23,
    "start_time": "2023-10-18T12:15:04.101Z"
   },
   {
    "duration": 221,
    "start_time": "2023-10-18T12:15:04.125Z"
   },
   {
    "duration": 7,
    "start_time": "2023-10-18T12:15:04.348Z"
   },
   {
    "duration": 9,
    "start_time": "2023-10-18T12:15:04.357Z"
   },
   {
    "duration": 177,
    "start_time": "2023-10-18T12:15:04.368Z"
   },
   {
    "duration": 9,
    "start_time": "2023-10-18T12:15:04.547Z"
   },
   {
    "duration": 20,
    "start_time": "2023-10-18T12:15:04.558Z"
   },
   {
    "duration": 22,
    "start_time": "2023-10-18T12:15:04.580Z"
   },
   {
    "duration": 170,
    "start_time": "2023-10-18T12:15:04.604Z"
   },
   {
    "duration": 7,
    "start_time": "2023-10-18T12:15:04.775Z"
   },
   {
    "duration": 179,
    "start_time": "2023-10-18T12:15:04.783Z"
   },
   {
    "duration": 7,
    "start_time": "2023-10-18T12:15:04.964Z"
   },
   {
    "duration": 187,
    "start_time": "2023-10-18T12:15:04.972Z"
   },
   {
    "duration": 8,
    "start_time": "2023-10-18T12:15:05.160Z"
   },
   {
    "duration": 11,
    "start_time": "2023-10-18T12:15:05.170Z"
   },
   {
    "duration": 150,
    "start_time": "2023-10-18T12:15:05.182Z"
   },
   {
    "duration": 10,
    "start_time": "2023-10-18T12:15:05.334Z"
   },
   {
    "duration": 165,
    "start_time": "2023-10-18T12:15:05.346Z"
   },
   {
    "duration": 10,
    "start_time": "2023-10-18T12:15:05.512Z"
   },
   {
    "duration": 224,
    "start_time": "2023-10-18T12:15:05.524Z"
   },
   {
    "duration": 6,
    "start_time": "2023-10-18T12:15:05.750Z"
   },
   {
    "duration": 183,
    "start_time": "2023-10-18T12:15:05.758Z"
   },
   {
    "duration": 65,
    "start_time": "2023-10-18T12:15:05.943Z"
   },
   {
    "duration": 9,
    "start_time": "2023-10-18T12:15:06.010Z"
   },
   {
    "duration": 27,
    "start_time": "2023-10-18T12:15:06.021Z"
   },
   {
    "duration": 333,
    "start_time": "2023-10-18T12:15:06.049Z"
   },
   {
    "duration": 152,
    "start_time": "2023-10-18T12:15:06.384Z"
   },
   {
    "duration": 4,
    "start_time": "2023-10-18T12:15:06.537Z"
   },
   {
    "duration": 164,
    "start_time": "2023-10-18T12:15:06.542Z"
   },
   {
    "duration": 3,
    "start_time": "2023-10-18T12:15:06.707Z"
   },
   {
    "duration": 158,
    "start_time": "2023-10-18T12:15:06.711Z"
   },
   {
    "duration": 3,
    "start_time": "2023-10-18T12:15:06.870Z"
   },
   {
    "duration": 145,
    "start_time": "2023-10-18T12:15:06.875Z"
   },
   {
    "duration": 137,
    "start_time": "2023-10-18T12:15:07.022Z"
   },
   {
    "duration": 143,
    "start_time": "2023-10-18T12:15:07.161Z"
   },
   {
    "duration": 144,
    "start_time": "2023-10-18T12:15:07.305Z"
   },
   {
    "duration": 137,
    "start_time": "2023-10-18T12:15:07.450Z"
   },
   {
    "duration": 5,
    "start_time": "2023-10-18T12:15:07.588Z"
   },
   {
    "duration": 7,
    "start_time": "2023-10-18T12:15:07.594Z"
   },
   {
    "duration": 68,
    "start_time": "2023-10-18T12:15:07.602Z"
   },
   {
    "duration": 8,
    "start_time": "2023-10-18T12:15:07.672Z"
   },
   {
    "duration": 63,
    "start_time": "2023-10-18T12:15:07.682Z"
   },
   {
    "duration": 14,
    "start_time": "2023-10-18T12:15:07.747Z"
   },
   {
    "duration": 26,
    "start_time": "2023-10-18T12:15:07.762Z"
   },
   {
    "duration": 422,
    "start_time": "2023-10-18T12:15:07.840Z"
   },
   {
    "duration": 777,
    "start_time": "2023-10-18T15:20:14.647Z"
   },
   {
    "duration": 15,
    "start_time": "2023-10-18T15:20:15.426Z"
   },
   {
    "duration": 51,
    "start_time": "2023-10-18T15:20:15.442Z"
   },
   {
    "duration": 64,
    "start_time": "2023-10-18T15:20:15.494Z"
   },
   {
    "duration": 1714,
    "start_time": "2023-10-18T15:20:15.560Z"
   },
   {
    "duration": 8,
    "start_time": "2023-10-18T15:20:17.276Z"
   },
   {
    "duration": 13,
    "start_time": "2023-10-18T15:20:17.286Z"
   },
   {
    "duration": 4,
    "start_time": "2023-10-18T15:20:17.300Z"
   },
   {
    "duration": 48,
    "start_time": "2023-10-18T15:20:17.305Z"
   },
   {
    "duration": 5,
    "start_time": "2023-10-18T15:20:17.356Z"
   },
   {
    "duration": 8,
    "start_time": "2023-10-18T15:20:17.362Z"
   },
   {
    "duration": 21,
    "start_time": "2023-10-18T15:20:17.372Z"
   },
   {
    "duration": 5,
    "start_time": "2023-10-18T15:20:17.395Z"
   },
   {
    "duration": 172,
    "start_time": "2023-10-18T15:20:17.402Z"
   },
   {
    "duration": 980,
    "start_time": "2023-10-18T15:20:17.575Z"
   },
   {
    "duration": 9,
    "start_time": "2023-10-18T15:20:18.556Z"
   },
   {
    "duration": 4,
    "start_time": "2023-10-18T15:20:18.567Z"
   },
   {
    "duration": 11,
    "start_time": "2023-10-18T15:20:18.573Z"
   },
   {
    "duration": 303,
    "start_time": "2023-10-18T15:20:18.586Z"
   },
   {
    "duration": 5,
    "start_time": "2023-10-18T15:20:18.891Z"
   },
   {
    "duration": 30,
    "start_time": "2023-10-18T15:20:18.897Z"
   },
   {
    "duration": 9,
    "start_time": "2023-10-18T15:20:18.940Z"
   },
   {
    "duration": 11,
    "start_time": "2023-10-18T15:20:18.950Z"
   },
   {
    "duration": 173,
    "start_time": "2023-10-18T15:20:18.962Z"
   },
   {
    "duration": 8,
    "start_time": "2023-10-18T15:20:19.142Z"
   },
   {
    "duration": 17,
    "start_time": "2023-10-18T15:20:19.151Z"
   },
   {
    "duration": 162,
    "start_time": "2023-10-18T15:20:19.169Z"
   },
   {
    "duration": 7,
    "start_time": "2023-10-18T15:20:19.339Z"
   },
   {
    "duration": 13,
    "start_time": "2023-10-18T15:20:19.348Z"
   },
   {
    "duration": 171,
    "start_time": "2023-10-18T15:20:19.362Z"
   },
   {
    "duration": 12,
    "start_time": "2023-10-18T15:20:19.534Z"
   },
   {
    "duration": 14,
    "start_time": "2023-10-18T15:20:19.547Z"
   },
   {
    "duration": 234,
    "start_time": "2023-10-18T15:20:19.562Z"
   },
   {
    "duration": 7,
    "start_time": "2023-10-18T15:20:19.798Z"
   },
   {
    "duration": 8,
    "start_time": "2023-10-18T15:20:19.806Z"
   },
   {
    "duration": 186,
    "start_time": "2023-10-18T15:20:19.815Z"
   },
   {
    "duration": 10,
    "start_time": "2023-10-18T15:20:20.003Z"
   },
   {
    "duration": 27,
    "start_time": "2023-10-18T15:20:20.015Z"
   },
   {
    "duration": 23,
    "start_time": "2023-10-18T15:20:20.043Z"
   },
   {
    "duration": 173,
    "start_time": "2023-10-18T15:20:20.068Z"
   },
   {
    "duration": 7,
    "start_time": "2023-10-18T15:20:20.243Z"
   },
   {
    "duration": 178,
    "start_time": "2023-10-18T15:20:20.252Z"
   },
   {
    "duration": 11,
    "start_time": "2023-10-18T15:20:20.432Z"
   },
   {
    "duration": 180,
    "start_time": "2023-10-18T15:20:20.445Z"
   },
   {
    "duration": 19,
    "start_time": "2023-10-18T15:20:20.627Z"
   },
   {
    "duration": 8,
    "start_time": "2023-10-18T15:20:20.647Z"
   },
   {
    "duration": 151,
    "start_time": "2023-10-18T15:20:20.656Z"
   },
   {
    "duration": 8,
    "start_time": "2023-10-18T15:20:20.808Z"
   },
   {
    "duration": 173,
    "start_time": "2023-10-18T15:20:20.818Z"
   },
   {
    "duration": 7,
    "start_time": "2023-10-18T15:20:20.992Z"
   },
   {
    "duration": 166,
    "start_time": "2023-10-18T15:20:21.000Z"
   },
   {
    "duration": 7,
    "start_time": "2023-10-18T15:20:21.167Z"
   },
   {
    "duration": 168,
    "start_time": "2023-10-18T15:20:21.176Z"
   },
   {
    "duration": 66,
    "start_time": "2023-10-18T15:20:21.346Z"
   },
   {
    "duration": 7,
    "start_time": "2023-10-18T15:20:21.413Z"
   },
   {
    "duration": 20,
    "start_time": "2023-10-18T15:20:21.421Z"
   },
   {
    "duration": 313,
    "start_time": "2023-10-18T15:20:21.443Z"
   },
   {
    "duration": 155,
    "start_time": "2023-10-18T15:20:21.758Z"
   },
   {
    "duration": 5,
    "start_time": "2023-10-18T15:20:21.914Z"
   },
   {
    "duration": 164,
    "start_time": "2023-10-18T15:20:21.921Z"
   },
   {
    "duration": 3,
    "start_time": "2023-10-18T15:20:22.087Z"
   },
   {
    "duration": 157,
    "start_time": "2023-10-18T15:20:22.092Z"
   },
   {
    "duration": 3,
    "start_time": "2023-10-18T15:20:22.251Z"
   },
   {
    "duration": 177,
    "start_time": "2023-10-18T15:20:22.256Z"
   },
   {
    "duration": 179,
    "start_time": "2023-10-18T15:20:22.435Z"
   },
   {
    "duration": 162,
    "start_time": "2023-10-18T15:20:22.615Z"
   },
   {
    "duration": 150,
    "start_time": "2023-10-18T15:20:22.778Z"
   },
   {
    "duration": 155,
    "start_time": "2023-10-18T15:20:22.930Z"
   },
   {
    "duration": 4,
    "start_time": "2023-10-18T15:20:23.087Z"
   },
   {
    "duration": 7,
    "start_time": "2023-10-18T15:20:23.092Z"
   },
   {
    "duration": 39,
    "start_time": "2023-10-18T15:20:23.101Z"
   },
   {
    "duration": 6,
    "start_time": "2023-10-18T15:20:23.142Z"
   },
   {
    "duration": 13,
    "start_time": "2023-10-18T15:20:23.149Z"
   },
   {
    "duration": 10,
    "start_time": "2023-10-18T15:20:23.163Z"
   },
   {
    "duration": 19,
    "start_time": "2023-10-18T15:20:23.174Z"
   },
   {
    "duration": 161,
    "start_time": "2023-10-18T15:20:23.194Z"
   },
   {
    "duration": 32,
    "start_time": "2023-10-18T15:26:23.095Z"
   },
   {
    "duration": 4,
    "start_time": "2023-10-18T15:29:54.106Z"
   },
   {
    "duration": 4,
    "start_time": "2023-10-18T15:30:02.468Z"
   },
   {
    "duration": 4,
    "start_time": "2023-10-18T15:30:06.498Z"
   },
   {
    "duration": 3,
    "start_time": "2023-10-18T15:30:16.872Z"
   },
   {
    "duration": 83,
    "start_time": "2023-10-24T13:08:05.716Z"
   },
   {
    "duration": 10,
    "start_time": "2023-10-24T13:09:16.324Z"
   },
   {
    "duration": 870,
    "start_time": "2023-10-24T13:09:23.079Z"
   },
   {
    "duration": 771,
    "start_time": "2023-10-24T13:09:25.657Z"
   },
   {
    "duration": 4,
    "start_time": "2023-10-24T13:09:34.891Z"
   },
   {
    "duration": 139,
    "start_time": "2023-10-24T13:09:34.898Z"
   },
   {
    "duration": 23,
    "start_time": "2023-10-24T13:09:35.040Z"
   },
   {
    "duration": 70,
    "start_time": "2023-10-24T13:09:35.066Z"
   },
   {
    "duration": 119,
    "start_time": "2023-10-24T13:09:35.139Z"
   },
   {
    "duration": 2770,
    "start_time": "2023-10-24T13:09:35.260Z"
   },
   {
    "duration": 15,
    "start_time": "2023-10-24T13:09:38.032Z"
   },
   {
    "duration": 38,
    "start_time": "2023-10-24T13:09:38.055Z"
   },
   {
    "duration": 12,
    "start_time": "2023-10-24T13:09:38.096Z"
   },
   {
    "duration": 74,
    "start_time": "2023-10-24T13:09:38.110Z"
   },
   {
    "duration": 0,
    "start_time": "2023-10-24T13:09:38.190Z"
   },
   {
    "duration": 0,
    "start_time": "2023-10-24T13:09:38.196Z"
   },
   {
    "duration": 0,
    "start_time": "2023-10-24T13:09:38.198Z"
   },
   {
    "duration": 0,
    "start_time": "2023-10-24T13:09:38.200Z"
   },
   {
    "duration": 0,
    "start_time": "2023-10-24T13:09:38.201Z"
   },
   {
    "duration": 0,
    "start_time": "2023-10-24T13:09:38.202Z"
   },
   {
    "duration": 0,
    "start_time": "2023-10-24T13:09:38.203Z"
   },
   {
    "duration": 0,
    "start_time": "2023-10-24T13:09:38.204Z"
   },
   {
    "duration": 0,
    "start_time": "2023-10-24T13:09:38.226Z"
   },
   {
    "duration": 0,
    "start_time": "2023-10-24T13:09:38.228Z"
   },
   {
    "duration": 0,
    "start_time": "2023-10-24T13:09:38.230Z"
   },
   {
    "duration": 0,
    "start_time": "2023-10-24T13:09:38.231Z"
   },
   {
    "duration": 0,
    "start_time": "2023-10-24T13:09:38.232Z"
   },
   {
    "duration": 0,
    "start_time": "2023-10-24T13:09:38.233Z"
   },
   {
    "duration": 0,
    "start_time": "2023-10-24T13:09:38.234Z"
   },
   {
    "duration": 0,
    "start_time": "2023-10-24T13:09:38.235Z"
   },
   {
    "duration": 0,
    "start_time": "2023-10-24T13:09:38.236Z"
   },
   {
    "duration": 0,
    "start_time": "2023-10-24T13:09:38.237Z"
   },
   {
    "duration": 0,
    "start_time": "2023-10-24T13:09:38.238Z"
   },
   {
    "duration": 0,
    "start_time": "2023-10-24T13:09:38.240Z"
   },
   {
    "duration": 0,
    "start_time": "2023-10-24T13:09:38.241Z"
   },
   {
    "duration": 0,
    "start_time": "2023-10-24T13:09:38.242Z"
   },
   {
    "duration": 0,
    "start_time": "2023-10-24T13:09:38.245Z"
   },
   {
    "duration": 0,
    "start_time": "2023-10-24T13:09:38.246Z"
   },
   {
    "duration": 0,
    "start_time": "2023-10-24T13:09:38.247Z"
   },
   {
    "duration": 0,
    "start_time": "2023-10-24T13:09:38.248Z"
   },
   {
    "duration": 1,
    "start_time": "2023-10-24T13:09:38.249Z"
   },
   {
    "duration": 0,
    "start_time": "2023-10-24T13:09:38.254Z"
   },
   {
    "duration": 0,
    "start_time": "2023-10-24T13:09:38.258Z"
   },
   {
    "duration": 0,
    "start_time": "2023-10-24T13:09:38.260Z"
   },
   {
    "duration": 0,
    "start_time": "2023-10-24T13:09:38.262Z"
   },
   {
    "duration": 0,
    "start_time": "2023-10-24T13:09:38.264Z"
   },
   {
    "duration": 0,
    "start_time": "2023-10-24T13:09:38.265Z"
   },
   {
    "duration": 0,
    "start_time": "2023-10-24T13:09:38.267Z"
   },
   {
    "duration": 0,
    "start_time": "2023-10-24T13:09:38.324Z"
   },
   {
    "duration": 0,
    "start_time": "2023-10-24T13:09:38.326Z"
   },
   {
    "duration": 0,
    "start_time": "2023-10-24T13:09:38.327Z"
   },
   {
    "duration": 0,
    "start_time": "2023-10-24T13:09:38.330Z"
   },
   {
    "duration": 0,
    "start_time": "2023-10-24T13:09:38.333Z"
   },
   {
    "duration": 0,
    "start_time": "2023-10-24T13:09:38.335Z"
   },
   {
    "duration": 0,
    "start_time": "2023-10-24T13:09:38.336Z"
   },
   {
    "duration": 0,
    "start_time": "2023-10-24T13:09:38.338Z"
   },
   {
    "duration": 1,
    "start_time": "2023-10-24T13:09:38.340Z"
   },
   {
    "duration": 0,
    "start_time": "2023-10-24T13:09:38.342Z"
   },
   {
    "duration": 0,
    "start_time": "2023-10-24T13:09:38.343Z"
   },
   {
    "duration": 0,
    "start_time": "2023-10-24T13:09:38.346Z"
   },
   {
    "duration": 0,
    "start_time": "2023-10-24T13:09:38.348Z"
   },
   {
    "duration": 0,
    "start_time": "2023-10-24T13:09:38.350Z"
   },
   {
    "duration": 0,
    "start_time": "2023-10-24T13:09:38.352Z"
   },
   {
    "duration": 0,
    "start_time": "2023-10-24T13:09:38.353Z"
   },
   {
    "duration": 1,
    "start_time": "2023-10-24T13:09:38.355Z"
   },
   {
    "duration": 0,
    "start_time": "2023-10-24T13:09:38.358Z"
   },
   {
    "duration": 0,
    "start_time": "2023-10-24T13:09:38.360Z"
   },
   {
    "duration": 0,
    "start_time": "2023-10-24T13:09:38.361Z"
   },
   {
    "duration": 1,
    "start_time": "2023-10-24T13:09:38.362Z"
   },
   {
    "duration": 0,
    "start_time": "2023-10-24T13:09:38.364Z"
   },
   {
    "duration": 0,
    "start_time": "2023-10-24T13:09:38.425Z"
   },
   {
    "duration": 0,
    "start_time": "2023-10-24T13:09:38.426Z"
   },
   {
    "duration": 0,
    "start_time": "2023-10-24T13:09:38.432Z"
   },
   {
    "duration": 0,
    "start_time": "2023-10-24T13:09:38.433Z"
   },
   {
    "duration": 0,
    "start_time": "2023-10-24T13:09:38.434Z"
   },
   {
    "duration": 0,
    "start_time": "2023-10-24T13:09:38.435Z"
   },
   {
    "duration": 0,
    "start_time": "2023-10-24T13:09:38.437Z"
   },
   {
    "duration": 0,
    "start_time": "2023-10-24T13:09:38.439Z"
   },
   {
    "duration": 0,
    "start_time": "2023-10-24T13:09:38.440Z"
   },
   {
    "duration": 0,
    "start_time": "2023-10-24T13:09:38.442Z"
   },
   {
    "duration": 0,
    "start_time": "2023-10-24T13:09:38.443Z"
   },
   {
    "duration": 0,
    "start_time": "2023-10-24T13:09:38.444Z"
   },
   {
    "duration": 0,
    "start_time": "2023-10-24T13:09:38.445Z"
   },
   {
    "duration": 9,
    "start_time": "2023-10-24T13:10:56.598Z"
   },
   {
    "duration": 3,
    "start_time": "2023-10-24T13:19:52.485Z"
   },
   {
    "duration": 177,
    "start_time": "2023-10-24T13:19:52.491Z"
   },
   {
    "duration": 23,
    "start_time": "2023-10-24T13:19:52.673Z"
   },
   {
    "duration": 67,
    "start_time": "2023-10-24T13:19:52.698Z"
   },
   {
    "duration": 109,
    "start_time": "2023-10-24T13:19:52.769Z"
   },
   {
    "duration": 2110,
    "start_time": "2023-10-24T13:19:52.882Z"
   },
   {
    "duration": 11,
    "start_time": "2023-10-24T13:19:54.994Z"
   },
   {
    "duration": 35,
    "start_time": "2023-10-24T13:19:55.007Z"
   },
   {
    "duration": 19,
    "start_time": "2023-10-24T13:19:55.044Z"
   },
   {
    "duration": 19,
    "start_time": "2023-10-24T13:19:55.066Z"
   },
   {
    "duration": 128,
    "start_time": "2023-10-24T13:19:55.088Z"
   },
   {
    "duration": 13,
    "start_time": "2023-10-24T13:19:55.219Z"
   },
   {
    "duration": 29,
    "start_time": "2023-10-24T13:19:55.235Z"
   },
   {
    "duration": 83,
    "start_time": "2023-10-24T13:19:55.271Z"
   },
   {
    "duration": 13,
    "start_time": "2023-10-24T13:19:55.356Z"
   },
   {
    "duration": 218,
    "start_time": "2023-10-24T13:19:55.372Z"
   },
   {
    "duration": 1842,
    "start_time": "2023-10-24T13:19:55.592Z"
   },
   {
    "duration": 9,
    "start_time": "2023-10-24T13:19:57.437Z"
   },
   {
    "duration": 8,
    "start_time": "2023-10-24T13:19:57.448Z"
   },
   {
    "duration": 28,
    "start_time": "2023-10-24T13:19:57.458Z"
   },
   {
    "duration": 353,
    "start_time": "2023-10-24T13:19:57.488Z"
   },
   {
    "duration": 4,
    "start_time": "2023-10-24T13:19:57.843Z"
   },
   {
    "duration": 41,
    "start_time": "2023-10-24T13:19:57.849Z"
   },
   {
    "duration": 16,
    "start_time": "2023-10-24T13:19:57.892Z"
   },
   {
    "duration": 12,
    "start_time": "2023-10-24T13:19:57.925Z"
   },
   {
    "duration": 285,
    "start_time": "2023-10-24T13:19:57.939Z"
   },
   {
    "duration": 24,
    "start_time": "2023-10-24T13:19:58.226Z"
   },
   {
    "duration": 15,
    "start_time": "2023-10-24T13:19:58.252Z"
   },
   {
    "duration": 6,
    "start_time": "2023-10-24T13:19:58.270Z"
   },
   {
    "duration": 265,
    "start_time": "2023-10-24T13:19:58.279Z"
   },
   {
    "duration": 10,
    "start_time": "2023-10-24T13:19:58.546Z"
   },
   {
    "duration": 16,
    "start_time": "2023-10-24T13:19:58.559Z"
   },
   {
    "duration": 222,
    "start_time": "2023-10-24T13:19:58.578Z"
   },
   {
    "duration": 22,
    "start_time": "2023-10-24T13:19:58.802Z"
   },
   {
    "duration": 10,
    "start_time": "2023-10-24T13:19:58.826Z"
   },
   {
    "duration": 198,
    "start_time": "2023-10-24T13:19:58.839Z"
   },
   {
    "duration": 11,
    "start_time": "2023-10-24T13:19:59.039Z"
   },
   {
    "duration": 17,
    "start_time": "2023-10-24T13:19:59.052Z"
   },
   {
    "duration": 357,
    "start_time": "2023-10-24T13:19:59.071Z"
   },
   {
    "duration": 11,
    "start_time": "2023-10-24T13:19:59.431Z"
   },
   {
    "duration": 25,
    "start_time": "2023-10-24T13:19:59.448Z"
   },
   {
    "duration": 14,
    "start_time": "2023-10-24T13:19:59.475Z"
   },
   {
    "duration": 212,
    "start_time": "2023-10-24T13:19:59.491Z"
   },
   {
    "duration": 21,
    "start_time": "2023-10-24T13:19:59.705Z"
   },
   {
    "duration": 199,
    "start_time": "2023-10-24T13:19:59.727Z"
   },
   {
    "duration": 14,
    "start_time": "2023-10-24T13:19:59.928Z"
   },
   {
    "duration": 322,
    "start_time": "2023-10-24T13:19:59.945Z"
   },
   {
    "duration": 13,
    "start_time": "2023-10-24T13:20:00.270Z"
   },
   {
    "duration": 36,
    "start_time": "2023-10-24T13:20:00.285Z"
   },
   {
    "duration": 220,
    "start_time": "2023-10-24T13:20:00.323Z"
   },
   {
    "duration": 201,
    "start_time": "2023-10-24T13:20:00.545Z"
   },
   {
    "duration": 244,
    "start_time": "2023-10-24T13:20:00.748Z"
   },
   {
    "duration": 10,
    "start_time": "2023-10-24T13:20:00.994Z"
   },
   {
    "duration": 361,
    "start_time": "2023-10-24T13:20:01.006Z"
   },
   {
    "duration": 10,
    "start_time": "2023-10-24T13:20:01.369Z"
   },
   {
    "duration": 268,
    "start_time": "2023-10-24T13:20:01.381Z"
   },
   {
    "duration": 141,
    "start_time": "2023-10-24T13:20:01.651Z"
   },
   {
    "duration": 14,
    "start_time": "2023-10-24T13:20:01.794Z"
   },
   {
    "duration": 34,
    "start_time": "2023-10-24T13:20:01.810Z"
   },
   {
    "duration": 343,
    "start_time": "2023-10-24T13:20:01.846Z"
   },
   {
    "duration": 323,
    "start_time": "2023-10-24T13:20:02.190Z"
   },
   {
    "duration": 12,
    "start_time": "2023-10-24T13:20:02.515Z"
   },
   {
    "duration": 327,
    "start_time": "2023-10-24T13:20:02.529Z"
   },
   {
    "duration": 5,
    "start_time": "2023-10-24T13:20:02.858Z"
   },
   {
    "duration": 380,
    "start_time": "2023-10-24T13:20:02.865Z"
   },
   {
    "duration": 9,
    "start_time": "2023-10-24T13:20:03.248Z"
   },
   {
    "duration": 282,
    "start_time": "2023-10-24T13:20:03.259Z"
   },
   {
    "duration": 210,
    "start_time": "2023-10-24T13:20:03.543Z"
   },
   {
    "duration": 194,
    "start_time": "2023-10-24T13:20:03.755Z"
   },
   {
    "duration": 181,
    "start_time": "2023-10-24T13:20:03.953Z"
   },
   {
    "duration": 188,
    "start_time": "2023-10-24T13:20:04.136Z"
   },
   {
    "duration": 9,
    "start_time": "2023-10-24T13:20:04.327Z"
   },
   {
    "duration": 247,
    "start_time": "2023-10-24T13:20:04.338Z"
   },
   {
    "duration": 123,
    "start_time": "2023-10-24T13:20:04.587Z"
   },
   {
    "duration": 68,
    "start_time": "2023-10-24T13:20:04.713Z"
   },
   {
    "duration": 233,
    "start_time": "2023-10-24T13:20:04.783Z"
   },
   {
    "duration": 177,
    "start_time": "2023-10-24T13:20:05.019Z"
   },
   {
    "duration": 202,
    "start_time": "2023-10-24T13:20:05.199Z"
   },
   {
    "duration": 256,
    "start_time": "2023-10-24T13:20:05.404Z"
   },
   {
    "duration": 11,
    "start_time": "2023-10-24T13:21:13.845Z"
   },
   {
    "duration": 11,
    "start_time": "2023-10-24T13:21:55.411Z"
   },
   {
    "duration": 7,
    "start_time": "2023-10-24T13:22:00.856Z"
   },
   {
    "duration": 7,
    "start_time": "2023-10-24T13:22:04.585Z"
   },
   {
    "duration": 104,
    "start_time": "2023-10-24T13:22:06.728Z"
   },
   {
    "duration": 7,
    "start_time": "2023-10-24T13:22:07.876Z"
   },
   {
    "duration": 36,
    "start_time": "2023-10-24T13:22:23.840Z"
   },
   {
    "duration": 11,
    "start_time": "2023-10-24T13:30:32.130Z"
   },
   {
    "duration": 3,
    "start_time": "2023-10-24T13:30:41.183Z"
   },
   {
    "duration": 110,
    "start_time": "2023-10-24T13:30:41.188Z"
   },
   {
    "duration": 25,
    "start_time": "2023-10-24T13:30:41.300Z"
   },
   {
    "duration": 42,
    "start_time": "2023-10-24T13:30:41.327Z"
   },
   {
    "duration": 122,
    "start_time": "2023-10-24T13:30:41.372Z"
   },
   {
    "duration": 2065,
    "start_time": "2023-10-24T13:30:41.495Z"
   },
   {
    "duration": 18,
    "start_time": "2023-10-24T13:30:43.562Z"
   },
   {
    "duration": 17,
    "start_time": "2023-10-24T13:30:43.582Z"
   },
   {
    "duration": 5,
    "start_time": "2023-10-24T13:30:43.623Z"
   },
   {
    "duration": 8,
    "start_time": "2023-10-24T13:30:43.629Z"
   },
   {
    "duration": 34,
    "start_time": "2023-10-24T13:30:43.639Z"
   },
   {
    "duration": 7,
    "start_time": "2023-10-24T13:30:43.675Z"
   },
   {
    "duration": 8,
    "start_time": "2023-10-24T13:30:43.684Z"
   },
   {
    "duration": 28,
    "start_time": "2023-10-24T13:30:43.723Z"
   },
   {
    "duration": 7,
    "start_time": "2023-10-24T13:30:43.753Z"
   },
   {
    "duration": 8,
    "start_time": "2023-10-24T13:30:43.761Z"
   },
   {
    "duration": 193,
    "start_time": "2023-10-24T13:30:43.771Z"
   },
   {
    "duration": 7,
    "start_time": "2023-10-24T13:30:43.966Z"
   },
   {
    "duration": 1352,
    "start_time": "2023-10-24T13:30:43.975Z"
   },
   {
    "duration": 13,
    "start_time": "2023-10-24T13:30:45.330Z"
   },
   {
    "duration": 6,
    "start_time": "2023-10-24T13:30:45.346Z"
   },
   {
    "duration": 24,
    "start_time": "2023-10-24T13:30:45.354Z"
   },
   {
    "duration": 328,
    "start_time": "2023-10-24T13:30:45.381Z"
   },
   {
    "duration": 5,
    "start_time": "2023-10-24T13:30:45.711Z"
   },
   {
    "duration": 38,
    "start_time": "2023-10-24T13:30:45.724Z"
   },
   {
    "duration": 2,
    "start_time": "2023-10-24T13:31:21.838Z"
   },
   {
    "duration": 3,
    "start_time": "2023-10-24T13:31:24.719Z"
   },
   {
    "duration": 98,
    "start_time": "2023-10-24T13:31:44.883Z"
   },
   {
    "duration": 9,
    "start_time": "2023-10-24T13:31:55.201Z"
   },
   {
    "duration": 4,
    "start_time": "2023-10-24T13:32:01.062Z"
   },
   {
    "duration": 26,
    "start_time": "2023-10-24T13:43:10.435Z"
   },
   {
    "duration": 3,
    "start_time": "2023-10-24T13:43:38.176Z"
   },
   {
    "duration": 117,
    "start_time": "2023-10-24T13:47:38.787Z"
   },
   {
    "duration": 110,
    "start_time": "2023-10-24T13:48:22.856Z"
   },
   {
    "duration": 159,
    "start_time": "2023-10-24T13:48:30.647Z"
   },
   {
    "duration": 253,
    "start_time": "2023-10-24T13:48:46.477Z"
   },
   {
    "duration": 159,
    "start_time": "2023-10-24T13:49:13.761Z"
   },
   {
    "duration": 118,
    "start_time": "2023-10-24T13:57:32.962Z"
   },
   {
    "duration": 147,
    "start_time": "2023-10-24T13:57:42.943Z"
   },
   {
    "duration": 17,
    "start_time": "2023-10-24T13:58:31.370Z"
   },
   {
    "duration": 14,
    "start_time": "2023-10-24T13:59:12.037Z"
   },
   {
    "duration": 260,
    "start_time": "2023-10-24T13:59:30.603Z"
   },
   {
    "duration": 11,
    "start_time": "2023-10-24T14:00:20.465Z"
   },
   {
    "duration": 3,
    "start_time": "2023-10-24T14:00:28.850Z"
   },
   {
    "duration": 11,
    "start_time": "2023-10-24T14:00:41.640Z"
   },
   {
    "duration": 5,
    "start_time": "2023-10-24T14:00:48.198Z"
   },
   {
    "duration": 3,
    "start_time": "2023-10-24T14:00:51.518Z"
   },
   {
    "duration": 5,
    "start_time": "2023-10-24T14:01:13.087Z"
   },
   {
    "duration": 6,
    "start_time": "2023-10-24T14:01:30.200Z"
   },
   {
    "duration": 125,
    "start_time": "2023-10-24T14:06:06.834Z"
   },
   {
    "duration": 116,
    "start_time": "2023-10-24T14:06:55.492Z"
   },
   {
    "duration": 117,
    "start_time": "2023-10-24T14:07:06.951Z"
   },
   {
    "duration": 4,
    "start_time": "2023-10-24T14:11:19.065Z"
   },
   {
    "duration": 3,
    "start_time": "2023-10-24T14:12:07.285Z"
   },
   {
    "duration": 212,
    "start_time": "2023-10-24T14:12:07.290Z"
   },
   {
    "duration": 30,
    "start_time": "2023-10-24T14:12:07.504Z"
   },
   {
    "duration": 91,
    "start_time": "2023-10-24T14:12:07.539Z"
   },
   {
    "duration": 216,
    "start_time": "2023-10-24T14:12:07.632Z"
   },
   {
    "duration": 2325,
    "start_time": "2023-10-24T14:12:07.849Z"
   },
   {
    "duration": 15,
    "start_time": "2023-10-24T14:12:10.176Z"
   },
   {
    "duration": 153,
    "start_time": "2023-10-24T14:12:10.194Z"
   },
   {
    "duration": 6,
    "start_time": "2023-10-24T14:12:10.350Z"
   },
   {
    "duration": 36,
    "start_time": "2023-10-24T14:12:10.361Z"
   },
   {
    "duration": 77,
    "start_time": "2023-10-24T14:12:10.399Z"
   },
   {
    "duration": 77,
    "start_time": "2023-10-24T14:12:10.478Z"
   },
   {
    "duration": 130,
    "start_time": "2023-10-24T14:12:10.556Z"
   },
   {
    "duration": 26,
    "start_time": "2023-10-24T14:12:10.688Z"
   },
   {
    "duration": 18,
    "start_time": "2023-10-24T14:12:10.716Z"
   },
   {
    "duration": 20,
    "start_time": "2023-10-24T14:12:10.736Z"
   },
   {
    "duration": 270,
    "start_time": "2023-10-24T14:12:10.758Z"
   },
   {
    "duration": 16,
    "start_time": "2023-10-24T14:12:11.030Z"
   },
   {
    "duration": 1752,
    "start_time": "2023-10-24T14:12:11.048Z"
   },
   {
    "duration": 30,
    "start_time": "2023-10-24T14:12:12.802Z"
   },
   {
    "duration": 8,
    "start_time": "2023-10-24T14:12:12.838Z"
   },
   {
    "duration": 35,
    "start_time": "2023-10-24T14:12:12.847Z"
   },
   {
    "duration": 353,
    "start_time": "2023-10-24T14:12:12.885Z"
   },
   {
    "duration": 4,
    "start_time": "2023-10-24T14:12:13.240Z"
   },
   {
    "duration": 58,
    "start_time": "2023-10-24T14:12:13.246Z"
   },
   {
    "duration": 16,
    "start_time": "2023-10-24T14:12:13.307Z"
   },
   {
    "duration": 49,
    "start_time": "2023-10-24T14:12:13.326Z"
   },
   {
    "duration": 138,
    "start_time": "2023-10-24T14:12:13.383Z"
   },
   {
    "duration": 13,
    "start_time": "2023-10-24T14:12:13.524Z"
   },
   {
    "duration": 24,
    "start_time": "2023-10-24T14:12:13.540Z"
   },
   {
    "duration": 11,
    "start_time": "2023-10-24T14:12:13.566Z"
   },
   {
    "duration": 213,
    "start_time": "2023-10-24T14:12:13.579Z"
   },
   {
    "duration": 13,
    "start_time": "2023-10-24T14:12:13.794Z"
   },
   {
    "duration": 186,
    "start_time": "2023-10-24T14:12:13.810Z"
   },
   {
    "duration": 13,
    "start_time": "2023-10-24T14:12:13.998Z"
   },
   {
    "duration": 124,
    "start_time": "2023-10-24T14:12:14.023Z"
   },
   {
    "duration": 242,
    "start_time": "2023-10-24T14:12:14.148Z"
   },
   {
    "duration": 15,
    "start_time": "2023-10-24T14:12:14.392Z"
   },
   {
    "duration": 55,
    "start_time": "2023-10-24T14:12:14.410Z"
   },
   {
    "duration": 336,
    "start_time": "2023-10-24T14:12:14.468Z"
   },
   {
    "duration": 29,
    "start_time": "2023-10-24T14:12:14.807Z"
   },
   {
    "duration": 21,
    "start_time": "2023-10-24T14:12:14.840Z"
   },
   {
    "duration": 213,
    "start_time": "2023-10-24T14:12:14.863Z"
   },
   {
    "duration": 10,
    "start_time": "2023-10-24T14:12:15.078Z"
   },
   {
    "duration": 213,
    "start_time": "2023-10-24T14:12:15.089Z"
   },
   {
    "duration": 295,
    "start_time": "2023-10-24T14:12:15.305Z"
   },
   {
    "duration": 32,
    "start_time": "2023-10-24T14:12:15.603Z"
   },
   {
    "duration": 368,
    "start_time": "2023-10-24T14:12:15.637Z"
   },
   {
    "duration": 147,
    "start_time": "2023-10-24T14:12:16.009Z"
   },
   {
    "duration": 403,
    "start_time": "2023-10-24T14:12:16.159Z"
   },
   {
    "duration": 10,
    "start_time": "2023-10-24T14:12:16.564Z"
   },
   {
    "duration": 247,
    "start_time": "2023-10-24T14:12:16.576Z"
   },
   {
    "duration": 20,
    "start_time": "2023-10-24T14:12:16.825Z"
   },
   {
    "duration": 783,
    "start_time": "2023-10-24T14:12:16.851Z"
   },
   {
    "duration": 13,
    "start_time": "2023-10-24T14:12:17.636Z"
   },
   {
    "duration": 60,
    "start_time": "2023-10-24T14:12:17.651Z"
   },
   {
    "duration": 279,
    "start_time": "2023-10-24T14:12:17.713Z"
   },
   {
    "duration": 11,
    "start_time": "2023-10-24T14:12:17.994Z"
   },
   {
    "duration": 274,
    "start_time": "2023-10-24T14:12:18.007Z"
   },
   {
    "duration": 10,
    "start_time": "2023-10-24T14:12:18.283Z"
   },
   {
    "duration": 299,
    "start_time": "2023-10-24T14:12:18.295Z"
   },
   {
    "duration": 10,
    "start_time": "2023-10-24T14:12:18.596Z"
   },
   {
    "duration": 435,
    "start_time": "2023-10-24T14:12:18.608Z"
   },
   {
    "duration": 87,
    "start_time": "2023-10-24T14:12:19.045Z"
   },
   {
    "duration": 45,
    "start_time": "2023-10-24T14:12:19.134Z"
   },
   {
    "duration": 72,
    "start_time": "2023-10-24T14:12:19.182Z"
   },
   {
    "duration": 419,
    "start_time": "2023-10-24T14:12:19.255Z"
   },
   {
    "duration": 187,
    "start_time": "2023-10-24T14:12:19.676Z"
   },
   {
    "duration": 6,
    "start_time": "2023-10-24T14:12:19.866Z"
   },
   {
    "duration": 240,
    "start_time": "2023-10-24T14:12:19.874Z"
   },
   {
    "duration": 73,
    "start_time": "2023-10-24T14:12:20.116Z"
   },
   {
    "duration": 330,
    "start_time": "2023-10-24T14:12:20.191Z"
   },
   {
    "duration": 11,
    "start_time": "2023-10-24T14:12:20.529Z"
   },
   {
    "duration": 339,
    "start_time": "2023-10-24T14:12:20.551Z"
   },
   {
    "duration": 198,
    "start_time": "2023-10-24T14:12:20.893Z"
   },
   {
    "duration": 214,
    "start_time": "2023-10-24T14:12:21.093Z"
   },
   {
    "duration": 200,
    "start_time": "2023-10-24T14:12:21.310Z"
   },
   {
    "duration": 191,
    "start_time": "2023-10-24T14:12:21.512Z"
   },
   {
    "duration": 8,
    "start_time": "2023-10-24T14:12:21.705Z"
   },
   {
    "duration": 117,
    "start_time": "2023-10-24T14:12:21.726Z"
   },
   {
    "duration": 218,
    "start_time": "2023-10-24T14:12:21.848Z"
   },
   {
    "duration": 182,
    "start_time": "2023-10-24T14:12:22.074Z"
   },
   {
    "duration": 52,
    "start_time": "2023-10-24T14:12:22.259Z"
   },
   {
    "duration": 67,
    "start_time": "2023-10-24T14:12:22.312Z"
   },
   {
    "duration": 87,
    "start_time": "2023-10-24T14:12:22.382Z"
   },
   {
    "duration": 233,
    "start_time": "2023-10-24T14:12:22.472Z"
   },
   {
    "duration": 177,
    "start_time": "2023-10-24T14:13:51.515Z"
   },
   {
    "duration": 213,
    "start_time": "2023-10-24T14:13:59.882Z"
   },
   {
    "duration": 11,
    "start_time": "2023-10-24T14:15:13.785Z"
   },
   {
    "duration": 5,
    "start_time": "2023-10-24T14:15:15.554Z"
   },
   {
    "duration": 6,
    "start_time": "2023-10-24T14:16:19.255Z"
   },
   {
    "duration": 20,
    "start_time": "2023-10-24T14:22:20.990Z"
   },
   {
    "duration": 6,
    "start_time": "2023-10-24T14:22:23.383Z"
   },
   {
    "duration": 8,
    "start_time": "2023-10-24T14:22:49.039Z"
   },
   {
    "duration": 12,
    "start_time": "2023-10-24T14:22:52.137Z"
   },
   {
    "duration": 13,
    "start_time": "2023-10-24T14:23:00.239Z"
   },
   {
    "duration": 5,
    "start_time": "2023-10-24T14:23:03.201Z"
   },
   {
    "duration": 3,
    "start_time": "2023-10-24T14:23:22.381Z"
   },
   {
    "duration": 174,
    "start_time": "2023-10-24T14:23:22.387Z"
   },
   {
    "duration": 18,
    "start_time": "2023-10-24T14:23:22.564Z"
   },
   {
    "duration": 186,
    "start_time": "2023-10-24T14:23:22.585Z"
   },
   {
    "duration": 233,
    "start_time": "2023-10-24T14:23:22.774Z"
   },
   {
    "duration": 2655,
    "start_time": "2023-10-24T14:23:23.009Z"
   },
   {
    "duration": 16,
    "start_time": "2023-10-24T14:23:25.666Z"
   },
   {
    "duration": 54,
    "start_time": "2023-10-24T14:23:25.684Z"
   },
   {
    "duration": 47,
    "start_time": "2023-10-24T14:23:25.740Z"
   },
   {
    "duration": 31,
    "start_time": "2023-10-24T14:23:25.791Z"
   },
   {
    "duration": 66,
    "start_time": "2023-10-24T14:23:25.827Z"
   },
   {
    "duration": 26,
    "start_time": "2023-10-24T14:23:25.895Z"
   },
   {
    "duration": 38,
    "start_time": "2023-10-24T14:23:25.924Z"
   },
   {
    "duration": 35,
    "start_time": "2023-10-24T14:23:25.964Z"
   },
   {
    "duration": 39,
    "start_time": "2023-10-24T14:23:26.002Z"
   },
   {
    "duration": 46,
    "start_time": "2023-10-24T14:23:26.043Z"
   },
   {
    "duration": 282,
    "start_time": "2023-10-24T14:23:26.091Z"
   },
   {
    "duration": 15,
    "start_time": "2023-10-24T14:23:26.375Z"
   },
   {
    "duration": 1695,
    "start_time": "2023-10-24T14:23:26.392Z"
   },
   {
    "duration": 15,
    "start_time": "2023-10-24T14:23:28.089Z"
   },
   {
    "duration": 6,
    "start_time": "2023-10-24T14:23:28.128Z"
   },
   {
    "duration": 21,
    "start_time": "2023-10-24T14:23:28.137Z"
   },
   {
    "duration": 310,
    "start_time": "2023-10-24T14:23:28.160Z"
   },
   {
    "duration": 4,
    "start_time": "2023-10-24T14:23:28.472Z"
   },
   {
    "duration": 103,
    "start_time": "2023-10-24T14:23:28.478Z"
   },
   {
    "duration": 24,
    "start_time": "2023-10-24T14:23:28.583Z"
   },
   {
    "duration": 185,
    "start_time": "2023-10-24T14:23:28.609Z"
   },
   {
    "duration": 41,
    "start_time": "2023-10-24T14:23:28.798Z"
   },
   {
    "duration": 4,
    "start_time": "2023-10-24T14:23:55.803Z"
   },
   {
    "duration": 180,
    "start_time": "2023-10-24T14:23:55.809Z"
   },
   {
    "duration": 24,
    "start_time": "2023-10-24T14:23:55.992Z"
   },
   {
    "duration": 66,
    "start_time": "2023-10-24T14:23:56.019Z"
   },
   {
    "duration": 128,
    "start_time": "2023-10-24T14:23:56.088Z"
   },
   {
    "duration": 2640,
    "start_time": "2023-10-24T14:23:56.223Z"
   },
   {
    "duration": 17,
    "start_time": "2023-10-24T14:23:58.866Z"
   },
   {
    "duration": 70,
    "start_time": "2023-10-24T14:23:58.886Z"
   },
   {
    "duration": 17,
    "start_time": "2023-10-24T14:23:58.960Z"
   },
   {
    "duration": 26,
    "start_time": "2023-10-24T14:23:58.981Z"
   },
   {
    "duration": 80,
    "start_time": "2023-10-24T14:23:59.010Z"
   },
   {
    "duration": 17,
    "start_time": "2023-10-24T14:23:59.091Z"
   },
   {
    "duration": 47,
    "start_time": "2023-10-24T14:23:59.110Z"
   },
   {
    "duration": 70,
    "start_time": "2023-10-24T14:23:59.161Z"
   },
   {
    "duration": 24,
    "start_time": "2023-10-24T14:23:59.233Z"
   },
   {
    "duration": 46,
    "start_time": "2023-10-24T14:23:59.258Z"
   },
   {
    "duration": 292,
    "start_time": "2023-10-24T14:23:59.306Z"
   },
   {
    "duration": 11,
    "start_time": "2023-10-24T14:23:59.601Z"
   },
   {
    "duration": 1579,
    "start_time": "2023-10-24T14:23:59.628Z"
   },
   {
    "duration": 22,
    "start_time": "2023-10-24T14:24:01.209Z"
   },
   {
    "duration": 219,
    "start_time": "2023-10-24T14:24:01.233Z"
   },
   {
    "duration": 65,
    "start_time": "2023-10-24T14:24:01.454Z"
   },
   {
    "duration": 463,
    "start_time": "2023-10-24T14:24:01.522Z"
   },
   {
    "duration": 7,
    "start_time": "2023-10-24T14:24:01.989Z"
   },
   {
    "duration": 176,
    "start_time": "2023-10-24T14:24:01.998Z"
   },
   {
    "duration": 107,
    "start_time": "2023-10-24T14:24:02.181Z"
   },
   {
    "duration": 4,
    "start_time": "2023-10-24T14:24:31.588Z"
   },
   {
    "duration": 148,
    "start_time": "2023-10-24T14:24:31.596Z"
   },
   {
    "duration": 27,
    "start_time": "2023-10-24T14:24:31.746Z"
   },
   {
    "duration": 147,
    "start_time": "2023-10-24T14:24:31.776Z"
   },
   {
    "duration": 128,
    "start_time": "2023-10-24T14:24:31.938Z"
   },
   {
    "duration": 2649,
    "start_time": "2023-10-24T14:24:32.069Z"
   },
   {
    "duration": 28,
    "start_time": "2023-10-24T14:24:34.720Z"
   },
   {
    "duration": 20,
    "start_time": "2023-10-24T14:24:34.750Z"
   },
   {
    "duration": 11,
    "start_time": "2023-10-24T14:24:34.772Z"
   },
   {
    "duration": 11,
    "start_time": "2023-10-24T14:24:34.785Z"
   },
   {
    "duration": 67,
    "start_time": "2023-10-24T14:24:34.798Z"
   },
   {
    "duration": 34,
    "start_time": "2023-10-24T14:24:34.867Z"
   },
   {
    "duration": 307,
    "start_time": "2023-10-24T14:24:34.904Z"
   },
   {
    "duration": 182,
    "start_time": "2023-10-24T14:24:35.218Z"
   },
   {
    "duration": 73,
    "start_time": "2023-10-24T14:24:35.403Z"
   },
   {
    "duration": 43,
    "start_time": "2023-10-24T14:24:35.479Z"
   },
   {
    "duration": 306,
    "start_time": "2023-10-24T14:24:35.526Z"
   },
   {
    "duration": 23,
    "start_time": "2023-10-24T14:24:35.835Z"
   },
   {
    "duration": 1850,
    "start_time": "2023-10-24T14:24:35.862Z"
   },
   {
    "duration": 18,
    "start_time": "2023-10-24T14:24:37.715Z"
   },
   {
    "duration": 32,
    "start_time": "2023-10-24T14:24:37.735Z"
   },
   {
    "duration": 77,
    "start_time": "2023-10-24T14:24:37.770Z"
   },
   {
    "duration": 335,
    "start_time": "2023-10-24T14:24:37.851Z"
   },
   {
    "duration": 5,
    "start_time": "2023-10-24T14:24:38.188Z"
   },
   {
    "duration": 128,
    "start_time": "2023-10-24T14:24:38.194Z"
   },
   {
    "duration": 78,
    "start_time": "2023-10-24T14:24:38.323Z"
   },
   {
    "duration": 8,
    "start_time": "2023-10-24T14:25:02.737Z"
   },
   {
    "duration": 263,
    "start_time": "2023-10-24T14:25:02.750Z"
   },
   {
    "duration": 35,
    "start_time": "2023-10-24T14:25:03.016Z"
   },
   {
    "duration": 327,
    "start_time": "2023-10-24T14:25:03.052Z"
   },
   {
    "duration": 338,
    "start_time": "2023-10-24T14:25:03.381Z"
   },
   {
    "duration": 2679,
    "start_time": "2023-10-24T14:25:03.722Z"
   },
   {
    "duration": 37,
    "start_time": "2023-10-24T14:25:06.403Z"
   },
   {
    "duration": 71,
    "start_time": "2023-10-24T14:25:06.442Z"
   },
   {
    "duration": 49,
    "start_time": "2023-10-24T14:25:06.515Z"
   },
   {
    "duration": 52,
    "start_time": "2023-10-24T14:25:06.566Z"
   },
   {
    "duration": 53,
    "start_time": "2023-10-24T14:25:06.620Z"
   },
   {
    "duration": 26,
    "start_time": "2023-10-24T14:25:06.675Z"
   },
   {
    "duration": 127,
    "start_time": "2023-10-24T14:25:06.703Z"
   },
   {
    "duration": 154,
    "start_time": "2023-10-24T14:25:06.832Z"
   },
   {
    "duration": 119,
    "start_time": "2023-10-24T14:25:06.990Z"
   },
   {
    "duration": 249,
    "start_time": "2023-10-24T14:25:07.112Z"
   },
   {
    "duration": 257,
    "start_time": "2023-10-24T14:25:07.364Z"
   },
   {
    "duration": 26,
    "start_time": "2023-10-24T14:25:07.623Z"
   },
   {
    "duration": 1934,
    "start_time": "2023-10-24T14:25:07.652Z"
   },
   {
    "duration": 11,
    "start_time": "2023-10-24T14:25:09.588Z"
   },
   {
    "duration": 109,
    "start_time": "2023-10-24T14:25:09.600Z"
   },
   {
    "duration": 75,
    "start_time": "2023-10-24T14:25:09.711Z"
   },
   {
    "duration": 401,
    "start_time": "2023-10-24T14:25:09.789Z"
   },
   {
    "duration": 6,
    "start_time": "2023-10-24T14:25:10.192Z"
   },
   {
    "duration": 309,
    "start_time": "2023-10-24T14:25:10.199Z"
   },
   {
    "duration": 127,
    "start_time": "2023-10-24T14:25:10.511Z"
   },
   {
    "duration": 4,
    "start_time": "2023-10-24T14:25:23.809Z"
   },
   {
    "duration": 138,
    "start_time": "2023-10-24T14:25:23.815Z"
   },
   {
    "duration": 23,
    "start_time": "2023-10-24T14:25:23.955Z"
   },
   {
    "duration": 68,
    "start_time": "2023-10-24T14:25:23.981Z"
   },
   {
    "duration": 116,
    "start_time": "2023-10-24T14:25:24.052Z"
   },
   {
    "duration": 2558,
    "start_time": "2023-10-24T14:25:24.170Z"
   },
   {
    "duration": 15,
    "start_time": "2023-10-24T14:25:26.730Z"
   },
   {
    "duration": 26,
    "start_time": "2023-10-24T14:25:26.748Z"
   },
   {
    "duration": 4,
    "start_time": "2023-10-24T14:25:26.778Z"
   },
   {
    "duration": 16,
    "start_time": "2023-10-24T14:25:26.784Z"
   },
   {
    "duration": 52,
    "start_time": "2023-10-24T14:25:26.802Z"
   },
   {
    "duration": 7,
    "start_time": "2023-10-24T14:25:26.857Z"
   },
   {
    "duration": 34,
    "start_time": "2023-10-24T14:25:26.866Z"
   },
   {
    "duration": 32,
    "start_time": "2023-10-24T14:25:26.912Z"
   },
   {
    "duration": 12,
    "start_time": "2023-10-24T14:25:26.948Z"
   },
   {
    "duration": 25,
    "start_time": "2023-10-24T14:25:26.962Z"
   },
   {
    "duration": 316,
    "start_time": "2023-10-24T14:25:26.990Z"
   },
   {
    "duration": 21,
    "start_time": "2023-10-24T14:25:27.309Z"
   },
   {
    "duration": 1728,
    "start_time": "2023-10-24T14:25:27.332Z"
   },
   {
    "duration": 14,
    "start_time": "2023-10-24T14:25:29.063Z"
   },
   {
    "duration": 38,
    "start_time": "2023-10-24T14:25:29.079Z"
   },
   {
    "duration": 58,
    "start_time": "2023-10-24T14:25:29.119Z"
   },
   {
    "duration": 542,
    "start_time": "2023-10-24T14:25:29.179Z"
   },
   {
    "duration": 4,
    "start_time": "2023-10-24T14:25:29.727Z"
   },
   {
    "duration": 105,
    "start_time": "2023-10-24T14:25:29.738Z"
   },
   {
    "duration": 123,
    "start_time": "2023-10-24T14:25:29.846Z"
   },
   {
    "duration": 4,
    "start_time": "2023-10-24T14:25:41.994Z"
   },
   {
    "duration": 177,
    "start_time": "2023-10-24T14:25:42.005Z"
   },
   {
    "duration": 24,
    "start_time": "2023-10-24T14:25:42.185Z"
   },
   {
    "duration": 110,
    "start_time": "2023-10-24T14:25:42.212Z"
   },
   {
    "duration": 123,
    "start_time": "2023-10-24T14:25:42.325Z"
   },
   {
    "duration": 3218,
    "start_time": "2023-10-24T14:25:42.451Z"
   },
   {
    "duration": 15,
    "start_time": "2023-10-24T14:25:45.671Z"
   },
   {
    "duration": 78,
    "start_time": "2023-10-24T14:25:45.689Z"
   },
   {
    "duration": 37,
    "start_time": "2023-10-24T14:25:45.769Z"
   },
   {
    "duration": 41,
    "start_time": "2023-10-24T14:25:45.810Z"
   },
   {
    "duration": 106,
    "start_time": "2023-10-24T14:25:45.854Z"
   },
   {
    "duration": 29,
    "start_time": "2023-10-24T14:25:45.963Z"
   },
   {
    "duration": 69,
    "start_time": "2023-10-24T14:25:45.994Z"
   },
   {
    "duration": 75,
    "start_time": "2023-10-24T14:25:46.065Z"
   },
   {
    "duration": 21,
    "start_time": "2023-10-24T14:25:46.142Z"
   },
   {
    "duration": 30,
    "start_time": "2023-10-24T14:25:46.166Z"
   },
   {
    "duration": 307,
    "start_time": "2023-10-24T14:25:46.198Z"
   },
   {
    "duration": 21,
    "start_time": "2023-10-24T14:25:46.507Z"
   },
   {
    "duration": 2079,
    "start_time": "2023-10-24T14:25:46.538Z"
   },
   {
    "duration": 25,
    "start_time": "2023-10-24T14:25:48.623Z"
   },
   {
    "duration": 8,
    "start_time": "2023-10-24T14:25:48.652Z"
   },
   {
    "duration": 58,
    "start_time": "2023-10-24T14:25:48.662Z"
   },
   {
    "duration": 396,
    "start_time": "2023-10-24T14:25:48.722Z"
   },
   {
    "duration": 13,
    "start_time": "2023-10-24T14:25:49.121Z"
   },
   {
    "duration": 56,
    "start_time": "2023-10-24T14:25:49.138Z"
   },
   {
    "duration": 58,
    "start_time": "2023-10-24T14:25:49.196Z"
   },
   {
    "duration": 45,
    "start_time": "2023-10-24T14:25:49.257Z"
   },
   {
    "duration": 5,
    "start_time": "2023-10-24T14:26:00.346Z"
   },
   {
    "duration": 156,
    "start_time": "2023-10-24T14:26:00.354Z"
   },
   {
    "duration": 35,
    "start_time": "2023-10-24T14:26:00.513Z"
   },
   {
    "duration": 134,
    "start_time": "2023-10-24T14:26:00.557Z"
   },
   {
    "duration": 113,
    "start_time": "2023-10-24T14:26:00.695Z"
   },
   {
    "duration": 2615,
    "start_time": "2023-10-24T14:26:00.810Z"
   },
   {
    "duration": 21,
    "start_time": "2023-10-24T14:26:03.427Z"
   },
   {
    "duration": 223,
    "start_time": "2023-10-24T14:26:03.452Z"
   },
   {
    "duration": 128,
    "start_time": "2023-10-24T14:26:03.678Z"
   },
   {
    "duration": 37,
    "start_time": "2023-10-24T14:26:03.808Z"
   },
   {
    "duration": 56,
    "start_time": "2023-10-24T14:26:03.848Z"
   },
   {
    "duration": 9,
    "start_time": "2023-10-24T14:26:03.906Z"
   },
   {
    "duration": 15,
    "start_time": "2023-10-24T14:26:03.918Z"
   },
   {
    "duration": 51,
    "start_time": "2023-10-24T14:26:03.937Z"
   },
   {
    "duration": 10,
    "start_time": "2023-10-24T14:26:03.990Z"
   },
   {
    "duration": 30,
    "start_time": "2023-10-24T14:26:04.002Z"
   },
   {
    "duration": 299,
    "start_time": "2023-10-24T14:26:04.034Z"
   },
   {
    "duration": 11,
    "start_time": "2023-10-24T14:26:04.335Z"
   },
   {
    "duration": 1952,
    "start_time": "2023-10-24T14:26:04.348Z"
   },
   {
    "duration": 29,
    "start_time": "2023-10-24T14:26:06.302Z"
   },
   {
    "duration": 20,
    "start_time": "2023-10-24T14:26:06.333Z"
   },
   {
    "duration": 15,
    "start_time": "2023-10-24T14:26:06.367Z"
   },
   {
    "duration": 364,
    "start_time": "2023-10-24T14:26:06.384Z"
   },
   {
    "duration": 6,
    "start_time": "2023-10-24T14:26:06.750Z"
   },
   {
    "duration": 80,
    "start_time": "2023-10-24T14:26:06.759Z"
   },
   {
    "duration": 14,
    "start_time": "2023-10-24T14:26:06.849Z"
   },
   {
    "duration": 20,
    "start_time": "2023-10-24T14:26:06.865Z"
   },
   {
    "duration": 36,
    "start_time": "2023-10-24T14:26:06.888Z"
   },
   {
    "duration": 3,
    "start_time": "2023-10-24T14:26:31.369Z"
   },
   {
    "duration": 181,
    "start_time": "2023-10-24T14:26:31.374Z"
   },
   {
    "duration": 25,
    "start_time": "2023-10-24T14:26:31.558Z"
   },
   {
    "duration": 80,
    "start_time": "2023-10-24T14:26:31.585Z"
   },
   {
    "duration": 119,
    "start_time": "2023-10-24T14:26:31.669Z"
   },
   {
    "duration": 2701,
    "start_time": "2023-10-24T14:26:31.791Z"
   },
   {
    "duration": 11,
    "start_time": "2023-10-24T14:26:34.494Z"
   },
   {
    "duration": 63,
    "start_time": "2023-10-24T14:26:34.508Z"
   },
   {
    "duration": 4,
    "start_time": "2023-10-24T14:26:34.573Z"
   },
   {
    "duration": 11,
    "start_time": "2023-10-24T14:26:34.579Z"
   },
   {
    "duration": 48,
    "start_time": "2023-10-24T14:26:34.594Z"
   },
   {
    "duration": 24,
    "start_time": "2023-10-24T14:26:34.644Z"
   },
   {
    "duration": 31,
    "start_time": "2023-10-24T14:26:34.670Z"
   },
   {
    "duration": 59,
    "start_time": "2023-10-24T14:26:34.703Z"
   },
   {
    "duration": 10,
    "start_time": "2023-10-24T14:26:34.764Z"
   },
   {
    "duration": 23,
    "start_time": "2023-10-24T14:26:34.776Z"
   },
   {
    "duration": 268,
    "start_time": "2023-10-24T14:26:34.801Z"
   },
   {
    "duration": 10,
    "start_time": "2023-10-24T14:26:35.071Z"
   },
   {
    "duration": 1880,
    "start_time": "2023-10-24T14:26:35.083Z"
   },
   {
    "duration": 15,
    "start_time": "2023-10-24T14:26:36.969Z"
   },
   {
    "duration": 15,
    "start_time": "2023-10-24T14:26:36.989Z"
   },
   {
    "duration": 48,
    "start_time": "2023-10-24T14:26:37.010Z"
   },
   {
    "duration": 406,
    "start_time": "2023-10-24T14:26:37.065Z"
   },
   {
    "duration": 6,
    "start_time": "2023-10-24T14:26:37.474Z"
   },
   {
    "duration": 63,
    "start_time": "2023-10-24T14:26:37.482Z"
   },
   {
    "duration": 30,
    "start_time": "2023-10-24T14:26:37.547Z"
   },
   {
    "duration": 3,
    "start_time": "2023-10-24T14:26:59.555Z"
   },
   {
    "duration": 174,
    "start_time": "2023-10-24T14:26:59.562Z"
   },
   {
    "duration": 27,
    "start_time": "2023-10-24T14:26:59.739Z"
   },
   {
    "duration": 94,
    "start_time": "2023-10-24T14:26:59.768Z"
   },
   {
    "duration": 106,
    "start_time": "2023-10-24T14:26:59.866Z"
   },
   {
    "duration": 2385,
    "start_time": "2023-10-24T14:26:59.974Z"
   },
   {
    "duration": 15,
    "start_time": "2023-10-24T14:27:02.362Z"
   },
   {
    "duration": 115,
    "start_time": "2023-10-24T14:27:02.379Z"
   },
   {
    "duration": 117,
    "start_time": "2023-10-24T14:27:02.496Z"
   },
   {
    "duration": 136,
    "start_time": "2023-10-24T14:27:02.617Z"
   },
   {
    "duration": 107,
    "start_time": "2023-10-24T14:27:02.755Z"
   },
   {
    "duration": 300,
    "start_time": "2023-10-24T14:27:02.865Z"
   },
   {
    "duration": 113,
    "start_time": "2023-10-24T14:27:03.168Z"
   },
   {
    "duration": 273,
    "start_time": "2023-10-24T14:27:03.285Z"
   },
   {
    "duration": 133,
    "start_time": "2023-10-24T14:27:03.560Z"
   },
   {
    "duration": 119,
    "start_time": "2023-10-24T14:27:03.695Z"
   },
   {
    "duration": 539,
    "start_time": "2023-10-24T14:27:03.816Z"
   },
   {
    "duration": 14,
    "start_time": "2023-10-24T14:27:04.361Z"
   },
   {
    "duration": 2324,
    "start_time": "2023-10-24T14:27:04.380Z"
   },
   {
    "duration": 26,
    "start_time": "2023-10-24T14:27:06.706Z"
   },
   {
    "duration": 25,
    "start_time": "2023-10-24T14:27:06.735Z"
   },
   {
    "duration": 33,
    "start_time": "2023-10-24T14:27:06.762Z"
   },
   {
    "duration": 453,
    "start_time": "2023-10-24T14:27:06.797Z"
   },
   {
    "duration": 5,
    "start_time": "2023-10-24T14:27:07.252Z"
   },
   {
    "duration": 120,
    "start_time": "2023-10-24T14:27:07.259Z"
   },
   {
    "duration": 19,
    "start_time": "2023-10-24T14:27:07.381Z"
   },
   {
    "duration": 55,
    "start_time": "2023-10-24T14:27:07.402Z"
   },
   {
    "duration": 49,
    "start_time": "2023-10-24T14:27:07.460Z"
   },
   {
    "duration": 36,
    "start_time": "2023-10-24T14:27:52.812Z"
   },
   {
    "duration": 14,
    "start_time": "2023-10-24T14:28:31.174Z"
   },
   {
    "duration": 19,
    "start_time": "2023-10-24T14:28:45.123Z"
   },
   {
    "duration": 20,
    "start_time": "2023-10-24T14:28:51.640Z"
   },
   {
    "duration": 11,
    "start_time": "2023-10-24T14:28:58.886Z"
   },
   {
    "duration": 14,
    "start_time": "2023-10-24T14:29:06.003Z"
   },
   {
    "duration": 12,
    "start_time": "2023-10-24T14:29:11.670Z"
   },
   {
    "duration": 7,
    "start_time": "2023-10-24T14:29:35.649Z"
   },
   {
    "duration": 219,
    "start_time": "2023-10-24T14:29:35.658Z"
   },
   {
    "duration": 28,
    "start_time": "2023-10-24T14:29:35.880Z"
   },
   {
    "duration": 82,
    "start_time": "2023-10-24T14:29:35.910Z"
   },
   {
    "duration": 104,
    "start_time": "2023-10-24T14:29:35.995Z"
   },
   {
    "duration": 2746,
    "start_time": "2023-10-24T14:29:36.101Z"
   },
   {
    "duration": 16,
    "start_time": "2023-10-24T14:29:38.849Z"
   },
   {
    "duration": 220,
    "start_time": "2023-10-24T14:29:38.867Z"
   },
   {
    "duration": 119,
    "start_time": "2023-10-24T14:29:39.090Z"
   },
   {
    "duration": 29,
    "start_time": "2023-10-24T14:29:39.212Z"
   },
   {
    "duration": 51,
    "start_time": "2023-10-24T14:29:39.243Z"
   },
   {
    "duration": 45,
    "start_time": "2023-10-24T14:29:39.296Z"
   },
   {
    "duration": 26,
    "start_time": "2023-10-24T14:29:39.347Z"
   },
   {
    "duration": 39,
    "start_time": "2023-10-24T14:29:39.378Z"
   },
   {
    "duration": 20,
    "start_time": "2023-10-24T14:29:39.419Z"
   },
   {
    "duration": 26,
    "start_time": "2023-10-24T14:29:39.448Z"
   },
   {
    "duration": 281,
    "start_time": "2023-10-24T14:29:39.476Z"
   },
   {
    "duration": 12,
    "start_time": "2023-10-24T14:29:39.759Z"
   },
   {
    "duration": 1707,
    "start_time": "2023-10-24T14:29:39.773Z"
   },
   {
    "duration": 13,
    "start_time": "2023-10-24T14:29:41.483Z"
   },
   {
    "duration": 54,
    "start_time": "2023-10-24T14:29:41.498Z"
   },
   {
    "duration": 44,
    "start_time": "2023-10-24T14:29:41.555Z"
   },
   {
    "duration": 383,
    "start_time": "2023-10-24T14:29:41.601Z"
   },
   {
    "duration": 5,
    "start_time": "2023-10-24T14:29:41.986Z"
   },
   {
    "duration": 63,
    "start_time": "2023-10-24T14:29:41.993Z"
   },
   {
    "duration": 263,
    "start_time": "2023-10-24T14:29:42.059Z"
   },
   {
    "duration": 171,
    "start_time": "2023-10-24T14:29:42.324Z"
   },
   {
    "duration": 104,
    "start_time": "2023-10-24T14:29:42.497Z"
   },
   {
    "duration": 20,
    "start_time": "2023-10-24T14:29:42.603Z"
   },
   {
    "duration": 3,
    "start_time": "2023-10-24T14:30:34.779Z"
   },
   {
    "duration": 190,
    "start_time": "2023-10-24T14:30:34.785Z"
   },
   {
    "duration": 21,
    "start_time": "2023-10-24T14:30:34.992Z"
   },
   {
    "duration": 59,
    "start_time": "2023-10-24T14:30:35.016Z"
   },
   {
    "duration": 98,
    "start_time": "2023-10-24T14:30:35.077Z"
   },
   {
    "duration": 2478,
    "start_time": "2023-10-24T14:30:35.177Z"
   },
   {
    "duration": 19,
    "start_time": "2023-10-24T14:30:37.661Z"
   },
   {
    "duration": 14,
    "start_time": "2023-10-24T14:30:37.684Z"
   },
   {
    "duration": 12,
    "start_time": "2023-10-24T14:30:37.702Z"
   },
   {
    "duration": 38,
    "start_time": "2023-10-24T14:30:37.716Z"
   },
   {
    "duration": 34,
    "start_time": "2023-10-24T14:30:37.777Z"
   },
   {
    "duration": 7,
    "start_time": "2023-10-24T14:30:37.813Z"
   },
   {
    "duration": 45,
    "start_time": "2023-10-24T14:30:37.822Z"
   },
   {
    "duration": 32,
    "start_time": "2023-10-24T14:30:37.871Z"
   },
   {
    "duration": 9,
    "start_time": "2023-10-24T14:30:37.905Z"
   },
   {
    "duration": 43,
    "start_time": "2023-10-24T14:30:37.916Z"
   },
   {
    "duration": 217,
    "start_time": "2023-10-24T14:30:37.966Z"
   },
   {
    "duration": 8,
    "start_time": "2023-10-24T14:30:38.185Z"
   },
   {
    "duration": 1721,
    "start_time": "2023-10-24T14:30:38.195Z"
   },
   {
    "duration": 25,
    "start_time": "2023-10-24T14:30:39.918Z"
   },
   {
    "duration": 8,
    "start_time": "2023-10-24T14:30:39.945Z"
   },
   {
    "duration": 38,
    "start_time": "2023-10-24T14:30:39.961Z"
   },
   {
    "duration": 477,
    "start_time": "2023-10-24T14:30:40.001Z"
   },
   {
    "duration": 6,
    "start_time": "2023-10-24T14:30:40.483Z"
   },
   {
    "duration": 87,
    "start_time": "2023-10-24T14:30:40.492Z"
   },
   {
    "duration": 10,
    "start_time": "2023-10-24T14:30:40.582Z"
   },
   {
    "duration": 13,
    "start_time": "2023-10-24T14:30:40.593Z"
   },
   {
    "duration": 52,
    "start_time": "2023-10-24T14:30:40.608Z"
   },
   {
    "duration": 10,
    "start_time": "2023-10-24T14:30:40.661Z"
   },
   {
    "duration": 248,
    "start_time": "2023-10-24T14:30:40.673Z"
   },
   {
    "duration": 12,
    "start_time": "2023-10-24T14:30:40.936Z"
   },
   {
    "duration": 11,
    "start_time": "2023-10-24T14:30:40.950Z"
   },
   {
    "duration": 14,
    "start_time": "2023-10-24T14:30:40.963Z"
   },
   {
    "duration": 13,
    "start_time": "2023-10-24T14:30:40.979Z"
   },
   {
    "duration": 18,
    "start_time": "2023-10-24T14:31:40.888Z"
   },
   {
    "duration": 12,
    "start_time": "2023-10-24T14:31:50.278Z"
   },
   {
    "duration": 18,
    "start_time": "2023-10-24T14:32:02.147Z"
   },
   {
    "duration": 48,
    "start_time": "2023-10-25T19:26:44.415Z"
   },
   {
    "duration": 813,
    "start_time": "2023-10-25T19:26:50.479Z"
   },
   {
    "duration": 306,
    "start_time": "2023-10-25T19:26:51.294Z"
   },
   {
    "duration": 17,
    "start_time": "2023-10-25T19:26:51.602Z"
   },
   {
    "duration": 45,
    "start_time": "2023-10-25T19:26:51.621Z"
   },
   {
    "duration": 93,
    "start_time": "2023-10-25T19:26:51.668Z"
   },
   {
    "duration": 1947,
    "start_time": "2023-10-25T19:26:51.763Z"
   },
   {
    "duration": 11,
    "start_time": "2023-10-25T19:26:53.712Z"
   },
   {
    "duration": 17,
    "start_time": "2023-10-25T19:26:53.725Z"
   },
   {
    "duration": 14,
    "start_time": "2023-10-25T19:26:53.744Z"
   },
   {
    "duration": 6,
    "start_time": "2023-10-25T19:26:53.761Z"
   },
   {
    "duration": 42,
    "start_time": "2023-10-25T19:26:53.768Z"
   },
   {
    "duration": 5,
    "start_time": "2023-10-25T19:26:53.812Z"
   },
   {
    "duration": 25,
    "start_time": "2023-10-25T19:26:53.819Z"
   },
   {
    "duration": 31,
    "start_time": "2023-10-25T19:26:53.846Z"
   },
   {
    "duration": 6,
    "start_time": "2023-10-25T19:26:53.878Z"
   },
   {
    "duration": 27,
    "start_time": "2023-10-25T19:26:53.886Z"
   },
   {
    "duration": 152,
    "start_time": "2023-10-25T19:26:53.914Z"
   },
   {
    "duration": 7,
    "start_time": "2023-10-25T19:26:54.068Z"
   },
   {
    "duration": 1297,
    "start_time": "2023-10-25T19:26:54.077Z"
   },
   {
    "duration": 8,
    "start_time": "2023-10-25T19:26:55.375Z"
   },
   {
    "duration": 18,
    "start_time": "2023-10-25T19:26:55.385Z"
   },
   {
    "duration": 25,
    "start_time": "2023-10-25T19:26:55.405Z"
   },
   {
    "duration": 291,
    "start_time": "2023-10-25T19:26:55.432Z"
   },
   {
    "duration": 4,
    "start_time": "2023-10-25T19:26:55.724Z"
   },
   {
    "duration": 51,
    "start_time": "2023-10-25T19:26:55.730Z"
   },
   {
    "duration": 3,
    "start_time": "2023-10-25T19:26:55.783Z"
   },
   {
    "duration": 13,
    "start_time": "2023-10-25T19:26:55.788Z"
   },
   {
    "duration": 12,
    "start_time": "2023-10-25T19:26:55.805Z"
   },
   {
    "duration": 8,
    "start_time": "2023-10-25T19:26:55.818Z"
   },
   {
    "duration": 8,
    "start_time": "2023-10-25T19:26:55.828Z"
   },
   {
    "duration": 186,
    "start_time": "2023-10-25T19:26:55.838Z"
   },
   {
    "duration": 9,
    "start_time": "2023-10-25T19:26:56.026Z"
   },
   {
    "duration": 17,
    "start_time": "2023-10-25T19:26:56.037Z"
   },
   {
    "duration": 11,
    "start_time": "2023-10-25T19:26:56.055Z"
   },
   {
    "duration": 4,
    "start_time": "2023-10-25T19:26:56.068Z"
   },
   {
    "duration": 195,
    "start_time": "2023-10-25T19:26:56.074Z"
   },
   {
    "duration": 10,
    "start_time": "2023-10-25T19:26:56.271Z"
   },
   {
    "duration": 23,
    "start_time": "2023-10-25T19:26:56.283Z"
   },
   {
    "duration": 273,
    "start_time": "2023-10-25T19:26:56.308Z"
   },
   {
    "duration": 22,
    "start_time": "2023-10-25T19:26:56.583Z"
   },
   {
    "duration": 9,
    "start_time": "2023-10-25T19:26:56.608Z"
   },
   {
    "duration": 178,
    "start_time": "2023-10-25T19:26:56.618Z"
   },
   {
    "duration": 8,
    "start_time": "2023-10-25T19:26:56.802Z"
   },
   {
    "duration": 70,
    "start_time": "2023-10-25T19:26:56.811Z"
   },
   {
    "duration": 160,
    "start_time": "2023-10-25T19:26:56.882Z"
   },
   {
    "duration": 9,
    "start_time": "2023-10-25T19:26:57.043Z"
   },
   {
    "duration": 70,
    "start_time": "2023-10-25T19:26:57.053Z"
   },
   {
    "duration": 23,
    "start_time": "2023-10-25T19:26:57.125Z"
   },
   {
    "duration": 178,
    "start_time": "2023-10-25T19:26:57.150Z"
   },
   {
    "duration": 10,
    "start_time": "2023-10-25T19:26:57.330Z"
   },
   {
    "duration": 214,
    "start_time": "2023-10-25T19:26:57.342Z"
   },
   {
    "duration": 8,
    "start_time": "2023-10-25T19:26:57.558Z"
   },
   {
    "duration": 201,
    "start_time": "2023-10-25T19:26:57.568Z"
   },
   {
    "duration": 9,
    "start_time": "2023-10-25T19:26:57.771Z"
   },
   {
    "duration": 20,
    "start_time": "2023-10-25T19:26:57.782Z"
   },
   {
    "duration": 169,
    "start_time": "2023-10-25T19:26:57.804Z"
   },
   {
    "duration": 8,
    "start_time": "2023-10-25T19:26:57.974Z"
   },
   {
    "duration": 183,
    "start_time": "2023-10-25T19:26:57.984Z"
   },
   {
    "duration": 8,
    "start_time": "2023-10-25T19:26:58.169Z"
   },
   {
    "duration": 180,
    "start_time": "2023-10-25T19:26:58.179Z"
   },
   {
    "duration": 8,
    "start_time": "2023-10-25T19:26:58.361Z"
   },
   {
    "duration": 215,
    "start_time": "2023-10-25T19:26:58.371Z"
   },
   {
    "duration": 191,
    "start_time": "2023-10-25T19:26:58.588Z"
   },
   {
    "duration": 7,
    "start_time": "2023-10-25T19:26:58.781Z"
   },
   {
    "duration": 4,
    "start_time": "2023-10-25T19:26:58.801Z"
   },
   {
    "duration": 238,
    "start_time": "2023-10-25T19:26:58.806Z"
   },
   {
    "duration": 164,
    "start_time": "2023-10-25T19:26:59.045Z"
   },
   {
    "duration": 4,
    "start_time": "2023-10-25T19:26:59.210Z"
   },
   {
    "duration": 178,
    "start_time": "2023-10-25T19:26:59.216Z"
   },
   {
    "duration": 8,
    "start_time": "2023-10-25T19:26:59.396Z"
   },
   {
    "duration": 181,
    "start_time": "2023-10-25T19:26:59.406Z"
   },
   {
    "duration": 5,
    "start_time": "2023-10-25T19:26:59.588Z"
   },
   {
    "duration": 160,
    "start_time": "2023-10-25T19:26:59.601Z"
   },
   {
    "duration": 162,
    "start_time": "2023-10-25T19:26:59.763Z"
   },
   {
    "duration": 174,
    "start_time": "2023-10-25T19:26:59.927Z"
   },
   {
    "duration": 175,
    "start_time": "2023-10-25T19:27:00.103Z"
   },
   {
    "duration": 163,
    "start_time": "2023-10-25T19:27:00.280Z"
   },
   {
    "duration": 5,
    "start_time": "2023-10-25T19:27:00.445Z"
   },
   {
    "duration": 54,
    "start_time": "2023-10-25T19:27:00.452Z"
   },
   {
    "duration": 75,
    "start_time": "2023-10-25T19:27:00.508Z"
   },
   {
    "duration": 34,
    "start_time": "2023-10-25T19:27:00.585Z"
   },
   {
    "duration": 56,
    "start_time": "2023-10-25T19:27:00.624Z"
   },
   {
    "duration": 128,
    "start_time": "2023-10-25T19:27:00.682Z"
   },
   {
    "duration": 217,
    "start_time": "2023-10-25T19:27:00.812Z"
   },
   {
    "duration": 311,
    "start_time": "2023-10-25T19:27:01.032Z"
   },
   {
    "duration": 5,
    "start_time": "2023-10-25T19:27:23.412Z"
   },
   {
    "duration": 4,
    "start_time": "2023-10-25T19:28:38.650Z"
   },
   {
    "duration": 9,
    "start_time": "2023-10-25T19:28:57.005Z"
   },
   {
    "duration": 2,
    "start_time": "2023-10-25T19:29:06.920Z"
   },
   {
    "duration": 147,
    "start_time": "2023-10-25T19:29:06.924Z"
   },
   {
    "duration": 14,
    "start_time": "2023-10-25T19:29:07.073Z"
   },
   {
    "duration": 51,
    "start_time": "2023-10-25T19:29:07.089Z"
   },
   {
    "duration": 240,
    "start_time": "2023-10-25T19:29:07.142Z"
   },
   {
    "duration": 1856,
    "start_time": "2023-10-25T19:29:07.384Z"
   },
   {
    "duration": 9,
    "start_time": "2023-10-25T19:29:09.242Z"
   },
   {
    "duration": 20,
    "start_time": "2023-10-25T19:29:09.253Z"
   },
   {
    "duration": 18,
    "start_time": "2023-10-25T19:29:09.275Z"
   },
   {
    "duration": 37,
    "start_time": "2023-10-25T19:29:09.295Z"
   },
   {
    "duration": 52,
    "start_time": "2023-10-25T19:29:09.334Z"
   },
   {
    "duration": 7,
    "start_time": "2023-10-25T19:29:09.387Z"
   },
   {
    "duration": 16,
    "start_time": "2023-10-25T19:29:09.396Z"
   },
   {
    "duration": 79,
    "start_time": "2023-10-25T19:29:09.414Z"
   },
   {
    "duration": 17,
    "start_time": "2023-10-25T19:29:09.495Z"
   },
   {
    "duration": 25,
    "start_time": "2023-10-25T19:29:09.514Z"
   },
   {
    "duration": 158,
    "start_time": "2023-10-25T19:29:09.541Z"
   },
   {
    "duration": 6,
    "start_time": "2023-10-25T19:29:09.701Z"
   },
   {
    "duration": 1296,
    "start_time": "2023-10-25T19:29:09.709Z"
   },
   {
    "duration": 9,
    "start_time": "2023-10-25T19:29:11.007Z"
   },
   {
    "duration": 18,
    "start_time": "2023-10-25T19:29:11.018Z"
   },
   {
    "duration": 15,
    "start_time": "2023-10-25T19:29:11.038Z"
   },
   {
    "duration": 356,
    "start_time": "2023-10-25T19:29:11.055Z"
   },
   {
    "duration": 5,
    "start_time": "2023-10-25T19:29:11.415Z"
   },
   {
    "duration": 43,
    "start_time": "2023-10-25T19:29:11.421Z"
   },
   {
    "duration": 13,
    "start_time": "2023-10-25T19:29:11.466Z"
   },
   {
    "duration": 29,
    "start_time": "2023-10-25T19:29:11.481Z"
   },
   {
    "duration": 18,
    "start_time": "2023-10-25T19:29:11.512Z"
   },
   {
    "duration": 13,
    "start_time": "2023-10-25T19:29:11.531Z"
   },
   {
    "duration": 9,
    "start_time": "2023-10-25T19:29:11.546Z"
   },
   {
    "duration": 181,
    "start_time": "2023-10-25T19:29:11.556Z"
   },
   {
    "duration": 9,
    "start_time": "2023-10-25T19:29:11.738Z"
   },
   {
    "duration": 31,
    "start_time": "2023-10-25T19:29:11.748Z"
   },
   {
    "duration": 10,
    "start_time": "2023-10-25T19:29:11.781Z"
   },
   {
    "duration": 18,
    "start_time": "2023-10-25T19:29:11.793Z"
   },
   {
    "duration": 187,
    "start_time": "2023-10-25T19:29:11.812Z"
   },
   {
    "duration": 10,
    "start_time": "2023-10-25T19:29:12.001Z"
   },
   {
    "duration": 16,
    "start_time": "2023-10-25T19:29:12.012Z"
   },
   {
    "duration": 206,
    "start_time": "2023-10-25T19:29:12.030Z"
   },
   {
    "duration": 8,
    "start_time": "2023-10-25T19:29:12.238Z"
   },
   {
    "duration": 22,
    "start_time": "2023-10-25T19:29:12.247Z"
   },
   {
    "duration": 196,
    "start_time": "2023-10-25T19:29:12.271Z"
   },
   {
    "duration": 8,
    "start_time": "2023-10-25T19:29:12.468Z"
   },
   {
    "duration": 17,
    "start_time": "2023-10-25T19:29:12.477Z"
   },
   {
    "duration": 151,
    "start_time": "2023-10-25T19:29:12.502Z"
   },
   {
    "duration": 8,
    "start_time": "2023-10-25T19:29:12.655Z"
   },
   {
    "duration": 18,
    "start_time": "2023-10-25T19:29:12.664Z"
   },
   {
    "duration": 18,
    "start_time": "2023-10-25T19:29:12.683Z"
   },
   {
    "duration": 187,
    "start_time": "2023-10-25T19:29:12.702Z"
   },
   {
    "duration": 12,
    "start_time": "2023-10-25T19:29:12.890Z"
   },
   {
    "duration": 201,
    "start_time": "2023-10-25T19:29:12.904Z"
   },
   {
    "duration": 8,
    "start_time": "2023-10-25T19:29:13.107Z"
   },
   {
    "duration": 220,
    "start_time": "2023-10-25T19:29:13.116Z"
   },
   {
    "duration": 8,
    "start_time": "2023-10-25T19:29:13.338Z"
   },
   {
    "duration": 8,
    "start_time": "2023-10-25T19:29:13.347Z"
   },
   {
    "duration": 174,
    "start_time": "2023-10-25T19:29:13.357Z"
   },
   {
    "duration": 8,
    "start_time": "2023-10-25T19:29:13.533Z"
   },
   {
    "duration": 221,
    "start_time": "2023-10-25T19:29:13.543Z"
   },
   {
    "duration": 7,
    "start_time": "2023-10-25T19:29:13.765Z"
   },
   {
    "duration": 305,
    "start_time": "2023-10-25T19:29:13.774Z"
   },
   {
    "duration": 7,
    "start_time": "2023-10-25T19:29:14.081Z"
   },
   {
    "duration": 339,
    "start_time": "2023-10-25T19:29:14.090Z"
   },
   {
    "duration": 84,
    "start_time": "2023-10-25T19:29:14.430Z"
   },
   {
    "duration": 8,
    "start_time": "2023-10-25T19:29:14.516Z"
   },
   {
    "duration": 37,
    "start_time": "2023-10-25T19:29:14.526Z"
   },
   {
    "duration": 303,
    "start_time": "2023-10-25T19:29:14.565Z"
   },
   {
    "duration": 156,
    "start_time": "2023-10-25T19:29:14.870Z"
   },
   {
    "duration": 5,
    "start_time": "2023-10-25T19:29:15.028Z"
   },
   {
    "duration": 216,
    "start_time": "2023-10-25T19:29:15.038Z"
   },
   {
    "duration": 5,
    "start_time": "2023-10-25T19:29:15.256Z"
   },
   {
    "duration": 180,
    "start_time": "2023-10-25T19:29:15.262Z"
   },
   {
    "duration": 5,
    "start_time": "2023-10-25T19:29:15.444Z"
   },
   {
    "duration": 188,
    "start_time": "2023-10-25T19:29:15.451Z"
   },
   {
    "duration": 164,
    "start_time": "2023-10-25T19:29:15.642Z"
   },
   {
    "duration": 174,
    "start_time": "2023-10-25T19:29:15.808Z"
   },
   {
    "duration": 166,
    "start_time": "2023-10-25T19:29:15.984Z"
   },
   {
    "duration": 176,
    "start_time": "2023-10-25T19:29:16.152Z"
   },
   {
    "duration": 5,
    "start_time": "2023-10-25T19:29:16.330Z"
   },
   {
    "duration": 8,
    "start_time": "2023-10-25T19:29:16.337Z"
   },
   {
    "duration": 28,
    "start_time": "2023-10-25T19:29:16.346Z"
   },
   {
    "duration": 27,
    "start_time": "2023-10-25T19:29:16.375Z"
   },
   {
    "duration": 7,
    "start_time": "2023-10-25T19:29:16.404Z"
   },
   {
    "duration": 14,
    "start_time": "2023-10-25T19:29:16.412Z"
   },
   {
    "duration": 20,
    "start_time": "2023-10-25T19:29:16.427Z"
   },
   {
    "duration": 179,
    "start_time": "2023-10-25T19:29:16.449Z"
   },
   {
    "duration": 110,
    "start_time": "2023-10-25T19:38:20.897Z"
   },
   {
    "duration": 9,
    "start_time": "2023-10-25T19:39:21.917Z"
   },
   {
    "duration": 242,
    "start_time": "2023-10-25T19:40:12.813Z"
   },
   {
    "duration": 9,
    "start_time": "2023-10-25T19:40:21.212Z"
   },
   {
    "duration": 108,
    "start_time": "2023-10-25T19:40:22.881Z"
   },
   {
    "duration": 128,
    "start_time": "2023-10-25T19:40:42.529Z"
   },
   {
    "duration": 9,
    "start_time": "2023-10-25T19:40:48.151Z"
   },
   {
    "duration": 107,
    "start_time": "2023-10-25T19:40:50.349Z"
   },
   {
    "duration": 7,
    "start_time": "2023-10-25T19:40:55.698Z"
   },
   {
    "duration": 106,
    "start_time": "2023-10-25T19:40:56.997Z"
   },
   {
    "duration": 7,
    "start_time": "2023-10-25T19:41:15.377Z"
   },
   {
    "duration": 95,
    "start_time": "2023-10-25T19:41:15.877Z"
   },
   {
    "duration": 10,
    "start_time": "2023-10-25T19:41:21.301Z"
   },
   {
    "duration": 135,
    "start_time": "2023-10-25T19:41:23.081Z"
   },
   {
    "duration": 4,
    "start_time": "2023-10-25T19:43:47.335Z"
   },
   {
    "duration": 5,
    "start_time": "2023-10-25T19:45:36.692Z"
   },
   {
    "duration": 2,
    "start_time": "2023-10-25T19:46:01.025Z"
   },
   {
    "duration": 170,
    "start_time": "2023-10-25T19:46:01.030Z"
   },
   {
    "duration": 14,
    "start_time": "2023-10-25T19:46:01.202Z"
   },
   {
    "duration": 262,
    "start_time": "2023-10-25T19:46:01.219Z"
   },
   {
    "duration": 333,
    "start_time": "2023-10-25T19:46:01.482Z"
   },
   {
    "duration": 2121,
    "start_time": "2023-10-25T19:46:01.817Z"
   },
   {
    "duration": 13,
    "start_time": "2023-10-25T19:46:03.940Z"
   },
   {
    "duration": 17,
    "start_time": "2023-10-25T19:46:03.955Z"
   },
   {
    "duration": 6,
    "start_time": "2023-10-25T19:46:03.973Z"
   },
   {
    "duration": 24,
    "start_time": "2023-10-25T19:46:03.981Z"
   },
   {
    "duration": 49,
    "start_time": "2023-10-25T19:46:04.007Z"
   },
   {
    "duration": 7,
    "start_time": "2023-10-25T19:46:04.058Z"
   },
   {
    "duration": 9,
    "start_time": "2023-10-25T19:46:04.066Z"
   },
   {
    "duration": 25,
    "start_time": "2023-10-25T19:46:04.076Z"
   },
   {
    "duration": 6,
    "start_time": "2023-10-25T19:46:04.103Z"
   },
   {
    "duration": 28,
    "start_time": "2023-10-25T19:46:04.110Z"
   },
   {
    "duration": 186,
    "start_time": "2023-10-25T19:46:04.139Z"
   },
   {
    "duration": 9,
    "start_time": "2023-10-25T19:46:04.327Z"
   },
   {
    "duration": 1333,
    "start_time": "2023-10-25T19:46:04.338Z"
   },
   {
    "duration": 38,
    "start_time": "2023-10-25T19:46:05.672Z"
   },
   {
    "duration": 12,
    "start_time": "2023-10-25T19:46:05.712Z"
   },
   {
    "duration": 44,
    "start_time": "2023-10-25T19:46:05.726Z"
   },
   {
    "duration": 344,
    "start_time": "2023-10-25T19:46:05.772Z"
   },
   {
    "duration": 4,
    "start_time": "2023-10-25T19:46:06.118Z"
   },
   {
    "duration": 87,
    "start_time": "2023-10-25T19:46:06.124Z"
   },
   {
    "duration": 4,
    "start_time": "2023-10-25T19:46:06.213Z"
   },
   {
    "duration": 22,
    "start_time": "2023-10-25T19:46:06.220Z"
   },
   {
    "duration": 178,
    "start_time": "2023-10-25T19:46:06.246Z"
   },
   {
    "duration": 13,
    "start_time": "2023-10-25T19:46:06.425Z"
   },
   {
    "duration": 43,
    "start_time": "2023-10-25T19:46:06.440Z"
   },
   {
    "duration": 211,
    "start_time": "2023-10-25T19:46:06.485Z"
   },
   {
    "duration": 11,
    "start_time": "2023-10-25T19:46:06.701Z"
   },
   {
    "duration": 37,
    "start_time": "2023-10-25T19:46:06.714Z"
   },
   {
    "duration": 44,
    "start_time": "2023-10-25T19:46:06.752Z"
   },
   {
    "duration": 6,
    "start_time": "2023-10-25T19:46:06.797Z"
   },
   {
    "duration": 208,
    "start_time": "2023-10-25T19:46:06.804Z"
   },
   {
    "duration": 13,
    "start_time": "2023-10-25T19:46:07.014Z"
   },
   {
    "duration": 20,
    "start_time": "2023-10-25T19:46:07.029Z"
   },
   {
    "duration": 202,
    "start_time": "2023-10-25T19:46:07.051Z"
   },
   {
    "duration": 9,
    "start_time": "2023-10-25T19:46:07.254Z"
   },
   {
    "duration": 25,
    "start_time": "2023-10-25T19:46:07.264Z"
   },
   {
    "duration": 177,
    "start_time": "2023-10-25T19:46:07.290Z"
   },
   {
    "duration": 8,
    "start_time": "2023-10-25T19:46:07.469Z"
   },
   {
    "duration": 23,
    "start_time": "2023-10-25T19:46:07.478Z"
   },
   {
    "duration": 354,
    "start_time": "2023-10-25T19:46:07.503Z"
   },
   {
    "duration": 9,
    "start_time": "2023-10-25T19:46:07.859Z"
   },
   {
    "duration": 81,
    "start_time": "2023-10-25T19:46:07.870Z"
   },
   {
    "duration": 31,
    "start_time": "2023-10-25T19:46:07.953Z"
   },
   {
    "duration": 202,
    "start_time": "2023-10-25T19:46:07.986Z"
   },
   {
    "duration": 14,
    "start_time": "2023-10-25T19:46:08.190Z"
   },
   {
    "duration": 208,
    "start_time": "2023-10-25T19:46:08.206Z"
   },
   {
    "duration": 9,
    "start_time": "2023-10-25T19:46:08.416Z"
   },
   {
    "duration": 237,
    "start_time": "2023-10-25T19:46:08.426Z"
   },
   {
    "duration": 9,
    "start_time": "2023-10-25T19:46:08.666Z"
   },
   {
    "duration": 24,
    "start_time": "2023-10-25T19:46:08.677Z"
   },
   {
    "duration": 171,
    "start_time": "2023-10-25T19:46:08.703Z"
   },
   {
    "duration": 12,
    "start_time": "2023-10-25T19:46:08.875Z"
   },
   {
    "duration": 219,
    "start_time": "2023-10-25T19:46:08.889Z"
   },
   {
    "duration": 10,
    "start_time": "2023-10-25T19:46:09.110Z"
   },
   {
    "duration": 241,
    "start_time": "2023-10-25T19:46:09.122Z"
   },
   {
    "duration": 303,
    "start_time": "2023-10-25T19:46:09.366Z"
   },
   {
    "duration": 194,
    "start_time": "2023-10-25T19:46:09.671Z"
   },
   {
    "duration": 86,
    "start_time": "2023-10-25T19:46:09.866Z"
   },
   {
    "duration": 10,
    "start_time": "2023-10-25T19:46:09.954Z"
   },
   {
    "duration": 11,
    "start_time": "2023-10-25T19:46:09.965Z"
   },
   {
    "duration": 266,
    "start_time": "2023-10-25T19:46:09.978Z"
   },
   {
    "duration": 169,
    "start_time": "2023-10-25T19:46:10.246Z"
   },
   {
    "duration": 5,
    "start_time": "2023-10-25T19:46:10.417Z"
   },
   {
    "duration": 200,
    "start_time": "2023-10-25T19:46:10.423Z"
   },
   {
    "duration": 5,
    "start_time": "2023-10-25T19:46:10.624Z"
   },
   {
    "duration": 196,
    "start_time": "2023-10-25T19:46:10.631Z"
   },
   {
    "duration": 5,
    "start_time": "2023-10-25T19:46:10.829Z"
   },
   {
    "duration": 174,
    "start_time": "2023-10-25T19:46:10.836Z"
   },
   {
    "duration": 170,
    "start_time": "2023-10-25T19:46:11.012Z"
   },
   {
    "duration": 170,
    "start_time": "2023-10-25T19:46:11.184Z"
   },
   {
    "duration": 345,
    "start_time": "2023-10-25T19:46:11.356Z"
   },
   {
    "duration": 164,
    "start_time": "2023-10-25T19:46:11.704Z"
   },
   {
    "duration": 6,
    "start_time": "2023-10-25T19:46:11.870Z"
   },
   {
    "duration": 14,
    "start_time": "2023-10-25T19:46:11.878Z"
   },
   {
    "duration": 39,
    "start_time": "2023-10-25T19:46:11.894Z"
   },
   {
    "duration": 7,
    "start_time": "2023-10-25T19:46:11.935Z"
   },
   {
    "duration": 11,
    "start_time": "2023-10-25T19:46:11.947Z"
   },
   {
    "duration": 6,
    "start_time": "2023-10-25T19:46:11.960Z"
   },
   {
    "duration": 55,
    "start_time": "2023-10-25T19:46:11.968Z"
   },
   {
    "duration": 196,
    "start_time": "2023-10-25T19:46:12.025Z"
   },
   {
    "duration": 242,
    "start_time": "2023-10-25T19:48:15.219Z"
   },
   {
    "duration": 185,
    "start_time": "2023-10-25T19:48:29.201Z"
   },
   {
    "duration": 10,
    "start_time": "2023-10-25T19:49:40.524Z"
   },
   {
    "duration": 112,
    "start_time": "2023-10-25T19:51:06.800Z"
   },
   {
    "duration": 11,
    "start_time": "2023-10-25T19:51:44.704Z"
   },
   {
    "duration": 5,
    "start_time": "2023-10-25T19:55:11.619Z"
   },
   {
    "duration": 10,
    "start_time": "2023-10-25T19:55:39.021Z"
   },
   {
    "duration": 119,
    "start_time": "2023-10-25T19:56:27.708Z"
   },
   {
    "duration": 178,
    "start_time": "2023-10-25T19:57:16.806Z"
   },
   {
    "duration": 52,
    "start_time": "2023-10-25T19:57:34.673Z"
   },
   {
    "duration": 187,
    "start_time": "2023-10-25T19:57:42.326Z"
   },
   {
    "duration": 106,
    "start_time": "2023-10-25T19:58:56.751Z"
   },
   {
    "duration": 9,
    "start_time": "2023-10-25T19:59:01.984Z"
   },
   {
    "duration": 122,
    "start_time": "2023-10-25T19:59:03.224Z"
   },
   {
    "duration": 8,
    "start_time": "2023-10-25T19:59:08.686Z"
   },
   {
    "duration": 103,
    "start_time": "2023-10-25T19:59:09.523Z"
   },
   {
    "duration": 181,
    "start_time": "2023-10-25T19:59:37.182Z"
   },
   {
    "duration": 196,
    "start_time": "2023-10-25T19:59:43.935Z"
   },
   {
    "duration": 220,
    "start_time": "2023-10-25T20:00:05.500Z"
   },
   {
    "duration": 206,
    "start_time": "2023-10-25T20:00:27.929Z"
   },
   {
    "duration": 440,
    "start_time": "2023-10-25T20:00:37.119Z"
   },
   {
    "duration": 200,
    "start_time": "2023-10-25T20:00:56.012Z"
   },
   {
    "duration": 184,
    "start_time": "2023-10-25T20:01:28.288Z"
   },
   {
    "duration": 203,
    "start_time": "2023-10-25T20:02:00.407Z"
   },
   {
    "duration": 188,
    "start_time": "2023-10-25T20:02:10.014Z"
   },
   {
    "duration": 183,
    "start_time": "2023-10-25T20:02:46.603Z"
   },
   {
    "duration": 8,
    "start_time": "2023-10-25T20:02:57.079Z"
   },
   {
    "duration": 200,
    "start_time": "2023-10-25T20:02:58.038Z"
   },
   {
    "duration": 11,
    "start_time": "2023-10-25T20:03:49.991Z"
   },
   {
    "duration": 10,
    "start_time": "2023-10-25T20:03:57.949Z"
   },
   {
    "duration": 117,
    "start_time": "2023-10-25T20:06:06.748Z"
   },
   {
    "duration": 110,
    "start_time": "2023-10-25T20:07:22.907Z"
   },
   {
    "duration": 9,
    "start_time": "2023-10-25T20:07:40.018Z"
   },
   {
    "duration": 106,
    "start_time": "2023-10-25T20:07:40.645Z"
   },
   {
    "duration": 106,
    "start_time": "2023-10-25T20:07:49.441Z"
   },
   {
    "duration": 9,
    "start_time": "2023-10-25T20:08:02.652Z"
   },
   {
    "duration": 142,
    "start_time": "2023-10-25T20:08:03.195Z"
   },
   {
    "duration": 8,
    "start_time": "2023-10-25T20:08:08.795Z"
   },
   {
    "duration": 115,
    "start_time": "2023-10-25T20:08:09.325Z"
   },
   {
    "duration": 8,
    "start_time": "2023-10-25T20:08:15.203Z"
   },
   {
    "duration": 123,
    "start_time": "2023-10-25T20:08:15.783Z"
   },
   {
    "duration": 7,
    "start_time": "2023-10-25T20:08:29.972Z"
   },
   {
    "duration": 104,
    "start_time": "2023-10-25T20:08:30.543Z"
   },
   {
    "duration": 6,
    "start_time": "2023-10-25T20:08:39.806Z"
   },
   {
    "duration": 97,
    "start_time": "2023-10-25T20:08:40.429Z"
   },
   {
    "duration": 7,
    "start_time": "2023-10-25T20:08:43.883Z"
   },
   {
    "duration": 125,
    "start_time": "2023-10-25T20:08:44.495Z"
   },
   {
    "duration": 95,
    "start_time": "2023-10-25T20:08:51.091Z"
   },
   {
    "duration": 7,
    "start_time": "2023-10-25T20:08:52.117Z"
   },
   {
    "duration": 3,
    "start_time": "2023-10-25T20:09:01.380Z"
   },
   {
    "duration": 173,
    "start_time": "2023-10-25T20:09:01.385Z"
   },
   {
    "duration": 17,
    "start_time": "2023-10-25T20:09:01.561Z"
   },
   {
    "duration": 65,
    "start_time": "2023-10-25T20:09:01.580Z"
   },
   {
    "duration": 127,
    "start_time": "2023-10-25T20:09:01.648Z"
   },
   {
    "duration": 2170,
    "start_time": "2023-10-25T20:09:01.778Z"
   },
   {
    "duration": 11,
    "start_time": "2023-10-25T20:09:03.951Z"
   },
   {
    "duration": 28,
    "start_time": "2023-10-25T20:09:03.964Z"
   },
   {
    "duration": 8,
    "start_time": "2023-10-25T20:09:03.994Z"
   },
   {
    "duration": 24,
    "start_time": "2023-10-25T20:09:04.004Z"
   },
   {
    "duration": 51,
    "start_time": "2023-10-25T20:09:04.030Z"
   },
   {
    "duration": 8,
    "start_time": "2023-10-25T20:09:04.082Z"
   },
   {
    "duration": 12,
    "start_time": "2023-10-25T20:09:04.092Z"
   },
   {
    "duration": 23,
    "start_time": "2023-10-25T20:09:04.108Z"
   },
   {
    "duration": 6,
    "start_time": "2023-10-25T20:09:04.132Z"
   },
   {
    "duration": 14,
    "start_time": "2023-10-25T20:09:04.140Z"
   },
   {
    "duration": 205,
    "start_time": "2023-10-25T20:09:04.156Z"
   },
   {
    "duration": 7,
    "start_time": "2023-10-25T20:09:04.363Z"
   },
   {
    "duration": 1307,
    "start_time": "2023-10-25T20:09:04.372Z"
   },
   {
    "duration": 20,
    "start_time": "2023-10-25T20:09:05.681Z"
   },
   {
    "duration": 4,
    "start_time": "2023-10-25T20:09:05.703Z"
   },
   {
    "duration": 48,
    "start_time": "2023-10-25T20:09:05.708Z"
   },
   {
    "duration": 309,
    "start_time": "2023-10-25T20:09:05.758Z"
   },
   {
    "duration": 5,
    "start_time": "2023-10-25T20:09:06.068Z"
   },
   {
    "duration": 48,
    "start_time": "2023-10-25T20:09:06.075Z"
   },
   {
    "duration": 6,
    "start_time": "2023-10-25T20:09:06.125Z"
   },
   {
    "duration": 32,
    "start_time": "2023-10-25T20:09:06.133Z"
   },
   {
    "duration": 139,
    "start_time": "2023-10-25T20:09:06.168Z"
   },
   {
    "duration": 11,
    "start_time": "2023-10-25T20:09:06.309Z"
   },
   {
    "duration": 16,
    "start_time": "2023-10-25T20:09:06.322Z"
   },
   {
    "duration": 220,
    "start_time": "2023-10-25T20:09:06.339Z"
   },
   {
    "duration": 9,
    "start_time": "2023-10-25T20:09:06.560Z"
   },
   {
    "duration": 333,
    "start_time": "2023-10-25T20:09:06.571Z"
   },
   {
    "duration": 10,
    "start_time": "2023-10-25T20:09:06.907Z"
   },
   {
    "duration": 30,
    "start_time": "2023-10-25T20:09:06.919Z"
   },
   {
    "duration": 198,
    "start_time": "2023-10-25T20:09:06.951Z"
   },
   {
    "duration": 11,
    "start_time": "2023-10-25T20:09:07.151Z"
   },
   {
    "duration": 140,
    "start_time": "2023-10-25T20:09:07.163Z"
   },
   {
    "duration": 10,
    "start_time": "2023-10-25T20:09:07.305Z"
   },
   {
    "duration": 245,
    "start_time": "2023-10-25T20:09:07.317Z"
   },
   {
    "duration": 9,
    "start_time": "2023-10-25T20:09:07.567Z"
   },
   {
    "duration": 153,
    "start_time": "2023-10-25T20:09:07.577Z"
   },
   {
    "duration": 9,
    "start_time": "2023-10-25T20:09:07.733Z"
   },
   {
    "duration": 144,
    "start_time": "2023-10-25T20:09:07.744Z"
   },
   {
    "duration": 191,
    "start_time": "2023-10-25T20:09:07.900Z"
   },
   {
    "duration": 14,
    "start_time": "2023-10-25T20:09:08.093Z"
   },
   {
    "duration": 17,
    "start_time": "2023-10-25T20:09:08.109Z"
   },
   {
    "duration": 195,
    "start_time": "2023-10-25T20:09:08.128Z"
   },
   {
    "duration": 9,
    "start_time": "2023-10-25T20:09:08.325Z"
   },
   {
    "duration": 21,
    "start_time": "2023-10-25T20:09:08.336Z"
   },
   {
    "duration": 53,
    "start_time": "2023-10-25T20:09:08.358Z"
   },
   {
    "duration": 227,
    "start_time": "2023-10-25T20:09:08.413Z"
   },
   {
    "duration": 10,
    "start_time": "2023-10-25T20:09:08.642Z"
   },
   {
    "duration": 233,
    "start_time": "2023-10-25T20:09:08.655Z"
   },
   {
    "duration": 15,
    "start_time": "2023-10-25T20:09:08.891Z"
   },
   {
    "duration": 212,
    "start_time": "2023-10-25T20:09:08.908Z"
   },
   {
    "duration": 9,
    "start_time": "2023-10-25T20:09:09.122Z"
   },
   {
    "duration": 14,
    "start_time": "2023-10-25T20:09:09.133Z"
   },
   {
    "duration": 168,
    "start_time": "2023-10-25T20:09:09.148Z"
   },
   {
    "duration": 12,
    "start_time": "2023-10-25T20:09:09.318Z"
   },
   {
    "duration": 200,
    "start_time": "2023-10-25T20:09:09.332Z"
   },
   {
    "duration": 10,
    "start_time": "2023-10-25T20:09:09.534Z"
   },
   {
    "duration": 230,
    "start_time": "2023-10-25T20:09:09.546Z"
   },
   {
    "duration": 9,
    "start_time": "2023-10-25T20:09:09.778Z"
   },
   {
    "duration": 203,
    "start_time": "2023-10-25T20:09:09.788Z"
   },
   {
    "duration": 82,
    "start_time": "2023-10-25T20:09:09.993Z"
   },
   {
    "duration": 9,
    "start_time": "2023-10-25T20:09:10.076Z"
   },
   {
    "duration": 12,
    "start_time": "2023-10-25T20:09:10.101Z"
   },
   {
    "duration": 269,
    "start_time": "2023-10-25T20:09:10.114Z"
   },
   {
    "duration": 183,
    "start_time": "2023-10-25T20:09:10.385Z"
   },
   {
    "duration": 5,
    "start_time": "2023-10-25T20:09:10.570Z"
   },
   {
    "duration": 187,
    "start_time": "2023-10-25T20:09:10.577Z"
   },
   {
    "duration": 4,
    "start_time": "2023-10-25T20:09:10.766Z"
   },
   {
    "duration": 195,
    "start_time": "2023-10-25T20:09:10.772Z"
   },
   {
    "duration": 4,
    "start_time": "2023-10-25T20:09:10.969Z"
   },
   {
    "duration": 185,
    "start_time": "2023-10-25T20:09:10.975Z"
   },
   {
    "duration": 425,
    "start_time": "2023-10-25T20:09:11.162Z"
   },
   {
    "duration": 176,
    "start_time": "2023-10-25T20:09:11.589Z"
   },
   {
    "duration": 175,
    "start_time": "2023-10-25T20:09:11.767Z"
   },
   {
    "duration": 176,
    "start_time": "2023-10-25T20:09:11.943Z"
   },
   {
    "duration": 5,
    "start_time": "2023-10-25T20:09:12.121Z"
   },
   {
    "duration": 18,
    "start_time": "2023-10-25T20:09:12.128Z"
   },
   {
    "duration": 83,
    "start_time": "2023-10-25T20:09:12.147Z"
   },
   {
    "duration": 57,
    "start_time": "2023-10-25T20:09:12.231Z"
   },
   {
    "duration": 84,
    "start_time": "2023-10-25T20:09:12.290Z"
   },
   {
    "duration": 38,
    "start_time": "2023-10-25T20:09:12.375Z"
   },
   {
    "duration": 52,
    "start_time": "2023-10-25T20:09:12.415Z"
   },
   {
    "duration": 263,
    "start_time": "2023-10-25T20:09:12.469Z"
   },
   {
    "duration": 10,
    "start_time": "2023-10-25T20:10:18.443Z"
   },
   {
    "duration": 117,
    "start_time": "2023-10-25T20:10:19.187Z"
   },
   {
    "duration": 12,
    "start_time": "2023-10-25T20:10:25.204Z"
   },
   {
    "duration": 121,
    "start_time": "2023-10-25T20:10:25.695Z"
   },
   {
    "duration": 9,
    "start_time": "2023-10-25T20:10:29.949Z"
   },
   {
    "duration": 112,
    "start_time": "2023-10-25T20:10:30.483Z"
   },
   {
    "duration": 178,
    "start_time": "2023-10-25T20:10:51.954Z"
   },
   {
    "duration": 182,
    "start_time": "2023-10-25T20:11:11.949Z"
   },
   {
    "duration": 173,
    "start_time": "2023-10-25T20:11:20.764Z"
   },
   {
    "duration": 11,
    "start_time": "2023-10-25T20:12:24.705Z"
   },
   {
    "duration": 124,
    "start_time": "2023-10-25T20:13:06.879Z"
   },
   {
    "duration": 113,
    "start_time": "2023-10-25T20:13:15.779Z"
   },
   {
    "duration": 9,
    "start_time": "2023-10-25T20:13:29.387Z"
   },
   {
    "duration": 171,
    "start_time": "2023-10-25T20:13:50.508Z"
   },
   {
    "duration": 179,
    "start_time": "2023-10-25T20:13:59.734Z"
   },
   {
    "duration": 150,
    "start_time": "2023-10-25T20:14:36.451Z"
   },
   {
    "duration": 159,
    "start_time": "2023-10-25T20:14:48.038Z"
   },
   {
    "duration": 141,
    "start_time": "2023-10-25T20:15:53.022Z"
   },
   {
    "duration": 11,
    "start_time": "2023-10-25T20:16:00.504Z"
   },
   {
    "duration": 143,
    "start_time": "2023-10-25T20:16:01.147Z"
   },
   {
    "duration": 9,
    "start_time": "2023-10-25T20:16:15.377Z"
   },
   {
    "duration": 8,
    "start_time": "2023-10-25T20:16:25.109Z"
   },
   {
    "duration": 157,
    "start_time": "2023-10-25T20:16:25.940Z"
   },
   {
    "duration": 9,
    "start_time": "2023-10-25T20:18:31.537Z"
   },
   {
    "duration": 153,
    "start_time": "2023-10-25T20:18:43.348Z"
   },
   {
    "duration": 10,
    "start_time": "2023-10-25T20:19:24.314Z"
   },
   {
    "duration": 113,
    "start_time": "2023-10-25T20:27:32.241Z"
   },
   {
    "duration": 133,
    "start_time": "2023-10-25T20:29:48.482Z"
   },
   {
    "duration": 3,
    "start_time": "2023-10-25T20:35:10.584Z"
   },
   {
    "duration": 132,
    "start_time": "2023-10-25T20:35:10.589Z"
   },
   {
    "duration": 15,
    "start_time": "2023-10-25T20:35:10.722Z"
   },
   {
    "duration": 62,
    "start_time": "2023-10-25T20:35:10.738Z"
   },
   {
    "duration": 87,
    "start_time": "2023-10-25T20:35:10.802Z"
   },
   {
    "duration": 2182,
    "start_time": "2023-10-25T20:35:10.891Z"
   },
   {
    "duration": 10,
    "start_time": "2023-10-25T20:35:13.075Z"
   },
   {
    "duration": 60,
    "start_time": "2023-10-25T20:35:13.086Z"
   },
   {
    "duration": 11,
    "start_time": "2023-10-25T20:35:13.147Z"
   },
   {
    "duration": 13,
    "start_time": "2023-10-25T20:35:13.160Z"
   },
   {
    "duration": 39,
    "start_time": "2023-10-25T20:35:13.175Z"
   },
   {
    "duration": 7,
    "start_time": "2023-10-25T20:35:13.216Z"
   },
   {
    "duration": 15,
    "start_time": "2023-10-25T20:35:13.225Z"
   },
   {
    "duration": 25,
    "start_time": "2023-10-25T20:35:13.243Z"
   },
   {
    "duration": 7,
    "start_time": "2023-10-25T20:35:13.269Z"
   },
   {
    "duration": 30,
    "start_time": "2023-10-25T20:35:13.277Z"
   },
   {
    "duration": 152,
    "start_time": "2023-10-25T20:35:13.309Z"
   },
   {
    "duration": 7,
    "start_time": "2023-10-25T20:35:13.463Z"
   },
   {
    "duration": 1333,
    "start_time": "2023-10-25T20:35:13.472Z"
   },
   {
    "duration": 9,
    "start_time": "2023-10-25T20:35:14.806Z"
   },
   {
    "duration": 26,
    "start_time": "2023-10-25T20:35:14.816Z"
   },
   {
    "duration": 36,
    "start_time": "2023-10-25T20:35:14.843Z"
   },
   {
    "duration": 38,
    "start_time": "2023-10-25T20:35:14.881Z"
   },
   {
    "duration": 310,
    "start_time": "2023-10-25T20:35:14.920Z"
   },
   {
    "duration": 4,
    "start_time": "2023-10-25T20:35:15.232Z"
   },
   {
    "duration": 33,
    "start_time": "2023-10-25T20:35:15.238Z"
   },
   {
    "duration": 3,
    "start_time": "2023-10-25T20:35:15.273Z"
   },
   {
    "duration": 9,
    "start_time": "2023-10-25T20:35:15.302Z"
   },
   {
    "duration": 119,
    "start_time": "2023-10-25T20:35:15.312Z"
   },
   {
    "duration": 9,
    "start_time": "2023-10-25T20:35:15.433Z"
   },
   {
    "duration": 4,
    "start_time": "2023-10-25T20:35:15.444Z"
   },
   {
    "duration": 199,
    "start_time": "2023-10-25T20:35:15.450Z"
   },
   {
    "duration": 10,
    "start_time": "2023-10-25T20:35:15.651Z"
   },
   {
    "duration": 117,
    "start_time": "2023-10-25T20:35:15.662Z"
   },
   {
    "duration": 24,
    "start_time": "2023-10-25T20:35:15.781Z"
   },
   {
    "duration": 5,
    "start_time": "2023-10-25T20:35:15.807Z"
   },
   {
    "duration": 193,
    "start_time": "2023-10-25T20:35:15.814Z"
   },
   {
    "duration": 9,
    "start_time": "2023-10-25T20:35:16.009Z"
   },
   {
    "duration": 125,
    "start_time": "2023-10-25T20:35:16.020Z"
   },
   {
    "duration": 9,
    "start_time": "2023-10-25T20:35:16.146Z"
   },
   {
    "duration": 199,
    "start_time": "2023-10-25T20:35:16.160Z"
   },
   {
    "duration": 8,
    "start_time": "2023-10-25T20:35:16.361Z"
   },
   {
    "duration": 147,
    "start_time": "2023-10-25T20:35:16.371Z"
   },
   {
    "duration": 8,
    "start_time": "2023-10-25T20:35:16.520Z"
   },
   {
    "duration": 122,
    "start_time": "2023-10-25T20:35:16.530Z"
   },
   {
    "duration": 178,
    "start_time": "2023-10-25T20:35:16.654Z"
   },
   {
    "duration": 10,
    "start_time": "2023-10-25T20:35:16.834Z"
   },
   {
    "duration": 127,
    "start_time": "2023-10-25T20:35:16.846Z"
   },
   {
    "duration": 9,
    "start_time": "2023-10-25T20:35:16.975Z"
   },
   {
    "duration": 22,
    "start_time": "2023-10-25T20:35:16.986Z"
   },
   {
    "duration": 0,
    "start_time": "2023-10-25T20:35:17.010Z"
   },
   {
    "duration": 0,
    "start_time": "2023-10-25T20:35:17.011Z"
   },
   {
    "duration": 0,
    "start_time": "2023-10-25T20:35:17.012Z"
   },
   {
    "duration": 0,
    "start_time": "2023-10-25T20:35:17.014Z"
   },
   {
    "duration": 0,
    "start_time": "2023-10-25T20:35:17.015Z"
   },
   {
    "duration": 0,
    "start_time": "2023-10-25T20:35:17.017Z"
   },
   {
    "duration": 0,
    "start_time": "2023-10-25T20:35:17.017Z"
   },
   {
    "duration": 0,
    "start_time": "2023-10-25T20:35:17.019Z"
   },
   {
    "duration": 0,
    "start_time": "2023-10-25T20:35:17.020Z"
   },
   {
    "duration": 0,
    "start_time": "2023-10-25T20:35:17.021Z"
   },
   {
    "duration": 0,
    "start_time": "2023-10-25T20:35:17.022Z"
   },
   {
    "duration": 0,
    "start_time": "2023-10-25T20:35:17.024Z"
   },
   {
    "duration": 0,
    "start_time": "2023-10-25T20:35:17.025Z"
   },
   {
    "duration": 0,
    "start_time": "2023-10-25T20:35:17.026Z"
   },
   {
    "duration": 0,
    "start_time": "2023-10-25T20:35:17.027Z"
   },
   {
    "duration": 0,
    "start_time": "2023-10-25T20:35:17.028Z"
   },
   {
    "duration": 0,
    "start_time": "2023-10-25T20:35:17.029Z"
   },
   {
    "duration": 0,
    "start_time": "2023-10-25T20:35:17.030Z"
   },
   {
    "duration": 0,
    "start_time": "2023-10-25T20:35:17.031Z"
   },
   {
    "duration": 0,
    "start_time": "2023-10-25T20:35:17.032Z"
   },
   {
    "duration": 0,
    "start_time": "2023-10-25T20:35:17.034Z"
   },
   {
    "duration": 0,
    "start_time": "2023-10-25T20:35:17.035Z"
   },
   {
    "duration": 0,
    "start_time": "2023-10-25T20:35:17.036Z"
   },
   {
    "duration": 0,
    "start_time": "2023-10-25T20:35:17.037Z"
   },
   {
    "duration": 0,
    "start_time": "2023-10-25T20:35:17.038Z"
   },
   {
    "duration": 0,
    "start_time": "2023-10-25T20:35:17.039Z"
   },
   {
    "duration": 0,
    "start_time": "2023-10-25T20:35:17.040Z"
   },
   {
    "duration": 0,
    "start_time": "2023-10-25T20:35:17.101Z"
   },
   {
    "duration": 0,
    "start_time": "2023-10-25T20:35:17.102Z"
   },
   {
    "duration": 0,
    "start_time": "2023-10-25T20:35:17.103Z"
   },
   {
    "duration": 0,
    "start_time": "2023-10-25T20:35:17.105Z"
   },
   {
    "duration": 0,
    "start_time": "2023-10-25T20:35:17.106Z"
   },
   {
    "duration": 0,
    "start_time": "2023-10-25T20:35:17.107Z"
   },
   {
    "duration": 0,
    "start_time": "2023-10-25T20:35:17.108Z"
   },
   {
    "duration": 0,
    "start_time": "2023-10-25T20:35:17.110Z"
   },
   {
    "duration": 0,
    "start_time": "2023-10-25T20:35:17.111Z"
   },
   {
    "duration": 0,
    "start_time": "2023-10-25T20:35:17.112Z"
   },
   {
    "duration": 0,
    "start_time": "2023-10-25T20:35:17.113Z"
   },
   {
    "duration": 0,
    "start_time": "2023-10-25T20:35:17.115Z"
   },
   {
    "duration": 0,
    "start_time": "2023-10-25T20:35:17.116Z"
   },
   {
    "duration": 3,
    "start_time": "2023-10-25T20:36:13.096Z"
   },
   {
    "duration": 123,
    "start_time": "2023-10-25T20:36:13.101Z"
   },
   {
    "duration": 14,
    "start_time": "2023-10-25T20:36:13.226Z"
   },
   {
    "duration": 38,
    "start_time": "2023-10-25T20:36:13.242Z"
   },
   {
    "duration": 89,
    "start_time": "2023-10-25T20:36:13.283Z"
   },
   {
    "duration": 2223,
    "start_time": "2023-10-25T20:36:13.374Z"
   },
   {
    "duration": 10,
    "start_time": "2023-10-25T20:36:15.602Z"
   },
   {
    "duration": 14,
    "start_time": "2023-10-25T20:36:15.614Z"
   },
   {
    "duration": 12,
    "start_time": "2023-10-25T20:36:15.630Z"
   },
   {
    "duration": 14,
    "start_time": "2023-10-25T20:36:15.644Z"
   },
   {
    "duration": 43,
    "start_time": "2023-10-25T20:36:15.660Z"
   },
   {
    "duration": 6,
    "start_time": "2023-10-25T20:36:15.705Z"
   },
   {
    "duration": 14,
    "start_time": "2023-10-25T20:36:15.713Z"
   },
   {
    "duration": 35,
    "start_time": "2023-10-25T20:36:15.731Z"
   },
   {
    "duration": 6,
    "start_time": "2023-10-25T20:36:15.768Z"
   },
   {
    "duration": 11,
    "start_time": "2023-10-25T20:36:15.776Z"
   },
   {
    "duration": 175,
    "start_time": "2023-10-25T20:36:15.788Z"
   },
   {
    "duration": 6,
    "start_time": "2023-10-25T20:36:15.965Z"
   },
   {
    "duration": 1274,
    "start_time": "2023-10-25T20:36:15.973Z"
   },
   {
    "duration": 7,
    "start_time": "2023-10-25T20:36:17.249Z"
   },
   {
    "duration": 17,
    "start_time": "2023-10-25T20:36:17.258Z"
   },
   {
    "duration": 8,
    "start_time": "2023-10-25T20:36:17.276Z"
   },
   {
    "duration": 27,
    "start_time": "2023-10-25T20:36:17.285Z"
   },
   {
    "duration": 289,
    "start_time": "2023-10-25T20:36:17.313Z"
   },
   {
    "duration": 5,
    "start_time": "2023-10-25T20:36:17.603Z"
   },
   {
    "duration": 34,
    "start_time": "2023-10-25T20:36:17.610Z"
   },
   {
    "duration": 10,
    "start_time": "2023-10-25T20:36:17.646Z"
   },
   {
    "duration": 10,
    "start_time": "2023-10-25T20:36:17.658Z"
   },
   {
    "duration": 135,
    "start_time": "2023-10-25T20:36:17.670Z"
   },
   {
    "duration": 10,
    "start_time": "2023-10-25T20:36:17.807Z"
   },
   {
    "duration": 5,
    "start_time": "2023-10-25T20:36:17.818Z"
   },
   {
    "duration": 200,
    "start_time": "2023-10-25T20:36:17.824Z"
   },
   {
    "duration": 9,
    "start_time": "2023-10-25T20:36:18.026Z"
   },
   {
    "duration": 127,
    "start_time": "2023-10-25T20:36:18.036Z"
   },
   {
    "duration": 9,
    "start_time": "2023-10-25T20:36:18.164Z"
   },
   {
    "duration": 5,
    "start_time": "2023-10-25T20:36:18.174Z"
   },
   {
    "duration": 192,
    "start_time": "2023-10-25T20:36:18.201Z"
   },
   {
    "duration": 14,
    "start_time": "2023-10-25T20:36:18.395Z"
   },
   {
    "duration": 133,
    "start_time": "2023-10-25T20:36:18.410Z"
   },
   {
    "duration": 10,
    "start_time": "2023-10-25T20:36:18.545Z"
   },
   {
    "duration": 243,
    "start_time": "2023-10-25T20:36:18.561Z"
   },
   {
    "duration": 11,
    "start_time": "2023-10-25T20:36:18.806Z"
   },
   {
    "duration": 161,
    "start_time": "2023-10-25T20:36:18.819Z"
   },
   {
    "duration": 20,
    "start_time": "2023-10-25T20:36:18.981Z"
   },
   {
    "duration": 118,
    "start_time": "2023-10-25T20:36:19.003Z"
   },
   {
    "duration": 184,
    "start_time": "2023-10-25T20:36:19.123Z"
   },
   {
    "duration": 9,
    "start_time": "2023-10-25T20:36:19.309Z"
   },
   {
    "duration": 130,
    "start_time": "2023-10-25T20:36:19.319Z"
   },
   {
    "duration": 8,
    "start_time": "2023-10-25T20:36:19.451Z"
   },
   {
    "duration": 174,
    "start_time": "2023-10-25T20:36:19.461Z"
   },
   {
    "duration": 8,
    "start_time": "2023-10-25T20:36:19.637Z"
   },
   {
    "duration": 390,
    "start_time": "2023-10-25T20:36:19.647Z"
   },
   {
    "duration": 7,
    "start_time": "2023-10-25T20:36:20.040Z"
   },
   {
    "duration": 204,
    "start_time": "2023-10-25T20:36:20.049Z"
   },
   {
    "duration": 9,
    "start_time": "2023-10-25T20:36:20.255Z"
   },
   {
    "duration": 217,
    "start_time": "2023-10-25T20:36:20.266Z"
   },
   {
    "duration": 21,
    "start_time": "2023-10-25T20:36:20.485Z"
   },
   {
    "duration": 189,
    "start_time": "2023-10-25T20:36:20.508Z"
   },
   {
    "duration": 10,
    "start_time": "2023-10-25T20:36:20.699Z"
   },
   {
    "duration": 26,
    "start_time": "2023-10-25T20:36:20.710Z"
   },
   {
    "duration": 146,
    "start_time": "2023-10-25T20:36:20.738Z"
   },
   {
    "duration": 16,
    "start_time": "2023-10-25T20:36:20.885Z"
   },
   {
    "duration": 193,
    "start_time": "2023-10-25T20:36:20.903Z"
   },
   {
    "duration": 9,
    "start_time": "2023-10-25T20:36:21.101Z"
   },
   {
    "duration": 186,
    "start_time": "2023-10-25T20:36:21.111Z"
   },
   {
    "duration": 8,
    "start_time": "2023-10-25T20:36:21.302Z"
   },
   {
    "duration": 192,
    "start_time": "2023-10-25T20:36:21.311Z"
   },
   {
    "duration": 80,
    "start_time": "2023-10-25T20:36:21.505Z"
   },
   {
    "duration": 23,
    "start_time": "2023-10-25T20:36:21.587Z"
   },
   {
    "duration": 5,
    "start_time": "2023-10-25T20:36:21.611Z"
   },
   {
    "duration": 266,
    "start_time": "2023-10-25T20:36:21.618Z"
   },
   {
    "duration": 166,
    "start_time": "2023-10-25T20:36:21.886Z"
   },
   {
    "duration": 6,
    "start_time": "2023-10-25T20:36:22.054Z"
   },
   {
    "duration": 179,
    "start_time": "2023-10-25T20:36:22.062Z"
   },
   {
    "duration": 4,
    "start_time": "2023-10-25T20:36:22.243Z"
   },
   {
    "duration": 169,
    "start_time": "2023-10-25T20:36:22.249Z"
   },
   {
    "duration": 5,
    "start_time": "2023-10-25T20:36:22.420Z"
   },
   {
    "duration": 209,
    "start_time": "2023-10-25T20:36:22.427Z"
   },
   {
    "duration": 172,
    "start_time": "2023-10-25T20:36:22.638Z"
   },
   {
    "duration": 177,
    "start_time": "2023-10-25T20:36:22.812Z"
   },
   {
    "duration": 167,
    "start_time": "2023-10-25T20:36:22.991Z"
   },
   {
    "duration": 175,
    "start_time": "2023-10-25T20:36:23.160Z"
   },
   {
    "duration": 7,
    "start_time": "2023-10-25T20:36:23.337Z"
   },
   {
    "duration": 56,
    "start_time": "2023-10-25T20:36:23.347Z"
   },
   {
    "duration": 57,
    "start_time": "2023-10-25T20:36:23.405Z"
   },
   {
    "duration": 7,
    "start_time": "2023-10-25T20:36:23.463Z"
   },
   {
    "duration": 36,
    "start_time": "2023-10-25T20:36:23.472Z"
   },
   {
    "duration": 18,
    "start_time": "2023-10-25T20:36:23.510Z"
   },
   {
    "duration": 37,
    "start_time": "2023-10-25T20:36:23.530Z"
   },
   {
    "duration": 179,
    "start_time": "2023-10-25T20:36:23.568Z"
   },
   {
    "duration": 123,
    "start_time": "2023-10-25T20:37:39.686Z"
   },
   {
    "duration": 10,
    "start_time": "2023-10-25T20:37:55.821Z"
   },
   {
    "duration": 123,
    "start_time": "2023-10-25T20:37:56.433Z"
   },
   {
    "duration": 10,
    "start_time": "2023-10-25T20:38:09.322Z"
   },
   {
    "duration": 133,
    "start_time": "2023-10-25T20:38:10.470Z"
   },
   {
    "duration": 185,
    "start_time": "2023-10-25T20:38:27.830Z"
   },
   {
    "duration": 3,
    "start_time": "2023-10-25T20:39:44.036Z"
   },
   {
    "duration": 4,
    "start_time": "2023-10-25T20:39:57.090Z"
   },
   {
    "duration": 5,
    "start_time": "2023-10-25T20:40:57.878Z"
   },
   {
    "duration": 5,
    "start_time": "2023-10-25T20:42:04.485Z"
   },
   {
    "duration": 3,
    "start_time": "2023-10-25T20:42:39.189Z"
   },
   {
    "duration": 135,
    "start_time": "2023-10-25T20:42:39.194Z"
   },
   {
    "duration": 15,
    "start_time": "2023-10-25T20:42:39.331Z"
   },
   {
    "duration": 54,
    "start_time": "2023-10-25T20:42:39.347Z"
   },
   {
    "duration": 78,
    "start_time": "2023-10-25T20:42:39.403Z"
   },
   {
    "duration": 2313,
    "start_time": "2023-10-25T20:42:39.483Z"
   },
   {
    "duration": 11,
    "start_time": "2023-10-25T20:42:41.802Z"
   },
   {
    "duration": 28,
    "start_time": "2023-10-25T20:42:41.815Z"
   },
   {
    "duration": 11,
    "start_time": "2023-10-25T20:42:41.845Z"
   },
   {
    "duration": 29,
    "start_time": "2023-10-25T20:42:41.857Z"
   },
   {
    "duration": 144,
    "start_time": "2023-10-25T20:42:41.888Z"
   },
   {
    "duration": 234,
    "start_time": "2023-10-25T20:42:42.034Z"
   },
   {
    "duration": 48,
    "start_time": "2023-10-25T20:42:42.271Z"
   },
   {
    "duration": 61,
    "start_time": "2023-10-25T20:42:42.323Z"
   },
   {
    "duration": 13,
    "start_time": "2023-10-25T20:42:42.387Z"
   },
   {
    "duration": 22,
    "start_time": "2023-10-25T20:42:42.403Z"
   },
   {
    "duration": 188,
    "start_time": "2023-10-25T20:42:42.426Z"
   },
   {
    "duration": 9,
    "start_time": "2023-10-25T20:42:42.616Z"
   },
   {
    "duration": 1382,
    "start_time": "2023-10-25T20:42:42.627Z"
   },
   {
    "duration": 13,
    "start_time": "2023-10-25T20:42:44.011Z"
   },
   {
    "duration": 15,
    "start_time": "2023-10-25T20:42:44.026Z"
   },
   {
    "duration": 7,
    "start_time": "2023-10-25T20:42:44.043Z"
   },
   {
    "duration": 18,
    "start_time": "2023-10-25T20:42:44.052Z"
   },
   {
    "duration": 308,
    "start_time": "2023-10-25T20:42:44.102Z"
   },
   {
    "duration": 5,
    "start_time": "2023-10-25T20:42:44.412Z"
   },
   {
    "duration": 42,
    "start_time": "2023-10-25T20:42:44.419Z"
   },
   {
    "duration": 6,
    "start_time": "2023-10-25T20:42:44.463Z"
   },
   {
    "duration": 39,
    "start_time": "2023-10-25T20:42:44.471Z"
   },
   {
    "duration": 173,
    "start_time": "2023-10-25T20:42:44.512Z"
   },
   {
    "duration": 22,
    "start_time": "2023-10-25T20:42:44.688Z"
   },
   {
    "duration": 31,
    "start_time": "2023-10-25T20:42:44.713Z"
   },
   {
    "duration": 262,
    "start_time": "2023-10-25T20:42:44.747Z"
   },
   {
    "duration": 13,
    "start_time": "2023-10-25T20:42:45.012Z"
   },
   {
    "duration": 304,
    "start_time": "2023-10-25T20:42:45.028Z"
   },
   {
    "duration": 10,
    "start_time": "2023-10-25T20:42:45.334Z"
   },
   {
    "duration": 13,
    "start_time": "2023-10-25T20:42:45.346Z"
   },
   {
    "duration": 209,
    "start_time": "2023-10-25T20:42:45.361Z"
   },
   {
    "duration": 9,
    "start_time": "2023-10-25T20:42:45.572Z"
   },
   {
    "duration": 127,
    "start_time": "2023-10-25T20:42:45.583Z"
   },
   {
    "duration": 8,
    "start_time": "2023-10-25T20:42:45.712Z"
   },
   {
    "duration": 203,
    "start_time": "2023-10-25T20:42:45.725Z"
   },
   {
    "duration": 9,
    "start_time": "2023-10-25T20:42:45.930Z"
   },
   {
    "duration": 146,
    "start_time": "2023-10-25T20:42:45.940Z"
   },
   {
    "duration": 19,
    "start_time": "2023-10-25T20:42:46.087Z"
   },
   {
    "duration": 12,
    "start_time": "2023-10-25T20:42:46.108Z"
   },
   {
    "duration": 123,
    "start_time": "2023-10-25T20:42:46.122Z"
   },
   {
    "duration": 174,
    "start_time": "2023-10-25T20:42:46.247Z"
   },
   {
    "duration": 9,
    "start_time": "2023-10-25T20:42:46.423Z"
   },
   {
    "duration": 146,
    "start_time": "2023-10-25T20:42:46.434Z"
   },
   {
    "duration": 20,
    "start_time": "2023-10-25T20:42:46.581Z"
   },
   {
    "duration": 9,
    "start_time": "2023-10-25T20:42:46.603Z"
   },
   {
    "duration": 161,
    "start_time": "2023-10-25T20:42:46.613Z"
   },
   {
    "duration": 9,
    "start_time": "2023-10-25T20:42:46.775Z"
   },
   {
    "duration": 136,
    "start_time": "2023-10-25T20:42:46.786Z"
   },
   {
    "duration": 10,
    "start_time": "2023-10-25T20:42:46.924Z"
   },
   {
    "duration": 22,
    "start_time": "2023-10-25T20:42:46.935Z"
   },
   {
    "duration": 148,
    "start_time": "2023-10-25T20:42:46.960Z"
   },
   {
    "duration": 183,
    "start_time": "2023-10-25T20:42:47.110Z"
   },
   {
    "duration": 9,
    "start_time": "2023-10-25T20:42:47.295Z"
   },
   {
    "duration": 32,
    "start_time": "2023-10-25T20:42:47.306Z"
   },
   {
    "duration": 201,
    "start_time": "2023-10-25T20:42:47.340Z"
   },
   {
    "duration": 9,
    "start_time": "2023-10-25T20:42:47.542Z"
   },
   {
    "duration": 208,
    "start_time": "2023-10-25T20:42:47.552Z"
   },
   {
    "duration": 10,
    "start_time": "2023-10-25T20:42:47.762Z"
   },
   {
    "duration": 25,
    "start_time": "2023-10-25T20:42:47.773Z"
   },
   {
    "duration": 156,
    "start_time": "2023-10-25T20:42:47.801Z"
   },
   {
    "duration": 9,
    "start_time": "2023-10-25T20:42:47.959Z"
   },
   {
    "duration": 209,
    "start_time": "2023-10-25T20:42:47.969Z"
   },
   {
    "duration": 20,
    "start_time": "2023-10-25T20:42:48.181Z"
   },
   {
    "duration": 192,
    "start_time": "2023-10-25T20:42:48.203Z"
   },
   {
    "duration": 11,
    "start_time": "2023-10-25T20:42:48.396Z"
   },
   {
    "duration": 212,
    "start_time": "2023-10-25T20:42:48.409Z"
   },
   {
    "duration": 94,
    "start_time": "2023-10-25T20:42:48.623Z"
   },
   {
    "duration": 12,
    "start_time": "2023-10-25T20:42:48.719Z"
   },
   {
    "duration": 4,
    "start_time": "2023-10-25T20:42:48.733Z"
   },
   {
    "duration": 281,
    "start_time": "2023-10-25T20:42:48.739Z"
   },
   {
    "duration": 156,
    "start_time": "2023-10-25T20:42:49.022Z"
   },
   {
    "duration": 5,
    "start_time": "2023-10-25T20:42:49.180Z"
   },
   {
    "duration": 184,
    "start_time": "2023-10-25T20:42:49.187Z"
   },
   {
    "duration": 5,
    "start_time": "2023-10-25T20:42:49.373Z"
   },
   {
    "duration": 511,
    "start_time": "2023-10-25T20:42:49.380Z"
   },
   {
    "duration": 9,
    "start_time": "2023-10-25T20:42:49.893Z"
   },
   {
    "duration": 162,
    "start_time": "2023-10-25T20:42:49.904Z"
   },
   {
    "duration": 170,
    "start_time": "2023-10-25T20:42:50.068Z"
   },
   {
    "duration": 170,
    "start_time": "2023-10-25T20:42:50.239Z"
   },
   {
    "duration": 172,
    "start_time": "2023-10-25T20:42:50.411Z"
   },
   {
    "duration": 167,
    "start_time": "2023-10-25T20:42:50.585Z"
   },
   {
    "duration": 6,
    "start_time": "2023-10-25T20:42:50.754Z"
   },
   {
    "duration": 24,
    "start_time": "2023-10-25T20:42:50.762Z"
   },
   {
    "duration": 38,
    "start_time": "2023-10-25T20:42:50.788Z"
   },
   {
    "duration": 18,
    "start_time": "2023-10-25T20:42:50.828Z"
   },
   {
    "duration": 19,
    "start_time": "2023-10-25T20:42:50.847Z"
   },
   {
    "duration": 29,
    "start_time": "2023-10-25T20:42:50.868Z"
   },
   {
    "duration": 56,
    "start_time": "2023-10-25T20:42:50.899Z"
   },
   {
    "duration": 178,
    "start_time": "2023-10-25T20:42:50.956Z"
   },
   {
    "duration": 9,
    "start_time": "2023-10-25T20:45:52.389Z"
   },
   {
    "duration": 198,
    "start_time": "2023-10-25T20:45:59.909Z"
   },
   {
    "duration": 8,
    "start_time": "2023-10-25T20:46:19.633Z"
   },
   {
    "duration": 11,
    "start_time": "2023-10-25T20:46:44.042Z"
   },
   {
    "duration": 212,
    "start_time": "2023-10-25T20:47:00.480Z"
   },
   {
    "duration": 78,
    "start_time": "2023-10-25T20:47:26.983Z"
   },
   {
    "duration": 9,
    "start_time": "2023-10-25T20:48:17.740Z"
   },
   {
    "duration": 5,
    "start_time": "2023-10-25T20:48:24.010Z"
   },
   {
    "duration": 9,
    "start_time": "2023-10-25T20:48:34.130Z"
   },
   {
    "duration": 250,
    "start_time": "2023-10-25T20:48:39.045Z"
   },
   {
    "duration": 154,
    "start_time": "2023-10-25T20:49:31.400Z"
   },
   {
    "duration": 11,
    "start_time": "2023-10-25T20:49:43.969Z"
   },
   {
    "duration": 185,
    "start_time": "2023-10-25T20:49:59.476Z"
   },
   {
    "duration": 6,
    "start_time": "2023-10-25T20:50:09.206Z"
   },
   {
    "duration": 174,
    "start_time": "2023-10-25T20:50:20.519Z"
   },
   {
    "duration": 185,
    "start_time": "2023-10-25T20:50:42.879Z"
   },
   {
    "duration": 161,
    "start_time": "2023-10-25T20:51:05.832Z"
   },
   {
    "duration": 171,
    "start_time": "2023-10-25T20:51:24.788Z"
   },
   {
    "duration": 152,
    "start_time": "2023-10-25T20:51:51.885Z"
   },
   {
    "duration": 11,
    "start_time": "2023-10-25T20:52:34.413Z"
   },
   {
    "duration": 185,
    "start_time": "2023-10-25T20:52:38.284Z"
   },
   {
    "duration": 11,
    "start_time": "2023-10-25T20:53:53.952Z"
   },
   {
    "duration": 8,
    "start_time": "2023-10-25T20:54:04.679Z"
   },
   {
    "duration": 8,
    "start_time": "2023-10-25T20:54:40.304Z"
   },
   {
    "duration": 7,
    "start_time": "2023-10-25T20:54:41.999Z"
   },
   {
    "duration": 5,
    "start_time": "2023-10-25T20:55:23.241Z"
   },
   {
    "duration": 8,
    "start_time": "2023-10-25T20:55:35.089Z"
   },
   {
    "duration": 25,
    "start_time": "2023-10-25T20:55:39.479Z"
   },
   {
    "duration": 159,
    "start_time": "2023-10-25T20:56:08.375Z"
   },
   {
    "duration": 4,
    "start_time": "2023-10-25T21:00:43.905Z"
   },
   {
    "duration": 3,
    "start_time": "2023-10-25T21:01:52.714Z"
   },
   {
    "duration": 136,
    "start_time": "2023-10-25T21:01:52.719Z"
   },
   {
    "duration": 15,
    "start_time": "2023-10-25T21:01:52.857Z"
   },
   {
    "duration": 55,
    "start_time": "2023-10-25T21:01:52.874Z"
   },
   {
    "duration": 93,
    "start_time": "2023-10-25T21:01:52.932Z"
   },
   {
    "duration": 2118,
    "start_time": "2023-10-25T21:01:53.026Z"
   },
   {
    "duration": 15,
    "start_time": "2023-10-25T21:01:55.147Z"
   },
   {
    "duration": 42,
    "start_time": "2023-10-25T21:01:55.164Z"
   },
   {
    "duration": 16,
    "start_time": "2023-10-25T21:01:55.209Z"
   },
   {
    "duration": 13,
    "start_time": "2023-10-25T21:01:55.227Z"
   },
   {
    "duration": 70,
    "start_time": "2023-10-25T21:01:55.243Z"
   },
   {
    "duration": 6,
    "start_time": "2023-10-25T21:01:55.315Z"
   },
   {
    "duration": 13,
    "start_time": "2023-10-25T21:01:55.323Z"
   },
   {
    "duration": 38,
    "start_time": "2023-10-25T21:01:55.338Z"
   },
   {
    "duration": 9,
    "start_time": "2023-10-25T21:01:55.378Z"
   },
   {
    "duration": 29,
    "start_time": "2023-10-25T21:01:55.389Z"
   },
   {
    "duration": 200,
    "start_time": "2023-10-25T21:01:55.420Z"
   },
   {
    "duration": 8,
    "start_time": "2023-10-25T21:01:55.621Z"
   },
   {
    "duration": 1321,
    "start_time": "2023-10-25T21:01:55.631Z"
   },
   {
    "duration": 8,
    "start_time": "2023-10-25T21:01:56.954Z"
   },
   {
    "duration": 22,
    "start_time": "2023-10-25T21:01:56.963Z"
   },
   {
    "duration": 16,
    "start_time": "2023-10-25T21:01:56.986Z"
   },
   {
    "duration": 12,
    "start_time": "2023-10-25T21:01:57.004Z"
   },
   {
    "duration": 288,
    "start_time": "2023-10-25T21:01:57.018Z"
   },
   {
    "duration": 4,
    "start_time": "2023-10-25T21:01:57.307Z"
   },
   {
    "duration": 50,
    "start_time": "2023-10-25T21:01:57.313Z"
   },
   {
    "duration": 4,
    "start_time": "2023-10-25T21:01:57.365Z"
   },
   {
    "duration": 39,
    "start_time": "2023-10-25T21:01:57.370Z"
   },
   {
    "duration": 124,
    "start_time": "2023-10-25T21:01:57.413Z"
   },
   {
    "duration": 11,
    "start_time": "2023-10-25T21:01:57.539Z"
   },
   {
    "duration": 5,
    "start_time": "2023-10-25T21:01:57.552Z"
   },
   {
    "duration": 583,
    "start_time": "2023-10-25T21:01:57.558Z"
   },
   {
    "duration": 9,
    "start_time": "2023-10-25T21:01:58.143Z"
   },
   {
    "duration": 122,
    "start_time": "2023-10-25T21:01:58.154Z"
   },
   {
    "duration": 9,
    "start_time": "2023-10-25T21:01:58.278Z"
   },
   {
    "duration": 35,
    "start_time": "2023-10-25T21:01:58.301Z"
   },
   {
    "duration": 211,
    "start_time": "2023-10-25T21:01:58.338Z"
   },
   {
    "duration": 13,
    "start_time": "2023-10-25T21:01:58.551Z"
   },
   {
    "duration": 167,
    "start_time": "2023-10-25T21:01:58.566Z"
   },
   {
    "duration": 9,
    "start_time": "2023-10-25T21:01:58.735Z"
   },
   {
    "duration": 21,
    "start_time": "2023-10-25T21:01:58.745Z"
   },
   {
    "duration": 250,
    "start_time": "2023-10-25T21:01:58.768Z"
   },
   {
    "duration": 9,
    "start_time": "2023-10-25T21:01:59.020Z"
   },
   {
    "duration": 161,
    "start_time": "2023-10-25T21:01:59.031Z"
   },
   {
    "duration": 9,
    "start_time": "2023-10-25T21:01:59.201Z"
   },
   {
    "duration": 15,
    "start_time": "2023-10-25T21:01:59.211Z"
   },
   {
    "duration": 146,
    "start_time": "2023-10-25T21:01:59.227Z"
   },
   {
    "duration": 188,
    "start_time": "2023-10-25T21:01:59.374Z"
   },
   {
    "duration": 9,
    "start_time": "2023-10-25T21:01:59.564Z"
   },
   {
    "duration": 137,
    "start_time": "2023-10-25T21:01:59.575Z"
   },
   {
    "duration": 8,
    "start_time": "2023-10-25T21:01:59.715Z"
   },
   {
    "duration": 14,
    "start_time": "2023-10-25T21:01:59.725Z"
   },
   {
    "duration": 176,
    "start_time": "2023-10-25T21:01:59.741Z"
   },
   {
    "duration": 10,
    "start_time": "2023-10-25T21:01:59.918Z"
   },
   {
    "duration": 134,
    "start_time": "2023-10-25T21:01:59.929Z"
   },
   {
    "duration": 9,
    "start_time": "2023-10-25T21:02:00.065Z"
   },
   {
    "duration": 57,
    "start_time": "2023-10-25T21:02:00.075Z"
   },
   {
    "duration": 152,
    "start_time": "2023-10-25T21:02:00.133Z"
   },
   {
    "duration": 190,
    "start_time": "2023-10-25T21:02:00.287Z"
   },
   {
    "duration": 4,
    "start_time": "2023-10-25T21:02:00.479Z"
   },
   {
    "duration": 177,
    "start_time": "2023-10-25T21:02:00.485Z"
   },
   {
    "duration": 229,
    "start_time": "2023-10-25T21:02:00.663Z"
   },
   {
    "duration": 13,
    "start_time": "2023-10-25T21:02:00.894Z"
   },
   {
    "duration": 281,
    "start_time": "2023-10-25T21:02:00.909Z"
   },
   {
    "duration": 20,
    "start_time": "2023-10-25T21:02:01.191Z"
   },
   {
    "duration": 43,
    "start_time": "2023-10-25T21:02:01.212Z"
   },
   {
    "duration": 189,
    "start_time": "2023-10-25T21:02:01.257Z"
   },
   {
    "duration": 183,
    "start_time": "2023-10-25T21:02:01.448Z"
   },
   {
    "duration": 409,
    "start_time": "2023-10-25T21:02:01.633Z"
   },
   {
    "duration": 8,
    "start_time": "2023-10-25T21:02:02.044Z"
   },
   {
    "duration": 335,
    "start_time": "2023-10-25T21:02:02.054Z"
   },
   {
    "duration": 15,
    "start_time": "2023-10-25T21:02:02.390Z"
   },
   {
    "duration": 214,
    "start_time": "2023-10-25T21:02:02.407Z"
   },
   {
    "duration": 84,
    "start_time": "2023-10-25T21:02:02.623Z"
   },
   {
    "duration": 7,
    "start_time": "2023-10-25T21:02:02.709Z"
   },
   {
    "duration": 36,
    "start_time": "2023-10-25T21:02:02.718Z"
   },
   {
    "duration": 455,
    "start_time": "2023-10-25T21:02:02.755Z"
   },
   {
    "duration": 192,
    "start_time": "2023-10-25T21:02:03.212Z"
   },
   {
    "duration": 6,
    "start_time": "2023-10-25T21:02:03.407Z"
   },
   {
    "duration": 203,
    "start_time": "2023-10-25T21:02:03.415Z"
   },
   {
    "duration": 6,
    "start_time": "2023-10-25T21:02:03.620Z"
   },
   {
    "duration": 194,
    "start_time": "2023-10-25T21:02:03.628Z"
   },
   {
    "duration": 5,
    "start_time": "2023-10-25T21:02:03.828Z"
   },
   {
    "duration": 201,
    "start_time": "2023-10-25T21:02:03.835Z"
   },
   {
    "duration": 165,
    "start_time": "2023-10-25T21:02:04.038Z"
   },
   {
    "duration": 180,
    "start_time": "2023-10-25T21:02:04.205Z"
   },
   {
    "duration": 192,
    "start_time": "2023-10-25T21:02:04.388Z"
   },
   {
    "duration": 197,
    "start_time": "2023-10-25T21:02:04.582Z"
   },
   {
    "duration": 6,
    "start_time": "2023-10-25T21:02:04.780Z"
   },
   {
    "duration": 17,
    "start_time": "2023-10-25T21:02:04.788Z"
   },
   {
    "duration": 32,
    "start_time": "2023-10-25T21:02:04.807Z"
   },
   {
    "duration": 7,
    "start_time": "2023-10-25T21:02:04.841Z"
   },
   {
    "duration": 22,
    "start_time": "2023-10-25T21:02:04.849Z"
   },
   {
    "duration": 12,
    "start_time": "2023-10-25T21:02:04.873Z"
   },
   {
    "duration": 31,
    "start_time": "2023-10-25T21:02:04.887Z"
   },
   {
    "duration": 176,
    "start_time": "2023-10-25T21:02:04.919Z"
   },
   {
    "duration": 8,
    "start_time": "2023-10-25T21:03:48.605Z"
   },
   {
    "duration": 4,
    "start_time": "2023-10-25T21:03:49.202Z"
   },
   {
    "duration": 102,
    "start_time": "2023-10-25T21:03:49.849Z"
   },
   {
    "duration": 12,
    "start_time": "2023-10-25T21:04:02.024Z"
   },
   {
    "duration": 5,
    "start_time": "2023-10-25T21:04:02.481Z"
   },
   {
    "duration": 99,
    "start_time": "2023-10-25T21:04:03.170Z"
   },
   {
    "duration": 191,
    "start_time": "2023-10-25T21:04:18.073Z"
   },
   {
    "duration": 2,
    "start_time": "2023-10-25T21:05:02.749Z"
   },
   {
    "duration": 145,
    "start_time": "2023-10-25T21:05:02.753Z"
   },
   {
    "duration": 19,
    "start_time": "2023-10-25T21:05:02.901Z"
   },
   {
    "duration": 47,
    "start_time": "2023-10-25T21:05:02.922Z"
   },
   {
    "duration": 106,
    "start_time": "2023-10-25T21:05:02.971Z"
   },
   {
    "duration": 2535,
    "start_time": "2023-10-25T21:05:03.078Z"
   },
   {
    "duration": 9,
    "start_time": "2023-10-25T21:05:05.615Z"
   },
   {
    "duration": 54,
    "start_time": "2023-10-25T21:05:05.626Z"
   },
   {
    "duration": 17,
    "start_time": "2023-10-25T21:05:05.682Z"
   },
   {
    "duration": 33,
    "start_time": "2023-10-25T21:05:05.700Z"
   },
   {
    "duration": 56,
    "start_time": "2023-10-25T21:05:05.735Z"
   },
   {
    "duration": 42,
    "start_time": "2023-10-25T21:05:05.794Z"
   },
   {
    "duration": 52,
    "start_time": "2023-10-25T21:05:05.837Z"
   },
   {
    "duration": 66,
    "start_time": "2023-10-25T21:05:05.893Z"
   },
   {
    "duration": 8,
    "start_time": "2023-10-25T21:05:05.961Z"
   },
   {
    "duration": 44,
    "start_time": "2023-10-25T21:05:05.971Z"
   },
   {
    "duration": 187,
    "start_time": "2023-10-25T21:05:06.017Z"
   },
   {
    "duration": 9,
    "start_time": "2023-10-25T21:05:06.206Z"
   },
   {
    "duration": 1314,
    "start_time": "2023-10-25T21:05:06.217Z"
   },
   {
    "duration": 8,
    "start_time": "2023-10-25T21:05:07.533Z"
   },
   {
    "duration": 24,
    "start_time": "2023-10-25T21:05:07.543Z"
   },
   {
    "duration": 5,
    "start_time": "2023-10-25T21:05:07.570Z"
   },
   {
    "duration": 34,
    "start_time": "2023-10-25T21:05:07.577Z"
   },
   {
    "duration": 275,
    "start_time": "2023-10-25T21:05:07.613Z"
   },
   {
    "duration": 4,
    "start_time": "2023-10-25T21:05:07.890Z"
   },
   {
    "duration": 44,
    "start_time": "2023-10-25T21:05:07.902Z"
   },
   {
    "duration": 3,
    "start_time": "2023-10-25T21:05:07.948Z"
   },
   {
    "duration": 15,
    "start_time": "2023-10-25T21:05:07.953Z"
   },
   {
    "duration": 132,
    "start_time": "2023-10-25T21:05:07.970Z"
   },
   {
    "duration": 11,
    "start_time": "2023-10-25T21:05:08.104Z"
   },
   {
    "duration": 15,
    "start_time": "2023-10-25T21:05:08.117Z"
   },
   {
    "duration": 208,
    "start_time": "2023-10-25T21:05:08.135Z"
   },
   {
    "duration": 10,
    "start_time": "2023-10-25T21:05:08.345Z"
   },
   {
    "duration": 163,
    "start_time": "2023-10-25T21:05:08.357Z"
   },
   {
    "duration": 10,
    "start_time": "2023-10-25T21:05:08.522Z"
   },
   {
    "duration": 11,
    "start_time": "2023-10-25T21:05:08.535Z"
   },
   {
    "duration": 258,
    "start_time": "2023-10-25T21:05:08.548Z"
   },
   {
    "duration": 9,
    "start_time": "2023-10-25T21:05:08.808Z"
   },
   {
    "duration": 266,
    "start_time": "2023-10-25T21:05:08.819Z"
   },
   {
    "duration": 18,
    "start_time": "2023-10-25T21:05:09.087Z"
   },
   {
    "duration": 6,
    "start_time": "2023-10-25T21:05:09.111Z"
   },
   {
    "duration": 205,
    "start_time": "2023-10-25T21:05:09.118Z"
   },
   {
    "duration": 10,
    "start_time": "2023-10-25T21:05:09.326Z"
   },
   {
    "duration": 151,
    "start_time": "2023-10-25T21:05:09.338Z"
   },
   {
    "duration": 13,
    "start_time": "2023-10-25T21:05:09.491Z"
   },
   {
    "duration": 70,
    "start_time": "2023-10-25T21:05:09.506Z"
   },
   {
    "duration": 339,
    "start_time": "2023-10-25T21:05:09.578Z"
   },
   {
    "duration": 181,
    "start_time": "2023-10-25T21:05:09.920Z"
   },
   {
    "duration": 10,
    "start_time": "2023-10-25T21:05:10.103Z"
   },
   {
    "duration": 196,
    "start_time": "2023-10-25T21:05:10.115Z"
   },
   {
    "duration": 75,
    "start_time": "2023-10-25T21:05:10.313Z"
   },
   {
    "duration": 23,
    "start_time": "2023-10-25T21:05:10.390Z"
   },
   {
    "duration": 174,
    "start_time": "2023-10-25T21:05:10.415Z"
   },
   {
    "duration": 15,
    "start_time": "2023-10-25T21:05:10.590Z"
   },
   {
    "duration": 125,
    "start_time": "2023-10-25T21:05:10.607Z"
   },
   {
    "duration": 10,
    "start_time": "2023-10-25T21:05:10.734Z"
   },
   {
    "duration": 20,
    "start_time": "2023-10-25T21:05:10.746Z"
   },
   {
    "duration": 126,
    "start_time": "2023-10-25T21:05:10.767Z"
   },
   {
    "duration": 173,
    "start_time": "2023-10-25T21:05:10.900Z"
   },
   {
    "duration": 4,
    "start_time": "2023-10-25T21:05:11.074Z"
   },
   {
    "duration": 22,
    "start_time": "2023-10-25T21:05:11.080Z"
   },
   {
    "duration": 211,
    "start_time": "2023-10-25T21:05:11.104Z"
   },
   {
    "duration": 9,
    "start_time": "2023-10-25T21:05:11.316Z"
   },
   {
    "duration": 193,
    "start_time": "2023-10-25T21:05:11.327Z"
   },
   {
    "duration": 9,
    "start_time": "2023-10-25T21:05:11.522Z"
   },
   {
    "duration": 30,
    "start_time": "2023-10-25T21:05:11.533Z"
   },
   {
    "duration": 156,
    "start_time": "2023-10-25T21:05:11.564Z"
   },
   {
    "duration": 10,
    "start_time": "2023-10-25T21:05:11.721Z"
   },
   {
    "duration": 195,
    "start_time": "2023-10-25T21:05:11.732Z"
   },
   {
    "duration": 8,
    "start_time": "2023-10-25T21:05:11.929Z"
   },
   {
    "duration": 193,
    "start_time": "2023-10-25T21:05:11.939Z"
   },
   {
    "duration": 8,
    "start_time": "2023-10-25T21:05:12.134Z"
   },
   {
    "duration": 187,
    "start_time": "2023-10-25T21:05:12.144Z"
   },
   {
    "duration": 86,
    "start_time": "2023-10-25T21:05:12.333Z"
   },
   {
    "duration": 10,
    "start_time": "2023-10-25T21:05:12.421Z"
   },
   {
    "duration": 26,
    "start_time": "2023-10-25T21:05:12.432Z"
   },
   {
    "duration": 263,
    "start_time": "2023-10-25T21:05:12.460Z"
   },
   {
    "duration": 158,
    "start_time": "2023-10-25T21:05:12.725Z"
   },
   {
    "duration": 19,
    "start_time": "2023-10-25T21:05:12.885Z"
   },
   {
    "duration": 181,
    "start_time": "2023-10-25T21:05:12.906Z"
   },
   {
    "duration": 15,
    "start_time": "2023-10-25T21:05:13.089Z"
   },
   {
    "duration": 187,
    "start_time": "2023-10-25T21:05:13.106Z"
   },
   {
    "duration": 9,
    "start_time": "2023-10-25T21:05:13.295Z"
   },
   {
    "duration": 201,
    "start_time": "2023-10-25T21:05:13.305Z"
   },
   {
    "duration": 173,
    "start_time": "2023-10-25T21:05:13.507Z"
   },
   {
    "duration": 200,
    "start_time": "2023-10-25T21:05:13.683Z"
   },
   {
    "duration": 158,
    "start_time": "2023-10-25T21:05:13.884Z"
   },
   {
    "duration": 191,
    "start_time": "2023-10-25T21:05:14.044Z"
   },
   {
    "duration": 6,
    "start_time": "2023-10-25T21:05:14.238Z"
   },
   {
    "duration": 19,
    "start_time": "2023-10-25T21:05:14.246Z"
   },
   {
    "duration": 49,
    "start_time": "2023-10-25T21:05:14.267Z"
   },
   {
    "duration": 7,
    "start_time": "2023-10-25T21:05:14.318Z"
   },
   {
    "duration": 17,
    "start_time": "2023-10-25T21:05:14.327Z"
   },
   {
    "duration": 17,
    "start_time": "2023-10-25T21:05:14.346Z"
   },
   {
    "duration": 27,
    "start_time": "2023-10-25T21:05:14.365Z"
   },
   {
    "duration": 173,
    "start_time": "2023-10-25T21:05:14.394Z"
   },
   {
    "duration": 3,
    "start_time": "2023-10-25T21:07:19.182Z"
   },
   {
    "duration": 114,
    "start_time": "2023-10-25T21:07:19.187Z"
   },
   {
    "duration": 16,
    "start_time": "2023-10-25T21:07:19.303Z"
   },
   {
    "duration": 39,
    "start_time": "2023-10-25T21:07:19.320Z"
   },
   {
    "duration": 105,
    "start_time": "2023-10-25T21:07:19.362Z"
   },
   {
    "duration": 2337,
    "start_time": "2023-10-25T21:07:19.469Z"
   },
   {
    "duration": 10,
    "start_time": "2023-10-25T21:07:21.808Z"
   },
   {
    "duration": 33,
    "start_time": "2023-10-25T21:07:21.819Z"
   },
   {
    "duration": 29,
    "start_time": "2023-10-25T21:07:21.853Z"
   },
   {
    "duration": 43,
    "start_time": "2023-10-25T21:07:21.883Z"
   },
   {
    "duration": 53,
    "start_time": "2023-10-25T21:07:21.927Z"
   },
   {
    "duration": 8,
    "start_time": "2023-10-25T21:07:21.981Z"
   },
   {
    "duration": 28,
    "start_time": "2023-10-25T21:07:21.990Z"
   },
   {
    "duration": 26,
    "start_time": "2023-10-25T21:07:22.021Z"
   },
   {
    "duration": 33,
    "start_time": "2023-10-25T21:07:22.048Z"
   },
   {
    "duration": 25,
    "start_time": "2023-10-25T21:07:22.083Z"
   },
   {
    "duration": 158,
    "start_time": "2023-10-25T21:07:22.110Z"
   },
   {
    "duration": 7,
    "start_time": "2023-10-25T21:07:22.270Z"
   },
   {
    "duration": 1288,
    "start_time": "2023-10-25T21:07:22.279Z"
   },
   {
    "duration": 9,
    "start_time": "2023-10-25T21:07:23.569Z"
   },
   {
    "duration": 30,
    "start_time": "2023-10-25T21:07:23.579Z"
   },
   {
    "duration": 19,
    "start_time": "2023-10-25T21:07:23.611Z"
   },
   {
    "duration": 20,
    "start_time": "2023-10-25T21:07:23.632Z"
   },
   {
    "duration": 284,
    "start_time": "2023-10-25T21:07:23.653Z"
   },
   {
    "duration": 4,
    "start_time": "2023-10-25T21:07:23.938Z"
   },
   {
    "duration": 51,
    "start_time": "2023-10-25T21:07:23.944Z"
   },
   {
    "duration": 6,
    "start_time": "2023-10-25T21:07:23.996Z"
   },
   {
    "duration": 27,
    "start_time": "2023-10-25T21:07:24.004Z"
   },
   {
    "duration": 110,
    "start_time": "2023-10-25T21:07:24.033Z"
   },
   {
    "duration": 10,
    "start_time": "2023-10-25T21:07:24.144Z"
   },
   {
    "duration": 26,
    "start_time": "2023-10-25T21:07:24.156Z"
   },
   {
    "duration": 239,
    "start_time": "2023-10-25T21:07:24.184Z"
   },
   {
    "duration": 9,
    "start_time": "2023-10-25T21:07:24.424Z"
   },
   {
    "duration": 134,
    "start_time": "2023-10-25T21:07:24.435Z"
   },
   {
    "duration": 10,
    "start_time": "2023-10-25T21:07:24.572Z"
   },
   {
    "duration": 41,
    "start_time": "2023-10-25T21:07:24.601Z"
   },
   {
    "duration": 226,
    "start_time": "2023-10-25T21:07:24.644Z"
   },
   {
    "duration": 11,
    "start_time": "2023-10-25T21:07:24.871Z"
   },
   {
    "duration": 139,
    "start_time": "2023-10-25T21:07:24.883Z"
   },
   {
    "duration": 10,
    "start_time": "2023-10-25T21:07:25.024Z"
   },
   {
    "duration": 32,
    "start_time": "2023-10-25T21:07:25.039Z"
   },
   {
    "duration": 217,
    "start_time": "2023-10-25T21:07:25.072Z"
   },
   {
    "duration": 12,
    "start_time": "2023-10-25T21:07:25.290Z"
   },
   {
    "duration": 155,
    "start_time": "2023-10-25T21:07:25.304Z"
   },
   {
    "duration": 8,
    "start_time": "2023-10-25T21:07:25.461Z"
   },
   {
    "duration": 4,
    "start_time": "2023-10-25T21:07:25.470Z"
   },
   {
    "duration": 130,
    "start_time": "2023-10-25T21:07:25.476Z"
   },
   {
    "duration": 180,
    "start_time": "2023-10-25T21:07:25.608Z"
   },
   {
    "duration": 19,
    "start_time": "2023-10-25T21:07:25.789Z"
   },
   {
    "duration": 122,
    "start_time": "2023-10-25T21:07:25.810Z"
   },
   {
    "duration": 9,
    "start_time": "2023-10-25T21:07:25.933Z"
   },
   {
    "duration": 11,
    "start_time": "2023-10-25T21:07:25.943Z"
   },
   {
    "duration": 152,
    "start_time": "2023-10-25T21:07:25.956Z"
   },
   {
    "duration": 9,
    "start_time": "2023-10-25T21:07:26.110Z"
   },
   {
    "duration": 134,
    "start_time": "2023-10-25T21:07:26.121Z"
   },
   {
    "duration": 9,
    "start_time": "2023-10-25T21:07:26.257Z"
   },
   {
    "duration": 16,
    "start_time": "2023-10-25T21:07:26.268Z"
   },
   {
    "duration": 127,
    "start_time": "2023-10-25T21:07:26.286Z"
   },
   {
    "duration": 188,
    "start_time": "2023-10-25T21:07:26.415Z"
   },
   {
    "duration": 5,
    "start_time": "2023-10-25T21:07:26.605Z"
   },
   {
    "duration": 14,
    "start_time": "2023-10-25T21:07:26.612Z"
   },
   {
    "duration": 217,
    "start_time": "2023-10-25T21:07:26.628Z"
   },
   {
    "duration": 10,
    "start_time": "2023-10-25T21:07:26.847Z"
   },
   {
    "duration": 271,
    "start_time": "2023-10-25T21:07:26.859Z"
   },
   {
    "duration": 10,
    "start_time": "2023-10-25T21:07:27.132Z"
   },
   {
    "duration": 10,
    "start_time": "2023-10-25T21:07:27.144Z"
   },
   {
    "duration": 179,
    "start_time": "2023-10-25T21:07:27.156Z"
   },
   {
    "duration": 10,
    "start_time": "2023-10-25T21:07:27.337Z"
   },
   {
    "duration": 196,
    "start_time": "2023-10-25T21:07:27.348Z"
   },
   {
    "duration": 8,
    "start_time": "2023-10-25T21:07:27.546Z"
   },
   {
    "duration": 191,
    "start_time": "2023-10-25T21:07:27.556Z"
   },
   {
    "duration": 9,
    "start_time": "2023-10-25T21:07:27.749Z"
   },
   {
    "duration": 206,
    "start_time": "2023-10-25T21:07:27.759Z"
   },
   {
    "duration": 88,
    "start_time": "2023-10-25T21:07:27.967Z"
   },
   {
    "duration": 12,
    "start_time": "2023-10-25T21:07:28.056Z"
   },
   {
    "duration": 6,
    "start_time": "2023-10-25T21:07:28.070Z"
   },
   {
    "duration": 291,
    "start_time": "2023-10-25T21:07:28.101Z"
   },
   {
    "duration": 160,
    "start_time": "2023-10-25T21:07:28.401Z"
   },
   {
    "duration": 6,
    "start_time": "2023-10-25T21:07:28.563Z"
   },
   {
    "duration": 200,
    "start_time": "2023-10-25T21:07:28.571Z"
   },
   {
    "duration": 5,
    "start_time": "2023-10-25T21:07:28.772Z"
   },
   {
    "duration": 188,
    "start_time": "2023-10-25T21:07:28.779Z"
   },
   {
    "duration": 4,
    "start_time": "2023-10-25T21:07:28.969Z"
   },
   {
    "duration": 185,
    "start_time": "2023-10-25T21:07:28.974Z"
   },
   {
    "duration": 174,
    "start_time": "2023-10-25T21:07:29.160Z"
   },
   {
    "duration": 168,
    "start_time": "2023-10-25T21:07:29.336Z"
   },
   {
    "duration": 164,
    "start_time": "2023-10-25T21:07:29.506Z"
   },
   {
    "duration": 650,
    "start_time": "2023-10-25T21:07:29.671Z"
   },
   {
    "duration": 6,
    "start_time": "2023-10-25T21:07:30.323Z"
   },
   {
    "duration": 53,
    "start_time": "2023-10-25T21:07:30.331Z"
   },
   {
    "duration": 66,
    "start_time": "2023-10-25T21:07:30.385Z"
   },
   {
    "duration": 42,
    "start_time": "2023-10-25T21:07:30.453Z"
   },
   {
    "duration": 50,
    "start_time": "2023-10-25T21:07:30.496Z"
   },
   {
    "duration": 47,
    "start_time": "2023-10-25T21:07:30.549Z"
   },
   {
    "duration": 64,
    "start_time": "2023-10-25T21:07:30.598Z"
   },
   {
    "duration": 210,
    "start_time": "2023-10-25T21:07:30.664Z"
   },
   {
    "duration": 188,
    "start_time": "2023-10-25T21:08:54.538Z"
   },
   {
    "duration": 9,
    "start_time": "2023-10-25T21:09:05.526Z"
   },
   {
    "duration": 155,
    "start_time": "2023-10-25T21:09:13.925Z"
   },
   {
    "duration": 4,
    "start_time": "2023-10-25T21:09:23.738Z"
   },
   {
    "duration": 763,
    "start_time": "2023-10-26T17:50:53.363Z"
   },
   {
    "duration": 298,
    "start_time": "2023-10-26T17:50:54.128Z"
   },
   {
    "duration": 13,
    "start_time": "2023-10-26T17:50:54.428Z"
   },
   {
    "duration": 37,
    "start_time": "2023-10-26T17:50:54.443Z"
   },
   {
    "duration": 75,
    "start_time": "2023-10-26T17:50:54.481Z"
   },
   {
    "duration": 1752,
    "start_time": "2023-10-26T17:50:54.557Z"
   },
   {
    "duration": 13,
    "start_time": "2023-10-26T17:50:56.311Z"
   },
   {
    "duration": 18,
    "start_time": "2023-10-26T17:50:56.326Z"
   },
   {
    "duration": 4,
    "start_time": "2023-10-26T17:50:56.346Z"
   },
   {
    "duration": 11,
    "start_time": "2023-10-26T17:50:56.353Z"
   },
   {
    "duration": 27,
    "start_time": "2023-10-26T17:50:56.366Z"
   },
   {
    "duration": 5,
    "start_time": "2023-10-26T17:50:56.395Z"
   },
   {
    "duration": 7,
    "start_time": "2023-10-26T17:50:56.402Z"
   },
   {
    "duration": 42,
    "start_time": "2023-10-26T17:50:56.410Z"
   },
   {
    "duration": 6,
    "start_time": "2023-10-26T17:50:56.453Z"
   },
   {
    "duration": 17,
    "start_time": "2023-10-26T17:50:56.460Z"
   },
   {
    "duration": 152,
    "start_time": "2023-10-26T17:50:56.478Z"
   },
   {
    "duration": 9,
    "start_time": "2023-10-26T17:50:56.631Z"
   },
   {
    "duration": 973,
    "start_time": "2023-10-26T17:50:56.641Z"
   },
   {
    "duration": 8,
    "start_time": "2023-10-26T17:50:57.616Z"
   },
   {
    "duration": 19,
    "start_time": "2023-10-26T17:50:57.626Z"
   },
   {
    "duration": 4,
    "start_time": "2023-10-26T17:50:57.647Z"
   },
   {
    "duration": 15,
    "start_time": "2023-10-26T17:50:57.653Z"
   },
   {
    "duration": 289,
    "start_time": "2023-10-26T17:50:57.670Z"
   },
   {
    "duration": 4,
    "start_time": "2023-10-26T17:50:57.961Z"
   },
   {
    "duration": 32,
    "start_time": "2023-10-26T17:50:57.966Z"
   },
   {
    "duration": 4,
    "start_time": "2023-10-26T17:50:57.999Z"
   },
   {
    "duration": 8,
    "start_time": "2023-10-26T17:50:58.009Z"
   },
   {
    "duration": 105,
    "start_time": "2023-10-26T17:50:58.040Z"
   },
   {
    "duration": 10,
    "start_time": "2023-10-26T17:50:58.147Z"
   },
   {
    "duration": 4,
    "start_time": "2023-10-26T17:50:58.159Z"
   },
   {
    "duration": 181,
    "start_time": "2023-10-26T17:50:58.164Z"
   },
   {
    "duration": 10,
    "start_time": "2023-10-26T17:50:58.347Z"
   },
   {
    "duration": 121,
    "start_time": "2023-10-26T17:50:58.359Z"
   },
   {
    "duration": 8,
    "start_time": "2023-10-26T17:50:58.481Z"
   },
   {
    "duration": 5,
    "start_time": "2023-10-26T17:50:58.490Z"
   },
   {
    "duration": 219,
    "start_time": "2023-10-26T17:50:58.496Z"
   },
   {
    "duration": 7,
    "start_time": "2023-10-26T17:50:58.717Z"
   },
   {
    "duration": 102,
    "start_time": "2023-10-26T17:50:58.725Z"
   },
   {
    "duration": 17,
    "start_time": "2023-10-26T17:50:58.829Z"
   },
   {
    "duration": 5,
    "start_time": "2023-10-26T17:50:58.847Z"
   },
   {
    "duration": 170,
    "start_time": "2023-10-26T17:50:58.854Z"
   },
   {
    "duration": 14,
    "start_time": "2023-10-26T17:50:59.026Z"
   },
   {
    "duration": 121,
    "start_time": "2023-10-26T17:50:59.042Z"
   },
   {
    "duration": 7,
    "start_time": "2023-10-26T17:50:59.164Z"
   },
   {
    "duration": 37,
    "start_time": "2023-10-26T17:50:59.173Z"
   },
   {
    "duration": 129,
    "start_time": "2023-10-26T17:50:59.212Z"
   },
   {
    "duration": 163,
    "start_time": "2023-10-26T17:50:59.342Z"
   },
   {
    "duration": 7,
    "start_time": "2023-10-26T17:50:59.507Z"
   },
   {
    "duration": 113,
    "start_time": "2023-10-26T17:50:59.515Z"
   },
   {
    "duration": 11,
    "start_time": "2023-10-26T17:50:59.629Z"
   },
   {
    "duration": 135,
    "start_time": "2023-10-26T17:50:59.641Z"
   },
   {
    "duration": 7,
    "start_time": "2023-10-26T17:50:59.777Z"
   },
   {
    "duration": 121,
    "start_time": "2023-10-26T17:50:59.786Z"
   },
   {
    "duration": 9,
    "start_time": "2023-10-26T17:50:59.908Z"
   },
   {
    "duration": 22,
    "start_time": "2023-10-26T17:50:59.919Z"
   },
   {
    "duration": 115,
    "start_time": "2023-10-26T17:50:59.943Z"
   },
   {
    "duration": 159,
    "start_time": "2023-10-26T17:51:00.060Z"
   },
   {
    "duration": 4,
    "start_time": "2023-10-26T17:51:00.220Z"
   },
   {
    "duration": 34,
    "start_time": "2023-10-26T17:51:00.225Z"
   },
   {
    "duration": 258,
    "start_time": "2023-10-26T17:51:00.260Z"
   },
   {
    "duration": 7,
    "start_time": "2023-10-26T17:51:00.519Z"
   },
   {
    "duration": 191,
    "start_time": "2023-10-26T17:51:00.527Z"
   },
   {
    "duration": 8,
    "start_time": "2023-10-26T17:51:00.719Z"
   },
   {
    "duration": 22,
    "start_time": "2023-10-26T17:51:00.729Z"
   },
   {
    "duration": 157,
    "start_time": "2023-10-26T17:51:00.752Z"
   },
   {
    "duration": 8,
    "start_time": "2023-10-26T17:51:00.910Z"
   },
   {
    "duration": 259,
    "start_time": "2023-10-26T17:51:00.919Z"
   },
   {
    "duration": 8,
    "start_time": "2023-10-26T17:51:01.180Z"
   },
   {
    "duration": 201,
    "start_time": "2023-10-26T17:51:01.189Z"
   },
   {
    "duration": 7,
    "start_time": "2023-10-26T17:51:01.392Z"
   },
   {
    "duration": 187,
    "start_time": "2023-10-26T17:51:01.401Z"
   },
   {
    "duration": 81,
    "start_time": "2023-10-26T17:51:01.589Z"
   },
   {
    "duration": 8,
    "start_time": "2023-10-26T17:51:01.671Z"
   },
   {
    "duration": 63,
    "start_time": "2023-10-26T17:51:01.680Z"
   },
   {
    "duration": 311,
    "start_time": "2023-10-26T17:51:01.745Z"
   },
   {
    "duration": 142,
    "start_time": "2023-10-26T17:51:02.058Z"
   },
   {
    "duration": 125,
    "start_time": "2023-10-26T17:51:02.202Z"
   },
   {
    "duration": 217,
    "start_time": "2023-10-26T17:51:02.329Z"
   },
   {
    "duration": 5,
    "start_time": "2023-10-26T17:51:02.548Z"
   },
   {
    "duration": 165,
    "start_time": "2023-10-26T17:51:02.556Z"
   },
   {
    "duration": 4,
    "start_time": "2023-10-26T17:51:02.726Z"
   },
   {
    "duration": 237,
    "start_time": "2023-10-26T17:51:02.731Z"
   },
   {
    "duration": 145,
    "start_time": "2023-10-26T17:51:02.970Z"
   },
   {
    "duration": 152,
    "start_time": "2023-10-26T17:51:03.117Z"
   },
   {
    "duration": 148,
    "start_time": "2023-10-26T17:51:03.271Z"
   },
   {
    "duration": 152,
    "start_time": "2023-10-26T17:51:03.420Z"
   },
   {
    "duration": 5,
    "start_time": "2023-10-26T17:51:03.573Z"
   },
   {
    "duration": 7,
    "start_time": "2023-10-26T17:51:03.579Z"
   },
   {
    "duration": 31,
    "start_time": "2023-10-26T17:51:03.587Z"
   },
   {
    "duration": 6,
    "start_time": "2023-10-26T17:51:03.620Z"
   },
   {
    "duration": 6,
    "start_time": "2023-10-26T17:51:03.639Z"
   },
   {
    "duration": 7,
    "start_time": "2023-10-26T17:51:03.646Z"
   },
   {
    "duration": 19,
    "start_time": "2023-10-26T17:51:03.654Z"
   },
   {
    "duration": 154,
    "start_time": "2023-10-26T17:51:03.675Z"
   },
   {
    "duration": 7,
    "start_time": "2023-10-26T17:57:02.020Z"
   },
   {
    "duration": 4,
    "start_time": "2023-10-26T17:57:02.975Z"
   },
   {
    "duration": 93,
    "start_time": "2023-10-26T17:57:08.239Z"
   },
   {
    "duration": 7,
    "start_time": "2023-10-26T17:57:35.209Z"
   },
   {
    "duration": 3,
    "start_time": "2023-10-26T17:57:36.415Z"
   },
   {
    "duration": 179,
    "start_time": "2023-10-26T17:57:39.427Z"
   },
   {
    "duration": 8,
    "start_time": "2023-10-26T17:57:45.034Z"
   },
   {
    "duration": 100,
    "start_time": "2023-10-26T17:57:49.518Z"
   },
   {
    "duration": 8,
    "start_time": "2023-10-26T17:57:51.003Z"
   },
   {
    "duration": 3,
    "start_time": "2023-10-26T17:57:51.692Z"
   },
   {
    "duration": 158,
    "start_time": "2023-10-26T17:58:37.710Z"
   },
   {
    "duration": 7,
    "start_time": "2023-10-26T17:59:10.899Z"
   },
   {
    "duration": 108,
    "start_time": "2023-10-26T17:59:11.520Z"
   },
   {
    "duration": 4,
    "start_time": "2023-10-26T17:59:32.481Z"
   },
   {
    "duration": 165,
    "start_time": "2023-10-26T17:59:49.531Z"
   },
   {
    "duration": 89,
    "start_time": "2023-10-26T18:00:35.657Z"
   },
   {
    "duration": 7,
    "start_time": "2023-10-26T18:00:49.729Z"
   },
   {
    "duration": 3,
    "start_time": "2023-10-26T18:00:52.332Z"
   },
   {
    "duration": 141,
    "start_time": "2023-10-26T18:00:56.858Z"
   },
   {
    "duration": 579,
    "start_time": "2023-10-26T18:10:31.924Z"
   },
   {
    "duration": 188,
    "start_time": "2023-10-26T18:15:40.560Z"
   },
   {
    "duration": 282,
    "start_time": "2023-10-26T18:16:29.161Z"
   },
   {
    "duration": 70,
    "start_time": "2023-10-26T18:20:48.891Z"
   },
   {
    "duration": 1301,
    "start_time": "2023-10-26T18:21:06.495Z"
   },
   {
    "duration": 329,
    "start_time": "2023-10-26T18:21:07.798Z"
   },
   {
    "duration": 21,
    "start_time": "2023-10-26T18:21:08.129Z"
   },
   {
    "duration": 43,
    "start_time": "2023-10-26T18:21:08.153Z"
   },
   {
    "duration": 83,
    "start_time": "2023-10-26T18:21:08.198Z"
   },
   {
    "duration": 2046,
    "start_time": "2023-10-26T18:21:08.283Z"
   },
   {
    "duration": 12,
    "start_time": "2023-10-26T18:21:10.331Z"
   },
   {
    "duration": 40,
    "start_time": "2023-10-26T18:21:10.345Z"
   },
   {
    "duration": 4,
    "start_time": "2023-10-26T18:21:10.386Z"
   },
   {
    "duration": 13,
    "start_time": "2023-10-26T18:21:10.394Z"
   },
   {
    "duration": 45,
    "start_time": "2023-10-26T18:21:10.409Z"
   },
   {
    "duration": 7,
    "start_time": "2023-10-26T18:21:10.456Z"
   },
   {
    "duration": 28,
    "start_time": "2023-10-26T18:21:10.465Z"
   },
   {
    "duration": 40,
    "start_time": "2023-10-26T18:21:10.495Z"
   },
   {
    "duration": 9,
    "start_time": "2023-10-26T18:21:10.536Z"
   },
   {
    "duration": 18,
    "start_time": "2023-10-26T18:21:10.547Z"
   },
   {
    "duration": 170,
    "start_time": "2023-10-26T18:21:10.566Z"
   },
   {
    "duration": 7,
    "start_time": "2023-10-26T18:21:10.738Z"
   },
   {
    "duration": 1172,
    "start_time": "2023-10-26T18:21:10.747Z"
   },
   {
    "duration": 8,
    "start_time": "2023-10-26T18:21:11.921Z"
   },
   {
    "duration": 14,
    "start_time": "2023-10-26T18:21:11.940Z"
   },
   {
    "duration": 9,
    "start_time": "2023-10-26T18:21:11.955Z"
   },
   {
    "duration": 22,
    "start_time": "2023-10-26T18:21:11.966Z"
   },
   {
    "duration": 321,
    "start_time": "2023-10-26T18:21:11.989Z"
   },
   {
    "duration": 3,
    "start_time": "2023-10-26T18:21:12.311Z"
   },
   {
    "duration": 46,
    "start_time": "2023-10-26T18:21:12.316Z"
   },
   {
    "duration": 9,
    "start_time": "2023-10-26T18:21:12.364Z"
   },
   {
    "duration": 17,
    "start_time": "2023-10-26T18:21:12.379Z"
   },
   {
    "duration": 176,
    "start_time": "2023-10-26T18:21:12.400Z"
   },
   {
    "duration": 14,
    "start_time": "2023-10-26T18:21:12.578Z"
   },
   {
    "duration": 18,
    "start_time": "2023-10-26T18:21:12.594Z"
   },
   {
    "duration": 245,
    "start_time": "2023-10-26T18:21:12.614Z"
   },
   {
    "duration": 10,
    "start_time": "2023-10-26T18:21:12.862Z"
   },
   {
    "duration": 128,
    "start_time": "2023-10-26T18:21:12.874Z"
   },
   {
    "duration": 9,
    "start_time": "2023-10-26T18:21:13.003Z"
   },
   {
    "duration": 31,
    "start_time": "2023-10-26T18:21:13.013Z"
   },
   {
    "duration": 215,
    "start_time": "2023-10-26T18:21:13.046Z"
   },
   {
    "duration": 11,
    "start_time": "2023-10-26T18:21:13.262Z"
   },
   {
    "duration": 125,
    "start_time": "2023-10-26T18:21:13.274Z"
   },
   {
    "duration": 11,
    "start_time": "2023-10-26T18:21:13.401Z"
   },
   {
    "duration": 5,
    "start_time": "2023-10-26T18:21:13.414Z"
   },
   {
    "duration": 212,
    "start_time": "2023-10-26T18:21:13.420Z"
   },
   {
    "duration": 12,
    "start_time": "2023-10-26T18:21:13.634Z"
   },
   {
    "duration": 289,
    "start_time": "2023-10-26T18:21:13.648Z"
   },
   {
    "duration": 10,
    "start_time": "2023-10-26T18:21:13.940Z"
   },
   {
    "duration": 4,
    "start_time": "2023-10-26T18:21:13.952Z"
   },
   {
    "duration": 15,
    "start_time": "2023-10-26T18:21:13.957Z"
   },
   {
    "duration": 149,
    "start_time": "2023-10-26T18:21:13.973Z"
   },
   {
    "duration": 16,
    "start_time": "2023-10-26T18:21:14.123Z"
   },
   {
    "duration": 9,
    "start_time": "2023-10-26T18:21:14.141Z"
   },
   {
    "duration": 46,
    "start_time": "2023-10-26T18:30:55.293Z"
   },
   {
    "duration": 1124,
    "start_time": "2023-10-26T18:31:22.756Z"
   },
   {
    "duration": 303,
    "start_time": "2023-10-26T18:31:23.882Z"
   },
   {
    "duration": 15,
    "start_time": "2023-10-26T18:31:24.186Z"
   },
   {
    "duration": 40,
    "start_time": "2023-10-26T18:31:24.202Z"
   },
   {
    "duration": 68,
    "start_time": "2023-10-26T18:31:24.244Z"
   },
   {
    "duration": 1918,
    "start_time": "2023-10-26T18:31:24.313Z"
   },
   {
    "duration": 9,
    "start_time": "2023-10-26T18:31:26.233Z"
   },
   {
    "duration": 20,
    "start_time": "2023-10-26T18:31:26.244Z"
   },
   {
    "duration": 5,
    "start_time": "2023-10-26T18:31:26.266Z"
   },
   {
    "duration": 6,
    "start_time": "2023-10-26T18:31:26.272Z"
   },
   {
    "duration": 25,
    "start_time": "2023-10-26T18:31:26.279Z"
   },
   {
    "duration": 5,
    "start_time": "2023-10-26T18:31:26.305Z"
   },
   {
    "duration": 32,
    "start_time": "2023-10-26T18:31:26.312Z"
   },
   {
    "duration": 28,
    "start_time": "2023-10-26T18:31:26.348Z"
   },
   {
    "duration": 6,
    "start_time": "2023-10-26T18:31:26.378Z"
   },
   {
    "duration": 8,
    "start_time": "2023-10-26T18:31:26.385Z"
   },
   {
    "duration": 189,
    "start_time": "2023-10-26T18:31:26.394Z"
   },
   {
    "duration": 7,
    "start_time": "2023-10-26T18:31:26.584Z"
   },
   {
    "duration": 1062,
    "start_time": "2023-10-26T18:31:26.593Z"
   },
   {
    "duration": 10,
    "start_time": "2023-10-26T18:31:27.657Z"
   },
   {
    "duration": 8,
    "start_time": "2023-10-26T18:31:27.668Z"
   },
   {
    "duration": 3,
    "start_time": "2023-10-26T18:31:27.678Z"
   },
   {
    "duration": 13,
    "start_time": "2023-10-26T18:31:27.682Z"
   },
   {
    "duration": 318,
    "start_time": "2023-10-26T18:31:27.696Z"
   },
   {
    "duration": 4,
    "start_time": "2023-10-26T18:31:28.015Z"
   },
   {
    "duration": 43,
    "start_time": "2023-10-26T18:31:28.020Z"
   },
   {
    "duration": 4,
    "start_time": "2023-10-26T18:31:28.064Z"
   },
   {
    "duration": 8,
    "start_time": "2023-10-26T18:31:28.069Z"
   },
   {
    "duration": 116,
    "start_time": "2023-10-26T18:31:28.078Z"
   },
   {
    "duration": 8,
    "start_time": "2023-10-26T18:31:28.196Z"
   },
   {
    "duration": 5,
    "start_time": "2023-10-26T18:31:28.205Z"
   },
   {
    "duration": 192,
    "start_time": "2023-10-26T18:31:28.211Z"
   },
   {
    "duration": 7,
    "start_time": "2023-10-26T18:31:28.405Z"
   },
   {
    "duration": 113,
    "start_time": "2023-10-26T18:31:28.413Z"
   },
   {
    "duration": 17,
    "start_time": "2023-10-26T18:31:28.527Z"
   },
   {
    "duration": 6,
    "start_time": "2023-10-26T18:31:28.546Z"
   },
   {
    "duration": 170,
    "start_time": "2023-10-26T18:31:28.553Z"
   },
   {
    "duration": 7,
    "start_time": "2023-10-26T18:31:28.724Z"
   },
   {
    "duration": 115,
    "start_time": "2023-10-26T18:31:28.732Z"
   },
   {
    "duration": 9,
    "start_time": "2023-10-26T18:31:28.850Z"
   },
   {
    "duration": 3,
    "start_time": "2023-10-26T18:31:28.863Z"
   },
   {
    "duration": 178,
    "start_time": "2023-10-26T18:31:28.867Z"
   },
   {
    "duration": 9,
    "start_time": "2023-10-26T18:31:29.047Z"
   },
   {
    "duration": 197,
    "start_time": "2023-10-26T18:31:29.058Z"
   },
   {
    "duration": 7,
    "start_time": "2023-10-26T18:31:29.257Z"
   },
   {
    "duration": 4,
    "start_time": "2023-10-26T18:31:29.265Z"
   },
   {
    "duration": 165,
    "start_time": "2023-10-26T18:31:29.271Z"
   },
   {
    "duration": 11,
    "start_time": "2023-10-26T18:31:29.440Z"
   },
   {
    "duration": 111,
    "start_time": "2023-10-26T18:31:29.452Z"
   },
   {
    "duration": 7,
    "start_time": "2023-10-26T18:31:29.564Z"
   },
   {
    "duration": 5,
    "start_time": "2023-10-26T18:31:29.572Z"
   },
   {
    "duration": 7,
    "start_time": "2023-10-26T18:31:29.578Z"
   },
   {
    "duration": 127,
    "start_time": "2023-10-26T18:31:29.586Z"
   },
   {
    "duration": 7,
    "start_time": "2023-10-26T18:31:29.714Z"
   },
   {
    "duration": 3,
    "start_time": "2023-10-26T18:31:29.723Z"
   },
   {
    "duration": 108,
    "start_time": "2023-10-26T18:31:29.739Z"
   },
   {
    "duration": 155,
    "start_time": "2023-10-26T18:31:29.849Z"
   },
   {
    "duration": 4,
    "start_time": "2023-10-26T18:31:30.005Z"
   },
   {
    "duration": 72,
    "start_time": "2023-10-26T18:31:30.011Z"
   },
   {
    "duration": 220,
    "start_time": "2023-10-26T18:31:30.084Z"
   },
   {
    "duration": 8,
    "start_time": "2023-10-26T18:31:30.306Z"
   },
   {
    "duration": 200,
    "start_time": "2023-10-26T18:31:30.315Z"
   },
   {
    "duration": 9,
    "start_time": "2023-10-26T18:31:30.516Z"
   },
   {
    "duration": 40,
    "start_time": "2023-10-26T18:31:30.526Z"
   },
   {
    "duration": 168,
    "start_time": "2023-10-26T18:31:30.568Z"
   },
   {
    "duration": 11,
    "start_time": "2023-10-26T18:31:30.737Z"
   },
   {
    "duration": 189,
    "start_time": "2023-10-26T18:31:30.750Z"
   },
   {
    "duration": 11,
    "start_time": "2023-10-26T18:31:30.942Z"
   },
   {
    "duration": 185,
    "start_time": "2023-10-26T18:31:30.954Z"
   },
   {
    "duration": 9,
    "start_time": "2023-10-26T18:31:31.141Z"
   },
   {
    "duration": 272,
    "start_time": "2023-10-26T18:31:31.151Z"
   },
   {
    "duration": 76,
    "start_time": "2023-10-26T18:31:31.424Z"
   },
   {
    "duration": 8,
    "start_time": "2023-10-26T18:31:31.501Z"
   },
   {
    "duration": 58,
    "start_time": "2023-10-26T18:31:31.510Z"
   },
   {
    "duration": 240,
    "start_time": "2023-10-26T18:31:31.569Z"
   },
   {
    "duration": 140,
    "start_time": "2023-10-26T18:31:31.810Z"
   },
   {
    "duration": 8,
    "start_time": "2023-10-26T18:31:31.951Z"
   },
   {
    "duration": 176,
    "start_time": "2023-10-26T18:31:31.960Z"
   },
   {
    "duration": 7,
    "start_time": "2023-10-26T18:31:32.138Z"
   },
   {
    "duration": 175,
    "start_time": "2023-10-26T18:31:32.147Z"
   },
   {
    "duration": 4,
    "start_time": "2023-10-26T18:31:32.324Z"
   },
   {
    "duration": 221,
    "start_time": "2023-10-26T18:31:32.329Z"
   },
   {
    "duration": 177,
    "start_time": "2023-10-26T18:31:32.553Z"
   },
   {
    "duration": 146,
    "start_time": "2023-10-26T18:31:32.731Z"
   },
   {
    "duration": 144,
    "start_time": "2023-10-26T18:31:32.878Z"
   },
   {
    "duration": 156,
    "start_time": "2023-10-26T18:31:33.023Z"
   },
   {
    "duration": 5,
    "start_time": "2023-10-26T18:31:33.180Z"
   },
   {
    "duration": 5,
    "start_time": "2023-10-26T18:31:33.187Z"
   },
   {
    "duration": 26,
    "start_time": "2023-10-26T18:31:33.193Z"
   },
   {
    "duration": 23,
    "start_time": "2023-10-26T18:31:33.221Z"
   },
   {
    "duration": 11,
    "start_time": "2023-10-26T18:31:33.246Z"
   },
   {
    "duration": 5,
    "start_time": "2023-10-26T18:31:33.259Z"
   },
   {
    "duration": 27,
    "start_time": "2023-10-26T18:31:33.265Z"
   },
   {
    "duration": 178,
    "start_time": "2023-10-26T18:31:33.293Z"
   },
   {
    "duration": 138,
    "start_time": "2023-10-26T18:34:53.775Z"
   },
   {
    "duration": 167,
    "start_time": "2023-10-26T18:35:39.327Z"
   },
   {
    "duration": 244,
    "start_time": "2023-10-26T18:35:46.682Z"
   },
   {
    "duration": 151,
    "start_time": "2023-10-26T18:35:52.573Z"
   },
   {
    "duration": 148,
    "start_time": "2023-10-26T18:36:24.325Z"
   },
   {
    "duration": 171,
    "start_time": "2023-10-26T18:39:52.440Z"
   },
   {
    "duration": 145,
    "start_time": "2023-10-26T18:39:58.446Z"
   },
   {
    "duration": 58,
    "start_time": "2023-10-26T18:43:09.495Z"
   },
   {
    "duration": 3,
    "start_time": "2023-10-26T18:58:16.746Z"
   },
   {
    "duration": 80,
    "start_time": "2023-10-26T18:58:16.767Z"
   },
   {
    "duration": 13,
    "start_time": "2023-10-26T18:58:16.885Z"
   },
   {
    "duration": 34,
    "start_time": "2023-10-26T18:58:16.983Z"
   },
   {
    "duration": 84,
    "start_time": "2023-10-26T18:58:18.743Z"
   },
   {
    "duration": 1749,
    "start_time": "2023-10-26T18:58:18.846Z"
   },
   {
    "duration": 9,
    "start_time": "2023-10-26T18:58:20.609Z"
   },
   {
    "duration": 11,
    "start_time": "2023-10-26T18:58:20.644Z"
   },
   {
    "duration": 4,
    "start_time": "2023-10-26T18:58:20.664Z"
   },
   {
    "duration": 4,
    "start_time": "2023-10-26T18:58:20.697Z"
   },
   {
    "duration": 37,
    "start_time": "2023-10-26T18:58:20.745Z"
   },
   {
    "duration": 6,
    "start_time": "2023-10-26T18:58:20.799Z"
   },
   {
    "duration": 16,
    "start_time": "2023-10-26T18:58:20.863Z"
   },
   {
    "duration": 20,
    "start_time": "2023-10-26T18:58:20.890Z"
   },
   {
    "duration": 7,
    "start_time": "2023-10-26T18:58:20.943Z"
   },
   {
    "duration": 6,
    "start_time": "2023-10-26T18:58:21.121Z"
   },
   {
    "duration": 171,
    "start_time": "2023-10-26T18:58:21.148Z"
   },
   {
    "duration": 7,
    "start_time": "2023-10-26T18:58:22.383Z"
   },
   {
    "duration": 1149,
    "start_time": "2023-10-26T18:58:22.405Z"
   },
   {
    "duration": 11,
    "start_time": "2023-10-26T18:58:23.571Z"
   },
   {
    "duration": 14,
    "start_time": "2023-10-26T18:58:23.590Z"
   },
   {
    "duration": 4,
    "start_time": "2023-10-26T18:58:23.641Z"
   },
   {
    "duration": 8,
    "start_time": "2023-10-26T18:58:23.941Z"
   },
   {
    "duration": 316,
    "start_time": "2023-10-26T18:58:23.956Z"
   },
   {
    "duration": 3,
    "start_time": "2023-10-26T18:58:24.304Z"
   },
   {
    "duration": 48,
    "start_time": "2023-10-26T18:58:24.315Z"
   },
   {
    "duration": 4,
    "start_time": "2023-10-26T18:58:24.376Z"
   },
   {
    "duration": 10,
    "start_time": "2023-10-26T18:58:24.512Z"
   },
   {
    "duration": 117,
    "start_time": "2023-10-26T18:58:24.548Z"
   },
   {
    "duration": 8,
    "start_time": "2023-10-26T18:58:24.673Z"
   },
   {
    "duration": 4,
    "start_time": "2023-10-26T18:58:24.863Z"
   },
   {
    "duration": 192,
    "start_time": "2023-10-26T18:58:24.883Z"
   },
   {
    "duration": 10,
    "start_time": "2023-10-26T18:58:25.188Z"
   },
   {
    "duration": 147,
    "start_time": "2023-10-26T18:58:25.211Z"
   },
   {
    "duration": 13,
    "start_time": "2023-10-26T18:58:25.365Z"
   },
   {
    "duration": 4,
    "start_time": "2023-10-26T18:58:25.556Z"
   },
   {
    "duration": 192,
    "start_time": "2023-10-26T18:58:25.575Z"
   },
   {
    "duration": 8,
    "start_time": "2023-10-26T18:58:25.888Z"
   },
   {
    "duration": 119,
    "start_time": "2023-10-26T18:58:25.907Z"
   },
   {
    "duration": 11,
    "start_time": "2023-10-26T18:58:26.042Z"
   },
   {
    "duration": 8,
    "start_time": "2023-10-26T18:58:26.233Z"
   },
   {
    "duration": 220,
    "start_time": "2023-10-26T18:58:26.252Z"
   },
   {
    "duration": 10,
    "start_time": "2023-10-26T18:58:26.597Z"
   },
   {
    "duration": 105,
    "start_time": "2023-10-26T18:58:26.620Z"
   },
   {
    "duration": 15,
    "start_time": "2023-10-26T18:58:26.743Z"
   },
   {
    "duration": 4,
    "start_time": "2023-10-26T18:58:26.915Z"
   },
   {
    "duration": 160,
    "start_time": "2023-10-26T18:58:26.941Z"
   },
   {
    "duration": 7,
    "start_time": "2023-10-26T18:58:27.203Z"
   },
   {
    "duration": 124,
    "start_time": "2023-10-26T18:58:27.239Z"
   },
   {
    "duration": 37,
    "start_time": "2023-10-26T18:58:27.370Z"
   },
   {
    "duration": 4,
    "start_time": "2023-10-26T19:01:23.703Z"
   },
   {
    "duration": 3,
    "start_time": "2023-10-26T19:22:42.402Z"
   },
   {
    "duration": 163,
    "start_time": "2023-10-26T19:22:42.408Z"
   },
   {
    "duration": 21,
    "start_time": "2023-10-26T19:22:42.573Z"
   },
   {
    "duration": 65,
    "start_time": "2023-10-26T19:22:42.597Z"
   },
   {
    "duration": 100,
    "start_time": "2023-10-26T19:22:42.676Z"
   },
   {
    "duration": 2042,
    "start_time": "2023-10-26T19:22:42.785Z"
   },
   {
    "duration": 27,
    "start_time": "2023-10-26T19:22:44.829Z"
   },
   {
    "duration": 26,
    "start_time": "2023-10-26T19:22:44.857Z"
   },
   {
    "duration": 4,
    "start_time": "2023-10-26T19:22:44.885Z"
   },
   {
    "duration": 6,
    "start_time": "2023-10-26T19:22:44.890Z"
   },
   {
    "duration": 50,
    "start_time": "2023-10-26T19:22:44.898Z"
   },
   {
    "duration": 15,
    "start_time": "2023-10-26T19:22:44.950Z"
   },
   {
    "duration": 11,
    "start_time": "2023-10-26T19:22:44.967Z"
   },
   {
    "duration": 35,
    "start_time": "2023-10-26T19:22:44.982Z"
   },
   {
    "duration": 9,
    "start_time": "2023-10-26T19:22:45.018Z"
   },
   {
    "duration": 38,
    "start_time": "2023-10-26T19:22:45.028Z"
   },
   {
    "duration": 332,
    "start_time": "2023-10-26T19:22:45.068Z"
   },
   {
    "duration": 10,
    "start_time": "2023-10-26T19:22:45.402Z"
   },
   {
    "duration": 1538,
    "start_time": "2023-10-26T19:22:45.414Z"
   },
   {
    "duration": 10,
    "start_time": "2023-10-26T19:22:46.953Z"
   },
   {
    "duration": 15,
    "start_time": "2023-10-26T19:22:46.968Z"
   },
   {
    "duration": 4,
    "start_time": "2023-10-26T19:22:46.984Z"
   },
   {
    "duration": 17,
    "start_time": "2023-10-26T19:22:46.990Z"
   },
   {
    "duration": 356,
    "start_time": "2023-10-26T19:22:47.008Z"
   },
   {
    "duration": 5,
    "start_time": "2023-10-26T19:22:47.365Z"
   },
   {
    "duration": 39,
    "start_time": "2023-10-26T19:22:47.373Z"
   },
   {
    "duration": 35,
    "start_time": "2023-10-26T19:22:47.414Z"
   },
   {
    "duration": 21,
    "start_time": "2023-10-26T19:22:47.451Z"
   },
   {
    "duration": 109,
    "start_time": "2023-10-26T19:22:47.474Z"
   },
   {
    "duration": 13,
    "start_time": "2023-10-26T19:22:47.584Z"
   },
   {
    "duration": 5,
    "start_time": "2023-10-26T19:22:47.599Z"
   },
   {
    "duration": 302,
    "start_time": "2023-10-26T19:22:47.606Z"
   },
   {
    "duration": 11,
    "start_time": "2023-10-26T19:22:47.911Z"
   },
   {
    "duration": 178,
    "start_time": "2023-10-26T19:22:47.924Z"
   },
   {
    "duration": 12,
    "start_time": "2023-10-26T19:22:48.104Z"
   },
   {
    "duration": 5,
    "start_time": "2023-10-26T19:22:48.118Z"
   },
   {
    "duration": 272,
    "start_time": "2023-10-26T19:22:48.124Z"
   },
   {
    "duration": 10,
    "start_time": "2023-10-26T19:22:48.398Z"
   },
   {
    "duration": 158,
    "start_time": "2023-10-26T19:22:48.410Z"
   },
   {
    "duration": 9,
    "start_time": "2023-10-26T19:22:48.570Z"
   },
   {
    "duration": 17,
    "start_time": "2023-10-26T19:22:48.584Z"
   },
   {
    "duration": 187,
    "start_time": "2023-10-26T19:22:48.603Z"
   },
   {
    "duration": 11,
    "start_time": "2023-10-26T19:22:48.792Z"
   },
   {
    "duration": 196,
    "start_time": "2023-10-26T19:22:48.804Z"
   },
   {
    "duration": 10,
    "start_time": "2023-10-26T19:22:49.003Z"
   },
   {
    "duration": 16,
    "start_time": "2023-10-26T19:22:49.014Z"
   },
   {
    "duration": 232,
    "start_time": "2023-10-26T19:22:49.032Z"
   },
   {
    "duration": 12,
    "start_time": "2023-10-26T19:22:49.270Z"
   },
   {
    "duration": 170,
    "start_time": "2023-10-26T19:22:49.286Z"
   },
   {
    "duration": 10,
    "start_time": "2023-10-26T19:22:49.462Z"
   },
   {
    "duration": 4,
    "start_time": "2023-10-26T19:22:49.476Z"
   },
   {
    "duration": 21,
    "start_time": "2023-10-26T19:22:49.482Z"
   },
   {
    "duration": 157,
    "start_time": "2023-10-26T19:22:49.506Z"
   },
   {
    "duration": 11,
    "start_time": "2023-10-26T19:22:49.665Z"
   },
   {
    "duration": 19,
    "start_time": "2023-10-26T19:22:49.677Z"
   },
   {
    "duration": 145,
    "start_time": "2023-10-26T19:22:49.697Z"
   },
   {
    "duration": 227,
    "start_time": "2023-10-26T19:22:49.843Z"
   },
   {
    "duration": 7,
    "start_time": "2023-10-26T19:22:50.072Z"
   },
   {
    "duration": 47,
    "start_time": "2023-10-26T19:22:50.082Z"
   },
   {
    "duration": 282,
    "start_time": "2023-10-26T19:22:50.131Z"
   },
   {
    "duration": 9,
    "start_time": "2023-10-26T19:22:50.416Z"
   },
   {
    "duration": 269,
    "start_time": "2023-10-26T19:22:50.439Z"
   },
   {
    "duration": 12,
    "start_time": "2023-10-26T19:22:50.710Z"
   },
   {
    "duration": 41,
    "start_time": "2023-10-26T19:22:50.724Z"
   },
   {
    "duration": 223,
    "start_time": "2023-10-26T19:22:50.767Z"
   },
   {
    "duration": 11,
    "start_time": "2023-10-26T19:22:50.992Z"
   },
   {
    "duration": 203,
    "start_time": "2023-10-26T19:22:51.005Z"
   },
   {
    "duration": 9,
    "start_time": "2023-10-26T19:22:51.210Z"
   },
   {
    "duration": 210,
    "start_time": "2023-10-26T19:22:51.220Z"
   },
   {
    "duration": 30,
    "start_time": "2023-10-26T19:22:51.432Z"
   },
   {
    "duration": 214,
    "start_time": "2023-10-26T19:22:51.469Z"
   },
   {
    "duration": 105,
    "start_time": "2023-10-26T19:22:51.685Z"
   },
   {
    "duration": 10,
    "start_time": "2023-10-26T19:22:51.792Z"
   },
   {
    "duration": 48,
    "start_time": "2023-10-26T19:22:51.804Z"
   },
   {
    "duration": 388,
    "start_time": "2023-10-26T19:22:51.854Z"
   },
   {
    "duration": 228,
    "start_time": "2023-10-26T19:22:52.244Z"
   },
   {
    "duration": 14,
    "start_time": "2023-10-26T19:22:52.478Z"
   },
   {
    "duration": 273,
    "start_time": "2023-10-26T19:22:52.498Z"
   },
   {
    "duration": 9,
    "start_time": "2023-10-26T19:22:52.777Z"
   },
   {
    "duration": 262,
    "start_time": "2023-10-26T19:22:52.792Z"
   },
   {
    "duration": 9,
    "start_time": "2023-10-26T19:22:53.060Z"
   },
   {
    "duration": 281,
    "start_time": "2023-10-26T19:22:53.071Z"
   },
   {
    "duration": 220,
    "start_time": "2023-10-26T19:22:53.357Z"
   },
   {
    "duration": 181,
    "start_time": "2023-10-26T19:22:53.582Z"
   },
   {
    "duration": 158,
    "start_time": "2023-10-26T19:22:53.765Z"
   },
   {
    "duration": 249,
    "start_time": "2023-10-26T19:22:53.925Z"
   },
   {
    "duration": 7,
    "start_time": "2023-10-26T19:22:54.177Z"
   },
   {
    "duration": 13,
    "start_time": "2023-10-26T19:22:54.186Z"
   },
   {
    "duration": 52,
    "start_time": "2023-10-26T19:22:54.201Z"
   },
   {
    "duration": 14,
    "start_time": "2023-10-26T19:22:54.254Z"
   },
   {
    "duration": 10,
    "start_time": "2023-10-26T19:22:54.272Z"
   },
   {
    "duration": 6,
    "start_time": "2023-10-26T19:22:54.286Z"
   },
   {
    "duration": 36,
    "start_time": "2023-10-26T19:22:54.294Z"
   },
   {
    "duration": 240,
    "start_time": "2023-10-26T19:22:54.332Z"
   },
   {
    "duration": 147,
    "start_time": "2023-10-26T19:24:50.626Z"
   },
   {
    "duration": 150,
    "start_time": "2023-10-26T19:25:16.802Z"
   },
   {
    "duration": 137,
    "start_time": "2023-10-26T19:25:27.804Z"
   },
   {
    "duration": 17,
    "start_time": "2023-10-26T19:26:09.542Z"
   },
   {
    "duration": 13,
    "start_time": "2023-10-26T19:26:16.553Z"
   },
   {
    "duration": 186,
    "start_time": "2023-10-26T19:26:39.324Z"
   },
   {
    "duration": 137,
    "start_time": "2023-10-26T19:27:14.802Z"
   },
   {
    "duration": 148,
    "start_time": "2023-10-26T19:27:32.196Z"
   },
   {
    "duration": 237,
    "start_time": "2023-10-26T19:28:02.673Z"
   },
   {
    "duration": 163,
    "start_time": "2023-10-26T19:28:15.533Z"
   },
   {
    "duration": 146,
    "start_time": "2023-10-26T19:30:33.754Z"
   },
   {
    "duration": 11,
    "start_time": "2023-10-26T19:33:24.514Z"
   },
   {
    "duration": 4,
    "start_time": "2023-10-26T19:33:28.602Z"
   },
   {
    "duration": 193,
    "start_time": "2023-10-26T19:38:09.167Z"
   },
   {
    "duration": 237,
    "start_time": "2023-10-26T19:38:14.289Z"
   },
   {
    "duration": 4,
    "start_time": "2023-10-26T19:39:41.578Z"
   },
   {
    "duration": 207,
    "start_time": "2023-10-26T19:40:22.953Z"
   },
   {
    "duration": 237,
    "start_time": "2023-10-26T19:40:36.063Z"
   },
   {
    "duration": 158,
    "start_time": "2023-10-26T19:40:41.113Z"
   },
   {
    "duration": 147,
    "start_time": "2023-10-26T19:40:51.857Z"
   },
   {
    "duration": 10,
    "start_time": "2023-10-26T19:43:00.256Z"
   },
   {
    "duration": 3,
    "start_time": "2023-10-26T19:43:01.003Z"
   },
   {
    "duration": 206,
    "start_time": "2023-10-26T19:43:02.541Z"
   },
   {
    "duration": 11,
    "start_time": "2023-10-26T19:49:29.526Z"
   },
   {
    "duration": 8,
    "start_time": "2023-10-26T19:49:32.609Z"
   },
   {
    "duration": 9,
    "start_time": "2023-10-26T19:50:33.873Z"
   },
   {
    "duration": 145,
    "start_time": "2023-10-26T19:51:15.403Z"
   },
   {
    "duration": 229,
    "start_time": "2023-10-26T19:51:25.022Z"
   },
   {
    "duration": 222,
    "start_time": "2023-10-26T19:51:33.934Z"
   },
   {
    "duration": 214,
    "start_time": "2023-10-26T19:51:40.214Z"
   },
   {
    "duration": 11,
    "start_time": "2023-10-26T19:52:38.106Z"
   },
   {
    "duration": 4,
    "start_time": "2023-10-26T19:53:01.361Z"
   },
   {
    "duration": 198,
    "start_time": "2023-10-26T19:53:24.514Z"
   },
   {
    "duration": 1206,
    "start_time": "2023-10-26T19:53:32.055Z"
   },
   {
    "duration": 163,
    "start_time": "2023-10-26T19:53:44.675Z"
   },
   {
    "duration": 8,
    "start_time": "2023-10-26T19:54:36.984Z"
   },
   {
    "duration": 166,
    "start_time": "2023-10-26T19:54:49.013Z"
   },
   {
    "duration": 69,
    "start_time": "2023-10-26T19:55:41.522Z"
   },
   {
    "duration": 8,
    "start_time": "2023-10-26T19:57:07.158Z"
   },
   {
    "duration": 4,
    "start_time": "2023-10-26T19:57:08.608Z"
   },
   {
    "duration": 226,
    "start_time": "2023-10-26T19:59:05.875Z"
   },
   {
    "duration": 228,
    "start_time": "2023-10-26T19:59:19.858Z"
   },
   {
    "duration": 225,
    "start_time": "2023-10-26T19:59:35.890Z"
   },
   {
    "duration": 225,
    "start_time": "2023-10-26T19:59:44.190Z"
   },
   {
    "duration": 222,
    "start_time": "2023-10-26T19:59:53.208Z"
   },
   {
    "duration": 223,
    "start_time": "2023-10-26T20:00:02.053Z"
   },
   {
    "duration": 130,
    "start_time": "2023-10-26T20:00:12.204Z"
   },
   {
    "duration": 5,
    "start_time": "2023-10-26T20:00:13.077Z"
   },
   {
    "duration": 174,
    "start_time": "2023-10-26T20:00:32.798Z"
   },
   {
    "duration": 6,
    "start_time": "2023-10-26T20:00:33.950Z"
   },
   {
    "duration": 168,
    "start_time": "2023-10-26T20:00:54.324Z"
   },
   {
    "duration": 164,
    "start_time": "2023-10-26T20:02:22.117Z"
   },
   {
    "duration": 146,
    "start_time": "2023-10-26T20:02:49.773Z"
   },
   {
    "duration": 135,
    "start_time": "2023-10-26T20:03:00.351Z"
   },
   {
    "duration": 162,
    "start_time": "2023-10-26T20:03:08.933Z"
   },
   {
    "duration": 4,
    "start_time": "2023-10-26T20:04:30.035Z"
   },
   {
    "duration": 33,
    "start_time": "2023-10-26T20:04:55.424Z"
   },
   {
    "duration": 12,
    "start_time": "2023-10-26T20:06:39.945Z"
   },
   {
    "duration": 24,
    "start_time": "2023-10-26T20:06:46.914Z"
   },
   {
    "duration": 7,
    "start_time": "2023-10-26T20:06:55.890Z"
   },
   {
    "duration": 9,
    "start_time": "2023-10-26T20:07:00.153Z"
   },
   {
    "duration": 7,
    "start_time": "2023-10-26T20:07:44.457Z"
   },
   {
    "duration": 131,
    "start_time": "2023-10-26T20:07:58.665Z"
   },
   {
    "duration": 47,
    "start_time": "2023-10-31T14:23:40.954Z"
   },
   {
    "duration": 6,
    "start_time": "2023-10-31T14:24:51.324Z"
   },
   {
    "duration": 1379,
    "start_time": "2023-10-31T14:24:55.399Z"
   },
   {
    "duration": 676,
    "start_time": "2023-10-31T14:24:56.780Z"
   },
   {
    "duration": 19,
    "start_time": "2023-10-31T14:24:57.459Z"
   },
   {
    "duration": 52,
    "start_time": "2023-10-31T14:24:57.480Z"
   },
   {
    "duration": 68,
    "start_time": "2023-10-31T14:24:57.534Z"
   },
   {
    "duration": 1990,
    "start_time": "2023-10-31T14:24:57.604Z"
   },
   {
    "duration": 9,
    "start_time": "2023-10-31T14:24:59.596Z"
   },
   {
    "duration": 35,
    "start_time": "2023-10-31T14:24:59.607Z"
   },
   {
    "duration": 7,
    "start_time": "2023-10-31T14:24:59.644Z"
   },
   {
    "duration": 57,
    "start_time": "2023-10-31T14:24:59.652Z"
   },
   {
    "duration": 45,
    "start_time": "2023-10-31T14:24:59.711Z"
   },
   {
    "duration": 19,
    "start_time": "2023-10-31T14:24:59.758Z"
   },
   {
    "duration": 24,
    "start_time": "2023-10-31T14:24:59.779Z"
   },
   {
    "duration": 36,
    "start_time": "2023-10-31T14:24:59.806Z"
   },
   {
    "duration": 17,
    "start_time": "2023-10-31T14:24:59.843Z"
   },
   {
    "duration": 33,
    "start_time": "2023-10-31T14:24:59.861Z"
   },
   {
    "duration": 174,
    "start_time": "2023-10-31T14:24:59.895Z"
   },
   {
    "duration": 7,
    "start_time": "2023-10-31T14:25:00.071Z"
   },
   {
    "duration": 1296,
    "start_time": "2023-10-31T14:25:00.080Z"
   },
   {
    "duration": 8,
    "start_time": "2023-10-31T14:25:01.378Z"
   },
   {
    "duration": 368,
    "start_time": "2023-10-31T14:25:01.387Z"
   },
   {
    "duration": 286,
    "start_time": "2023-10-31T14:25:01.757Z"
   },
   {
    "duration": 162,
    "start_time": "2023-10-31T14:25:02.045Z"
   },
   {
    "duration": 348,
    "start_time": "2023-10-31T14:25:02.209Z"
   },
   {
    "duration": 4,
    "start_time": "2023-10-31T14:25:02.559Z"
   },
   {
    "duration": 67,
    "start_time": "2023-10-31T14:25:02.564Z"
   },
   {
    "duration": 113,
    "start_time": "2023-10-31T14:25:02.633Z"
   },
   {
    "duration": 46,
    "start_time": "2023-10-31T14:25:02.747Z"
   },
   {
    "duration": 135,
    "start_time": "2023-10-31T14:25:02.795Z"
   },
   {
    "duration": 10,
    "start_time": "2023-10-31T14:25:02.931Z"
   },
   {
    "duration": 79,
    "start_time": "2023-10-31T14:25:02.943Z"
   },
   {
    "duration": 582,
    "start_time": "2023-10-31T14:25:03.024Z"
   },
   {
    "duration": 8,
    "start_time": "2023-10-31T14:25:03.608Z"
   },
   {
    "duration": 426,
    "start_time": "2023-10-31T14:25:03.624Z"
   },
   {
    "duration": 600,
    "start_time": "2023-10-31T14:25:04.051Z"
   },
   {
    "duration": 658,
    "start_time": "2023-10-31T14:25:04.653Z"
   },
   {
    "duration": 369,
    "start_time": "2023-10-31T14:25:05.312Z"
   },
   {
    "duration": 9,
    "start_time": "2023-10-31T14:25:05.682Z"
   },
   {
    "duration": 200,
    "start_time": "2023-10-31T14:25:05.692Z"
   },
   {
    "duration": 11,
    "start_time": "2023-10-31T14:25:05.894Z"
   },
   {
    "duration": 41,
    "start_time": "2023-10-31T14:25:05.911Z"
   },
   {
    "duration": 370,
    "start_time": "2023-10-31T14:25:05.954Z"
   },
   {
    "duration": 9,
    "start_time": "2023-10-31T14:25:06.326Z"
   },
   {
    "duration": 256,
    "start_time": "2023-10-31T14:25:06.337Z"
   },
   {
    "duration": 48,
    "start_time": "2023-10-31T14:25:06.595Z"
   },
   {
    "duration": 316,
    "start_time": "2023-10-31T14:25:06.645Z"
   },
   {
    "duration": 414,
    "start_time": "2023-10-31T14:25:06.963Z"
   },
   {
    "duration": 8,
    "start_time": "2023-10-31T14:25:07.378Z"
   },
   {
    "duration": 367,
    "start_time": "2023-10-31T14:25:07.388Z"
   },
   {
    "duration": 67,
    "start_time": "2023-10-31T14:25:07.757Z"
   },
   {
    "duration": 42,
    "start_time": "2023-10-31T14:25:07.825Z"
   },
   {
    "duration": 203,
    "start_time": "2023-10-31T14:25:07.869Z"
   },
   {
    "duration": 130,
    "start_time": "2023-10-31T14:25:08.074Z"
   },
   {
    "duration": 221,
    "start_time": "2023-10-31T14:25:08.206Z"
   },
   {
    "duration": 151,
    "start_time": "2023-10-31T14:25:08.429Z"
   },
   {
    "duration": 145,
    "start_time": "2023-10-31T14:25:08.582Z"
   },
   {
    "duration": 256,
    "start_time": "2023-10-31T14:25:08.729Z"
   },
   {
    "duration": 4,
    "start_time": "2023-10-31T14:25:08.987Z"
   },
   {
    "duration": 24,
    "start_time": "2023-10-31T14:25:08.992Z"
   },
   {
    "duration": 207,
    "start_time": "2023-10-31T14:25:09.017Z"
   },
   {
    "duration": 8,
    "start_time": "2023-10-31T14:25:09.226Z"
   },
   {
    "duration": 87,
    "start_time": "2023-10-31T14:25:09.236Z"
   },
   {
    "duration": 238,
    "start_time": "2023-10-31T14:25:09.324Z"
   },
   {
    "duration": 3,
    "start_time": "2023-10-31T14:25:09.564Z"
   },
   {
    "duration": 190,
    "start_time": "2023-10-31T14:25:09.569Z"
   },
   {
    "duration": 406,
    "start_time": "2023-10-31T14:25:09.761Z"
   },
   {
    "duration": 16,
    "start_time": "2023-10-31T14:25:10.169Z"
   },
   {
    "duration": 294,
    "start_time": "2023-10-31T14:25:10.186Z"
   },
   {
    "duration": 22,
    "start_time": "2023-10-31T14:25:10.481Z"
   },
   {
    "duration": 451,
    "start_time": "2023-10-31T14:25:10.505Z"
   },
   {
    "duration": 45,
    "start_time": "2023-10-31T14:25:10.958Z"
   },
   {
    "duration": 258,
    "start_time": "2023-10-31T14:25:11.005Z"
   },
   {
    "duration": 81,
    "start_time": "2023-10-31T14:25:11.265Z"
   },
   {
    "duration": 7,
    "start_time": "2023-10-31T14:25:11.348Z"
   },
   {
    "duration": 142,
    "start_time": "2023-10-31T14:25:11.356Z"
   },
   {
    "duration": 365,
    "start_time": "2023-10-31T14:25:11.500Z"
   },
   {
    "duration": 139,
    "start_time": "2023-10-31T14:25:11.866Z"
   },
   {
    "duration": 6,
    "start_time": "2023-10-31T14:25:12.007Z"
   },
   {
    "duration": 194,
    "start_time": "2023-10-31T14:25:12.024Z"
   },
   {
    "duration": 9,
    "start_time": "2023-10-31T14:25:12.219Z"
   },
   {
    "duration": 192,
    "start_time": "2023-10-31T14:25:12.229Z"
   },
   {
    "duration": 4,
    "start_time": "2023-10-31T14:25:12.423Z"
   },
   {
    "duration": 327,
    "start_time": "2023-10-31T14:25:12.428Z"
   },
   {
    "duration": 172,
    "start_time": "2023-10-31T14:25:12.757Z"
   },
   {
    "duration": 287,
    "start_time": "2023-10-31T14:25:12.931Z"
   },
   {
    "duration": 264,
    "start_time": "2023-10-31T14:25:13.220Z"
   },
   {
    "duration": 164,
    "start_time": "2023-10-31T14:25:13.485Z"
   },
   {
    "duration": 59,
    "start_time": "2023-10-31T14:25:13.651Z"
   },
   {
    "duration": 195,
    "start_time": "2023-10-31T14:25:13.712Z"
   },
   {
    "duration": 119,
    "start_time": "2023-10-31T14:25:13.909Z"
   },
   {
    "duration": 126,
    "start_time": "2023-10-31T14:25:14.030Z"
   },
   {
    "duration": 175,
    "start_time": "2023-10-31T14:25:14.158Z"
   },
   {
    "duration": 204,
    "start_time": "2023-10-31T14:25:14.335Z"
   },
   {
    "duration": 0,
    "start_time": "2023-10-31T14:25:14.541Z"
   },
   {
    "duration": 0,
    "start_time": "2023-10-31T14:25:14.542Z"
   },
   {
    "duration": 9,
    "start_time": "2023-10-31T14:29:34.635Z"
   },
   {
    "duration": 9,
    "start_time": "2023-10-31T14:29:40.029Z"
   },
   {
    "duration": 6,
    "start_time": "2023-10-31T14:32:32.513Z"
   },
   {
    "duration": 7,
    "start_time": "2023-10-31T14:33:39.747Z"
   },
   {
    "duration": 5,
    "start_time": "2023-10-31T14:33:57.102Z"
   },
   {
    "duration": 104,
    "start_time": "2023-10-31T14:34:50.007Z"
   },
   {
    "duration": 109,
    "start_time": "2023-10-31T14:35:20.607Z"
   },
   {
    "duration": 73,
    "start_time": "2023-10-31T14:36:11.570Z"
   },
   {
    "duration": 120,
    "start_time": "2023-10-31T14:36:19.288Z"
   },
   {
    "duration": 11,
    "start_time": "2023-10-31T14:39:11.731Z"
   },
   {
    "duration": 6,
    "start_time": "2023-10-31T14:44:44.922Z"
   },
   {
    "duration": 5,
    "start_time": "2023-10-31T14:47:22.963Z"
   },
   {
    "duration": 6,
    "start_time": "2023-10-31T14:47:49.866Z"
   },
   {
    "duration": 5,
    "start_time": "2023-10-31T14:48:01.345Z"
   },
   {
    "duration": 4,
    "start_time": "2023-10-31T14:48:43.892Z"
   },
   {
    "duration": 19,
    "start_time": "2023-10-31T14:48:47.667Z"
   },
   {
    "duration": 145,
    "start_time": "2023-10-31T14:49:03.738Z"
   },
   {
    "duration": 1266,
    "start_time": "2023-10-31T21:38:48.466Z"
   },
   {
    "duration": 319,
    "start_time": "2023-10-31T21:38:49.734Z"
   },
   {
    "duration": 13,
    "start_time": "2023-10-31T21:38:50.055Z"
   },
   {
    "duration": 38,
    "start_time": "2023-10-31T21:38:50.070Z"
   },
   {
    "duration": 72,
    "start_time": "2023-10-31T21:38:50.109Z"
   },
   {
    "duration": 1742,
    "start_time": "2023-10-31T21:38:50.182Z"
   },
   {
    "duration": 30,
    "start_time": "2023-10-31T21:38:51.925Z"
   },
   {
    "duration": 14,
    "start_time": "2023-10-31T21:38:51.958Z"
   },
   {
    "duration": 5,
    "start_time": "2023-10-31T21:38:51.974Z"
   },
   {
    "duration": 14,
    "start_time": "2023-10-31T21:38:51.982Z"
   },
   {
    "duration": 27,
    "start_time": "2023-10-31T21:38:51.997Z"
   },
   {
    "duration": 7,
    "start_time": "2023-10-31T21:38:52.025Z"
   },
   {
    "duration": 18,
    "start_time": "2023-10-31T21:38:52.033Z"
   },
   {
    "duration": 21,
    "start_time": "2023-10-31T21:38:52.053Z"
   },
   {
    "duration": 6,
    "start_time": "2023-10-31T21:38:52.076Z"
   },
   {
    "duration": 12,
    "start_time": "2023-10-31T21:38:52.083Z"
   },
   {
    "duration": 169,
    "start_time": "2023-10-31T21:38:52.097Z"
   },
   {
    "duration": 6,
    "start_time": "2023-10-31T21:38:52.268Z"
   },
   {
    "duration": 1152,
    "start_time": "2023-10-31T21:38:52.275Z"
   },
   {
    "duration": 23,
    "start_time": "2023-10-31T21:38:53.429Z"
   },
   {
    "duration": 9,
    "start_time": "2023-10-31T21:38:53.453Z"
   },
   {
    "duration": 14,
    "start_time": "2023-10-31T21:38:53.463Z"
   },
   {
    "duration": 10,
    "start_time": "2023-10-31T21:38:53.478Z"
   },
   {
    "duration": 301,
    "start_time": "2023-10-31T21:38:53.490Z"
   },
   {
    "duration": 3,
    "start_time": "2023-10-31T21:38:53.792Z"
   },
   {
    "duration": 50,
    "start_time": "2023-10-31T21:38:53.797Z"
   },
   {
    "duration": 10,
    "start_time": "2023-10-31T21:38:53.848Z"
   },
   {
    "duration": 17,
    "start_time": "2023-10-31T21:38:53.862Z"
   },
   {
    "duration": 102,
    "start_time": "2023-10-31T21:38:53.881Z"
   },
   {
    "duration": 8,
    "start_time": "2023-10-31T21:38:53.985Z"
   },
   {
    "duration": 4,
    "start_time": "2023-10-31T21:38:53.995Z"
   },
   {
    "duration": 184,
    "start_time": "2023-10-31T21:38:54.000Z"
   },
   {
    "duration": 7,
    "start_time": "2023-10-31T21:38:54.186Z"
   },
   {
    "duration": 115,
    "start_time": "2023-10-31T21:38:54.195Z"
   },
   {
    "duration": 9,
    "start_time": "2023-10-31T21:38:54.311Z"
   },
   {
    "duration": 4,
    "start_time": "2023-10-31T21:38:54.321Z"
   },
   {
    "duration": 179,
    "start_time": "2023-10-31T21:38:54.326Z"
   },
   {
    "duration": 8,
    "start_time": "2023-10-31T21:38:54.507Z"
   },
   {
    "duration": 111,
    "start_time": "2023-10-31T21:38:54.516Z"
   },
   {
    "duration": 28,
    "start_time": "2023-10-31T21:38:54.628Z"
   },
   {
    "duration": 3,
    "start_time": "2023-10-31T21:38:54.658Z"
   },
   {
    "duration": 298,
    "start_time": "2023-10-31T21:38:54.662Z"
   },
   {
    "duration": 7,
    "start_time": "2023-10-31T21:38:54.962Z"
   },
   {
    "duration": 131,
    "start_time": "2023-10-31T21:38:54.970Z"
   },
   {
    "duration": 7,
    "start_time": "2023-10-31T21:38:55.103Z"
   },
   {
    "duration": 14,
    "start_time": "2023-10-31T21:38:55.111Z"
   },
   {
    "duration": 153,
    "start_time": "2023-10-31T21:38:55.126Z"
   },
   {
    "duration": 7,
    "start_time": "2023-10-31T21:38:55.280Z"
   },
   {
    "duration": 108,
    "start_time": "2023-10-31T21:38:55.288Z"
   },
   {
    "duration": 7,
    "start_time": "2023-10-31T21:38:55.397Z"
   },
   {
    "duration": 9,
    "start_time": "2023-10-31T21:38:55.405Z"
   },
   {
    "duration": 113,
    "start_time": "2023-10-31T21:38:55.415Z"
   },
   {
    "duration": 23,
    "start_time": "2023-10-31T21:38:55.530Z"
   },
   {
    "duration": 110,
    "start_time": "2023-10-31T21:38:55.555Z"
   },
   {
    "duration": 9,
    "start_time": "2023-10-31T21:38:55.667Z"
   },
   {
    "duration": 8,
    "start_time": "2023-10-31T21:38:55.677Z"
   },
   {
    "duration": 175,
    "start_time": "2023-10-31T21:38:55.686Z"
   },
   {
    "duration": 3,
    "start_time": "2023-10-31T21:38:55.863Z"
   },
   {
    "duration": 23,
    "start_time": "2023-10-31T21:38:55.868Z"
   },
   {
    "duration": 222,
    "start_time": "2023-10-31T21:38:55.892Z"
   },
   {
    "duration": 8,
    "start_time": "2023-10-31T21:38:56.115Z"
   },
   {
    "duration": 7,
    "start_time": "2023-10-31T21:38:56.124Z"
   },
   {
    "duration": 185,
    "start_time": "2023-10-31T21:38:56.132Z"
   },
   {
    "duration": 4,
    "start_time": "2023-10-31T21:38:56.318Z"
   },
   {
    "duration": 22,
    "start_time": "2023-10-31T21:38:56.324Z"
   },
   {
    "duration": 149,
    "start_time": "2023-10-31T21:38:56.349Z"
   },
   {
    "duration": 8,
    "start_time": "2023-10-31T21:38:56.499Z"
   },
   {
    "duration": 180,
    "start_time": "2023-10-31T21:38:56.508Z"
   },
   {
    "duration": 7,
    "start_time": "2023-10-31T21:38:56.689Z"
   },
   {
    "duration": 255,
    "start_time": "2023-10-31T21:38:56.697Z"
   },
   {
    "duration": 7,
    "start_time": "2023-10-31T21:38:56.954Z"
   },
   {
    "duration": 162,
    "start_time": "2023-10-31T21:38:56.963Z"
   },
   {
    "duration": 70,
    "start_time": "2023-10-31T21:38:57.127Z"
   },
   {
    "duration": 8,
    "start_time": "2023-10-31T21:38:57.198Z"
   },
   {
    "duration": 3,
    "start_time": "2023-10-31T21:38:57.208Z"
   },
   {
    "duration": 245,
    "start_time": "2023-10-31T21:38:57.212Z"
   },
   {
    "duration": 135,
    "start_time": "2023-10-31T21:38:57.459Z"
   },
   {
    "duration": 6,
    "start_time": "2023-10-31T21:38:57.596Z"
   },
   {
    "duration": 172,
    "start_time": "2023-10-31T21:38:57.603Z"
   },
   {
    "duration": 4,
    "start_time": "2023-10-31T21:38:57.777Z"
   },
   {
    "duration": 175,
    "start_time": "2023-10-31T21:38:57.782Z"
   },
   {
    "duration": 5,
    "start_time": "2023-10-31T21:38:57.961Z"
   },
   {
    "duration": 165,
    "start_time": "2023-10-31T21:38:57.967Z"
   },
   {
    "duration": 145,
    "start_time": "2023-10-31T21:38:58.133Z"
   },
   {
    "duration": 145,
    "start_time": "2023-10-31T21:38:58.280Z"
   },
   {
    "duration": 145,
    "start_time": "2023-10-31T21:38:58.426Z"
   },
   {
    "duration": 152,
    "start_time": "2023-10-31T21:38:58.573Z"
   },
   {
    "duration": 5,
    "start_time": "2023-10-31T21:38:58.727Z"
   },
   {
    "duration": 7,
    "start_time": "2023-10-31T21:38:58.739Z"
   },
   {
    "duration": 32,
    "start_time": "2023-10-31T21:38:58.747Z"
   },
   {
    "duration": 6,
    "start_time": "2023-10-31T21:38:58.780Z"
   },
   {
    "duration": 12,
    "start_time": "2023-10-31T21:38:58.787Z"
   },
   {
    "duration": 5,
    "start_time": "2023-10-31T21:38:58.800Z"
   },
   {
    "duration": 21,
    "start_time": "2023-10-31T21:38:58.806Z"
   },
   {
    "duration": 148,
    "start_time": "2023-10-31T21:38:58.839Z"
   }
  ],
  "kernelspec": {
   "display_name": "Python 3 (ipykernel)",
   "language": "python",
   "name": "python3"
  },
  "language_info": {
   "codemirror_mode": {
    "name": "ipython",
    "version": 3
   },
   "file_extension": ".py",
   "mimetype": "text/x-python",
   "name": "python",
   "nbconvert_exporter": "python",
   "pygments_lexer": "ipython3",
   "version": "3.9.5"
  },
  "toc": {
   "base_numbering": 1,
   "nav_menu": {},
   "number_sections": true,
   "sideBar": true,
   "skip_h1_title": true,
   "title_cell": "Содержание",
   "title_sidebar": "Contents",
   "toc_cell": true,
   "toc_position": {
    "height": "calc(100% - 180px)",
    "left": "10px",
    "top": "150px",
    "width": "289.398px"
   },
   "toc_section_display": true,
   "toc_window_display": true
  }
 },
 "nbformat": 4,
 "nbformat_minor": 2
}
