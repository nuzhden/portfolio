{
 "cells": [
  {
   "cell_type": "markdown",
   "metadata": {},
   "source": [
    "# Проверка гипотез по увеличению выручки в интернет-магазине"
   ]
  },
  {
   "cell_type": "markdown",
   "metadata": {},
   "source": [
    "Заказчик – крупный интернет-магазин. Вместе с отделом маркетинга были подготовлены гипотезы для увеличения выручки.\n",
    "\n",
    "**Основные цели проекта:**\n",
    "- приоритезировать гипотезы из списка гипотез;\n",
    "- проанализировать результаты A/B теста и принять решение по его результативности.\n",
    "\n",
    "**Ход работы:** проект разделен на две основные части. \n",
    "\n",
    "Первая часть посвящена приоритезации гипотез для проведения А/В теста. Приотезировать гипотезы будем с использованием двух фреймворков ICE и RICE, сравним полученные результаты.\n",
    "\n",
    "Вторая часть посвящена анализу полученных результатов А/В теста. Сначала предобработаем данные, далее построим графики для кумулятивных метрик, проведем анализ выбросов, и затем примем решение по результатам теста.\n",
    "\n",
    "**Исходные данные:**\n",
    "\n",
    "*Файл /datasets/hypothesis.csv*\n",
    "- Hypothesis — краткое описание гипотезы\n",
    "- Reach — охват пользователей по 10-балльной шкале\n",
    "- Impact — влияние на пользователей по 10-балльной шкале\n",
    "- Confidence — уверенность в гипотезе по 10-балльной шкале\n",
    "- Efforts — затраты ресурсов на проверку гипотезы по 10-балльной шкале. Чем больше значение Efforts, тем дороже проверка гипотезы\n",
    "\n",
    "*Файл /datasets/orders.csv*\n",
    "- transactionId — идентификатор заказа\n",
    "- visitorId — идентификатор пользователя, совершившего заказ\n",
    "- date — дата, когда был совершён заказ\n",
    "- revenue — выручка заказа\n",
    "- group — группа A/B-теста, в которую попал заказ\n",
    "\n",
    "*Файл /datasets/visitors.csv*\n",
    "- date — дата\n",
    "- group — группа A/B-теста\n",
    "- visitors — количество пользователей в указанную дату в указанной группе A/B-теста"
   ]
  },
  {
   "cell_type": "markdown",
   "metadata": {
    "toc": true
   },
   "source": [
    "<h1>Содержание<span class=\"tocSkip\"></span></h1>\n",
    "<div class=\"toc\"><ul class=\"toc-item\"><li><span><a href=\"#Приоритезация-гипотез\" data-toc-modified-id=\"Приоритезация-гипотез-1\"><span class=\"toc-item-num\">1&nbsp;&nbsp;</span>Приоритезация гипотез</a></span><ul class=\"toc-item\"><li><span><a href=\"#Фреймворк-ICE\" data-toc-modified-id=\"Фреймворк-ICE-1.1\"><span class=\"toc-item-num\">1.1&nbsp;&nbsp;</span>Фреймворк ICE</a></span></li><li><span><a href=\"#Фреймворк-RICE\" data-toc-modified-id=\"Фреймворк-RICE-1.2\"><span class=\"toc-item-num\">1.2&nbsp;&nbsp;</span>Фреймворк RICE</a></span></li></ul></li><li><span><a href=\"#Анализ-А/В-теста\" data-toc-modified-id=\"Анализ-А/В-теста-2\"><span class=\"toc-item-num\">2&nbsp;&nbsp;</span>Анализ А/В теста</a></span><ul class=\"toc-item\"><li><span><a href=\"#Обзор-и-предобработка-данных\" data-toc-modified-id=\"Обзор-и-предобработка-данных-2.1\"><span class=\"toc-item-num\">2.1&nbsp;&nbsp;</span>Обзор и предобработка данных</a></span></li><li><span><a href=\"#Кумулятивные-метрики\" data-toc-modified-id=\"Кумулятивные-метрики-2.2\"><span class=\"toc-item-num\">2.2&nbsp;&nbsp;</span>Кумулятивные метрики</a></span><ul class=\"toc-item\"><li><span><a href=\"#Кумулятивная-выручка-по-группам\" data-toc-modified-id=\"Кумулятивная-выручка-по-группам-2.2.1\"><span class=\"toc-item-num\">2.2.1&nbsp;&nbsp;</span>Кумулятивная выручка по группам</a></span></li><li><span><a href=\"#Кумулятивный-средний-чек-по-группам\" data-toc-modified-id=\"Кумулятивный-средний-чек-по-группам-2.2.2\"><span class=\"toc-item-num\">2.2.2&nbsp;&nbsp;</span>Кумулятивный средний чек по группам</a></span></li><li><span><a href=\"#Относительное-различие-кумулятивного-среднего-чека-по-группам\" data-toc-modified-id=\"Относительное-различие-кумулятивного-среднего-чека-по-группам-2.2.3\"><span class=\"toc-item-num\">2.2.3&nbsp;&nbsp;</span>Относительное различие кумулятивного среднего чека по группам</a></span></li><li><span><a href=\"#Кумулятивноe-среднеe-количество-заказов-на-посетителя-по-группам\" data-toc-modified-id=\"Кумулятивноe-среднеe-количество-заказов-на-посетителя-по-группам-2.2.4\"><span class=\"toc-item-num\">2.2.4&nbsp;&nbsp;</span>Кумулятивноe среднеe количество заказов на посетителя по группам</a></span></li><li><span><a href=\"#Относительное-изменениe-кумулятивного-среднего-количества-заказов-на-посетителя\" data-toc-modified-id=\"Относительное-изменениe-кумулятивного-среднего-количества-заказов-на-посетителя-2.2.5\"><span class=\"toc-item-num\">2.2.5&nbsp;&nbsp;</span>Относительное изменениe кумулятивного среднего количества заказов на посетителя</a></span></li></ul></li><li><span><a href=\"#Анализ-выбросов-и-всплесков\" data-toc-modified-id=\"Анализ-выбросов-и-всплесков-2.3\"><span class=\"toc-item-num\">2.3&nbsp;&nbsp;</span>Анализ выбросов и всплесков</a></span><ul class=\"toc-item\"><li><span><a href=\"#Распределение-количества-заказов-по-пользователям\" data-toc-modified-id=\"Распределение-количества-заказов-по-пользователям-2.3.1\"><span class=\"toc-item-num\">2.3.1&nbsp;&nbsp;</span>Распределение количества заказов по пользователям</a></span></li><li><span><a href=\"#Распределение-стоимостей-заказов\" data-toc-modified-id=\"Распределение-стоимостей-заказов-2.3.2\"><span class=\"toc-item-num\">2.3.2&nbsp;&nbsp;</span>Распределение стоимостей заказов</a></span></li><li><span><a href=\"#Статистическая-значимость-различий-в-среднем-количестве-заказов-на-посетителя-между-группами-по-«сырым»-данным\" data-toc-modified-id=\"Статистическая-значимость-различий-в-среднем-количестве-заказов-на-посетителя-между-группами-по-«сырым»-данным-2.3.3\"><span class=\"toc-item-num\">2.3.3&nbsp;&nbsp;</span>Статистическая значимость различий в среднем количестве заказов на посетителя между группами по «сырым» данным</a></span></li><li><span><a href=\"#Статистическая-значимость-различий-в-среднем-чеке-заказа-между-группами-по-«сырым»-данным\" data-toc-modified-id=\"Статистическая-значимость-различий-в-среднем-чеке-заказа-между-группами-по-«сырым»-данным-2.3.4\"><span class=\"toc-item-num\">2.3.4&nbsp;&nbsp;</span>Статистическая значимость различий в среднем чеке заказа между группами по «сырым» данным</a></span></li><li><span><a href=\"#Статистическая-значимость-различий-в-среднем-количестве-заказов-на-посетителя-между-группами-по-«очищенным»-данным\" data-toc-modified-id=\"Статистическая-значимость-различий-в-среднем-количестве-заказов-на-посетителя-между-группами-по-«очищенным»-данным-2.3.5\"><span class=\"toc-item-num\">2.3.5&nbsp;&nbsp;</span>Статистическая значимость различий в среднем количестве заказов на посетителя между группами по «очищенным» данным</a></span></li><li><span><a href=\"#Статистическая-значимость-различий-в-среднем-чеке-заказа-между-группами-по-«очищенным»-данным\" data-toc-modified-id=\"Статистическая-значимость-различий-в-среднем-чеке-заказа-между-группами-по-«очищенным»-данным-2.3.6\"><span class=\"toc-item-num\">2.3.6&nbsp;&nbsp;</span>Статистическая значимость различий в среднем чеке заказа между группами по «очищенным» данным</a></span></li></ul></li></ul></li><li><span><a href=\"#Общий-вывод\" data-toc-modified-id=\"Общий-вывод-3\"><span class=\"toc-item-num\">3&nbsp;&nbsp;</span>Общий вывод</a></span></li></ul></div>"
   ]
  },
  {
   "cell_type": "code",
   "execution_count": 1,
   "metadata": {},
   "outputs": [],
   "source": [
    "# импортируем библиотеки\n",
    "import pandas as pd\n",
    "import numpy as np\n",
    "import matplotlib.pyplot as plt\n",
    "import seaborn as sns\n",
    "import math\n",
    "import datetime as dt\n",
    "import scipy.stats as stats\n",
    "import warnings\n",
    "from scipy import stats as st"
   ]
  },
  {
   "cell_type": "markdown",
   "metadata": {},
   "source": [
    "## Приоритезация гипотез"
   ]
  },
  {
   "cell_type": "code",
   "execution_count": 2,
   "metadata": {},
   "outputs": [],
   "source": [
    "# открываем файл с гипотезами\n",
    "try:\n",
    "    hypothesis = pd.read_csv('/datasets/hypothesis.csv')\n",
    "except: \n",
    "    hypothesis = pd.read_csv('hypothesis.csv')"
   ]
  },
  {
   "cell_type": "code",
   "execution_count": 3,
   "metadata": {
    "scrolled": true
   },
   "outputs": [
    {
     "name": "stdout",
     "output_type": "stream",
     "text": [
      "<class 'pandas.core.frame.DataFrame'>\n",
      "RangeIndex: 9 entries, 0 to 8\n",
      "Data columns (total 5 columns):\n",
      " #   Column      Non-Null Count  Dtype \n",
      "---  ------      --------------  ----- \n",
      " 0   Hypothesis  9 non-null      object\n",
      " 1   Reach       9 non-null      int64 \n",
      " 2   Impact      9 non-null      int64 \n",
      " 3   Confidence  9 non-null      int64 \n",
      " 4   Efforts     9 non-null      int64 \n",
      "dtypes: int64(4), object(1)\n",
      "memory usage: 492.0+ bytes\n"
     ]
    }
   ],
   "source": [
    "hypothesis.info()"
   ]
  },
  {
   "cell_type": "code",
   "execution_count": 4,
   "metadata": {},
   "outputs": [],
   "source": [
    "# приведем названия столбцов к нижнему регистру\n",
    "hypothesis.columns = hypothesis.columns.str.lower()"
   ]
  },
  {
   "cell_type": "code",
   "execution_count": 5,
   "metadata": {},
   "outputs": [
    {
     "data": {
      "text/html": [
       "<div>\n",
       "<style scoped>\n",
       "    .dataframe tbody tr th:only-of-type {\n",
       "        vertical-align: middle;\n",
       "    }\n",
       "\n",
       "    .dataframe tbody tr th {\n",
       "        vertical-align: top;\n",
       "    }\n",
       "\n",
       "    .dataframe thead th {\n",
       "        text-align: right;\n",
       "    }\n",
       "</style>\n",
       "<table border=\"1\" class=\"dataframe\">\n",
       "  <thead>\n",
       "    <tr style=\"text-align: right;\">\n",
       "      <th></th>\n",
       "      <th>hypothesis</th>\n",
       "      <th>reach</th>\n",
       "      <th>impact</th>\n",
       "      <th>confidence</th>\n",
       "      <th>efforts</th>\n",
       "    </tr>\n",
       "  </thead>\n",
       "  <tbody>\n",
       "    <tr>\n",
       "      <th>0</th>\n",
       "      <td>Добавить два новых канала привлечения трафика,...</td>\n",
       "      <td>3</td>\n",
       "      <td>10</td>\n",
       "      <td>8</td>\n",
       "      <td>6</td>\n",
       "    </tr>\n",
       "    <tr>\n",
       "      <th>1</th>\n",
       "      <td>Запустить собственную службу доставки, что сок...</td>\n",
       "      <td>2</td>\n",
       "      <td>5</td>\n",
       "      <td>4</td>\n",
       "      <td>10</td>\n",
       "    </tr>\n",
       "    <tr>\n",
       "      <th>2</th>\n",
       "      <td>Добавить блоки рекомендаций товаров на сайт ин...</td>\n",
       "      <td>8</td>\n",
       "      <td>3</td>\n",
       "      <td>7</td>\n",
       "      <td>3</td>\n",
       "    </tr>\n",
       "    <tr>\n",
       "      <th>3</th>\n",
       "      <td>Изменить структура категорий, что увеличит кон...</td>\n",
       "      <td>8</td>\n",
       "      <td>3</td>\n",
       "      <td>3</td>\n",
       "      <td>8</td>\n",
       "    </tr>\n",
       "    <tr>\n",
       "      <th>4</th>\n",
       "      <td>Изменить цвет фона главной страницы, чтобы уве...</td>\n",
       "      <td>3</td>\n",
       "      <td>1</td>\n",
       "      <td>1</td>\n",
       "      <td>1</td>\n",
       "    </tr>\n",
       "    <tr>\n",
       "      <th>5</th>\n",
       "      <td>Добавить страницу отзывов клиентов о магазине,...</td>\n",
       "      <td>3</td>\n",
       "      <td>2</td>\n",
       "      <td>2</td>\n",
       "      <td>3</td>\n",
       "    </tr>\n",
       "    <tr>\n",
       "      <th>6</th>\n",
       "      <td>Показать на главной странице баннеры с актуаль...</td>\n",
       "      <td>5</td>\n",
       "      <td>3</td>\n",
       "      <td>8</td>\n",
       "      <td>3</td>\n",
       "    </tr>\n",
       "    <tr>\n",
       "      <th>7</th>\n",
       "      <td>Добавить форму подписки на все основные страни...</td>\n",
       "      <td>10</td>\n",
       "      <td>7</td>\n",
       "      <td>8</td>\n",
       "      <td>5</td>\n",
       "    </tr>\n",
       "    <tr>\n",
       "      <th>8</th>\n",
       "      <td>Запустить акцию, дающую скидку на товар в день...</td>\n",
       "      <td>1</td>\n",
       "      <td>9</td>\n",
       "      <td>9</td>\n",
       "      <td>5</td>\n",
       "    </tr>\n",
       "  </tbody>\n",
       "</table>\n",
       "</div>"
      ],
      "text/plain": [
       "                                          hypothesis  reach  impact  \\\n",
       "0  Добавить два новых канала привлечения трафика,...      3      10   \n",
       "1  Запустить собственную службу доставки, что сок...      2       5   \n",
       "2  Добавить блоки рекомендаций товаров на сайт ин...      8       3   \n",
       "3  Изменить структура категорий, что увеличит кон...      8       3   \n",
       "4  Изменить цвет фона главной страницы, чтобы уве...      3       1   \n",
       "5  Добавить страницу отзывов клиентов о магазине,...      3       2   \n",
       "6  Показать на главной странице баннеры с актуаль...      5       3   \n",
       "7  Добавить форму подписки на все основные страни...     10       7   \n",
       "8  Запустить акцию, дающую скидку на товар в день...      1       9   \n",
       "\n",
       "   confidence  efforts  \n",
       "0           8        6  \n",
       "1           4       10  \n",
       "2           7        3  \n",
       "3           3        8  \n",
       "4           1        1  \n",
       "5           2        3  \n",
       "6           8        3  \n",
       "7           8        5  \n",
       "8           9        5  "
      ]
     },
     "execution_count": 5,
     "metadata": {},
     "output_type": "execute_result"
    }
   ],
   "source": [
    "hypothesis"
   ]
  },
  {
   "cell_type": "markdown",
   "metadata": {},
   "source": [
    "### Фреймворк ICE"
   ]
  },
  {
   "cell_type": "markdown",
   "metadata": {},
   "source": [
    "ICE — Impact(влияние), Confidence(уверенность) и Efforts(усилия)"
   ]
  },
  {
   "cell_type": "code",
   "execution_count": 6,
   "metadata": {
    "scrolled": true
   },
   "outputs": [
    {
     "data": {
      "text/html": [
       "<div>\n",
       "<style scoped>\n",
       "    .dataframe tbody tr th:only-of-type {\n",
       "        vertical-align: middle;\n",
       "    }\n",
       "\n",
       "    .dataframe tbody tr th {\n",
       "        vertical-align: top;\n",
       "    }\n",
       "\n",
       "    .dataframe thead th {\n",
       "        text-align: right;\n",
       "    }\n",
       "</style>\n",
       "<table border=\"1\" class=\"dataframe\">\n",
       "  <thead>\n",
       "    <tr style=\"text-align: right;\">\n",
       "      <th></th>\n",
       "      <th>hypothesis</th>\n",
       "      <th>ICE</th>\n",
       "    </tr>\n",
       "  </thead>\n",
       "  <tbody>\n",
       "    <tr>\n",
       "      <th>8</th>\n",
       "      <td>Запустить акцию, дающую скидку на товар в день...</td>\n",
       "      <td>16.2</td>\n",
       "    </tr>\n",
       "    <tr>\n",
       "      <th>0</th>\n",
       "      <td>Добавить два новых канала привлечения трафика,...</td>\n",
       "      <td>13.3</td>\n",
       "    </tr>\n",
       "    <tr>\n",
       "      <th>7</th>\n",
       "      <td>Добавить форму подписки на все основные страни...</td>\n",
       "      <td>11.2</td>\n",
       "    </tr>\n",
       "    <tr>\n",
       "      <th>6</th>\n",
       "      <td>Показать на главной странице баннеры с актуаль...</td>\n",
       "      <td>8.0</td>\n",
       "    </tr>\n",
       "    <tr>\n",
       "      <th>2</th>\n",
       "      <td>Добавить блоки рекомендаций товаров на сайт ин...</td>\n",
       "      <td>7.0</td>\n",
       "    </tr>\n",
       "    <tr>\n",
       "      <th>1</th>\n",
       "      <td>Запустить собственную службу доставки, что сок...</td>\n",
       "      <td>2.0</td>\n",
       "    </tr>\n",
       "    <tr>\n",
       "      <th>5</th>\n",
       "      <td>Добавить страницу отзывов клиентов о магазине,...</td>\n",
       "      <td>1.3</td>\n",
       "    </tr>\n",
       "    <tr>\n",
       "      <th>3</th>\n",
       "      <td>Изменить структура категорий, что увеличит кон...</td>\n",
       "      <td>1.1</td>\n",
       "    </tr>\n",
       "    <tr>\n",
       "      <th>4</th>\n",
       "      <td>Изменить цвет фона главной страницы, чтобы уве...</td>\n",
       "      <td>1.0</td>\n",
       "    </tr>\n",
       "  </tbody>\n",
       "</table>\n",
       "</div>"
      ],
      "text/plain": [
       "                                          hypothesis   ICE\n",
       "8  Запустить акцию, дающую скидку на товар в день...  16.2\n",
       "0  Добавить два новых канала привлечения трафика,...  13.3\n",
       "7  Добавить форму подписки на все основные страни...  11.2\n",
       "6  Показать на главной странице баннеры с актуаль...   8.0\n",
       "2  Добавить блоки рекомендаций товаров на сайт ин...   7.0\n",
       "1  Запустить собственную службу доставки, что сок...   2.0\n",
       "5  Добавить страницу отзывов клиентов о магазине,...   1.3\n",
       "3  Изменить структура категорий, что увеличит кон...   1.1\n",
       "4  Изменить цвет фона главной страницы, чтобы уве...   1.0"
      ]
     },
     "execution_count": 6,
     "metadata": {},
     "output_type": "execute_result"
    }
   ],
   "source": [
    "# применим фреймворк ICE для приоритезации гипотез\n",
    "hypothesis['ICE'] = round((hypothesis['impact']*hypothesis['confidence']/hypothesis['efforts']),1)\n",
    "hypothesis[['hypothesis', 'ICE']].sort_values(by= 'ICE', ascending=False)"
   ]
  },
  {
   "cell_type": "markdown",
   "metadata": {},
   "source": [
    "Гипотезы под номерами 8, 0, 7, 6, 2 являются наиболее приоритетными в фреймворке ICE."
   ]
  },
  {
   "cell_type": "markdown",
   "metadata": {},
   "source": [
    "### Фреймворк RICE"
   ]
  },
  {
   "cell_type": "markdown",
   "metadata": {},
   "source": [
    "RICE - Reach(охват) + ICE "
   ]
  },
  {
   "cell_type": "code",
   "execution_count": 7,
   "metadata": {},
   "outputs": [
    {
     "data": {
      "text/html": [
       "<div>\n",
       "<style scoped>\n",
       "    .dataframe tbody tr th:only-of-type {\n",
       "        vertical-align: middle;\n",
       "    }\n",
       "\n",
       "    .dataframe tbody tr th {\n",
       "        vertical-align: top;\n",
       "    }\n",
       "\n",
       "    .dataframe thead th {\n",
       "        text-align: right;\n",
       "    }\n",
       "</style>\n",
       "<table border=\"1\" class=\"dataframe\">\n",
       "  <thead>\n",
       "    <tr style=\"text-align: right;\">\n",
       "      <th></th>\n",
       "      <th>hypothesis</th>\n",
       "      <th>RICE</th>\n",
       "    </tr>\n",
       "  </thead>\n",
       "  <tbody>\n",
       "    <tr>\n",
       "      <th>7</th>\n",
       "      <td>Добавить форму подписки на все основные страни...</td>\n",
       "      <td>112.0</td>\n",
       "    </tr>\n",
       "    <tr>\n",
       "      <th>2</th>\n",
       "      <td>Добавить блоки рекомендаций товаров на сайт ин...</td>\n",
       "      <td>56.0</td>\n",
       "    </tr>\n",
       "    <tr>\n",
       "      <th>0</th>\n",
       "      <td>Добавить два новых канала привлечения трафика,...</td>\n",
       "      <td>40.0</td>\n",
       "    </tr>\n",
       "    <tr>\n",
       "      <th>6</th>\n",
       "      <td>Показать на главной странице баннеры с актуаль...</td>\n",
       "      <td>40.0</td>\n",
       "    </tr>\n",
       "    <tr>\n",
       "      <th>8</th>\n",
       "      <td>Запустить акцию, дающую скидку на товар в день...</td>\n",
       "      <td>16.0</td>\n",
       "    </tr>\n",
       "    <tr>\n",
       "      <th>3</th>\n",
       "      <td>Изменить структура категорий, что увеличит кон...</td>\n",
       "      <td>9.0</td>\n",
       "    </tr>\n",
       "    <tr>\n",
       "      <th>1</th>\n",
       "      <td>Запустить собственную службу доставки, что сок...</td>\n",
       "      <td>4.0</td>\n",
       "    </tr>\n",
       "    <tr>\n",
       "      <th>5</th>\n",
       "      <td>Добавить страницу отзывов клиентов о магазине,...</td>\n",
       "      <td>4.0</td>\n",
       "    </tr>\n",
       "    <tr>\n",
       "      <th>4</th>\n",
       "      <td>Изменить цвет фона главной страницы, чтобы уве...</td>\n",
       "      <td>3.0</td>\n",
       "    </tr>\n",
       "  </tbody>\n",
       "</table>\n",
       "</div>"
      ],
      "text/plain": [
       "                                          hypothesis   RICE\n",
       "7  Добавить форму подписки на все основные страни...  112.0\n",
       "2  Добавить блоки рекомендаций товаров на сайт ин...   56.0\n",
       "0  Добавить два новых канала привлечения трафика,...   40.0\n",
       "6  Показать на главной странице баннеры с актуаль...   40.0\n",
       "8  Запустить акцию, дающую скидку на товар в день...   16.0\n",
       "3  Изменить структура категорий, что увеличит кон...    9.0\n",
       "1  Запустить собственную службу доставки, что сок...    4.0\n",
       "5  Добавить страницу отзывов клиентов о магазине,...    4.0\n",
       "4  Изменить цвет фона главной страницы, чтобы уве...    3.0"
      ]
     },
     "execution_count": 7,
     "metadata": {},
     "output_type": "execute_result"
    }
   ],
   "source": [
    "# применим фреймворк RICE для приоритезации гипотез\n",
    "hypothesis['RICE'] = round(hypothesis['reach']*hypothesis['impact']*hypothesis['confidence']/hypothesis['efforts'])\n",
    "hypothesis[['hypothesis', 'RICE']].sort_values(by= 'RICE', ascending=False)                                                 "
   ]
  },
  {
   "cell_type": "markdown",
   "metadata": {},
   "source": [
    "При использовании фреймворка RICE порядок гипотез изменился. Наиболее приоритетные гипотезы 7,2,0,6."
   ]
  },
  {
   "cell_type": "markdown",
   "metadata": {},
   "source": [
    "**Выводы по разделу:**\n",
    "- для приоритезации гипотез были применены фреймворки ICE и RICE;\n",
    "- фреймворк RICE отличается от фреймворка ICE тем, что он учитывает количество пользователей, которых затронет изменение;\n",
    "- наиболее приоритетными гипотезами по RICE являются: \"Добавить форму подписки на все основные страницы, чтобы собрать базу клиентов для email-рассыло\", \"Добавить блоки рекомендаций товаров на сайт интернет магазина, чтобы повысить конверсию и средний чек заказа\", \"Добавить два новых канала привлечения трафика, что позволит привлекать на 30% больше пользователей\", \"Показать на главной странице баннеры с актуальными акциями и распродажами, чтобы увеличить конверсию\"."
   ]
  },
  {
   "cell_type": "markdown",
   "metadata": {},
   "source": [
    "## Анализ А/В теста"
   ]
  },
  {
   "cell_type": "markdown",
   "metadata": {},
   "source": [
    "### Обзор и предобработка данных"
   ]
  },
  {
   "cell_type": "code",
   "execution_count": 8,
   "metadata": {},
   "outputs": [],
   "source": [
    "# открываем файлы\n",
    "try:\n",
    "        orders, visitors = (\n",
    "        pd.read_csv('/datasets/orders.csv'),\n",
    "        pd.read_csv('/datasets/visitors.csv')\n",
    "    )\n",
    "except:\n",
    "        orders, visitors = (\n",
    "        pd.read_csv('https://code.s3.yandex.net//datasets/orders.csv'),\n",
    "        pd.read_csv('https://code.s3.yandex.net//datasets/visitors.csv')\n",
    "    )"
   ]
  },
  {
   "cell_type": "code",
   "execution_count": 9,
   "metadata": {},
   "outputs": [
    {
     "name": "stdout",
     "output_type": "stream",
     "text": [
      "<class 'pandas.core.frame.DataFrame'>\n",
      "RangeIndex: 1197 entries, 0 to 1196\n",
      "Data columns (total 5 columns):\n",
      " #   Column         Non-Null Count  Dtype \n",
      "---  ------         --------------  ----- \n",
      " 0   transactionId  1197 non-null   int64 \n",
      " 1   visitorId      1197 non-null   int64 \n",
      " 2   date           1197 non-null   object\n",
      " 3   revenue        1197 non-null   int64 \n",
      " 4   group          1197 non-null   object\n",
      "dtypes: int64(3), object(2)\n",
      "memory usage: 46.9+ KB\n"
     ]
    }
   ],
   "source": [
    "# посмотрим на основную информацию orders\n",
    "orders.info()"
   ]
  },
  {
   "cell_type": "code",
   "execution_count": 10,
   "metadata": {},
   "outputs": [],
   "source": [
    "# изменим названия столбцов\n",
    "orders.columns = [name.replace('Id', '_id') for name in orders.columns]"
   ]
  },
  {
   "cell_type": "code",
   "execution_count": 11,
   "metadata": {},
   "outputs": [
    {
     "data": {
      "text/html": [
       "<div>\n",
       "<style scoped>\n",
       "    .dataframe tbody tr th:only-of-type {\n",
       "        vertical-align: middle;\n",
       "    }\n",
       "\n",
       "    .dataframe tbody tr th {\n",
       "        vertical-align: top;\n",
       "    }\n",
       "\n",
       "    .dataframe thead th {\n",
       "        text-align: right;\n",
       "    }\n",
       "</style>\n",
       "<table border=\"1\" class=\"dataframe\">\n",
       "  <thead>\n",
       "    <tr style=\"text-align: right;\">\n",
       "      <th></th>\n",
       "      <th>transaction_id</th>\n",
       "      <th>visitor_id</th>\n",
       "      <th>date</th>\n",
       "      <th>revenue</th>\n",
       "      <th>group</th>\n",
       "    </tr>\n",
       "  </thead>\n",
       "  <tbody>\n",
       "    <tr>\n",
       "      <th>0</th>\n",
       "      <td>3667963787</td>\n",
       "      <td>3312258926</td>\n",
       "      <td>2019-08-15</td>\n",
       "      <td>1650</td>\n",
       "      <td>B</td>\n",
       "    </tr>\n",
       "    <tr>\n",
       "      <th>1</th>\n",
       "      <td>2804400009</td>\n",
       "      <td>3642806036</td>\n",
       "      <td>2019-08-15</td>\n",
       "      <td>730</td>\n",
       "      <td>B</td>\n",
       "    </tr>\n",
       "    <tr>\n",
       "      <th>2</th>\n",
       "      <td>2961555356</td>\n",
       "      <td>4069496402</td>\n",
       "      <td>2019-08-15</td>\n",
       "      <td>400</td>\n",
       "      <td>A</td>\n",
       "    </tr>\n",
       "    <tr>\n",
       "      <th>3</th>\n",
       "      <td>3797467345</td>\n",
       "      <td>1196621759</td>\n",
       "      <td>2019-08-15</td>\n",
       "      <td>9759</td>\n",
       "      <td>B</td>\n",
       "    </tr>\n",
       "    <tr>\n",
       "      <th>4</th>\n",
       "      <td>2282983706</td>\n",
       "      <td>2322279887</td>\n",
       "      <td>2019-08-15</td>\n",
       "      <td>2308</td>\n",
       "      <td>B</td>\n",
       "    </tr>\n",
       "  </tbody>\n",
       "</table>\n",
       "</div>"
      ],
      "text/plain": [
       "   transaction_id  visitor_id        date  revenue group\n",
       "0      3667963787  3312258926  2019-08-15     1650     B\n",
       "1      2804400009  3642806036  2019-08-15      730     B\n",
       "2      2961555356  4069496402  2019-08-15      400     A\n",
       "3      3797467345  1196621759  2019-08-15     9759     B\n",
       "4      2282983706  2322279887  2019-08-15     2308     B"
      ]
     },
     "execution_count": 11,
     "metadata": {},
     "output_type": "execute_result"
    }
   ],
   "source": [
    "orders.head()"
   ]
  },
  {
   "cell_type": "code",
   "execution_count": 12,
   "metadata": {},
   "outputs": [
    {
     "data": {
      "text/plain": [
       "0"
      ]
     },
     "execution_count": 12,
     "metadata": {},
     "output_type": "execute_result"
    }
   ],
   "source": [
    "# изменим тип данных для столбца date\n",
    "orders['date'] = pd.to_datetime(orders['date'])\n",
    "# проверим наличие явных дубликатов\n",
    "orders.duplicated().sum()"
   ]
  },
  {
   "cell_type": "code",
   "execution_count": 13,
   "metadata": {},
   "outputs": [
    {
     "name": "stdout",
     "output_type": "stream",
     "text": [
      "<class 'pandas.core.frame.DataFrame'>\n",
      "RangeIndex: 62 entries, 0 to 61\n",
      "Data columns (total 3 columns):\n",
      " #   Column    Non-Null Count  Dtype \n",
      "---  ------    --------------  ----- \n",
      " 0   date      62 non-null     object\n",
      " 1   group     62 non-null     object\n",
      " 2   visitors  62 non-null     int64 \n",
      "dtypes: int64(1), object(2)\n",
      "memory usage: 1.6+ KB\n"
     ]
    }
   ],
   "source": [
    "# посмотрим на основную информацию orders\n",
    "visitors.info()"
   ]
  },
  {
   "cell_type": "code",
   "execution_count": 14,
   "metadata": {},
   "outputs": [
    {
     "data": {
      "text/plain": [
       "0"
      ]
     },
     "execution_count": 14,
     "metadata": {},
     "output_type": "execute_result"
    }
   ],
   "source": [
    "# изменим тип данных для столбца date\n",
    "visitors['date'] = pd.to_datetime(visitors['date'])\n",
    "# проверим наличие явных дубликатов\n",
    "visitors.duplicated().sum()"
   ]
  },
  {
   "cell_type": "code",
   "execution_count": 15,
   "metadata": {
    "scrolled": true
   },
   "outputs": [
    {
     "data": {
      "text/html": [
       "<div>\n",
       "<style scoped>\n",
       "    .dataframe tbody tr th:only-of-type {\n",
       "        vertical-align: middle;\n",
       "    }\n",
       "\n",
       "    .dataframe tbody tr th {\n",
       "        vertical-align: top;\n",
       "    }\n",
       "\n",
       "    .dataframe thead th {\n",
       "        text-align: right;\n",
       "    }\n",
       "</style>\n",
       "<table border=\"1\" class=\"dataframe\">\n",
       "  <thead>\n",
       "    <tr style=\"text-align: right;\">\n",
       "      <th></th>\n",
       "      <th>date</th>\n",
       "      <th>group</th>\n",
       "      <th>visitors</th>\n",
       "    </tr>\n",
       "  </thead>\n",
       "  <tbody>\n",
       "    <tr>\n",
       "      <th>0</th>\n",
       "      <td>2019-08-01</td>\n",
       "      <td>A</td>\n",
       "      <td>719</td>\n",
       "    </tr>\n",
       "    <tr>\n",
       "      <th>1</th>\n",
       "      <td>2019-08-02</td>\n",
       "      <td>A</td>\n",
       "      <td>619</td>\n",
       "    </tr>\n",
       "    <tr>\n",
       "      <th>2</th>\n",
       "      <td>2019-08-03</td>\n",
       "      <td>A</td>\n",
       "      <td>507</td>\n",
       "    </tr>\n",
       "    <tr>\n",
       "      <th>3</th>\n",
       "      <td>2019-08-04</td>\n",
       "      <td>A</td>\n",
       "      <td>717</td>\n",
       "    </tr>\n",
       "    <tr>\n",
       "      <th>4</th>\n",
       "      <td>2019-08-05</td>\n",
       "      <td>A</td>\n",
       "      <td>756</td>\n",
       "    </tr>\n",
       "  </tbody>\n",
       "</table>\n",
       "</div>"
      ],
      "text/plain": [
       "        date group  visitors\n",
       "0 2019-08-01     A       719\n",
       "1 2019-08-02     A       619\n",
       "2 2019-08-03     A       507\n",
       "3 2019-08-04     A       717\n",
       "4 2019-08-05     A       756"
      ]
     },
     "execution_count": 15,
     "metadata": {},
     "output_type": "execute_result"
    }
   ],
   "source": [
    "visitors.head()"
   ]
  },
  {
   "cell_type": "markdown",
   "metadata": {},
   "source": [
    "Проверим корректность разбияния пользователей на группы."
   ]
  },
  {
   "cell_type": "code",
   "execution_count": 16,
   "metadata": {},
   "outputs": [],
   "source": [
    "# количество пользователей, которые попали в обе группы\n",
    "repeat_count = orders.groupby('visitor_id').agg({'group' : 'nunique'}).query('group > 1').count()"
   ]
  },
  {
   "cell_type": "code",
   "execution_count": 17,
   "metadata": {
    "scrolled": true
   },
   "outputs": [
    {
     "data": {
      "text/plain": [
       "group    5.625606\n",
       "dtype: float64"
      ]
     },
     "execution_count": 17,
     "metadata": {},
     "output_type": "execute_result"
    }
   ],
   "source": [
    "# процент пользователей, которые попали в обе группы\n",
    "repeat_count/(orders['visitor_id'].nunique())*100"
   ]
  },
  {
   "cell_type": "code",
   "execution_count": 18,
   "metadata": {},
   "outputs": [],
   "source": [
    "# список пользователей, которые попали в обе группы\n",
    "repeat_visitor = orders.groupby('visitor_id').agg({'group' : 'nunique'})\\\n",
    "                 .reset_index().query('group>1')['visitor_id'].unique()"
   ]
  },
  {
   "cell_type": "markdown",
   "metadata": {},
   "source": [
    "5.6% пользователей попали в обе группы, для достоверности результатов предлагаю их удалить."
   ]
  },
  {
   "cell_type": "code",
   "execution_count": 19,
   "metadata": {},
   "outputs": [],
   "source": [
    "# исключаем заказы пользователей, которые попали в обе группы\n",
    "orders = orders.query('visitor_id not in @repeat_visitor')"
   ]
  },
  {
   "cell_type": "markdown",
   "metadata": {},
   "source": [
    "### Кумулятивные метрики"
   ]
  },
  {
   "cell_type": "code",
   "execution_count": 20,
   "metadata": {},
   "outputs": [],
   "source": [
    "# создадим массив уникальных пар значений дат и групп теста\n",
    "dates_groups = orders[['date', 'group']].drop_duplicates()"
   ]
  },
  {
   "cell_type": "code",
   "execution_count": 21,
   "metadata": {},
   "outputs": [
    {
     "data": {
      "text/html": [
       "<div>\n",
       "<style scoped>\n",
       "    .dataframe tbody tr th:only-of-type {\n",
       "        vertical-align: middle;\n",
       "    }\n",
       "\n",
       "    .dataframe tbody tr th {\n",
       "        vertical-align: top;\n",
       "    }\n",
       "\n",
       "    .dataframe thead th {\n",
       "        text-align: right;\n",
       "    }\n",
       "</style>\n",
       "<table border=\"1\" class=\"dataframe\">\n",
       "  <thead>\n",
       "    <tr style=\"text-align: right;\">\n",
       "      <th></th>\n",
       "      <th>date</th>\n",
       "      <th>group</th>\n",
       "      <th>transaction_id</th>\n",
       "      <th>visitor_id</th>\n",
       "      <th>revenue</th>\n",
       "    </tr>\n",
       "  </thead>\n",
       "  <tbody>\n",
       "    <tr>\n",
       "      <th>55</th>\n",
       "      <td>2019-08-01</td>\n",
       "      <td>A</td>\n",
       "      <td>23</td>\n",
       "      <td>19</td>\n",
       "      <td>142779</td>\n",
       "    </tr>\n",
       "    <tr>\n",
       "      <th>66</th>\n",
       "      <td>2019-08-01</td>\n",
       "      <td>B</td>\n",
       "      <td>17</td>\n",
       "      <td>17</td>\n",
       "      <td>59758</td>\n",
       "    </tr>\n",
       "    <tr>\n",
       "      <th>175</th>\n",
       "      <td>2019-08-02</td>\n",
       "      <td>A</td>\n",
       "      <td>42</td>\n",
       "      <td>36</td>\n",
       "      <td>234381</td>\n",
       "    </tr>\n",
       "    <tr>\n",
       "      <th>173</th>\n",
       "      <td>2019-08-02</td>\n",
       "      <td>B</td>\n",
       "      <td>40</td>\n",
       "      <td>39</td>\n",
       "      <td>221801</td>\n",
       "    </tr>\n",
       "    <tr>\n",
       "      <th>291</th>\n",
       "      <td>2019-08-03</td>\n",
       "      <td>A</td>\n",
       "      <td>66</td>\n",
       "      <td>60</td>\n",
       "      <td>346854</td>\n",
       "    </tr>\n",
       "  </tbody>\n",
       "</table>\n",
       "</div>"
      ],
      "text/plain": [
       "          date group  transaction_id  visitor_id  revenue\n",
       "55  2019-08-01     A              23          19   142779\n",
       "66  2019-08-01     B              17          17    59758\n",
       "175 2019-08-02     A              42          36   234381\n",
       "173 2019-08-02     B              40          39   221801\n",
       "291 2019-08-03     A              66          60   346854"
      ]
     },
     "execution_count": 21,
     "metadata": {},
     "output_type": "execute_result"
    }
   ],
   "source": [
    "# получим агрегированные кумулятивные данные по заказам\n",
    "orders_aggregated = dates_groups.apply(\n",
    "    lambda x: orders[\n",
    "        np.logical_and(\n",
    "            orders['date'] <= x['date'], orders['group'] == x['group']\n",
    "        )\n",
    "    ].agg(\n",
    "        {\n",
    "            'date': 'max',\n",
    "            'group': 'max',\n",
    "            'transaction_id': 'nunique',\n",
    "            'visitor_id': 'nunique',\n",
    "            'revenue': 'sum',\n",
    "        }\n",
    "    ),\n",
    "    axis=1,\n",
    ").sort_values(by=['date', 'group'])\n",
    "orders_aggregated.head()"
   ]
  },
  {
   "cell_type": "code",
   "execution_count": 22,
   "metadata": {},
   "outputs": [
    {
     "data": {
      "text/html": [
       "<div>\n",
       "<style scoped>\n",
       "    .dataframe tbody tr th:only-of-type {\n",
       "        vertical-align: middle;\n",
       "    }\n",
       "\n",
       "    .dataframe tbody tr th {\n",
       "        vertical-align: top;\n",
       "    }\n",
       "\n",
       "    .dataframe thead th {\n",
       "        text-align: right;\n",
       "    }\n",
       "</style>\n",
       "<table border=\"1\" class=\"dataframe\">\n",
       "  <thead>\n",
       "    <tr style=\"text-align: right;\">\n",
       "      <th></th>\n",
       "      <th>date</th>\n",
       "      <th>group</th>\n",
       "      <th>visitors</th>\n",
       "    </tr>\n",
       "  </thead>\n",
       "  <tbody>\n",
       "    <tr>\n",
       "      <th>55</th>\n",
       "      <td>2019-08-01</td>\n",
       "      <td>A</td>\n",
       "      <td>719</td>\n",
       "    </tr>\n",
       "    <tr>\n",
       "      <th>66</th>\n",
       "      <td>2019-08-01</td>\n",
       "      <td>B</td>\n",
       "      <td>713</td>\n",
       "    </tr>\n",
       "    <tr>\n",
       "      <th>175</th>\n",
       "      <td>2019-08-02</td>\n",
       "      <td>A</td>\n",
       "      <td>1338</td>\n",
       "    </tr>\n",
       "    <tr>\n",
       "      <th>173</th>\n",
       "      <td>2019-08-02</td>\n",
       "      <td>B</td>\n",
       "      <td>1294</td>\n",
       "    </tr>\n",
       "    <tr>\n",
       "      <th>291</th>\n",
       "      <td>2019-08-03</td>\n",
       "      <td>A</td>\n",
       "      <td>1845</td>\n",
       "    </tr>\n",
       "  </tbody>\n",
       "</table>\n",
       "</div>"
      ],
      "text/plain": [
       "          date group  visitors\n",
       "55  2019-08-01     A       719\n",
       "66  2019-08-01     B       713\n",
       "175 2019-08-02     A      1338\n",
       "173 2019-08-02     B      1294\n",
       "291 2019-08-03     A      1845"
      ]
     },
     "execution_count": 22,
     "metadata": {},
     "output_type": "execute_result"
    }
   ],
   "source": [
    "# получим агрегированные кумулятивные по дням данные о посетителях интернет-магазина\n",
    "visitors_aggregated = dates_groups.apply(\n",
    "    lambda x: visitors[\n",
    "        np.logical_and(\n",
    "            visitors['date'] <= x['date'], visitors['group'] == x['group']\n",
    "        )\n",
    "    ].agg(\n",
    "        {\n",
    "            'date': 'max',\n",
    "            'group': 'max',\n",
    "            'visitors': 'sum'}),\n",
    "    axis=1,\n",
    ").sort_values(by=['date', 'group'])\n",
    "visitors_aggregated.head()"
   ]
  },
  {
   "cell_type": "code",
   "execution_count": 23,
   "metadata": {},
   "outputs": [
    {
     "data": {
      "text/html": [
       "<div>\n",
       "<style scoped>\n",
       "    .dataframe tbody tr th:only-of-type {\n",
       "        vertical-align: middle;\n",
       "    }\n",
       "\n",
       "    .dataframe tbody tr th {\n",
       "        vertical-align: top;\n",
       "    }\n",
       "\n",
       "    .dataframe thead th {\n",
       "        text-align: right;\n",
       "    }\n",
       "</style>\n",
       "<table border=\"1\" class=\"dataframe\">\n",
       "  <thead>\n",
       "    <tr style=\"text-align: right;\">\n",
       "      <th></th>\n",
       "      <th>date</th>\n",
       "      <th>group</th>\n",
       "      <th>orders</th>\n",
       "      <th>buyers</th>\n",
       "      <th>revenue</th>\n",
       "      <th>visitors</th>\n",
       "    </tr>\n",
       "  </thead>\n",
       "  <tbody>\n",
       "    <tr>\n",
       "      <th>0</th>\n",
       "      <td>2019-08-01</td>\n",
       "      <td>A</td>\n",
       "      <td>23</td>\n",
       "      <td>19</td>\n",
       "      <td>142779</td>\n",
       "      <td>719</td>\n",
       "    </tr>\n",
       "    <tr>\n",
       "      <th>1</th>\n",
       "      <td>2019-08-01</td>\n",
       "      <td>B</td>\n",
       "      <td>17</td>\n",
       "      <td>17</td>\n",
       "      <td>59758</td>\n",
       "      <td>713</td>\n",
       "    </tr>\n",
       "    <tr>\n",
       "      <th>2</th>\n",
       "      <td>2019-08-02</td>\n",
       "      <td>A</td>\n",
       "      <td>42</td>\n",
       "      <td>36</td>\n",
       "      <td>234381</td>\n",
       "      <td>1338</td>\n",
       "    </tr>\n",
       "    <tr>\n",
       "      <th>3</th>\n",
       "      <td>2019-08-02</td>\n",
       "      <td>B</td>\n",
       "      <td>40</td>\n",
       "      <td>39</td>\n",
       "      <td>221801</td>\n",
       "      <td>1294</td>\n",
       "    </tr>\n",
       "    <tr>\n",
       "      <th>4</th>\n",
       "      <td>2019-08-03</td>\n",
       "      <td>A</td>\n",
       "      <td>66</td>\n",
       "      <td>60</td>\n",
       "      <td>346854</td>\n",
       "      <td>1845</td>\n",
       "    </tr>\n",
       "  </tbody>\n",
       "</table>\n",
       "</div>"
      ],
      "text/plain": [
       "        date group  orders  buyers  revenue  visitors\n",
       "0 2019-08-01     A      23      19   142779       719\n",
       "1 2019-08-01     B      17      17    59758       713\n",
       "2 2019-08-02     A      42      36   234381      1338\n",
       "3 2019-08-02     B      40      39   221801      1294\n",
       "4 2019-08-03     A      66      60   346854      1845"
      ]
     },
     "execution_count": 23,
     "metadata": {},
     "output_type": "execute_result"
    }
   ],
   "source": [
    "# объединим кумулятивные данные в одной таблице и переименуем столбцы\n",
    "cumulative_data = orders_aggregated.merge(\n",
    "    visitors_aggregated, left_on=['date', 'group'], right_on=['date', 'group']\n",
    ")\n",
    "\n",
    "cumulative_data.columns = ['date', 'group', 'orders', 'buyers', 'revenue', 'visitors']\n",
    "\n",
    "cumulative_data.head()"
   ]
  },
  {
   "cell_type": "markdown",
   "metadata": {},
   "source": [
    "#### Кумулятивная выручка по группам"
   ]
  },
  {
   "cell_type": "code",
   "execution_count": 24,
   "metadata": {},
   "outputs": [
    {
     "data": {
      "image/png": "[encoded data removed]",
      "text/plain": [
       "<Figure size 640x480 with 1 Axes>"
      ]
     },
     "metadata": {},
     "output_type": "display_data"
    }
   ],
   "source": [
    "# датафрейм с кумулятивным количеством заказов и кумулятивной выручкой по дням в группе А\n",
    "cumulative_revenue_a = cumulative_data[cumulative_data['group']=='A'][['date','revenue', 'orders']]\n",
    "\n",
    "# датафрейм с кумулятивным количеством заказов и кумулятивной выручкой по дням в группе B\n",
    "cumulative_revenue_b = cumulative_data[cumulative_data['group']=='B'][['date','revenue', 'orders']]\n",
    "\n",
    "# cтроим график выручки группы А\n",
    "plt.plot(cumulative_revenue_a['date'], cumulative_revenue_a['revenue'], label='A')\n",
    "\n",
    "# cтроим график выручки группы B\n",
    "plt.plot(cumulative_revenue_b['date'], cumulative_revenue_b['revenue'], label='B')\n",
    "plt.title('График кумулятивной выручки по дням по группам А и В')\n",
    "plt.ylabel('Выручка')\n",
    "plt.xticks(rotation=30)\n",
    "plt.legend()\n",
    "plt.show()"
   ]
  },
  {
   "cell_type": "markdown",
   "metadata": {},
   "source": [
    "Группа В лидирует по накопленной выручке, при этом в середине теста наблюдается резкий скачок, который сигнализирует о аномально большом количестве заказов или о появлянии очень дорогих заказов. Выручка группы А равномерно увеличивается в течениe теста."
   ]
  },
  {
   "cell_type": "markdown",
   "metadata": {},
   "source": [
    "#### Кумулятивный средний чек по группам"
   ]
  },
  {
   "cell_type": "code",
   "execution_count": 25,
   "metadata": {},
   "outputs": [
    {
     "data": {
      "image/png": "[encoded data removed]",
      "text/plain": [
       "<Figure size 640x480 with 1 Axes>"
      ]
     },
     "metadata": {},
     "output_type": "display_data"
    }
   ],
   "source": [
    "# разделим кумулятивную выручку на кумулятивное число заказов\n",
    "plt.plot(cumulative_revenue_a['date'], \n",
    "         cumulative_revenue_a['revenue'] / cumulative_revenue_a['orders'],\n",
    "         label='A')\n",
    "\n",
    "plt.plot(cumulative_revenue_b['date'], \n",
    "         cumulative_revenue_b['revenue'] / cumulative_revenue_b['orders'], \n",
    "         label='B')\n",
    "\n",
    "plt.title('График кумулятивного среднего чека по группам А и В')\n",
    "plt.ylabel('Выручка')\n",
    "plt.xticks(rotation=30)\n",
    "plt.legend()\n",
    "plt.show()"
   ]
  },
  {
   "cell_type": "markdown",
   "metadata": {},
   "source": [
    "Кумулятивные значения среднего чека для группы А установились к концу теста. У группы B наблюдается резкий скачок среднего чека в середине теста, видимо в этот период попали крупные заказы."
   ]
  },
  {
   "cell_type": "markdown",
   "metadata": {},
   "source": [
    "#### Относительное различие кумулятивного среднего чека по группам"
   ]
  },
  {
   "cell_type": "code",
   "execution_count": 26,
   "metadata": {},
   "outputs": [
    {
     "data": {
      "image/png": "[encoded data removed]",
      "text/plain": [
       "<Figure size 640x480 with 1 Axes>"
      ]
     },
     "metadata": {},
     "output_type": "display_data"
    }
   ],
   "source": [
    "# собираем данные в одном датафрейме\n",
    "merged_cumulative_revenue = cumulative_revenue_a.merge(\n",
    "    cumulative_revenue_b,\n",
    "    left_on='date', right_on='date',\n",
    "    how='left', suffixes=['A', 'B']\n",
    ")\n",
    "\n",
    "# cтроим отношение средних чеков\n",
    "plt.plot(merged_cumulative_revenue['date'],\n",
    "         (merged_cumulative_revenue['revenueB']/merged_cumulative_revenue['ordersB'])\n",
    "         /(merged_cumulative_revenue['revenueA']/merged_cumulative_revenue['ordersA'])-1)\n",
    "plt.title('График относительного изменения кумулятивного среднего чека группы B к группе A')\n",
    "plt.xticks(rotation=30)\n",
    "\n",
    "# добавляем ось X\n",
    "plt.axhline(y=0, color='black', linestyle='--')\n",
    "plt.show()"
   ]
  },
  {
   "cell_type": "markdown",
   "metadata": {},
   "source": [
    "График резко скачет в нескольких точках, значит точно присутствуют крупные заказы и выбросы."
   ]
  },
  {
   "cell_type": "markdown",
   "metadata": {},
   "source": [
    "#### Кумулятивноe среднеe количество заказов на посетителя по группам"
   ]
  },
  {
   "cell_type": "code",
   "execution_count": 27,
   "metadata": {},
   "outputs": [
    {
     "data": {
      "image/png": "[encoded data removed]",
      "text/plain": [
       "<Figure size 640x480 with 1 Axes>"
      ]
     },
     "metadata": {},
     "output_type": "display_data"
    }
   ],
   "source": [
    "# считаем среднее количество заказов на посетителя\n",
    "cumulative_data['conversion'] = cumulative_data['orders']/cumulative_data['visitors']\n",
    "\n",
    "# отделяем данные по группе A\n",
    "cumulative_data_a = cumulative_data[cumulative_data['group']=='A']\n",
    "\n",
    "# отделяем данные по группе B\n",
    "cumulative_data_b = cumulative_data[cumulative_data['group']=='B']\n",
    "\n",
    "# строим графики\n",
    "plt.plot(cumulative_data_a['date'], cumulative_data_a['conversion'], label='A')\n",
    "plt.plot(cumulative_data_b['date'], cumulative_data_b['conversion'], label='B')\n",
    "plt.legend()\n",
    "plt.title('Кумулятивное среднее количество заказов по группам')\n",
    "plt.ylabel('Конверсия')\n",
    "plt.xticks(rotation=30)\n",
    "plt.axis([dt.datetime(2019, 8, 1), dt.datetime(2019, 9, 1), 0, 0.05])\n",
    "plt.show()"
   ]
  },
  {
   "cell_type": "markdown",
   "metadata": {},
   "source": [
    "Кумулятивное среднее количество заказов для двух групп выровнялось к концу теста. В среднем у группы B заказов больше."
   ]
  },
  {
   "cell_type": "markdown",
   "metadata": {},
   "source": [
    "#### Относительное изменениe кумулятивного среднего количества заказов на посетителя"
   ]
  },
  {
   "cell_type": "code",
   "execution_count": 28,
   "metadata": {},
   "outputs": [
    {
     "data": {
      "image/png": "[encoded data removed]",
      "text/plain": [
       "<Figure size 640x480 with 1 Axes>"
      ]
     },
     "metadata": {},
     "output_type": "display_data"
    }
   ],
   "source": [
    "merged_cumulative_conversions = (\n",
    "    cumulative_data_a[['date','conversion']]\n",
    "    .merge(\n",
    "        cumulative_data_b[['date','conversion']], \n",
    "        left_on='date', \n",
    "        right_on='date', \n",
    "        how='left', \n",
    "        suffixes=['_a', '_b']\n",
    "    )\n",
    ")\n",
    "plt.plot(\n",
    "    merged_cumulative_conversions['date'], \n",
    "    merged_cumulative_conversions['conversion_b']/\n",
    "    merged_cumulative_conversions['conversion_a']-1\n",
    ")\n",
    "plt.title('Относительный прирост конверсии группы B относительно группы A')\n",
    "plt.xticks(rotation=30)\n",
    "\n",
    "# добавляем ось X\n",
    "plt.axhline(y=0, color='black', linestyle='--')\n",
    "plt.axhline(y=0.15, color='grey', linestyle='--')\n",
    "plt.show()"
   ]
  },
  {
   "cell_type": "markdown",
   "metadata": {},
   "source": [
    "В начале группа B проигрывала группе A, но потом вырвалась вперед и до конца теста оставалась больше, значения стабилизировались в районе 0.15."
   ]
  },
  {
   "cell_type": "markdown",
   "metadata": {},
   "source": [
    "### Анализ выбросов и всплесков"
   ]
  },
  {
   "cell_type": "markdown",
   "metadata": {},
   "source": [
    "#### Распределение количества заказов по пользователям"
   ]
  },
  {
   "cell_type": "code",
   "execution_count": 29,
   "metadata": {},
   "outputs": [
    {
     "data": {
      "text/html": [
       "<div>\n",
       "<style scoped>\n",
       "    .dataframe tbody tr th:only-of-type {\n",
       "        vertical-align: middle;\n",
       "    }\n",
       "\n",
       "    .dataframe tbody tr th {\n",
       "        vertical-align: top;\n",
       "    }\n",
       "\n",
       "    .dataframe thead th {\n",
       "        text-align: right;\n",
       "    }\n",
       "</style>\n",
       "<table border=\"1\" class=\"dataframe\">\n",
       "  <thead>\n",
       "    <tr style=\"text-align: right;\">\n",
       "      <th></th>\n",
       "      <th>user_id</th>\n",
       "      <th>orders</th>\n",
       "    </tr>\n",
       "  </thead>\n",
       "  <tbody>\n",
       "    <tr>\n",
       "      <th>908</th>\n",
       "      <td>3967698036</td>\n",
       "      <td>3</td>\n",
       "    </tr>\n",
       "    <tr>\n",
       "      <th>55</th>\n",
       "      <td>249864742</td>\n",
       "      <td>3</td>\n",
       "    </tr>\n",
       "    <tr>\n",
       "      <th>478</th>\n",
       "      <td>2108163459</td>\n",
       "      <td>3</td>\n",
       "    </tr>\n",
       "    <tr>\n",
       "      <th>687</th>\n",
       "      <td>2988190573</td>\n",
       "      <td>3</td>\n",
       "    </tr>\n",
       "    <tr>\n",
       "      <th>890</th>\n",
       "      <td>3908431265</td>\n",
       "      <td>3</td>\n",
       "    </tr>\n",
       "  </tbody>\n",
       "</table>\n",
       "</div>"
      ],
      "text/plain": [
       "        user_id  orders\n",
       "908  3967698036       3\n",
       "55    249864742       3\n",
       "478  2108163459       3\n",
       "687  2988190573       3\n",
       "890  3908431265       3"
      ]
     },
     "execution_count": 29,
     "metadata": {},
     "output_type": "execute_result"
    }
   ],
   "source": [
    "#посмотрим на самое большое количество заказов\n",
    "orders_by_users = (\n",
    "    orders.groupby('visitor_id', as_index=False)\n",
    "    .agg({'transaction_id': 'nunique'})\n",
    ")\n",
    "orders_by_users.columns = ['user_id', 'orders']\n",
    "\n",
    "orders_by_users.sort_values(by='orders', ascending=False).head(5)"
   ]
  },
  {
   "cell_type": "code",
   "execution_count": 30,
   "metadata": {},
   "outputs": [
    {
     "data": {
      "image/png": "[encoded data removed]",
      "text/plain": [
       "<Figure size 640x480 with 1 Axes>"
      ]
     },
     "metadata": {},
     "output_type": "display_data"
    }
   ],
   "source": [
    "#гистограмма распределения заказов\n",
    "plt.hist(orders_by_users['orders'])\n",
    "plt.title('Гистограмма распределения заказов по пользователям')\n",
    "plt.ylabel('Количество пользователй')\n",
    "plt.xlabel('Количество заказов')\n",
    "plt.show()"
   ]
  },
  {
   "cell_type": "markdown",
   "metadata": {},
   "source": [
    "Большинство пользователей оформили один заказ за месяц, но есть небольшое количество пользователей, которые сделали 2 или 3 заказа."
   ]
  },
  {
   "cell_type": "code",
   "execution_count": 31,
   "metadata": {},
   "outputs": [
    {
     "data": {
      "image/png": "[encoded data removed]",
      "text/plain": [
       "<Figure size 640x480 with 1 Axes>"
      ]
     },
     "metadata": {},
     "output_type": "display_data"
    }
   ],
   "source": [
    "#построим точечный график количества заказов по пользователям\n",
    "x_values = pd.Series(range(0,len(orders_by_users)))\n",
    "\n",
    "plt.scatter(x_values, orders_by_users['orders'])\n",
    "plt.title('Точечный график количества заказов по пользователям')\n",
    "plt.ylabel('Количество заказов')\n",
    "plt.show()"
   ]
  },
  {
   "cell_type": "markdown",
   "metadata": {},
   "source": [
    "Точная доля пользователей с 2-3 заказами пока не ясна — непонятно, считать их аномалиями или нет."
   ]
  },
  {
   "cell_type": "code",
   "execution_count": 32,
   "metadata": {},
   "outputs": [
    {
     "name": "stdout",
     "output_type": "stream",
     "text": [
      "[1. 2.]\n"
     ]
    }
   ],
   "source": [
    "# посчитаем выборочные перцентили количества заказов на одного пользователя\n",
    "print(np.percentile(orders_by_users['orders'], [95, 99])) "
   ]
  },
  {
   "cell_type": "markdown",
   "metadata": {},
   "source": [
    "5% пользователей сделали больше 1 заказа, только 1% пользователей сделал больше 2 заказов. Верхней границей будем считать 2 заказа."
   ]
  },
  {
   "cell_type": "markdown",
   "metadata": {},
   "source": [
    "#### Распределение стоимостей заказов"
   ]
  },
  {
   "cell_type": "code",
   "execution_count": 33,
   "metadata": {},
   "outputs": [
    {
     "data": {
      "image/png": "[encoded data removed]",
      "text/plain": [
       "<Figure size 640x480 with 1 Axes>"
      ]
     },
     "metadata": {},
     "output_type": "display_data"
    }
   ],
   "source": [
    "#построим точечный график стоимостей заказов\n",
    "x_values = pd.Series(range(0,len(orders)))\n",
    "\n",
    "plt.scatter(x_values, orders['revenue'])\n",
    "plt.title('Точечный график стоимостей заказов')\n",
    "plt.ylabel('Стоимость заказа')\n",
    "plt.show()"
   ]
  },
  {
   "cell_type": "markdown",
   "metadata": {},
   "source": [
    "Практически все заказы ниже 60 тысяч, но есть и более крупные заказы,один из них больше миллиона. "
   ]
  },
  {
   "cell_type": "code",
   "execution_count": 34,
   "metadata": {},
   "outputs": [
    {
     "name": "stdout",
     "output_type": "stream",
     "text": [
      "[26785. 53904.]\n"
     ]
    }
   ],
   "source": [
    "# посчитаем выборочные перцентили стоимости заказов\n",
    "print(np.percentile(orders['revenue'], [95, 99])) "
   ]
  },
  {
   "cell_type": "markdown",
   "metadata": {},
   "source": [
    "Только 5% пользователей сделали заказ больше чем на 27 тысяч, и 1% больше чем на 54 тысячи, возьмем это значение за верхнюю границу."
   ]
  },
  {
   "cell_type": "markdown",
   "metadata": {},
   "source": [
    "#### Статистическая значимость различий в среднем количестве заказов на посетителя между группами по «сырым» данным"
   ]
  },
  {
   "cell_type": "markdown",
   "metadata": {},
   "source": [
    "Посчитаем статистическую значимость различий в среднем числе заказов на пользователя и среднем чеке между группами по «сырым» данным — без удаления аномальных пользователей.\n",
    "\n",
    "Сформулируем гипотезы \n",
    "- Нулевая: различий в среднем количестве заказов между группами нет. \n",
    "- Альтернативная: различия в среднем количестве заказов между группами есть.\n",
    "\n",
    "Для проверки гипотез будем использовать непараметрический тест Уилкоксона-Манна-Уитни, уровень значимости возьмем стандартным 0.05."
   ]
  },
  {
   "cell_type": "code",
   "execution_count": 35,
   "metadata": {},
   "outputs": [
    {
     "data": {
      "text/html": [
       "<div>\n",
       "<style scoped>\n",
       "    .dataframe tbody tr th:only-of-type {\n",
       "        vertical-align: middle;\n",
       "    }\n",
       "\n",
       "    .dataframe tbody tr th {\n",
       "        vertical-align: top;\n",
       "    }\n",
       "\n",
       "    .dataframe thead th {\n",
       "        text-align: right;\n",
       "    }\n",
       "</style>\n",
       "<table border=\"1\" class=\"dataframe\">\n",
       "  <thead>\n",
       "    <tr style=\"text-align: right;\">\n",
       "      <th></th>\n",
       "      <th>date</th>\n",
       "      <th>orders_daily_a</th>\n",
       "      <th>revenue_per_date_a</th>\n",
       "      <th>orders_daily_b</th>\n",
       "      <th>revenue_per_date_b</th>\n",
       "      <th>orders_cummulative_a</th>\n",
       "      <th>revenue_cummulative_a</th>\n",
       "      <th>orders_cummulative_b</th>\n",
       "      <th>revenue_cummulative_b</th>\n",
       "      <th>visitors_per_date_a</th>\n",
       "      <th>visitors_per_date_b</th>\n",
       "      <th>visitors_cummulative_a</th>\n",
       "      <th>visitors_cummulative_b</th>\n",
       "    </tr>\n",
       "  </thead>\n",
       "  <tbody>\n",
       "    <tr>\n",
       "      <th>0</th>\n",
       "      <td>2019-08-01</td>\n",
       "      <td>23</td>\n",
       "      <td>142779</td>\n",
       "      <td>17</td>\n",
       "      <td>59758</td>\n",
       "      <td>23</td>\n",
       "      <td>142779</td>\n",
       "      <td>17</td>\n",
       "      <td>59758</td>\n",
       "      <td>719</td>\n",
       "      <td>713</td>\n",
       "      <td>719</td>\n",
       "      <td>713</td>\n",
       "    </tr>\n",
       "    <tr>\n",
       "      <th>1</th>\n",
       "      <td>2019-08-02</td>\n",
       "      <td>19</td>\n",
       "      <td>91602</td>\n",
       "      <td>23</td>\n",
       "      <td>162043</td>\n",
       "      <td>42</td>\n",
       "      <td>234381</td>\n",
       "      <td>40</td>\n",
       "      <td>221801</td>\n",
       "      <td>619</td>\n",
       "      <td>581</td>\n",
       "      <td>1338</td>\n",
       "      <td>1294</td>\n",
       "    </tr>\n",
       "    <tr>\n",
       "      <th>2</th>\n",
       "      <td>2019-08-03</td>\n",
       "      <td>24</td>\n",
       "      <td>112473</td>\n",
       "      <td>14</td>\n",
       "      <td>67049</td>\n",
       "      <td>66</td>\n",
       "      <td>346854</td>\n",
       "      <td>54</td>\n",
       "      <td>288850</td>\n",
       "      <td>507</td>\n",
       "      <td>509</td>\n",
       "      <td>1845</td>\n",
       "      <td>1803</td>\n",
       "    </tr>\n",
       "    <tr>\n",
       "      <th>3</th>\n",
       "      <td>2019-08-04</td>\n",
       "      <td>11</td>\n",
       "      <td>41176</td>\n",
       "      <td>14</td>\n",
       "      <td>96890</td>\n",
       "      <td>77</td>\n",
       "      <td>388030</td>\n",
       "      <td>68</td>\n",
       "      <td>385740</td>\n",
       "      <td>717</td>\n",
       "      <td>770</td>\n",
       "      <td>2562</td>\n",
       "      <td>2573</td>\n",
       "    </tr>\n",
       "    <tr>\n",
       "      <th>4</th>\n",
       "      <td>2019-08-05</td>\n",
       "      <td>22</td>\n",
       "      <td>86383</td>\n",
       "      <td>21</td>\n",
       "      <td>89908</td>\n",
       "      <td>99</td>\n",
       "      <td>474413</td>\n",
       "      <td>89</td>\n",
       "      <td>475648</td>\n",
       "      <td>756</td>\n",
       "      <td>707</td>\n",
       "      <td>3318</td>\n",
       "      <td>3280</td>\n",
       "    </tr>\n",
       "  </tbody>\n",
       "</table>\n",
       "</div>"
      ],
      "text/plain": [
       "        date  orders_daily_a  revenue_per_date_a  orders_daily_b  \\\n",
       "0 2019-08-01              23              142779              17   \n",
       "1 2019-08-02              19               91602              23   \n",
       "2 2019-08-03              24              112473              14   \n",
       "3 2019-08-04              11               41176              14   \n",
       "4 2019-08-05              22               86383              21   \n",
       "\n",
       "   revenue_per_date_b  orders_cummulative_a  revenue_cummulative_a  \\\n",
       "0               59758                    23                 142779   \n",
       "1              162043                    42                 234381   \n",
       "2               67049                    66                 346854   \n",
       "3               96890                    77                 388030   \n",
       "4               89908                    99                 474413   \n",
       "\n",
       "   orders_cummulative_b  revenue_cummulative_b  visitors_per_date_a  \\\n",
       "0                    17                  59758                  719   \n",
       "1                    40                 221801                  619   \n",
       "2                    54                 288850                  507   \n",
       "3                    68                 385740                  717   \n",
       "4                    89                 475648                  756   \n",
       "\n",
       "   visitors_per_date_b  visitors_cummulative_a  visitors_cummulative_b  \n",
       "0                  713                     719                     713  \n",
       "1                  581                    1338                    1294  \n",
       "2                  509                    1845                    1803  \n",
       "3                  770                    2562                    2573  \n",
       "4                  707                    3318                    3280  "
      ]
     },
     "execution_count": 35,
     "metadata": {},
     "output_type": "execute_result"
    }
   ],
   "source": [
    "visitors_daily_a = visitors[visitors['group'] == 'A'][['date', 'visitors']]\n",
    "visitors_daily_a.columns = ['date', 'visitors_per_date_a']\n",
    "\n",
    "visitors_cummulative_a = visitors_daily_a.apply(\n",
    "    lambda x: visitors_daily_a[visitors_daily_a['date'] <= x['date']].agg(\n",
    "        {'date': 'max', 'visitors_per_date_a': 'sum'}\n",
    "    ),\n",
    "    axis=1,\n",
    ")\n",
    "visitors_cummulative_a.columns = ['date', 'visitors_cummulative_a']\n",
    "\n",
    "visitors_daily_b = visitors[visitors['group'] == 'B'][['date', 'visitors']]\n",
    "visitors_daily_b.columns = ['date', 'visitors_per_date_b']\n",
    "\n",
    "visitors_cummulative_b = visitors_daily_b.apply(\n",
    "    lambda x: visitors_daily_b[visitors_daily_b['date'] <= x['date']].agg(\n",
    "        {'date': 'max', 'visitors_per_date_b': 'sum'}\n",
    "    ),\n",
    "    axis=1,\n",
    ")\n",
    "visitors_cummulative_b.columns = ['date', 'visitors_cummulative_b']\n",
    "\n",
    "orders_daily_a = (\n",
    "    orders[orders['group'] == 'A'][['date', 'transaction_id', 'visitor_id', 'revenue']]\n",
    "    .groupby('date', as_index=False)\n",
    "    .agg({'transaction_id': pd.Series.nunique, 'revenue': 'sum'})\n",
    ")\n",
    "orders_daily_a.columns = ['date', 'orders_daily_a', 'revenue_per_date_a']\n",
    "\n",
    "orders_cummulative_a = orders_daily_a.apply(\n",
    "    lambda x: orders_daily_a[orders_daily_a['date'] <= x['date']].agg(\n",
    "        {'date': 'max', 'orders_daily_a': 'sum', 'revenue_per_date_a': 'sum'}\n",
    "    ),\n",
    "    axis=1,\n",
    ").sort_values(by=['date'])\n",
    "orders_cummulative_a.columns = ['date','orders_cummulative_a','revenue_cummulative_a']\n",
    "\n",
    "orders_daily_b = (\n",
    "    orders[orders['group'] == 'B'][['date', 'transaction_id', 'visitor_id', 'revenue']]\n",
    "    .groupby('date', as_index=False)\n",
    "    .agg({'transaction_id': pd.Series.nunique, 'revenue': 'sum'})\n",
    ")\n",
    "orders_daily_b.columns = ['date', 'orders_daily_b', 'revenue_per_date_b']\n",
    "\n",
    "orders_cummulative_b = orders_daily_b.apply(\n",
    "    lambda x: orders_daily_b[orders_daily_b['date'] <= x['date']].agg(\n",
    "        {'date': 'max', 'orders_daily_b': 'sum', 'revenue_per_date_b': 'sum'}\n",
    "    ),\n",
    "    axis=1,\n",
    ").sort_values(by=['date'])\n",
    "\n",
    "orders_cummulative_b.columns = ['date','orders_cummulative_b','revenue_cummulative_b']\n",
    "\n",
    "data = (\n",
    "    orders_daily_a.merge(\n",
    "        orders_daily_b, left_on='date', right_on='date', how='left'\n",
    "    )\n",
    "    .merge(orders_cummulative_a, left_on='date', right_on='date', how='left')\n",
    "    .merge(orders_cummulative_b, left_on='date', right_on='date', how='left')\n",
    "    .merge(visitors_daily_a, left_on='date', right_on='date', how='left')\n",
    "    .merge(visitors_daily_b, left_on='date', right_on='date', how='left')\n",
    "    .merge(visitors_cummulative_a, left_on='date', right_on='date', how='left')\n",
    "    .merge(visitors_cummulative_b, left_on='date', right_on='date', how='left')\n",
    ")\n",
    "\n",
    "data.head(5)"
   ]
  },
  {
   "cell_type": "markdown",
   "metadata": {},
   "source": [
    "Обозначение столбцов в таблице:\n",
    "- date — дата\n",
    "- orders_daily_a — количество заказов в выбранную дату в группе A\n",
    "- revenue_per_date_a — суммарная выручка в выбранную дату в группе A\n",
    "- orders_daily_a — количество заказов в выбранную дату в группе B\n",
    "- revenue_per_date_a — суммарная выручка в выбранную дату в группе B\n",
    "- orders_cummulative_a — суммарное число заказов до выбранной даты включительно в группе A\n",
    "- revenue_cummulative_a — суммарная выручка до выбранной даты включительно в группе A\n",
    "- orders_cummulative_b — суммарное количество заказов до выбранной даты включительно в группе B\n",
    "- revenue_cummulative_b — суммарная выручка до выбранной даты включительно в группе B\n",
    "- visitors_per_date_a — количество пользователей в выбранную дату в группе A\n",
    "- visitors_per_date_b — количество пользователей в выбранную дату в группе B\n",
    "- visitors_cummulative_a — количество пользователей до выбранной даты включительно в группе A\n",
    "- visitors_cummulative_b — количество пользователей до выбранной даты включительно в группе B"
   ]
  },
  {
   "cell_type": "markdown",
   "metadata": {},
   "source": [
    "Далее создадим переменные orders_by_users_a и orders_by_users_b, в них для пользователей, которые заказывали хотя бы 1 раз, укажем число совершённых заказов."
   ]
  },
  {
   "cell_type": "code",
   "execution_count": 36,
   "metadata": {},
   "outputs": [],
   "source": [
    "orders_by_users_a = (\n",
    "    orders[orders['group'] == 'A']\n",
    "    .groupby('visitor_id', as_index=False)\n",
    "    .agg({'transaction_id': pd.Series.nunique})\n",
    ")\n",
    "orders_by_users_a.columns = ['visitor_id', 'orders']\n",
    "\n",
    "orders_by_users_b = (\n",
    "    orders[orders['group'] == 'B']\n",
    "    .groupby('visitor_id', as_index=False)\n",
    "    .agg({'transaction_id': pd.Series.nunique})\n",
    ")\n",
    "orders_by_users_b.columns = ['visitor_id', 'orders']"
   ]
  },
  {
   "cell_type": "markdown",
   "metadata": {},
   "source": [
    "Для подготовки к критериям Манна-Уитни объявим переменные sample_a и sample_b, в которых пользователям из разных групп будет соответствовать количество заказов. Тем, кто ничего не заказал, будут соответствовать нули. "
   ]
  },
  {
   "cell_type": "code",
   "execution_count": 37,
   "metadata": {},
   "outputs": [],
   "source": [
    "sample_a = pd.concat([orders_by_users_a['orders'],\n",
    "                      pd.Series(\n",
    "                          0, \n",
    "                          index=np.arange(data['visitors_per_date_a'].sum() - \n",
    "                                          len(orders_by_users_a['orders'])), \n",
    "                          name='orders')],axis=0\n",
    "                    )\n",
    "\n",
    "sample_b = pd.concat([orders_by_users_b['orders'],\n",
    "                      pd.Series(\n",
    "                          0, \n",
    "                          index=np.arange(data['visitors_per_date_b'].sum() - \n",
    "                                          len(orders_by_users_b['orders'])), \n",
    "                          name='orders')],axis=0\n",
    "                    )"
   ]
  },
  {
   "cell_type": "code",
   "execution_count": 38,
   "metadata": {},
   "outputs": [],
   "source": [
    "# функция для проверки гипотез\n",
    "def testing_hypotheses(data_a, data_b, alpha):\n",
    "    p_value = stats.mannwhitneyu(data_a, data_b)[1]\n",
    "    print(\"p-value: {0:.3f}\".format(p_value))\n",
    "    if (p_value < alpha):\n",
    "        print(\"Отвергаем нулевую гипотезу: между группами есть разница\")\n",
    "    else:\n",
    "        print(\"Не получилось отвергнуть нулевую гипотезу: нет оснований считать группы разными\")\n",
    "    \n",
    "    print(\"Относительный прирост В к А: {0:.3%}\".format(data_b.mean() / data_a.mean()-1))"
   ]
  },
  {
   "cell_type": "code",
   "execution_count": 39,
   "metadata": {},
   "outputs": [
    {
     "name": "stdout",
     "output_type": "stream",
     "text": [
      "p-value: 0.011\n",
      "Отвергаем нулевую гипотезу: между группами есть разница\n",
      "Относительный прирост В к А: 15.980%\n"
     ]
    }
   ],
   "source": [
    "testing_hypotheses(sample_a,sample_b, 0.05)"
   ]
  },
  {
   "cell_type": "markdown",
   "metadata": {},
   "source": [
    "По \"сырым\" данным относительное различие в среднем количестве заказов между группами А и В есть. Значение p_value меньше 0.05, поэтому отвергаем нулевую гипотезу. Относительный выигрыш группы B равен 15.98%"
   ]
  },
  {
   "cell_type": "markdown",
   "metadata": {},
   "source": [
    "#### Статистическая значимость различий в среднем чеке заказа между группами по «сырым» данным"
   ]
  },
  {
   "cell_type": "markdown",
   "metadata": {},
   "source": [
    "Проверим статистическую значимость различий в среднем чеке между группами. \n",
    "- Нулевая гипотеза: различий в среднем чеке между группами нет. \n",
    "- Альтернативная гипотеза: различия в среднем чеке между группами есть. \n",
    "\n",
    "Чтобы рассчитать статистическую значимость различий в среднем чеке, передадим критерию mannwhitneyu() данные о выручке с заказов. А ещё найдём относительные различия в среднем чеке между группами."
   ]
  },
  {
   "cell_type": "code",
   "execution_count": 40,
   "metadata": {},
   "outputs": [
    {
     "name": "stdout",
     "output_type": "stream",
     "text": [
      "p-value: 0.829\n",
      "Не получилось отвергнуть нулевую гипотезу: нет оснований считать группы разными\n",
      "Относительный прирост В к А: 28.660%\n"
     ]
    }
   ],
   "source": [
    "# используем функцию для проверки гипотез\n",
    "testing_hypotheses(orders[orders['group']=='A']['revenue'], orders[orders['group']=='B']['revenue'], 0.05)"
   ]
  },
  {
   "cell_type": "markdown",
   "metadata": {},
   "source": [
    "P-value значительно больше 0.5, значит оснований отвергать нулевую гипотезу нет. Наблюдаемое различие выигрыша В к А в 28.66% не является статистически значимым."
   ]
  },
  {
   "cell_type": "markdown",
   "metadata": {},
   "source": [
    "#### Статистическая значимость различий в среднем количестве заказов на посетителя между группами по «очищенным» данным"
   ]
  },
  {
   "cell_type": "markdown",
   "metadata": {},
   "source": [
    "Примем за аномальных пользователей тех, кто совершил больше 4 заказов или совершил заказ дороже 58 тысяч рублей. Так мы уберём 1% пользователей с наибольшим числом заказов и от 1% пользователей с дорогими заказами."
   ]
  },
  {
   "cell_type": "code",
   "execution_count": 41,
   "metadata": {},
   "outputs": [
    {
     "data": {
      "text/plain": [
       "1099    148427295\n",
       "33      249864742\n",
       "58      611059232\n",
       "949     887908475\n",
       "744     888512513\n",
       "Name: visitor_id, dtype: int64"
      ]
     },
     "metadata": {},
     "output_type": "display_data"
    },
    {
     "data": {
      "text/plain": [
       "'Количество аномальных пользователей: 16'"
      ]
     },
     "metadata": {},
     "output_type": "display_data"
    }
   ],
   "source": [
    "orders_lim = np.percentile(orders_by_users['orders'], 99)\n",
    "revenue_lim = np.percentile(orders['revenue'], 99)\n",
    "\n",
    "users_with_many_orders = pd.concat(\n",
    "    [\n",
    "        orders_by_users_a[orders_by_users_a['orders'] > orders_lim]['visitor_id'],\n",
    "        orders_by_users_b[orders_by_users_b['orders'] > orders_lim]['visitor_id'],\n",
    "    ],\n",
    "    axis=0,\n",
    ")\n",
    "users_with_expensive_orders = orders[orders['revenue'] > revenue_lim]['visitor_id']\n",
    "abnormal_users = (\n",
    "    pd.concat([users_with_many_orders, users_with_expensive_orders], axis=0)\n",
    "    .drop_duplicates()\n",
    "    .sort_values()\n",
    ")\n",
    "display(abnormal_users.head(5))\n",
    "display(f'Количество аномальных пользователей: {abnormal_users.shape[0]}') "
   ]
  },
  {
   "cell_type": "markdown",
   "metadata": {},
   "source": [
    "Узнаем, как действия 16 аномальных пользователей повлияли на результаты теста. Посчитаем статистическую значимость различий в среднем количестве заказов между группами теста по очищенным данным. Сначала подготовим выборки количества заказов по пользователям по группам теста."
   ]
  },
  {
   "cell_type": "code",
   "execution_count": 42,
   "metadata": {},
   "outputs": [],
   "source": [
    "sample_a_filtered = pd.concat(\n",
    "    [\n",
    "        orders_by_users_a[\n",
    "            np.logical_not(orders_by_users_a['visitor_id'].isin(abnormal_users))\n",
    "        ]['orders'],\n",
    "        pd.Series(\n",
    "            0,\n",
    "            index=np.arange(\n",
    "                data['visitors_per_date_a'].sum() - len(orders_by_users_a['orders'])\n",
    "            ),\n",
    "            name='orders',\n",
    "        ),\n",
    "    ],\n",
    "    axis=0,\n",
    ")\n",
    "\n",
    "sample_b_filtered = pd.concat(\n",
    "    [\n",
    "        orders_by_users_b[\n",
    "            np.logical_not(orders_by_users_b['visitor_id'].isin(abnormal_users))\n",
    "        ]['orders'],\n",
    "        pd.Series(\n",
    "            0,\n",
    "            index=np.arange(\n",
    "                data['visitors_per_date_b'].sum() - len(orders_by_users_b['orders'])\n",
    "            ),\n",
    "            name='orders',\n",
    "        ),\n",
    "    ],\n",
    "    axis=0,\n",
    ")"
   ]
  },
  {
   "cell_type": "markdown",
   "metadata": {},
   "source": [
    "Проверим те же гипотезы для \"очищенных\" данных:\n",
    "- Нулевая: различий в среднем количестве заказов между группами нет. \n",
    "- Альтернативная: различия в среднем количестве заказов между группами есть."
   ]
  },
  {
   "cell_type": "code",
   "execution_count": 43,
   "metadata": {
    "scrolled": true
   },
   "outputs": [
    {
     "name": "stdout",
     "output_type": "stream",
     "text": [
      "p-value: 0.007\n",
      "Отвергаем нулевую гипотезу: между группами есть разница\n",
      "Относительный прирост В к А: 18.921%\n"
     ]
    }
   ],
   "source": [
    "# применим статистический критерий Манна-Уитни к полученным выборкам\n",
    "testing_hypotheses(sample_a_filtered, sample_b_filtered, 0.05)"
   ]
  },
  {
   "cell_type": "markdown",
   "metadata": {},
   "source": [
    "Значением p-value меньшу статистической значимости, значит для \"очищенных\" данных есть разница между средним количеством заказов.  Выигрыш группы B составил 18.92%, что на 2.94% выше, чем у \"сырых\" данных."
   ]
  },
  {
   "cell_type": "markdown",
   "metadata": {},
   "source": [
    "#### Статистическая значимость различий в среднем чеке заказа между группами по «очищенным» данным"
   ]
  },
  {
   "cell_type": "markdown",
   "metadata": {},
   "source": [
    "Проверим гипотезы для \"очищенных\" данных:\n",
    "- Нулевая гипотеза: различий в среднем чеке между группами нет. \n",
    "- Альтернативная гипотеза: различия в среднем чеке между группами есть. "
   ]
  },
  {
   "cell_type": "code",
   "execution_count": 44,
   "metadata": {},
   "outputs": [
    {
     "name": "stdout",
     "output_type": "stream",
     "text": [
      "p-value: 0.788\n",
      "Не получилось отвергнуть нулевую гипотезу: нет оснований считать группы разными\n",
      "Относительный прирост В к А: -3.234%\n"
     ]
    }
   ],
   "source": [
    "testing_hypotheses(\n",
    "    orders[(orders['group']=='A') & np.logical_not(orders['visitor_id'].isin(abnormal_users))]['revenue'], \n",
    "    orders[(orders['group']=='B') & np.logical_not(orders['visitor_id'].isin(abnormal_users))]['revenue'],\n",
    "    0.05\n",
    ")"
   ]
  },
  {
   "cell_type": "markdown",
   "metadata": {},
   "source": [
    "Относительный прирост В к А стал отрицательным, изменился более чем на 31% по сравнению с \"сырыми\" данными. Значение p-value больше статистической значимости, нет оснований отвергать нулевую гипотезу \"различий в среднем чеке между группами нет\", следовательно относительный прирост в -3.23% не является статистически значимым."
   ]
  },
  {
   "cell_type": "markdown",
   "metadata": {},
   "source": [
    "## Общий вывод"
   ]
  },
  {
   "cell_type": "markdown",
   "metadata": {},
   "source": [
    "В результате выполнения проекта с использованием фреймворков ICE и RICE приоритезированы гипотезы для увеличения выручки интернет-магазина. Фреймворк RICE учитывает количество пользователей, которых коснется изменение, поэтому является наиболее показательным. Наиболее приоритетными гипотезами по RICE являются: \n",
    "- \"добавить форму подписки на все основные страницы, чтобы собрать базу клиентов для email-рассыло\"; \n",
    "- \"добавить блоки рекомендаций товаров на сайт интернет магазина, чтобы повысить конверсию и средний чек заказа\".\n",
    "Также стоит обратить внимание на эти две гипотезы:\n",
    "- \"добавить два новых канала привлечения трафика, что позволит привлекать на 30% больше пользователей\"; \n",
    "- \"показать на главной странице баннеры с актуальными акциями и распродажами, чтобы увеличить конверсию\".\n",
    "\n",
    "В результате анализа результатов A/B тесты сформулированы следующие выводы:\n",
    "- во время предобработки данных было выявлено, что более 5% пользователей попали сразу в обе группы;\n",
    "- по \"сырым\" и \"очищенным\" данным статистически значимое различие между средним количеством заказов на посетителя для групп А и В есть. Конверсия группы B выигрывает и составляет около 16%;\n",
    "- по \"сырым\" и \"очищенным\" данным статистической значимости различий в среднем чеке заказа между группами нет;\n",
    "- можно остановить тест и признать победу по конверсии группы В."
   ]
  }
 ],
 "metadata": {
  "ExecuteTimeLog": [
   {
    "duration": 64,
    "start_time": "2024-03-14T18:48:18.300Z"
   },
   {
    "duration": 2,
    "start_time": "2024-03-14T18:48:30.455Z"
   },
   {
    "duration": 58,
    "start_time": "2024-03-14T18:49:07.424Z"
   },
   {
    "duration": 26,
    "start_time": "2024-03-14T18:49:26.001Z"
   },
   {
    "duration": 10,
    "start_time": "2024-03-14T18:49:37.349Z"
   },
   {
    "duration": 64,
    "start_time": "2024-03-14T18:49:53.194Z"
   },
   {
    "duration": 16,
    "start_time": "2024-03-14T18:50:00.764Z"
   },
   {
    "duration": 8,
    "start_time": "2024-03-14T18:52:45.156Z"
   },
   {
    "duration": 17,
    "start_time": "2024-03-14T18:53:16.418Z"
   },
   {
    "duration": 3,
    "start_time": "2024-03-14T18:53:40.398Z"
   },
   {
    "duration": 7,
    "start_time": "2024-03-14T18:53:58.794Z"
   },
   {
    "duration": 6,
    "start_time": "2024-03-14T18:54:05.755Z"
   },
   {
    "duration": 15,
    "start_time": "2024-03-14T18:58:29.877Z"
   },
   {
    "duration": 6,
    "start_time": "2024-03-14T18:58:52.348Z"
   },
   {
    "duration": 7,
    "start_time": "2024-03-14T18:59:02.229Z"
   },
   {
    "duration": 13,
    "start_time": "2024-03-14T19:01:00.292Z"
   },
   {
    "duration": 9,
    "start_time": "2024-03-14T19:01:35.895Z"
   },
   {
    "duration": 3,
    "start_time": "2024-03-14T19:06:52.473Z"
   },
   {
    "duration": 10,
    "start_time": "2024-03-14T19:07:22.513Z"
   },
   {
    "duration": 10,
    "start_time": "2024-03-14T19:07:35.878Z"
   },
   {
    "duration": 19,
    "start_time": "2024-03-14T19:11:04.770Z"
   },
   {
    "duration": 25,
    "start_time": "2024-03-14T19:11:43.761Z"
   },
   {
    "duration": 10,
    "start_time": "2024-03-14T19:12:24.183Z"
   },
   {
    "duration": 360,
    "start_time": "2024-03-14T19:12:31.849Z"
   },
   {
    "duration": 10,
    "start_time": "2024-03-14T19:12:38.431Z"
   },
   {
    "duration": 10,
    "start_time": "2024-03-14T19:12:51.356Z"
   },
   {
    "duration": 26,
    "start_time": "2024-03-14T19:13:25.758Z"
   },
   {
    "duration": 14,
    "start_time": "2024-03-14T19:13:34.756Z"
   },
   {
    "duration": 290,
    "start_time": "2024-03-14T19:14:03.506Z"
   },
   {
    "duration": 320,
    "start_time": "2024-03-14T19:14:08.318Z"
   },
   {
    "duration": 286,
    "start_time": "2024-03-14T19:14:19.569Z"
   },
   {
    "duration": 296,
    "start_time": "2024-03-14T19:20:21.977Z"
   },
   {
    "duration": 14,
    "start_time": "2024-03-14T19:20:49.454Z"
   },
   {
    "duration": 10,
    "start_time": "2024-03-14T19:21:25.110Z"
   },
   {
    "duration": 3,
    "start_time": "2024-03-14T19:21:37.762Z"
   },
   {
    "duration": 9,
    "start_time": "2024-03-14T19:21:43.376Z"
   },
   {
    "duration": 14,
    "start_time": "2024-03-14T19:22:12.119Z"
   },
   {
    "duration": 10,
    "start_time": "2024-03-14T19:22:16.999Z"
   },
   {
    "duration": 10,
    "start_time": "2024-03-14T19:22:32.603Z"
   },
   {
    "duration": 11,
    "start_time": "2024-03-14T19:23:50.016Z"
   },
   {
    "duration": 10,
    "start_time": "2024-03-14T19:23:59.424Z"
   },
   {
    "duration": 12,
    "start_time": "2024-03-14T19:24:23.224Z"
   },
   {
    "duration": 16,
    "start_time": "2024-03-14T19:24:33.175Z"
   },
   {
    "duration": 15,
    "start_time": "2024-03-14T19:24:41.954Z"
   },
   {
    "duration": 1195,
    "start_time": "2024-03-23T18:21:26.099Z"
   },
   {
    "duration": 88,
    "start_time": "2024-03-23T18:23:41.875Z"
   },
   {
    "duration": 3,
    "start_time": "2024-03-23T18:24:09.964Z"
   },
   {
    "duration": 174,
    "start_time": "2024-03-23T18:24:15.835Z"
   },
   {
    "duration": 54,
    "start_time": "2024-03-23T18:25:57.040Z"
   },
   {
    "duration": 71,
    "start_time": "2024-03-23T18:26:34.039Z"
   },
   {
    "duration": 28,
    "start_time": "2024-03-23T18:26:54.742Z"
   },
   {
    "duration": 11,
    "start_time": "2024-03-23T18:27:18.007Z"
   },
   {
    "duration": 13,
    "start_time": "2024-03-23T18:28:09.890Z"
   },
   {
    "duration": 9,
    "start_time": "2024-03-23T18:28:54.316Z"
   },
   {
    "duration": 8,
    "start_time": "2024-03-23T18:29:02.130Z"
   },
   {
    "duration": 7,
    "start_time": "2024-03-23T18:29:10.013Z"
   },
   {
    "duration": 9,
    "start_time": "2024-03-23T18:29:17.727Z"
   },
   {
    "duration": 2,
    "start_time": "2024-03-23T18:32:31.979Z"
   },
   {
    "duration": 3,
    "start_time": "2024-03-23T18:33:58.094Z"
   },
   {
    "duration": 7,
    "start_time": "2024-03-23T18:33:58.614Z"
   },
   {
    "duration": 11,
    "start_time": "2024-03-23T18:34:32.326Z"
   },
   {
    "duration": 14,
    "start_time": "2024-03-23T18:34:50.525Z"
   },
   {
    "duration": 10,
    "start_time": "2024-03-23T18:34:57.370Z"
   },
   {
    "duration": 11,
    "start_time": "2024-03-23T18:35:15.334Z"
   },
   {
    "duration": 3,
    "start_time": "2024-03-23T18:36:03.944Z"
   },
   {
    "duration": 7,
    "start_time": "2024-03-23T18:36:05.594Z"
   },
   {
    "duration": 51,
    "start_time": "2024-03-23T18:36:30.887Z"
   },
   {
    "duration": 6,
    "start_time": "2024-03-23T18:36:39.901Z"
   },
   {
    "duration": 8,
    "start_time": "2024-03-23T18:37:19.148Z"
   },
   {
    "duration": 8,
    "start_time": "2024-03-23T18:37:45.435Z"
   },
   {
    "duration": 6,
    "start_time": "2024-03-23T18:39:07.655Z"
   },
   {
    "duration": 6,
    "start_time": "2024-03-23T19:31:25.494Z"
   },
   {
    "duration": 9,
    "start_time": "2024-03-23T19:34:36.594Z"
   },
   {
    "duration": 5,
    "start_time": "2024-03-23T19:34:40.565Z"
   },
   {
    "duration": 141,
    "start_time": "2024-03-23T19:34:41.041Z"
   },
   {
    "duration": 100,
    "start_time": "2024-03-23T19:39:18.700Z"
   },
   {
    "duration": 142,
    "start_time": "2024-03-23T19:39:34.768Z"
   },
   {
    "duration": 102,
    "start_time": "2024-03-23T19:39:49.512Z"
   },
   {
    "duration": 6,
    "start_time": "2024-03-23T19:41:50.593Z"
   },
   {
    "duration": 15,
    "start_time": "2024-03-23T19:42:43.316Z"
   },
   {
    "duration": 11,
    "start_time": "2024-03-23T19:43:41.008Z"
   },
   {
    "duration": 4,
    "start_time": "2024-03-23T19:49:04.574Z"
   },
   {
    "duration": 6,
    "start_time": "2024-03-23T19:50:05.667Z"
   },
   {
    "duration": 241,
    "start_time": "2024-03-23T19:53:12.177Z"
   },
   {
    "duration": 161,
    "start_time": "2024-03-23T19:53:33.732Z"
   },
   {
    "duration": 164,
    "start_time": "2024-03-23T19:53:47.497Z"
   },
   {
    "duration": 160,
    "start_time": "2024-03-23T19:54:25.575Z"
   },
   {
    "duration": 150,
    "start_time": "2024-03-23T20:15:09.759Z"
   },
   {
    "duration": 193,
    "start_time": "2024-03-23T20:15:56.242Z"
   },
   {
    "duration": 153,
    "start_time": "2024-03-23T20:15:59.658Z"
   },
   {
    "duration": 12,
    "start_time": "2024-03-23T20:30:13.351Z"
   },
   {
    "duration": 386,
    "start_time": "2024-03-23T20:30:58.560Z"
   },
   {
    "duration": 205,
    "start_time": "2024-03-23T20:32:28.997Z"
   },
   {
    "duration": 256,
    "start_time": "2024-03-23T20:33:15.415Z"
   },
   {
    "duration": 285,
    "start_time": "2024-03-23T20:33:37.236Z"
   },
   {
    "duration": 272,
    "start_time": "2024-03-23T20:33:46.938Z"
   },
   {
    "duration": 271,
    "start_time": "2024-03-23T20:33:56.045Z"
   },
   {
    "duration": 164,
    "start_time": "2024-03-23T20:46:45.938Z"
   },
   {
    "duration": 173,
    "start_time": "2024-03-23T20:47:59.445Z"
   },
   {
    "duration": 170,
    "start_time": "2024-03-23T20:48:08.293Z"
   },
   {
    "duration": 150,
    "start_time": "2024-03-23T20:52:52.330Z"
   },
   {
    "duration": 151,
    "start_time": "2024-03-23T20:53:11.813Z"
   },
   {
    "duration": 154,
    "start_time": "2024-03-23T20:53:17.806Z"
   },
   {
    "duration": 230,
    "start_time": "2024-03-23T20:53:22.665Z"
   },
   {
    "duration": 275,
    "start_time": "2024-03-23T21:03:20.834Z"
   },
   {
    "duration": 150,
    "start_time": "2024-03-23T21:03:32.084Z"
   },
   {
    "duration": 179,
    "start_time": "2024-03-23T21:03:55.343Z"
   },
   {
    "duration": 249,
    "start_time": "2024-03-23T21:04:03.370Z"
   },
   {
    "duration": 260,
    "start_time": "2024-03-23T21:04:23.000Z"
   },
   {
    "duration": 7,
    "start_time": "2024-03-23T21:36:10.024Z"
   },
   {
    "duration": 9,
    "start_time": "2024-03-23T21:37:03.323Z"
   },
   {
    "duration": 92,
    "start_time": "2024-03-23T21:37:36.768Z"
   },
   {
    "duration": 95,
    "start_time": "2024-03-23T21:38:22.426Z"
   },
   {
    "duration": 4,
    "start_time": "2024-03-23T21:40:06.168Z"
   },
   {
    "duration": 112,
    "start_time": "2024-03-23T21:43:35.040Z"
   },
   {
    "duration": 4,
    "start_time": "2024-03-23T21:44:38.206Z"
   },
   {
    "duration": 1029,
    "start_time": "2024-03-23T21:44:50.091Z"
   },
   {
    "duration": 4,
    "start_time": "2024-03-23T21:44:59.074Z"
   },
   {
    "duration": 11,
    "start_time": "2024-03-23T22:16:21.643Z"
   },
   {
    "duration": 10,
    "start_time": "2024-03-23T22:16:35.097Z"
   },
   {
    "duration": 10,
    "start_time": "2024-03-23T22:16:43.167Z"
   },
   {
    "duration": 9,
    "start_time": "2024-03-23T22:17:46.935Z"
   },
   {
    "duration": 6,
    "start_time": "2024-03-23T22:17:53.739Z"
   },
   {
    "duration": 5,
    "start_time": "2024-03-23T22:18:15.166Z"
   },
   {
    "duration": 5,
    "start_time": "2024-03-23T22:18:23.673Z"
   },
   {
    "duration": 6,
    "start_time": "2024-03-23T22:18:37.753Z"
   },
   {
    "duration": 4,
    "start_time": "2024-03-23T22:20:26.264Z"
   },
   {
    "duration": 72,
    "start_time": "2024-03-24T18:47:00.809Z"
   },
   {
    "duration": 407,
    "start_time": "2024-03-24T18:47:05.161Z"
   },
   {
    "duration": 72,
    "start_time": "2024-03-24T18:47:05.570Z"
   },
   {
    "duration": 11,
    "start_time": "2024-03-24T18:47:05.644Z"
   },
   {
    "duration": 42,
    "start_time": "2024-03-24T18:47:05.656Z"
   },
   {
    "duration": 20,
    "start_time": "2024-03-24T18:47:05.700Z"
   },
   {
    "duration": 14,
    "start_time": "2024-03-24T18:47:05.722Z"
   },
   {
    "duration": 11,
    "start_time": "2024-03-24T18:47:05.738Z"
   },
   {
    "duration": 965,
    "start_time": "2024-03-24T18:47:05.750Z"
   },
   {
    "duration": 173,
    "start_time": "2024-03-24T18:47:06.716Z"
   },
   {
    "duration": 13,
    "start_time": "2024-03-24T18:47:06.891Z"
   },
   {
    "duration": 5,
    "start_time": "2024-03-24T18:47:06.906Z"
   },
   {
    "duration": 19,
    "start_time": "2024-03-24T18:47:06.913Z"
   },
   {
    "duration": 9,
    "start_time": "2024-03-24T18:47:06.934Z"
   },
   {
    "duration": 9,
    "start_time": "2024-03-24T18:47:06.946Z"
   },
   {
    "duration": 8,
    "start_time": "2024-03-24T18:47:06.957Z"
   },
   {
    "duration": 9,
    "start_time": "2024-03-24T18:47:06.966Z"
   },
   {
    "duration": 6,
    "start_time": "2024-03-24T18:47:06.976Z"
   },
   {
    "duration": 203,
    "start_time": "2024-03-24T18:47:06.984Z"
   },
   {
    "duration": 132,
    "start_time": "2024-03-24T18:47:07.188Z"
   },
   {
    "duration": 30,
    "start_time": "2024-03-24T18:47:07.322Z"
   },
   {
    "duration": 304,
    "start_time": "2024-03-24T18:47:07.354Z"
   },
   {
    "duration": 202,
    "start_time": "2024-03-24T18:47:07.660Z"
   },
   {
    "duration": 417,
    "start_time": "2024-03-24T18:47:07.864Z"
   },
   {
    "duration": 210,
    "start_time": "2024-03-24T18:47:08.282Z"
   },
   {
    "duration": 341,
    "start_time": "2024-03-24T18:47:08.494Z"
   },
   {
    "duration": 15,
    "start_time": "2024-03-24T18:47:08.837Z"
   },
   {
    "duration": 140,
    "start_time": "2024-03-24T18:47:08.854Z"
   },
   {
    "duration": 187,
    "start_time": "2024-03-24T18:47:08.996Z"
   },
   {
    "duration": 4,
    "start_time": "2024-03-24T18:47:09.184Z"
   },
   {
    "duration": 171,
    "start_time": "2024-03-24T18:47:09.190Z"
   },
   {
    "duration": 4,
    "start_time": "2024-03-24T18:47:09.362Z"
   },
   {
    "duration": 143,
    "start_time": "2024-03-24T18:50:02.800Z"
   },
   {
    "duration": 152,
    "start_time": "2024-03-24T18:51:08.138Z"
   },
   {
    "duration": 142,
    "start_time": "2024-03-24T18:57:25.566Z"
   },
   {
    "duration": 169,
    "start_time": "2024-03-24T18:57:40.206Z"
   },
   {
    "duration": 159,
    "start_time": "2024-03-24T19:03:00.129Z"
   },
   {
    "duration": 53,
    "start_time": "2024-03-24T20:53:05.864Z"
   },
   {
    "duration": 396,
    "start_time": "2024-03-24T20:53:13.188Z"
   },
   {
    "duration": 83,
    "start_time": "2024-03-24T20:53:13.586Z"
   },
   {
    "duration": 11,
    "start_time": "2024-03-24T20:53:13.670Z"
   },
   {
    "duration": 4,
    "start_time": "2024-03-24T20:53:13.683Z"
   },
   {
    "duration": 15,
    "start_time": "2024-03-24T20:53:13.689Z"
   },
   {
    "duration": 21,
    "start_time": "2024-03-24T20:53:13.705Z"
   },
   {
    "duration": 34,
    "start_time": "2024-03-24T20:53:13.728Z"
   },
   {
    "duration": 976,
    "start_time": "2024-03-24T20:53:13.764Z"
   },
   {
    "duration": 187,
    "start_time": "2024-03-24T20:53:14.742Z"
   },
   {
    "duration": 13,
    "start_time": "2024-03-24T20:53:14.934Z"
   },
   {
    "duration": 4,
    "start_time": "2024-03-24T20:53:14.949Z"
   },
   {
    "duration": 9,
    "start_time": "2024-03-24T20:53:14.955Z"
   },
   {
    "duration": 8,
    "start_time": "2024-03-24T20:53:14.965Z"
   },
   {
    "duration": 23,
    "start_time": "2024-03-24T20:53:14.975Z"
   },
   {
    "duration": 49,
    "start_time": "2024-03-24T20:53:15.000Z"
   },
   {
    "duration": 36,
    "start_time": "2024-03-24T20:53:15.051Z"
   },
   {
    "duration": 23,
    "start_time": "2024-03-24T20:53:15.089Z"
   },
   {
    "duration": 186,
    "start_time": "2024-03-24T20:53:15.114Z"
   },
   {
    "duration": 139,
    "start_time": "2024-03-24T20:53:15.302Z"
   },
   {
    "duration": 18,
    "start_time": "2024-03-24T20:53:15.448Z"
   },
   {
    "duration": 336,
    "start_time": "2024-03-24T20:53:15.468Z"
   },
   {
    "duration": 203,
    "start_time": "2024-03-24T20:53:15.805Z"
   },
   {
    "duration": 347,
    "start_time": "2024-03-24T20:53:16.010Z"
   },
   {
    "duration": 206,
    "start_time": "2024-03-24T20:53:16.359Z"
   },
   {
    "duration": 298,
    "start_time": "2024-03-24T20:53:16.566Z"
   },
   {
    "duration": 10,
    "start_time": "2024-03-24T20:53:16.866Z"
   },
   {
    "duration": 173,
    "start_time": "2024-03-24T20:53:16.877Z"
   },
   {
    "duration": 197,
    "start_time": "2024-03-24T20:53:17.051Z"
   },
   {
    "duration": 4,
    "start_time": "2024-03-24T20:53:17.250Z"
   },
   {
    "duration": 154,
    "start_time": "2024-03-24T20:53:17.255Z"
   },
   {
    "duration": 17,
    "start_time": "2024-03-24T20:53:17.410Z"
   },
   {
    "duration": 262,
    "start_time": "2024-03-24T20:53:17.429Z"
   },
   {
    "duration": 198,
    "start_time": "2024-03-24T20:58:28.434Z"
   },
   {
    "duration": 11,
    "start_time": "2024-03-24T21:00:09.034Z"
   },
   {
    "duration": 66,
    "start_time": "2024-03-24T21:09:36.148Z"
   },
   {
    "duration": 3,
    "start_time": "2024-03-24T21:09:43.348Z"
   },
   {
    "duration": 75,
    "start_time": "2024-03-24T21:10:17.708Z"
   },
   {
    "duration": 25,
    "start_time": "2024-03-24T21:10:30.752Z"
   },
   {
    "duration": 15,
    "start_time": "2024-03-24T21:22:57.932Z"
   },
   {
    "duration": 8,
    "start_time": "2024-03-24T21:37:25.560Z"
   },
   {
    "duration": 13,
    "start_time": "2024-03-24T21:40:28.055Z"
   },
   {
    "duration": 10,
    "start_time": "2024-03-24T21:40:43.931Z"
   },
   {
    "duration": 12,
    "start_time": "2024-03-24T21:41:58.462Z"
   },
   {
    "duration": 16,
    "start_time": "2024-03-24T21:42:53.513Z"
   },
   {
    "duration": 15,
    "start_time": "2024-03-24T21:43:06.417Z"
   },
   {
    "duration": 8,
    "start_time": "2024-03-24T21:44:59.384Z"
   },
   {
    "duration": 24,
    "start_time": "2024-03-24T21:46:51.892Z"
   },
   {
    "duration": 37,
    "start_time": "2024-03-24T21:47:03.812Z"
   },
   {
    "duration": 24,
    "start_time": "2024-03-24T21:47:10.728Z"
   },
   {
    "duration": 1432,
    "start_time": "2024-03-25T08:24:21.707Z"
   },
   {
    "duration": 107,
    "start_time": "2024-03-25T08:48:10.134Z"
   },
   {
    "duration": 4,
    "start_time": "2024-03-25T08:48:13.379Z"
   },
   {
    "duration": 99,
    "start_time": "2024-03-25T08:48:13.384Z"
   },
   {
    "duration": 15,
    "start_time": "2024-03-25T08:48:13.485Z"
   },
   {
    "duration": 4,
    "start_time": "2024-03-25T08:48:13.501Z"
   },
   {
    "duration": 21,
    "start_time": "2024-03-25T08:48:13.507Z"
   },
   {
    "duration": 12,
    "start_time": "2024-03-25T08:48:13.530Z"
   },
   {
    "duration": 12,
    "start_time": "2024-03-25T08:48:13.544Z"
   },
   {
    "duration": 144,
    "start_time": "2024-03-25T08:48:13.558Z"
   },
   {
    "duration": 11,
    "start_time": "2024-03-25T08:48:13.703Z"
   },
   {
    "duration": 33,
    "start_time": "2024-03-25T08:48:13.715Z"
   },
   {
    "duration": 12,
    "start_time": "2024-03-25T08:48:13.749Z"
   },
   {
    "duration": 15,
    "start_time": "2024-03-25T08:48:13.763Z"
   },
   {
    "duration": 49,
    "start_time": "2024-03-25T08:48:13.779Z"
   },
   {
    "duration": 21,
    "start_time": "2024-03-25T08:48:13.831Z"
   },
   {
    "duration": 52,
    "start_time": "2024-03-25T08:48:13.854Z"
   },
   {
    "duration": 31,
    "start_time": "2024-03-25T08:48:13.908Z"
   },
   {
    "duration": 211,
    "start_time": "2024-03-25T08:48:13.941Z"
   },
   {
    "duration": 136,
    "start_time": "2024-03-25T08:48:14.153Z"
   },
   {
    "duration": 53,
    "start_time": "2024-03-25T08:48:14.290Z"
   },
   {
    "duration": 337,
    "start_time": "2024-03-25T08:48:14.345Z"
   },
   {
    "duration": 217,
    "start_time": "2024-03-25T08:48:14.683Z"
   },
   {
    "duration": 327,
    "start_time": "2024-03-25T08:48:14.901Z"
   },
   {
    "duration": 202,
    "start_time": "2024-03-25T08:48:15.230Z"
   },
   {
    "duration": 325,
    "start_time": "2024-03-25T08:48:15.434Z"
   },
   {
    "duration": 21,
    "start_time": "2024-03-25T08:48:15.761Z"
   },
   {
    "duration": 198,
    "start_time": "2024-03-25T08:48:15.783Z"
   },
   {
    "duration": 150,
    "start_time": "2024-03-25T08:48:15.983Z"
   },
   {
    "duration": 4,
    "start_time": "2024-03-25T08:48:16.135Z"
   },
   {
    "duration": 268,
    "start_time": "2024-03-25T08:48:16.141Z"
   },
   {
    "duration": 4,
    "start_time": "2024-03-25T08:48:16.411Z"
   },
   {
    "duration": 242,
    "start_time": "2024-03-25T08:48:16.417Z"
   },
   {
    "duration": 174,
    "start_time": "2024-03-25T08:48:16.661Z"
   },
   {
    "duration": 7,
    "start_time": "2024-03-25T08:48:16.836Z"
   },
   {
    "duration": 31,
    "start_time": "2024-03-25T08:48:16.845Z"
   },
   {
    "duration": 38,
    "start_time": "2024-03-25T08:48:16.877Z"
   },
   {
    "duration": 8,
    "start_time": "2024-03-25T08:48:16.917Z"
   },
   {
    "duration": 14,
    "start_time": "2024-03-25T08:48:16.927Z"
   },
   {
    "duration": 16,
    "start_time": "2024-03-25T08:48:16.943Z"
   },
   {
    "duration": 30,
    "start_time": "2024-03-25T08:48:16.960Z"
   },
   {
    "duration": 12,
    "start_time": "2024-03-25T08:48:16.992Z"
   },
   {
    "duration": 9,
    "start_time": "2024-03-25T08:48:33.057Z"
   },
   {
    "duration": 9,
    "start_time": "2024-03-25T08:49:41.974Z"
   },
   {
    "duration": 6,
    "start_time": "2024-03-25T09:07:19.509Z"
   },
   {
    "duration": 4,
    "start_time": "2024-03-25T09:07:26.671Z"
   },
   {
    "duration": 1325,
    "start_time": "2024-03-25T09:42:33.980Z"
   },
   {
    "duration": 84,
    "start_time": "2024-03-25T09:42:35.307Z"
   },
   {
    "duration": 12,
    "start_time": "2024-03-25T09:42:35.392Z"
   },
   {
    "duration": 20,
    "start_time": "2024-03-25T09:42:35.406Z"
   },
   {
    "duration": 22,
    "start_time": "2024-03-25T09:42:35.428Z"
   },
   {
    "duration": 12,
    "start_time": "2024-03-25T09:42:35.452Z"
   },
   {
    "duration": 11,
    "start_time": "2024-03-25T09:42:35.466Z"
   },
   {
    "duration": 147,
    "start_time": "2024-03-25T09:42:35.479Z"
   },
   {
    "duration": 11,
    "start_time": "2024-03-25T09:42:35.627Z"
   },
   {
    "duration": 5,
    "start_time": "2024-03-25T09:42:35.640Z"
   },
   {
    "duration": 9,
    "start_time": "2024-03-25T09:42:35.646Z"
   },
   {
    "duration": 8,
    "start_time": "2024-03-25T09:42:35.656Z"
   },
   {
    "duration": 10,
    "start_time": "2024-03-25T09:42:35.665Z"
   },
   {
    "duration": 20,
    "start_time": "2024-03-25T09:42:35.677Z"
   },
   {
    "duration": 10,
    "start_time": "2024-03-25T09:42:35.698Z"
   },
   {
    "duration": 21,
    "start_time": "2024-03-25T09:42:35.710Z"
   },
   {
    "duration": 167,
    "start_time": "2024-03-25T09:42:35.732Z"
   },
   {
    "duration": 139,
    "start_time": "2024-03-25T09:42:35.901Z"
   },
   {
    "duration": 12,
    "start_time": "2024-03-25T09:42:36.042Z"
   },
   {
    "duration": 320,
    "start_time": "2024-03-25T09:42:36.056Z"
   },
   {
    "duration": 206,
    "start_time": "2024-03-25T09:42:36.377Z"
   },
   {
    "duration": 330,
    "start_time": "2024-03-25T09:42:36.585Z"
   },
   {
    "duration": 207,
    "start_time": "2024-03-25T09:42:36.917Z"
   },
   {
    "duration": 285,
    "start_time": "2024-03-25T09:42:37.126Z"
   },
   {
    "duration": 12,
    "start_time": "2024-03-25T09:42:37.413Z"
   },
   {
    "duration": 146,
    "start_time": "2024-03-25T09:42:37.426Z"
   },
   {
    "duration": 159,
    "start_time": "2024-03-25T09:42:37.573Z"
   },
   {
    "duration": 4,
    "start_time": "2024-03-25T09:42:37.733Z"
   },
   {
    "duration": 222,
    "start_time": "2024-03-25T09:42:37.738Z"
   },
   {
    "duration": 4,
    "start_time": "2024-03-25T09:42:37.962Z"
   },
   {
    "duration": 227,
    "start_time": "2024-03-25T09:42:37.968Z"
   },
   {
    "duration": 134,
    "start_time": "2024-03-25T09:42:38.196Z"
   },
   {
    "duration": 5,
    "start_time": "2024-03-25T09:42:38.332Z"
   },
   {
    "duration": 15,
    "start_time": "2024-03-25T09:42:38.339Z"
   },
   {
    "duration": 30,
    "start_time": "2024-03-25T09:42:38.355Z"
   },
   {
    "duration": 8,
    "start_time": "2024-03-25T09:42:38.386Z"
   },
   {
    "duration": 11,
    "start_time": "2024-03-25T09:42:38.395Z"
   },
   {
    "duration": 36,
    "start_time": "2024-03-25T09:42:38.408Z"
   },
   {
    "duration": 32,
    "start_time": "2024-03-25T09:42:38.446Z"
   },
   {
    "duration": 10,
    "start_time": "2024-03-25T09:42:38.480Z"
   },
   {
    "duration": 49,
    "start_time": "2024-03-25T14:41:04.204Z"
   },
   {
    "duration": 49,
    "start_time": "2024-03-25T19:21:33.455Z"
   },
   {
    "duration": 1332,
    "start_time": "2024-03-25T19:21:37.367Z"
   },
   {
    "duration": 82,
    "start_time": "2024-03-25T19:21:38.701Z"
   },
   {
    "duration": 11,
    "start_time": "2024-03-25T19:21:38.785Z"
   },
   {
    "duration": 9,
    "start_time": "2024-03-25T19:21:38.798Z"
   },
   {
    "duration": 12,
    "start_time": "2024-03-25T19:21:38.809Z"
   },
   {
    "duration": 12,
    "start_time": "2024-03-25T19:21:38.823Z"
   },
   {
    "duration": 11,
    "start_time": "2024-03-25T19:21:38.836Z"
   },
   {
    "duration": 143,
    "start_time": "2024-03-25T19:21:38.849Z"
   },
   {
    "duration": 10,
    "start_time": "2024-03-25T19:21:38.993Z"
   },
   {
    "duration": 5,
    "start_time": "2024-03-25T19:21:39.005Z"
   },
   {
    "duration": 9,
    "start_time": "2024-03-25T19:21:39.011Z"
   },
   {
    "duration": 13,
    "start_time": "2024-03-25T19:21:39.021Z"
   },
   {
    "duration": 9,
    "start_time": "2024-03-25T19:21:39.035Z"
   },
   {
    "duration": 9,
    "start_time": "2024-03-25T19:21:39.047Z"
   },
   {
    "duration": 16,
    "start_time": "2024-03-25T19:21:39.057Z"
   },
   {
    "duration": 64,
    "start_time": "2024-03-25T19:21:39.082Z"
   },
   {
    "duration": 0,
    "start_time": "2024-03-25T19:21:39.147Z"
   },
   {
    "duration": 0,
    "start_time": "2024-03-25T19:21:39.148Z"
   },
   {
    "duration": 0,
    "start_time": "2024-03-25T19:21:39.149Z"
   },
   {
    "duration": 0,
    "start_time": "2024-03-25T19:21:39.150Z"
   },
   {
    "duration": 0,
    "start_time": "2024-03-25T19:21:39.151Z"
   },
   {
    "duration": 0,
    "start_time": "2024-03-25T19:21:39.153Z"
   },
   {
    "duration": 0,
    "start_time": "2024-03-25T19:21:39.154Z"
   },
   {
    "duration": 0,
    "start_time": "2024-03-25T19:21:39.154Z"
   },
   {
    "duration": 0,
    "start_time": "2024-03-25T19:21:39.181Z"
   },
   {
    "duration": 0,
    "start_time": "2024-03-25T19:21:39.182Z"
   },
   {
    "duration": 0,
    "start_time": "2024-03-25T19:21:39.183Z"
   },
   {
    "duration": 0,
    "start_time": "2024-03-25T19:21:39.185Z"
   },
   {
    "duration": 0,
    "start_time": "2024-03-25T19:21:39.185Z"
   },
   {
    "duration": 0,
    "start_time": "2024-03-25T19:21:39.187Z"
   },
   {
    "duration": 0,
    "start_time": "2024-03-25T19:21:39.188Z"
   },
   {
    "duration": 0,
    "start_time": "2024-03-25T19:21:39.189Z"
   },
   {
    "duration": 0,
    "start_time": "2024-03-25T19:21:39.190Z"
   },
   {
    "duration": 0,
    "start_time": "2024-03-25T19:21:39.191Z"
   },
   {
    "duration": 0,
    "start_time": "2024-03-25T19:21:39.192Z"
   },
   {
    "duration": 0,
    "start_time": "2024-03-25T19:21:39.193Z"
   },
   {
    "duration": 0,
    "start_time": "2024-03-25T19:21:39.195Z"
   },
   {
    "duration": 0,
    "start_time": "2024-03-25T19:21:39.196Z"
   },
   {
    "duration": 0,
    "start_time": "2024-03-25T19:21:39.197Z"
   },
   {
    "duration": 0,
    "start_time": "2024-03-25T19:21:39.198Z"
   },
   {
    "duration": 0,
    "start_time": "2024-03-25T19:21:39.199Z"
   },
   {
    "duration": 16,
    "start_time": "2024-03-25T19:31:51.428Z"
   },
   {
    "duration": 8,
    "start_time": "2024-03-25T19:32:12.492Z"
   },
   {
    "duration": 9,
    "start_time": "2024-03-25T19:32:26.588Z"
   },
   {
    "duration": 16,
    "start_time": "2024-03-25T19:33:12.942Z"
   },
   {
    "duration": 15,
    "start_time": "2024-03-25T19:33:36.007Z"
   },
   {
    "duration": 16,
    "start_time": "2024-03-25T19:35:22.746Z"
   },
   {
    "duration": 12,
    "start_time": "2024-03-25T19:35:29.416Z"
   },
   {
    "duration": 7,
    "start_time": "2024-03-25T19:35:55.117Z"
   },
   {
    "duration": 1483,
    "start_time": "2024-03-25T19:48:22.715Z"
   },
   {
    "duration": 5,
    "start_time": "2024-03-25T19:48:41.342Z"
   },
   {
    "duration": 4,
    "start_time": "2024-03-25T19:48:50.053Z"
   },
   {
    "duration": 7,
    "start_time": "2024-03-25T19:48:57.148Z"
   },
   {
    "duration": 6,
    "start_time": "2024-03-25T19:51:38.366Z"
   },
   {
    "duration": 10,
    "start_time": "2024-03-25T19:51:50.919Z"
   },
   {
    "duration": 7,
    "start_time": "2024-03-25T19:52:22.796Z"
   },
   {
    "duration": 9,
    "start_time": "2024-03-25T19:52:52.426Z"
   },
   {
    "duration": 10,
    "start_time": "2024-03-25T19:53:13.779Z"
   },
   {
    "duration": 10,
    "start_time": "2024-03-25T19:55:01.161Z"
   },
   {
    "duration": 5,
    "start_time": "2024-03-25T19:58:38.038Z"
   },
   {
    "duration": 10,
    "start_time": "2024-03-25T19:58:45.455Z"
   },
   {
    "duration": 9,
    "start_time": "2024-03-25T19:58:49.331Z"
   },
   {
    "duration": 6,
    "start_time": "2024-03-25T19:58:49.948Z"
   },
   {
    "duration": 6,
    "start_time": "2024-03-25T20:11:55.842Z"
   },
   {
    "duration": 6,
    "start_time": "2024-03-25T20:12:33.836Z"
   },
   {
    "duration": 9,
    "start_time": "2024-03-25T20:16:45.164Z"
   },
   {
    "duration": 6,
    "start_time": "2024-03-25T20:16:45.657Z"
   },
   {
    "duration": 86,
    "start_time": "2024-03-25T20:16:47.051Z"
   },
   {
    "duration": 27,
    "start_time": "2024-03-25T20:16:56.157Z"
   },
   {
    "duration": 8,
    "start_time": "2024-03-25T20:17:21.358Z"
   },
   {
    "duration": 6,
    "start_time": "2024-03-25T20:17:21.793Z"
   },
   {
    "duration": 5,
    "start_time": "2024-03-25T20:17:26.303Z"
   },
   {
    "duration": 5,
    "start_time": "2024-03-25T20:17:36.710Z"
   },
   {
    "duration": 3,
    "start_time": "2024-03-25T20:19:43.692Z"
   },
   {
    "duration": 29,
    "start_time": "2024-03-25T20:19:43.697Z"
   },
   {
    "duration": 10,
    "start_time": "2024-03-25T20:19:43.727Z"
   },
   {
    "duration": 12,
    "start_time": "2024-03-25T20:19:43.739Z"
   },
   {
    "duration": 11,
    "start_time": "2024-03-25T20:19:43.753Z"
   },
   {
    "duration": 20,
    "start_time": "2024-03-25T20:19:43.765Z"
   },
   {
    "duration": 18,
    "start_time": "2024-03-25T20:19:43.786Z"
   },
   {
    "duration": 52,
    "start_time": "2024-03-25T20:19:43.806Z"
   },
   {
    "duration": 10,
    "start_time": "2024-03-25T20:19:43.859Z"
   },
   {
    "duration": 9,
    "start_time": "2024-03-25T20:19:43.871Z"
   },
   {
    "duration": 16,
    "start_time": "2024-03-25T20:19:43.881Z"
   },
   {
    "duration": 8,
    "start_time": "2024-03-25T20:19:43.899Z"
   },
   {
    "duration": 9,
    "start_time": "2024-03-25T20:19:43.908Z"
   },
   {
    "duration": 6,
    "start_time": "2024-03-25T20:19:43.920Z"
   },
   {
    "duration": 20,
    "start_time": "2024-03-25T20:19:43.927Z"
   },
   {
    "duration": 23,
    "start_time": "2024-03-25T20:19:43.948Z"
   },
   {
    "duration": 8,
    "start_time": "2024-03-25T20:19:43.972Z"
   },
   {
    "duration": 8,
    "start_time": "2024-03-25T20:19:43.982Z"
   },
   {
    "duration": 163,
    "start_time": "2024-03-25T20:19:43.992Z"
   },
   {
    "duration": 134,
    "start_time": "2024-03-25T20:19:44.157Z"
   },
   {
    "duration": 11,
    "start_time": "2024-03-25T20:19:44.293Z"
   },
   {
    "duration": 368,
    "start_time": "2024-03-25T20:19:44.306Z"
   },
   {
    "duration": 194,
    "start_time": "2024-03-25T20:19:44.675Z"
   },
   {
    "duration": 349,
    "start_time": "2024-03-25T20:19:44.870Z"
   },
   {
    "duration": 199,
    "start_time": "2024-03-25T20:19:45.220Z"
   },
   {
    "duration": 275,
    "start_time": "2024-03-25T20:19:45.420Z"
   },
   {
    "duration": 11,
    "start_time": "2024-03-25T20:19:45.697Z"
   },
   {
    "duration": 138,
    "start_time": "2024-03-25T20:19:45.709Z"
   },
   {
    "duration": 140,
    "start_time": "2024-03-25T20:19:45.849Z"
   },
   {
    "duration": 5,
    "start_time": "2024-03-25T20:19:45.990Z"
   },
   {
    "duration": 188,
    "start_time": "2024-03-25T20:19:45.996Z"
   },
   {
    "duration": 4,
    "start_time": "2024-03-25T20:19:46.185Z"
   },
   {
    "duration": 244,
    "start_time": "2024-03-25T20:19:46.190Z"
   },
   {
    "duration": 159,
    "start_time": "2024-03-25T20:19:46.436Z"
   },
   {
    "duration": 6,
    "start_time": "2024-03-25T20:19:46.596Z"
   },
   {
    "duration": 23,
    "start_time": "2024-03-25T20:19:46.603Z"
   },
   {
    "duration": 31,
    "start_time": "2024-03-25T20:19:46.628Z"
   },
   {
    "duration": 8,
    "start_time": "2024-03-25T20:19:46.660Z"
   },
   {
    "duration": 18,
    "start_time": "2024-03-25T20:19:46.669Z"
   },
   {
    "duration": 17,
    "start_time": "2024-03-25T20:19:46.688Z"
   },
   {
    "duration": 38,
    "start_time": "2024-03-25T20:19:46.709Z"
   },
   {
    "duration": 13,
    "start_time": "2024-03-25T20:19:46.749Z"
   },
   {
    "duration": 189,
    "start_time": "2024-03-25T20:23:44.477Z"
   },
   {
    "duration": 282,
    "start_time": "2024-03-25T20:24:09.422Z"
   },
   {
    "duration": 190,
    "start_time": "2024-03-25T20:24:19.275Z"
   },
   {
    "duration": 5,
    "start_time": "2024-03-25T20:25:04.959Z"
   },
   {
    "duration": 6,
    "start_time": "2024-03-25T20:25:58.463Z"
   },
   {
    "duration": 5,
    "start_time": "2024-03-25T20:26:12.813Z"
   },
   {
    "duration": 164,
    "start_time": "2024-03-25T20:26:13.330Z"
   },
   {
    "duration": 121,
    "start_time": "2024-03-25T20:26:15.937Z"
   },
   {
    "duration": 13,
    "start_time": "2024-03-25T20:26:18.532Z"
   },
   {
    "duration": 183,
    "start_time": "2024-03-25T20:26:19.761Z"
   },
   {
    "duration": 183,
    "start_time": "2024-03-25T20:26:36.866Z"
   },
   {
    "duration": 253,
    "start_time": "2024-03-25T20:26:47.216Z"
   },
   {
    "duration": 12,
    "start_time": "2024-03-25T20:27:56.373Z"
   },
   {
    "duration": 148,
    "start_time": "2024-03-25T20:27:59.555Z"
   },
   {
    "duration": 120,
    "start_time": "2024-03-25T20:28:03.119Z"
   },
   {
    "duration": 3,
    "start_time": "2024-03-25T20:28:13.327Z"
   },
   {
    "duration": 4,
    "start_time": "2024-03-25T20:28:31.074Z"
   },
   {
    "duration": 154,
    "start_time": "2024-03-25T20:28:31.080Z"
   },
   {
    "duration": 46,
    "start_time": "2024-03-25T20:28:31.236Z"
   },
   {
    "duration": 62,
    "start_time": "2024-03-25T20:28:31.284Z"
   },
   {
    "duration": 42,
    "start_time": "2024-03-25T20:28:31.348Z"
   },
   {
    "duration": 42,
    "start_time": "2024-03-25T20:28:31.392Z"
   },
   {
    "duration": 84,
    "start_time": "2024-03-25T20:28:31.436Z"
   },
   {
    "duration": 110,
    "start_time": "2024-03-25T20:28:31.522Z"
   },
   {
    "duration": 97,
    "start_time": "2024-03-25T20:28:31.633Z"
   },
   {
    "duration": 38,
    "start_time": "2024-03-25T20:28:31.732Z"
   },
   {
    "duration": 57,
    "start_time": "2024-03-25T20:28:31.771Z"
   },
   {
    "duration": 32,
    "start_time": "2024-03-25T20:28:31.830Z"
   },
   {
    "duration": 162,
    "start_time": "2024-03-25T20:28:31.864Z"
   },
   {
    "duration": 61,
    "start_time": "2024-03-25T20:28:32.030Z"
   },
   {
    "duration": 61,
    "start_time": "2024-03-25T20:28:32.093Z"
   },
   {
    "duration": 92,
    "start_time": "2024-03-25T20:28:32.155Z"
   },
   {
    "duration": 67,
    "start_time": "2024-03-25T20:28:32.249Z"
   },
   {
    "duration": 49,
    "start_time": "2024-03-25T20:28:32.317Z"
   },
   {
    "duration": 41,
    "start_time": "2024-03-25T20:28:32.368Z"
   },
   {
    "duration": 202,
    "start_time": "2024-03-25T20:28:32.411Z"
   },
   {
    "duration": 128,
    "start_time": "2024-03-25T20:28:32.614Z"
   },
   {
    "duration": 15,
    "start_time": "2024-03-25T20:28:32.743Z"
   },
   {
    "duration": 226,
    "start_time": "2024-03-25T20:28:32.760Z"
   },
   {
    "duration": 188,
    "start_time": "2024-03-25T20:28:32.987Z"
   },
   {
    "duration": 308,
    "start_time": "2024-03-25T20:28:33.181Z"
   },
   {
    "duration": 205,
    "start_time": "2024-03-25T20:28:33.491Z"
   },
   {
    "duration": 275,
    "start_time": "2024-03-25T20:28:33.697Z"
   },
   {
    "duration": 15,
    "start_time": "2024-03-25T20:28:33.973Z"
   },
   {
    "duration": 149,
    "start_time": "2024-03-25T20:28:33.990Z"
   },
   {
    "duration": 135,
    "start_time": "2024-03-25T20:28:34.140Z"
   },
   {
    "duration": 7,
    "start_time": "2024-03-25T20:28:34.276Z"
   },
   {
    "duration": 143,
    "start_time": "2024-03-25T20:28:34.284Z"
   },
   {
    "duration": 4,
    "start_time": "2024-03-25T20:28:34.428Z"
   },
   {
    "duration": 241,
    "start_time": "2024-03-25T20:28:34.434Z"
   },
   {
    "duration": 140,
    "start_time": "2024-03-25T20:28:34.676Z"
   },
   {
    "duration": 7,
    "start_time": "2024-03-25T20:28:34.817Z"
   },
   {
    "duration": 5,
    "start_time": "2024-03-25T20:28:34.825Z"
   },
   {
    "duration": 33,
    "start_time": "2024-03-25T20:28:34.832Z"
   },
   {
    "duration": 19,
    "start_time": "2024-03-25T20:28:34.867Z"
   },
   {
    "duration": 11,
    "start_time": "2024-03-25T20:28:34.888Z"
   },
   {
    "duration": 72,
    "start_time": "2024-03-25T20:28:34.902Z"
   },
   {
    "duration": 26,
    "start_time": "2024-03-25T20:28:34.976Z"
   },
   {
    "duration": 9,
    "start_time": "2024-03-25T20:28:35.004Z"
   },
   {
    "duration": 1103,
    "start_time": "2024-03-25T20:29:47.004Z"
   },
   {
    "duration": 27,
    "start_time": "2024-03-25T20:29:48.109Z"
   },
   {
    "duration": 11,
    "start_time": "2024-03-25T20:29:48.138Z"
   },
   {
    "duration": 7,
    "start_time": "2024-03-25T20:29:48.151Z"
   },
   {
    "duration": 14,
    "start_time": "2024-03-25T20:29:48.160Z"
   },
   {
    "duration": 17,
    "start_time": "2024-03-25T20:29:48.175Z"
   },
   {
    "duration": 11,
    "start_time": "2024-03-25T20:29:48.193Z"
   },
   {
    "duration": 56,
    "start_time": "2024-03-25T20:29:48.205Z"
   },
   {
    "duration": 10,
    "start_time": "2024-03-25T20:29:48.263Z"
   },
   {
    "duration": 14,
    "start_time": "2024-03-25T20:29:48.274Z"
   },
   {
    "duration": 16,
    "start_time": "2024-03-25T20:29:48.289Z"
   },
   {
    "duration": 14,
    "start_time": "2024-03-25T20:29:48.306Z"
   },
   {
    "duration": 10,
    "start_time": "2024-03-25T20:29:48.321Z"
   },
   {
    "duration": 18,
    "start_time": "2024-03-25T20:29:48.334Z"
   },
   {
    "duration": 19,
    "start_time": "2024-03-25T20:29:48.354Z"
   },
   {
    "duration": 9,
    "start_time": "2024-03-25T20:29:48.374Z"
   },
   {
    "duration": 10,
    "start_time": "2024-03-25T20:29:48.385Z"
   },
   {
    "duration": 6,
    "start_time": "2024-03-25T20:29:48.397Z"
   },
   {
    "duration": 15,
    "start_time": "2024-03-25T20:29:48.404Z"
   },
   {
    "duration": 162,
    "start_time": "2024-03-25T20:29:48.420Z"
   },
   {
    "duration": 130,
    "start_time": "2024-03-25T20:29:48.584Z"
   },
   {
    "duration": 12,
    "start_time": "2024-03-25T20:29:48.715Z"
   },
   {
    "duration": 272,
    "start_time": "2024-03-25T20:29:48.728Z"
   },
   {
    "duration": 182,
    "start_time": "2024-03-25T20:29:49.002Z"
   },
   {
    "duration": 289,
    "start_time": "2024-03-25T20:29:49.186Z"
   },
   {
    "duration": 195,
    "start_time": "2024-03-25T20:29:49.480Z"
   },
   {
    "duration": 290,
    "start_time": "2024-03-25T20:29:49.676Z"
   },
   {
    "duration": 19,
    "start_time": "2024-03-25T20:29:49.967Z"
   },
   {
    "duration": 134,
    "start_time": "2024-03-25T20:29:49.987Z"
   },
   {
    "duration": 136,
    "start_time": "2024-03-25T20:29:50.122Z"
   },
   {
    "duration": 4,
    "start_time": "2024-03-25T20:29:50.260Z"
   },
   {
    "duration": 247,
    "start_time": "2024-03-25T20:29:50.266Z"
   },
   {
    "duration": 4,
    "start_time": "2024-03-25T20:29:50.515Z"
   },
   {
    "duration": 247,
    "start_time": "2024-03-25T20:29:50.521Z"
   },
   {
    "duration": 137,
    "start_time": "2024-03-25T20:29:50.770Z"
   },
   {
    "duration": 7,
    "start_time": "2024-03-25T20:29:50.909Z"
   },
   {
    "duration": 49,
    "start_time": "2024-03-25T20:29:50.917Z"
   },
   {
    "duration": 75,
    "start_time": "2024-03-25T20:29:50.967Z"
   },
   {
    "duration": 28,
    "start_time": "2024-03-25T20:29:51.044Z"
   },
   {
    "duration": 66,
    "start_time": "2024-03-25T20:29:51.074Z"
   },
   {
    "duration": 81,
    "start_time": "2024-03-25T20:29:51.143Z"
   },
   {
    "duration": 83,
    "start_time": "2024-03-25T20:29:51.226Z"
   },
   {
    "duration": 37,
    "start_time": "2024-03-25T20:29:51.311Z"
   },
   {
    "duration": 9,
    "start_time": "2024-03-25T20:32:46.439Z"
   },
   {
    "duration": 8,
    "start_time": "2024-03-25T20:34:02.288Z"
   },
   {
    "duration": 9,
    "start_time": "2024-03-25T20:34:57.097Z"
   },
   {
    "duration": 84,
    "start_time": "2024-03-25T20:34:58.445Z"
   },
   {
    "duration": 78,
    "start_time": "2024-03-25T20:35:07.209Z"
   },
   {
    "duration": 9,
    "start_time": "2024-03-25T20:35:23.870Z"
   },
   {
    "duration": 6,
    "start_time": "2024-03-25T20:35:27.929Z"
   },
   {
    "duration": 6,
    "start_time": "2024-03-25T20:35:46.474Z"
   },
   {
    "duration": 9,
    "start_time": "2024-03-25T20:36:19.587Z"
   },
   {
    "duration": 9,
    "start_time": "2024-03-25T20:36:21.131Z"
   },
   {
    "duration": 5,
    "start_time": "2024-03-25T20:36:38.418Z"
   },
   {
    "duration": 3,
    "start_time": "2024-03-25T20:38:23.982Z"
   },
   {
    "duration": 44,
    "start_time": "2024-03-25T20:38:23.987Z"
   },
   {
    "duration": 10,
    "start_time": "2024-03-25T20:38:24.032Z"
   },
   {
    "duration": 5,
    "start_time": "2024-03-25T20:38:24.043Z"
   },
   {
    "duration": 11,
    "start_time": "2024-03-25T20:38:24.050Z"
   },
   {
    "duration": 11,
    "start_time": "2024-03-25T20:38:24.063Z"
   },
   {
    "duration": 12,
    "start_time": "2024-03-25T20:38:24.076Z"
   },
   {
    "duration": 54,
    "start_time": "2024-03-25T20:38:24.089Z"
   },
   {
    "duration": 10,
    "start_time": "2024-03-25T20:38:24.144Z"
   },
   {
    "duration": 4,
    "start_time": "2024-03-25T20:38:24.156Z"
   },
   {
    "duration": 7,
    "start_time": "2024-03-25T20:38:24.162Z"
   },
   {
    "duration": 6,
    "start_time": "2024-03-25T20:38:24.171Z"
   },
   {
    "duration": 9,
    "start_time": "2024-03-25T20:38:24.178Z"
   },
   {
    "duration": 13,
    "start_time": "2024-03-25T20:38:24.189Z"
   },
   {
    "duration": 12,
    "start_time": "2024-03-25T20:38:24.204Z"
   },
   {
    "duration": 13,
    "start_time": "2024-03-25T20:38:24.217Z"
   },
   {
    "duration": 6,
    "start_time": "2024-03-25T20:38:24.231Z"
   },
   {
    "duration": 18,
    "start_time": "2024-03-25T20:38:24.238Z"
   },
   {
    "duration": 9,
    "start_time": "2024-03-25T20:38:24.257Z"
   },
   {
    "duration": 21,
    "start_time": "2024-03-25T20:38:24.268Z"
   },
   {
    "duration": 161,
    "start_time": "2024-03-25T20:38:24.291Z"
   },
   {
    "duration": 118,
    "start_time": "2024-03-25T20:38:24.454Z"
   },
   {
    "duration": 17,
    "start_time": "2024-03-25T20:38:24.573Z"
   },
   {
    "duration": 181,
    "start_time": "2024-03-25T20:38:24.591Z"
   },
   {
    "duration": 189,
    "start_time": "2024-03-25T20:38:24.774Z"
   },
   {
    "duration": 288,
    "start_time": "2024-03-25T20:38:24.965Z"
   },
   {
    "duration": 197,
    "start_time": "2024-03-25T20:38:25.254Z"
   },
   {
    "duration": 299,
    "start_time": "2024-03-25T20:38:25.453Z"
   },
   {
    "duration": 11,
    "start_time": "2024-03-25T20:38:25.754Z"
   },
   {
    "duration": 161,
    "start_time": "2024-03-25T20:38:25.766Z"
   },
   {
    "duration": 154,
    "start_time": "2024-03-25T20:38:25.929Z"
   },
   {
    "duration": 4,
    "start_time": "2024-03-25T20:38:26.085Z"
   },
   {
    "duration": 142,
    "start_time": "2024-03-25T20:38:26.090Z"
   },
   {
    "duration": 4,
    "start_time": "2024-03-25T20:38:26.233Z"
   },
   {
    "duration": 228,
    "start_time": "2024-03-25T20:38:26.238Z"
   },
   {
    "duration": 135,
    "start_time": "2024-03-25T20:38:26.467Z"
   },
   {
    "duration": 5,
    "start_time": "2024-03-25T20:38:26.604Z"
   },
   {
    "duration": 3,
    "start_time": "2024-03-25T20:38:26.611Z"
   },
   {
    "duration": 29,
    "start_time": "2024-03-25T20:38:26.616Z"
   },
   {
    "duration": 8,
    "start_time": "2024-03-25T20:38:26.647Z"
   },
   {
    "duration": 32,
    "start_time": "2024-03-25T20:38:26.658Z"
   },
   {
    "duration": 17,
    "start_time": "2024-03-25T20:38:26.691Z"
   },
   {
    "duration": 34,
    "start_time": "2024-03-25T20:38:26.710Z"
   },
   {
    "duration": 8,
    "start_time": "2024-03-25T20:38:26.746Z"
   },
   {
    "duration": 132,
    "start_time": "2024-03-25T20:45:13.458Z"
   },
   {
    "duration": 4,
    "start_time": "2024-03-25T20:45:15.080Z"
   },
   {
    "duration": 228,
    "start_time": "2024-03-25T20:46:21.231Z"
   },
   {
    "duration": 148,
    "start_time": "2024-03-25T20:46:24.546Z"
   },
   {
    "duration": 6,
    "start_time": "2024-03-25T20:46:25.628Z"
   },
   {
    "duration": 4,
    "start_time": "2024-03-25T20:46:26.223Z"
   },
   {
    "duration": 26,
    "start_time": "2024-03-25T20:46:26.726Z"
   },
   {
    "duration": 8,
    "start_time": "2024-03-25T20:47:06.505Z"
   },
   {
    "duration": 13,
    "start_time": "2024-03-25T20:52:31.649Z"
   },
   {
    "duration": 12,
    "start_time": "2024-03-25T20:58:39.690Z"
   },
   {
    "duration": 7,
    "start_time": "2024-03-25T20:59:02.149Z"
   },
   {
    "duration": 24,
    "start_time": "2024-03-25T20:59:09.168Z"
   },
   {
    "duration": 13,
    "start_time": "2024-03-25T21:10:31.026Z"
   },
   {
    "duration": 8,
    "start_time": "2024-03-25T21:10:46.763Z"
   },
   {
    "duration": 10,
    "start_time": "2024-03-25T21:11:58.022Z"
   },
   {
    "duration": 84,
    "start_time": "2024-03-25T21:16:51.418Z"
   },
   {
    "duration": 1344,
    "start_time": "2024-03-26T10:21:38.029Z"
   },
   {
    "duration": 89,
    "start_time": "2024-03-26T10:21:39.375Z"
   },
   {
    "duration": 12,
    "start_time": "2024-03-26T10:21:39.465Z"
   },
   {
    "duration": 4,
    "start_time": "2024-03-26T10:21:39.479Z"
   },
   {
    "duration": 13,
    "start_time": "2024-03-26T10:21:39.484Z"
   },
   {
    "duration": 12,
    "start_time": "2024-03-26T10:21:39.498Z"
   },
   {
    "duration": 12,
    "start_time": "2024-03-26T10:21:39.511Z"
   },
   {
    "duration": 133,
    "start_time": "2024-03-26T10:21:39.524Z"
   },
   {
    "duration": 11,
    "start_time": "2024-03-26T10:21:39.658Z"
   },
   {
    "duration": 12,
    "start_time": "2024-03-26T10:21:39.672Z"
   },
   {
    "duration": 8,
    "start_time": "2024-03-26T10:21:39.686Z"
   },
   {
    "duration": 12,
    "start_time": "2024-03-26T10:21:39.696Z"
   },
   {
    "duration": 10,
    "start_time": "2024-03-26T10:21:39.710Z"
   },
   {
    "duration": 8,
    "start_time": "2024-03-26T10:21:39.721Z"
   },
   {
    "duration": 16,
    "start_time": "2024-03-26T10:21:39.730Z"
   },
   {
    "duration": 18,
    "start_time": "2024-03-26T10:21:39.747Z"
   },
   {
    "duration": 6,
    "start_time": "2024-03-26T10:21:39.766Z"
   },
   {
    "duration": 8,
    "start_time": "2024-03-26T10:21:39.773Z"
   },
   {
    "duration": 8,
    "start_time": "2024-03-26T10:21:39.782Z"
   },
   {
    "duration": 7,
    "start_time": "2024-03-26T10:21:39.791Z"
   },
   {
    "duration": 183,
    "start_time": "2024-03-26T10:21:39.800Z"
   },
   {
    "duration": 128,
    "start_time": "2024-03-26T10:21:39.985Z"
   },
   {
    "duration": 11,
    "start_time": "2024-03-26T10:21:40.114Z"
   },
   {
    "duration": 275,
    "start_time": "2024-03-26T10:21:40.127Z"
   },
   {
    "duration": 199,
    "start_time": "2024-03-26T10:21:40.403Z"
   },
   {
    "duration": 349,
    "start_time": "2024-03-26T10:21:40.604Z"
   },
   {
    "duration": 197,
    "start_time": "2024-03-26T10:21:40.959Z"
   },
   {
    "duration": 270,
    "start_time": "2024-03-26T10:21:41.160Z"
   },
   {
    "duration": 10,
    "start_time": "2024-03-26T10:21:41.432Z"
   },
   {
    "duration": 163,
    "start_time": "2024-03-26T10:21:41.443Z"
   },
   {
    "duration": 164,
    "start_time": "2024-03-26T10:21:41.607Z"
   },
   {
    "duration": 5,
    "start_time": "2024-03-26T10:21:41.773Z"
   },
   {
    "duration": 220,
    "start_time": "2024-03-26T10:21:41.780Z"
   },
   {
    "duration": 4,
    "start_time": "2024-03-26T10:21:42.001Z"
   },
   {
    "duration": 471,
    "start_time": "2024-03-26T10:21:42.007Z"
   },
   {
    "duration": 283,
    "start_time": "2024-03-26T10:21:42.480Z"
   },
   {
    "duration": 5,
    "start_time": "2024-03-26T10:21:42.765Z"
   },
   {
    "duration": 35,
    "start_time": "2024-03-26T10:21:42.771Z"
   },
   {
    "duration": 71,
    "start_time": "2024-03-26T10:21:42.808Z"
   },
   {
    "duration": 6,
    "start_time": "2024-03-26T10:21:42.881Z"
   },
   {
    "duration": 75,
    "start_time": "2024-03-26T10:21:42.889Z"
   },
   {
    "duration": 30,
    "start_time": "2024-03-26T10:21:42.965Z"
   },
   {
    "duration": 82,
    "start_time": "2024-03-26T10:21:42.997Z"
   },
   {
    "duration": 9,
    "start_time": "2024-03-26T10:21:43.081Z"
   }
  ],
  "kernelspec": {
   "display_name": "Python 3 (ipykernel)",
   "language": "python",
   "name": "python3"
  },
  "language_info": {
   "codemirror_mode": {
    "name": "ipython",
    "version": 3
   },
   "file_extension": ".py",
   "mimetype": "text/x-python",
   "name": "python",
   "nbconvert_exporter": "python",
   "pygments_lexer": "ipython3",
   "version": "3.12.4"
  },
  "toc": {
   "base_numbering": 1,
   "nav_menu": {},
   "number_sections": true,
   "sideBar": true,
   "skip_h1_title": true,
   "title_cell": "Содержание",
   "title_sidebar": "Contents",
   "toc_cell": true,
   "toc_position": {
    "height": "calc(100% - 180px)",
    "left": "10px",
    "top": "150px",
    "width": "230.269px"
   },
   "toc_section_display": true,
   "toc_window_display": true
  }
 },
 "nbformat": 4,
 "nbformat_minor": 4
}
