{
 "cells": [
  {
   "cell_type": "markdown",
   "id": "72b5863f",
   "metadata": {},
   "source": [
    "# Исследование сервиса аренды самокатов"
   ]
  },
  {
   "cell_type": "markdown",
   "id": "ee535ac3",
   "metadata": {},
   "source": [
    "**Цели и задачи проекта**\n",
    "\n",
    "Заказчик – сервис аренды самокатов GoFast. Цель проекта – анализ данных о пользователях сервиса аренды самокатов на основе данных о некоторых пользователях из нескольких городов, а также об их поездках.\n",
    "\n",
    "Чтобы совершать поездки по городу, пользователи сервиса GoFast пользуются мобильным приложением. Сервисом можно пользоваться: \n",
    "1. без подписки\n",
    "- абонентская плата отсутствует;\n",
    "- стоимость одной минуты поездки — 8 рублей;\n",
    "- стоимость старта (начала поездки) — 50 рублей.\n",
    "2. с подпиской Ultra\n",
    "- абонентская плата – 199 рублей в месяц;\n",
    "- стоимость одной минуты поездки — 6 рублей;\n",
    "– стоимость старта — бесплатно.\n",
    "\n",
    "**План работы**\n",
    "\n",
    "- загрузка данных;\n",
    "- предобработка данных(заполнить пропуски, где возможно; удалить дубликаты);\n",
    "- исследовательский анализ(частота встречаемости городов; соотношение пользователей с подпиской или без; расстояние одной поездки; продолжительность поездок);\n",
    "- объединение данных;\n",
    "- проверка гипотез(пользователи с подпиской тратят больше времени на поездку; среднее расстояние, которое проезжает пользователь с подпиской не превышает 3130; помесячная выручка пользователей с подпиской выше, чем у пользователей без подписки).\n",
    "\n",
    "**Исходные данные**\n",
    "\n",
    "Файл users_go.csv (информация о пользователях):\n",
    "- user_id – уникальный идентификатор пользователя;\n",
    "- name – имя пользователя;\n",
    "- age – возраст;\n",
    "- city – город;\n",
    "– subscription_type\t– тип подписки (free, ultra).\n",
    "\n",
    "Файл rides_go.csv (информация о поездках):\n",
    "- user_id – уникальный идентификатор пользователя;\n",
    "- distance – расстояние, которое пользователь проехал в текущей сессии (в метрах);\n",
    "- duration – продолжительность сессии (в минутах) — время с того момента, как пользователь нажал кнопку «Начать поездку» до момента, как он нажал кнопку «Завершить поездку»;\n",
    "- date – дата совершения поездки.\n",
    "\n",
    "Файл subscriptions_go.csv (информация о подписках):\n",
    "- subscription_type\t– тип подписки;\n",
    "- minute_price – стоимость одной минуты поездки по данной подписке;\n",
    "- start_ride_price – стоимость начала поездки;\n",
    "- subscription_fee – стоимость ежемесячного платежа."
   ]
  },
  {
   "cell_type": "markdown",
   "id": "82414a1f",
   "metadata": {
    "toc": true
   },
   "source": [
    "<h1>Содержание<span class=\"tocSkip\"></span></h1>\n",
    "<div class=\"toc\"><ul class=\"toc-item\"><li><span><a href=\"#Загрузка-данных\" data-toc-modified-id=\"Загрузка-данных-1\"><span class=\"toc-item-num\">1&nbsp;&nbsp;</span>Загрузка данных</a></span></li><li><span><a href=\"#Предобработка-данных\" data-toc-modified-id=\"Предобработка-данных-2\"><span class=\"toc-item-num\">2&nbsp;&nbsp;</span>Предобработка данных</a></span></li><li><span><a href=\"#Исследовательский-анализ-данных\" data-toc-modified-id=\"Исследовательский-анализ-данных-3\"><span class=\"toc-item-num\">3&nbsp;&nbsp;</span>Исследовательский анализ данных</a></span><ul class=\"toc-item\"><li><span><a href=\"#Частота-встречаемости-городов\" data-toc-modified-id=\"Частота-встречаемости-городов-3.1\"><span class=\"toc-item-num\">3.1&nbsp;&nbsp;</span>Частота встречаемости городов</a></span></li><li><span><a href=\"#Соотношение-пользователей-с-подпиской-и-без-подписки\" data-toc-modified-id=\"Соотношение-пользователей-с-подпиской-и-без-подписки-3.2\"><span class=\"toc-item-num\">3.2&nbsp;&nbsp;</span>Соотношение пользователей с подпиской и без подписки</a></span></li><li><span><a href=\"#Расстояние,-которое-пользователь-преодолел-за-одну-поездку**\" data-toc-modified-id=\"Расстояние,-которое-пользователь-преодолел-за-одну-поездку**-3.3\"><span class=\"toc-item-num\">3.3&nbsp;&nbsp;</span>Расстояние, которое пользователь преодолел за одну поездку**</a></span></li><li><span><a href=\"#Продолжительность-поездок\" data-toc-modified-id=\"Продолжительность-поездок-3.4\"><span class=\"toc-item-num\">3.4&nbsp;&nbsp;</span>Продолжительность поездок</a></span></li></ul></li><li><span><a href=\"#Объединение-данных\" data-toc-modified-id=\"Объединение-данных-4\"><span class=\"toc-item-num\">4&nbsp;&nbsp;</span>Объединение данных</a></span></li><li><span><a href=\"#Подсчёт-выручки\" data-toc-modified-id=\"Подсчёт-выручки-5\"><span class=\"toc-item-num\">5&nbsp;&nbsp;</span>Подсчёт выручки</a></span></li><li><span><a href=\"#Проверка-гипотез\" data-toc-modified-id=\"Проверка-гипотез-6\"><span class=\"toc-item-num\">6&nbsp;&nbsp;</span>Проверка гипотез</a></span><ul class=\"toc-item\"><li><span><a href=\"#Гипотеза:-пользователи-с-подпиской-и-без-тратят-одинаковое-количество-времени-на-поездки\" data-toc-modified-id=\"Гипотеза:-пользователи-с-подпиской-и-без-тратят-одинаковое-количество-времени-на-поездки-6.1\"><span class=\"toc-item-num\">6.1&nbsp;&nbsp;</span>Гипотеза: пользователи с подпиской и без тратят одинаковое количество времени на поездки</a></span></li><li><span><a href=\"#Нулевая-гипотеза:-среднее-расстояние,-которое-проезжают-пользователи-с-подпиской-за-одну-поездку,-не-превышает-3130-метров\" data-toc-modified-id=\"Нулевая-гипотеза:-среднее-расстояние,-которое-проезжают-пользователи-с-подпиской-за-одну-поездку,-не-превышает-3130-метров-6.2\"><span class=\"toc-item-num\">6.2&nbsp;&nbsp;</span>Нулевая гипотеза: среднее расстояние, которое проезжают пользователи с подпиской за одну поездку, не превышает 3130 метров<br></a></span></li><li><span><a href=\"#Нулевая-гипотеза:-помесячная-выручка-от-пользователей-по-месяцам-для-пользователей-с-подпиской-и-без-равна\" data-toc-modified-id=\"Нулевая-гипотеза:-помесячная-выручка-от-пользователей-по-месяцам-для-пользователей-с-подпиской-и-без-равна-6.3\"><span class=\"toc-item-num\">6.3&nbsp;&nbsp;</span>Нулевая гипотеза: помесячная выручка от пользователей по месяцам для пользователей с подпиской и без равна<br></a></span></li><li><span><a href=\"#Гипотеза:-после-обновления-мобильного-приложения-количество-обращений-в-тех.-поддержку-снизилось\" data-toc-modified-id=\"Гипотеза:-после-обновления-мобильного-приложения-количество-обращений-в-тех.-поддержку-снизилось-6.4\"><span class=\"toc-item-num\">6.4&nbsp;&nbsp;</span>Гипотеза: после обновления мобильного приложения количество обращений в тех. поддержку снизилось</a></span></li></ul></li><li><span><a href=\"#Общий-вывод\" data-toc-modified-id=\"Общий-вывод-7\"><span class=\"toc-item-num\">7&nbsp;&nbsp;</span>Общий вывод</a></span></li></ul></div>"
   ]
  },
  {
   "cell_type": "markdown",
   "id": "c42cbe00",
   "metadata": {},
   "source": [
    "## Загрузка данных"
   ]
  },
  {
   "cell_type": "code",
   "execution_count": 1,
   "id": "72576667",
   "metadata": {},
   "outputs": [],
   "source": [
    "#импортируем библиотеки\n",
    "import pandas as pd\n",
    "import numpy as np\n",
    "import matplotlib.pyplot as plt\n",
    "import seaborn as sns\n",
    "import scipy.stats as st"
   ]
  },
  {
   "cell_type": "code",
   "execution_count": 2,
   "id": "eff9f206",
   "metadata": {},
   "outputs": [],
   "source": [
    "#открываем файлы\n",
    "try:\n",
    "    users = pd.read_csv('/datasets/users_go.csv')\n",
    "    riders = pd.read_csv('/datasets/rides_go.csv')\n",
    "    subscriptions = pd.read_csv('/datasets/subscriptions_go.csv')\n",
    "except:\n",
    "    users = pd.read_csv('https://code.s3.yandex.net/datasets/users_go.csv')\n",
    "    riders = pd.read_csv('https://code.s3.yandex.net/datasets/rides_go.csv')\n",
    "    subscriptions = pd.read_csv('https://code.s3.yandex.net/datasets/subscriptions_go.csv')"
   ]
  },
  {
   "cell_type": "code",
   "execution_count": 3,
   "id": "09a4b930",
   "metadata": {},
   "outputs": [
    {
     "name": "stdout",
     "output_type": "stream",
     "text": [
      "<class 'pandas.core.frame.DataFrame'>\n",
      "RangeIndex: 1565 entries, 0 to 1564\n",
      "Data columns (total 5 columns):\n",
      " #   Column             Non-Null Count  Dtype \n",
      "---  ------             --------------  ----- \n",
      " 0   user_id            1565 non-null   int64 \n",
      " 1   name               1565 non-null   object\n",
      " 2   age                1565 non-null   int64 \n",
      " 3   city               1565 non-null   object\n",
      " 4   subscription_type  1565 non-null   object\n",
      "dtypes: int64(2), object(3)\n",
      "memory usage: 61.3+ KB\n"
     ]
    }
   ],
   "source": [
    "#смотрим основную информацию о пользователях\n",
    "users.info()"
   ]
  },
  {
   "cell_type": "code",
   "execution_count": 4,
   "id": "1451e3e9",
   "metadata": {},
   "outputs": [
    {
     "data": {
      "text/html": [
       "<div>\n",
       "<style scoped>\n",
       "    .dataframe tbody tr th:only-of-type {\n",
       "        vertical-align: middle;\n",
       "    }\n",
       "\n",
       "    .dataframe tbody tr th {\n",
       "        vertical-align: top;\n",
       "    }\n",
       "\n",
       "    .dataframe thead th {\n",
       "        text-align: right;\n",
       "    }\n",
       "</style>\n",
       "<table border=\"1\" class=\"dataframe\">\n",
       "  <thead>\n",
       "    <tr style=\"text-align: right;\">\n",
       "      <th></th>\n",
       "      <th>user_id</th>\n",
       "      <th>name</th>\n",
       "      <th>age</th>\n",
       "      <th>city</th>\n",
       "      <th>subscription_type</th>\n",
       "    </tr>\n",
       "  </thead>\n",
       "  <tbody>\n",
       "    <tr>\n",
       "      <th>0</th>\n",
       "      <td>1</td>\n",
       "      <td>Кира</td>\n",
       "      <td>22</td>\n",
       "      <td>Тюмень</td>\n",
       "      <td>ultra</td>\n",
       "    </tr>\n",
       "    <tr>\n",
       "      <th>1</th>\n",
       "      <td>2</td>\n",
       "      <td>Станислав</td>\n",
       "      <td>31</td>\n",
       "      <td>Омск</td>\n",
       "      <td>ultra</td>\n",
       "    </tr>\n",
       "    <tr>\n",
       "      <th>2</th>\n",
       "      <td>3</td>\n",
       "      <td>Алексей</td>\n",
       "      <td>20</td>\n",
       "      <td>Москва</td>\n",
       "      <td>ultra</td>\n",
       "    </tr>\n",
       "    <tr>\n",
       "      <th>3</th>\n",
       "      <td>4</td>\n",
       "      <td>Константин</td>\n",
       "      <td>26</td>\n",
       "      <td>Ростов-на-Дону</td>\n",
       "      <td>ultra</td>\n",
       "    </tr>\n",
       "    <tr>\n",
       "      <th>4</th>\n",
       "      <td>5</td>\n",
       "      <td>Адель</td>\n",
       "      <td>28</td>\n",
       "      <td>Омск</td>\n",
       "      <td>ultra</td>\n",
       "    </tr>\n",
       "    <tr>\n",
       "      <th>5</th>\n",
       "      <td>6</td>\n",
       "      <td>Регина</td>\n",
       "      <td>25</td>\n",
       "      <td>Краснодар</td>\n",
       "      <td>ultra</td>\n",
       "    </tr>\n",
       "    <tr>\n",
       "      <th>6</th>\n",
       "      <td>7</td>\n",
       "      <td>Игорь</td>\n",
       "      <td>23</td>\n",
       "      <td>Омск</td>\n",
       "      <td>ultra</td>\n",
       "    </tr>\n",
       "    <tr>\n",
       "      <th>7</th>\n",
       "      <td>8</td>\n",
       "      <td>Юрий</td>\n",
       "      <td>23</td>\n",
       "      <td>Краснодар</td>\n",
       "      <td>ultra</td>\n",
       "    </tr>\n",
       "    <tr>\n",
       "      <th>8</th>\n",
       "      <td>9</td>\n",
       "      <td>Ян</td>\n",
       "      <td>21</td>\n",
       "      <td>Пятигорск</td>\n",
       "      <td>ultra</td>\n",
       "    </tr>\n",
       "    <tr>\n",
       "      <th>9</th>\n",
       "      <td>10</td>\n",
       "      <td>Валерий</td>\n",
       "      <td>18</td>\n",
       "      <td>Екатеринбург</td>\n",
       "      <td>ultra</td>\n",
       "    </tr>\n",
       "  </tbody>\n",
       "</table>\n",
       "</div>"
      ],
      "text/plain": [
       "   user_id        name  age            city subscription_type\n",
       "0        1        Кира   22          Тюмень             ultra\n",
       "1        2   Станислав   31            Омск             ultra\n",
       "2        3     Алексей   20          Москва             ultra\n",
       "3        4  Константин   26  Ростов-на-Дону             ultra\n",
       "4        5       Адель   28            Омск             ultra\n",
       "5        6      Регина   25       Краснодар             ultra\n",
       "6        7       Игорь   23            Омск             ultra\n",
       "7        8        Юрий   23       Краснодар             ultra\n",
       "8        9          Ян   21       Пятигорск             ultra\n",
       "9       10     Валерий   18    Екатеринбург             ultra"
      ]
     },
     "execution_count": 4,
     "metadata": {},
     "output_type": "execute_result"
    }
   ],
   "source": [
    "#выводим первые десять строк датафрейма\n",
    "users.head(10)"
   ]
  },
  {
   "cell_type": "code",
   "execution_count": 5,
   "id": "9ed82613",
   "metadata": {
    "scrolled": true
   },
   "outputs": [
    {
     "name": "stdout",
     "output_type": "stream",
     "text": [
      "<class 'pandas.core.frame.DataFrame'>\n",
      "RangeIndex: 18068 entries, 0 to 18067\n",
      "Data columns (total 4 columns):\n",
      " #   Column    Non-Null Count  Dtype  \n",
      "---  ------    --------------  -----  \n",
      " 0   user_id   18068 non-null  int64  \n",
      " 1   distance  18068 non-null  float64\n",
      " 2   duration  18068 non-null  float64\n",
      " 3   date      18068 non-null  object \n",
      "dtypes: float64(2), int64(1), object(1)\n",
      "memory usage: 564.8+ KB\n"
     ]
    }
   ],
   "source": [
    "#смотрим основную информацию о поездках\n",
    "riders.info()"
   ]
  },
  {
   "cell_type": "code",
   "execution_count": 6,
   "id": "275ec735",
   "metadata": {},
   "outputs": [
    {
     "data": {
      "text/plain": [
       "1534"
      ]
     },
     "execution_count": 6,
     "metadata": {},
     "output_type": "execute_result"
    }
   ],
   "source": [
    "#количество уникальных идендификаторов\n",
    "riders['user_id'].nunique()"
   ]
  },
  {
   "cell_type": "markdown",
   "id": "92c0d7d4",
   "metadata": {},
   "source": [
    "Значение уникальных id меньше, чем в таблице users, значит не все пользователи совершали поездки или в users присутствуют дубликаты."
   ]
  },
  {
   "cell_type": "code",
   "execution_count": 7,
   "id": "3f822968",
   "metadata": {
    "scrolled": true
   },
   "outputs": [
    {
     "data": {
      "text/html": [
       "<div>\n",
       "<style scoped>\n",
       "    .dataframe tbody tr th:only-of-type {\n",
       "        vertical-align: middle;\n",
       "    }\n",
       "\n",
       "    .dataframe tbody tr th {\n",
       "        vertical-align: top;\n",
       "    }\n",
       "\n",
       "    .dataframe thead th {\n",
       "        text-align: right;\n",
       "    }\n",
       "</style>\n",
       "<table border=\"1\" class=\"dataframe\">\n",
       "  <thead>\n",
       "    <tr style=\"text-align: right;\">\n",
       "      <th></th>\n",
       "      <th>user_id</th>\n",
       "      <th>distance</th>\n",
       "      <th>duration</th>\n",
       "      <th>date</th>\n",
       "    </tr>\n",
       "  </thead>\n",
       "  <tbody>\n",
       "    <tr>\n",
       "      <th>0</th>\n",
       "      <td>1</td>\n",
       "      <td>4409.919140</td>\n",
       "      <td>25.599769</td>\n",
       "      <td>2021-01-01</td>\n",
       "    </tr>\n",
       "    <tr>\n",
       "      <th>1</th>\n",
       "      <td>1</td>\n",
       "      <td>2617.592153</td>\n",
       "      <td>15.816871</td>\n",
       "      <td>2021-01-18</td>\n",
       "    </tr>\n",
       "    <tr>\n",
       "      <th>2</th>\n",
       "      <td>1</td>\n",
       "      <td>754.159807</td>\n",
       "      <td>6.232113</td>\n",
       "      <td>2021-04-20</td>\n",
       "    </tr>\n",
       "    <tr>\n",
       "      <th>3</th>\n",
       "      <td>1</td>\n",
       "      <td>2694.783254</td>\n",
       "      <td>18.511000</td>\n",
       "      <td>2021-08-11</td>\n",
       "    </tr>\n",
       "    <tr>\n",
       "      <th>4</th>\n",
       "      <td>1</td>\n",
       "      <td>4028.687306</td>\n",
       "      <td>26.265803</td>\n",
       "      <td>2021-08-28</td>\n",
       "    </tr>\n",
       "    <tr>\n",
       "      <th>5</th>\n",
       "      <td>1</td>\n",
       "      <td>2770.890808</td>\n",
       "      <td>16.650138</td>\n",
       "      <td>2021-10-09</td>\n",
       "    </tr>\n",
       "    <tr>\n",
       "      <th>6</th>\n",
       "      <td>1</td>\n",
       "      <td>3039.020292</td>\n",
       "      <td>14.927879</td>\n",
       "      <td>2021-10-19</td>\n",
       "    </tr>\n",
       "    <tr>\n",
       "      <th>7</th>\n",
       "      <td>1</td>\n",
       "      <td>2842.118050</td>\n",
       "      <td>23.117468</td>\n",
       "      <td>2021-11-06</td>\n",
       "    </tr>\n",
       "    <tr>\n",
       "      <th>8</th>\n",
       "      <td>1</td>\n",
       "      <td>3412.690668</td>\n",
       "      <td>15.238072</td>\n",
       "      <td>2021-11-14</td>\n",
       "    </tr>\n",
       "    <tr>\n",
       "      <th>9</th>\n",
       "      <td>1</td>\n",
       "      <td>748.690645</td>\n",
       "      <td>15.041884</td>\n",
       "      <td>2021-11-22</td>\n",
       "    </tr>\n",
       "  </tbody>\n",
       "</table>\n",
       "</div>"
      ],
      "text/plain": [
       "   user_id     distance   duration        date\n",
       "0        1  4409.919140  25.599769  2021-01-01\n",
       "1        1  2617.592153  15.816871  2021-01-18\n",
       "2        1   754.159807   6.232113  2021-04-20\n",
       "3        1  2694.783254  18.511000  2021-08-11\n",
       "4        1  4028.687306  26.265803  2021-08-28\n",
       "5        1  2770.890808  16.650138  2021-10-09\n",
       "6        1  3039.020292  14.927879  2021-10-19\n",
       "7        1  2842.118050  23.117468  2021-11-06\n",
       "8        1  3412.690668  15.238072  2021-11-14\n",
       "9        1   748.690645  15.041884  2021-11-22"
      ]
     },
     "execution_count": 7,
     "metadata": {},
     "output_type": "execute_result"
    }
   ],
   "source": [
    "#выводим первые десять строк датафрейма\n",
    "riders.head(10)"
   ]
  },
  {
   "cell_type": "code",
   "execution_count": 8,
   "id": "3cdd7861",
   "metadata": {},
   "outputs": [
    {
     "name": "stdout",
     "output_type": "stream",
     "text": [
      "<class 'pandas.core.frame.DataFrame'>\n",
      "RangeIndex: 2 entries, 0 to 1\n",
      "Data columns (total 4 columns):\n",
      " #   Column             Non-Null Count  Dtype \n",
      "---  ------             --------------  ----- \n",
      " 0   subscription_type  2 non-null      object\n",
      " 1   minute_price       2 non-null      int64 \n",
      " 2   start_ride_price   2 non-null      int64 \n",
      " 3   subscription_fee   2 non-null      int64 \n",
      "dtypes: int64(3), object(1)\n",
      "memory usage: 196.0+ bytes\n"
     ]
    }
   ],
   "source": [
    "#смотрим основную информацию о подписках\n",
    "subscriptions.info()"
   ]
  },
  {
   "cell_type": "code",
   "execution_count": 9,
   "id": "594162e1",
   "metadata": {},
   "outputs": [
    {
     "data": {
      "text/html": [
       "<div>\n",
       "<style scoped>\n",
       "    .dataframe tbody tr th:only-of-type {\n",
       "        vertical-align: middle;\n",
       "    }\n",
       "\n",
       "    .dataframe tbody tr th {\n",
       "        vertical-align: top;\n",
       "    }\n",
       "\n",
       "    .dataframe thead th {\n",
       "        text-align: right;\n",
       "    }\n",
       "</style>\n",
       "<table border=\"1\" class=\"dataframe\">\n",
       "  <thead>\n",
       "    <tr style=\"text-align: right;\">\n",
       "      <th></th>\n",
       "      <th>subscription_type</th>\n",
       "      <th>minute_price</th>\n",
       "      <th>start_ride_price</th>\n",
       "      <th>subscription_fee</th>\n",
       "    </tr>\n",
       "  </thead>\n",
       "  <tbody>\n",
       "    <tr>\n",
       "      <th>0</th>\n",
       "      <td>free</td>\n",
       "      <td>8</td>\n",
       "      <td>50</td>\n",
       "      <td>0</td>\n",
       "    </tr>\n",
       "    <tr>\n",
       "      <th>1</th>\n",
       "      <td>ultra</td>\n",
       "      <td>6</td>\n",
       "      <td>0</td>\n",
       "      <td>199</td>\n",
       "    </tr>\n",
       "  </tbody>\n",
       "</table>\n",
       "</div>"
      ],
      "text/plain": [
       "  subscription_type  minute_price  start_ride_price  subscription_fee\n",
       "0              free             8                50                 0\n",
       "1             ultra             6                 0               199"
      ]
     },
     "execution_count": 9,
     "metadata": {},
     "output_type": "execute_result"
    }
   ],
   "source": [
    "subscriptions"
   ]
  },
  {
   "cell_type": "markdown",
   "id": "c7f40b0c",
   "metadata": {},
   "source": [
    "**Выводы по разделу:**<br>\n",
    "- всего в users 1565 строк, пропущенных значений нет;\n",
    "- всего в riders 18068 строк, пропущенных значений нет. Уникальных user_id меньше, чем в датафрейме users. Вероятно не все пользователи совершали поездки или в данных присутствуют дубликаты,некорректные значения, проверим это в следующей разделе. Продолжение поездки необходимо округлить до большего целого числа. Расстояние округлим до целого для удобства."
   ]
  },
  {
   "cell_type": "markdown",
   "id": "e95ebca7",
   "metadata": {},
   "source": [
    "## Предобработка данных"
   ]
  },
  {
   "cell_type": "code",
   "execution_count": 10,
   "id": "af6d202c",
   "metadata": {},
   "outputs": [
    {
     "data": {
      "text/plain": [
       "31"
      ]
     },
     "execution_count": 10,
     "metadata": {},
     "output_type": "execute_result"
    }
   ],
   "source": [
    "#проверим наличие явных дубликатов в users\n",
    "users.duplicated().sum()"
   ]
  },
  {
   "cell_type": "code",
   "execution_count": 11,
   "id": "ec542888",
   "metadata": {
    "scrolled": true
   },
   "outputs": [],
   "source": [
    "#удалим явные дубликаты\n",
    "users = users.drop_duplicates()"
   ]
  },
  {
   "cell_type": "code",
   "execution_count": 12,
   "id": "758b6b9a",
   "metadata": {},
   "outputs": [
    {
     "data": {
      "text/plain": [
       "0"
      ]
     },
     "execution_count": 12,
     "metadata": {},
     "output_type": "execute_result"
    }
   ],
   "source": [
    "#проверим наличие явных дубликатов в users\n",
    "users.duplicated().sum()"
   ]
  },
  {
   "cell_type": "code",
   "execution_count": 13,
   "id": "9aeb2f6c",
   "metadata": {},
   "outputs": [
    {
     "data": {
      "text/plain": [
       "array(['Тюмень', 'Омск', 'Москва', 'Ростов-на-Дону', 'Краснодар',\n",
       "       'Пятигорск', 'Екатеринбург', 'Сочи'], dtype=object)"
      ]
     },
     "execution_count": 13,
     "metadata": {},
     "output_type": "execute_result"
    }
   ],
   "source": [
    "#проверим наличие неявных дубликатов в столбце city\n",
    "users['city'].unique()"
   ]
  },
  {
   "cell_type": "markdown",
   "id": "dedec68d",
   "metadata": {},
   "source": [
    "Неявные дубликаты отсутствуют. Далее перейдем к обработке riders."
   ]
  },
  {
   "cell_type": "code",
   "execution_count": 14,
   "id": "60e76d21",
   "metadata": {},
   "outputs": [],
   "source": [
    "#поменяем тип данных distance на int\n",
    "riders['distance'] = riders['distance'].astype(int)"
   ]
  },
  {
   "cell_type": "code",
   "execution_count": 15,
   "id": "fcc4b591",
   "metadata": {},
   "outputs": [],
   "source": [
    "#округлим значения duration в большую сторону в соотвествии с бизнес логикой\n",
    "riders['duration'] = np.ceil(riders['duration']).astype(int)"
   ]
  },
  {
   "cell_type": "code",
   "execution_count": 16,
   "id": "59333e8e-388c-4e22-9114-0ead9d00f09c",
   "metadata": {},
   "outputs": [
    {
     "data": {
      "text/plain": [
       "0        2021-01-01\n",
       "1        2021-01-18\n",
       "2        2021-04-20\n",
       "3        2021-08-11\n",
       "4        2021-08-28\n",
       "            ...    \n",
       "18063    2021-11-04\n",
       "18064    2021-11-16\n",
       "18065    2021-11-18\n",
       "18066    2021-11-27\n",
       "18067    2021-12-29\n",
       "Name: date, Length: 18068, dtype: object"
      ]
     },
     "execution_count": 16,
     "metadata": {},
     "output_type": "execute_result"
    }
   ],
   "source": [
    "riders['date']"
   ]
  },
  {
   "cell_type": "code",
   "execution_count": 17,
   "id": "1c963d11",
   "metadata": {},
   "outputs": [],
   "source": [
    "riders['month'] = pd.to_datetime(riders['date']).dt.month"
   ]
  },
  {
   "cell_type": "markdown",
   "id": "bae91799",
   "metadata": {},
   "source": [
    "**Выводы по разделу**<br>\n",
    "В результате предобработки:\n",
    "- удалены явные дубликаты в датафрейме users;\n",
    "- в столбце distance датафрейма riders тип данных для удобства изменен на int;\n",
    "- в столбце duration датафрейма riders значения округлены в большую сторону, тип данных изменен на int;\n",
    "- в riders добавление столбец с номером месяца."
   ]
  },
  {
   "cell_type": "markdown",
   "id": "70622c45",
   "metadata": {},
   "source": [
    "##  Исследовательский анализ данных"
   ]
  },
  {
   "cell_type": "markdown",
   "id": "acb7a293",
   "metadata": {},
   "source": [
    "### Частота встречаемости городов"
   ]
  },
  {
   "cell_type": "code",
   "execution_count": 18,
   "id": "6867985d",
   "metadata": {
    "scrolled": true
   },
   "outputs": [
    {
     "data": {
      "text/plain": [
       "city\n",
       "Пятигорск         219\n",
       "Екатеринбург      204\n",
       "Ростов-на-Дону    198\n",
       "Краснодар         193\n",
       "Сочи              189\n",
       "Омск              183\n",
       "Тюмень            180\n",
       "Москва            168\n",
       "Name: count, dtype: int64"
      ]
     },
     "execution_count": 18,
     "metadata": {},
     "output_type": "execute_result"
    }
   ],
   "source": [
    "#создадим переменную с частотой встречаемости городов\n",
    "freq_city = users['city'].value_counts()\n",
    "freq_city"
   ]
  },
  {
   "cell_type": "code",
   "execution_count": 19,
   "id": "37d1f9b9",
   "metadata": {},
   "outputs": [
    {
     "data": {
      "image/png": "[encoded data removed]",
      "text/plain": [
       "<Figure size 640x480 with 1 Axes>"
      ]
     },
     "metadata": {},
     "output_type": "display_data"
    }
   ],
   "source": [
    "freq_city.plot.bar()\n",
    "plt.title('Исследование частоты встречаемости городов')\n",
    "plt.xlabel('Название города')\n",
    "plt.ylabel('Количество пользователей')\n",
    "plt.show()"
   ]
  },
  {
   "cell_type": "markdown",
   "id": "3ba59a5f",
   "metadata": {},
   "source": [
    "Больше всего пользователей из Пятигорска, меньше всего из Москвы."
   ]
  },
  {
   "cell_type": "markdown",
   "id": "00ad36af",
   "metadata": {},
   "source": [
    "### Соотношение пользователей с подпиской и без подписки"
   ]
  },
  {
   "cell_type": "code",
   "execution_count": 20,
   "id": "7212b588",
   "metadata": {},
   "outputs": [
    {
     "data": {
      "text/plain": [
       "subscription_type\n",
       "free     835\n",
       "ultra    699\n",
       "Name: count, dtype: int64"
      ]
     },
     "execution_count": 20,
     "metadata": {},
     "output_type": "execute_result"
    }
   ],
   "source": [
    "#создадим переменную с частотой встречаемости подписки\n",
    "freq_subscription_type = users['subscription_type'].value_counts()\n",
    "freq_subscription_type"
   ]
  },
  {
   "cell_type": "code",
   "execution_count": 21,
   "id": "6d2d5b1d",
   "metadata": {},
   "outputs": [
    {
     "data": {
      "image/png": "[encoded data removed]",
      "text/plain": [
       "<Figure size 640x480 with 1 Axes>"
      ]
     },
     "metadata": {},
     "output_type": "display_data"
    }
   ],
   "source": [
    "freq_subscription_type.plot.pie(autopct='%.0f%%', colors =['green', 'grey'])\n",
    "plt.title('Исследование типа подписки')\n",
    "plt.show()"
   ]
  },
  {
   "cell_type": "markdown",
   "id": "5b4c821b",
   "metadata": {},
   "source": [
    "Количество пользователей с подпиской на 9% меньше, чем пользователей без нее."
   ]
  },
  {
   "cell_type": "markdown",
   "id": "e571d317",
   "metadata": {},
   "source": [
    "### Возраст пользователей"
   ]
  },
  {
   "cell_type": "code",
   "execution_count": 22,
   "id": "3a367056",
   "metadata": {},
   "outputs": [
    {
     "data": {
      "text/plain": [
       "count    1534.000000\n",
       "mean       24.903520\n",
       "std         4.572367\n",
       "min        12.000000\n",
       "25%        22.000000\n",
       "50%        25.000000\n",
       "75%        28.000000\n",
       "max        43.000000\n",
       "Name: age, dtype: float64"
      ]
     },
     "execution_count": 22,
     "metadata": {},
     "output_type": "execute_result"
    }
   ],
   "source": [
    "#исследуем возраст пользователей\n",
    "users['age'].describe()"
   ]
  },
  {
   "cell_type": "markdown",
   "id": "18ef528a",
   "metadata": {},
   "source": [
    "Медиана и среднее очень близки друг к другу, следовательно выбросы не повлияют на результаты исследования."
   ]
  },
  {
   "cell_type": "code",
   "execution_count": 23,
   "id": "d845df9f",
   "metadata": {},
   "outputs": [
    {
     "data": {
      "image/png": "[encoded data removed]",
      "text/plain": [
       "<Figure size 640x480 with 1 Axes>"
      ]
     },
     "metadata": {},
     "output_type": "display_data"
    }
   ],
   "source": [
    "plt.hist(users['age'], bins = 100)\n",
    "plt.title('Исследование возраста пользователей')\n",
    "plt.xlabel('Возраст пользователя')\n",
    "plt.ylabel('Количество пользоваталей')\n",
    "plt.show()"
   ]
  },
  {
   "cell_type": "markdown",
   "id": "7643f406",
   "metadata": {},
   "source": [
    "Распределение похоже на нормальное, большинство пользователей в возрасте от 22 до 28 лет. Минимальный возраст 12 лет, максимальный - 43 года."
   ]
  },
  {
   "cell_type": "markdown",
   "id": "5d275ba4",
   "metadata": {},
   "source": [
    "### Расстояние, которое пользователь преодолел за одну поездку"
   ]
  },
  {
   "cell_type": "code",
   "execution_count": 24,
   "id": "bee2e5dc",
   "metadata": {},
   "outputs": [
    {
     "data": {
      "text/plain": [
       "count    18068.000000\n",
       "mean      3070.159841\n",
       "std       1116.831548\n",
       "min          0.000000\n",
       "25%       2542.750000\n",
       "50%       3133.000000\n",
       "75%       3776.000000\n",
       "max       7211.000000\n",
       "Name: distance, dtype: float64"
      ]
     },
     "execution_count": 24,
     "metadata": {},
     "output_type": "execute_result"
    }
   ],
   "source": [
    "#исследуем расстояния, которое пользователи преодолевают за поездку\n",
    "riders['distance'].describe()"
   ]
  },
  {
   "cell_type": "code",
   "execution_count": 25,
   "id": "9c695803",
   "metadata": {},
   "outputs": [
    {
     "data": {
      "text/plain": [
       "<Axes: >"
      ]
     },
     "execution_count": 25,
     "metadata": {},
     "output_type": "execute_result"
    },
    {
     "data": {
      "image/png": "[encoded data removed]",
      "text/plain": [
       "<Figure size 640x480 with 1 Axes>"
      ]
     },
     "metadata": {},
     "output_type": "display_data"
    }
   ],
   "source": [
    "#посмотрим на диаграмму размаха\n",
    "riders.boxplot('distance', vert = False)"
   ]
  },
  {
   "cell_type": "markdown",
   "id": "d7cc2fc7",
   "metadata": {},
   "source": [
    "В данных присутствуют выбросы, но пока не будем их трогать, посмотрим с чем они могут быть связаны."
   ]
  },
  {
   "cell_type": "code",
   "execution_count": 26,
   "id": "b1d2b33c",
   "metadata": {
    "scrolled": true
   },
   "outputs": [
    {
     "data": {
      "image/png": "[encoded data removed]",
      "text/plain": [
       "<Figure size 640x480 with 1 Axes>"
      ]
     },
     "metadata": {},
     "output_type": "display_data"
    }
   ],
   "source": [
    "plt.hist(riders['distance'], bins = 100)\n",
    "plt.title('Исследование расстояния')\n",
    "plt.xlabel('Расстояние')\n",
    "plt.ylabel('Количество поездок')\n",
    "plt.show()"
   ]
  },
  {
   "cell_type": "markdown",
   "id": "3358ba54",
   "metadata": {},
   "source": [
    "Распределение похоже на нормальное, однако присутствует пик от 0-1500."
   ]
  },
  {
   "cell_type": "code",
   "execution_count": 27,
   "id": "14520c81",
   "metadata": {},
   "outputs": [
    {
     "data": {
      "text/html": [
       "<div>\n",
       "<style scoped>\n",
       "    .dataframe tbody tr th:only-of-type {\n",
       "        vertical-align: middle;\n",
       "    }\n",
       "\n",
       "    .dataframe tbody tr th {\n",
       "        vertical-align: top;\n",
       "    }\n",
       "\n",
       "    .dataframe thead th {\n",
       "        text-align: right;\n",
       "    }\n",
       "</style>\n",
       "<table border=\"1\" class=\"dataframe\">\n",
       "  <thead>\n",
       "    <tr style=\"text-align: right;\">\n",
       "      <th></th>\n",
       "      <th>user_id</th>\n",
       "      <th>distance</th>\n",
       "      <th>duration</th>\n",
       "      <th>date</th>\n",
       "      <th>month</th>\n",
       "    </tr>\n",
       "  </thead>\n",
       "  <tbody>\n",
       "    <tr>\n",
       "      <th>2</th>\n",
       "      <td>1</td>\n",
       "      <td>754</td>\n",
       "      <td>7</td>\n",
       "      <td>2021-04-20</td>\n",
       "      <td>4</td>\n",
       "    </tr>\n",
       "    <tr>\n",
       "      <th>9</th>\n",
       "      <td>1</td>\n",
       "      <td>748</td>\n",
       "      <td>16</td>\n",
       "      <td>2021-11-22</td>\n",
       "      <td>11</td>\n",
       "    </tr>\n",
       "    <tr>\n",
       "      <th>47</th>\n",
       "      <td>4</td>\n",
       "      <td>724</td>\n",
       "      <td>12</td>\n",
       "      <td>2021-11-14</td>\n",
       "      <td>11</td>\n",
       "    </tr>\n",
       "    <tr>\n",
       "      <th>100</th>\n",
       "      <td>10</td>\n",
       "      <td>680</td>\n",
       "      <td>6</td>\n",
       "      <td>2021-02-21</td>\n",
       "      <td>2</td>\n",
       "    </tr>\n",
       "    <tr>\n",
       "      <th>149</th>\n",
       "      <td>15</td>\n",
       "      <td>634</td>\n",
       "      <td>16</td>\n",
       "      <td>2021-04-05</td>\n",
       "      <td>4</td>\n",
       "    </tr>\n",
       "    <tr>\n",
       "      <th>153</th>\n",
       "      <td>15</td>\n",
       "      <td>671</td>\n",
       "      <td>13</td>\n",
       "      <td>2021-11-15</td>\n",
       "      <td>11</td>\n",
       "    </tr>\n",
       "    <tr>\n",
       "      <th>197</th>\n",
       "      <td>21</td>\n",
       "      <td>518</td>\n",
       "      <td>11</td>\n",
       "      <td>2021-02-03</td>\n",
       "      <td>2</td>\n",
       "    </tr>\n",
       "    <tr>\n",
       "      <th>204</th>\n",
       "      <td>21</td>\n",
       "      <td>517</td>\n",
       "      <td>15</td>\n",
       "      <td>2021-10-01</td>\n",
       "      <td>10</td>\n",
       "    </tr>\n",
       "    <tr>\n",
       "      <th>228</th>\n",
       "      <td>24</td>\n",
       "      <td>409</td>\n",
       "      <td>11</td>\n",
       "      <td>2021-04-04</td>\n",
       "      <td>4</td>\n",
       "    </tr>\n",
       "    <tr>\n",
       "      <th>397</th>\n",
       "      <td>42</td>\n",
       "      <td>614</td>\n",
       "      <td>13</td>\n",
       "      <td>2021-08-17</td>\n",
       "      <td>8</td>\n",
       "    </tr>\n",
       "  </tbody>\n",
       "</table>\n",
       "</div>"
      ],
      "text/plain": [
       "     user_id  distance  duration        date  month\n",
       "2          1       754         7  2021-04-20      4\n",
       "9          1       748        16  2021-11-22     11\n",
       "47         4       724        12  2021-11-14     11\n",
       "100       10       680         6  2021-02-21      2\n",
       "149       15       634        16  2021-04-05      4\n",
       "153       15       671        13  2021-11-15     11\n",
       "197       21       518        11  2021-02-03      2\n",
       "204       21       517        15  2021-10-01     10\n",
       "228       24       409        11  2021-04-04      4\n",
       "397       42       614        13  2021-08-17      8"
      ]
     },
     "execution_count": 27,
     "metadata": {},
     "output_type": "execute_result"
    }
   ],
   "source": [
    "#посмотрим на строки с distance меньше 800\n",
    "riders.query('distance < 800').head(10)"
   ]
  },
  {
   "cell_type": "code",
   "execution_count": 28,
   "id": "0f1650a8",
   "metadata": {},
   "outputs": [
    {
     "data": {
      "text/plain": [
       "0.05966349346911667"
      ]
     },
     "execution_count": 28,
     "metadata": {},
     "output_type": "execute_result"
    }
   ],
   "source": [
    "#процент поездок на короткие расстояния\n",
    "len(riders.query('distance < 800'))/len(riders)"
   ]
  },
  {
   "cell_type": "markdown",
   "id": "a1f31d22",
   "metadata": {},
   "source": [
    "Около 6% поездок меньше 800м, при этом значения времени подозрительно высоки, вероятно, возникли технические трудности. На это стоит обратить внимание, иначе это может привести к потере клиентов."
   ]
  },
  {
   "cell_type": "code",
   "execution_count": 29,
   "id": "882d638f",
   "metadata": {},
   "outputs": [
    {
     "data": {
      "text/html": [
       "<div>\n",
       "<style scoped>\n",
       "    .dataframe tbody tr th:only-of-type {\n",
       "        vertical-align: middle;\n",
       "    }\n",
       "\n",
       "    .dataframe tbody tr th {\n",
       "        vertical-align: top;\n",
       "    }\n",
       "\n",
       "    .dataframe thead th {\n",
       "        text-align: right;\n",
       "    }\n",
       "</style>\n",
       "<table border=\"1\" class=\"dataframe\">\n",
       "  <thead>\n",
       "    <tr style=\"text-align: right;\">\n",
       "      <th></th>\n",
       "      <th>user_id</th>\n",
       "      <th>distance</th>\n",
       "      <th>duration</th>\n",
       "      <th>date</th>\n",
       "      <th>month</th>\n",
       "    </tr>\n",
       "  </thead>\n",
       "  <tbody>\n",
       "    <tr>\n",
       "      <th>6860</th>\n",
       "      <td>724</td>\n",
       "      <td>6225</td>\n",
       "      <td>1</td>\n",
       "      <td>2021-12-16</td>\n",
       "      <td>12</td>\n",
       "    </tr>\n",
       "    <tr>\n",
       "      <th>7043</th>\n",
       "      <td>737</td>\n",
       "      <td>6386</td>\n",
       "      <td>26</td>\n",
       "      <td>2021-07-31</td>\n",
       "      <td>7</td>\n",
       "    </tr>\n",
       "    <tr>\n",
       "      <th>7052</th>\n",
       "      <td>738</td>\n",
       "      <td>6059</td>\n",
       "      <td>22</td>\n",
       "      <td>2021-05-02</td>\n",
       "      <td>5</td>\n",
       "    </tr>\n",
       "    <tr>\n",
       "      <th>7185</th>\n",
       "      <td>747</td>\n",
       "      <td>6010</td>\n",
       "      <td>19</td>\n",
       "      <td>2021-03-10</td>\n",
       "      <td>3</td>\n",
       "    </tr>\n",
       "    <tr>\n",
       "      <th>7612</th>\n",
       "      <td>780</td>\n",
       "      <td>6112</td>\n",
       "      <td>1</td>\n",
       "      <td>2021-11-23</td>\n",
       "      <td>11</td>\n",
       "    </tr>\n",
       "    <tr>\n",
       "      <th>7617</th>\n",
       "      <td>781</td>\n",
       "      <td>6105</td>\n",
       "      <td>20</td>\n",
       "      <td>2021-01-11</td>\n",
       "      <td>1</td>\n",
       "    </tr>\n",
       "    <tr>\n",
       "      <th>7632</th>\n",
       "      <td>781</td>\n",
       "      <td>6086</td>\n",
       "      <td>27</td>\n",
       "      <td>2021-12-21</td>\n",
       "      <td>12</td>\n",
       "    </tr>\n",
       "    <tr>\n",
       "      <th>7635</th>\n",
       "      <td>782</td>\n",
       "      <td>6395</td>\n",
       "      <td>29</td>\n",
       "      <td>2021-02-22</td>\n",
       "      <td>2</td>\n",
       "    </tr>\n",
       "    <tr>\n",
       "      <th>7830</th>\n",
       "      <td>795</td>\n",
       "      <td>6262</td>\n",
       "      <td>1</td>\n",
       "      <td>2021-09-09</td>\n",
       "      <td>9</td>\n",
       "    </tr>\n",
       "    <tr>\n",
       "      <th>7913</th>\n",
       "      <td>803</td>\n",
       "      <td>6427</td>\n",
       "      <td>17</td>\n",
       "      <td>2021-01-05</td>\n",
       "      <td>1</td>\n",
       "    </tr>\n",
       "  </tbody>\n",
       "</table>\n",
       "</div>"
      ],
      "text/plain": [
       "      user_id  distance  duration        date  month\n",
       "6860      724      6225         1  2021-12-16     12\n",
       "7043      737      6386        26  2021-07-31      7\n",
       "7052      738      6059        22  2021-05-02      5\n",
       "7185      747      6010        19  2021-03-10      3\n",
       "7612      780      6112         1  2021-11-23     11\n",
       "7617      781      6105        20  2021-01-11      1\n",
       "7632      781      6086        27  2021-12-21     12\n",
       "7635      782      6395        29  2021-02-22      2\n",
       "7830      795      6262         1  2021-09-09      9\n",
       "7913      803      6427        17  2021-01-05      1"
      ]
     },
     "execution_count": 29,
     "metadata": {},
     "output_type": "execute_result"
    }
   ],
   "source": [
    "#посмотрим на строки с distance больше 6000\n",
    "riders.query('distance > 6000').head(10)"
   ]
  },
  {
   "cell_type": "code",
   "execution_count": 30,
   "id": "6d6d8660",
   "metadata": {},
   "outputs": [
    {
     "data": {
      "text/plain": [
       "0.002545937569183086"
      ]
     },
     "execution_count": 30,
     "metadata": {},
     "output_type": "execute_result"
    }
   ],
   "source": [
    "#процент поездок на дальние расстояния\n",
    "len(riders.query('distance > 6000'))/len(riders)"
   ]
  },
  {
   "cell_type": "markdown",
   "id": "44f473fa",
   "metadata": {},
   "source": [
    "Меньше 1% поездок больше 6км. Присутствуют строки с временем поездки 1 минута, необходимо выяснить в чем проблема."
   ]
  },
  {
   "cell_type": "markdown",
   "id": "905fcdff",
   "metadata": {},
   "source": [
    "### Продолжительность поездок"
   ]
  },
  {
   "cell_type": "code",
   "execution_count": 31,
   "id": "b216aaf5",
   "metadata": {},
   "outputs": [
    {
     "data": {
      "text/plain": [
       "count    18068.000000\n",
       "mean        18.303520\n",
       "std          6.094928\n",
       "min          1.000000\n",
       "25%         14.000000\n",
       "50%         18.000000\n",
       "75%         22.000000\n",
       "max         41.000000\n",
       "Name: duration, dtype: float64"
      ]
     },
     "execution_count": 31,
     "metadata": {},
     "output_type": "execute_result"
    }
   ],
   "source": [
    "#исследуем продолжительность поездок\n",
    "riders['duration'].describe()"
   ]
  },
  {
   "cell_type": "markdown",
   "id": "00fd47ba",
   "metadata": {},
   "source": [
    "Медиана и среднее очень близки друг к другу."
   ]
  },
  {
   "cell_type": "code",
   "execution_count": 32,
   "id": "5fe34240",
   "metadata": {},
   "outputs": [
    {
     "data": {
      "text/plain": [
       "<Axes: >"
      ]
     },
     "execution_count": 32,
     "metadata": {},
     "output_type": "execute_result"
    },
    {
     "data": {
      "image/png": "[encoded data removed]",
      "text/plain": [
       "<Figure size 640x480 with 1 Axes>"
      ]
     },
     "metadata": {},
     "output_type": "display_data"
    }
   ],
   "source": [
    "#посмотрим на диаграмму размаха\n",
    "riders.boxplot('duration', vert = False)"
   ]
  },
  {
   "cell_type": "code",
   "execution_count": 33,
   "id": "32917260",
   "metadata": {},
   "outputs": [
    {
     "data": {
      "image/png": "[encoded data removed]",
      "text/plain": [
       "<Figure size 640x480 with 1 Axes>"
      ]
     },
     "metadata": {},
     "output_type": "display_data"
    }
   ],
   "source": [
    "plt.hist(riders['duration'], bins = 100)\n",
    "plt.title('Исследование продолжительности поездок')\n",
    "plt.xlabel('Время')\n",
    "plt.ylabel('Количество поездок')\n",
    "plt.show()"
   ]
  },
  {
   "cell_type": "markdown",
   "id": "4b09cafa",
   "metadata": {},
   "source": [
    "Распределеение похоже на нормальное, однако присутствует подозрительное большое количество поездок равных 1 минуте, рассмотрим их подробнее."
   ]
  },
  {
   "cell_type": "code",
   "execution_count": 34,
   "id": "179d29cc",
   "metadata": {},
   "outputs": [
    {
     "data": {
      "text/html": [
       "<div>\n",
       "<style scoped>\n",
       "    .dataframe tbody tr th:only-of-type {\n",
       "        vertical-align: middle;\n",
       "    }\n",
       "\n",
       "    .dataframe tbody tr th {\n",
       "        vertical-align: top;\n",
       "    }\n",
       "\n",
       "    .dataframe thead th {\n",
       "        text-align: right;\n",
       "    }\n",
       "</style>\n",
       "<table border=\"1\" class=\"dataframe\">\n",
       "  <thead>\n",
       "    <tr style=\"text-align: right;\">\n",
       "      <th></th>\n",
       "      <th>user_id</th>\n",
       "      <th>distance</th>\n",
       "      <th>duration</th>\n",
       "      <th>date</th>\n",
       "      <th>month</th>\n",
       "    </tr>\n",
       "  </thead>\n",
       "  <tbody>\n",
       "    <tr>\n",
       "      <th>6531</th>\n",
       "      <td>701</td>\n",
       "      <td>4196</td>\n",
       "      <td>1</td>\n",
       "      <td>2021-08-31</td>\n",
       "      <td>8</td>\n",
       "    </tr>\n",
       "    <tr>\n",
       "      <th>6570</th>\n",
       "      <td>704</td>\n",
       "      <td>4830</td>\n",
       "      <td>1</td>\n",
       "      <td>2021-10-14</td>\n",
       "      <td>10</td>\n",
       "    </tr>\n",
       "    <tr>\n",
       "      <th>6680</th>\n",
       "      <td>712</td>\n",
       "      <td>4684</td>\n",
       "      <td>1</td>\n",
       "      <td>2021-03-04</td>\n",
       "      <td>3</td>\n",
       "    </tr>\n",
       "    <tr>\n",
       "      <th>6695</th>\n",
       "      <td>713</td>\n",
       "      <td>5215</td>\n",
       "      <td>1</td>\n",
       "      <td>2021-02-25</td>\n",
       "      <td>2</td>\n",
       "    </tr>\n",
       "    <tr>\n",
       "      <th>6768</th>\n",
       "      <td>718</td>\n",
       "      <td>5197</td>\n",
       "      <td>1</td>\n",
       "      <td>2021-02-11</td>\n",
       "      <td>2</td>\n",
       "    </tr>\n",
       "    <tr>\n",
       "      <th>6860</th>\n",
       "      <td>724</td>\n",
       "      <td>6225</td>\n",
       "      <td>1</td>\n",
       "      <td>2021-12-16</td>\n",
       "      <td>12</td>\n",
       "    </tr>\n",
       "    <tr>\n",
       "      <th>6883</th>\n",
       "      <td>726</td>\n",
       "      <td>4452</td>\n",
       "      <td>1</td>\n",
       "      <td>2021-03-01</td>\n",
       "      <td>3</td>\n",
       "    </tr>\n",
       "    <tr>\n",
       "      <th>7018</th>\n",
       "      <td>735</td>\n",
       "      <td>4406</td>\n",
       "      <td>1</td>\n",
       "      <td>2021-04-13</td>\n",
       "      <td>4</td>\n",
       "    </tr>\n",
       "    <tr>\n",
       "      <th>7160</th>\n",
       "      <td>745</td>\n",
       "      <td>5286</td>\n",
       "      <td>1</td>\n",
       "      <td>2021-08-17</td>\n",
       "      <td>8</td>\n",
       "    </tr>\n",
       "    <tr>\n",
       "      <th>7364</th>\n",
       "      <td>760</td>\n",
       "      <td>4881</td>\n",
       "      <td>1</td>\n",
       "      <td>2021-08-29</td>\n",
       "      <td>8</td>\n",
       "    </tr>\n",
       "  </tbody>\n",
       "</table>\n",
       "</div>"
      ],
      "text/plain": [
       "      user_id  distance  duration        date  month\n",
       "6531      701      4196         1  2021-08-31      8\n",
       "6570      704      4830         1  2021-10-14     10\n",
       "6680      712      4684         1  2021-03-04      3\n",
       "6695      713      5215         1  2021-02-25      2\n",
       "6768      718      5197         1  2021-02-11      2\n",
       "6860      724      6225         1  2021-12-16     12\n",
       "6883      726      4452         1  2021-03-01      3\n",
       "7018      735      4406         1  2021-04-13      4\n",
       "7160      745      5286         1  2021-08-17      8\n",
       "7364      760      4881         1  2021-08-29      8"
      ]
     },
     "execution_count": 34,
     "metadata": {},
     "output_type": "execute_result"
    }
   ],
   "source": [
    "#посмотрим на поездки равные минуте\n",
    "riders.query('duration == 1').head(10)"
   ]
  },
  {
   "cell_type": "code",
   "execution_count": 35,
   "id": "f429808e",
   "metadata": {},
   "outputs": [
    {
     "data": {
      "text/plain": [
       "0.005257914545052026"
      ]
     },
     "execution_count": 35,
     "metadata": {},
     "output_type": "execute_result"
    }
   ],
   "source": [
    "len(riders.query('duration == 1'))/len(riders)"
   ]
  },
  {
   "cell_type": "markdown",
   "id": "31a79086",
   "metadata": {},
   "source": [
    "**Выводы по разделу**\n",
    " - больше всего пользователей в Пятигорске\n",
    " - 45% пользователей используют подписку\n",
    " - средний возраст пользователей 25 лет\n",
    " - в среднем поездка около 3 км и 18 минут\n",
    " - случаются технические ошибки при которых время поездки не записывается, что приводит к потере денег\n",
    " - также проблемы встречаются у пользователей, поэтому существуют поездки с большим временем и маленьким расстоянием"
   ]
  },
  {
   "cell_type": "markdown",
   "id": "4ef51331",
   "metadata": {},
   "source": [
    "##  Объединение данных"
   ]
  },
  {
   "cell_type": "code",
   "execution_count": 36,
   "id": "6bf288b5",
   "metadata": {},
   "outputs": [],
   "source": [
    "#объединим данные о пользователях, поездках, тарифах в один датафрейм\n",
    "data_total = users.merge(riders, on = 'user_id').merge(subscriptions, on = 'subscription_type')"
   ]
  },
  {
   "cell_type": "code",
   "execution_count": 37,
   "id": "1f9a5746",
   "metadata": {},
   "outputs": [
    {
     "data": {
      "text/plain": [
       "(18068, 12)"
      ]
     },
     "execution_count": 37,
     "metadata": {},
     "output_type": "execute_result"
    }
   ],
   "source": [
    "#проверим размерность объединенной таблицы\n",
    "data_total.shape"
   ]
  },
  {
   "cell_type": "code",
   "execution_count": 38,
   "id": "a41b99bb",
   "metadata": {},
   "outputs": [
    {
     "data": {
      "text/html": [
       "<div>\n",
       "<style scoped>\n",
       "    .dataframe tbody tr th:only-of-type {\n",
       "        vertical-align: middle;\n",
       "    }\n",
       "\n",
       "    .dataframe tbody tr th {\n",
       "        vertical-align: top;\n",
       "    }\n",
       "\n",
       "    .dataframe thead th {\n",
       "        text-align: right;\n",
       "    }\n",
       "</style>\n",
       "<table border=\"1\" class=\"dataframe\">\n",
       "  <thead>\n",
       "    <tr style=\"text-align: right;\">\n",
       "      <th></th>\n",
       "      <th>user_id</th>\n",
       "      <th>name</th>\n",
       "      <th>age</th>\n",
       "      <th>city</th>\n",
       "      <th>subscription_type</th>\n",
       "      <th>distance</th>\n",
       "      <th>duration</th>\n",
       "      <th>date</th>\n",
       "      <th>month</th>\n",
       "      <th>minute_price</th>\n",
       "      <th>start_ride_price</th>\n",
       "      <th>subscription_fee</th>\n",
       "    </tr>\n",
       "  </thead>\n",
       "  <tbody>\n",
       "    <tr>\n",
       "      <th>0</th>\n",
       "      <td>1</td>\n",
       "      <td>Кира</td>\n",
       "      <td>22</td>\n",
       "      <td>Тюмень</td>\n",
       "      <td>ultra</td>\n",
       "      <td>4409</td>\n",
       "      <td>26</td>\n",
       "      <td>2021-01-01</td>\n",
       "      <td>1</td>\n",
       "      <td>6</td>\n",
       "      <td>0</td>\n",
       "      <td>199</td>\n",
       "    </tr>\n",
       "    <tr>\n",
       "      <th>1</th>\n",
       "      <td>1</td>\n",
       "      <td>Кира</td>\n",
       "      <td>22</td>\n",
       "      <td>Тюмень</td>\n",
       "      <td>ultra</td>\n",
       "      <td>2617</td>\n",
       "      <td>16</td>\n",
       "      <td>2021-01-18</td>\n",
       "      <td>1</td>\n",
       "      <td>6</td>\n",
       "      <td>0</td>\n",
       "      <td>199</td>\n",
       "    </tr>\n",
       "    <tr>\n",
       "      <th>2</th>\n",
       "      <td>1</td>\n",
       "      <td>Кира</td>\n",
       "      <td>22</td>\n",
       "      <td>Тюмень</td>\n",
       "      <td>ultra</td>\n",
       "      <td>754</td>\n",
       "      <td>7</td>\n",
       "      <td>2021-04-20</td>\n",
       "      <td>4</td>\n",
       "      <td>6</td>\n",
       "      <td>0</td>\n",
       "      <td>199</td>\n",
       "    </tr>\n",
       "    <tr>\n",
       "      <th>3</th>\n",
       "      <td>1</td>\n",
       "      <td>Кира</td>\n",
       "      <td>22</td>\n",
       "      <td>Тюмень</td>\n",
       "      <td>ultra</td>\n",
       "      <td>2694</td>\n",
       "      <td>19</td>\n",
       "      <td>2021-08-11</td>\n",
       "      <td>8</td>\n",
       "      <td>6</td>\n",
       "      <td>0</td>\n",
       "      <td>199</td>\n",
       "    </tr>\n",
       "    <tr>\n",
       "      <th>4</th>\n",
       "      <td>1</td>\n",
       "      <td>Кира</td>\n",
       "      <td>22</td>\n",
       "      <td>Тюмень</td>\n",
       "      <td>ultra</td>\n",
       "      <td>4028</td>\n",
       "      <td>27</td>\n",
       "      <td>2021-08-28</td>\n",
       "      <td>8</td>\n",
       "      <td>6</td>\n",
       "      <td>0</td>\n",
       "      <td>199</td>\n",
       "    </tr>\n",
       "    <tr>\n",
       "      <th>5</th>\n",
       "      <td>1</td>\n",
       "      <td>Кира</td>\n",
       "      <td>22</td>\n",
       "      <td>Тюмень</td>\n",
       "      <td>ultra</td>\n",
       "      <td>2770</td>\n",
       "      <td>17</td>\n",
       "      <td>2021-10-09</td>\n",
       "      <td>10</td>\n",
       "      <td>6</td>\n",
       "      <td>0</td>\n",
       "      <td>199</td>\n",
       "    </tr>\n",
       "    <tr>\n",
       "      <th>6</th>\n",
       "      <td>1</td>\n",
       "      <td>Кира</td>\n",
       "      <td>22</td>\n",
       "      <td>Тюмень</td>\n",
       "      <td>ultra</td>\n",
       "      <td>3039</td>\n",
       "      <td>15</td>\n",
       "      <td>2021-10-19</td>\n",
       "      <td>10</td>\n",
       "      <td>6</td>\n",
       "      <td>0</td>\n",
       "      <td>199</td>\n",
       "    </tr>\n",
       "    <tr>\n",
       "      <th>7</th>\n",
       "      <td>1</td>\n",
       "      <td>Кира</td>\n",
       "      <td>22</td>\n",
       "      <td>Тюмень</td>\n",
       "      <td>ultra</td>\n",
       "      <td>2842</td>\n",
       "      <td>24</td>\n",
       "      <td>2021-11-06</td>\n",
       "      <td>11</td>\n",
       "      <td>6</td>\n",
       "      <td>0</td>\n",
       "      <td>199</td>\n",
       "    </tr>\n",
       "    <tr>\n",
       "      <th>8</th>\n",
       "      <td>1</td>\n",
       "      <td>Кира</td>\n",
       "      <td>22</td>\n",
       "      <td>Тюмень</td>\n",
       "      <td>ultra</td>\n",
       "      <td>3412</td>\n",
       "      <td>16</td>\n",
       "      <td>2021-11-14</td>\n",
       "      <td>11</td>\n",
       "      <td>6</td>\n",
       "      <td>0</td>\n",
       "      <td>199</td>\n",
       "    </tr>\n",
       "    <tr>\n",
       "      <th>9</th>\n",
       "      <td>1</td>\n",
       "      <td>Кира</td>\n",
       "      <td>22</td>\n",
       "      <td>Тюмень</td>\n",
       "      <td>ultra</td>\n",
       "      <td>748</td>\n",
       "      <td>16</td>\n",
       "      <td>2021-11-22</td>\n",
       "      <td>11</td>\n",
       "      <td>6</td>\n",
       "      <td>0</td>\n",
       "      <td>199</td>\n",
       "    </tr>\n",
       "  </tbody>\n",
       "</table>\n",
       "</div>"
      ],
      "text/plain": [
       "   user_id  name  age    city subscription_type  distance  duration  \\\n",
       "0        1  Кира   22  Тюмень             ultra      4409        26   \n",
       "1        1  Кира   22  Тюмень             ultra      2617        16   \n",
       "2        1  Кира   22  Тюмень             ultra       754         7   \n",
       "3        1  Кира   22  Тюмень             ultra      2694        19   \n",
       "4        1  Кира   22  Тюмень             ultra      4028        27   \n",
       "5        1  Кира   22  Тюмень             ultra      2770        17   \n",
       "6        1  Кира   22  Тюмень             ultra      3039        15   \n",
       "7        1  Кира   22  Тюмень             ultra      2842        24   \n",
       "8        1  Кира   22  Тюмень             ultra      3412        16   \n",
       "9        1  Кира   22  Тюмень             ultra       748        16   \n",
       "\n",
       "         date  month  minute_price  start_ride_price  subscription_fee  \n",
       "0  2021-01-01      1             6                 0               199  \n",
       "1  2021-01-18      1             6                 0               199  \n",
       "2  2021-04-20      4             6                 0               199  \n",
       "3  2021-08-11      8             6                 0               199  \n",
       "4  2021-08-28      8             6                 0               199  \n",
       "5  2021-10-09     10             6                 0               199  \n",
       "6  2021-10-19     10             6                 0               199  \n",
       "7  2021-11-06     11             6                 0               199  \n",
       "8  2021-11-14     11             6                 0               199  \n",
       "9  2021-11-22     11             6                 0               199  "
      ]
     },
     "execution_count": 38,
     "metadata": {},
     "output_type": "execute_result"
    }
   ],
   "source": [
    "data_total.head(10)"
   ]
  },
  {
   "cell_type": "code",
   "execution_count": 39,
   "id": "41eccdd5",
   "metadata": {},
   "outputs": [],
   "source": [
    "#создадим два датафрейма, один для пользователей с подпиской, другой для пользоваталей без подписки\n",
    "subscription_free = data_total.query('subscription_type == \"free\"')\n",
    "subscription_ultra = data_total.query('subscription_type == \"ultra\"')"
   ]
  },
  {
   "cell_type": "code",
   "execution_count": 40,
   "id": "6202686a",
   "metadata": {},
   "outputs": [
    {
     "data": {
      "image/png": "[encoded data removed]",
      "text/plain": [
       "<Figure size 640x480 with 1 Axes>"
      ]
     },
     "metadata": {},
     "output_type": "display_data"
    }
   ],
   "source": [
    "plt.hist(subscription_free['distance'], bins = 100, alpha=0.5, label = 'free')\n",
    "plt.hist(subscription_ultra['distance'], bins = 100, color = 'green', alpha=0.4, label = 'ultra')\n",
    "plt.title('Исследование расстояния')\n",
    "plt.xlabel('Расстояние')\n",
    "plt.ylabel('Количество поездок')\n",
    "plt.legend()\n",
    "plt.show()"
   ]
  },
  {
   "cell_type": "markdown",
   "id": "1b14da57",
   "metadata": {},
   "source": [
    "У пользователей без подписки больше коротких поездок, чем у пользователей c подпиской. График у пользователей без подписки уже, разброс расстояния меньше."
   ]
  },
  {
   "cell_type": "code",
   "execution_count": 41,
   "id": "965b575e",
   "metadata": {
    "scrolled": true
   },
   "outputs": [
    {
     "data": {
      "image/png": "[encoded data removed]",
      "text/plain": [
       "<Figure size 640x480 with 1 Axes>"
      ]
     },
     "metadata": {},
     "output_type": "display_data"
    }
   ],
   "source": [
    "plt.hist(subscription_free['duration'], bins = 100, alpha = 0.6, label = 'free')\n",
    "plt.hist(subscription_ultra['duration'], bins = 100, color = 'green', alpha = 0.7, label = 'ultra')\n",
    "plt.title('Исследование продолжительности поездок')\n",
    "plt.xlabel('Время')\n",
    "plt.ylabel('Количество поездок')\n",
    "plt.legend()\n",
    "plt.show()"
   ]
  },
  {
   "cell_type": "markdown",
   "id": "f1d9f493",
   "metadata": {},
   "source": [
    "Распределения похожи на нормальные, график пользователей с подпиской смещен вправо,можно предположить,что пользователи с подпиской тратят больше времени."
   ]
  },
  {
   "cell_type": "markdown",
   "id": "3ba116c6",
   "metadata": {},
   "source": [
    "**Выводы по разделу**\n",
    "- данные о пользователях, поездках и подписках объеденины в один датафрейм\n",
    "- созданы два отдельных датафрейма для пользователей с подпиской и без\n",
    "- разброс расстояний у пользоваталей с подпиской меньше\n",
    "- пользователи с подпиской тратят чуть больше времени на поездки"
   ]
  },
  {
   "cell_type": "markdown",
   "id": "402d620f",
   "metadata": {},
   "source": [
    "##  Подсчёт выручки"
   ]
  },
  {
   "cell_type": "code",
   "execution_count": 42,
   "id": "53049e0a",
   "metadata": {
    "scrolled": true
   },
   "outputs": [],
   "source": [
    "#с помощью сводной таблицы посчитаем найдите суммарное расстояние, количество поездок и суммарное время для каждого пользователя за каждый месяц\n",
    "agg_data = data_total.pivot_table(index = ['user_id','month'],\n",
    "                                  values = ['name','distance', 'duration','subscription_type', 'minute_price', 'start_ride_price',\n",
    "                                            'subscription_fee'],\n",
    "                                  aggfunc = {'name':'count','distance':'sum', 'duration':'sum','subscription_type':'first','minute_price':'first',\n",
    "                                             'start_ride_price':'first', 'subscription_fee':'first' })"
   ]
  },
  {
   "cell_type": "code",
   "execution_count": 43,
   "id": "e1352b39",
   "metadata": {
    "scrolled": true
   },
   "outputs": [
    {
     "data": {
      "text/html": [
       "<div>\n",
       "<style scoped>\n",
       "    .dataframe tbody tr th:only-of-type {\n",
       "        vertical-align: middle;\n",
       "    }\n",
       "\n",
       "    .dataframe tbody tr th {\n",
       "        vertical-align: top;\n",
       "    }\n",
       "\n",
       "    .dataframe thead th {\n",
       "        text-align: right;\n",
       "    }\n",
       "</style>\n",
       "<table border=\"1\" class=\"dataframe\">\n",
       "  <thead>\n",
       "    <tr style=\"text-align: right;\">\n",
       "      <th></th>\n",
       "      <th></th>\n",
       "      <th>distance</th>\n",
       "      <th>duration</th>\n",
       "      <th>minute_price</th>\n",
       "      <th>ride_count</th>\n",
       "      <th>start_ride_price</th>\n",
       "      <th>subscription_fee</th>\n",
       "      <th>subscription_type</th>\n",
       "    </tr>\n",
       "    <tr>\n",
       "      <th>user_id</th>\n",
       "      <th>month</th>\n",
       "      <th></th>\n",
       "      <th></th>\n",
       "      <th></th>\n",
       "      <th></th>\n",
       "      <th></th>\n",
       "      <th></th>\n",
       "      <th></th>\n",
       "    </tr>\n",
       "  </thead>\n",
       "  <tbody>\n",
       "    <tr>\n",
       "      <th rowspan=\"5\" valign=\"top\">1</th>\n",
       "      <th>1</th>\n",
       "      <td>7026</td>\n",
       "      <td>42</td>\n",
       "      <td>6</td>\n",
       "      <td>2</td>\n",
       "      <td>0</td>\n",
       "      <td>199</td>\n",
       "      <td>ultra</td>\n",
       "    </tr>\n",
       "    <tr>\n",
       "      <th>4</th>\n",
       "      <td>754</td>\n",
       "      <td>7</td>\n",
       "      <td>6</td>\n",
       "      <td>1</td>\n",
       "      <td>0</td>\n",
       "      <td>199</td>\n",
       "      <td>ultra</td>\n",
       "    </tr>\n",
       "    <tr>\n",
       "      <th>8</th>\n",
       "      <td>6722</td>\n",
       "      <td>46</td>\n",
       "      <td>6</td>\n",
       "      <td>2</td>\n",
       "      <td>0</td>\n",
       "      <td>199</td>\n",
       "      <td>ultra</td>\n",
       "    </tr>\n",
       "    <tr>\n",
       "      <th>10</th>\n",
       "      <td>5809</td>\n",
       "      <td>32</td>\n",
       "      <td>6</td>\n",
       "      <td>2</td>\n",
       "      <td>0</td>\n",
       "      <td>199</td>\n",
       "      <td>ultra</td>\n",
       "    </tr>\n",
       "    <tr>\n",
       "      <th>11</th>\n",
       "      <td>7002</td>\n",
       "      <td>56</td>\n",
       "      <td>6</td>\n",
       "      <td>3</td>\n",
       "      <td>0</td>\n",
       "      <td>199</td>\n",
       "      <td>ultra</td>\n",
       "    </tr>\n",
       "    <tr>\n",
       "      <th>...</th>\n",
       "      <th>...</th>\n",
       "      <td>...</td>\n",
       "      <td>...</td>\n",
       "      <td>...</td>\n",
       "      <td>...</td>\n",
       "      <td>...</td>\n",
       "      <td>...</td>\n",
       "      <td>...</td>\n",
       "    </tr>\n",
       "    <tr>\n",
       "      <th rowspan=\"5\" valign=\"top\">1534</th>\n",
       "      <th>6</th>\n",
       "      <td>3409</td>\n",
       "      <td>26</td>\n",
       "      <td>8</td>\n",
       "      <td>2</td>\n",
       "      <td>50</td>\n",
       "      <td>0</td>\n",
       "      <td>free</td>\n",
       "    </tr>\n",
       "    <tr>\n",
       "      <th>8</th>\n",
       "      <td>7621</td>\n",
       "      <td>48</td>\n",
       "      <td>8</td>\n",
       "      <td>2</td>\n",
       "      <td>50</td>\n",
       "      <td>0</td>\n",
       "      <td>free</td>\n",
       "    </tr>\n",
       "    <tr>\n",
       "      <th>9</th>\n",
       "      <td>4928</td>\n",
       "      <td>23</td>\n",
       "      <td>8</td>\n",
       "      <td>1</td>\n",
       "      <td>50</td>\n",
       "      <td>0</td>\n",
       "      <td>free</td>\n",
       "    </tr>\n",
       "    <tr>\n",
       "      <th>11</th>\n",
       "      <td>13349</td>\n",
       "      <td>78</td>\n",
       "      <td>8</td>\n",
       "      <td>4</td>\n",
       "      <td>50</td>\n",
       "      <td>0</td>\n",
       "      <td>free</td>\n",
       "    </tr>\n",
       "    <tr>\n",
       "      <th>12</th>\n",
       "      <td>2371</td>\n",
       "      <td>16</td>\n",
       "      <td>8</td>\n",
       "      <td>1</td>\n",
       "      <td>50</td>\n",
       "      <td>0</td>\n",
       "      <td>free</td>\n",
       "    </tr>\n",
       "  </tbody>\n",
       "</table>\n",
       "<p>11331 rows × 7 columns</p>\n",
       "</div>"
      ],
      "text/plain": [
       "               distance  duration  minute_price  ride_count  start_ride_price  \\\n",
       "user_id month                                                                   \n",
       "1       1          7026        42             6           2                 0   \n",
       "        4           754         7             6           1                 0   \n",
       "        8          6722        46             6           2                 0   \n",
       "        10         5809        32             6           2                 0   \n",
       "        11         7002        56             6           3                 0   \n",
       "...                 ...       ...           ...         ...               ...   \n",
       "1534    6          3409        26             8           2                50   \n",
       "        8          7621        48             8           2                50   \n",
       "        9          4928        23             8           1                50   \n",
       "        11        13349        78             8           4                50   \n",
       "        12         2371        16             8           1                50   \n",
       "\n",
       "               subscription_fee subscription_type  \n",
       "user_id month                                      \n",
       "1       1                   199             ultra  \n",
       "        4                   199             ultra  \n",
       "        8                   199             ultra  \n",
       "        10                  199             ultra  \n",
       "        11                  199             ultra  \n",
       "...                         ...               ...  \n",
       "1534    6                     0              free  \n",
       "        8                     0              free  \n",
       "        9                     0              free  \n",
       "        11                    0              free  \n",
       "        12                    0              free  \n",
       "\n",
       "[11331 rows x 7 columns]"
      ]
     },
     "execution_count": 43,
     "metadata": {},
     "output_type": "execute_result"
    }
   ],
   "source": [
    "#переименуем столбец \n",
    "agg_data.rename(columns = {'name':'ride_count'}, inplace = True)\n",
    "agg_data"
   ]
  },
  {
   "cell_type": "code",
   "execution_count": 44,
   "id": "0f3e69d2",
   "metadata": {},
   "outputs": [],
   "source": [
    "#создадим функцию для подсчета выручки\n",
    "def profit(row):\n",
    "    duration = row['duration']\n",
    "    ride_count = row['ride_count']\n",
    "    minute_price = row['minute_price']\n",
    "    start_ride_price = row['start_ride_price']\n",
    "    subscription_fee = row['subscription_fee']\n",
    "    return (ride_count*start_ride_price + minute_price*duration + subscription_fee)  "
   ]
  },
  {
   "cell_type": "code",
   "execution_count": 45,
   "id": "6a732806",
   "metadata": {
    "scrolled": true
   },
   "outputs": [
    {
     "data": {
      "text/html": [
       "<div>\n",
       "<style scoped>\n",
       "    .dataframe tbody tr th:only-of-type {\n",
       "        vertical-align: middle;\n",
       "    }\n",
       "\n",
       "    .dataframe tbody tr th {\n",
       "        vertical-align: top;\n",
       "    }\n",
       "\n",
       "    .dataframe thead th {\n",
       "        text-align: right;\n",
       "    }\n",
       "</style>\n",
       "<table border=\"1\" class=\"dataframe\">\n",
       "  <thead>\n",
       "    <tr style=\"text-align: right;\">\n",
       "      <th></th>\n",
       "      <th></th>\n",
       "      <th>distance</th>\n",
       "      <th>duration</th>\n",
       "      <th>minute_price</th>\n",
       "      <th>ride_count</th>\n",
       "      <th>start_ride_price</th>\n",
       "      <th>subscription_fee</th>\n",
       "      <th>subscription_type</th>\n",
       "      <th>profit</th>\n",
       "    </tr>\n",
       "    <tr>\n",
       "      <th>user_id</th>\n",
       "      <th>month</th>\n",
       "      <th></th>\n",
       "      <th></th>\n",
       "      <th></th>\n",
       "      <th></th>\n",
       "      <th></th>\n",
       "      <th></th>\n",
       "      <th></th>\n",
       "      <th></th>\n",
       "    </tr>\n",
       "  </thead>\n",
       "  <tbody>\n",
       "    <tr>\n",
       "      <th rowspan=\"5\" valign=\"top\">1</th>\n",
       "      <th>1</th>\n",
       "      <td>7026</td>\n",
       "      <td>42</td>\n",
       "      <td>6</td>\n",
       "      <td>2</td>\n",
       "      <td>0</td>\n",
       "      <td>199</td>\n",
       "      <td>ultra</td>\n",
       "      <td>451</td>\n",
       "    </tr>\n",
       "    <tr>\n",
       "      <th>4</th>\n",
       "      <td>754</td>\n",
       "      <td>7</td>\n",
       "      <td>6</td>\n",
       "      <td>1</td>\n",
       "      <td>0</td>\n",
       "      <td>199</td>\n",
       "      <td>ultra</td>\n",
       "      <td>241</td>\n",
       "    </tr>\n",
       "    <tr>\n",
       "      <th>8</th>\n",
       "      <td>6722</td>\n",
       "      <td>46</td>\n",
       "      <td>6</td>\n",
       "      <td>2</td>\n",
       "      <td>0</td>\n",
       "      <td>199</td>\n",
       "      <td>ultra</td>\n",
       "      <td>475</td>\n",
       "    </tr>\n",
       "    <tr>\n",
       "      <th>10</th>\n",
       "      <td>5809</td>\n",
       "      <td>32</td>\n",
       "      <td>6</td>\n",
       "      <td>2</td>\n",
       "      <td>0</td>\n",
       "      <td>199</td>\n",
       "      <td>ultra</td>\n",
       "      <td>391</td>\n",
       "    </tr>\n",
       "    <tr>\n",
       "      <th>11</th>\n",
       "      <td>7002</td>\n",
       "      <td>56</td>\n",
       "      <td>6</td>\n",
       "      <td>3</td>\n",
       "      <td>0</td>\n",
       "      <td>199</td>\n",
       "      <td>ultra</td>\n",
       "      <td>535</td>\n",
       "    </tr>\n",
       "    <tr>\n",
       "      <th>...</th>\n",
       "      <th>...</th>\n",
       "      <td>...</td>\n",
       "      <td>...</td>\n",
       "      <td>...</td>\n",
       "      <td>...</td>\n",
       "      <td>...</td>\n",
       "      <td>...</td>\n",
       "      <td>...</td>\n",
       "      <td>...</td>\n",
       "    </tr>\n",
       "    <tr>\n",
       "      <th rowspan=\"5\" valign=\"top\">1534</th>\n",
       "      <th>6</th>\n",
       "      <td>3409</td>\n",
       "      <td>26</td>\n",
       "      <td>8</td>\n",
       "      <td>2</td>\n",
       "      <td>50</td>\n",
       "      <td>0</td>\n",
       "      <td>free</td>\n",
       "      <td>308</td>\n",
       "    </tr>\n",
       "    <tr>\n",
       "      <th>8</th>\n",
       "      <td>7621</td>\n",
       "      <td>48</td>\n",
       "      <td>8</td>\n",
       "      <td>2</td>\n",
       "      <td>50</td>\n",
       "      <td>0</td>\n",
       "      <td>free</td>\n",
       "      <td>484</td>\n",
       "    </tr>\n",
       "    <tr>\n",
       "      <th>9</th>\n",
       "      <td>4928</td>\n",
       "      <td>23</td>\n",
       "      <td>8</td>\n",
       "      <td>1</td>\n",
       "      <td>50</td>\n",
       "      <td>0</td>\n",
       "      <td>free</td>\n",
       "      <td>234</td>\n",
       "    </tr>\n",
       "    <tr>\n",
       "      <th>11</th>\n",
       "      <td>13349</td>\n",
       "      <td>78</td>\n",
       "      <td>8</td>\n",
       "      <td>4</td>\n",
       "      <td>50</td>\n",
       "      <td>0</td>\n",
       "      <td>free</td>\n",
       "      <td>824</td>\n",
       "    </tr>\n",
       "    <tr>\n",
       "      <th>12</th>\n",
       "      <td>2371</td>\n",
       "      <td>16</td>\n",
       "      <td>8</td>\n",
       "      <td>1</td>\n",
       "      <td>50</td>\n",
       "      <td>0</td>\n",
       "      <td>free</td>\n",
       "      <td>178</td>\n",
       "    </tr>\n",
       "  </tbody>\n",
       "</table>\n",
       "<p>11331 rows × 8 columns</p>\n",
       "</div>"
      ],
      "text/plain": [
       "               distance  duration  minute_price  ride_count  start_ride_price  \\\n",
       "user_id month                                                                   \n",
       "1       1          7026        42             6           2                 0   \n",
       "        4           754         7             6           1                 0   \n",
       "        8          6722        46             6           2                 0   \n",
       "        10         5809        32             6           2                 0   \n",
       "        11         7002        56             6           3                 0   \n",
       "...                 ...       ...           ...         ...               ...   \n",
       "1534    6          3409        26             8           2                50   \n",
       "        8          7621        48             8           2                50   \n",
       "        9          4928        23             8           1                50   \n",
       "        11        13349        78             8           4                50   \n",
       "        12         2371        16             8           1                50   \n",
       "\n",
       "               subscription_fee subscription_type  profit  \n",
       "user_id month                                              \n",
       "1       1                   199             ultra     451  \n",
       "        4                   199             ultra     241  \n",
       "        8                   199             ultra     475  \n",
       "        10                  199             ultra     391  \n",
       "        11                  199             ultra     535  \n",
       "...                         ...               ...     ...  \n",
       "1534    6                     0              free     308  \n",
       "        8                     0              free     484  \n",
       "        9                     0              free     234  \n",
       "        11                    0              free     824  \n",
       "        12                    0              free     178  \n",
       "\n",
       "[11331 rows x 8 columns]"
      ]
     },
     "execution_count": 45,
     "metadata": {},
     "output_type": "execute_result"
    }
   ],
   "source": [
    "#добавим столбец с помесячной выручкой\n",
    "agg_data['profit'] = agg_data.apply(profit, axis = 1)\n",
    "agg_data"
   ]
  },
  {
   "cell_type": "markdown",
   "id": "fff72013",
   "metadata": {},
   "source": [
    "**Выводы по разделу**\n",
    "- создан датафрейм с агрегированными данными, с помощью которого найдено суммарное расстояние, количество поездок и суммарное время для каждого пользователя за каждый месяц\n",
    "- в датафрейм добавлен столбец с помесячной выручкой"
   ]
  },
  {
   "cell_type": "markdown",
   "id": "41545ac0",
   "metadata": {},
   "source": [
    "##  Проверка гипотез"
   ]
  },
  {
   "cell_type": "code",
   "execution_count": 46,
   "id": "e096a01b",
   "metadata": {},
   "outputs": [],
   "source": [
    "#создадим функцию для принятия решения верна ли гипотеза\n",
    "def deny_or_no(results, alpha):\n",
    "    if results.pvalue < alpha:\n",
    "        return ('Отвергаем нулевую гипотезу')\n",
    "    else:\n",
    "        return ('Нет оснований отвергнуть нулевую гипотезу')"
   ]
  },
  {
   "cell_type": "markdown",
   "id": "43c91661",
   "metadata": {},
   "source": [
    "### Нулевая гипотеза: пользователи с подпиской и без тратят одинаковое количество времени на поездки"
   ]
  },
  {
   "cell_type": "markdown",
   "id": "2c31880a",
   "metadata": {},
   "source": [
    "<br> Альтернативная гипотеза: пользователи с подпиской тратят больше времени на поездки, чем пользователи без нее.<br> Для проверки используем метод scipy.stats.ttest_ind()."
   ]
  },
  {
   "cell_type": "code",
   "execution_count": 47,
   "id": "23ea867b",
   "metadata": {},
   "outputs": [
    {
     "data": {
      "text/plain": [
       "'p-значение:'"
      ]
     },
     "metadata": {},
     "output_type": "display_data"
    },
    {
     "data": {
      "text/plain": [
       "2.4959453720736625e-34"
      ]
     },
     "metadata": {},
     "output_type": "display_data"
    }
   ],
   "source": [
    "#проверяем гипотезу\n",
    "duration_free = subscription_free['duration']\n",
    "duration_ultra = subscription_ultra['duration']\n",
    "duration_results = st.ttest_ind(duration_ultra, duration_free, alternative='greater')\n",
    "display('p-значение:', duration_results.pvalue)"
   ]
  },
  {
   "cell_type": "code",
   "execution_count": 48,
   "id": "8ae20ee8",
   "metadata": {},
   "outputs": [
    {
     "data": {
      "text/plain": [
       "'Отвергаем нулевую гипотезу'"
      ]
     },
     "execution_count": 48,
     "metadata": {},
     "output_type": "execute_result"
    }
   ],
   "source": [
    "deny_or_no(duration_results, 0.01)"
   ]
  },
  {
   "cell_type": "markdown",
   "id": "75fdba53",
   "metadata": {},
   "source": [
    "Пользователи с подпиской тратят больше времени на поездки, чем пользователи без подписки."
   ]
  },
  {
   "cell_type": "markdown",
   "id": "dc977c1a",
   "metadata": {},
   "source": [
    "### Нулевая гипотеза: среднее расстояние, которое проезжают пользователи с подпиской за одну поездку, не превышает 3130 метров<br>"
   ]
  },
  {
   "cell_type": "markdown",
   "id": "652b96db",
   "metadata": {},
   "source": [
    "Альтернативная гипотеза: среднее расстояние, которое проезжают пользователи с подпиской за одну поездку, превышает 3130 метров.\n",
    "Для проверки гипотезы используем метод st.ttest_1samp."
   ]
  },
  {
   "cell_type": "code",
   "execution_count": 49,
   "id": "073f5720",
   "metadata": {},
   "outputs": [
    {
     "data": {
      "text/plain": [
       "'p-значение:'"
      ]
     },
     "metadata": {},
     "output_type": "display_data"
    },
    {
     "data": {
      "text/plain": [
       "0.9264356652998772"
      ]
     },
     "metadata": {},
     "output_type": "display_data"
    }
   ],
   "source": [
    "distance_ultra = subscription_ultra['distance']\n",
    "prev_distance_value = 3130\n",
    "distance_results = st.ttest_1samp(distance_ultra, prev_distance_value, alternative='greater')\n",
    "display('p-значение:', distance_results.pvalue)"
   ]
  },
  {
   "cell_type": "code",
   "execution_count": 50,
   "id": "f5844ce9",
   "metadata": {},
   "outputs": [
    {
     "data": {
      "text/plain": [
       "'Нет оснований отвергнуть нулевую гипотезу'"
      ]
     },
     "execution_count": 50,
     "metadata": {},
     "output_type": "execute_result"
    }
   ],
   "source": [
    "deny_or_no(distance_results, 0.01)"
   ]
  },
  {
   "cell_type": "markdown",
   "id": "e3d39882",
   "metadata": {},
   "source": [
    "93% пользователей c подпиской не проезжают больше 3130 метров за одну поездку."
   ]
  },
  {
   "cell_type": "markdown",
   "id": "9653498e",
   "metadata": {},
   "source": [
    "### Нулевая гипотеза: помесячная выручка от пользователей по месяцам для пользователей с подпиской и без равна<br>\n",
    "Альтернативная гипотеза: помесячная выручка от пользователей с подпиской по месяцам выше, чем у пользователей без подписки.<br>"
   ]
  },
  {
   "cell_type": "code",
   "execution_count": 51,
   "id": "e7cac3d8",
   "metadata": {},
   "outputs": [
    {
     "data": {
      "text/plain": [
       "'p-значение:'"
      ]
     },
     "metadata": {},
     "output_type": "display_data"
    },
    {
     "data": {
      "text/plain": [
       "1.8850394384715216e-31"
      ]
     },
     "metadata": {},
     "output_type": "display_data"
    }
   ],
   "source": [
    "profit_month_free = agg_data.query('subscription_type == \"free\"')['profit']\n",
    "profit_month_ultra = agg_data.query('subscription_type == \"ultra\"')['profit']\n",
    "profit_results = st.ttest_ind(profit_month_ultra, profit_month_free, alternative='greater')\n",
    "display('p-значение:', profit_results.pvalue)"
   ]
  },
  {
   "cell_type": "code",
   "execution_count": 52,
   "id": "1ced6ab3",
   "metadata": {},
   "outputs": [
    {
     "data": {
      "text/plain": [
       "'Отвергаем нулевую гипотезу'"
      ]
     },
     "execution_count": 52,
     "metadata": {},
     "output_type": "execute_result"
    }
   ],
   "source": [
    "deny_or_no(profit_results, 0.01)"
   ]
  },
  {
   "cell_type": "markdown",
   "id": "79384320",
   "metadata": {},
   "source": [
    "Выручка от пользователей с подпиской выше, чем у пользователей без подписки."
   ]
  },
  {
   "cell_type": "markdown",
   "id": "0f376945",
   "metadata": {},
   "source": [
    "### Гипотеза: после обновления мобильного приложения количество обращений в тех. поддержку снизилось\n",
    "Техническая команда сервиса обновила сервера, с которыми взаимодействует мобильное приложение. Она надеется, что из-за этого количество обращений в техподдержку значимо снизилось. Некоторый файл содержит для каждого пользователя данные о количестве обращений до обновления и после него. Для проверки этой гипотезы будем использовать метод scipy.stats.ttest_rel, потому что речь идет о парных выборках: до изменения и после."
   ]
  },
  {
   "cell_type": "markdown",
   "id": "df42a2cf",
   "metadata": {},
   "source": [
    "**Выводы по разделу**\n",
    "- пользователи с подпиской тратят больше времени на поездки, чем пользователи без подписки\n",
    "- среднее расстояние, которое проезжают пользователи с подпиской за одну поездку, не превышает 3130\n",
    "- выручка от пользователей с подпиской выше, чем у пользователей без подписки"
   ]
  },
  {
   "cell_type": "markdown",
   "id": "4eae8db6",
   "metadata": {},
   "source": [
    "##  Общий вывод"
   ]
  },
  {
   "cell_type": "markdown",
   "id": "420412a8",
   "metadata": {},
   "source": [
    "В ходе работы было проведено исследование сервиса аренды самокатов. Входными данными являются – данные о некоторых пользователях из нескольких городов, а также об их поездках.\n",
    "\n",
    "В первом разделе проведена загрузка данных и представлена основная информация об этих данных. В результате предобработки во втором разделе были удалены явные дубликаты в датафрейме users, добавлен столбец с номером месяца в riders, проведено округление и изменение типов данных там, где это необходимо.\n",
    "\n",
    "Исследовательский анализ данных был посвящен 4 исследованиям: частоте встречаемости городов, соотношением пользователей с подпиской и без, расстоянию одной поездки, продолжительноти поездок. В результате данного раздела были сделаны следующие выводы:\n",
    "- больше всего пользователей из Пятигорска\n",
    "- 45% пользователей используют подписку\n",
    "- средний возраст пользователей 25 лет\n",
    "- средняя дальность поездки 3км\n",
    "- средняя продолжительность поездки 18 минут\n",
    "- случаются технические ошибки при которых время поездки не записывается, что приводит к потере денег\n",
    "- также проблемы встречаются у пользователей, поэтому существуют поездки с большим временем и маленьким расстоянием.\n",
    "\n",
    "В четвертом разделе в один датафрейм были объеденены данные о пользователях, поездках и тарифах. В пятом разделе \n",
    "найдено суммарное расстояние, количество поездок,суммарное время и выручка для каждого пользователя за каждый месяц.\n",
    "\n",
    "Шестой раздел был посвящен проверке гипотез. Гипотеза 6.1 была опровергнута в пользу альтернативной \"пользователи с подпиской тратят больше времени на поездки, чем пользователи без подписки.\" Гипотеза 6.2 не была опровергнута \"среднее расстояние, которое проезжают пользователи с подпиской за одну поездку, не превышает 3130 метров\". Гипотеза 6.3 была опровергнута в пользу альтернативной \"выручка от пользователей с подпиской выше, чем у пользователей без подписки\". В разделе 6.4 был предложен метод для решения задачи.\n",
    "\n",
    "**Основной вывод:** пользователи с подпиской тратят больше времени на поездки. 93% поездок пользователей с подпиской не превышают расстояние 3130, что соотвествует лучшей износостойкости самокатов. Пользователи с подпиской в среднем приносят больше денег, поэтому стоит увеличивать эту категорию пользователей."
   ]
  }
 ],
 "metadata": {
  "ExecuteTimeLog": [
   {
    "duration": 50,
    "start_time": "2023-11-10T18:54:44.199Z"
   },
   {
    "duration": 404,
    "start_time": "2023-11-10T18:54:50.227Z"
   },
   {
    "duration": 192,
    "start_time": "2023-11-10T18:54:53.699Z"
   },
   {
    "duration": 12,
    "start_time": "2023-11-10T18:56:07.386Z"
   },
   {
    "duration": 14,
    "start_time": "2023-11-10T18:56:25.331Z"
   },
   {
    "duration": 9,
    "start_time": "2023-11-10T18:56:32.081Z"
   },
   {
    "duration": 11,
    "start_time": "2023-11-10T18:57:03.968Z"
   },
   {
    "duration": 9,
    "start_time": "2023-11-10T18:57:29.286Z"
   },
   {
    "duration": 9,
    "start_time": "2023-11-10T18:57:34.438Z"
   },
   {
    "duration": 10,
    "start_time": "2023-11-10T18:58:16.483Z"
   },
   {
    "duration": 8,
    "start_time": "2023-11-10T18:58:53.573Z"
   },
   {
    "duration": 8,
    "start_time": "2023-11-10T18:59:15.853Z"
   },
   {
    "duration": 448,
    "start_time": "2023-11-13T18:10:04.194Z"
   },
   {
    "duration": 220,
    "start_time": "2023-11-13T18:10:04.650Z"
   },
   {
    "duration": 28,
    "start_time": "2023-11-13T18:10:04.872Z"
   },
   {
    "duration": 41,
    "start_time": "2023-11-13T18:10:04.901Z"
   },
   {
    "duration": 39,
    "start_time": "2023-11-13T18:10:04.944Z"
   },
   {
    "duration": 21,
    "start_time": "2023-11-13T18:10:04.985Z"
   },
   {
    "duration": 10,
    "start_time": "2023-11-13T18:10:05.009Z"
   },
   {
    "duration": 21,
    "start_time": "2023-11-13T18:10:05.021Z"
   },
   {
    "duration": 5,
    "start_time": "2023-11-13T18:11:38.845Z"
   },
   {
    "duration": 91,
    "start_time": "2023-11-13T18:11:45.520Z"
   },
   {
    "duration": 5,
    "start_time": "2023-11-13T18:11:52.421Z"
   },
   {
    "duration": 2,
    "start_time": "2023-11-13T18:48:34.388Z"
   },
   {
    "duration": 94,
    "start_time": "2023-11-13T18:48:34.392Z"
   },
   {
    "duration": 10,
    "start_time": "2023-11-13T18:48:34.487Z"
   },
   {
    "duration": 29,
    "start_time": "2023-11-13T18:48:34.498Z"
   },
   {
    "duration": 35,
    "start_time": "2023-11-13T18:48:34.528Z"
   },
   {
    "duration": 14,
    "start_time": "2023-11-13T18:48:34.564Z"
   },
   {
    "duration": 25,
    "start_time": "2023-11-13T18:48:34.580Z"
   },
   {
    "duration": 25,
    "start_time": "2023-11-13T18:48:34.606Z"
   },
   {
    "duration": 19,
    "start_time": "2023-11-13T18:48:34.633Z"
   },
   {
    "duration": 36,
    "start_time": "2023-11-13T18:48:34.653Z"
   },
   {
    "duration": 9,
    "start_time": "2023-11-13T19:08:36.404Z"
   },
   {
    "duration": 5,
    "start_time": "2023-11-13T19:08:42.937Z"
   },
   {
    "duration": 4,
    "start_time": "2023-11-13T19:10:54.287Z"
   },
   {
    "duration": 6,
    "start_time": "2023-11-13T19:11:20.814Z"
   },
   {
    "duration": 15,
    "start_time": "2023-11-13T19:15:07.666Z"
   },
   {
    "duration": 13,
    "start_time": "2023-11-13T19:15:33.159Z"
   },
   {
    "duration": 4,
    "start_time": "2023-11-13T19:18:06.732Z"
   },
   {
    "duration": 5,
    "start_time": "2023-11-13T19:20:26.095Z"
   },
   {
    "duration": 2,
    "start_time": "2023-11-13T19:26:30.254Z"
   },
   {
    "duration": 8,
    "start_time": "2023-11-13T19:27:31.371Z"
   },
   {
    "duration": 3,
    "start_time": "2023-11-13T19:31:04.384Z"
   },
   {
    "duration": 8,
    "start_time": "2023-11-13T19:32:31.933Z"
   },
   {
    "duration": 2,
    "start_time": "2023-11-13T19:32:37.760Z"
   },
   {
    "duration": 4,
    "start_time": "2023-11-13T19:32:41.788Z"
   },
   {
    "duration": 11,
    "start_time": "2023-11-13T19:33:26.683Z"
   },
   {
    "duration": 4,
    "start_time": "2023-11-13T19:33:57.322Z"
   },
   {
    "duration": 6,
    "start_time": "2023-11-13T19:36:57.068Z"
   },
   {
    "duration": 12,
    "start_time": "2023-11-13T19:43:56.697Z"
   },
   {
    "duration": 47,
    "start_time": "2023-11-14T08:57:47.693Z"
   },
   {
    "duration": 1311,
    "start_time": "2023-11-14T08:58:13.756Z"
   },
   {
    "duration": 186,
    "start_time": "2023-11-14T08:58:15.069Z"
   },
   {
    "duration": 12,
    "start_time": "2023-11-14T08:58:15.256Z"
   },
   {
    "duration": 30,
    "start_time": "2023-11-14T08:58:15.269Z"
   },
   {
    "duration": 20,
    "start_time": "2023-11-14T08:58:15.301Z"
   },
   {
    "duration": 9,
    "start_time": "2023-11-14T08:58:15.322Z"
   },
   {
    "duration": 18,
    "start_time": "2023-11-14T08:58:15.333Z"
   },
   {
    "duration": 15,
    "start_time": "2023-11-14T08:58:15.352Z"
   },
   {
    "duration": 35,
    "start_time": "2023-11-14T08:58:15.368Z"
   },
   {
    "duration": 8,
    "start_time": "2023-11-14T08:58:15.405Z"
   },
   {
    "duration": 32,
    "start_time": "2023-11-14T08:58:15.415Z"
   },
   {
    "duration": 20,
    "start_time": "2023-11-14T08:58:15.449Z"
   },
   {
    "duration": 8,
    "start_time": "2023-11-14T08:58:15.470Z"
   },
   {
    "duration": 20,
    "start_time": "2023-11-14T08:58:15.480Z"
   },
   {
    "duration": 9,
    "start_time": "2023-11-14T08:58:15.502Z"
   },
   {
    "duration": 3,
    "start_time": "2023-11-14T08:58:22.342Z"
   },
   {
    "duration": 71,
    "start_time": "2023-11-14T08:58:22.347Z"
   },
   {
    "duration": 10,
    "start_time": "2023-11-14T08:58:22.419Z"
   },
   {
    "duration": 12,
    "start_time": "2023-11-14T08:58:22.430Z"
   },
   {
    "duration": 10,
    "start_time": "2023-11-14T08:58:22.444Z"
   },
   {
    "duration": 4,
    "start_time": "2023-11-14T08:58:22.456Z"
   },
   {
    "duration": 8,
    "start_time": "2023-11-14T08:58:22.461Z"
   },
   {
    "duration": 11,
    "start_time": "2023-11-14T08:58:22.470Z"
   },
   {
    "duration": 11,
    "start_time": "2023-11-14T08:58:22.483Z"
   },
   {
    "duration": 11,
    "start_time": "2023-11-14T08:58:22.496Z"
   },
   {
    "duration": 42,
    "start_time": "2023-11-14T08:58:22.509Z"
   },
   {
    "duration": 5,
    "start_time": "2023-11-14T08:58:22.552Z"
   },
   {
    "duration": 4,
    "start_time": "2023-11-14T08:58:22.558Z"
   },
   {
    "duration": 3,
    "start_time": "2023-11-14T08:58:22.565Z"
   },
   {
    "duration": 7,
    "start_time": "2023-11-14T08:58:22.570Z"
   },
   {
    "duration": 4,
    "start_time": "2023-11-14T08:58:22.579Z"
   },
   {
    "duration": 66,
    "start_time": "2023-11-14T09:00:18.331Z"
   },
   {
    "duration": 12,
    "start_time": "2023-11-14T09:00:28.154Z"
   },
   {
    "duration": 10,
    "start_time": "2023-11-14T09:00:35.981Z"
   },
   {
    "duration": 5,
    "start_time": "2023-11-14T09:01:25.410Z"
   },
   {
    "duration": 5,
    "start_time": "2023-11-14T09:01:36.584Z"
   },
   {
    "duration": 6,
    "start_time": "2023-11-14T09:01:44.232Z"
   },
   {
    "duration": 6,
    "start_time": "2023-11-14T09:02:48.940Z"
   },
   {
    "duration": 6,
    "start_time": "2023-11-14T09:03:10.132Z"
   },
   {
    "duration": 6,
    "start_time": "2023-11-14T09:03:15.933Z"
   },
   {
    "duration": 1686,
    "start_time": "2023-11-14T09:07:46.221Z"
   },
   {
    "duration": 4,
    "start_time": "2023-11-14T09:07:51.858Z"
   },
   {
    "duration": 6,
    "start_time": "2023-11-14T09:08:04.219Z"
   },
   {
    "duration": 9,
    "start_time": "2023-11-14T09:09:27.006Z"
   },
   {
    "duration": 152,
    "start_time": "2023-11-14T09:13:19.806Z"
   },
   {
    "duration": 5,
    "start_time": "2023-11-14T09:18:32.644Z"
   },
   {
    "duration": 5,
    "start_time": "2023-11-14T09:19:42.415Z"
   },
   {
    "duration": 120,
    "start_time": "2023-11-14T09:20:11.752Z"
   },
   {
    "duration": 6,
    "start_time": "2023-11-14T09:25:07.821Z"
   },
   {
    "duration": 8,
    "start_time": "2023-11-14T09:26:42.745Z"
   },
   {
    "duration": 9,
    "start_time": "2023-11-14T09:28:47.374Z"
   },
   {
    "duration": 107,
    "start_time": "2023-11-14T09:29:15.194Z"
   },
   {
    "duration": 257,
    "start_time": "2023-11-14T09:32:59.735Z"
   },
   {
    "duration": 198,
    "start_time": "2023-11-14T09:36:17.721Z"
   },
   {
    "duration": 429,
    "start_time": "2023-11-14T09:36:25.879Z"
   },
   {
    "duration": 249,
    "start_time": "2023-11-14T09:36:36.197Z"
   },
   {
    "duration": 243,
    "start_time": "2023-11-14T09:36:41.455Z"
   },
   {
    "duration": 260,
    "start_time": "2023-11-14T09:36:53.836Z"
   },
   {
    "duration": 245,
    "start_time": "2023-11-14T09:37:04.014Z"
   },
   {
    "duration": 335,
    "start_time": "2023-11-14T09:37:08.969Z"
   },
   {
    "duration": 8,
    "start_time": "2023-11-14T09:39:49.850Z"
   },
   {
    "duration": 10,
    "start_time": "2023-11-14T09:40:56.456Z"
   },
   {
    "duration": 256,
    "start_time": "2023-11-14T09:43:26.336Z"
   },
   {
    "duration": 10,
    "start_time": "2023-11-14T09:44:54.223Z"
   },
   {
    "duration": 80,
    "start_time": "2023-11-14T09:46:48.289Z"
   },
   {
    "duration": 247,
    "start_time": "2023-11-14T09:48:02.377Z"
   },
   {
    "duration": 68,
    "start_time": "2023-11-14T14:03:17.293Z"
   },
   {
    "duration": 1276,
    "start_time": "2023-11-14T14:03:25.489Z"
   },
   {
    "duration": 299,
    "start_time": "2023-11-14T14:03:26.767Z"
   },
   {
    "duration": 12,
    "start_time": "2023-11-14T14:03:27.067Z"
   },
   {
    "duration": 22,
    "start_time": "2023-11-14T14:03:27.081Z"
   },
   {
    "duration": 20,
    "start_time": "2023-11-14T14:03:27.106Z"
   },
   {
    "duration": 19,
    "start_time": "2023-11-14T14:03:27.127Z"
   },
   {
    "duration": 22,
    "start_time": "2023-11-14T14:03:27.148Z"
   },
   {
    "duration": 12,
    "start_time": "2023-11-14T14:03:27.172Z"
   },
   {
    "duration": 7,
    "start_time": "2023-11-14T14:03:27.185Z"
   },
   {
    "duration": 11,
    "start_time": "2023-11-14T14:03:27.194Z"
   },
   {
    "duration": 14,
    "start_time": "2023-11-14T14:03:27.207Z"
   },
   {
    "duration": 31,
    "start_time": "2023-11-14T14:03:27.223Z"
   },
   {
    "duration": 29,
    "start_time": "2023-11-14T14:03:27.255Z"
   },
   {
    "duration": 15,
    "start_time": "2023-11-14T14:03:27.287Z"
   },
   {
    "duration": 24,
    "start_time": "2023-11-14T14:03:27.304Z"
   },
   {
    "duration": 6,
    "start_time": "2023-11-14T14:03:27.330Z"
   },
   {
    "duration": 194,
    "start_time": "2023-11-14T14:03:27.339Z"
   },
   {
    "duration": 6,
    "start_time": "2023-11-14T14:03:27.535Z"
   },
   {
    "duration": 143,
    "start_time": "2023-11-14T14:03:27.542Z"
   },
   {
    "duration": 7,
    "start_time": "2023-11-14T14:03:27.686Z"
   },
   {
    "duration": 253,
    "start_time": "2023-11-14T14:03:27.695Z"
   },
   {
    "duration": 13,
    "start_time": "2023-11-14T14:03:27.949Z"
   },
   {
    "duration": 257,
    "start_time": "2023-11-14T14:03:27.964Z"
   },
   {
    "duration": 10,
    "start_time": "2023-11-14T14:03:28.223Z"
   },
   {
    "duration": 235,
    "start_time": "2023-11-14T14:03:28.234Z"
   },
   {
    "duration": 321,
    "start_time": "2023-11-14T14:04:07.736Z"
   },
   {
    "duration": 214,
    "start_time": "2023-11-14T14:05:09.277Z"
   },
   {
    "duration": 56,
    "start_time": "2023-11-14T14:10:20.695Z"
   },
   {
    "duration": 40,
    "start_time": "2023-11-14T14:11:03.644Z"
   },
   {
    "duration": 15,
    "start_time": "2023-11-14T14:11:23.495Z"
   },
   {
    "duration": 10,
    "start_time": "2023-11-14T14:11:57.284Z"
   },
   {
    "duration": 10,
    "start_time": "2023-11-14T14:12:02.760Z"
   },
   {
    "duration": 19,
    "start_time": "2023-11-14T14:12:12.160Z"
   },
   {
    "duration": 17,
    "start_time": "2023-11-14T14:12:51.346Z"
   },
   {
    "duration": 13,
    "start_time": "2023-11-14T14:13:01.465Z"
   },
   {
    "duration": 15,
    "start_time": "2023-11-14T14:13:09.443Z"
   },
   {
    "duration": 11,
    "start_time": "2023-11-14T14:13:29.481Z"
   },
   {
    "duration": 13,
    "start_time": "2023-11-14T14:13:39.601Z"
   },
   {
    "duration": 12,
    "start_time": "2023-11-14T14:13:49.940Z"
   },
   {
    "duration": 115,
    "start_time": "2023-11-14T14:15:01.733Z"
   },
   {
    "duration": 133,
    "start_time": "2023-11-14T14:15:19.933Z"
   },
   {
    "duration": 14,
    "start_time": "2023-11-14T14:15:42.965Z"
   },
   {
    "duration": 8,
    "start_time": "2023-11-14T14:16:37.983Z"
   },
   {
    "duration": 16,
    "start_time": "2023-11-14T14:16:42.569Z"
   },
   {
    "duration": 17,
    "start_time": "2023-11-14T14:17:37.861Z"
   },
   {
    "duration": 9,
    "start_time": "2023-11-14T14:17:48.842Z"
   },
   {
    "duration": 114,
    "start_time": "2023-11-14T14:18:26.802Z"
   },
   {
    "duration": 119,
    "start_time": "2023-11-14T14:18:39.248Z"
   },
   {
    "duration": 9,
    "start_time": "2023-11-14T14:20:32.308Z"
   },
   {
    "duration": 8,
    "start_time": "2023-11-14T14:20:50.102Z"
   },
   {
    "duration": 8,
    "start_time": "2023-11-14T14:21:08.692Z"
   },
   {
    "duration": 9,
    "start_time": "2023-11-14T14:21:30.827Z"
   },
   {
    "duration": 9,
    "start_time": "2023-11-14T14:21:38.780Z"
   },
   {
    "duration": 14,
    "start_time": "2023-11-14T14:21:47.049Z"
   },
   {
    "duration": 115,
    "start_time": "2023-11-14T14:22:18.265Z"
   },
   {
    "duration": 140,
    "start_time": "2023-11-14T14:22:31.830Z"
   },
   {
    "duration": 111,
    "start_time": "2023-11-14T14:23:04.841Z"
   },
   {
    "duration": 168,
    "start_time": "2023-11-14T14:23:09.833Z"
   },
   {
    "duration": 104,
    "start_time": "2023-11-14T14:23:15.852Z"
   },
   {
    "duration": 111,
    "start_time": "2023-11-14T14:23:20.672Z"
   },
   {
    "duration": 122,
    "start_time": "2023-11-14T14:23:38.175Z"
   },
   {
    "duration": 149,
    "start_time": "2023-11-14T14:24:01.441Z"
   },
   {
    "duration": 143,
    "start_time": "2023-11-14T14:24:34.050Z"
   },
   {
    "duration": 123,
    "start_time": "2023-11-14T14:24:47.568Z"
   },
   {
    "duration": 22,
    "start_time": "2023-11-14T14:29:32.444Z"
   },
   {
    "duration": 11,
    "start_time": "2023-11-14T14:29:49.431Z"
   },
   {
    "duration": 12,
    "start_time": "2023-11-14T14:29:58.334Z"
   },
   {
    "duration": 9,
    "start_time": "2023-11-14T14:30:08.603Z"
   },
   {
    "duration": 15,
    "start_time": "2023-11-14T14:30:29.172Z"
   },
   {
    "duration": 114,
    "start_time": "2023-11-14T14:31:54.078Z"
   },
   {
    "duration": 119,
    "start_time": "2023-11-14T14:32:04.010Z"
   },
   {
    "duration": 10,
    "start_time": "2023-11-14T14:34:21.020Z"
   },
   {
    "duration": 16,
    "start_time": "2023-11-14T14:35:28.961Z"
   },
   {
    "duration": 10,
    "start_time": "2023-11-14T14:35:36.023Z"
   },
   {
    "duration": 9,
    "start_time": "2023-11-14T14:35:47.723Z"
   },
   {
    "duration": 10,
    "start_time": "2023-11-14T14:40:14.195Z"
   },
   {
    "duration": 10,
    "start_time": "2023-11-14T14:40:25.473Z"
   },
   {
    "duration": 18,
    "start_time": "2023-11-14T14:41:36.351Z"
   },
   {
    "duration": 11,
    "start_time": "2023-11-14T14:41:51.983Z"
   },
   {
    "duration": 148,
    "start_time": "2023-11-14T14:48:17.350Z"
   },
   {
    "duration": 123,
    "start_time": "2023-11-14T14:48:29.429Z"
   },
   {
    "duration": 13,
    "start_time": "2023-11-14T14:51:01.685Z"
   },
   {
    "duration": 10,
    "start_time": "2023-11-14T14:51:09.517Z"
   },
   {
    "duration": 12,
    "start_time": "2023-11-14T14:52:24.970Z"
   },
   {
    "duration": 9,
    "start_time": "2023-11-14T14:52:36.944Z"
   },
   {
    "duration": 58,
    "start_time": "2023-11-14T14:52:56.968Z"
   },
   {
    "duration": 9,
    "start_time": "2023-11-14T14:53:09.500Z"
   },
   {
    "duration": 9,
    "start_time": "2023-11-14T14:53:22.480Z"
   },
   {
    "duration": 10,
    "start_time": "2023-11-14T14:53:34.224Z"
   },
   {
    "duration": 11,
    "start_time": "2023-11-14T14:55:06.642Z"
   },
   {
    "duration": 9,
    "start_time": "2023-11-14T14:55:37.801Z"
   },
   {
    "duration": 9,
    "start_time": "2023-11-14T15:01:04.838Z"
   },
   {
    "duration": 18,
    "start_time": "2023-11-14T15:01:31.597Z"
   },
   {
    "duration": 81,
    "start_time": "2023-11-14T15:01:40.773Z"
   },
   {
    "duration": 10,
    "start_time": "2023-11-14T15:01:46.696Z"
   },
   {
    "duration": 9,
    "start_time": "2023-11-14T15:02:09.230Z"
   },
   {
    "duration": 10,
    "start_time": "2023-11-14T15:02:25.191Z"
   },
   {
    "duration": 8,
    "start_time": "2023-11-14T15:02:30.526Z"
   },
   {
    "duration": 10,
    "start_time": "2023-11-14T15:02:38.020Z"
   },
   {
    "duration": 7,
    "start_time": "2023-11-14T15:02:38.747Z"
   },
   {
    "duration": 6,
    "start_time": "2023-11-14T15:03:25.142Z"
   },
   {
    "duration": 6,
    "start_time": "2023-11-14T15:09:54.711Z"
   },
   {
    "duration": 24,
    "start_time": "2023-11-14T15:10:17.453Z"
   },
   {
    "duration": 29,
    "start_time": "2023-11-14T15:10:23.061Z"
   },
   {
    "duration": 8,
    "start_time": "2023-11-14T15:10:37.013Z"
   },
   {
    "duration": 8,
    "start_time": "2023-11-14T15:10:48.314Z"
   },
   {
    "duration": 6,
    "start_time": "2023-11-14T15:15:01.127Z"
   },
   {
    "duration": 13,
    "start_time": "2023-11-14T15:24:04.592Z"
   },
   {
    "duration": 12,
    "start_time": "2023-11-14T15:56:09.387Z"
   },
   {
    "duration": 12,
    "start_time": "2023-11-14T15:56:25.533Z"
   },
   {
    "duration": 16,
    "start_time": "2023-11-14T15:58:17.253Z"
   },
   {
    "duration": 11,
    "start_time": "2023-11-14T15:58:32.413Z"
   },
   {
    "duration": 12,
    "start_time": "2023-11-14T15:59:56.032Z"
   },
   {
    "duration": 19,
    "start_time": "2023-11-14T16:00:01.328Z"
   },
   {
    "duration": 17,
    "start_time": "2023-11-14T16:00:01.941Z"
   },
   {
    "duration": 51,
    "start_time": "2023-11-14T16:04:48.787Z"
   },
   {
    "duration": 11,
    "start_time": "2023-11-14T16:05:18.786Z"
   },
   {
    "duration": 16,
    "start_time": "2023-11-14T16:05:52.205Z"
   },
   {
    "duration": 5,
    "start_time": "2023-11-14T16:14:20.008Z"
   },
   {
    "duration": 1371,
    "start_time": "2023-11-14T16:15:43.865Z"
   },
   {
    "duration": 181,
    "start_time": "2023-11-14T16:15:45.238Z"
   },
   {
    "duration": 10,
    "start_time": "2023-11-14T16:15:45.420Z"
   },
   {
    "duration": 28,
    "start_time": "2023-11-14T16:15:45.432Z"
   },
   {
    "duration": 17,
    "start_time": "2023-11-14T16:15:45.462Z"
   },
   {
    "duration": 7,
    "start_time": "2023-11-14T16:15:45.480Z"
   },
   {
    "duration": 14,
    "start_time": "2023-11-14T16:15:45.489Z"
   },
   {
    "duration": 31,
    "start_time": "2023-11-14T16:15:45.505Z"
   },
   {
    "duration": 23,
    "start_time": "2023-11-14T16:15:45.538Z"
   },
   {
    "duration": 11,
    "start_time": "2023-11-14T16:15:45.564Z"
   },
   {
    "duration": 26,
    "start_time": "2023-11-14T16:15:45.577Z"
   },
   {
    "duration": 4,
    "start_time": "2023-11-14T16:15:45.605Z"
   },
   {
    "duration": 20,
    "start_time": "2023-11-14T16:15:45.611Z"
   },
   {
    "duration": 32,
    "start_time": "2023-11-14T16:15:45.633Z"
   },
   {
    "duration": 21,
    "start_time": "2023-11-14T16:15:45.666Z"
   },
   {
    "duration": 17,
    "start_time": "2023-11-14T16:15:45.689Z"
   },
   {
    "duration": 13,
    "start_time": "2023-11-14T16:15:45.708Z"
   },
   {
    "duration": 163,
    "start_time": "2023-11-14T16:15:45.723Z"
   },
   {
    "duration": 5,
    "start_time": "2023-11-14T16:15:45.888Z"
   },
   {
    "duration": 133,
    "start_time": "2023-11-14T16:15:45.895Z"
   },
   {
    "duration": 7,
    "start_time": "2023-11-14T16:15:46.030Z"
   },
   {
    "duration": 252,
    "start_time": "2023-11-14T16:15:46.038Z"
   },
   {
    "duration": 7,
    "start_time": "2023-11-14T16:15:46.292Z"
   },
   {
    "duration": 136,
    "start_time": "2023-11-14T16:15:46.301Z"
   },
   {
    "duration": 252,
    "start_time": "2023-11-14T16:15:46.439Z"
   },
   {
    "duration": 12,
    "start_time": "2023-11-14T16:15:46.693Z"
   },
   {
    "duration": 11,
    "start_time": "2023-11-14T16:15:46.707Z"
   },
   {
    "duration": 14,
    "start_time": "2023-11-14T16:15:46.720Z"
   },
   {
    "duration": 24,
    "start_time": "2023-11-14T16:15:46.736Z"
   },
   {
    "duration": 8,
    "start_time": "2023-11-14T16:15:46.762Z"
   },
   {
    "duration": 132,
    "start_time": "2023-11-14T16:15:46.772Z"
   },
   {
    "duration": 311,
    "start_time": "2023-11-14T16:15:46.906Z"
   },
   {
    "duration": 10,
    "start_time": "2023-11-14T16:15:47.218Z"
   },
   {
    "duration": 5,
    "start_time": "2023-11-14T16:15:47.229Z"
   },
   {
    "duration": 20,
    "start_time": "2023-11-14T16:15:47.235Z"
   },
   {
    "duration": 17,
    "start_time": "2023-11-14T16:15:47.257Z"
   },
   {
    "duration": 10,
    "start_time": "2023-11-14T16:15:47.276Z"
   },
   {
    "duration": 14,
    "start_time": "2023-11-14T16:15:47.288Z"
   },
   {
    "duration": 10,
    "start_time": "2023-11-14T16:15:47.303Z"
   },
   {
    "duration": 105,
    "start_time": "2023-11-14T16:23:39.367Z"
   },
   {
    "duration": 6,
    "start_time": "2023-11-14T16:24:14.460Z"
   },
   {
    "duration": 12,
    "start_time": "2023-11-14T16:31:04.094Z"
   },
   {
    "duration": 256,
    "start_time": "2023-11-14T17:23:42.068Z"
   },
   {
    "duration": 253,
    "start_time": "2023-11-14T17:24:28.385Z"
   },
   {
    "duration": 234,
    "start_time": "2023-11-14T17:25:20.847Z"
   },
   {
    "duration": 267,
    "start_time": "2023-11-14T17:25:47.305Z"
   },
   {
    "duration": 326,
    "start_time": "2023-11-14T17:29:29.828Z"
   },
   {
    "duration": 9,
    "start_time": "2023-11-14T18:00:50.297Z"
   },
   {
    "duration": 377,
    "start_time": "2023-11-14T18:01:16.898Z"
   },
   {
    "duration": 365,
    "start_time": "2023-11-14T18:01:59.055Z"
   },
   {
    "duration": 350,
    "start_time": "2023-11-14T18:07:00.971Z"
   },
   {
    "duration": 9,
    "start_time": "2023-11-14T18:07:51.486Z"
   },
   {
    "duration": 508,
    "start_time": "2023-11-14T18:08:01.206Z"
   },
   {
    "duration": 377,
    "start_time": "2023-11-14T18:23:05.743Z"
   },
   {
    "duration": 360,
    "start_time": "2023-11-14T18:23:19.989Z"
   },
   {
    "duration": 394,
    "start_time": "2023-11-14T18:23:25.936Z"
   },
   {
    "duration": 501,
    "start_time": "2023-11-14T18:23:44.931Z"
   },
   {
    "duration": 242,
    "start_time": "2023-11-14T18:24:04.361Z"
   },
   {
    "duration": 257,
    "start_time": "2023-11-14T18:24:08.367Z"
   },
   {
    "duration": 374,
    "start_time": "2023-11-14T18:24:26.806Z"
   },
   {
    "duration": 455,
    "start_time": "2023-11-14T18:24:34.327Z"
   },
   {
    "duration": 362,
    "start_time": "2023-11-14T18:24:40.234Z"
   },
   {
    "duration": 346,
    "start_time": "2023-11-14T18:24:49.768Z"
   },
   {
    "duration": 356,
    "start_time": "2023-11-14T18:24:56.131Z"
   },
   {
    "duration": 496,
    "start_time": "2023-11-14T18:25:10.740Z"
   },
   {
    "duration": 343,
    "start_time": "2023-11-14T18:25:19.851Z"
   },
   {
    "duration": 428,
    "start_time": "2023-11-14T18:25:46.133Z"
   },
   {
    "duration": 262,
    "start_time": "2023-11-14T18:26:52.327Z"
   },
   {
    "duration": 514,
    "start_time": "2023-11-14T18:29:04.784Z"
   },
   {
    "duration": 425,
    "start_time": "2023-11-14T18:30:39.182Z"
   },
   {
    "duration": 1688,
    "start_time": "2023-11-14T18:32:21.851Z"
   },
   {
    "duration": 429,
    "start_time": "2023-11-14T18:32:43.572Z"
   },
   {
    "duration": 562,
    "start_time": "2023-11-14T18:32:55.870Z"
   },
   {
    "duration": 440,
    "start_time": "2023-11-14T18:33:04.145Z"
   },
   {
    "duration": 435,
    "start_time": "2023-11-14T18:33:16.468Z"
   },
   {
    "duration": 11,
    "start_time": "2023-11-14T18:43:04.168Z"
   },
   {
    "duration": 68,
    "start_time": "2023-11-14T18:45:59.183Z"
   },
   {
    "duration": 8,
    "start_time": "2023-11-14T18:47:10.781Z"
   },
   {
    "duration": 84,
    "start_time": "2023-11-14T18:47:22.012Z"
   },
   {
    "duration": 173,
    "start_time": "2023-11-14T18:47:34.280Z"
   },
   {
    "duration": 64,
    "start_time": "2023-11-14T18:48:02.680Z"
   },
   {
    "duration": 72,
    "start_time": "2023-11-14T18:50:36.477Z"
   },
   {
    "duration": 79,
    "start_time": "2023-11-14T18:51:19.091Z"
   },
   {
    "duration": 25,
    "start_time": "2023-11-14T18:51:39.943Z"
   },
   {
    "duration": 88,
    "start_time": "2023-11-14T18:52:04.727Z"
   },
   {
    "duration": 75,
    "start_time": "2023-11-14T18:54:52.438Z"
   },
   {
    "duration": 81,
    "start_time": "2023-11-14T18:55:08.767Z"
   },
   {
    "duration": 82,
    "start_time": "2023-11-14T18:55:23.734Z"
   },
   {
    "duration": 8,
    "start_time": "2023-11-14T18:55:40.021Z"
   },
   {
    "duration": 112,
    "start_time": "2023-11-14T18:55:53.468Z"
   },
   {
    "duration": 84,
    "start_time": "2023-11-14T18:56:04.783Z"
   },
   {
    "duration": 71,
    "start_time": "2023-11-14T18:56:12.164Z"
   },
   {
    "duration": 74,
    "start_time": "2023-11-14T18:56:24.623Z"
   },
   {
    "duration": 15,
    "start_time": "2023-11-14T19:07:49.015Z"
   },
   {
    "duration": 17,
    "start_time": "2023-11-14T19:08:30.304Z"
   },
   {
    "duration": 24,
    "start_time": "2023-11-14T19:08:51.505Z"
   },
   {
    "duration": 18,
    "start_time": "2023-11-14T19:14:37.140Z"
   },
   {
    "duration": 33,
    "start_time": "2023-11-14T19:25:42.095Z"
   },
   {
    "duration": 21,
    "start_time": "2023-11-14T19:27:23.316Z"
   },
   {
    "duration": 22,
    "start_time": "2023-11-14T19:28:59.518Z"
   },
   {
    "duration": 30,
    "start_time": "2023-11-14T19:29:09.141Z"
   },
   {
    "duration": 78,
    "start_time": "2023-11-14T20:03:28.496Z"
   },
   {
    "duration": 86,
    "start_time": "2023-11-14T20:03:35.918Z"
   },
   {
    "duration": 81,
    "start_time": "2023-11-14T20:03:44.348Z"
   },
   {
    "duration": 110,
    "start_time": "2023-11-14T20:03:56.973Z"
   },
   {
    "duration": 90,
    "start_time": "2023-11-14T20:04:05.388Z"
   },
   {
    "duration": 113,
    "start_time": "2023-11-14T20:04:30.624Z"
   },
   {
    "duration": 84,
    "start_time": "2023-11-14T20:04:56.535Z"
   },
   {
    "duration": 166,
    "start_time": "2023-11-14T20:05:11.805Z"
   },
   {
    "duration": 49,
    "start_time": "2023-11-15T14:19:37.158Z"
   },
   {
    "duration": 1461,
    "start_time": "2023-11-15T14:19:41.339Z"
   },
   {
    "duration": 193,
    "start_time": "2023-11-15T14:19:42.802Z"
   },
   {
    "duration": 13,
    "start_time": "2023-11-15T14:19:42.996Z"
   },
   {
    "duration": 13,
    "start_time": "2023-11-15T14:19:43.010Z"
   },
   {
    "duration": 17,
    "start_time": "2023-11-15T14:19:43.025Z"
   },
   {
    "duration": 4,
    "start_time": "2023-11-15T14:19:43.044Z"
   },
   {
    "duration": 15,
    "start_time": "2023-11-15T14:19:43.050Z"
   },
   {
    "duration": 19,
    "start_time": "2023-11-15T14:19:43.067Z"
   },
   {
    "duration": 8,
    "start_time": "2023-11-15T14:19:43.087Z"
   },
   {
    "duration": 6,
    "start_time": "2023-11-15T14:19:43.097Z"
   },
   {
    "duration": 14,
    "start_time": "2023-11-15T14:19:43.104Z"
   },
   {
    "duration": 5,
    "start_time": "2023-11-15T14:19:43.120Z"
   },
   {
    "duration": 26,
    "start_time": "2023-11-15T14:19:43.127Z"
   },
   {
    "duration": 5,
    "start_time": "2023-11-15T14:19:43.158Z"
   },
   {
    "duration": 9,
    "start_time": "2023-11-15T14:19:43.164Z"
   },
   {
    "duration": 7,
    "start_time": "2023-11-15T14:19:43.175Z"
   },
   {
    "duration": 6,
    "start_time": "2023-11-15T14:19:43.183Z"
   },
   {
    "duration": 199,
    "start_time": "2023-11-15T14:19:43.191Z"
   },
   {
    "duration": 6,
    "start_time": "2023-11-15T14:19:43.392Z"
   },
   {
    "duration": 94,
    "start_time": "2023-11-15T14:19:43.400Z"
   },
   {
    "duration": 10,
    "start_time": "2023-11-15T14:19:43.496Z"
   },
   {
    "duration": 286,
    "start_time": "2023-11-15T14:19:43.507Z"
   },
   {
    "duration": 8,
    "start_time": "2023-11-15T14:19:43.795Z"
   },
   {
    "duration": 141,
    "start_time": "2023-11-15T14:19:43.805Z"
   },
   {
    "duration": 277,
    "start_time": "2023-11-15T14:19:43.952Z"
   },
   {
    "duration": 25,
    "start_time": "2023-11-15T14:19:44.230Z"
   },
   {
    "duration": 21,
    "start_time": "2023-11-15T14:19:44.257Z"
   },
   {
    "duration": 10,
    "start_time": "2023-11-15T14:19:44.281Z"
   },
   {
    "duration": 11,
    "start_time": "2023-11-15T14:19:44.293Z"
   },
   {
    "duration": 15,
    "start_time": "2023-11-15T14:19:44.306Z"
   },
   {
    "duration": 147,
    "start_time": "2023-11-15T14:19:44.323Z"
   },
   {
    "duration": 369,
    "start_time": "2023-11-15T14:19:44.471Z"
   },
   {
    "duration": 13,
    "start_time": "2023-11-15T14:19:44.842Z"
   },
   {
    "duration": 7,
    "start_time": "2023-11-15T14:19:44.857Z"
   },
   {
    "duration": 5,
    "start_time": "2023-11-15T14:19:44.866Z"
   },
   {
    "duration": 17,
    "start_time": "2023-11-15T14:19:44.873Z"
   },
   {
    "duration": 13,
    "start_time": "2023-11-15T14:19:44.891Z"
   },
   {
    "duration": 48,
    "start_time": "2023-11-15T14:19:44.905Z"
   },
   {
    "duration": 520,
    "start_time": "2023-11-15T14:19:44.955Z"
   },
   {
    "duration": 514,
    "start_time": "2023-11-15T14:19:45.477Z"
   },
   {
    "duration": 74,
    "start_time": "2023-11-15T14:19:45.995Z"
   },
   {
    "duration": 9,
    "start_time": "2023-11-15T14:20:13.811Z"
   },
   {
    "duration": 9,
    "start_time": "2023-11-15T14:20:32.217Z"
   },
   {
    "duration": 23,
    "start_time": "2023-11-15T14:20:39.028Z"
   },
   {
    "duration": 18,
    "start_time": "2023-11-15T14:20:51.985Z"
   },
   {
    "duration": 4,
    "start_time": "2023-11-15T14:21:22.394Z"
   },
   {
    "duration": 15,
    "start_time": "2023-11-15T14:21:23.231Z"
   },
   {
    "duration": 14,
    "start_time": "2023-11-15T14:21:30.549Z"
   },
   {
    "duration": 13,
    "start_time": "2023-11-15T14:21:31.315Z"
   },
   {
    "duration": 483,
    "start_time": "2023-11-15T14:25:30.186Z"
   },
   {
    "duration": 17,
    "start_time": "2023-11-15T14:25:52.221Z"
   },
   {
    "duration": 12,
    "start_time": "2023-11-15T14:25:56.259Z"
   },
   {
    "duration": 15,
    "start_time": "2023-11-15T14:30:50.589Z"
   },
   {
    "duration": 14,
    "start_time": "2023-11-15T14:31:08.007Z"
   },
   {
    "duration": 20,
    "start_time": "2023-11-15T14:35:41.874Z"
   },
   {
    "duration": 26,
    "start_time": "2023-11-15T14:35:42.436Z"
   },
   {
    "duration": 15,
    "start_time": "2023-11-15T14:35:43.096Z"
   },
   {
    "duration": 17,
    "start_time": "2023-11-15T14:36:09.762Z"
   },
   {
    "duration": 14,
    "start_time": "2023-11-15T14:36:10.172Z"
   },
   {
    "duration": 15,
    "start_time": "2023-11-15T14:36:10.740Z"
   },
   {
    "duration": 20,
    "start_time": "2023-11-15T15:34:28.345Z"
   },
   {
    "duration": 111,
    "start_time": "2023-11-15T15:34:29.011Z"
   },
   {
    "duration": 19,
    "start_time": "2023-11-15T15:34:29.757Z"
   },
   {
    "duration": 21,
    "start_time": "2023-11-15T15:37:25.450Z"
   },
   {
    "duration": 23,
    "start_time": "2023-11-15T15:37:26.022Z"
   },
   {
    "duration": 19,
    "start_time": "2023-11-15T15:37:26.770Z"
   },
   {
    "duration": 24,
    "start_time": "2023-11-15T15:42:46.511Z"
   },
   {
    "duration": 81,
    "start_time": "2023-11-15T15:43:17.092Z"
   },
   {
    "duration": 21,
    "start_time": "2023-11-15T15:43:19.559Z"
   },
   {
    "duration": 20,
    "start_time": "2023-11-15T15:43:34.248Z"
   },
   {
    "duration": 17,
    "start_time": "2023-11-15T15:43:34.783Z"
   },
   {
    "duration": 14,
    "start_time": "2023-11-15T15:43:35.364Z"
   },
   {
    "duration": 67,
    "start_time": "2023-11-15T18:33:45.591Z"
   },
   {
    "duration": 1468,
    "start_time": "2023-11-15T18:34:06.287Z"
   },
   {
    "duration": 198,
    "start_time": "2023-11-15T18:34:07.757Z"
   },
   {
    "duration": 14,
    "start_time": "2023-11-15T18:34:07.956Z"
   },
   {
    "duration": 18,
    "start_time": "2023-11-15T18:34:07.980Z"
   },
   {
    "duration": 16,
    "start_time": "2023-11-15T18:34:08.000Z"
   },
   {
    "duration": 8,
    "start_time": "2023-11-15T18:34:08.018Z"
   },
   {
    "duration": 14,
    "start_time": "2023-11-15T18:34:08.028Z"
   },
   {
    "duration": 12,
    "start_time": "2023-11-15T18:34:08.044Z"
   },
   {
    "duration": 14,
    "start_time": "2023-11-15T18:34:08.058Z"
   },
   {
    "duration": 37,
    "start_time": "2023-11-15T18:34:08.075Z"
   },
   {
    "duration": 31,
    "start_time": "2023-11-15T18:34:08.114Z"
   },
   {
    "duration": 5,
    "start_time": "2023-11-15T18:34:08.147Z"
   },
   {
    "duration": 29,
    "start_time": "2023-11-15T18:34:08.154Z"
   },
   {
    "duration": 6,
    "start_time": "2023-11-15T18:34:08.184Z"
   },
   {
    "duration": 24,
    "start_time": "2023-11-15T18:34:08.192Z"
   },
   {
    "duration": 24,
    "start_time": "2023-11-15T18:34:08.218Z"
   },
   {
    "duration": 28,
    "start_time": "2023-11-15T18:34:08.244Z"
   },
   {
    "duration": 175,
    "start_time": "2023-11-15T18:34:08.274Z"
   },
   {
    "duration": 6,
    "start_time": "2023-11-15T18:34:08.451Z"
   },
   {
    "duration": 97,
    "start_time": "2023-11-15T18:34:08.459Z"
   },
   {
    "duration": 9,
    "start_time": "2023-11-15T18:34:08.558Z"
   },
   {
    "duration": 303,
    "start_time": "2023-11-15T18:34:08.568Z"
   },
   {
    "duration": 8,
    "start_time": "2023-11-15T18:34:08.873Z"
   },
   {
    "duration": 144,
    "start_time": "2023-11-15T18:34:08.883Z"
   },
   {
    "duration": 285,
    "start_time": "2023-11-15T18:34:09.028Z"
   },
   {
    "duration": 13,
    "start_time": "2023-11-15T18:34:09.314Z"
   },
   {
    "duration": 18,
    "start_time": "2023-11-15T18:34:09.329Z"
   },
   {
    "duration": 18,
    "start_time": "2023-11-15T18:34:09.352Z"
   },
   {
    "duration": 13,
    "start_time": "2023-11-15T18:34:09.372Z"
   },
   {
    "duration": 8,
    "start_time": "2023-11-15T18:34:09.387Z"
   },
   {
    "duration": 144,
    "start_time": "2023-11-15T18:34:09.397Z"
   },
   {
    "duration": 364,
    "start_time": "2023-11-15T18:34:09.543Z"
   },
   {
    "duration": 10,
    "start_time": "2023-11-15T18:34:09.910Z"
   },
   {
    "duration": 11,
    "start_time": "2023-11-15T18:34:09.922Z"
   },
   {
    "duration": 5,
    "start_time": "2023-11-15T18:34:09.935Z"
   },
   {
    "duration": 17,
    "start_time": "2023-11-15T18:34:09.942Z"
   },
   {
    "duration": 13,
    "start_time": "2023-11-15T18:34:09.960Z"
   },
   {
    "duration": 41,
    "start_time": "2023-11-15T18:34:09.974Z"
   },
   {
    "duration": 496,
    "start_time": "2023-11-15T18:34:10.016Z"
   },
   {
    "duration": 481,
    "start_time": "2023-11-15T18:34:10.513Z"
   },
   {
    "duration": 28,
    "start_time": "2023-11-15T18:34:10.996Z"
   },
   {
    "duration": 19,
    "start_time": "2023-11-15T18:34:11.025Z"
   },
   {
    "duration": 16,
    "start_time": "2023-11-15T18:34:11.045Z"
   },
   {
    "duration": 94,
    "start_time": "2023-11-15T18:34:11.062Z"
   },
   {
    "duration": 1498,
    "start_time": "2023-11-15T18:36:13.479Z"
   },
   {
    "duration": 22,
    "start_time": "2023-11-15T18:42:21.112Z"
   },
   {
    "duration": 23,
    "start_time": "2023-11-15T18:42:21.837Z"
   },
   {
    "duration": 18,
    "start_time": "2023-11-15T18:42:22.565Z"
   },
   {
    "duration": 10,
    "start_time": "2023-11-15T18:43:56.370Z"
   },
   {
    "duration": 15,
    "start_time": "2023-11-15T18:44:29.618Z"
   },
   {
    "duration": 1360,
    "start_time": "2023-11-15T18:44:45.385Z"
   },
   {
    "duration": 17,
    "start_time": "2023-11-15T19:00:28.064Z"
   },
   {
    "duration": 21,
    "start_time": "2023-11-15T19:00:28.552Z"
   },
   {
    "duration": 15,
    "start_time": "2023-11-15T19:00:29.083Z"
   },
   {
    "duration": 3,
    "start_time": "2023-11-15T19:16:33.985Z"
   },
   {
    "duration": 70,
    "start_time": "2023-11-15T19:16:33.990Z"
   },
   {
    "duration": 11,
    "start_time": "2023-11-15T19:16:34.061Z"
   },
   {
    "duration": 9,
    "start_time": "2023-11-15T19:16:34.074Z"
   },
   {
    "duration": 15,
    "start_time": "2023-11-15T19:16:34.085Z"
   },
   {
    "duration": 4,
    "start_time": "2023-11-15T19:16:34.101Z"
   },
   {
    "duration": 8,
    "start_time": "2023-11-15T19:16:34.107Z"
   },
   {
    "duration": 10,
    "start_time": "2023-11-15T19:16:34.117Z"
   },
   {
    "duration": 7,
    "start_time": "2023-11-15T19:16:34.128Z"
   },
   {
    "duration": 6,
    "start_time": "2023-11-15T19:16:34.137Z"
   },
   {
    "duration": 13,
    "start_time": "2023-11-15T19:16:34.144Z"
   },
   {
    "duration": 3,
    "start_time": "2023-11-15T19:16:34.159Z"
   },
   {
    "duration": 3,
    "start_time": "2023-11-15T19:16:34.164Z"
   },
   {
    "duration": 4,
    "start_time": "2023-11-15T19:16:34.169Z"
   },
   {
    "duration": 6,
    "start_time": "2023-11-15T19:16:34.211Z"
   },
   {
    "duration": 7,
    "start_time": "2023-11-15T19:16:34.219Z"
   },
   {
    "duration": 6,
    "start_time": "2023-11-15T19:16:34.227Z"
   },
   {
    "duration": 169,
    "start_time": "2023-11-15T19:16:34.234Z"
   },
   {
    "duration": 9,
    "start_time": "2023-11-15T19:16:34.405Z"
   },
   {
    "duration": 188,
    "start_time": "2023-11-15T19:16:34.415Z"
   },
   {
    "duration": 7,
    "start_time": "2023-11-15T19:16:34.611Z"
   },
   {
    "duration": 260,
    "start_time": "2023-11-15T19:16:34.620Z"
   },
   {
    "duration": 9,
    "start_time": "2023-11-15T19:16:34.882Z"
   },
   {
    "duration": 144,
    "start_time": "2023-11-15T19:16:34.892Z"
   },
   {
    "duration": 269,
    "start_time": "2023-11-15T19:16:35.037Z"
   },
   {
    "duration": 12,
    "start_time": "2023-11-15T19:16:35.308Z"
   },
   {
    "duration": 15,
    "start_time": "2023-11-15T19:16:35.321Z"
   },
   {
    "duration": 10,
    "start_time": "2023-11-15T19:16:35.338Z"
   },
   {
    "duration": 7,
    "start_time": "2023-11-15T19:16:35.349Z"
   },
   {
    "duration": 15,
    "start_time": "2023-11-15T19:16:35.358Z"
   },
   {
    "duration": 142,
    "start_time": "2023-11-15T19:16:35.374Z"
   },
   {
    "duration": 296,
    "start_time": "2023-11-15T19:16:35.517Z"
   },
   {
    "duration": 14,
    "start_time": "2023-11-15T19:16:35.815Z"
   },
   {
    "duration": 23,
    "start_time": "2023-11-15T19:16:35.831Z"
   },
   {
    "duration": 28,
    "start_time": "2023-11-15T19:16:35.855Z"
   },
   {
    "duration": 43,
    "start_time": "2023-11-15T19:16:35.884Z"
   },
   {
    "duration": 29,
    "start_time": "2023-11-15T19:16:35.928Z"
   },
   {
    "duration": 29,
    "start_time": "2023-11-15T19:16:35.959Z"
   },
   {
    "duration": 578,
    "start_time": "2023-11-15T19:16:35.989Z"
   },
   {
    "duration": 566,
    "start_time": "2023-11-15T19:16:36.569Z"
   },
   {
    "duration": 14,
    "start_time": "2023-11-15T19:16:37.139Z"
   },
   {
    "duration": 20,
    "start_time": "2023-11-15T19:16:37.154Z"
   },
   {
    "duration": 45,
    "start_time": "2023-11-15T19:19:10.030Z"
   },
   {
    "duration": 236,
    "start_time": "2023-11-15T19:19:18.964Z"
   },
   {
    "duration": 95,
    "start_time": "2023-11-15T19:20:57.620Z"
   },
   {
    "duration": 1132,
    "start_time": "2023-11-15T19:21:06.768Z"
   },
   {
    "duration": 82,
    "start_time": "2023-11-16T11:09:08.776Z"
   },
   {
    "duration": 1401,
    "start_time": "2023-11-16T11:09:18.858Z"
   },
   {
    "duration": 200,
    "start_time": "2023-11-16T11:09:20.261Z"
   },
   {
    "duration": 15,
    "start_time": "2023-11-16T11:09:20.463Z"
   },
   {
    "duration": 14,
    "start_time": "2023-11-16T11:09:20.480Z"
   },
   {
    "duration": 19,
    "start_time": "2023-11-16T11:09:20.497Z"
   },
   {
    "duration": 5,
    "start_time": "2023-11-16T11:09:20.519Z"
   },
   {
    "duration": 19,
    "start_time": "2023-11-16T11:09:20.526Z"
   },
   {
    "duration": 16,
    "start_time": "2023-11-16T11:09:20.547Z"
   },
   {
    "duration": 11,
    "start_time": "2023-11-16T11:09:20.565Z"
   },
   {
    "duration": 25,
    "start_time": "2023-11-16T11:09:20.578Z"
   },
   {
    "duration": 38,
    "start_time": "2023-11-16T11:09:20.604Z"
   },
   {
    "duration": 5,
    "start_time": "2023-11-16T11:09:20.644Z"
   },
   {
    "duration": 8,
    "start_time": "2023-11-16T11:09:20.651Z"
   },
   {
    "duration": 39,
    "start_time": "2023-11-16T11:09:20.663Z"
   },
   {
    "duration": 23,
    "start_time": "2023-11-16T11:09:20.704Z"
   },
   {
    "duration": 5,
    "start_time": "2023-11-16T11:09:20.729Z"
   },
   {
    "duration": 17,
    "start_time": "2023-11-16T11:09:20.736Z"
   },
   {
    "duration": 183,
    "start_time": "2023-11-16T11:09:20.755Z"
   },
   {
    "duration": 7,
    "start_time": "2023-11-16T11:09:20.939Z"
   },
   {
    "duration": 114,
    "start_time": "2023-11-16T11:09:20.948Z"
   },
   {
    "duration": 9,
    "start_time": "2023-11-16T11:09:21.064Z"
   },
   {
    "duration": 302,
    "start_time": "2023-11-16T11:09:21.075Z"
   },
   {
    "duration": 11,
    "start_time": "2023-11-16T11:09:21.379Z"
   },
   {
    "duration": 154,
    "start_time": "2023-11-16T11:09:21.392Z"
   },
   {
    "duration": 286,
    "start_time": "2023-11-16T11:09:21.548Z"
   },
   {
    "duration": 12,
    "start_time": "2023-11-16T11:09:21.836Z"
   },
   {
    "duration": 8,
    "start_time": "2023-11-16T11:09:21.850Z"
   },
   {
    "duration": 22,
    "start_time": "2023-11-16T11:09:21.860Z"
   },
   {
    "duration": 26,
    "start_time": "2023-11-16T11:09:21.884Z"
   },
   {
    "duration": 9,
    "start_time": "2023-11-16T11:09:21.912Z"
   },
   {
    "duration": 175,
    "start_time": "2023-11-16T11:09:21.923Z"
   },
   {
    "duration": 345,
    "start_time": "2023-11-16T11:09:22.110Z"
   },
   {
    "duration": 13,
    "start_time": "2023-11-16T11:09:22.457Z"
   },
   {
    "duration": 13,
    "start_time": "2023-11-16T11:09:22.473Z"
   },
   {
    "duration": 23,
    "start_time": "2023-11-16T11:09:22.489Z"
   },
   {
    "duration": 21,
    "start_time": "2023-11-16T11:09:22.515Z"
   },
   {
    "duration": 18,
    "start_time": "2023-11-16T11:09:22.538Z"
   },
   {
    "duration": 20,
    "start_time": "2023-11-16T11:09:22.558Z"
   },
   {
    "duration": 539,
    "start_time": "2023-11-16T11:09:22.581Z"
   },
   {
    "duration": 501,
    "start_time": "2023-11-16T11:09:23.122Z"
   },
   {
    "duration": 17,
    "start_time": "2023-11-16T11:09:23.627Z"
   },
   {
    "duration": 24,
    "start_time": "2023-11-16T11:09:23.646Z"
   },
   {
    "duration": 57,
    "start_time": "2023-11-16T11:09:23.672Z"
   },
   {
    "duration": 90,
    "start_time": "2023-11-16T11:15:24.911Z"
   },
   {
    "duration": 24,
    "start_time": "2023-11-16T11:21:34.364Z"
   },
   {
    "duration": 41,
    "start_time": "2023-11-16T11:21:35.748Z"
   },
   {
    "duration": 2799,
    "start_time": "2023-11-16T11:29:05.588Z"
   },
   {
    "duration": 8,
    "start_time": "2023-11-16T11:29:29.214Z"
   },
   {
    "duration": 2052,
    "start_time": "2023-11-16T11:29:35.666Z"
   },
   {
    "duration": 2655,
    "start_time": "2023-11-16T11:29:42.146Z"
   },
   {
    "duration": 9,
    "start_time": "2023-11-16T11:30:03.535Z"
   },
   {
    "duration": 2156,
    "start_time": "2023-11-16T11:30:11.760Z"
   },
   {
    "duration": 52,
    "start_time": "2023-11-16T13:08:39.299Z"
   },
   {
    "duration": 53,
    "start_time": "2023-11-16T13:08:45.592Z"
   },
   {
    "duration": 3,
    "start_time": "2023-11-16T13:08:49.959Z"
   },
   {
    "duration": 81,
    "start_time": "2023-11-16T13:08:49.964Z"
   },
   {
    "duration": 12,
    "start_time": "2023-11-16T13:08:50.047Z"
   },
   {
    "duration": 40,
    "start_time": "2023-11-16T13:08:50.061Z"
   },
   {
    "duration": 41,
    "start_time": "2023-11-16T13:08:50.103Z"
   },
   {
    "duration": 16,
    "start_time": "2023-11-16T13:08:50.146Z"
   },
   {
    "duration": 18,
    "start_time": "2023-11-16T13:08:50.164Z"
   },
   {
    "duration": 17,
    "start_time": "2023-11-16T13:08:50.184Z"
   },
   {
    "duration": 21,
    "start_time": "2023-11-16T13:08:50.203Z"
   },
   {
    "duration": 32,
    "start_time": "2023-11-16T13:08:50.226Z"
   },
   {
    "duration": 33,
    "start_time": "2023-11-16T13:08:50.259Z"
   },
   {
    "duration": 4,
    "start_time": "2023-11-16T13:08:50.294Z"
   },
   {
    "duration": 15,
    "start_time": "2023-11-16T13:08:50.300Z"
   },
   {
    "duration": 5,
    "start_time": "2023-11-16T13:08:50.319Z"
   },
   {
    "duration": 11,
    "start_time": "2023-11-16T13:08:50.326Z"
   },
   {
    "duration": 24,
    "start_time": "2023-11-16T13:08:50.339Z"
   },
   {
    "duration": 9,
    "start_time": "2023-11-16T13:08:50.365Z"
   },
   {
    "duration": 177,
    "start_time": "2023-11-16T13:08:50.375Z"
   },
   {
    "duration": 6,
    "start_time": "2023-11-16T13:08:50.554Z"
   },
   {
    "duration": 191,
    "start_time": "2023-11-16T13:08:50.562Z"
   },
   {
    "duration": 8,
    "start_time": "2023-11-16T13:08:50.755Z"
   },
   {
    "duration": 297,
    "start_time": "2023-11-16T13:08:50.765Z"
   },
   {
    "duration": 12,
    "start_time": "2023-11-16T13:08:51.064Z"
   },
   {
    "duration": 153,
    "start_time": "2023-11-16T13:08:51.078Z"
   },
   {
    "duration": 284,
    "start_time": "2023-11-16T13:08:51.234Z"
   },
   {
    "duration": 13,
    "start_time": "2023-11-16T13:08:51.520Z"
   },
   {
    "duration": 34,
    "start_time": "2023-11-16T13:08:51.535Z"
   },
   {
    "duration": 12,
    "start_time": "2023-11-16T13:08:51.571Z"
   },
   {
    "duration": 12,
    "start_time": "2023-11-16T13:08:51.585Z"
   },
   {
    "duration": 23,
    "start_time": "2023-11-16T13:08:51.599Z"
   },
   {
    "duration": 147,
    "start_time": "2023-11-16T13:08:51.624Z"
   },
   {
    "duration": 295,
    "start_time": "2023-11-16T13:08:51.772Z"
   },
   {
    "duration": 11,
    "start_time": "2023-11-16T13:08:52.069Z"
   },
   {
    "duration": 27,
    "start_time": "2023-11-16T13:08:52.081Z"
   },
   {
    "duration": 10,
    "start_time": "2023-11-16T13:08:52.110Z"
   },
   {
    "duration": 23,
    "start_time": "2023-11-16T13:08:52.121Z"
   },
   {
    "duration": 14,
    "start_time": "2023-11-16T13:08:52.146Z"
   },
   {
    "duration": 39,
    "start_time": "2023-11-16T13:08:52.161Z"
   },
   {
    "duration": 576,
    "start_time": "2023-11-16T13:08:52.201Z"
   },
   {
    "duration": 508,
    "start_time": "2023-11-16T13:08:52.778Z"
   },
   {
    "duration": 372,
    "start_time": "2023-11-16T13:08:53.290Z"
   },
   {
    "duration": 0,
    "start_time": "2023-11-16T13:08:53.664Z"
   },
   {
    "duration": 0,
    "start_time": "2023-11-16T13:08:53.665Z"
   },
   {
    "duration": 22,
    "start_time": "2023-11-16T13:09:34.039Z"
   },
   {
    "duration": 2316,
    "start_time": "2023-11-16T13:09:37.627Z"
   },
   {
    "duration": 15,
    "start_time": "2023-11-16T13:10:15.470Z"
   },
   {
    "duration": 36,
    "start_time": "2023-11-16T13:11:08.237Z"
   },
   {
    "duration": 1643,
    "start_time": "2023-11-16T13:13:25.077Z"
   },
   {
    "duration": 46,
    "start_time": "2023-11-16T13:15:29.984Z"
   },
   {
    "duration": 237,
    "start_time": "2023-11-16T13:15:39.316Z"
   },
   {
    "duration": 210,
    "start_time": "2023-11-16T13:48:12.116Z"
   },
   {
    "duration": 212,
    "start_time": "2023-11-16T13:48:50.920Z"
   },
   {
    "duration": 539,
    "start_time": "2023-11-16T13:49:27.350Z"
   },
   {
    "duration": 0,
    "start_time": "2023-11-16T13:49:27.891Z"
   },
   {
    "duration": 254,
    "start_time": "2023-11-16T13:50:16.732Z"
   },
   {
    "duration": 2562,
    "start_time": "2023-11-16T13:50:23.272Z"
   },
   {
    "duration": 0,
    "start_time": "2023-11-16T13:50:25.837Z"
   },
   {
    "duration": 234,
    "start_time": "2023-11-16T13:51:27.750Z"
   },
   {
    "duration": 131,
    "start_time": "2023-11-16T13:52:08.738Z"
   },
   {
    "duration": 111,
    "start_time": "2023-11-16T13:52:18.855Z"
   },
   {
    "duration": 119,
    "start_time": "2023-11-16T13:54:47.452Z"
   },
   {
    "duration": 1917,
    "start_time": "2023-11-16T13:54:48.366Z"
   },
   {
    "duration": 120,
    "start_time": "2023-11-16T13:55:20.412Z"
   },
   {
    "duration": 1671,
    "start_time": "2023-11-16T13:55:21.820Z"
   },
   {
    "duration": 106,
    "start_time": "2023-11-16T13:55:47.494Z"
   },
   {
    "duration": 100,
    "start_time": "2023-11-16T13:59:16.003Z"
   },
   {
    "duration": 99,
    "start_time": "2023-11-16T14:00:41.128Z"
   },
   {
    "duration": 102,
    "start_time": "2023-11-16T14:01:24.031Z"
   },
   {
    "duration": 103,
    "start_time": "2023-11-16T14:01:38.567Z"
   },
   {
    "duration": 106,
    "start_time": "2023-11-16T14:01:59.930Z"
   },
   {
    "duration": 121,
    "start_time": "2023-11-16T14:04:55.636Z"
   },
   {
    "duration": 109,
    "start_time": "2023-11-16T14:07:24.580Z"
   },
   {
    "duration": 101,
    "start_time": "2023-11-16T14:07:29.877Z"
   },
   {
    "duration": 100,
    "start_time": "2023-11-16T14:07:47.305Z"
   },
   {
    "duration": 1546,
    "start_time": "2023-11-16T14:07:49.082Z"
   },
   {
    "duration": 84,
    "start_time": "2023-11-16T14:08:06.221Z"
   },
   {
    "duration": 5,
    "start_time": "2023-11-16T14:11:38.793Z"
   },
   {
    "duration": 15,
    "start_time": "2023-11-16T14:11:47.595Z"
   },
   {
    "duration": 16,
    "start_time": "2023-11-16T14:15:44.618Z"
   },
   {
    "duration": 13,
    "start_time": "2023-11-16T14:18:23.953Z"
   },
   {
    "duration": 15,
    "start_time": "2023-11-16T14:18:56.637Z"
   },
   {
    "duration": 26,
    "start_time": "2023-11-16T14:19:08.396Z"
   },
   {
    "duration": 18,
    "start_time": "2023-11-16T14:20:08.970Z"
   },
   {
    "duration": 19,
    "start_time": "2023-11-16T14:21:37.539Z"
   },
   {
    "duration": 82,
    "start_time": "2023-11-16T14:21:57.198Z"
   },
   {
    "duration": 8,
    "start_time": "2023-11-16T14:23:41.271Z"
   },
   {
    "duration": 8,
    "start_time": "2023-11-16T14:23:49.959Z"
   },
   {
    "duration": 51,
    "start_time": "2023-11-16T14:24:19.008Z"
   },
   {
    "duration": 1211,
    "start_time": "2023-11-16T14:24:26.341Z"
   },
   {
    "duration": 199,
    "start_time": "2023-11-16T14:24:27.554Z"
   },
   {
    "duration": 11,
    "start_time": "2023-11-16T14:24:27.754Z"
   },
   {
    "duration": 12,
    "start_time": "2023-11-16T14:24:27.767Z"
   },
   {
    "duration": 10,
    "start_time": "2023-11-16T14:24:27.780Z"
   },
   {
    "duration": 4,
    "start_time": "2023-11-16T14:24:27.792Z"
   },
   {
    "duration": 11,
    "start_time": "2023-11-16T14:24:27.797Z"
   },
   {
    "duration": 10,
    "start_time": "2023-11-16T14:24:27.809Z"
   },
   {
    "duration": 6,
    "start_time": "2023-11-16T14:24:27.821Z"
   },
   {
    "duration": 9,
    "start_time": "2023-11-16T14:24:27.829Z"
   },
   {
    "duration": 13,
    "start_time": "2023-11-16T14:24:27.840Z"
   },
   {
    "duration": 4,
    "start_time": "2023-11-16T14:24:27.855Z"
   },
   {
    "duration": 4,
    "start_time": "2023-11-16T14:24:27.861Z"
   },
   {
    "duration": 8,
    "start_time": "2023-11-16T14:24:27.867Z"
   },
   {
    "duration": 36,
    "start_time": "2023-11-16T14:24:27.876Z"
   },
   {
    "duration": 6,
    "start_time": "2023-11-16T14:24:27.913Z"
   },
   {
    "duration": 6,
    "start_time": "2023-11-16T14:24:27.920Z"
   },
   {
    "duration": 184,
    "start_time": "2023-11-16T14:24:27.927Z"
   },
   {
    "duration": 5,
    "start_time": "2023-11-16T14:24:28.112Z"
   },
   {
    "duration": 76,
    "start_time": "2023-11-16T14:24:28.119Z"
   },
   {
    "duration": 8,
    "start_time": "2023-11-16T14:24:28.211Z"
   },
   {
    "duration": 279,
    "start_time": "2023-11-16T14:24:28.221Z"
   },
   {
    "duration": 17,
    "start_time": "2023-11-16T14:24:28.502Z"
   },
   {
    "duration": 140,
    "start_time": "2023-11-16T14:24:28.521Z"
   },
   {
    "duration": 269,
    "start_time": "2023-11-16T14:24:28.663Z"
   },
   {
    "duration": 11,
    "start_time": "2023-11-16T14:24:28.934Z"
   },
   {
    "duration": 6,
    "start_time": "2023-11-16T14:24:28.947Z"
   },
   {
    "duration": 12,
    "start_time": "2023-11-16T14:24:28.956Z"
   },
   {
    "duration": 6,
    "start_time": "2023-11-16T14:24:28.969Z"
   },
   {
    "duration": 39,
    "start_time": "2023-11-16T14:24:28.977Z"
   },
   {
    "duration": 132,
    "start_time": "2023-11-16T14:24:29.018Z"
   },
   {
    "duration": 340,
    "start_time": "2023-11-16T14:24:29.152Z"
   },
   {
    "duration": 18,
    "start_time": "2023-11-16T14:24:29.494Z"
   },
   {
    "duration": 7,
    "start_time": "2023-11-16T14:24:29.513Z"
   },
   {
    "duration": 7,
    "start_time": "2023-11-16T14:24:29.521Z"
   },
   {
    "duration": 16,
    "start_time": "2023-11-16T14:24:29.529Z"
   },
   {
    "duration": 12,
    "start_time": "2023-11-16T14:24:29.546Z"
   },
   {
    "duration": 16,
    "start_time": "2023-11-16T14:24:29.560Z"
   },
   {
    "duration": 499,
    "start_time": "2023-11-16T14:24:29.578Z"
   },
   {
    "duration": 480,
    "start_time": "2023-11-16T14:24:30.079Z"
   },
   {
    "duration": 17,
    "start_time": "2023-11-16T14:24:30.561Z"
   },
   {
    "duration": 51,
    "start_time": "2023-11-16T14:24:30.579Z"
   },
   {
    "duration": 79,
    "start_time": "2023-11-16T14:24:30.632Z"
   },
   {
    "duration": 2302,
    "start_time": "2023-11-16T14:26:32.753Z"
   },
   {
    "duration": 1462,
    "start_time": "2023-11-16T14:59:00.564Z"
   },
   {
    "duration": 198,
    "start_time": "2023-11-16T14:59:02.028Z"
   },
   {
    "duration": 12,
    "start_time": "2023-11-16T14:59:02.227Z"
   },
   {
    "duration": 41,
    "start_time": "2023-11-16T14:59:02.240Z"
   },
   {
    "duration": 25,
    "start_time": "2023-11-16T14:59:02.284Z"
   },
   {
    "duration": 30,
    "start_time": "2023-11-16T14:59:02.310Z"
   },
   {
    "duration": 25,
    "start_time": "2023-11-16T14:59:02.341Z"
   },
   {
    "duration": 28,
    "start_time": "2023-11-16T14:59:02.367Z"
   },
   {
    "duration": 44,
    "start_time": "2023-11-16T14:59:02.397Z"
   },
   {
    "duration": 14,
    "start_time": "2023-11-16T14:59:02.442Z"
   },
   {
    "duration": 29,
    "start_time": "2023-11-16T14:59:02.457Z"
   },
   {
    "duration": 8,
    "start_time": "2023-11-16T14:59:02.488Z"
   },
   {
    "duration": 32,
    "start_time": "2023-11-16T14:59:02.497Z"
   },
   {
    "duration": 16,
    "start_time": "2023-11-16T14:59:02.533Z"
   },
   {
    "duration": 7,
    "start_time": "2023-11-16T14:59:02.551Z"
   },
   {
    "duration": 5,
    "start_time": "2023-11-16T14:59:02.560Z"
   },
   {
    "duration": 5,
    "start_time": "2023-11-16T14:59:02.567Z"
   },
   {
    "duration": 163,
    "start_time": "2023-11-16T14:59:02.574Z"
   },
   {
    "duration": 5,
    "start_time": "2023-11-16T14:59:02.739Z"
   },
   {
    "duration": 123,
    "start_time": "2023-11-16T14:59:02.745Z"
   },
   {
    "duration": 8,
    "start_time": "2023-11-16T14:59:02.869Z"
   },
   {
    "duration": 283,
    "start_time": "2023-11-16T14:59:02.879Z"
   },
   {
    "duration": 8,
    "start_time": "2023-11-16T14:59:03.164Z"
   },
   {
    "duration": 155,
    "start_time": "2023-11-16T14:59:03.173Z"
   },
   {
    "duration": 273,
    "start_time": "2023-11-16T14:59:03.330Z"
   },
   {
    "duration": 17,
    "start_time": "2023-11-16T14:59:03.605Z"
   },
   {
    "duration": 5,
    "start_time": "2023-11-16T14:59:03.624Z"
   },
   {
    "duration": 15,
    "start_time": "2023-11-16T14:59:03.631Z"
   },
   {
    "duration": 8,
    "start_time": "2023-11-16T14:59:03.648Z"
   },
   {
    "duration": 10,
    "start_time": "2023-11-16T14:59:03.657Z"
   },
   {
    "duration": 150,
    "start_time": "2023-11-16T14:59:03.668Z"
   },
   {
    "duration": 336,
    "start_time": "2023-11-16T14:59:03.820Z"
   },
   {
    "duration": 10,
    "start_time": "2023-11-16T14:59:04.157Z"
   },
   {
    "duration": 5,
    "start_time": "2023-11-16T14:59:04.169Z"
   },
   {
    "duration": 4,
    "start_time": "2023-11-16T14:59:04.175Z"
   },
   {
    "duration": 35,
    "start_time": "2023-11-16T14:59:04.181Z"
   },
   {
    "duration": 12,
    "start_time": "2023-11-16T14:59:04.217Z"
   },
   {
    "duration": 13,
    "start_time": "2023-11-16T14:59:04.230Z"
   },
   {
    "duration": 2,
    "start_time": "2023-11-16T14:59:05.345Z"
   },
   {
    "duration": 84,
    "start_time": "2023-11-16T14:59:05.348Z"
   },
   {
    "duration": 11,
    "start_time": "2023-11-16T14:59:05.433Z"
   },
   {
    "duration": 20,
    "start_time": "2023-11-16T14:59:05.445Z"
   },
   {
    "duration": 13,
    "start_time": "2023-11-16T14:59:05.467Z"
   },
   {
    "duration": 20,
    "start_time": "2023-11-16T14:59:05.482Z"
   },
   {
    "duration": 34,
    "start_time": "2023-11-16T14:59:05.504Z"
   },
   {
    "duration": 12,
    "start_time": "2023-11-16T14:59:05.540Z"
   },
   {
    "duration": 29,
    "start_time": "2023-11-16T14:59:05.553Z"
   },
   {
    "duration": 33,
    "start_time": "2023-11-16T14:59:05.584Z"
   },
   {
    "duration": 46,
    "start_time": "2023-11-16T14:59:05.619Z"
   },
   {
    "duration": 13,
    "start_time": "2023-11-16T14:59:05.666Z"
   },
   {
    "duration": 46,
    "start_time": "2023-11-16T14:59:05.681Z"
   },
   {
    "duration": 9,
    "start_time": "2023-11-16T14:59:05.729Z"
   },
   {
    "duration": 11,
    "start_time": "2023-11-16T14:59:05.740Z"
   },
   {
    "duration": 27,
    "start_time": "2023-11-16T14:59:05.753Z"
   },
   {
    "duration": 6,
    "start_time": "2023-11-16T14:59:05.782Z"
   },
   {
    "duration": 163,
    "start_time": "2023-11-16T14:59:05.790Z"
   },
   {
    "duration": 5,
    "start_time": "2023-11-16T14:59:05.955Z"
   },
   {
    "duration": 86,
    "start_time": "2023-11-16T14:59:05.962Z"
   },
   {
    "duration": 8,
    "start_time": "2023-11-16T14:59:06.050Z"
   },
   {
    "duration": 403,
    "start_time": "2023-11-16T14:59:06.059Z"
   },
   {
    "duration": 8,
    "start_time": "2023-11-16T14:59:06.464Z"
   },
   {
    "duration": 133,
    "start_time": "2023-11-16T14:59:06.473Z"
   },
   {
    "duration": 261,
    "start_time": "2023-11-16T14:59:06.611Z"
   },
   {
    "duration": 12,
    "start_time": "2023-11-16T14:59:06.874Z"
   },
   {
    "duration": 7,
    "start_time": "2023-11-16T14:59:06.887Z"
   },
   {
    "duration": 11,
    "start_time": "2023-11-16T14:59:06.911Z"
   },
   {
    "duration": 6,
    "start_time": "2023-11-16T14:59:06.923Z"
   },
   {
    "duration": 8,
    "start_time": "2023-11-16T14:59:06.931Z"
   },
   {
    "duration": 148,
    "start_time": "2023-11-16T14:59:06.940Z"
   },
   {
    "duration": 263,
    "start_time": "2023-11-16T14:59:07.089Z"
   },
   {
    "duration": 15,
    "start_time": "2023-11-16T14:59:07.354Z"
   },
   {
    "duration": 8,
    "start_time": "2023-11-16T14:59:07.370Z"
   },
   {
    "duration": 8,
    "start_time": "2023-11-16T14:59:07.379Z"
   },
   {
    "duration": 34,
    "start_time": "2023-11-16T14:59:07.389Z"
   },
   {
    "duration": 12,
    "start_time": "2023-11-16T14:59:07.424Z"
   },
   {
    "duration": 11,
    "start_time": "2023-11-16T14:59:07.438Z"
   },
   {
    "duration": 471,
    "start_time": "2023-11-16T14:59:07.451Z"
   },
   {
    "duration": 576,
    "start_time": "2023-11-16T14:59:07.923Z"
   },
   {
    "duration": 20,
    "start_time": "2023-11-16T14:59:08.501Z"
   },
   {
    "duration": 62,
    "start_time": "2023-11-16T14:59:08.523Z"
   },
   {
    "duration": 53,
    "start_time": "2023-11-16T14:59:08.588Z"
   },
   {
    "duration": 2301,
    "start_time": "2023-11-16T15:00:19.762Z"
   },
   {
    "duration": 2964,
    "start_time": "2023-11-16T15:01:06.762Z"
   },
   {
    "duration": 55,
    "start_time": "2023-11-16T15:06:49.550Z"
   },
   {
    "duration": 1204,
    "start_time": "2023-11-16T15:06:53.358Z"
   },
   {
    "duration": 197,
    "start_time": "2023-11-16T15:06:54.564Z"
   },
   {
    "duration": 13,
    "start_time": "2023-11-16T15:06:54.763Z"
   },
   {
    "duration": 17,
    "start_time": "2023-11-16T15:06:54.777Z"
   },
   {
    "duration": 11,
    "start_time": "2023-11-16T15:06:54.796Z"
   },
   {
    "duration": 5,
    "start_time": "2023-11-16T15:06:54.808Z"
   },
   {
    "duration": 11,
    "start_time": "2023-11-16T15:06:54.814Z"
   },
   {
    "duration": 12,
    "start_time": "2023-11-16T15:06:54.826Z"
   },
   {
    "duration": 11,
    "start_time": "2023-11-16T15:06:54.839Z"
   },
   {
    "duration": 7,
    "start_time": "2023-11-16T15:06:54.851Z"
   },
   {
    "duration": 14,
    "start_time": "2023-11-16T15:06:54.859Z"
   },
   {
    "duration": 5,
    "start_time": "2023-11-16T15:06:54.874Z"
   },
   {
    "duration": 4,
    "start_time": "2023-11-16T15:06:54.911Z"
   },
   {
    "duration": 5,
    "start_time": "2023-11-16T15:06:54.917Z"
   },
   {
    "duration": 12,
    "start_time": "2023-11-16T15:06:54.923Z"
   },
   {
    "duration": 5,
    "start_time": "2023-11-16T15:06:54.937Z"
   },
   {
    "duration": 5,
    "start_time": "2023-11-16T15:06:54.944Z"
   },
   {
    "duration": 195,
    "start_time": "2023-11-16T15:06:54.951Z"
   },
   {
    "duration": 6,
    "start_time": "2023-11-16T15:06:55.147Z"
   },
   {
    "duration": 89,
    "start_time": "2023-11-16T15:06:55.155Z"
   },
   {
    "duration": 8,
    "start_time": "2023-11-16T15:06:55.246Z"
   },
   {
    "duration": 273,
    "start_time": "2023-11-16T15:06:55.255Z"
   },
   {
    "duration": 9,
    "start_time": "2023-11-16T15:06:55.530Z"
   },
   {
    "duration": 143,
    "start_time": "2023-11-16T15:06:55.540Z"
   },
   {
    "duration": 267,
    "start_time": "2023-11-16T15:06:55.684Z"
   },
   {
    "duration": 13,
    "start_time": "2023-11-16T15:06:55.952Z"
   },
   {
    "duration": 6,
    "start_time": "2023-11-16T15:06:55.966Z"
   },
   {
    "duration": 10,
    "start_time": "2023-11-16T15:06:55.974Z"
   },
   {
    "duration": 31,
    "start_time": "2023-11-16T15:06:55.986Z"
   },
   {
    "duration": 24,
    "start_time": "2023-11-16T15:06:56.019Z"
   },
   {
    "duration": 123,
    "start_time": "2023-11-16T15:06:56.044Z"
   },
   {
    "duration": 345,
    "start_time": "2023-11-16T15:06:56.169Z"
   },
   {
    "duration": 11,
    "start_time": "2023-11-16T15:06:56.515Z"
   },
   {
    "duration": 6,
    "start_time": "2023-11-16T15:06:56.528Z"
   },
   {
    "duration": 11,
    "start_time": "2023-11-16T15:06:56.535Z"
   },
   {
    "duration": 17,
    "start_time": "2023-11-16T15:06:56.548Z"
   },
   {
    "duration": 12,
    "start_time": "2023-11-16T15:06:56.567Z"
   },
   {
    "duration": 37,
    "start_time": "2023-11-16T15:06:56.581Z"
   },
   {
    "duration": 471,
    "start_time": "2023-11-16T15:06:56.619Z"
   },
   {
    "duration": 487,
    "start_time": "2023-11-16T15:06:57.092Z"
   },
   {
    "duration": 18,
    "start_time": "2023-11-16T15:06:57.583Z"
   },
   {
    "duration": 22,
    "start_time": "2023-11-16T15:06:57.611Z"
   },
   {
    "duration": 80,
    "start_time": "2023-11-16T15:06:57.635Z"
   },
   {
    "duration": 66,
    "start_time": "2023-11-16T15:10:34.006Z"
   },
   {
    "duration": 11,
    "start_time": "2023-11-16T15:10:54.594Z"
   },
   {
    "duration": 9,
    "start_time": "2023-11-16T15:11:27.956Z"
   },
   {
    "duration": 3327,
    "start_time": "2023-11-16T15:12:06.651Z"
   },
   {
    "duration": 4,
    "start_time": "2023-11-16T15:12:11.999Z"
   },
   {
    "duration": 97,
    "start_time": "2023-11-16T15:12:12.005Z"
   },
   {
    "duration": 10,
    "start_time": "2023-11-16T15:12:12.104Z"
   },
   {
    "duration": 13,
    "start_time": "2023-11-16T15:12:12.116Z"
   },
   {
    "duration": 18,
    "start_time": "2023-11-16T15:12:12.131Z"
   },
   {
    "duration": 5,
    "start_time": "2023-11-16T15:12:12.151Z"
   },
   {
    "duration": 14,
    "start_time": "2023-11-16T15:12:12.157Z"
   },
   {
    "duration": 13,
    "start_time": "2023-11-16T15:12:12.172Z"
   },
   {
    "duration": 10,
    "start_time": "2023-11-16T15:12:12.211Z"
   },
   {
    "duration": 25,
    "start_time": "2023-11-16T15:12:12.222Z"
   },
   {
    "duration": 53,
    "start_time": "2023-11-16T15:12:12.249Z"
   },
   {
    "duration": 18,
    "start_time": "2023-11-16T15:12:12.304Z"
   },
   {
    "duration": 16,
    "start_time": "2023-11-16T15:12:12.324Z"
   },
   {
    "duration": 19,
    "start_time": "2023-11-16T15:12:12.344Z"
   },
   {
    "duration": 12,
    "start_time": "2023-11-16T15:12:12.365Z"
   },
   {
    "duration": 7,
    "start_time": "2023-11-16T15:12:12.379Z"
   },
   {
    "duration": 21,
    "start_time": "2023-11-16T15:12:12.388Z"
   },
   {
    "duration": 197,
    "start_time": "2023-11-16T15:12:12.411Z"
   },
   {
    "duration": 7,
    "start_time": "2023-11-16T15:12:12.610Z"
   },
   {
    "duration": 111,
    "start_time": "2023-11-16T15:12:12.619Z"
   },
   {
    "duration": 10,
    "start_time": "2023-11-16T15:12:12.732Z"
   },
   {
    "duration": 394,
    "start_time": "2023-11-16T15:12:12.744Z"
   },
   {
    "duration": 8,
    "start_time": "2023-11-16T15:12:13.140Z"
   },
   {
    "duration": 145,
    "start_time": "2023-11-16T15:12:13.150Z"
   },
   {
    "duration": 278,
    "start_time": "2023-11-16T15:12:13.296Z"
   },
   {
    "duration": 19,
    "start_time": "2023-11-16T15:12:13.576Z"
   },
   {
    "duration": 22,
    "start_time": "2023-11-16T15:12:13.597Z"
   },
   {
    "duration": 24,
    "start_time": "2023-11-16T15:12:13.621Z"
   },
   {
    "duration": 8,
    "start_time": "2023-11-16T15:12:13.647Z"
   },
   {
    "duration": 19,
    "start_time": "2023-11-16T15:12:13.657Z"
   },
   {
    "duration": 140,
    "start_time": "2023-11-16T15:12:13.677Z"
   },
   {
    "duration": 272,
    "start_time": "2023-11-16T15:12:13.819Z"
   },
   {
    "duration": 19,
    "start_time": "2023-11-16T15:12:14.093Z"
   },
   {
    "duration": 7,
    "start_time": "2023-11-16T15:12:14.113Z"
   },
   {
    "duration": 8,
    "start_time": "2023-11-16T15:12:14.122Z"
   },
   {
    "duration": 17,
    "start_time": "2023-11-16T15:12:14.131Z"
   },
   {
    "duration": 13,
    "start_time": "2023-11-16T15:12:14.149Z"
   },
   {
    "duration": 12,
    "start_time": "2023-11-16T15:12:14.164Z"
   },
   {
    "duration": 523,
    "start_time": "2023-11-16T15:12:14.178Z"
   },
   {
    "duration": 586,
    "start_time": "2023-11-16T15:12:14.703Z"
   },
   {
    "duration": 23,
    "start_time": "2023-11-16T15:12:15.293Z"
   },
   {
    "duration": 24,
    "start_time": "2023-11-16T15:12:15.318Z"
   },
   {
    "duration": 42,
    "start_time": "2023-11-16T15:12:15.344Z"
   },
   {
    "duration": 15,
    "start_time": "2023-11-16T15:12:57.328Z"
   },
   {
    "duration": 21,
    "start_time": "2023-11-16T15:13:00.616Z"
   },
   {
    "duration": 42,
    "start_time": "2023-11-16T15:13:03.822Z"
   },
   {
    "duration": 2763,
    "start_time": "2023-11-16T15:13:43.577Z"
   },
   {
    "duration": 50,
    "start_time": "2023-11-16T15:14:19.119Z"
   },
   {
    "duration": 1566,
    "start_time": "2023-11-16T15:14:23.994Z"
   },
   {
    "duration": 215,
    "start_time": "2023-11-16T15:14:25.563Z"
   },
   {
    "duration": 12,
    "start_time": "2023-11-16T15:14:25.780Z"
   },
   {
    "duration": 13,
    "start_time": "2023-11-16T15:14:25.794Z"
   },
   {
    "duration": 12,
    "start_time": "2023-11-16T15:14:25.811Z"
   },
   {
    "duration": 5,
    "start_time": "2023-11-16T15:14:25.825Z"
   },
   {
    "duration": 10,
    "start_time": "2023-11-16T15:14:25.832Z"
   },
   {
    "duration": 11,
    "start_time": "2023-11-16T15:14:25.845Z"
   },
   {
    "duration": 13,
    "start_time": "2023-11-16T15:14:25.858Z"
   },
   {
    "duration": 40,
    "start_time": "2023-11-16T15:14:25.872Z"
   },
   {
    "duration": 14,
    "start_time": "2023-11-16T15:14:25.914Z"
   },
   {
    "duration": 5,
    "start_time": "2023-11-16T15:14:25.930Z"
   },
   {
    "duration": 4,
    "start_time": "2023-11-16T15:14:25.936Z"
   },
   {
    "duration": 4,
    "start_time": "2023-11-16T15:14:25.944Z"
   },
   {
    "duration": 9,
    "start_time": "2023-11-16T15:14:25.950Z"
   },
   {
    "duration": 6,
    "start_time": "2023-11-16T15:14:25.961Z"
   },
   {
    "duration": 46,
    "start_time": "2023-11-16T15:14:25.968Z"
   },
   {
    "duration": 178,
    "start_time": "2023-11-16T15:14:26.016Z"
   },
   {
    "duration": 17,
    "start_time": "2023-11-16T15:14:26.196Z"
   },
   {
    "duration": 96,
    "start_time": "2023-11-16T15:14:26.216Z"
   },
   {
    "duration": 8,
    "start_time": "2023-11-16T15:14:26.315Z"
   },
   {
    "duration": 290,
    "start_time": "2023-11-16T15:14:26.325Z"
   },
   {
    "duration": 8,
    "start_time": "2023-11-16T15:14:26.616Z"
   },
   {
    "duration": 145,
    "start_time": "2023-11-16T15:14:26.626Z"
   },
   {
    "duration": 265,
    "start_time": "2023-11-16T15:14:26.773Z"
   },
   {
    "duration": 13,
    "start_time": "2023-11-16T15:14:27.040Z"
   },
   {
    "duration": 7,
    "start_time": "2023-11-16T15:14:27.054Z"
   },
   {
    "duration": 11,
    "start_time": "2023-11-16T15:14:27.062Z"
   },
   {
    "duration": 37,
    "start_time": "2023-11-16T15:14:27.074Z"
   },
   {
    "duration": 8,
    "start_time": "2023-11-16T15:14:27.113Z"
   },
   {
    "duration": 142,
    "start_time": "2023-11-16T15:14:27.122Z"
   },
   {
    "duration": 359,
    "start_time": "2023-11-16T15:14:27.266Z"
   },
   {
    "duration": 13,
    "start_time": "2023-11-16T15:14:27.627Z"
   },
   {
    "duration": 9,
    "start_time": "2023-11-16T15:14:27.642Z"
   },
   {
    "duration": 15,
    "start_time": "2023-11-16T15:14:27.652Z"
   },
   {
    "duration": 21,
    "start_time": "2023-11-16T15:14:27.668Z"
   },
   {
    "duration": 30,
    "start_time": "2023-11-16T15:14:27.691Z"
   },
   {
    "duration": 13,
    "start_time": "2023-11-16T15:14:27.722Z"
   },
   {
    "duration": 511,
    "start_time": "2023-11-16T15:14:27.736Z"
   },
   {
    "duration": 525,
    "start_time": "2023-11-16T15:14:28.248Z"
   },
   {
    "duration": 17,
    "start_time": "2023-11-16T15:14:28.777Z"
   },
   {
    "duration": 37,
    "start_time": "2023-11-16T15:14:28.796Z"
   },
   {
    "duration": 78,
    "start_time": "2023-11-16T15:14:28.835Z"
   },
   {
    "duration": 378,
    "start_time": "2023-11-16T15:15:40.305Z"
   },
   {
    "duration": 873,
    "start_time": "2023-11-16T15:17:37.564Z"
   },
   {
    "duration": 1538,
    "start_time": "2023-11-16T15:17:58.084Z"
   },
   {
    "duration": 197,
    "start_time": "2023-11-16T15:17:59.625Z"
   },
   {
    "duration": 15,
    "start_time": "2023-11-16T15:17:59.824Z"
   },
   {
    "duration": 14,
    "start_time": "2023-11-16T15:17:59.840Z"
   },
   {
    "duration": 12,
    "start_time": "2023-11-16T15:17:59.857Z"
   },
   {
    "duration": 5,
    "start_time": "2023-11-16T15:17:59.871Z"
   },
   {
    "duration": 9,
    "start_time": "2023-11-16T15:17:59.878Z"
   },
   {
    "duration": 31,
    "start_time": "2023-11-16T15:17:59.889Z"
   },
   {
    "duration": 8,
    "start_time": "2023-11-16T15:17:59.922Z"
   },
   {
    "duration": 8,
    "start_time": "2023-11-16T15:17:59.933Z"
   },
   {
    "duration": 23,
    "start_time": "2023-11-16T15:17:59.943Z"
   },
   {
    "duration": 5,
    "start_time": "2023-11-16T15:17:59.968Z"
   },
   {
    "duration": 36,
    "start_time": "2023-11-16T15:17:59.975Z"
   },
   {
    "duration": 34,
    "start_time": "2023-11-16T15:18:00.015Z"
   },
   {
    "duration": 19,
    "start_time": "2023-11-16T15:18:00.051Z"
   },
   {
    "duration": 36,
    "start_time": "2023-11-16T15:18:00.072Z"
   },
   {
    "duration": 30,
    "start_time": "2023-11-16T15:18:00.110Z"
   },
   {
    "duration": 190,
    "start_time": "2023-11-16T15:18:00.142Z"
   },
   {
    "duration": 6,
    "start_time": "2023-11-16T15:18:00.334Z"
   },
   {
    "duration": 99,
    "start_time": "2023-11-16T15:18:00.342Z"
   },
   {
    "duration": 9,
    "start_time": "2023-11-16T15:18:00.443Z"
   },
   {
    "duration": 300,
    "start_time": "2023-11-16T15:18:00.453Z"
   },
   {
    "duration": 11,
    "start_time": "2023-11-16T15:18:00.754Z"
   },
   {
    "duration": 159,
    "start_time": "2023-11-16T15:18:00.767Z"
   },
   {
    "duration": 296,
    "start_time": "2023-11-16T15:18:00.928Z"
   },
   {
    "duration": 12,
    "start_time": "2023-11-16T15:18:01.227Z"
   },
   {
    "duration": 17,
    "start_time": "2023-11-16T15:18:01.240Z"
   },
   {
    "duration": 48,
    "start_time": "2023-11-16T15:18:01.259Z"
   },
   {
    "duration": 24,
    "start_time": "2023-11-16T15:18:01.308Z"
   },
   {
    "duration": 31,
    "start_time": "2023-11-16T15:18:01.334Z"
   },
   {
    "duration": 151,
    "start_time": "2023-11-16T15:18:01.367Z"
   },
   {
    "duration": 369,
    "start_time": "2023-11-16T15:18:01.520Z"
   },
   {
    "duration": 20,
    "start_time": "2023-11-16T15:18:01.891Z"
   },
   {
    "duration": 24,
    "start_time": "2023-11-16T15:18:01.912Z"
   },
   {
    "duration": 57,
    "start_time": "2023-11-16T15:18:01.938Z"
   },
   {
    "duration": 37,
    "start_time": "2023-11-16T15:18:01.997Z"
   },
   {
    "duration": 16,
    "start_time": "2023-11-16T15:18:02.036Z"
   },
   {
    "duration": 39,
    "start_time": "2023-11-16T15:18:02.054Z"
   },
   {
    "duration": 520,
    "start_time": "2023-11-16T15:18:02.095Z"
   },
   {
    "duration": 508,
    "start_time": "2023-11-16T15:18:02.618Z"
   },
   {
    "duration": 17,
    "start_time": "2023-11-16T15:18:03.131Z"
   },
   {
    "duration": 33,
    "start_time": "2023-11-16T15:18:03.150Z"
   },
   {
    "duration": 71,
    "start_time": "2023-11-16T15:18:03.186Z"
   },
   {
    "duration": 56,
    "start_time": "2023-11-16T15:19:27.771Z"
   },
   {
    "duration": 1169,
    "start_time": "2023-11-16T15:19:51.769Z"
   },
   {
    "duration": 404,
    "start_time": "2023-11-16T15:27:42.418Z"
   },
   {
    "duration": 145,
    "start_time": "2023-11-16T15:27:44.113Z"
   },
   {
    "duration": 50,
    "start_time": "2023-11-16T15:40:48.809Z"
   },
   {
    "duration": 6,
    "start_time": "2023-11-16T15:42:06.426Z"
   },
   {
    "duration": 1322,
    "start_time": "2023-11-16T15:42:13.222Z"
   },
   {
    "duration": 196,
    "start_time": "2023-11-16T15:42:14.545Z"
   },
   {
    "duration": 13,
    "start_time": "2023-11-16T15:42:14.742Z"
   },
   {
    "duration": 13,
    "start_time": "2023-11-16T15:42:14.756Z"
   },
   {
    "duration": 11,
    "start_time": "2023-11-16T15:42:14.772Z"
   },
   {
    "duration": 6,
    "start_time": "2023-11-16T15:42:14.784Z"
   },
   {
    "duration": 14,
    "start_time": "2023-11-16T15:42:14.791Z"
   },
   {
    "duration": 11,
    "start_time": "2023-11-16T15:42:14.806Z"
   },
   {
    "duration": 9,
    "start_time": "2023-11-16T15:42:14.819Z"
   },
   {
    "duration": 7,
    "start_time": "2023-11-16T15:42:14.829Z"
   },
   {
    "duration": 17,
    "start_time": "2023-11-16T15:42:14.838Z"
   },
   {
    "duration": 5,
    "start_time": "2023-11-16T15:42:14.857Z"
   },
   {
    "duration": 5,
    "start_time": "2023-11-16T15:42:14.863Z"
   },
   {
    "duration": 17,
    "start_time": "2023-11-16T15:42:14.870Z"
   },
   {
    "duration": 25,
    "start_time": "2023-11-16T15:42:14.889Z"
   },
   {
    "duration": 5,
    "start_time": "2023-11-16T15:42:14.916Z"
   },
   {
    "duration": 6,
    "start_time": "2023-11-16T15:42:14.923Z"
   },
   {
    "duration": 181,
    "start_time": "2023-11-16T15:42:14.930Z"
   },
   {
    "duration": 7,
    "start_time": "2023-11-16T15:42:15.112Z"
   },
   {
    "duration": 97,
    "start_time": "2023-11-16T15:42:15.121Z"
   },
   {
    "duration": 8,
    "start_time": "2023-11-16T15:42:15.220Z"
   },
   {
    "duration": 271,
    "start_time": "2023-11-16T15:42:15.230Z"
   },
   {
    "duration": 11,
    "start_time": "2023-11-16T15:42:15.503Z"
   },
   {
    "duration": 149,
    "start_time": "2023-11-16T15:42:15.516Z"
   },
   {
    "duration": 279,
    "start_time": "2023-11-16T15:42:15.667Z"
   },
   {
    "duration": 12,
    "start_time": "2023-11-16T15:42:15.947Z"
   },
   {
    "duration": 5,
    "start_time": "2023-11-16T15:42:15.962Z"
   },
   {
    "duration": 11,
    "start_time": "2023-11-16T15:42:15.969Z"
   },
   {
    "duration": 34,
    "start_time": "2023-11-16T15:42:15.981Z"
   },
   {
    "duration": 21,
    "start_time": "2023-11-16T15:42:16.017Z"
   },
   {
    "duration": 128,
    "start_time": "2023-11-16T15:42:16.040Z"
   },
   {
    "duration": 341,
    "start_time": "2023-11-16T15:42:16.170Z"
   },
   {
    "duration": 12,
    "start_time": "2023-11-16T15:42:16.513Z"
   },
   {
    "duration": 11,
    "start_time": "2023-11-16T15:42:16.526Z"
   },
   {
    "duration": 5,
    "start_time": "2023-11-16T15:42:16.538Z"
   },
   {
    "duration": 14,
    "start_time": "2023-11-16T15:42:16.545Z"
   },
   {
    "duration": 11,
    "start_time": "2023-11-16T15:42:16.561Z"
   },
   {
    "duration": 45,
    "start_time": "2023-11-16T15:42:16.574Z"
   },
   {
    "duration": 493,
    "start_time": "2023-11-16T15:42:16.620Z"
   },
   {
    "duration": 487,
    "start_time": "2023-11-16T15:42:17.115Z"
   },
   {
    "duration": 26,
    "start_time": "2023-11-16T15:42:17.611Z"
   },
   {
    "duration": 42,
    "start_time": "2023-11-16T15:42:17.639Z"
   },
   {
    "duration": 2359,
    "start_time": "2023-11-16T15:42:17.683Z"
   },
   {
    "duration": 10,
    "start_time": "2023-11-16T15:44:30.598Z"
   },
   {
    "duration": 2621,
    "start_time": "2023-11-16T15:44:37.672Z"
   },
   {
    "duration": 1918,
    "start_time": "2023-11-16T15:46:16.252Z"
   },
   {
    "duration": 9,
    "start_time": "2023-11-16T15:46:23.447Z"
   },
   {
    "duration": 1550,
    "start_time": "2023-11-16T15:46:41.921Z"
   },
   {
    "duration": 1392,
    "start_time": "2023-11-16T15:47:21.982Z"
   },
   {
    "duration": 1418,
    "start_time": "2023-11-16T15:47:44.675Z"
   },
   {
    "duration": 9,
    "start_time": "2023-11-16T15:47:51.292Z"
   },
   {
    "duration": 10,
    "start_time": "2023-11-16T15:48:07.336Z"
   },
   {
    "duration": 1436,
    "start_time": "2023-11-16T15:48:43.797Z"
   },
   {
    "duration": 996,
    "start_time": "2023-11-16T15:49:13.933Z"
   },
   {
    "duration": 1543,
    "start_time": "2023-11-16T15:49:20.754Z"
   },
   {
    "duration": 80,
    "start_time": "2023-11-16T15:49:36.428Z"
   },
   {
    "duration": 1667,
    "start_time": "2023-11-16T15:49:41.576Z"
   },
   {
    "duration": 1459,
    "start_time": "2023-11-16T15:49:47.208Z"
   },
   {
    "duration": 12,
    "start_time": "2023-11-16T15:52:14.658Z"
   },
   {
    "duration": 11,
    "start_time": "2023-11-16T15:53:03.640Z"
   },
   {
    "duration": 533,
    "start_time": "2023-11-16T15:53:53.509Z"
   },
   {
    "duration": 3,
    "start_time": "2023-11-16T15:54:12.074Z"
   },
   {
    "duration": 86,
    "start_time": "2023-11-16T15:54:12.079Z"
   },
   {
    "duration": 11,
    "start_time": "2023-11-16T15:54:12.167Z"
   },
   {
    "duration": 22,
    "start_time": "2023-11-16T15:54:12.180Z"
   },
   {
    "duration": 16,
    "start_time": "2023-11-16T15:54:12.205Z"
   },
   {
    "duration": 7,
    "start_time": "2023-11-16T15:54:12.224Z"
   },
   {
    "duration": 10,
    "start_time": "2023-11-16T15:54:12.233Z"
   },
   {
    "duration": 15,
    "start_time": "2023-11-16T15:54:12.245Z"
   },
   {
    "duration": 10,
    "start_time": "2023-11-16T15:54:12.262Z"
   },
   {
    "duration": 17,
    "start_time": "2023-11-16T15:54:12.274Z"
   },
   {
    "duration": 33,
    "start_time": "2023-11-16T15:54:12.292Z"
   },
   {
    "duration": 8,
    "start_time": "2023-11-16T15:54:12.326Z"
   },
   {
    "duration": 4,
    "start_time": "2023-11-16T15:54:12.340Z"
   },
   {
    "duration": 16,
    "start_time": "2023-11-16T15:54:12.345Z"
   },
   {
    "duration": 18,
    "start_time": "2023-11-16T15:54:12.362Z"
   },
   {
    "duration": 23,
    "start_time": "2023-11-16T15:54:12.382Z"
   },
   {
    "duration": 20,
    "start_time": "2023-11-16T15:54:12.407Z"
   },
   {
    "duration": 204,
    "start_time": "2023-11-16T15:54:12.428Z"
   },
   {
    "duration": 7,
    "start_time": "2023-11-16T15:54:12.634Z"
   },
   {
    "duration": 218,
    "start_time": "2023-11-16T15:54:12.643Z"
   },
   {
    "duration": 9,
    "start_time": "2023-11-16T15:54:12.863Z"
   },
   {
    "duration": 309,
    "start_time": "2023-11-16T15:54:12.873Z"
   },
   {
    "duration": 10,
    "start_time": "2023-11-16T15:54:13.184Z"
   },
   {
    "duration": 161,
    "start_time": "2023-11-16T15:54:13.196Z"
   },
   {
    "duration": 289,
    "start_time": "2023-11-16T15:54:13.359Z"
   },
   {
    "duration": 15,
    "start_time": "2023-11-16T15:54:13.651Z"
   },
   {
    "duration": 7,
    "start_time": "2023-11-16T15:54:13.668Z"
   },
   {
    "duration": 34,
    "start_time": "2023-11-16T15:54:13.678Z"
   },
   {
    "duration": 9,
    "start_time": "2023-11-16T15:54:13.715Z"
   },
   {
    "duration": 26,
    "start_time": "2023-11-16T15:54:13.726Z"
   },
   {
    "duration": 138,
    "start_time": "2023-11-16T15:54:13.754Z"
   },
   {
    "duration": 295,
    "start_time": "2023-11-16T15:54:13.894Z"
   },
   {
    "duration": 20,
    "start_time": "2023-11-16T15:54:14.191Z"
   },
   {
    "duration": 11,
    "start_time": "2023-11-16T15:54:14.213Z"
   },
   {
    "duration": 7,
    "start_time": "2023-11-16T15:54:14.226Z"
   },
   {
    "duration": 18,
    "start_time": "2023-11-16T15:54:14.234Z"
   },
   {
    "duration": 12,
    "start_time": "2023-11-16T15:54:14.256Z"
   },
   {
    "duration": 50,
    "start_time": "2023-11-16T15:54:14.270Z"
   },
   {
    "duration": 663,
    "start_time": "2023-11-16T15:54:14.322Z"
   },
   {
    "duration": 521,
    "start_time": "2023-11-16T15:54:14.986Z"
   },
   {
    "duration": 22,
    "start_time": "2023-11-16T15:54:15.511Z"
   },
   {
    "duration": 29,
    "start_time": "2023-11-16T15:54:15.535Z"
   },
   {
    "duration": 506,
    "start_time": "2023-11-16T15:54:15.566Z"
   },
   {
    "duration": 10,
    "start_time": "2023-11-16T15:55:09.871Z"
   },
   {
    "duration": 8,
    "start_time": "2023-11-16T15:55:50.159Z"
   },
   {
    "duration": 993,
    "start_time": "2023-11-16T15:56:23.398Z"
   },
   {
    "duration": 1031,
    "start_time": "2023-11-16T15:56:41.978Z"
   },
   {
    "duration": 1392,
    "start_time": "2023-11-16T15:56:48.463Z"
   },
   {
    "duration": 11,
    "start_time": "2023-11-16T15:56:56.431Z"
   },
   {
    "duration": 20,
    "start_time": "2023-11-16T16:03:11.097Z"
   },
   {
    "duration": 3,
    "start_time": "2023-11-16T16:04:20.743Z"
   },
   {
    "duration": 89,
    "start_time": "2023-11-16T16:04:20.748Z"
   },
   {
    "duration": 14,
    "start_time": "2023-11-16T16:04:20.839Z"
   },
   {
    "duration": 20,
    "start_time": "2023-11-16T16:04:20.855Z"
   },
   {
    "duration": 13,
    "start_time": "2023-11-16T16:04:20.877Z"
   },
   {
    "duration": 5,
    "start_time": "2023-11-16T16:04:20.892Z"
   },
   {
    "duration": 19,
    "start_time": "2023-11-16T16:04:20.899Z"
   },
   {
    "duration": 21,
    "start_time": "2023-11-16T16:04:20.921Z"
   },
   {
    "duration": 8,
    "start_time": "2023-11-16T16:04:20.944Z"
   },
   {
    "duration": 31,
    "start_time": "2023-11-16T16:04:20.954Z"
   },
   {
    "duration": 23,
    "start_time": "2023-11-16T16:04:20.987Z"
   },
   {
    "duration": 7,
    "start_time": "2023-11-16T16:04:21.012Z"
   },
   {
    "duration": 4,
    "start_time": "2023-11-16T16:04:21.020Z"
   },
   {
    "duration": 4,
    "start_time": "2023-11-16T16:04:21.027Z"
   },
   {
    "duration": 21,
    "start_time": "2023-11-16T16:04:21.033Z"
   },
   {
    "duration": 6,
    "start_time": "2023-11-16T16:04:21.056Z"
   },
   {
    "duration": 7,
    "start_time": "2023-11-16T16:04:21.063Z"
   },
   {
    "duration": 181,
    "start_time": "2023-11-16T16:04:21.072Z"
   },
   {
    "duration": 5,
    "start_time": "2023-11-16T16:04:21.255Z"
   },
   {
    "duration": 100,
    "start_time": "2023-11-16T16:04:21.262Z"
   },
   {
    "duration": 8,
    "start_time": "2023-11-16T16:04:21.364Z"
   },
   {
    "duration": 306,
    "start_time": "2023-11-16T16:04:21.374Z"
   },
   {
    "duration": 10,
    "start_time": "2023-11-16T16:04:21.682Z"
   },
   {
    "duration": 145,
    "start_time": "2023-11-16T16:04:21.694Z"
   },
   {
    "duration": 425,
    "start_time": "2023-11-16T16:04:21.841Z"
   },
   {
    "duration": 12,
    "start_time": "2023-11-16T16:04:22.268Z"
   },
   {
    "duration": 9,
    "start_time": "2023-11-16T16:04:22.282Z"
   },
   {
    "duration": 31,
    "start_time": "2023-11-16T16:04:22.293Z"
   },
   {
    "duration": 13,
    "start_time": "2023-11-16T16:04:22.325Z"
   },
   {
    "duration": 8,
    "start_time": "2023-11-16T16:04:22.340Z"
   },
   {
    "duration": 163,
    "start_time": "2023-11-16T16:04:22.349Z"
   },
   {
    "duration": 292,
    "start_time": "2023-11-16T16:04:22.514Z"
   },
   {
    "duration": 14,
    "start_time": "2023-11-16T16:04:22.808Z"
   },
   {
    "duration": 9,
    "start_time": "2023-11-16T16:04:22.824Z"
   },
   {
    "duration": 12,
    "start_time": "2023-11-16T16:04:22.835Z"
   },
   {
    "duration": 17,
    "start_time": "2023-11-16T16:04:22.848Z"
   },
   {
    "duration": 12,
    "start_time": "2023-11-16T16:04:22.867Z"
   },
   {
    "duration": 14,
    "start_time": "2023-11-16T16:04:22.912Z"
   },
   {
    "duration": 540,
    "start_time": "2023-11-16T16:04:22.928Z"
   },
   {
    "duration": 525,
    "start_time": "2023-11-16T16:04:23.470Z"
   },
   {
    "duration": 24,
    "start_time": "2023-11-16T16:04:23.999Z"
   },
   {
    "duration": 31,
    "start_time": "2023-11-16T16:04:24.025Z"
   },
   {
    "duration": 15,
    "start_time": "2023-11-16T16:04:24.057Z"
   },
   {
    "duration": 13,
    "start_time": "2023-11-16T16:06:10.017Z"
   },
   {
    "duration": 90,
    "start_time": "2023-11-16T16:06:43.520Z"
   },
   {
    "duration": 14,
    "start_time": "2023-11-16T16:06:55.395Z"
   },
   {
    "duration": 14,
    "start_time": "2023-11-16T16:07:11.314Z"
   },
   {
    "duration": 14,
    "start_time": "2023-11-16T16:07:30.759Z"
   },
   {
    "duration": 17,
    "start_time": "2023-11-16T16:08:21.952Z"
   },
   {
    "duration": 13,
    "start_time": "2023-11-16T16:08:25.672Z"
   },
   {
    "duration": 18,
    "start_time": "2023-11-16T16:08:42.687Z"
   },
   {
    "duration": 12,
    "start_time": "2023-11-16T16:08:44.784Z"
   },
   {
    "duration": 16,
    "start_time": "2023-11-16T16:08:58.109Z"
   },
   {
    "duration": 13,
    "start_time": "2023-11-16T16:09:00.554Z"
   },
   {
    "duration": 18,
    "start_time": "2023-11-16T16:09:10.246Z"
   },
   {
    "duration": 13,
    "start_time": "2023-11-16T16:09:13.086Z"
   },
   {
    "duration": 3,
    "start_time": "2023-11-16T16:09:25.704Z"
   },
   {
    "duration": 73,
    "start_time": "2023-11-16T16:09:25.710Z"
   },
   {
    "duration": 11,
    "start_time": "2023-11-16T16:09:25.785Z"
   },
   {
    "duration": 11,
    "start_time": "2023-11-16T16:09:25.797Z"
   },
   {
    "duration": 20,
    "start_time": "2023-11-16T16:09:25.810Z"
   },
   {
    "duration": 13,
    "start_time": "2023-11-16T16:09:25.832Z"
   },
   {
    "duration": 10,
    "start_time": "2023-11-16T16:09:25.846Z"
   },
   {
    "duration": 15,
    "start_time": "2023-11-16T16:09:25.858Z"
   },
   {
    "duration": 10,
    "start_time": "2023-11-16T16:09:25.875Z"
   },
   {
    "duration": 28,
    "start_time": "2023-11-16T16:09:25.886Z"
   },
   {
    "duration": 15,
    "start_time": "2023-11-16T16:09:25.916Z"
   },
   {
    "duration": 4,
    "start_time": "2023-11-16T16:09:25.933Z"
   },
   {
    "duration": 7,
    "start_time": "2023-11-16T16:09:25.938Z"
   },
   {
    "duration": 4,
    "start_time": "2023-11-16T16:09:25.948Z"
   },
   {
    "duration": 13,
    "start_time": "2023-11-16T16:09:25.954Z"
   },
   {
    "duration": 42,
    "start_time": "2023-11-16T16:09:25.969Z"
   },
   {
    "duration": 5,
    "start_time": "2023-11-16T16:09:26.013Z"
   },
   {
    "duration": 183,
    "start_time": "2023-11-16T16:09:26.020Z"
   },
   {
    "duration": 9,
    "start_time": "2023-11-16T16:09:26.205Z"
   },
   {
    "duration": 219,
    "start_time": "2023-11-16T16:09:26.215Z"
   },
   {
    "duration": 7,
    "start_time": "2023-11-16T16:09:26.436Z"
   },
   {
    "duration": 288,
    "start_time": "2023-11-16T16:09:26.445Z"
   },
   {
    "duration": 10,
    "start_time": "2023-11-16T16:09:26.734Z"
   },
   {
    "duration": 140,
    "start_time": "2023-11-16T16:09:26.745Z"
   },
   {
    "duration": 278,
    "start_time": "2023-11-16T16:09:26.887Z"
   },
   {
    "duration": 12,
    "start_time": "2023-11-16T16:09:27.167Z"
   },
   {
    "duration": 7,
    "start_time": "2023-11-16T16:09:27.180Z"
   },
   {
    "duration": 34,
    "start_time": "2023-11-16T16:09:27.189Z"
   },
   {
    "duration": 8,
    "start_time": "2023-11-16T16:09:27.225Z"
   },
   {
    "duration": 9,
    "start_time": "2023-11-16T16:09:27.235Z"
   },
   {
    "duration": 149,
    "start_time": "2023-11-16T16:09:27.246Z"
   },
   {
    "duration": 293,
    "start_time": "2023-11-16T16:09:27.396Z"
   },
   {
    "duration": 10,
    "start_time": "2023-11-16T16:09:27.691Z"
   },
   {
    "duration": 6,
    "start_time": "2023-11-16T16:09:27.711Z"
   },
   {
    "duration": 14,
    "start_time": "2023-11-16T16:09:27.718Z"
   },
   {
    "duration": 16,
    "start_time": "2023-11-16T16:09:27.734Z"
   },
   {
    "duration": 13,
    "start_time": "2023-11-16T16:09:27.751Z"
   },
   {
    "duration": 17,
    "start_time": "2023-11-16T16:09:27.766Z"
   },
   {
    "duration": 602,
    "start_time": "2023-11-16T16:09:27.784Z"
   },
   {
    "duration": 524,
    "start_time": "2023-11-16T16:09:28.387Z"
   },
   {
    "duration": 19,
    "start_time": "2023-11-16T16:09:28.915Z"
   },
   {
    "duration": 28,
    "start_time": "2023-11-16T16:09:28.936Z"
   },
   {
    "duration": 12,
    "start_time": "2023-11-16T16:09:28.966Z"
   },
   {
    "duration": 15,
    "start_time": "2023-11-16T16:09:43.245Z"
   },
   {
    "duration": 44,
    "start_time": "2023-11-16T16:10:12.346Z"
   },
   {
    "duration": 56,
    "start_time": "2023-11-16T16:10:24.140Z"
   },
   {
    "duration": 1365,
    "start_time": "2023-11-16T19:08:54.398Z"
   },
   {
    "duration": 306,
    "start_time": "2023-11-16T19:08:55.765Z"
   },
   {
    "duration": 13,
    "start_time": "2023-11-16T19:08:56.073Z"
   },
   {
    "duration": 14,
    "start_time": "2023-11-16T19:08:56.088Z"
   },
   {
    "duration": 11,
    "start_time": "2023-11-16T19:08:56.104Z"
   },
   {
    "duration": 5,
    "start_time": "2023-11-16T19:08:56.116Z"
   },
   {
    "duration": 9,
    "start_time": "2023-11-16T19:08:56.122Z"
   },
   {
    "duration": 9,
    "start_time": "2023-11-16T19:08:56.132Z"
   },
   {
    "duration": 6,
    "start_time": "2023-11-16T19:08:56.143Z"
   },
   {
    "duration": 6,
    "start_time": "2023-11-16T19:08:56.150Z"
   },
   {
    "duration": 47,
    "start_time": "2023-11-16T19:08:56.158Z"
   },
   {
    "duration": 4,
    "start_time": "2023-11-16T19:08:56.206Z"
   },
   {
    "duration": 15,
    "start_time": "2023-11-16T19:08:56.212Z"
   },
   {
    "duration": 4,
    "start_time": "2023-11-16T19:08:56.230Z"
   },
   {
    "duration": 7,
    "start_time": "2023-11-16T19:08:56.235Z"
   },
   {
    "duration": 6,
    "start_time": "2023-11-16T19:08:56.243Z"
   },
   {
    "duration": 14,
    "start_time": "2023-11-16T19:08:56.250Z"
   },
   {
    "duration": 165,
    "start_time": "2023-11-16T19:08:56.265Z"
   },
   {
    "duration": 5,
    "start_time": "2023-11-16T19:08:56.432Z"
   },
   {
    "duration": 84,
    "start_time": "2023-11-16T19:08:56.438Z"
   },
   {
    "duration": 8,
    "start_time": "2023-11-16T19:08:56.523Z"
   },
   {
    "duration": 251,
    "start_time": "2023-11-16T19:08:56.532Z"
   },
   {
    "duration": 16,
    "start_time": "2023-11-16T19:08:56.784Z"
   },
   {
    "duration": 125,
    "start_time": "2023-11-16T19:08:56.801Z"
   },
   {
    "duration": 241,
    "start_time": "2023-11-16T19:08:56.928Z"
   },
   {
    "duration": 14,
    "start_time": "2023-11-16T19:08:57.171Z"
   },
   {
    "duration": 19,
    "start_time": "2023-11-16T19:08:57.187Z"
   },
   {
    "duration": 18,
    "start_time": "2023-11-16T19:08:57.208Z"
   },
   {
    "duration": 5,
    "start_time": "2023-11-16T19:08:57.228Z"
   },
   {
    "duration": 14,
    "start_time": "2023-11-16T19:08:57.235Z"
   },
   {
    "duration": 120,
    "start_time": "2023-11-16T19:08:57.250Z"
   },
   {
    "duration": 336,
    "start_time": "2023-11-16T19:08:57.371Z"
   },
   {
    "duration": 15,
    "start_time": "2023-11-16T19:08:57.709Z"
   },
   {
    "duration": 6,
    "start_time": "2023-11-16T19:08:57.727Z"
   },
   {
    "duration": 8,
    "start_time": "2023-11-16T19:08:57.734Z"
   },
   {
    "duration": 16,
    "start_time": "2023-11-16T19:08:57.744Z"
   },
   {
    "duration": 38,
    "start_time": "2023-11-16T19:08:57.761Z"
   },
   {
    "duration": 11,
    "start_time": "2023-11-16T19:08:57.801Z"
   },
   {
    "duration": 461,
    "start_time": "2023-11-16T19:08:57.814Z"
   },
   {
    "duration": 452,
    "start_time": "2023-11-16T19:08:58.277Z"
   },
   {
    "duration": 17,
    "start_time": "2023-11-16T19:08:58.733Z"
   },
   {
    "duration": 25,
    "start_time": "2023-11-16T19:08:58.751Z"
   },
   {
    "duration": 84,
    "start_time": "2023-11-16T19:08:58.777Z"
   },
   {
    "duration": 12,
    "start_time": "2023-11-16T19:10:40.314Z"
   },
   {
    "duration": 72,
    "start_time": "2023-11-16T19:12:35.409Z"
   },
   {
    "duration": 49,
    "start_time": "2023-11-16T19:12:45.421Z"
   },
   {
    "duration": 50,
    "start_time": "2023-11-16T19:14:43.660Z"
   },
   {
    "duration": 593,
    "start_time": "2023-11-16T19:24:36.531Z"
   },
   {
    "duration": 2172,
    "start_time": "2023-11-16T19:24:37.135Z"
   },
   {
    "duration": 546,
    "start_time": "2023-11-16T19:25:00.025Z"
   },
   {
    "duration": 15,
    "start_time": "2023-11-16T19:25:22.569Z"
   },
   {
    "duration": 1417,
    "start_time": "2023-11-16T19:25:23.611Z"
   },
   {
    "duration": 18,
    "start_time": "2023-11-16T19:25:42.922Z"
   },
   {
    "duration": 10,
    "start_time": "2023-11-16T19:26:18.846Z"
   },
   {
    "duration": 14,
    "start_time": "2023-11-16T19:26:19.539Z"
   },
   {
    "duration": 16,
    "start_time": "2023-11-16T19:26:57.909Z"
   },
   {
    "duration": 13,
    "start_time": "2023-11-16T19:27:56.881Z"
   },
   {
    "duration": 24,
    "start_time": "2023-11-16T19:27:57.527Z"
   },
   {
    "duration": 13,
    "start_time": "2023-11-16T19:30:08.364Z"
   },
   {
    "duration": 18,
    "start_time": "2023-11-16T19:30:10.016Z"
   },
   {
    "duration": 73,
    "start_time": "2023-11-21T13:06:40.620Z"
   },
   {
    "duration": 1351,
    "start_time": "2023-11-21T13:07:11.020Z"
   },
   {
    "duration": 301,
    "start_time": "2023-11-21T13:07:12.373Z"
   },
   {
    "duration": 12,
    "start_time": "2023-11-21T13:07:12.676Z"
   },
   {
    "duration": 39,
    "start_time": "2023-11-21T13:07:12.689Z"
   },
   {
    "duration": 25,
    "start_time": "2023-11-21T13:07:12.730Z"
   },
   {
    "duration": 4,
    "start_time": "2023-11-21T13:07:12.756Z"
   },
   {
    "duration": 20,
    "start_time": "2023-11-21T13:07:12.761Z"
   },
   {
    "duration": 19,
    "start_time": "2023-11-21T13:07:12.783Z"
   },
   {
    "duration": 29,
    "start_time": "2023-11-21T13:07:12.804Z"
   },
   {
    "duration": 27,
    "start_time": "2023-11-21T13:07:12.834Z"
   },
   {
    "duration": 20,
    "start_time": "2023-11-21T13:07:12.862Z"
   },
   {
    "duration": 17,
    "start_time": "2023-11-21T13:07:12.883Z"
   },
   {
    "duration": 31,
    "start_time": "2023-11-21T13:07:12.901Z"
   },
   {
    "duration": 40,
    "start_time": "2023-11-21T13:07:12.935Z"
   },
   {
    "duration": 31,
    "start_time": "2023-11-21T13:07:12.976Z"
   },
   {
    "duration": 25,
    "start_time": "2023-11-21T13:07:13.008Z"
   },
   {
    "duration": 18,
    "start_time": "2023-11-21T13:07:13.035Z"
   },
   {
    "duration": 167,
    "start_time": "2023-11-21T13:07:13.055Z"
   },
   {
    "duration": 6,
    "start_time": "2023-11-21T13:07:13.225Z"
   },
   {
    "duration": 83,
    "start_time": "2023-11-21T13:07:13.232Z"
   },
   {
    "duration": 14,
    "start_time": "2023-11-21T13:07:13.316Z"
   },
   {
    "duration": 273,
    "start_time": "2023-11-21T13:07:13.331Z"
   },
   {
    "duration": 8,
    "start_time": "2023-11-21T13:07:13.606Z"
   },
   {
    "duration": 131,
    "start_time": "2023-11-21T13:07:13.615Z"
   },
   {
    "duration": 266,
    "start_time": "2023-11-21T13:07:13.748Z"
   },
   {
    "duration": 14,
    "start_time": "2023-11-21T13:07:14.015Z"
   },
   {
    "duration": 12,
    "start_time": "2023-11-21T13:07:14.031Z"
   },
   {
    "duration": 27,
    "start_time": "2023-11-21T13:07:14.044Z"
   },
   {
    "duration": 7,
    "start_time": "2023-11-21T13:07:14.073Z"
   },
   {
    "duration": 10,
    "start_time": "2023-11-21T13:07:14.081Z"
   },
   {
    "duration": 135,
    "start_time": "2023-11-21T13:07:14.092Z"
   },
   {
    "duration": 338,
    "start_time": "2023-11-21T13:07:14.229Z"
   },
   {
    "duration": 13,
    "start_time": "2023-11-21T13:07:14.568Z"
   },
   {
    "duration": 7,
    "start_time": "2023-11-21T13:07:14.583Z"
   },
   {
    "duration": 25,
    "start_time": "2023-11-21T13:07:14.592Z"
   },
   {
    "duration": 22,
    "start_time": "2023-11-21T13:07:14.621Z"
   },
   {
    "duration": 14,
    "start_time": "2023-11-21T13:07:14.644Z"
   },
   {
    "duration": 20,
    "start_time": "2023-11-21T13:07:14.659Z"
   },
   {
    "duration": 473,
    "start_time": "2023-11-21T13:07:14.681Z"
   },
   {
    "duration": 474,
    "start_time": "2023-11-21T13:07:15.156Z"
   },
   {
    "duration": 90,
    "start_time": "2023-11-21T13:07:15.634Z"
   },
   {
    "duration": 73,
    "start_time": "2023-11-21T13:08:11.160Z"
   },
   {
    "duration": 78,
    "start_time": "2023-11-21T13:08:50.978Z"
   },
   {
    "duration": 122,
    "start_time": "2023-11-21T13:09:11.793Z"
   },
   {
    "duration": 111,
    "start_time": "2023-11-21T13:10:40.153Z"
   },
   {
    "duration": 15,
    "start_time": "2023-11-21T13:12:59.097Z"
   },
   {
    "duration": 16,
    "start_time": "2023-11-21T13:14:38.154Z"
   },
   {
    "duration": 16,
    "start_time": "2023-11-21T13:14:51.338Z"
   },
   {
    "duration": 20,
    "start_time": "2023-11-21T13:15:01.788Z"
   },
   {
    "duration": 15,
    "start_time": "2023-11-21T13:15:26.293Z"
   },
   {
    "duration": 25,
    "start_time": "2023-11-21T13:16:38.147Z"
   },
   {
    "duration": 10,
    "start_time": "2023-11-21T13:17:30.505Z"
   },
   {
    "duration": 39,
    "start_time": "2023-11-21T13:19:33.667Z"
   },
   {
    "duration": 38,
    "start_time": "2023-11-21T13:20:17.149Z"
   },
   {
    "duration": 40,
    "start_time": "2023-11-21T13:20:47.097Z"
   },
   {
    "duration": 39,
    "start_time": "2023-11-21T13:21:28.011Z"
   },
   {
    "duration": 29,
    "start_time": "2023-11-21T13:24:04.444Z"
   },
   {
    "duration": 16,
    "start_time": "2023-11-21T13:24:34.143Z"
   },
   {
    "duration": 14,
    "start_time": "2023-11-21T13:33:13.177Z"
   },
   {
    "duration": 72,
    "start_time": "2023-11-21T13:40:13.388Z"
   },
   {
    "duration": 3,
    "start_time": "2023-11-21T13:40:18.973Z"
   },
   {
    "duration": 213,
    "start_time": "2023-11-21T13:43:32.115Z"
   },
   {
    "duration": 46,
    "start_time": "2023-11-21T17:29:17.223Z"
   },
   {
    "duration": 1273,
    "start_time": "2023-11-21T17:29:51.466Z"
   },
   {
    "duration": 182,
    "start_time": "2023-11-21T17:29:52.741Z"
   },
   {
    "duration": 12,
    "start_time": "2023-11-21T17:29:52.924Z"
   },
   {
    "duration": 20,
    "start_time": "2023-11-21T17:29:52.938Z"
   },
   {
    "duration": 13,
    "start_time": "2023-11-21T17:29:52.960Z"
   },
   {
    "duration": 4,
    "start_time": "2023-11-21T17:29:52.975Z"
   },
   {
    "duration": 12,
    "start_time": "2023-11-21T17:29:52.981Z"
   },
   {
    "duration": 14,
    "start_time": "2023-11-21T17:29:52.994Z"
   },
   {
    "duration": 18,
    "start_time": "2023-11-21T17:29:53.022Z"
   },
   {
    "duration": 10,
    "start_time": "2023-11-21T17:29:53.042Z"
   },
   {
    "duration": 31,
    "start_time": "2023-11-21T17:29:53.054Z"
   },
   {
    "duration": 7,
    "start_time": "2023-11-21T17:29:53.086Z"
   },
   {
    "duration": 22,
    "start_time": "2023-11-21T17:29:53.095Z"
   },
   {
    "duration": 17,
    "start_time": "2023-11-21T17:29:53.120Z"
   },
   {
    "duration": 28,
    "start_time": "2023-11-21T17:29:53.138Z"
   },
   {
    "duration": 24,
    "start_time": "2023-11-21T17:29:53.167Z"
   },
   {
    "duration": 9,
    "start_time": "2023-11-21T17:29:53.193Z"
   },
   {
    "duration": 169,
    "start_time": "2023-11-21T17:29:53.203Z"
   },
   {
    "duration": 5,
    "start_time": "2023-11-21T17:29:53.374Z"
   },
   {
    "duration": 94,
    "start_time": "2023-11-21T17:29:53.380Z"
   },
   {
    "duration": 8,
    "start_time": "2023-11-21T17:29:53.475Z"
   },
   {
    "duration": 264,
    "start_time": "2023-11-21T17:29:53.484Z"
   },
   {
    "duration": 8,
    "start_time": "2023-11-21T17:29:53.750Z"
   },
   {
    "duration": 130,
    "start_time": "2023-11-21T17:29:53.759Z"
   },
   {
    "duration": 251,
    "start_time": "2023-11-21T17:29:53.891Z"
   },
   {
    "duration": 12,
    "start_time": "2023-11-21T17:29:54.143Z"
   },
   {
    "duration": 13,
    "start_time": "2023-11-21T17:29:54.156Z"
   },
   {
    "duration": 19,
    "start_time": "2023-11-21T17:29:54.171Z"
   },
   {
    "duration": 9,
    "start_time": "2023-11-21T17:29:54.192Z"
   },
   {
    "duration": 13,
    "start_time": "2023-11-21T17:29:54.202Z"
   },
   {
    "duration": 127,
    "start_time": "2023-11-21T17:29:54.222Z"
   },
   {
    "duration": 317,
    "start_time": "2023-11-21T17:29:54.350Z"
   },
   {
    "duration": 17,
    "start_time": "2023-11-21T17:29:54.669Z"
   },
   {
    "duration": 22,
    "start_time": "2023-11-21T17:29:54.687Z"
   },
   {
    "duration": 20,
    "start_time": "2023-11-21T17:29:54.710Z"
   },
   {
    "duration": 18,
    "start_time": "2023-11-21T17:29:54.731Z"
   },
   {
    "duration": 11,
    "start_time": "2023-11-21T17:29:54.751Z"
   },
   {
    "duration": 16,
    "start_time": "2023-11-21T17:29:54.763Z"
   },
   {
    "duration": 443,
    "start_time": "2023-11-21T17:29:54.781Z"
   },
   {
    "duration": 455,
    "start_time": "2023-11-21T17:29:55.226Z"
   },
   {
    "duration": 28,
    "start_time": "2023-11-21T17:29:55.685Z"
   },
   {
    "duration": 13,
    "start_time": "2023-11-21T17:29:55.722Z"
   },
   {
    "duration": 13,
    "start_time": "2023-11-21T17:29:55.736Z"
   },
   {
    "duration": 201,
    "start_time": "2023-11-21T17:29:55.751Z"
   },
   {
    "duration": 69,
    "start_time": "2023-11-21T17:29:55.954Z"
   },
   {
    "duration": 3,
    "start_time": "2023-11-21T17:30:19.630Z"
   },
   {
    "duration": 5,
    "start_time": "2023-11-21T17:30:24.286Z"
   },
   {
    "duration": 6,
    "start_time": "2023-11-21T17:30:37.744Z"
   },
   {
    "duration": 5,
    "start_time": "2023-11-21T17:31:02.682Z"
   },
   {
    "duration": 3,
    "start_time": "2023-11-21T17:48:03.301Z"
   },
   {
    "duration": 5,
    "start_time": "2023-11-21T17:48:48.208Z"
   },
   {
    "duration": 2,
    "start_time": "2023-11-21T17:53:38.392Z"
   },
   {
    "duration": 6,
    "start_time": "2023-11-21T17:54:49.231Z"
   },
   {
    "duration": 6,
    "start_time": "2023-11-21T17:56:02.786Z"
   },
   {
    "duration": 3,
    "start_time": "2023-11-21T17:57:52.874Z"
   },
   {
    "duration": 17,
    "start_time": "2023-11-21T17:57:52.879Z"
   },
   {
    "duration": 2,
    "start_time": "2023-11-21T17:59:07.071Z"
   },
   {
    "duration": 6,
    "start_time": "2023-11-21T17:59:16.808Z"
   },
   {
    "duration": 4,
    "start_time": "2023-11-21T18:00:16.872Z"
   },
   {
    "duration": 6,
    "start_time": "2023-11-21T18:00:18.371Z"
   },
   {
    "duration": 225,
    "start_time": "2023-11-21T18:00:34.609Z"
   },
   {
    "duration": 4,
    "start_time": "2023-11-21T18:01:12.964Z"
   },
   {
    "duration": 5,
    "start_time": "2023-11-21T18:01:14.354Z"
   },
   {
    "duration": 3,
    "start_time": "2023-11-21T18:01:30.382Z"
   },
   {
    "duration": 6,
    "start_time": "2023-11-21T18:01:31.960Z"
   },
   {
    "duration": 2,
    "start_time": "2023-11-21T18:01:50.929Z"
   },
   {
    "duration": 5,
    "start_time": "2023-11-21T18:01:51.994Z"
   },
   {
    "duration": 73,
    "start_time": "2023-11-21T18:02:31.177Z"
   },
   {
    "duration": 3,
    "start_time": "2023-11-21T18:02:47.288Z"
   },
   {
    "duration": 7,
    "start_time": "2023-11-21T18:02:48.741Z"
   },
   {
    "duration": 8,
    "start_time": "2023-11-21T18:09:11.513Z"
   },
   {
    "duration": 3,
    "start_time": "2023-11-21T18:09:15.307Z"
   },
   {
    "duration": 8,
    "start_time": "2023-11-21T18:09:16.834Z"
   },
   {
    "duration": 6,
    "start_time": "2023-11-21T18:09:35.944Z"
   },
   {
    "duration": 6,
    "start_time": "2023-11-21T18:09:41.439Z"
   },
   {
    "duration": 5,
    "start_time": "2023-11-21T18:10:33.759Z"
   },
   {
    "duration": 22,
    "start_time": "2023-11-21T18:12:53.556Z"
   },
   {
    "duration": 14,
    "start_time": "2023-11-21T18:12:54.759Z"
   },
   {
    "duration": 75,
    "start_time": "2023-11-21T18:13:26.650Z"
   },
   {
    "duration": 24,
    "start_time": "2023-11-21T18:13:46.890Z"
   },
   {
    "duration": 17,
    "start_time": "2023-11-21T18:13:47.825Z"
   },
   {
    "duration": 3,
    "start_time": "2023-11-21T18:13:59.402Z"
   },
   {
    "duration": 196,
    "start_time": "2023-11-21T18:14:00.182Z"
   },
   {
    "duration": 7,
    "start_time": "2023-11-21T18:20:00.637Z"
   },
   {
    "duration": 9,
    "start_time": "2023-11-21T18:20:12.681Z"
   },
   {
    "duration": 8,
    "start_time": "2023-11-21T18:22:42.221Z"
   },
   {
    "duration": 10,
    "start_time": "2023-11-21T18:23:17.798Z"
   },
   {
    "duration": 10,
    "start_time": "2023-11-21T18:23:23.928Z"
   },
   {
    "duration": 10,
    "start_time": "2023-11-21T18:23:30.272Z"
   },
   {
    "duration": 10,
    "start_time": "2023-11-21T18:24:23.739Z"
   },
   {
    "duration": 11,
    "start_time": "2023-11-21T18:24:28.615Z"
   },
   {
    "duration": 9,
    "start_time": "2023-11-21T18:24:37.856Z"
   },
   {
    "duration": 6,
    "start_time": "2023-11-21T18:26:42.840Z"
   },
   {
    "duration": 4,
    "start_time": "2023-11-21T18:27:00.079Z"
   },
   {
    "duration": 3,
    "start_time": "2023-11-21T18:27:14.183Z"
   },
   {
    "duration": 4,
    "start_time": "2023-11-21T18:27:15.286Z"
   },
   {
    "duration": 10,
    "start_time": "2023-11-21T18:27:37.880Z"
   },
   {
    "duration": 10,
    "start_time": "2023-11-21T18:27:48.369Z"
   },
   {
    "duration": 10,
    "start_time": "2023-11-21T18:28:54.364Z"
   },
   {
    "duration": 75,
    "start_time": "2023-11-21T18:42:27.183Z"
   },
   {
    "duration": 93,
    "start_time": "2023-11-22T13:52:14.597Z"
   },
   {
    "duration": 3,
    "start_time": "2023-11-22T13:52:28.233Z"
   },
   {
    "duration": 41,
    "start_time": "2023-11-22T15:11:43.586Z"
   },
   {
    "duration": 1386,
    "start_time": "2023-11-22T15:23:30.278Z"
   },
   {
    "duration": 179,
    "start_time": "2023-11-22T15:23:31.665Z"
   },
   {
    "duration": 10,
    "start_time": "2023-11-22T15:23:31.846Z"
   },
   {
    "duration": 24,
    "start_time": "2023-11-22T15:23:31.857Z"
   },
   {
    "duration": 9,
    "start_time": "2023-11-22T15:23:31.883Z"
   },
   {
    "duration": 16,
    "start_time": "2023-11-22T15:23:31.894Z"
   },
   {
    "duration": 19,
    "start_time": "2023-11-22T15:23:31.911Z"
   },
   {
    "duration": 18,
    "start_time": "2023-11-22T15:23:31.932Z"
   },
   {
    "duration": 5,
    "start_time": "2023-11-22T15:23:31.951Z"
   },
   {
    "duration": 15,
    "start_time": "2023-11-22T15:23:31.957Z"
   },
   {
    "duration": 21,
    "start_time": "2023-11-22T15:23:31.973Z"
   },
   {
    "duration": 3,
    "start_time": "2023-11-22T15:23:31.995Z"
   },
   {
    "duration": 17,
    "start_time": "2023-11-22T15:23:32.000Z"
   },
   {
    "duration": 21,
    "start_time": "2023-11-22T15:23:32.019Z"
   },
   {
    "duration": 15,
    "start_time": "2023-11-22T15:23:32.042Z"
   },
   {
    "duration": 7,
    "start_time": "2023-11-22T15:23:32.058Z"
   },
   {
    "duration": 13,
    "start_time": "2023-11-22T15:23:32.066Z"
   },
   {
    "duration": 145,
    "start_time": "2023-11-22T15:23:32.080Z"
   },
   {
    "duration": 4,
    "start_time": "2023-11-22T15:23:32.227Z"
   },
   {
    "duration": 95,
    "start_time": "2023-11-22T15:23:32.233Z"
   },
   {
    "duration": 7,
    "start_time": "2023-11-22T15:23:32.329Z"
   },
   {
    "duration": 283,
    "start_time": "2023-11-22T15:23:32.337Z"
   },
   {
    "duration": 7,
    "start_time": "2023-11-22T15:23:32.621Z"
   },
   {
    "duration": 126,
    "start_time": "2023-11-22T15:23:32.629Z"
   },
   {
    "duration": 235,
    "start_time": "2023-11-22T15:23:32.757Z"
   },
   {
    "duration": 11,
    "start_time": "2023-11-22T15:23:32.994Z"
   },
   {
    "duration": 24,
    "start_time": "2023-11-22T15:23:33.006Z"
   },
   {
    "duration": 8,
    "start_time": "2023-11-22T15:23:33.032Z"
   },
   {
    "duration": 6,
    "start_time": "2023-11-22T15:23:33.042Z"
   },
   {
    "duration": 87,
    "start_time": "2023-11-22T15:23:33.049Z"
   },
   {
    "duration": 115,
    "start_time": "2023-11-22T15:23:33.138Z"
   },
   {
    "duration": 236,
    "start_time": "2023-11-22T15:23:33.255Z"
   },
   {
    "duration": 9,
    "start_time": "2023-11-22T15:23:33.492Z"
   },
   {
    "duration": 6,
    "start_time": "2023-11-22T15:23:33.502Z"
   },
   {
    "duration": 15,
    "start_time": "2023-11-22T15:23:33.509Z"
   },
   {
    "duration": 52,
    "start_time": "2023-11-22T15:23:33.525Z"
   },
   {
    "duration": 11,
    "start_time": "2023-11-22T15:23:33.578Z"
   },
   {
    "duration": 17,
    "start_time": "2023-11-22T15:23:33.590Z"
   },
   {
    "duration": 404,
    "start_time": "2023-11-22T15:23:33.609Z"
   },
   {
    "duration": 425,
    "start_time": "2023-11-22T15:23:34.014Z"
   },
   {
    "duration": 25,
    "start_time": "2023-11-22T15:23:34.442Z"
   },
   {
    "duration": 23,
    "start_time": "2023-11-22T15:23:34.469Z"
   },
   {
    "duration": 3,
    "start_time": "2023-11-22T15:23:34.494Z"
   },
   {
    "duration": 208,
    "start_time": "2023-11-22T15:23:34.498Z"
   },
   {
    "duration": 3,
    "start_time": "2023-11-22T15:23:34.707Z"
   },
   {
    "duration": 7,
    "start_time": "2023-11-22T15:23:34.711Z"
   },
   {
    "duration": 4,
    "start_time": "2023-11-22T15:23:34.720Z"
   },
   {
    "duration": 12,
    "start_time": "2023-11-22T15:23:34.726Z"
   },
   {
    "duration": 6,
    "start_time": "2023-11-22T15:27:07.915Z"
   },
   {
    "duration": 5,
    "start_time": "2023-11-22T15:35:21.739Z"
   },
   {
    "duration": 5,
    "start_time": "2023-11-22T15:37:42.204Z"
   },
   {
    "duration": 7,
    "start_time": "2023-11-22T15:38:10.930Z"
   },
   {
    "duration": 5,
    "start_time": "2023-11-22T15:39:30.217Z"
   },
   {
    "duration": 6,
    "start_time": "2023-11-22T15:39:34.978Z"
   },
   {
    "duration": 6,
    "start_time": "2023-11-22T15:41:02.805Z"
   },
   {
    "duration": 4,
    "start_time": "2023-11-22T15:41:22.929Z"
   },
   {
    "duration": 6,
    "start_time": "2023-11-22T15:42:45.735Z"
   },
   {
    "duration": 4,
    "start_time": "2023-11-22T15:42:55.418Z"
   },
   {
    "duration": 5,
    "start_time": "2023-11-22T15:45:28.154Z"
   },
   {
    "duration": 3,
    "start_time": "2023-11-22T15:49:10.968Z"
   },
   {
    "duration": 6,
    "start_time": "2023-11-22T15:49:44.408Z"
   },
   {
    "duration": 6,
    "start_time": "2023-11-22T15:51:19.735Z"
   },
   {
    "duration": 6,
    "start_time": "2023-11-22T15:51:45.788Z"
   },
   {
    "duration": 4,
    "start_time": "2023-11-22T15:51:48.256Z"
   },
   {
    "duration": 7,
    "start_time": "2023-11-22T15:54:17.161Z"
   },
   {
    "duration": 4,
    "start_time": "2023-11-22T15:54:18.719Z"
   },
   {
    "duration": 5,
    "start_time": "2023-11-22T15:54:43.561Z"
   },
   {
    "duration": 3,
    "start_time": "2023-11-22T17:11:16.918Z"
   },
   {
    "duration": 66,
    "start_time": "2023-11-22T17:11:16.923Z"
   },
   {
    "duration": 9,
    "start_time": "2023-11-22T17:11:16.991Z"
   },
   {
    "duration": 9,
    "start_time": "2023-11-22T17:11:17.002Z"
   },
   {
    "duration": 9,
    "start_time": "2023-11-22T17:11:17.013Z"
   },
   {
    "duration": 4,
    "start_time": "2023-11-22T17:11:17.023Z"
   },
   {
    "duration": 8,
    "start_time": "2023-11-22T17:11:17.028Z"
   },
   {
    "duration": 8,
    "start_time": "2023-11-22T17:11:17.037Z"
   },
   {
    "duration": 36,
    "start_time": "2023-11-22T17:11:17.047Z"
   },
   {
    "duration": 5,
    "start_time": "2023-11-22T17:11:17.084Z"
   },
   {
    "duration": 12,
    "start_time": "2023-11-22T17:11:17.090Z"
   },
   {
    "duration": 3,
    "start_time": "2023-11-22T17:11:17.103Z"
   },
   {
    "duration": 3,
    "start_time": "2023-11-22T17:11:17.108Z"
   },
   {
    "duration": 3,
    "start_time": "2023-11-22T17:11:17.113Z"
   },
   {
    "duration": 11,
    "start_time": "2023-11-22T17:11:17.117Z"
   },
   {
    "duration": 10,
    "start_time": "2023-11-22T17:11:17.129Z"
   },
   {
    "duration": 10,
    "start_time": "2023-11-22T17:11:17.140Z"
   },
   {
    "duration": 146,
    "start_time": "2023-11-22T17:11:17.152Z"
   },
   {
    "duration": 5,
    "start_time": "2023-11-22T17:11:17.300Z"
   },
   {
    "duration": 156,
    "start_time": "2023-11-22T17:11:17.306Z"
   },
   {
    "duration": 7,
    "start_time": "2023-11-22T17:11:17.464Z"
   },
   {
    "duration": 221,
    "start_time": "2023-11-22T17:11:17.472Z"
   },
   {
    "duration": 7,
    "start_time": "2023-11-22T17:11:17.694Z"
   },
   {
    "duration": 113,
    "start_time": "2023-11-22T17:11:17.702Z"
   },
   {
    "duration": 227,
    "start_time": "2023-11-22T17:11:17.817Z"
   },
   {
    "duration": 10,
    "start_time": "2023-11-22T17:11:18.046Z"
   },
   {
    "duration": 5,
    "start_time": "2023-11-22T17:11:18.057Z"
   },
   {
    "duration": 23,
    "start_time": "2023-11-22T17:11:18.064Z"
   },
   {
    "duration": 9,
    "start_time": "2023-11-22T17:11:18.088Z"
   },
   {
    "duration": 15,
    "start_time": "2023-11-22T17:11:18.098Z"
   },
   {
    "duration": 109,
    "start_time": "2023-11-22T17:11:18.114Z"
   },
   {
    "duration": 228,
    "start_time": "2023-11-22T17:11:18.224Z"
   },
   {
    "duration": 9,
    "start_time": "2023-11-22T17:11:18.454Z"
   },
   {
    "duration": 18,
    "start_time": "2023-11-22T17:11:18.465Z"
   },
   {
    "duration": 12,
    "start_time": "2023-11-22T17:11:18.485Z"
   },
   {
    "duration": 14,
    "start_time": "2023-11-22T17:11:18.499Z"
   },
   {
    "duration": 11,
    "start_time": "2023-11-22T17:11:18.514Z"
   },
   {
    "duration": 19,
    "start_time": "2023-11-22T17:11:18.526Z"
   },
   {
    "duration": 488,
    "start_time": "2023-11-22T17:11:18.546Z"
   },
   {
    "duration": 435,
    "start_time": "2023-11-22T17:11:19.037Z"
   },
   {
    "duration": 26,
    "start_time": "2023-11-22T17:11:19.475Z"
   },
   {
    "duration": 12,
    "start_time": "2023-11-22T17:11:19.503Z"
   },
   {
    "duration": 3,
    "start_time": "2023-11-22T17:11:19.516Z"
   },
   {
    "duration": 200,
    "start_time": "2023-11-22T17:11:19.520Z"
   },
   {
    "duration": 2,
    "start_time": "2023-11-22T17:11:19.722Z"
   },
   {
    "duration": 8,
    "start_time": "2023-11-22T17:11:19.725Z"
   },
   {
    "duration": 3,
    "start_time": "2023-11-22T17:11:19.734Z"
   },
   {
    "duration": 45,
    "start_time": "2023-11-22T17:11:19.738Z"
   },
   {
    "duration": 11,
    "start_time": "2023-11-22T17:11:19.784Z"
   },
   {
    "duration": 5,
    "start_time": "2023-11-22T17:16:39.197Z"
   },
   {
    "duration": 6,
    "start_time": "2023-11-22T17:17:38.329Z"
   },
   {
    "duration": 4,
    "start_time": "2023-11-22T17:17:43.021Z"
   },
   {
    "duration": 10,
    "start_time": "2023-11-22T17:24:39.670Z"
   },
   {
    "duration": 11,
    "start_time": "2023-11-22T17:27:10.851Z"
   },
   {
    "duration": 3,
    "start_time": "2023-11-22T17:27:17.251Z"
   },
   {
    "duration": 1197,
    "start_time": "2023-11-22T18:34:31.089Z"
   },
   {
    "duration": 71,
    "start_time": "2023-11-22T18:34:32.288Z"
   },
   {
    "duration": 13,
    "start_time": "2023-11-22T18:34:32.361Z"
   },
   {
    "duration": 32,
    "start_time": "2023-11-22T18:34:32.377Z"
   },
   {
    "duration": 15,
    "start_time": "2023-11-22T18:34:32.411Z"
   },
   {
    "duration": 4,
    "start_time": "2023-11-22T18:34:32.428Z"
   },
   {
    "duration": 36,
    "start_time": "2023-11-22T18:34:32.434Z"
   },
   {
    "duration": 11,
    "start_time": "2023-11-22T18:34:32.473Z"
   },
   {
    "duration": 12,
    "start_time": "2023-11-22T18:34:32.486Z"
   },
   {
    "duration": 25,
    "start_time": "2023-11-22T18:34:32.501Z"
   },
   {
    "duration": 25,
    "start_time": "2023-11-22T18:34:32.527Z"
   },
   {
    "duration": 43,
    "start_time": "2023-11-22T18:34:32.553Z"
   },
   {
    "duration": 28,
    "start_time": "2023-11-22T18:34:32.598Z"
   },
   {
    "duration": 15,
    "start_time": "2023-11-22T18:34:32.628Z"
   },
   {
    "duration": 17,
    "start_time": "2023-11-22T18:34:32.644Z"
   },
   {
    "duration": 21,
    "start_time": "2023-11-22T18:34:32.663Z"
   },
   {
    "duration": 31,
    "start_time": "2023-11-22T18:34:32.685Z"
   },
   {
    "duration": 178,
    "start_time": "2023-11-22T18:34:32.718Z"
   },
   {
    "duration": 6,
    "start_time": "2023-11-22T18:34:32.897Z"
   },
   {
    "duration": 167,
    "start_time": "2023-11-22T18:34:32.904Z"
   },
   {
    "duration": 177,
    "start_time": "2023-11-22T18:34:33.073Z"
   },
   {
    "duration": 344,
    "start_time": "2023-11-22T18:34:33.252Z"
   },
   {
    "duration": 8,
    "start_time": "2023-11-22T18:34:33.598Z"
   },
   {
    "duration": 138,
    "start_time": "2023-11-22T18:34:33.608Z"
   },
   {
    "duration": 261,
    "start_time": "2023-11-22T18:34:33.748Z"
   },
   {
    "duration": 12,
    "start_time": "2023-11-22T18:34:34.010Z"
   },
   {
    "duration": 19,
    "start_time": "2023-11-22T18:34:34.024Z"
   },
   {
    "duration": 31,
    "start_time": "2023-11-22T18:34:34.046Z"
   },
   {
    "duration": 21,
    "start_time": "2023-11-22T18:34:34.079Z"
   },
   {
    "duration": 46,
    "start_time": "2023-11-22T18:34:34.102Z"
   },
   {
    "duration": 157,
    "start_time": "2023-11-22T18:34:34.149Z"
   },
   {
    "duration": 348,
    "start_time": "2023-11-22T18:34:34.308Z"
   },
   {
    "duration": 15,
    "start_time": "2023-11-22T18:34:34.658Z"
   },
   {
    "duration": 17,
    "start_time": "2023-11-22T18:34:34.677Z"
   },
   {
    "duration": 23,
    "start_time": "2023-11-22T18:34:34.695Z"
   },
   {
    "duration": 23,
    "start_time": "2023-11-22T18:34:34.719Z"
   },
   {
    "duration": 12,
    "start_time": "2023-11-22T18:34:34.743Z"
   },
   {
    "duration": 26,
    "start_time": "2023-11-22T18:34:34.760Z"
   },
   {
    "duration": 455,
    "start_time": "2023-11-22T18:34:34.788Z"
   },
   {
    "duration": 480,
    "start_time": "2023-11-22T18:34:35.244Z"
   },
   {
    "duration": 36,
    "start_time": "2023-11-22T18:34:35.726Z"
   },
   {
    "duration": 19,
    "start_time": "2023-11-22T18:34:35.763Z"
   },
   {
    "duration": 41,
    "start_time": "2023-11-22T18:34:35.784Z"
   },
   {
    "duration": 204,
    "start_time": "2023-11-22T18:34:35.826Z"
   },
   {
    "duration": 3,
    "start_time": "2023-11-22T18:34:36.031Z"
   },
   {
    "duration": 24,
    "start_time": "2023-11-22T18:34:36.036Z"
   },
   {
    "duration": 30,
    "start_time": "2023-11-22T18:34:36.061Z"
   },
   {
    "duration": 28,
    "start_time": "2023-11-22T18:34:36.093Z"
   },
   {
    "duration": 9,
    "start_time": "2023-11-22T18:34:36.122Z"
   },
   {
    "duration": 26,
    "start_time": "2023-11-22T18:34:36.132Z"
   },
   {
    "duration": 26,
    "start_time": "2023-11-22T18:34:36.160Z"
   },
   {
    "duration": 1118,
    "start_time": "2023-11-22T18:37:04.700Z"
   },
   {
    "duration": 74,
    "start_time": "2023-11-22T18:37:05.820Z"
   },
   {
    "duration": 11,
    "start_time": "2023-11-22T18:37:05.896Z"
   },
   {
    "duration": 17,
    "start_time": "2023-11-22T18:37:05.909Z"
   },
   {
    "duration": 32,
    "start_time": "2023-11-22T18:37:05.928Z"
   },
   {
    "duration": 49,
    "start_time": "2023-11-22T18:37:05.962Z"
   },
   {
    "duration": 53,
    "start_time": "2023-11-22T18:37:06.012Z"
   },
   {
    "duration": 43,
    "start_time": "2023-11-22T18:37:06.067Z"
   },
   {
    "duration": 22,
    "start_time": "2023-11-22T18:37:06.111Z"
   },
   {
    "duration": 12,
    "start_time": "2023-11-22T18:37:06.135Z"
   },
   {
    "duration": 45,
    "start_time": "2023-11-22T18:37:06.149Z"
   },
   {
    "duration": 4,
    "start_time": "2023-11-22T18:37:06.196Z"
   },
   {
    "duration": 33,
    "start_time": "2023-11-22T18:37:06.201Z"
   },
   {
    "duration": 4,
    "start_time": "2023-11-22T18:37:06.237Z"
   },
   {
    "duration": 14,
    "start_time": "2023-11-22T18:37:06.242Z"
   },
   {
    "duration": 7,
    "start_time": "2023-11-22T18:37:06.258Z"
   },
   {
    "duration": 9,
    "start_time": "2023-11-22T18:37:06.267Z"
   },
   {
    "duration": 161,
    "start_time": "2023-11-22T18:37:06.279Z"
   },
   {
    "duration": 5,
    "start_time": "2023-11-22T18:37:06.442Z"
   },
   {
    "duration": 74,
    "start_time": "2023-11-22T18:37:06.456Z"
   },
   {
    "duration": 25,
    "start_time": "2023-11-22T18:37:06.532Z"
   },
   {
    "duration": 245,
    "start_time": "2023-11-22T18:37:06.558Z"
   },
   {
    "duration": 13,
    "start_time": "2023-11-22T18:37:06.805Z"
   },
   {
    "duration": 130,
    "start_time": "2023-11-22T18:37:06.819Z"
   },
   {
    "duration": 280,
    "start_time": "2023-11-22T18:37:06.955Z"
   },
   {
    "duration": 11,
    "start_time": "2023-11-22T18:37:07.237Z"
   },
   {
    "duration": 15,
    "start_time": "2023-11-22T18:37:07.249Z"
   },
   {
    "duration": 13,
    "start_time": "2023-11-22T18:37:07.266Z"
   },
   {
    "duration": 15,
    "start_time": "2023-11-22T18:37:07.281Z"
   },
   {
    "duration": 10,
    "start_time": "2023-11-22T18:37:07.298Z"
   },
   {
    "duration": 152,
    "start_time": "2023-11-22T18:37:07.310Z"
   },
   {
    "duration": 343,
    "start_time": "2023-11-22T18:37:07.466Z"
   },
   {
    "duration": 11,
    "start_time": "2023-11-22T18:37:07.811Z"
   },
   {
    "duration": 18,
    "start_time": "2023-11-22T18:37:07.824Z"
   },
   {
    "duration": 3,
    "start_time": "2023-11-22T18:37:07.844Z"
   },
   {
    "duration": 17,
    "start_time": "2023-11-22T18:37:07.849Z"
   },
   {
    "duration": 19,
    "start_time": "2023-11-22T18:37:07.868Z"
   },
   {
    "duration": 13,
    "start_time": "2023-11-22T18:37:07.889Z"
   },
   {
    "duration": 515,
    "start_time": "2023-11-22T18:37:07.904Z"
   },
   {
    "duration": 502,
    "start_time": "2023-11-22T18:37:08.421Z"
   },
   {
    "duration": 53,
    "start_time": "2023-11-22T18:37:08.927Z"
   },
   {
    "duration": 14,
    "start_time": "2023-11-22T18:37:08.982Z"
   },
   {
    "duration": 35,
    "start_time": "2023-11-22T18:37:08.997Z"
   },
   {
    "duration": 207,
    "start_time": "2023-11-22T18:37:09.034Z"
   },
   {
    "duration": 4,
    "start_time": "2023-11-22T18:37:09.242Z"
   },
   {
    "duration": 15,
    "start_time": "2023-11-22T18:37:09.247Z"
   },
   {
    "duration": 24,
    "start_time": "2023-11-22T18:37:09.263Z"
   },
   {
    "duration": 13,
    "start_time": "2023-11-22T18:37:09.289Z"
   },
   {
    "duration": 21,
    "start_time": "2023-11-22T18:37:09.303Z"
   },
   {
    "duration": 15,
    "start_time": "2023-11-22T18:37:09.325Z"
   },
   {
    "duration": 15,
    "start_time": "2023-11-22T18:37:09.342Z"
   },
   {
    "duration": 22,
    "start_time": "2023-11-22T18:37:21.955Z"
   },
   {
    "duration": 118,
    "start_time": "2023-11-22T18:39:35.101Z"
   },
   {
    "duration": 1221,
    "start_time": "2023-11-22T18:40:10.868Z"
   },
   {
    "duration": 72,
    "start_time": "2023-11-22T18:40:12.091Z"
   },
   {
    "duration": 12,
    "start_time": "2023-11-22T18:40:12.166Z"
   },
   {
    "duration": 34,
    "start_time": "2023-11-22T18:40:12.180Z"
   },
   {
    "duration": 52,
    "start_time": "2023-11-22T18:40:12.215Z"
   },
   {
    "duration": 12,
    "start_time": "2023-11-22T18:40:12.268Z"
   },
   {
    "duration": 17,
    "start_time": "2023-11-22T18:40:12.282Z"
   },
   {
    "duration": 42,
    "start_time": "2023-11-22T18:40:12.300Z"
   },
   {
    "duration": 11,
    "start_time": "2023-11-22T18:40:12.344Z"
   },
   {
    "duration": 21,
    "start_time": "2023-11-22T18:40:12.358Z"
   },
   {
    "duration": 17,
    "start_time": "2023-11-22T18:40:12.380Z"
   },
   {
    "duration": 8,
    "start_time": "2023-11-22T18:40:12.399Z"
   },
   {
    "duration": 15,
    "start_time": "2023-11-22T18:40:12.409Z"
   },
   {
    "duration": 20,
    "start_time": "2023-11-22T18:40:12.425Z"
   },
   {
    "duration": 14,
    "start_time": "2023-11-22T18:40:12.446Z"
   },
   {
    "duration": 22,
    "start_time": "2023-11-22T18:40:12.462Z"
   },
   {
    "duration": 19,
    "start_time": "2023-11-22T18:40:12.486Z"
   },
   {
    "duration": 13,
    "start_time": "2023-11-22T18:40:12.507Z"
   },
   {
    "duration": 176,
    "start_time": "2023-11-22T18:40:12.522Z"
   },
   {
    "duration": 6,
    "start_time": "2023-11-22T18:40:12.700Z"
   },
   {
    "duration": 80,
    "start_time": "2023-11-22T18:40:12.707Z"
   },
   {
    "duration": 8,
    "start_time": "2023-11-22T18:40:12.788Z"
   },
   {
    "duration": 246,
    "start_time": "2023-11-22T18:40:12.798Z"
   },
   {
    "duration": 17,
    "start_time": "2023-11-22T18:40:13.046Z"
   },
   {
    "duration": 140,
    "start_time": "2023-11-22T18:40:13.065Z"
   },
   {
    "duration": 261,
    "start_time": "2023-11-22T18:40:13.206Z"
   },
   {
    "duration": 15,
    "start_time": "2023-11-22T18:40:13.469Z"
   },
   {
    "duration": 6,
    "start_time": "2023-11-22T18:40:13.488Z"
   },
   {
    "duration": 11,
    "start_time": "2023-11-22T18:40:13.495Z"
   },
   {
    "duration": 5,
    "start_time": "2023-11-22T18:40:13.508Z"
   },
   {
    "duration": 12,
    "start_time": "2023-11-22T18:40:13.515Z"
   },
   {
    "duration": 150,
    "start_time": "2023-11-22T18:40:13.528Z"
   },
   {
    "duration": 332,
    "start_time": "2023-11-22T18:40:13.680Z"
   },
   {
    "duration": 10,
    "start_time": "2023-11-22T18:40:14.013Z"
   },
   {
    "duration": 9,
    "start_time": "2023-11-22T18:40:14.024Z"
   },
   {
    "duration": 19,
    "start_time": "2023-11-22T18:40:14.034Z"
   },
   {
    "duration": 33,
    "start_time": "2023-11-22T18:40:14.055Z"
   },
   {
    "duration": 15,
    "start_time": "2023-11-22T18:40:14.090Z"
   },
   {
    "duration": 28,
    "start_time": "2023-11-22T18:40:14.107Z"
   },
   {
    "duration": 481,
    "start_time": "2023-11-22T18:40:14.137Z"
   },
   {
    "duration": 487,
    "start_time": "2023-11-22T18:40:14.620Z"
   },
   {
    "duration": 26,
    "start_time": "2023-11-22T18:40:15.109Z"
   },
   {
    "duration": 46,
    "start_time": "2023-11-22T18:40:15.137Z"
   },
   {
    "duration": 48,
    "start_time": "2023-11-22T18:40:15.185Z"
   },
   {
    "duration": 229,
    "start_time": "2023-11-22T18:40:15.235Z"
   },
   {
    "duration": 122,
    "start_time": "2023-11-22T18:40:15.467Z"
   },
   {
    "duration": 0,
    "start_time": "2023-11-22T18:40:15.590Z"
   },
   {
    "duration": 0,
    "start_time": "2023-11-22T18:40:15.592Z"
   },
   {
    "duration": 0,
    "start_time": "2023-11-22T18:40:15.593Z"
   },
   {
    "duration": 0,
    "start_time": "2023-11-22T18:40:15.594Z"
   },
   {
    "duration": 0,
    "start_time": "2023-11-22T18:40:15.595Z"
   },
   {
    "duration": 0,
    "start_time": "2023-11-22T18:40:15.596Z"
   },
   {
    "duration": 0,
    "start_time": "2023-11-22T18:40:15.597Z"
   },
   {
    "duration": 3,
    "start_time": "2023-11-22T18:40:59.517Z"
   },
   {
    "duration": 7,
    "start_time": "2023-11-22T18:41:08.888Z"
   },
   {
    "duration": 4,
    "start_time": "2023-11-22T18:41:09.846Z"
   },
   {
    "duration": 5,
    "start_time": "2023-11-22T18:41:25.259Z"
   },
   {
    "duration": 8,
    "start_time": "2023-11-22T18:41:39.030Z"
   },
   {
    "duration": 8,
    "start_time": "2023-11-22T18:41:45.093Z"
   },
   {
    "duration": 7,
    "start_time": "2023-11-22T18:42:09.029Z"
   },
   {
    "duration": 6,
    "start_time": "2023-11-22T18:42:29.706Z"
   },
   {
    "duration": 3,
    "start_time": "2023-11-22T18:42:30.442Z"
   },
   {
    "duration": 12,
    "start_time": "2023-11-22T18:42:50.227Z"
   },
   {
    "duration": 3,
    "start_time": "2023-11-22T18:42:50.399Z"
   },
   {
    "duration": 47,
    "start_time": "2023-12-04T08:22:53.242Z"
   },
   {
    "duration": 1257,
    "start_time": "2023-12-04T08:23:00.693Z"
   },
   {
    "duration": 190,
    "start_time": "2023-12-04T08:23:01.952Z"
   },
   {
    "duration": 11,
    "start_time": "2023-12-04T08:23:02.143Z"
   },
   {
    "duration": 35,
    "start_time": "2023-12-04T08:23:02.155Z"
   },
   {
    "duration": 24,
    "start_time": "2023-12-04T08:23:02.192Z"
   },
   {
    "duration": 24,
    "start_time": "2023-12-04T08:23:02.218Z"
   },
   {
    "duration": 40,
    "start_time": "2023-12-04T08:23:02.243Z"
   },
   {
    "duration": 32,
    "start_time": "2023-12-04T08:23:02.284Z"
   },
   {
    "duration": 33,
    "start_time": "2023-12-04T08:23:02.317Z"
   },
   {
    "duration": 31,
    "start_time": "2023-12-04T08:23:02.351Z"
   },
   {
    "duration": 31,
    "start_time": "2023-12-04T08:23:02.384Z"
   },
   {
    "duration": 39,
    "start_time": "2023-12-04T08:23:02.416Z"
   },
   {
    "duration": 81,
    "start_time": "2023-12-04T08:23:02.456Z"
   },
   {
    "duration": 31,
    "start_time": "2023-12-04T08:23:02.540Z"
   },
   {
    "duration": 27,
    "start_time": "2023-12-04T08:23:02.572Z"
   },
   {
    "duration": 54,
    "start_time": "2023-12-04T08:23:02.600Z"
   },
   {
    "duration": 47,
    "start_time": "2023-12-04T08:23:02.655Z"
   },
   {
    "duration": 167,
    "start_time": "2023-12-04T08:23:02.704Z"
   },
   {
    "duration": 5,
    "start_time": "2023-12-04T08:23:02.873Z"
   },
   {
    "duration": 160,
    "start_time": "2023-12-04T08:23:02.880Z"
   },
   {
    "duration": 7,
    "start_time": "2023-12-04T08:23:03.042Z"
   },
   {
    "duration": 216,
    "start_time": "2023-12-04T08:23:03.050Z"
   },
   {
    "duration": 7,
    "start_time": "2023-12-04T08:23:03.267Z"
   },
   {
    "duration": 115,
    "start_time": "2023-12-04T08:23:03.275Z"
   },
   {
    "duration": 210,
    "start_time": "2023-12-04T08:23:03.392Z"
   },
   {
    "duration": 10,
    "start_time": "2023-12-04T08:23:03.603Z"
   },
   {
    "duration": 36,
    "start_time": "2023-12-04T08:23:03.614Z"
   },
   {
    "duration": 56,
    "start_time": "2023-12-04T08:23:03.651Z"
   },
   {
    "duration": 46,
    "start_time": "2023-12-04T08:23:03.708Z"
   },
   {
    "duration": 103,
    "start_time": "2023-12-04T08:23:03.755Z"
   },
   {
    "duration": 96,
    "start_time": "2023-12-04T08:23:03.859Z"
   },
   {
    "duration": 199,
    "start_time": "2023-12-04T08:23:03.956Z"
   },
   {
    "duration": 15,
    "start_time": "2023-12-04T08:23:04.156Z"
   },
   {
    "duration": 32,
    "start_time": "2023-12-04T08:23:04.172Z"
   },
   {
    "duration": 34,
    "start_time": "2023-12-04T08:23:04.205Z"
   },
   {
    "duration": 31,
    "start_time": "2023-12-04T08:23:04.241Z"
   },
   {
    "duration": 17,
    "start_time": "2023-12-04T08:23:04.273Z"
   },
   {
    "duration": 44,
    "start_time": "2023-12-04T08:23:04.291Z"
   },
   {
    "duration": 402,
    "start_time": "2023-12-04T08:23:04.336Z"
   },
   {
    "duration": 362,
    "start_time": "2023-12-04T08:23:04.740Z"
   },
   {
    "duration": 22,
    "start_time": "2023-12-04T08:23:05.105Z"
   },
   {
    "duration": 16,
    "start_time": "2023-12-04T08:23:05.128Z"
   },
   {
    "duration": 62,
    "start_time": "2023-12-04T08:23:05.145Z"
   },
   {
    "duration": 245,
    "start_time": "2023-12-04T08:23:05.208Z"
   },
   {
    "duration": 3,
    "start_time": "2023-12-04T08:23:05.455Z"
   },
   {
    "duration": 321,
    "start_time": "2023-12-04T08:23:05.460Z"
   },
   {
    "duration": 27,
    "start_time": "2023-12-04T08:23:05.782Z"
   },
   {
    "duration": 33,
    "start_time": "2023-12-04T08:23:05.810Z"
   },
   {
    "duration": 30,
    "start_time": "2023-12-04T08:23:05.844Z"
   },
   {
    "duration": 38,
    "start_time": "2023-12-04T08:23:05.875Z"
   },
   {
    "duration": 23,
    "start_time": "2023-12-04T08:23:05.914Z"
   },
   {
    "duration": 5,
    "start_time": "2023-12-04T08:24:44.040Z"
   },
   {
    "duration": 65,
    "start_time": "2023-12-04T08:29:50.640Z"
   },
   {
    "duration": 9,
    "start_time": "2023-12-04T08:29:51.908Z"
   },
   {
    "duration": 9,
    "start_time": "2023-12-04T08:29:52.468Z"
   },
   {
    "duration": 11,
    "start_time": "2023-12-04T08:29:55.215Z"
   },
   {
    "duration": 5,
    "start_time": "2023-12-04T08:29:56.094Z"
   },
   {
    "duration": 3,
    "start_time": "2023-12-04T08:31:28.841Z"
   },
   {
    "duration": 66,
    "start_time": "2023-12-04T08:31:28.846Z"
   },
   {
    "duration": 9,
    "start_time": "2023-12-04T08:31:28.913Z"
   },
   {
    "duration": 30,
    "start_time": "2023-12-04T08:31:28.923Z"
   },
   {
    "duration": 23,
    "start_time": "2023-12-04T08:31:28.955Z"
   },
   {
    "duration": 17,
    "start_time": "2023-12-04T08:31:28.979Z"
   },
   {
    "duration": 24,
    "start_time": "2023-12-04T08:31:28.998Z"
   },
   {
    "duration": 27,
    "start_time": "2023-12-04T08:31:29.023Z"
   },
   {
    "duration": 20,
    "start_time": "2023-12-04T08:31:29.052Z"
   },
   {
    "duration": 10,
    "start_time": "2023-12-04T08:31:29.073Z"
   },
   {
    "duration": 31,
    "start_time": "2023-12-04T08:31:29.085Z"
   },
   {
    "duration": 9,
    "start_time": "2023-12-04T08:31:29.118Z"
   },
   {
    "duration": 5,
    "start_time": "2023-12-04T08:31:29.128Z"
   },
   {
    "duration": 7,
    "start_time": "2023-12-04T08:31:29.135Z"
   },
   {
    "duration": 13,
    "start_time": "2023-12-04T08:31:29.143Z"
   },
   {
    "duration": 17,
    "start_time": "2023-12-04T08:31:29.157Z"
   },
   {
    "duration": 29,
    "start_time": "2023-12-04T08:31:29.175Z"
   },
   {
    "duration": 9,
    "start_time": "2023-12-04T08:31:29.206Z"
   },
   {
    "duration": 142,
    "start_time": "2023-12-04T08:31:29.216Z"
   },
   {
    "duration": 10,
    "start_time": "2023-12-04T08:31:29.359Z"
   },
   {
    "duration": 133,
    "start_time": "2023-12-04T08:31:29.371Z"
   },
   {
    "duration": 6,
    "start_time": "2023-12-04T08:31:29.506Z"
   },
   {
    "duration": 240,
    "start_time": "2023-12-04T08:31:29.514Z"
   },
   {
    "duration": 14,
    "start_time": "2023-12-04T08:31:29.756Z"
   },
   {
    "duration": 132,
    "start_time": "2023-12-04T08:31:29.771Z"
   },
   {
    "duration": 216,
    "start_time": "2023-12-04T08:31:29.905Z"
   },
   {
    "duration": 9,
    "start_time": "2023-12-04T08:31:30.122Z"
   },
   {
    "duration": 17,
    "start_time": "2023-12-04T08:31:30.133Z"
   },
   {
    "duration": 30,
    "start_time": "2023-12-04T08:31:30.151Z"
   },
   {
    "duration": 33,
    "start_time": "2023-12-04T08:31:30.183Z"
   },
   {
    "duration": 13,
    "start_time": "2023-12-04T08:31:30.218Z"
   },
   {
    "duration": 103,
    "start_time": "2023-12-04T08:31:30.232Z"
   },
   {
    "duration": 207,
    "start_time": "2023-12-04T08:31:30.336Z"
   },
   {
    "duration": 9,
    "start_time": "2023-12-04T08:31:30.545Z"
   },
   {
    "duration": 46,
    "start_time": "2023-12-04T08:31:30.556Z"
   },
   {
    "duration": 57,
    "start_time": "2023-12-04T08:31:30.603Z"
   },
   {
    "duration": 20,
    "start_time": "2023-12-04T08:31:30.662Z"
   },
   {
    "duration": 47,
    "start_time": "2023-12-04T08:31:30.683Z"
   },
   {
    "duration": 38,
    "start_time": "2023-12-04T08:31:30.731Z"
   },
   {
    "duration": 443,
    "start_time": "2023-12-04T08:31:30.770Z"
   },
   {
    "duration": 379,
    "start_time": "2023-12-04T08:31:31.217Z"
   },
   {
    "duration": 23,
    "start_time": "2023-12-04T08:31:31.598Z"
   },
   {
    "duration": 140,
    "start_time": "2023-12-04T08:31:31.623Z"
   },
   {
    "duration": 75,
    "start_time": "2023-12-04T08:31:31.765Z"
   },
   {
    "duration": 411,
    "start_time": "2023-12-04T08:31:31.842Z"
   },
   {
    "duration": 373,
    "start_time": "2023-12-04T08:31:32.254Z"
   },
   {
    "duration": 45,
    "start_time": "2023-12-04T08:31:32.628Z"
   },
   {
    "duration": 20,
    "start_time": "2023-12-04T08:31:32.674Z"
   },
   {
    "duration": 30,
    "start_time": "2023-12-04T08:31:32.695Z"
   },
   {
    "duration": 16,
    "start_time": "2023-12-04T08:31:32.726Z"
   },
   {
    "duration": 17,
    "start_time": "2023-12-04T08:31:32.743Z"
   },
   {
    "duration": 7,
    "start_time": "2023-12-04T08:31:32.762Z"
   },
   {
    "duration": 7,
    "start_time": "2023-12-04T08:34:38.983Z"
   },
   {
    "duration": 7,
    "start_time": "2023-12-04T08:34:55.593Z"
   },
   {
    "duration": 3,
    "start_time": "2023-12-04T08:35:12.842Z"
   },
   {
    "duration": 96,
    "start_time": "2023-12-04T08:35:12.847Z"
   },
   {
    "duration": 10,
    "start_time": "2023-12-04T08:35:12.945Z"
   },
   {
    "duration": 26,
    "start_time": "2023-12-04T08:35:12.956Z"
   },
   {
    "duration": 9,
    "start_time": "2023-12-04T08:35:12.984Z"
   },
   {
    "duration": 26,
    "start_time": "2023-12-04T08:35:12.995Z"
   },
   {
    "duration": 18,
    "start_time": "2023-12-04T08:35:13.022Z"
   },
   {
    "duration": 27,
    "start_time": "2023-12-04T08:35:13.041Z"
   },
   {
    "duration": 33,
    "start_time": "2023-12-04T08:35:13.069Z"
   },
   {
    "duration": 27,
    "start_time": "2023-12-04T08:35:13.103Z"
   },
   {
    "duration": 25,
    "start_time": "2023-12-04T08:35:13.131Z"
   },
   {
    "duration": 10,
    "start_time": "2023-12-04T08:35:13.157Z"
   },
   {
    "duration": 22,
    "start_time": "2023-12-04T08:35:13.169Z"
   },
   {
    "duration": 5,
    "start_time": "2023-12-04T08:35:13.195Z"
   },
   {
    "duration": 14,
    "start_time": "2023-12-04T08:35:13.201Z"
   },
   {
    "duration": 25,
    "start_time": "2023-12-04T08:35:13.216Z"
   },
   {
    "duration": 9,
    "start_time": "2023-12-04T08:35:13.243Z"
   },
   {
    "duration": 23,
    "start_time": "2023-12-04T08:35:13.253Z"
   },
   {
    "duration": 130,
    "start_time": "2023-12-04T08:35:13.278Z"
   },
   {
    "duration": 5,
    "start_time": "2023-12-04T08:35:13.410Z"
   },
   {
    "duration": 78,
    "start_time": "2023-12-04T08:35:13.416Z"
   },
   {
    "duration": 7,
    "start_time": "2023-12-04T08:35:13.495Z"
   },
   {
    "duration": 211,
    "start_time": "2023-12-04T08:35:13.503Z"
   },
   {
    "duration": 7,
    "start_time": "2023-12-04T08:35:13.716Z"
   },
   {
    "duration": 107,
    "start_time": "2023-12-04T08:35:13.724Z"
   },
   {
    "duration": 285,
    "start_time": "2023-12-04T08:35:13.833Z"
   },
   {
    "duration": 10,
    "start_time": "2023-12-04T08:35:14.120Z"
   },
   {
    "duration": 14,
    "start_time": "2023-12-04T08:35:14.131Z"
   },
   {
    "duration": 8,
    "start_time": "2023-12-04T08:35:14.147Z"
   },
   {
    "duration": 16,
    "start_time": "2023-12-04T08:35:14.156Z"
   },
   {
    "duration": 21,
    "start_time": "2023-12-04T08:35:14.174Z"
   },
   {
    "duration": 108,
    "start_time": "2023-12-04T08:35:14.196Z"
   },
   {
    "duration": 208,
    "start_time": "2023-12-04T08:35:14.306Z"
   },
   {
    "duration": 10,
    "start_time": "2023-12-04T08:35:14.515Z"
   },
   {
    "duration": 12,
    "start_time": "2023-12-04T08:35:14.526Z"
   },
   {
    "duration": 16,
    "start_time": "2023-12-04T08:35:14.539Z"
   },
   {
    "duration": 21,
    "start_time": "2023-12-04T08:35:14.556Z"
   },
   {
    "duration": 11,
    "start_time": "2023-12-04T08:35:14.579Z"
   },
   {
    "duration": 11,
    "start_time": "2023-12-04T08:35:14.591Z"
   },
   {
    "duration": 377,
    "start_time": "2023-12-04T08:35:14.603Z"
   },
   {
    "duration": 363,
    "start_time": "2023-12-04T08:35:14.983Z"
   },
   {
    "duration": 27,
    "start_time": "2023-12-04T08:35:15.347Z"
   },
   {
    "duration": 12,
    "start_time": "2023-12-04T08:35:15.376Z"
   },
   {
    "duration": 5,
    "start_time": "2023-12-04T08:35:15.389Z"
   },
   {
    "duration": 299,
    "start_time": "2023-12-04T08:35:15.395Z"
   },
   {
    "duration": 2,
    "start_time": "2023-12-04T08:35:15.696Z"
   },
   {
    "duration": 42,
    "start_time": "2023-12-04T08:35:15.700Z"
   },
   {
    "duration": 14,
    "start_time": "2023-12-04T08:35:15.743Z"
   },
   {
    "duration": 16,
    "start_time": "2023-12-04T08:35:15.758Z"
   },
   {
    "duration": 27,
    "start_time": "2023-12-04T08:35:15.775Z"
   },
   {
    "duration": 42,
    "start_time": "2023-12-04T08:35:15.803Z"
   },
   {
    "duration": 22,
    "start_time": "2023-12-04T08:35:15.846Z"
   },
   {
    "duration": 9,
    "start_time": "2023-12-04T08:36:13.625Z"
   },
   {
    "duration": 10,
    "start_time": "2023-12-04T08:36:48.272Z"
   },
   {
    "duration": 8,
    "start_time": "2023-12-04T08:37:14.910Z"
   },
   {
    "duration": 2,
    "start_time": "2023-12-04T08:38:12.957Z"
   },
   {
    "duration": 100,
    "start_time": "2023-12-04T08:38:12.961Z"
   },
   {
    "duration": 9,
    "start_time": "2023-12-04T08:38:13.062Z"
   },
   {
    "duration": 23,
    "start_time": "2023-12-04T08:38:13.072Z"
   },
   {
    "duration": 17,
    "start_time": "2023-12-04T08:38:13.097Z"
   },
   {
    "duration": 21,
    "start_time": "2023-12-04T08:38:13.116Z"
   },
   {
    "duration": 23,
    "start_time": "2023-12-04T08:38:13.138Z"
   },
   {
    "duration": 28,
    "start_time": "2023-12-04T08:38:13.162Z"
   },
   {
    "duration": 22,
    "start_time": "2023-12-04T08:38:13.191Z"
   },
   {
    "duration": 33,
    "start_time": "2023-12-04T08:38:13.215Z"
   },
   {
    "duration": 20,
    "start_time": "2023-12-04T08:38:13.249Z"
   },
   {
    "duration": 62,
    "start_time": "2023-12-04T08:38:13.270Z"
   },
   {
    "duration": 52,
    "start_time": "2023-12-04T08:38:13.334Z"
   },
   {
    "duration": 16,
    "start_time": "2023-12-04T08:38:13.389Z"
   },
   {
    "duration": 39,
    "start_time": "2023-12-04T08:38:13.407Z"
   },
   {
    "duration": 85,
    "start_time": "2023-12-04T08:38:13.447Z"
   },
   {
    "duration": 0,
    "start_time": "2023-12-04T08:38:13.534Z"
   },
   {
    "duration": 0,
    "start_time": "2023-12-04T08:38:13.535Z"
   },
   {
    "duration": 0,
    "start_time": "2023-12-04T08:38:13.536Z"
   },
   {
    "duration": 0,
    "start_time": "2023-12-04T08:38:13.537Z"
   },
   {
    "duration": 0,
    "start_time": "2023-12-04T08:38:13.538Z"
   },
   {
    "duration": 0,
    "start_time": "2023-12-04T08:38:13.539Z"
   },
   {
    "duration": 0,
    "start_time": "2023-12-04T08:38:13.540Z"
   },
   {
    "duration": 0,
    "start_time": "2023-12-04T08:38:13.541Z"
   },
   {
    "duration": 0,
    "start_time": "2023-12-04T08:38:13.542Z"
   },
   {
    "duration": 0,
    "start_time": "2023-12-04T08:38:13.543Z"
   },
   {
    "duration": 0,
    "start_time": "2023-12-04T08:38:13.543Z"
   },
   {
    "duration": 0,
    "start_time": "2023-12-04T08:38:13.544Z"
   },
   {
    "duration": 0,
    "start_time": "2023-12-04T08:38:13.545Z"
   },
   {
    "duration": 0,
    "start_time": "2023-12-04T08:38:13.546Z"
   },
   {
    "duration": 0,
    "start_time": "2023-12-04T08:38:13.546Z"
   },
   {
    "duration": 0,
    "start_time": "2023-12-04T08:38:13.547Z"
   },
   {
    "duration": 0,
    "start_time": "2023-12-04T08:38:13.570Z"
   },
   {
    "duration": 0,
    "start_time": "2023-12-04T08:38:13.571Z"
   },
   {
    "duration": 0,
    "start_time": "2023-12-04T08:38:13.572Z"
   },
   {
    "duration": 0,
    "start_time": "2023-12-04T08:38:13.573Z"
   },
   {
    "duration": 0,
    "start_time": "2023-12-04T08:38:13.574Z"
   },
   {
    "duration": 0,
    "start_time": "2023-12-04T08:38:13.575Z"
   },
   {
    "duration": 0,
    "start_time": "2023-12-04T08:38:13.576Z"
   },
   {
    "duration": 0,
    "start_time": "2023-12-04T08:38:13.577Z"
   },
   {
    "duration": 0,
    "start_time": "2023-12-04T08:38:13.578Z"
   },
   {
    "duration": 0,
    "start_time": "2023-12-04T08:38:13.579Z"
   },
   {
    "duration": 0,
    "start_time": "2023-12-04T08:38:13.580Z"
   },
   {
    "duration": 0,
    "start_time": "2023-12-04T08:38:13.580Z"
   },
   {
    "duration": 0,
    "start_time": "2023-12-04T08:38:13.581Z"
   },
   {
    "duration": 0,
    "start_time": "2023-12-04T08:38:13.583Z"
   },
   {
    "duration": 0,
    "start_time": "2023-12-04T08:38:13.584Z"
   },
   {
    "duration": 0,
    "start_time": "2023-12-04T08:38:13.584Z"
   },
   {
    "duration": 0,
    "start_time": "2023-12-04T08:38:13.585Z"
   },
   {
    "duration": 0,
    "start_time": "2023-12-04T08:38:13.586Z"
   },
   {
    "duration": 0,
    "start_time": "2023-12-04T08:38:13.587Z"
   },
   {
    "duration": 67,
    "start_time": "2023-12-04T08:39:39.277Z"
   },
   {
    "duration": 3,
    "start_time": "2023-12-04T08:39:43.470Z"
   },
   {
    "duration": 78,
    "start_time": "2023-12-04T08:39:43.475Z"
   },
   {
    "duration": 9,
    "start_time": "2023-12-04T08:39:43.554Z"
   },
   {
    "duration": 13,
    "start_time": "2023-12-04T08:39:43.564Z"
   },
   {
    "duration": 10,
    "start_time": "2023-12-04T08:39:43.579Z"
   },
   {
    "duration": 4,
    "start_time": "2023-12-04T08:39:43.590Z"
   },
   {
    "duration": 8,
    "start_time": "2023-12-04T08:39:43.595Z"
   },
   {
    "duration": 18,
    "start_time": "2023-12-04T08:39:43.604Z"
   },
   {
    "duration": 19,
    "start_time": "2023-12-04T08:39:43.623Z"
   },
   {
    "duration": 8,
    "start_time": "2023-12-04T08:39:43.643Z"
   },
   {
    "duration": 10,
    "start_time": "2023-12-04T08:39:43.653Z"
   },
   {
    "duration": 14,
    "start_time": "2023-12-04T08:39:43.664Z"
   },
   {
    "duration": 5,
    "start_time": "2023-12-04T08:39:43.679Z"
   },
   {
    "duration": 5,
    "start_time": "2023-12-04T08:39:43.687Z"
   },
   {
    "duration": 6,
    "start_time": "2023-12-04T08:39:43.693Z"
   },
   {
    "duration": 8,
    "start_time": "2023-12-04T08:39:43.700Z"
   },
   {
    "duration": 34,
    "start_time": "2023-12-04T08:39:43.710Z"
   },
   {
    "duration": 140,
    "start_time": "2023-12-04T08:39:43.745Z"
   },
   {
    "duration": 5,
    "start_time": "2023-12-04T08:39:43.886Z"
   },
   {
    "duration": 82,
    "start_time": "2023-12-04T08:39:43.893Z"
   },
   {
    "duration": 6,
    "start_time": "2023-12-04T08:39:43.977Z"
   },
   {
    "duration": 217,
    "start_time": "2023-12-04T08:39:43.985Z"
   },
   {
    "duration": 7,
    "start_time": "2023-12-04T08:39:44.203Z"
   },
   {
    "duration": 111,
    "start_time": "2023-12-04T08:39:44.212Z"
   },
   {
    "duration": 218,
    "start_time": "2023-12-04T08:39:44.324Z"
   },
   {
    "duration": 10,
    "start_time": "2023-12-04T08:39:44.544Z"
   },
   {
    "duration": 38,
    "start_time": "2023-12-04T08:39:44.555Z"
   },
   {
    "duration": 40,
    "start_time": "2023-12-04T08:39:44.594Z"
   },
   {
    "duration": 22,
    "start_time": "2023-12-04T08:39:44.635Z"
   },
   {
    "duration": 6,
    "start_time": "2023-12-04T08:39:44.659Z"
   },
   {
    "duration": 98,
    "start_time": "2023-12-04T08:39:44.666Z"
   },
   {
    "duration": 221,
    "start_time": "2023-12-04T08:39:44.769Z"
   },
   {
    "duration": 9,
    "start_time": "2023-12-04T08:39:44.992Z"
   },
   {
    "duration": 68,
    "start_time": "2023-12-04T08:39:45.003Z"
   },
   {
    "duration": 48,
    "start_time": "2023-12-04T08:39:45.073Z"
   },
   {
    "duration": 25,
    "start_time": "2023-12-04T08:39:45.123Z"
   },
   {
    "duration": 27,
    "start_time": "2023-12-04T08:39:45.150Z"
   },
   {
    "duration": 11,
    "start_time": "2023-12-04T08:39:45.178Z"
   },
   {
    "duration": 435,
    "start_time": "2023-12-04T08:39:45.190Z"
   },
   {
    "duration": 375,
    "start_time": "2023-12-04T08:39:45.626Z"
   },
   {
    "duration": 21,
    "start_time": "2023-12-04T08:39:46.004Z"
   },
   {
    "duration": 20,
    "start_time": "2023-12-04T08:39:46.027Z"
   },
   {
    "duration": 7,
    "start_time": "2023-12-04T08:39:46.049Z"
   },
   {
    "duration": 211,
    "start_time": "2023-12-04T08:39:46.058Z"
   },
   {
    "duration": 3,
    "start_time": "2023-12-04T08:39:46.270Z"
   },
   {
    "duration": 8,
    "start_time": "2023-12-04T08:39:46.274Z"
   },
   {
    "duration": 3,
    "start_time": "2023-12-04T08:39:46.284Z"
   },
   {
    "duration": 13,
    "start_time": "2023-12-04T08:39:46.288Z"
   },
   {
    "duration": 4,
    "start_time": "2023-12-04T08:39:46.302Z"
   },
   {
    "duration": 13,
    "start_time": "2023-12-04T08:39:46.307Z"
   },
   {
    "duration": 8,
    "start_time": "2023-12-04T08:39:46.321Z"
   },
   {
    "duration": 5,
    "start_time": "2023-12-04T08:44:35.474Z"
   },
   {
    "duration": 11,
    "start_time": "2023-12-04T08:48:21.060Z"
   },
   {
    "duration": 11,
    "start_time": "2023-12-04T08:49:32.233Z"
   },
   {
    "duration": 8,
    "start_time": "2023-12-04T08:49:59.843Z"
   },
   {
    "duration": 3,
    "start_time": "2023-12-04T08:50:06.528Z"
   },
   {
    "duration": 3,
    "start_time": "2023-12-04T08:51:06.140Z"
   },
   {
    "duration": 1050,
    "start_time": "2023-12-04T18:33:43.862Z"
   },
   {
    "duration": 69,
    "start_time": "2023-12-04T18:33:44.913Z"
   },
   {
    "duration": 10,
    "start_time": "2023-12-04T18:33:44.983Z"
   },
   {
    "duration": 13,
    "start_time": "2023-12-04T18:33:44.994Z"
   },
   {
    "duration": 65,
    "start_time": "2023-12-04T18:33:45.009Z"
   },
   {
    "duration": 42,
    "start_time": "2023-12-04T18:33:45.076Z"
   },
   {
    "duration": 11,
    "start_time": "2023-12-04T18:33:45.119Z"
   },
   {
    "duration": 21,
    "start_time": "2023-12-04T18:33:45.132Z"
   },
   {
    "duration": 51,
    "start_time": "2023-12-04T18:33:45.154Z"
   },
   {
    "duration": 20,
    "start_time": "2023-12-04T18:33:45.206Z"
   },
   {
    "duration": 14,
    "start_time": "2023-12-04T18:33:45.228Z"
   },
   {
    "duration": 5,
    "start_time": "2023-12-04T18:33:45.243Z"
   },
   {
    "duration": 7,
    "start_time": "2023-12-04T18:33:45.249Z"
   },
   {
    "duration": 4,
    "start_time": "2023-12-04T18:33:45.258Z"
   },
   {
    "duration": 6,
    "start_time": "2023-12-04T18:33:45.263Z"
   },
   {
    "duration": 17,
    "start_time": "2023-12-04T18:33:45.271Z"
   },
   {
    "duration": 48,
    "start_time": "2023-12-04T18:33:45.289Z"
   },
   {
    "duration": 204,
    "start_time": "2023-12-04T18:33:45.338Z"
   },
   {
    "duration": 5,
    "start_time": "2023-12-04T18:33:45.543Z"
   },
   {
    "duration": 86,
    "start_time": "2023-12-04T18:33:45.550Z"
   },
   {
    "duration": 6,
    "start_time": "2023-12-04T18:33:45.638Z"
   },
   {
    "duration": 235,
    "start_time": "2023-12-04T18:33:45.645Z"
   },
   {
    "duration": 7,
    "start_time": "2023-12-04T18:33:45.881Z"
   },
   {
    "duration": 104,
    "start_time": "2023-12-04T18:33:45.889Z"
   },
   {
    "duration": 199,
    "start_time": "2023-12-04T18:33:45.994Z"
   },
   {
    "duration": 10,
    "start_time": "2023-12-04T18:33:46.194Z"
   },
   {
    "duration": 8,
    "start_time": "2023-12-04T18:33:46.205Z"
   },
   {
    "duration": 9,
    "start_time": "2023-12-04T18:33:46.215Z"
   },
   {
    "duration": 5,
    "start_time": "2023-12-04T18:33:46.225Z"
   },
   {
    "duration": 6,
    "start_time": "2023-12-04T18:33:46.231Z"
   },
   {
    "duration": 113,
    "start_time": "2023-12-04T18:33:46.238Z"
   },
   {
    "duration": 249,
    "start_time": "2023-12-04T18:33:46.353Z"
   },
   {
    "duration": 8,
    "start_time": "2023-12-04T18:33:46.604Z"
   },
   {
    "duration": 7,
    "start_time": "2023-12-04T18:33:46.614Z"
   },
   {
    "duration": 12,
    "start_time": "2023-12-04T18:33:46.622Z"
   },
   {
    "duration": 3,
    "start_time": "2023-12-04T18:33:46.635Z"
   },
   {
    "duration": 11,
    "start_time": "2023-12-04T18:33:46.639Z"
   },
   {
    "duration": 10,
    "start_time": "2023-12-04T18:33:46.670Z"
   },
   {
    "duration": 354,
    "start_time": "2023-12-04T18:33:46.682Z"
   },
   {
    "duration": 341,
    "start_time": "2023-12-04T18:33:47.037Z"
   },
   {
    "duration": 21,
    "start_time": "2023-12-04T18:33:47.381Z"
   },
   {
    "duration": 11,
    "start_time": "2023-12-04T18:33:47.404Z"
   },
   {
    "duration": 2,
    "start_time": "2023-12-04T18:33:47.416Z"
   },
   {
    "duration": 187,
    "start_time": "2023-12-04T18:33:47.420Z"
   },
   {
    "duration": 2,
    "start_time": "2023-12-04T18:33:47.609Z"
   },
   {
    "duration": 7,
    "start_time": "2023-12-04T18:33:47.613Z"
   },
   {
    "duration": 3,
    "start_time": "2023-12-04T18:33:47.621Z"
   },
   {
    "duration": 5,
    "start_time": "2023-12-04T18:33:47.625Z"
   },
   {
    "duration": 9,
    "start_time": "2023-12-04T18:33:47.631Z"
   },
   {
    "duration": 28,
    "start_time": "2023-12-04T18:33:47.642Z"
   },
   {
    "duration": 3,
    "start_time": "2023-12-04T18:33:47.672Z"
   }
  ],
  "kernelspec": {
   "display_name": "Python 3 (ipykernel)",
   "language": "python",
   "name": "python3"
  },
  "language_info": {
   "codemirror_mode": {
    "name": "ipython",
    "version": 3
   },
   "file_extension": ".py",
   "mimetype": "text/x-python",
   "name": "python",
   "nbconvert_exporter": "python",
   "pygments_lexer": "ipython3",
   "version": "3.12.4"
  },
  "toc": {
   "base_numbering": 1,
   "nav_menu": {},
   "number_sections": true,
   "sideBar": true,
   "skip_h1_title": true,
   "title_cell": "Содержание",
   "title_sidebar": "Contents",
   "toc_cell": true,
   "toc_position": {},
   "toc_section_display": true,
   "toc_window_display": false
  }
 },
 "nbformat": 4,
 "nbformat_minor": 5
}
